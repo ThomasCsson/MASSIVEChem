{
 "cells": [
  {
   "cell_type": "markdown",
   "metadata": {},
   "source": [
    "<div style=\"\n",
    "    display: flex;\n",
    "    justify-content: center;\n",
    "    align-items: center;\n",
    "    height: 100px;\n",
    "    border: 4px solid #32CD32;\n",
    "    border-radius: 15px;\n",
    "    background-color: #000000;\n",
    "    box-shadow: 0 4px 8px 0 rgba(255, 215, 0, 0.2);\n",
    "    margin: 20px;\n",
    "\">\n",
    "    <h1 style=\"\n",
    "        color: #32CD32;\n",
    "        font-family: 'Nexa','', ;\n",
    "        font-size: 52px;\n",
    "        text-shadow: 2px 2px 4px #32CD32;\n",
    "    \">\n",
    "        MASSIVEChem \n",
    "    </h1>\n",
    "</div>\n",
    "\n",
    "## Introduction\n",
    "The following Jupyter notebook briefly presents MASSIVEChem, a pip-installable python package. This package is developped around mass spectrometry, a tool commonly used in analytical chemistry, biochemistry, pharmaceutical sciences and more. Fundamentally, this package simulates and plots the mass spectrum of a given molecule, with a chosen resolution and with a chosen precision. \n",
    "\n",
    "This package was created as a collaborative project for the EPFL course Practical programming in chemistry [![GitHub3](https://img.shields.io/badge/EPFL-CH200-red.svg)](https://edu.epfl.ch/studyplan/en/bachelor/chemistry-and-chemical-engineering/coursebook/practical-programming-in-chemistry-CH-200)\n",
    "\n",
    "Before going through the code and the use of the package, let's briefly discuss the ideas that led to the building this package\n",
    "\n",
    "## Ideas\n",
    "\n",
    "Initially, the plan for this project was to write a code that would predict the NMR spectrum of an input molecule. 3 weeks were spent trying to figure out a way to analyze molecules, to find functional groups, and to predict the shift of the hydrogens in a molecule. As we began tring to write the code, it became apparent to us that this project was beyond the scope of our abilities as it would most likely require the use of machine learning, a concept that none of us were familiar with. \n",
    "\n",
    "Still wanting to create a package that would display some type of visual information from a molecule, our minds collectively turned towards mass spectrometry. Being familiar with the theoretical concepts behind this analytical method, having followed a course on mass spectrometry in first year and having briefly revisited the topic in our second-year electromagnetics course, we were more confident in our abilities regarding this idea.\n",
    "\n",
    "The concept of mass spectrometry consists of ionizing a molecule and passing this molecule in a strong magnetic field. Thanks to the Lorentz force, the molecule is deviated as a function of its mass which allows to separate the different isotopes present in a sample. By  putting a detector at the end, it is possible to determine which molecule was put in the mass spectrometer.\n",
    "\n",
    "\n",
    "\n",
    "Coding wise, simulating the mass spectrum was done by using list comprehension and combinatorics. This involves a systematic breakdown of the process into discrete steps\n",
    "\n",
    "- Molecule Definition: First the molecule to be analysed needs to be defined, specifying its constituant atoms and their relative abundances. Any molecule can be represented as a data structure (a list) containing its atoms and their relative abundances.\n",
    "\n",
    "- Fragmentation Simulation: Then, the fragmentation process needs to be simulated. This step involves generating all possible combinations of masses for each atom using the algorithm of probability trees. \n",
    "\n",
    "- Mass Calculation: The Mass of each fragment is calculated by summing the masses of the constituant atoms. This step ensures that each fragment is assigned an accurate mass value based on its atomic composition.\n",
    "\n",
    "- Combination of Fragments: At the end of the mass calculation process, all fragments are combined into a single list and the fragments with identical masses are combined. This aggregated list represents the collective set of fragments resulting from the analysed molecule.\n",
    "\n",
    "- Mass Spectrum Simulation: This step involves calculating the abundance of each possible molecule considering the relative abundances of each of the atoms within. \n",
    "\n",
    "- Visualization: The mass spectrum can then be plotted using a plotting package. In our case, bokeh was chosen.\n",
    "\n",
    "Once the spectrum was simulated, we thought of different features to add to the spectrum to facilitate its comprehensiveness and its readibility. First we added an image of the molecule using inbuilt RDkit functions. Then we developped a function to recognise the functional groups present in the molecule, as well as a function to show them. To make the spectrum more interactive, we added a second plot which allows to see where the user is zooming in on the principal graph. Finally, it was decided to add a function to show an interactive 3D graph of the molecule using xyz2graph package.\n",
    "\n",
    "\n",
    "## Difficulties\n",
    "\n",
    "Once we had written the code that would do the actual computation of the different combinations of isotopes that can compose the molecule (with their relative probabilities of existing), it became noticeable that the time complexity of the algorithm was subpar (being of roughly $2^n$ with n being the number of atoms in the molecule; the code would take ~30s to run for pentane). To remedy this fact, a part of code was implemented that would disregard any molecule with a probability of under $10^{-6}$ of existing (this reduced the time complexity form $2^n$ to roughly n).\n",
    "\n",
    "Another difficulty encountered was importing data. The initial project included a data folder for importing the abundances of the various isotopes. Unfortunately, when the package was exported via PyPi, the files inside the aforementioned folder were not included. Once installed, the package could not read the data files required for the package to function correctly.\n",
    "Despite various attempts to include these data files in the package, we had to come up with another solution that did not use this folder. As the initial code used the path to this folder to read the isotope abundances, we had to modify the code written so far to integrate the data directly without using an external file. This can be seen at the beginning of the spectrum function. \n",
    "In the end, the problem was solved, although this required some 70 extra lines of code, whereas one would normally have sufficed. \n",
    "\n",
    "Finding a good tool to create the mass spectrum graph was also a challenge. Various tools such as matplotlib or plotly can be used to create good quality graphs, but none of them met the three criteria we wanted: precision, interactivity and aesthetics. So we had to explore tools that allowed us to do this, and we chose to use Bokeh. It allowed us to generate graphs as we wanted them and with excellent quality. None of us had used it before, so we had to do a lot of research to learn how to use it correctly and effectively.\n",
    "\n",
    "Another difficulty arose directly from the SMILES, which we used to detect the different functional groups present. We had to create a code that differentiated between the groups, using SMARTS in particular, which enabled us to specify the differences and in particular the bonds.\n",
    "Take an ester, for example. The system detects a carboxylic acid when it's not one so we had to specify this using the following SMARTS \"CC(=O)[Oh0]\". Which specifies that the oxygen does not have a bond with a hydrogen.\n",
    "All the different smarts used are present in the function \"functional_group_display\" in the scripts folder. \n",
    "\n",
    "## Limitations\n",
    "\n",
    "The complete package does, however, have a few limitations. \n",
    "Firstly, pure elements and other molecules such as proteins and polysaccharides do not have their own SMILES. It is therefore impossible to visualise their mass spectra using this package. \n",
    "However, we believe that it would be possible to implement these molecules without SMILES using other encoding methods.\n",
    "\n",
    "The second is obviously time. The more complex the molecule, the more atoms it contains, the longer it will take to run the programme. \n",
    "\n",
    "*Example* : \n",
    "spectrum(mol_smi, imprecision_True_False, apparatus_resolution)\n",
    "\n",
    "1) If imprecision_True_False = True, we have a complexity of $n$\n",
    "2) If imprecision_True_False = False, we have a complexity of $2^{n}$ \n",
    "\n",
    "Where n = number of atoms in the molecule"
   ]
  },
  {
   "cell_type": "markdown",
   "metadata": {},
   "source": [
    "## Usage"
   ]
  },
  {
   "cell_type": "markdown",
   "metadata": {},
   "source": [
    "Once the package is installed following the README, a whole set of functions will be imported.\n",
    "For example, to use the function that takes a molecule under SMILEs representation, a precision boolean and an apparatus resolution as inputs, and outputs the spectrum, one has to do the following:"
   ]
  },
  {
   "cell_type": "code",
   "execution_count": null,
   "metadata": {},
   "outputs": [],
   "source": [
    "import MASSiveChem.MASSiveChem as MC\n",
    "from bokeh.plotting import show, output_notebook\n",
    "output_notebook()\n",
    "show(MC.spectrum('CC1(C(N2C(S1)C(C2=O)NC(=O)CC3=CC=CC=C3)C(=O)O)C', True, 0.01))"
   ]
  },
  {
   "cell_type": "markdown",
   "metadata": {},
   "source": [
    "Note: the second argument here being True indicates that the function will neglect any ions which have a probability of apparation under 0.00001"
   ]
  },
  {
   "cell_type": "markdown",
   "metadata": {},
   "source": [
    "## Examples of functions and their respective inputs and outputs\n",
    "First, here is a list of the functions that come with the package: \n",
    "\n",
    "## Basic functions\n",
    "- calculate_unsaturation(mol_smi)->unsaturation\n",
    "\n",
    "- SMILEs_interpreter(mol_smi)->mol\n",
    "\n",
    "- molecule_list_generator(mol)->list_atoms\n",
    "\n",
    "- ionisation_method(list_atoms)->list_atoms\n",
    "\n",
    "- sulphur_nitrogen_finder(list_atoms)->has_N, has_S, count_N, count_S\n",
    "\n",
    "- main_function(list_atoms, imprecision_True_false)->list_masses, list_abundances\n",
    "\n",
    "- peak_merger(list_ions, list_abundances)->list_masses, list_abundances\n",
    "\n",
    "- sulphur_nitrogen_adder(list_ions, list_abundances, has_N, has_S, count_N, count_S)->list_masses, list_abundances\n",
    "\n",
    "- peak_sorter(list_masses, list_abundances)->list_masses, list_abundances\n",
    "\n",
    "- delta_function_plotter(list_masses, list_abundances)->list_masses, list_abundances\n",
    "\n",
    "- double_plot(list_masses, list_abundances)->bokeh_plot_1, bokeh_plot_2\n",
    "\n",
    "- functional_group_finder(mol_smi)->list_functional, groups_contained\n",
    "\n",
    "- functional_group_display(ist_functionalgroups_contained)-> bokeh_plot_3\n",
    "\n",
    "- mol_web_show(mol_smi)->bokeh_plot_4\n",
    "\n",
    "- all_in_one(bokeh_plot_1, bokeh_plot_2, bokeh_plot_3)-> bokeh_plot_final\n",
    "\n",
    "- smiles_to_3D_plot(mol_smi)-> 3D_panel_plot"
   ]
  },
  {
   "cell_type": "markdown",
   "metadata": {},
   "source": [
    "from all of these functions, the following two main functions are most useful:\n",
    "## Main functions"
   ]
  },
  {
   "cell_type": "markdown",
   "metadata": {},
   "source": [
    "\n",
    "\n",
    "- spectrum(mol_smi, imprecision_True_False, apparatus_resolution)\n",
    "\n",
    "- specturm_3D(mol_smi, imprecision_True_False, apparatus_resolution)\n",
    "\n",
    "## Functionality\n",
    "The main functions can both be made by combining the basic functions.\n",
    "\n",
    "# Examples\n",
    "First, all of the basic functions will be shown, in order to then construct spectrum and spectrum_3D out of them. The resulting plots are fully interactive, so you can zoom in on the areas you want. \n",
    "\n"
   ]
  },
  {
   "cell_type": "markdown",
   "metadata": {},
   "source": [
    "## SMILEs interpreter\n",
    "This function takes a molecule under SMILEs representation as input and output its MOL represerntation"
   ]
  },
  {
   "cell_type": "code",
   "execution_count": null,
   "metadata": {},
   "outputs": [],
   "source": [
    "import MASSiveChem.MASSiveChem as MC\n",
    "print(MC.SMILEs_interpreter('CC1(C(N2C(S1)C(C2=O)NC(=O)CC3=CC=CC=C3)C(=O)O)C'))"
   ]
  },
  {
   "cell_type": "markdown",
   "metadata": {},
   "source": [
    "## molecule_list_generator\n",
    "This function takes a MOL representation as input and outputs a list of all of the atoms within that molecule"
   ]
  },
  {
   "cell_type": "code",
   "execution_count": null,
   "metadata": {},
   "outputs": [],
   "source": [
    "import MASSiveChem.MASSiveChem as MC\n",
    "mol = MC.SMILEs_interpreter('CC1(C(N2C(S1)C(C2=O)NC(=O)CC3=CC=CC=C3)C(=O)O)C')\n",
    "print(MC.molecule_list_generator(mol))"
   ]
  },
  {
   "cell_type": "markdown",
   "metadata": {},
   "source": [
    "## ionisation_method(list_atoms)\n",
    "This function takes a list of atoms as input and simply outputs the same list with a proton less (in essence, a hydrogen atom)"
   ]
  },
  {
   "cell_type": "code",
   "execution_count": null,
   "metadata": {},
   "outputs": [],
   "source": [
    "import MASSiveChem.MASSiveChem as MC\n",
    "\n",
    "list_atoms = ['C', 'C', 'C', 'N', 'C', 'S', 'C',\n",
    "            'C', 'O', 'N', 'C', 'O', 'C', 'C',\n",
    "            'C', 'C', 'C', 'C', 'C', 'C', 'O',\n",
    "            'O', 'C', 'H', 'H', 'H', 'H', 'H',\n",
    "            'H', 'H', 'H', 'H', 'H', 'H', 'H',\n",
    "            'H', 'H', 'H', 'H', 'H', 'H']\n",
    "\n",
    "print(MC.ionisation_method(list_atoms))"
   ]
  },
  {
   "cell_type": "markdown",
   "metadata": {},
   "source": [
    "## sulphur_nitrogen_finder(list_atoms)\n",
    "This function takes a list of atoms as input and output four values: has_N, has_S, count_N and count_S.\n",
    "has_N & has_S are True if there is an odd number of Nitrogen and Sulphur repsectively, and False otherwise."
   ]
  },
  {
   "cell_type": "code",
   "execution_count": null,
   "metadata": {},
   "outputs": [],
   "source": [
    "import MASSiveChem.MASSiveChem as MC\n",
    "\n",
    "list_atoms = ['C', 'C', 'C', 'N', 'C', 'S', 'C',\n",
    "            'C', 'O', 'N', 'C', 'O', 'C', 'C',\n",
    "            'C', 'C', 'C', 'C', 'C', 'C', 'O',\n",
    "            'O', 'C', 'H', 'H', 'H', 'H', 'H',\n",
    "            'H', 'H', 'H', 'H', 'H', 'H', 'H',\n",
    "            'H', 'H', 'H', 'H', 'H']\n",
    "\n",
    "output = (MC.sulphur_nitrogen_finder(list_atoms))\n",
    "print(output)"
   ]
  },
  {
   "cell_type": "markdown",
   "metadata": {},
   "source": [
    "## main_function(list_atoms)\n",
    "This function takes a list of atoms as an input, and will output two lists.\n",
    "\n",
    "The first (list_masses) is a list of the masses of all of the possible combinations of isotopes that can form the given molecule (under list representation) and the second (list_abundances) is a list of the probabilities of apparition of each of these combinations of isotopes.\n",
    "\n",
    "As such, both lists are the same length and the mass at index i in list_masses has the probability at index i in list_abundances associated to it."
   ]
  },
  {
   "cell_type": "code",
   "execution_count": null,
   "metadata": {},
   "outputs": [],
   "source": [
    "import MASSiveChem.MASSiveChem as MC\n",
    "\n",
    "output = MC.main_function(['C', 'C', 'C', 'N', 'C', 'S', 'C','C', 'O', 'N', 'C', 'O', 'C', 'C',\n",
    "                            'C', 'C', 'C', 'C', 'C', 'C', 'O','O', 'C', 'H', 'H', 'H', 'H', 'H',\n",
    "                            'H', 'H', 'H', 'H', 'H', 'H', 'H','H', 'H', 'H', 'H', 'H'], True)\n",
    "\n",
    "print(output)"
   ]
  },
  {
   "cell_type": "markdown",
   "metadata": {},
   "source": [
    "## peak_merger(list_masses, list_abundances)\n",
    "This function takes the two lists outputted by main_function, and merges the values in list_abundances if their values in list_masses are the same."
   ]
  },
  {
   "cell_type": "code",
   "execution_count": null,
   "metadata": {},
   "outputs": [],
   "source": [
    "import MASSiveChem.MASSiveChem as MC\n",
    "\n",
    "output = MC.peak_merger([336.09, 334.094, 336.084, 334.088, 337.086, 335.087, 334.09, 335.095, 334.095, 334.097, 333.091, 334.09], \n",
    "                        [0.006155135615344779, 0.1389218494465703, 0.00025689925174544854, 0.005798234418254755, 0.00016431194999935186,\n",
    "                        0.03458766547486355, 0.006161698124975695, 0.006260193058916763, 0.001252038611783352, 0.0019909461317594106, \n",
    "                        0.7806460744469201, 0.006245168595575361],\n",
    "                        0.01)\n",
    "\n",
    "print(output)"
   ]
  },
  {
   "cell_type": "markdown",
   "metadata": {},
   "source": [
    "## Sulphur_nitrogen_adder(x_in, y_in, has_N, has_S, count_N, count_S)\n",
    "This function takes the two outputted lists from peak_merger and adds the values for the sulphur and nitrogen peaks (if they need adding)"
   ]
  },
  {
   "cell_type": "code",
   "execution_count": null,
   "metadata": {},
   "outputs": [],
   "source": [
    "import MASSiveChem.MASSiveChem as MC\n",
    "\n",
    "x_in = [335.092, 335.086, 333.71807812500003, 334.09]\n",
    "y_in = [0.14507698506191508, 0.006055133670000204, 0.8310629277992183, 0.006245168595575361]\n",
    "has_N = False\n",
    "has_S = True\n",
    "count_N = 0\n",
    "count_S = 1\n",
    "\n",
    "output = MC.sulphur_nitrogen_adder(x_in, y_in, has_N, has_S, count_N, count_S)\n",
    "\n",
    "print(output)"
   ]
  },
  {
   "cell_type": "markdown",
   "metadata": {},
   "source": [
    "## peak_sorter(x_in, y_in)\n",
    "\n",
    "This function takes the two lists outputted by the previous function, and sorts them in order for the values in x_in to be increasing, whilst keeping the elements in y_in associated to the correct x_iin values."
   ]
  },
  {
   "cell_type": "code",
   "execution_count": null,
   "metadata": {},
   "outputs": [],
   "source": [
    "import MASSiveChem.MASSiveChem as MC\n",
    "\n",
    "x_in = [335.092, 335.086, 333.71807812500003, 334.09, 335.082]\n",
    "y_in = [0.14507698506191508, 0.006055133670000204, 0.8310629277992183, 0.006245168595575361, 0.006245168595575361]\n",
    "\n",
    "output = MC.peak_sorter(x_in, y_in)\n",
    "\n",
    "print(output)"
   ]
  },
  {
   "cell_type": "markdown",
   "metadata": {},
   "source": [
    "## delta_function_plotter(x_in, y_in)\n",
    "\n",
    "This function takes the two lists from the previous function, and then adds values of 0 on the x axis around each point, in effect causing the points to form a Dirac delta function when plotted with a simple line connecting the points."
   ]
  },
  {
   "cell_type": "code",
   "execution_count": null,
   "metadata": {},
   "outputs": [],
   "source": [
    "import MASSiveChem.MASSiveChem as MC\n",
    "\n",
    "x_in = [333.71807812500003, 334.09, 335.082, 335.086, 335.092]\n",
    "y_in = [0.8310629277992183, 0.006245168595575361, 0.006245168595575361, 0.006055133670000204, 0.14507698506191508]\n",
    "\n",
    "output = MC.delta_function_plotter(x_in, y_in)\n",
    "\n",
    "print(output)"
   ]
  },
  {
   "cell_type": "markdown",
   "metadata": {},
   "source": [
    "## double_plot(x_in,y_in)\n",
    "\n",
    "This function takes as an input the list of the masses (x_in) and the list of their intensities (y_in) and plot them on a bokeh interface. The graph is interactive to be able to zoom on peaks."
   ]
  },
  {
   "cell_type": "code",
   "execution_count": null,
   "metadata": {},
   "outputs": [],
   "source": [
    "import MASSiveChem.MASSiveChem as MC\n",
    "from bokeh.plotting import output_notebook, show\n",
    "\n",
    "output_notebook() #not necessary if you want to plot the image outside the outbook\n",
    "\n",
    "x_in = [333.21807812500003, 333.71807812500003, 333.71807812500003, 333.71807812500003, 334.09, 334.09, 334.09, 335.082, 335.082, 335.082, 335.086, 335.086, 335.086, 335.092, 335.092, 335.092, 336.092]\n",
    "y_in = [0, 0, 0.8310629277992183, 0, 0, 0.006245168595575361, 0, 0, 0.006245168595575361, 0, 0, 0.006055133670000204, 0, 0, 0.14507698506191508, 0, 0]\n",
    "\n",
    "output = MC.double_plot(x_in,y_in)\n",
    "\n",
    "show(output)"
   ]
  },
  {
   "cell_type": "markdown",
   "metadata": {},
   "source": [
    "## functional_group_finder(mol_smi)\n",
    "This function takes in the smiles of a given molecule, and outputs a list of all of the contained functional groups (the list contains the names of the functional groups)"
   ]
  },
  {
   "cell_type": "code",
   "execution_count": null,
   "metadata": {},
   "outputs": [],
   "source": [
    "import MASSiveChem.MASSiveChem as MC\n",
    "\n",
    "mol_smi = 'CC1(C(N2C(S1)C(C2=O)NC(=O)CC3=CC=CC=C3)C(=O)O)C'\n",
    "\n",
    "output = MC.functional_group_finder(mol_smi)\n",
    "\n",
    "print(output)"
   ]
  },
  {
   "cell_type": "markdown",
   "metadata": {},
   "source": [
    "## functional_group_display(contained_functional_groups)\n",
    "\n",
    "This function takes as an input the list of the contained functional groups of the molecule and plots a table of the functional groups in a bokeh interface"
   ]
  },
  {
   "cell_type": "code",
   "execution_count": null,
   "metadata": {},
   "outputs": [],
   "source": [
    "import MASSiveChem.MASSiveChem as MC\n",
    "from bokeh.plotting import output_notebook, show\n",
    "\n",
    "output_notebook() #not necessary if you want to plot the image outside the\n",
    "\n",
    "functional_groups = ['Carboxylic Acid', 'Amide', 'Amide', 'Amine', 'Sulfide', 'Benzene']\n",
    "\n",
    "output = MC.functional_group_display(functional_groups)\n",
    "\n",
    "show(output)"
   ]
  },
  {
   "cell_type": "markdown",
   "metadata": {},
   "source": [
    "## mol_web_show(mol_smi, show_Hs=False, show_3D = False)\n",
    "\n",
    "This function takes as an input the SMILEs of the molecule and plots the image of the molecule in a bokeh interface"
   ]
  },
  {
   "cell_type": "code",
   "execution_count": null,
   "metadata": {},
   "outputs": [],
   "source": [
    "import MASSiveChem.MASSiveChem as MC\n",
    "from bokeh.plotting import output_notebook, show\n",
    "\n",
    "output_notebook() #not necessary if you want to plot the image outside the notebook\n",
    "\n",
    "mol_smi = 'CC1(C(N2C(S1)C(C2=O)NC(=O)CC3=CC=CC=C3)C(=O)O)C'\n",
    "\n",
    "output = MC.mol_web_show(mol_smi)\n",
    "\n",
    "show(output)"
   ]
  },
  {
   "cell_type": "markdown",
   "metadata": {},
   "source": [
    "## all_in_one(p1, p2, p3)\n",
    "\n",
    "This function takes as an input 3 bokeh plots and put them together in one bokeh interface NOT READY"
   ]
  },
  {
   "cell_type": "code",
   "execution_count": null,
   "metadata": {},
   "outputs": [],
   "source": [
    "import MASSiveChem.MASSiveChem as MC\n",
    "from bokeh.plotting import output_notebook, show\n",
    "\n",
    "output_notebook() #not necessary if you want to plot the image outside the outbook\n",
    "\n",
    "mol_smi = 'CC1(C(N2C(S1)C(C2=O)NC(=O)CC3=CC=CC=C3)C(=O)O)C'\n",
    "functional_groups = ['Carboxylic Acid', 'Amide', 'Amide', 'Amine', 'Sulfide', 'Benzene']\n",
    "\n",
    "x_in = [333.21807812500003, 333.71807812500003, 333.71807812500003, 333.71807812500003, 334.09, 334.09, 334.09, 335.082, 335.082, 335.082, 335.086, 335.086, 335.086, 335.092, 335.092, 335.092, 336.092]\n",
    "y_in = [0, 0, 0.8310629277992183, 0, 0, 0.006245168595575361, 0, 0, 0.006245168595575361, 0, 0, 0.006055133670000204, 0, 0, 0.14507698506191508, 0, 0]\n",
    "\n",
    "p1 = MC.double_plot(x_in,y_in)\n",
    "p2 = MC.mol_web_show(mol_smi)\n",
    "p3 = MC.functional_group_display(functional_groups)\n",
    "\n",
    "output = MC.all_in_one(p1,p2,p3)\n",
    "\n",
    "show(output)"
   ]
  },
  {
   "cell_type": "markdown",
   "metadata": {},
   "source": [
    "## smiles_to_3D_plot(mol_smi)\n",
    "\n",
    "This function takes as an input the SMILEs of a molecule and plots it in 3D in an interactive graph"
   ]
  },
  {
   "cell_type": "code",
   "execution_count": 1,
   "metadata": {},
   "outputs": [
    {
     "data": {
      "application/vnd.plotly.v1+json": {
       "config": {
        "plotlyServerURL": "https://plot.ly"
       },
       "data": [
        {
         "marker": {
          "color": [
           "black",
           "black",
           "black",
           "blue",
           "black",
           "yellow",
           "black",
           "black",
           "red",
           "blue",
           "black",
           "red",
           "black",
           "black",
           "black",
           "black",
           "black",
           "black",
           "black",
           "black",
           "red",
           "red",
           "black",
           "white",
           "white",
           "white",
           "white",
           "white",
           "white",
           "white",
           "white",
           "white",
           "white",
           "white",
           "white",
           "white",
           "white",
           "white",
           "white",
           "white",
           "white"
          ],
          "line": {
           "color": "lightgray",
           "width": 2
          },
          "opacity": 0.8,
          "size": 7,
          "symbol": "circle"
         },
         "mode": "markers",
         "text": [
          "C",
          "C",
          "C",
          "N",
          "C",
          "S",
          "C",
          "C",
          "O",
          "N",
          "C",
          "O",
          "C",
          "C",
          "C",
          "C",
          "C",
          "C",
          "C",
          "C",
          "O",
          "O",
          "C",
          "H",
          "H",
          "H",
          "H",
          "H",
          "H",
          "H",
          "H",
          "H",
          "H",
          "H",
          "H",
          "H",
          "H",
          "H",
          "H",
          "H",
          "H"
         ],
         "type": "scatter3d",
         "x": [
          -5.1329254463129255,
          -3.7219219752629207,
          -3.367872463005315,
          -1.9275718993104893,
          -1.341418622271109,
          -2.509064215955024,
          -0.1438075194874176,
          -1.0380660481629989,
          -1.049271181837621,
          1.1333008236306987,
          1.7922601780581682,
          1.3120039486125563,
          3.1201801234301394,
          4.077146208441728,
          4.562439718619613,
          5.44860582166025,
          5.858005118257772,
          5.38340300949122,
          4.497956004608582,
          -3.968180965037089,
          -5.04314410424991,
          -3.2680350234467377,
          -3.564197058160241,
          -5.34591042878326,
          -5.277973101138938,
          -5.893445775230805,
          -3.7931867980622216,
          -1.1412507984277376,
          0.050702563349259,
          1.6431596855891044,
          2.908057699325101,
          3.594130260989322,
          4.257244758871696,
          5.822336074397318,
          6.55093604291224,
          5.710053510547763,
          4.149641252918492,
          -3.7438529508192997,
          -3.8011677763926177,
          -2.5526157217009224,
          -4.2466829306571805
         ],
         "y": [
          -1.158164445524756,
          -0.5664820937523847,
          0.2938116292772684,
          0.20633228723483457,
          -1.1308166120236376,
          -1.9828876483225275,
          -0.43495322020448607,
          0.8267011658314181,
          1.9245677173275888,
          -0.3390979090628493,
          -1.4602181294568997,
          -2.5872983723095087,
          -1.198185555522698,
          -0.36943960118856256,
          -0.8588901489178419,
          -0.09992921095762392,
          1.1535494185878494,
          1.6491598838144037,
          0.8911923912597622,
          1.7013253471492567,
          2.037155248930229,
          2.5748712436236674,
          0.12313804576096839,
          -1.8592110642615698,
          -1.6917701937539946,
          -0.37095969817545044,
          -0.1876768052261728,
          -1.666797742748665,
          -0.7438158907285284,
          0.53926394448874,
          -0.7116743623681732,
          -2.1611125203556214,
          -1.8383311026019975,
          -0.48876232307286854,
          1.7413043014361045,
          2.6253012612670057,
          1.2888760973925781,
          3.4249127925630916,
          -0.5638932920956066,
          0.49572082658374805,
          0.9731843401052335
         ],
         "z": [
          -0.6306872271667208,
          -0.7455927893967229,
          0.4837059334205685,
          0.7107264251858737,
          0.4759020211728142,
          -0.6772712986257036,
          -0.2231471542276754,
          -0.12982059437346916,
          -0.6375803306266515,
          0.5396336850581759,
          0.9927204681992077,
          0.8973507814491958,
          1.6809128702472709,
          0.8563905002967286,
          -0.3667302150925045,
          -1.1327712923156135,
          -0.6849147061871161,
          0.5288886153464493,
          1.2990189516197068,
          0.5212091713291788,
          0.04806075926769762,
          1.2751224768713543,
          -2.106340999186391,
          -1.4456761834043266,
          0.31561361705164065,
          -0.6783033014968659,
          1.3796785774705727,
          1.4085266994606511,
          -1.2570119949970338,
          0.5315544533832831,
          2.6410888902741205,
          1.9098056444565434,
          -0.7292394222885591,
          -2.079093914423993,
          -1.2814507691539097,
          0.8798776355132771,
          2.2503000358112124,
          1.186974302662917,
          -2.9284351764682377,
          -2.2832781906902913,
          -2.2028499976854694
         ]
        },
        {
         "hoverinfo": "none",
         "marker": {
          "color": "grey",
          "opacity": 1,
          "size": 7
         },
         "mode": "lines",
         "type": "scatter3d",
         "x": [
          -5.1329254463129255,
          -5.277973101138938,
          null,
          -5.1329254463129255,
          -3.7219219752629207,
          null,
          -5.1329254463129255,
          -5.893445775230805,
          null,
          -5.1329254463129255,
          -5.34591042878326,
          null,
          -3.7219219752629207,
          -5.1329254463129255,
          null,
          -3.7219219752629207,
          -3.367872463005315,
          null,
          -3.7219219752629207,
          -2.509064215955024,
          null,
          -3.7219219752629207,
          -3.564197058160241,
          null,
          -5.34591042878326,
          -5.1329254463129255,
          null,
          -5.277973101138938,
          -5.1329254463129255,
          null,
          -5.893445775230805,
          -5.1329254463129255,
          null,
          -3.367872463005315,
          -3.968180965037089,
          null,
          -3.367872463005315,
          -3.7219219752629207,
          null,
          -3.367872463005315,
          -3.7931867980622216,
          null,
          -3.367872463005315,
          -1.9275718993104893,
          null,
          -2.509064215955024,
          -3.7219219752629207,
          null,
          -2.509064215955024,
          -1.341418622271109,
          null,
          -3.564197058160241,
          -4.2466829306571805,
          null,
          -3.564197058160241,
          -3.7219219752629207,
          null,
          -3.564197058160241,
          -3.8011677763926177,
          null,
          -3.564197058160241,
          -2.5526157217009224,
          null,
          -1.9275718993104893,
          -3.367872463005315,
          null,
          -1.9275718993104893,
          -1.341418622271109,
          null,
          -1.9275718993104893,
          -1.0380660481629989,
          null,
          -3.968180965037089,
          -3.367872463005315,
          null,
          -3.968180965037089,
          -5.04314410424991,
          null,
          -3.968180965037089,
          -3.2680350234467377,
          null,
          -3.7931867980622216,
          -3.367872463005315,
          null,
          -1.341418622271109,
          -1.1412507984277376,
          null,
          -1.341418622271109,
          -1.9275718993104893,
          null,
          -1.341418622271109,
          -2.509064215955024,
          null,
          -1.341418622271109,
          -0.1438075194874176,
          null,
          -1.0380660481629989,
          -1.049271181837621,
          null,
          -1.0380660481629989,
          -1.9275718993104893,
          null,
          -1.0380660481629989,
          -0.1438075194874176,
          null,
          -0.1438075194874176,
          1.1333008236306987,
          null,
          -0.1438075194874176,
          -1.341418622271109,
          null,
          -0.1438075194874176,
          0.050702563349259,
          null,
          -0.1438075194874176,
          -1.0380660481629989,
          null,
          -1.1412507984277376,
          -1.341418622271109,
          null,
          1.1333008236306987,
          1.7922601780581682,
          null,
          1.1333008236306987,
          1.6431596855891044,
          null,
          1.1333008236306987,
          -0.1438075194874176,
          null,
          0.050702563349259,
          -0.1438075194874176,
          null,
          -1.049271181837621,
          -1.0380660481629989,
          null,
          1.7922601780581682,
          1.1333008236306987,
          null,
          1.7922601780581682,
          1.3120039486125563,
          null,
          1.7922601780581682,
          3.1201801234301394,
          null,
          1.6431596855891044,
          1.1333008236306987,
          null,
          1.3120039486125563,
          1.7922601780581682,
          null,
          3.1201801234301394,
          1.7922601780581682,
          null,
          3.1201801234301394,
          4.077146208441728,
          null,
          3.1201801234301394,
          2.908057699325101,
          null,
          3.1201801234301394,
          3.594130260989322,
          null,
          4.077146208441728,
          4.497956004608582,
          null,
          4.077146208441728,
          3.1201801234301394,
          null,
          4.077146208441728,
          4.562439718619613,
          null,
          2.908057699325101,
          3.1201801234301394,
          null,
          3.594130260989322,
          3.1201801234301394,
          null,
          4.562439718619613,
          4.257244758871696,
          null,
          4.562439718619613,
          4.077146208441728,
          null,
          4.562439718619613,
          5.44860582166025,
          null,
          4.497956004608582,
          5.38340300949122,
          null,
          4.497956004608582,
          4.149641252918492,
          null,
          4.497956004608582,
          4.077146208441728,
          null,
          5.44860582166025,
          5.858005118257772,
          null,
          5.44860582166025,
          5.822336074397318,
          null,
          5.44860582166025,
          4.562439718619613,
          null,
          4.257244758871696,
          4.562439718619613,
          null,
          5.858005118257772,
          5.38340300949122,
          null,
          5.858005118257772,
          6.55093604291224,
          null,
          5.858005118257772,
          5.44860582166025,
          null,
          5.822336074397318,
          5.44860582166025,
          null,
          5.38340300949122,
          5.858005118257772,
          null,
          5.38340300949122,
          4.497956004608582,
          null,
          5.38340300949122,
          5.710053510547763,
          null,
          6.55093604291224,
          5.858005118257772,
          null,
          5.710053510547763,
          5.38340300949122,
          null,
          4.149641252918492,
          4.497956004608582,
          null,
          -5.04314410424991,
          -3.968180965037089,
          null,
          -3.2680350234467377,
          -3.968180965037089,
          null,
          -3.2680350234467377,
          -3.7438529508192997,
          null,
          -3.7438529508192997,
          -3.2680350234467377,
          null,
          -3.8011677763926177,
          -3.564197058160241,
          null,
          -2.5526157217009224,
          -3.564197058160241,
          null,
          -4.2466829306571805,
          -3.564197058160241,
          null
         ],
         "y": [
          -1.158164445524756,
          -1.6917701937539946,
          null,
          -1.158164445524756,
          -0.5664820937523847,
          null,
          -1.158164445524756,
          -0.37095969817545044,
          null,
          -1.158164445524756,
          -1.8592110642615698,
          null,
          -0.5664820937523847,
          -1.158164445524756,
          null,
          -0.5664820937523847,
          0.2938116292772684,
          null,
          -0.5664820937523847,
          -1.9828876483225275,
          null,
          -0.5664820937523847,
          0.12313804576096839,
          null,
          -1.8592110642615698,
          -1.158164445524756,
          null,
          -1.6917701937539946,
          -1.158164445524756,
          null,
          -0.37095969817545044,
          -1.158164445524756,
          null,
          0.2938116292772684,
          1.7013253471492567,
          null,
          0.2938116292772684,
          -0.5664820937523847,
          null,
          0.2938116292772684,
          -0.1876768052261728,
          null,
          0.2938116292772684,
          0.20633228723483457,
          null,
          -1.9828876483225275,
          -0.5664820937523847,
          null,
          -1.9828876483225275,
          -1.1308166120236376,
          null,
          0.12313804576096839,
          0.9731843401052335,
          null,
          0.12313804576096839,
          -0.5664820937523847,
          null,
          0.12313804576096839,
          -0.5638932920956066,
          null,
          0.12313804576096839,
          0.49572082658374805,
          null,
          0.20633228723483457,
          0.2938116292772684,
          null,
          0.20633228723483457,
          -1.1308166120236376,
          null,
          0.20633228723483457,
          0.8267011658314181,
          null,
          1.7013253471492567,
          0.2938116292772684,
          null,
          1.7013253471492567,
          2.037155248930229,
          null,
          1.7013253471492567,
          2.5748712436236674,
          null,
          -0.1876768052261728,
          0.2938116292772684,
          null,
          -1.1308166120236376,
          -1.666797742748665,
          null,
          -1.1308166120236376,
          0.20633228723483457,
          null,
          -1.1308166120236376,
          -1.9828876483225275,
          null,
          -1.1308166120236376,
          -0.43495322020448607,
          null,
          0.8267011658314181,
          1.9245677173275888,
          null,
          0.8267011658314181,
          0.20633228723483457,
          null,
          0.8267011658314181,
          -0.43495322020448607,
          null,
          -0.43495322020448607,
          -0.3390979090628493,
          null,
          -0.43495322020448607,
          -1.1308166120236376,
          null,
          -0.43495322020448607,
          -0.7438158907285284,
          null,
          -0.43495322020448607,
          0.8267011658314181,
          null,
          -1.666797742748665,
          -1.1308166120236376,
          null,
          -0.3390979090628493,
          -1.4602181294568997,
          null,
          -0.3390979090628493,
          0.53926394448874,
          null,
          -0.3390979090628493,
          -0.43495322020448607,
          null,
          -0.7438158907285284,
          -0.43495322020448607,
          null,
          1.9245677173275888,
          0.8267011658314181,
          null,
          -1.4602181294568997,
          -0.3390979090628493,
          null,
          -1.4602181294568997,
          -2.5872983723095087,
          null,
          -1.4602181294568997,
          -1.198185555522698,
          null,
          0.53926394448874,
          -0.3390979090628493,
          null,
          -2.5872983723095087,
          -1.4602181294568997,
          null,
          -1.198185555522698,
          -1.4602181294568997,
          null,
          -1.198185555522698,
          -0.36943960118856256,
          null,
          -1.198185555522698,
          -0.7116743623681732,
          null,
          -1.198185555522698,
          -2.1611125203556214,
          null,
          -0.36943960118856256,
          0.8911923912597622,
          null,
          -0.36943960118856256,
          -1.198185555522698,
          null,
          -0.36943960118856256,
          -0.8588901489178419,
          null,
          -0.7116743623681732,
          -1.198185555522698,
          null,
          -2.1611125203556214,
          -1.198185555522698,
          null,
          -0.8588901489178419,
          -1.8383311026019975,
          null,
          -0.8588901489178419,
          -0.36943960118856256,
          null,
          -0.8588901489178419,
          -0.09992921095762392,
          null,
          0.8911923912597622,
          1.6491598838144037,
          null,
          0.8911923912597622,
          1.2888760973925781,
          null,
          0.8911923912597622,
          -0.36943960118856256,
          null,
          -0.09992921095762392,
          1.1535494185878494,
          null,
          -0.09992921095762392,
          -0.48876232307286854,
          null,
          -0.09992921095762392,
          -0.8588901489178419,
          null,
          -1.8383311026019975,
          -0.8588901489178419,
          null,
          1.1535494185878494,
          1.6491598838144037,
          null,
          1.1535494185878494,
          1.7413043014361045,
          null,
          1.1535494185878494,
          -0.09992921095762392,
          null,
          -0.48876232307286854,
          -0.09992921095762392,
          null,
          1.6491598838144037,
          1.1535494185878494,
          null,
          1.6491598838144037,
          0.8911923912597622,
          null,
          1.6491598838144037,
          2.6253012612670057,
          null,
          1.7413043014361045,
          1.1535494185878494,
          null,
          2.6253012612670057,
          1.6491598838144037,
          null,
          1.2888760973925781,
          0.8911923912597622,
          null,
          2.037155248930229,
          1.7013253471492567,
          null,
          2.5748712436236674,
          1.7013253471492567,
          null,
          2.5748712436236674,
          3.4249127925630916,
          null,
          3.4249127925630916,
          2.5748712436236674,
          null,
          -0.5638932920956066,
          0.12313804576096839,
          null,
          0.49572082658374805,
          0.12313804576096839,
          null,
          0.9731843401052335,
          0.12313804576096839,
          null
         ],
         "z": [
          -0.6306872271667208,
          0.31561361705164065,
          null,
          -0.6306872271667208,
          -0.7455927893967229,
          null,
          -0.6306872271667208,
          -0.6783033014968659,
          null,
          -0.6306872271667208,
          -1.4456761834043266,
          null,
          -0.7455927893967229,
          -0.6306872271667208,
          null,
          -0.7455927893967229,
          0.4837059334205685,
          null,
          -0.7455927893967229,
          -0.6772712986257036,
          null,
          -0.7455927893967229,
          -2.106340999186391,
          null,
          -1.4456761834043266,
          -0.6306872271667208,
          null,
          0.31561361705164065,
          -0.6306872271667208,
          null,
          -0.6783033014968659,
          -0.6306872271667208,
          null,
          0.4837059334205685,
          0.5212091713291788,
          null,
          0.4837059334205685,
          -0.7455927893967229,
          null,
          0.4837059334205685,
          1.3796785774705727,
          null,
          0.4837059334205685,
          0.7107264251858737,
          null,
          -0.6772712986257036,
          -0.7455927893967229,
          null,
          -0.6772712986257036,
          0.4759020211728142,
          null,
          -2.106340999186391,
          -2.2028499976854694,
          null,
          -2.106340999186391,
          -0.7455927893967229,
          null,
          -2.106340999186391,
          -2.9284351764682377,
          null,
          -2.106340999186391,
          -2.2832781906902913,
          null,
          0.7107264251858737,
          0.4837059334205685,
          null,
          0.7107264251858737,
          0.4759020211728142,
          null,
          0.7107264251858737,
          -0.12982059437346916,
          null,
          0.5212091713291788,
          0.4837059334205685,
          null,
          0.5212091713291788,
          0.04806075926769762,
          null,
          0.5212091713291788,
          1.2751224768713543,
          null,
          1.3796785774705727,
          0.4837059334205685,
          null,
          0.4759020211728142,
          1.4085266994606511,
          null,
          0.4759020211728142,
          0.7107264251858737,
          null,
          0.4759020211728142,
          -0.6772712986257036,
          null,
          0.4759020211728142,
          -0.2231471542276754,
          null,
          -0.12982059437346916,
          -0.6375803306266515,
          null,
          -0.12982059437346916,
          0.7107264251858737,
          null,
          -0.12982059437346916,
          -0.2231471542276754,
          null,
          -0.2231471542276754,
          0.5396336850581759,
          null,
          -0.2231471542276754,
          0.4759020211728142,
          null,
          -0.2231471542276754,
          -1.2570119949970338,
          null,
          -0.2231471542276754,
          -0.12982059437346916,
          null,
          1.4085266994606511,
          0.4759020211728142,
          null,
          0.5396336850581759,
          0.9927204681992077,
          null,
          0.5396336850581759,
          0.5315544533832831,
          null,
          0.5396336850581759,
          -0.2231471542276754,
          null,
          -1.2570119949970338,
          -0.2231471542276754,
          null,
          -0.6375803306266515,
          -0.12982059437346916,
          null,
          0.9927204681992077,
          0.5396336850581759,
          null,
          0.9927204681992077,
          0.8973507814491958,
          null,
          0.9927204681992077,
          1.6809128702472709,
          null,
          0.5315544533832831,
          0.5396336850581759,
          null,
          0.8973507814491958,
          0.9927204681992077,
          null,
          1.6809128702472709,
          0.9927204681992077,
          null,
          1.6809128702472709,
          0.8563905002967286,
          null,
          1.6809128702472709,
          2.6410888902741205,
          null,
          1.6809128702472709,
          1.9098056444565434,
          null,
          0.8563905002967286,
          1.2990189516197068,
          null,
          0.8563905002967286,
          1.6809128702472709,
          null,
          0.8563905002967286,
          -0.3667302150925045,
          null,
          2.6410888902741205,
          1.6809128702472709,
          null,
          1.9098056444565434,
          1.6809128702472709,
          null,
          -0.3667302150925045,
          -0.7292394222885591,
          null,
          -0.3667302150925045,
          0.8563905002967286,
          null,
          -0.3667302150925045,
          -1.1327712923156135,
          null,
          1.2990189516197068,
          0.5288886153464493,
          null,
          1.2990189516197068,
          2.2503000358112124,
          null,
          1.2990189516197068,
          0.8563905002967286,
          null,
          -1.1327712923156135,
          -0.6849147061871161,
          null,
          -1.1327712923156135,
          -2.079093914423993,
          null,
          -1.1327712923156135,
          -0.3667302150925045,
          null,
          -0.7292394222885591,
          -0.3667302150925045,
          null,
          -0.6849147061871161,
          0.5288886153464493,
          null,
          -0.6849147061871161,
          -1.2814507691539097,
          null,
          -0.6849147061871161,
          -1.1327712923156135,
          null,
          -2.079093914423993,
          -1.1327712923156135,
          null,
          0.5288886153464493,
          -0.6849147061871161,
          null,
          0.5288886153464493,
          1.2990189516197068,
          null,
          0.5288886153464493,
          0.8798776355132771,
          null,
          -1.2814507691539097,
          -0.6849147061871161,
          null,
          0.8798776355132771,
          0.5288886153464493,
          null,
          2.2503000358112124,
          1.2990189516197068,
          null,
          0.04806075926769762,
          0.5212091713291788,
          null,
          1.2751224768713543,
          0.5212091713291788,
          null,
          1.2751224768713543,
          1.186974302662917,
          null,
          1.186974302662917,
          1.2751224768713543,
          null,
          -2.9284351764682377,
          -2.106340999186391,
          null,
          -2.2832781906902913,
          -2.106340999186391,
          null,
          -2.2028499976854694,
          -2.106340999186391,
          null
         ]
        }
       ],
       "layout": {
        "margin": {
         "b": 0,
         "l": 0,
         "r": 0,
         "t": 0
        },
        "scene": {
         "annotations": [
          {
           "showarrow": false,
           "text": "C",
           "x": -5.1329254463129255,
           "y": -1.158164445524756,
           "yshift": 15,
           "z": -0.6306872271667208
          },
          {
           "showarrow": false,
           "text": "C",
           "x": -3.7219219752629207,
           "y": -0.5664820937523847,
           "yshift": 15,
           "z": -0.7455927893967229
          },
          {
           "showarrow": false,
           "text": "C",
           "x": -3.367872463005315,
           "y": 0.2938116292772684,
           "yshift": 15,
           "z": 0.4837059334205685
          },
          {
           "showarrow": false,
           "text": "N",
           "x": -1.9275718993104893,
           "y": 0.20633228723483457,
           "yshift": 15,
           "z": 0.7107264251858737
          },
          {
           "showarrow": false,
           "text": "C",
           "x": -1.341418622271109,
           "y": -1.1308166120236376,
           "yshift": 15,
           "z": 0.4759020211728142
          },
          {
           "showarrow": false,
           "text": "S",
           "x": -2.509064215955024,
           "y": -1.9828876483225275,
           "yshift": 15,
           "z": -0.6772712986257036
          },
          {
           "showarrow": false,
           "text": "C",
           "x": -0.1438075194874176,
           "y": -0.43495322020448607,
           "yshift": 15,
           "z": -0.2231471542276754
          },
          {
           "showarrow": false,
           "text": "C",
           "x": -1.0380660481629989,
           "y": 0.8267011658314181,
           "yshift": 15,
           "z": -0.12982059437346916
          },
          {
           "showarrow": false,
           "text": "O",
           "x": -1.049271181837621,
           "y": 1.9245677173275888,
           "yshift": 15,
           "z": -0.6375803306266515
          },
          {
           "showarrow": false,
           "text": "N",
           "x": 1.1333008236306987,
           "y": -0.3390979090628493,
           "yshift": 15,
           "z": 0.5396336850581759
          },
          {
           "showarrow": false,
           "text": "C",
           "x": 1.7922601780581682,
           "y": -1.4602181294568997,
           "yshift": 15,
           "z": 0.9927204681992077
          },
          {
           "showarrow": false,
           "text": "O",
           "x": 1.3120039486125563,
           "y": -2.5872983723095087,
           "yshift": 15,
           "z": 0.8973507814491958
          },
          {
           "showarrow": false,
           "text": "C",
           "x": 3.1201801234301394,
           "y": -1.198185555522698,
           "yshift": 15,
           "z": 1.6809128702472709
          },
          {
           "showarrow": false,
           "text": "C",
           "x": 4.077146208441728,
           "y": -0.36943960118856256,
           "yshift": 15,
           "z": 0.8563905002967286
          },
          {
           "showarrow": false,
           "text": "C",
           "x": 4.562439718619613,
           "y": -0.8588901489178419,
           "yshift": 15,
           "z": -0.3667302150925045
          },
          {
           "showarrow": false,
           "text": "C",
           "x": 5.44860582166025,
           "y": -0.09992921095762392,
           "yshift": 15,
           "z": -1.1327712923156135
          },
          {
           "showarrow": false,
           "text": "C",
           "x": 5.858005118257772,
           "y": 1.1535494185878494,
           "yshift": 15,
           "z": -0.6849147061871161
          },
          {
           "showarrow": false,
           "text": "C",
           "x": 5.38340300949122,
           "y": 1.6491598838144037,
           "yshift": 15,
           "z": 0.5288886153464493
          },
          {
           "showarrow": false,
           "text": "C",
           "x": 4.497956004608582,
           "y": 0.8911923912597622,
           "yshift": 15,
           "z": 1.2990189516197068
          },
          {
           "showarrow": false,
           "text": "C",
           "x": -3.968180965037089,
           "y": 1.7013253471492567,
           "yshift": 15,
           "z": 0.5212091713291788
          },
          {
           "showarrow": false,
           "text": "O",
           "x": -5.04314410424991,
           "y": 2.037155248930229,
           "yshift": 15,
           "z": 0.04806075926769762
          },
          {
           "showarrow": false,
           "text": "O",
           "x": -3.2680350234467377,
           "y": 2.5748712436236674,
           "yshift": 15,
           "z": 1.2751224768713543
          },
          {
           "showarrow": false,
           "text": "C",
           "x": -3.564197058160241,
           "y": 0.12313804576096839,
           "yshift": 15,
           "z": -2.106340999186391
          },
          {
           "showarrow": false,
           "text": "H",
           "x": -5.34591042878326,
           "y": -1.8592110642615698,
           "yshift": 15,
           "z": -1.4456761834043266
          },
          {
           "showarrow": false,
           "text": "H",
           "x": -5.277973101138938,
           "y": -1.6917701937539946,
           "yshift": 15,
           "z": 0.31561361705164065
          },
          {
           "showarrow": false,
           "text": "H",
           "x": -5.893445775230805,
           "y": -0.37095969817545044,
           "yshift": 15,
           "z": -0.6783033014968659
          },
          {
           "showarrow": false,
           "text": "H",
           "x": -3.7931867980622216,
           "y": -0.1876768052261728,
           "yshift": 15,
           "z": 1.3796785774705727
          },
          {
           "showarrow": false,
           "text": "H",
           "x": -1.1412507984277376,
           "y": -1.666797742748665,
           "yshift": 15,
           "z": 1.4085266994606511
          },
          {
           "showarrow": false,
           "text": "H",
           "x": 0.050702563349259,
           "y": -0.7438158907285284,
           "yshift": 15,
           "z": -1.2570119949970338
          },
          {
           "showarrow": false,
           "text": "H",
           "x": 1.6431596855891044,
           "y": 0.53926394448874,
           "yshift": 15,
           "z": 0.5315544533832831
          },
          {
           "showarrow": false,
           "text": "H",
           "x": 2.908057699325101,
           "y": -0.7116743623681732,
           "yshift": 15,
           "z": 2.6410888902741205
          },
          {
           "showarrow": false,
           "text": "H",
           "x": 3.594130260989322,
           "y": -2.1611125203556214,
           "yshift": 15,
           "z": 1.9098056444565434
          },
          {
           "showarrow": false,
           "text": "H",
           "x": 4.257244758871696,
           "y": -1.8383311026019975,
           "yshift": 15,
           "z": -0.7292394222885591
          },
          {
           "showarrow": false,
           "text": "H",
           "x": 5.822336074397318,
           "y": -0.48876232307286854,
           "yshift": 15,
           "z": -2.079093914423993
          },
          {
           "showarrow": false,
           "text": "H",
           "x": 6.55093604291224,
           "y": 1.7413043014361045,
           "yshift": 15,
           "z": -1.2814507691539097
          },
          {
           "showarrow": false,
           "text": "H",
           "x": 5.710053510547763,
           "y": 2.6253012612670057,
           "yshift": 15,
           "z": 0.8798776355132771
          },
          {
           "showarrow": false,
           "text": "H",
           "x": 4.149641252918492,
           "y": 1.2888760973925781,
           "yshift": 15,
           "z": 2.2503000358112124
          },
          {
           "showarrow": false,
           "text": "H",
           "x": -3.7438529508192997,
           "y": 3.4249127925630916,
           "yshift": 15,
           "z": 1.186974302662917
          },
          {
           "showarrow": false,
           "text": "H",
           "x": -3.8011677763926177,
           "y": -0.5638932920956066,
           "yshift": 15,
           "z": -2.9284351764682377
          },
          {
           "showarrow": false,
           "text": "H",
           "x": -2.5526157217009224,
           "y": 0.49572082658374805,
           "yshift": 15,
           "z": -2.2832781906902913
          },
          {
           "showarrow": false,
           "text": "H",
           "x": -4.2466829306571805,
           "y": 0.9731843401052335,
           "yshift": 15,
           "z": -2.2028499976854694
          }
         ],
         "xaxis": {
          "showbackground": false,
          "showgrid": false,
          "showticklabels": false,
          "title": {
           "font": {
            "color": "white"
           }
          },
          "zeroline": false
         },
         "yaxis": {
          "showbackground": false,
          "showgrid": false,
          "showticklabels": false,
          "title": {
           "font": {
            "color": "white"
           }
          },
          "zeroline": false
         },
         "zaxis": {
          "showbackground": false,
          "showgrid": false,
          "showticklabels": false,
          "title": {
           "font": {
            "color": "white"
           }
          },
          "zeroline": false
         }
        },
        "showlegend": false,
        "template": {
         "data": {
          "bar": [
           {
            "error_x": {
             "color": "#2a3f5f"
            },
            "error_y": {
             "color": "#2a3f5f"
            },
            "marker": {
             "line": {
              "color": "#E5ECF6",
              "width": 0.5
             },
             "pattern": {
              "fillmode": "overlay",
              "size": 10,
              "solidity": 0.2
             }
            },
            "type": "bar"
           }
          ],
          "barpolar": [
           {
            "marker": {
             "line": {
              "color": "#E5ECF6",
              "width": 0.5
             },
             "pattern": {
              "fillmode": "overlay",
              "size": 10,
              "solidity": 0.2
             }
            },
            "type": "barpolar"
           }
          ],
          "carpet": [
           {
            "aaxis": {
             "endlinecolor": "#2a3f5f",
             "gridcolor": "white",
             "linecolor": "white",
             "minorgridcolor": "white",
             "startlinecolor": "#2a3f5f"
            },
            "baxis": {
             "endlinecolor": "#2a3f5f",
             "gridcolor": "white",
             "linecolor": "white",
             "minorgridcolor": "white",
             "startlinecolor": "#2a3f5f"
            },
            "type": "carpet"
           }
          ],
          "choropleth": [
           {
            "colorbar": {
             "outlinewidth": 0,
             "ticks": ""
            },
            "type": "choropleth"
           }
          ],
          "contour": [
           {
            "colorbar": {
             "outlinewidth": 0,
             "ticks": ""
            },
            "colorscale": [
             [
              0,
              "#0d0887"
             ],
             [
              0.1111111111111111,
              "#46039f"
             ],
             [
              0.2222222222222222,
              "#7201a8"
             ],
             [
              0.3333333333333333,
              "#9c179e"
             ],
             [
              0.4444444444444444,
              "#bd3786"
             ],
             [
              0.5555555555555556,
              "#d8576b"
             ],
             [
              0.6666666666666666,
              "#ed7953"
             ],
             [
              0.7777777777777778,
              "#fb9f3a"
             ],
             [
              0.8888888888888888,
              "#fdca26"
             ],
             [
              1,
              "#f0f921"
             ]
            ],
            "type": "contour"
           }
          ],
          "contourcarpet": [
           {
            "colorbar": {
             "outlinewidth": 0,
             "ticks": ""
            },
            "type": "contourcarpet"
           }
          ],
          "heatmap": [
           {
            "colorbar": {
             "outlinewidth": 0,
             "ticks": ""
            },
            "colorscale": [
             [
              0,
              "#0d0887"
             ],
             [
              0.1111111111111111,
              "#46039f"
             ],
             [
              0.2222222222222222,
              "#7201a8"
             ],
             [
              0.3333333333333333,
              "#9c179e"
             ],
             [
              0.4444444444444444,
              "#bd3786"
             ],
             [
              0.5555555555555556,
              "#d8576b"
             ],
             [
              0.6666666666666666,
              "#ed7953"
             ],
             [
              0.7777777777777778,
              "#fb9f3a"
             ],
             [
              0.8888888888888888,
              "#fdca26"
             ],
             [
              1,
              "#f0f921"
             ]
            ],
            "type": "heatmap"
           }
          ],
          "heatmapgl": [
           {
            "colorbar": {
             "outlinewidth": 0,
             "ticks": ""
            },
            "colorscale": [
             [
              0,
              "#0d0887"
             ],
             [
              0.1111111111111111,
              "#46039f"
             ],
             [
              0.2222222222222222,
              "#7201a8"
             ],
             [
              0.3333333333333333,
              "#9c179e"
             ],
             [
              0.4444444444444444,
              "#bd3786"
             ],
             [
              0.5555555555555556,
              "#d8576b"
             ],
             [
              0.6666666666666666,
              "#ed7953"
             ],
             [
              0.7777777777777778,
              "#fb9f3a"
             ],
             [
              0.8888888888888888,
              "#fdca26"
             ],
             [
              1,
              "#f0f921"
             ]
            ],
            "type": "heatmapgl"
           }
          ],
          "histogram": [
           {
            "marker": {
             "pattern": {
              "fillmode": "overlay",
              "size": 10,
              "solidity": 0.2
             }
            },
            "type": "histogram"
           }
          ],
          "histogram2d": [
           {
            "colorbar": {
             "outlinewidth": 0,
             "ticks": ""
            },
            "colorscale": [
             [
              0,
              "#0d0887"
             ],
             [
              0.1111111111111111,
              "#46039f"
             ],
             [
              0.2222222222222222,
              "#7201a8"
             ],
             [
              0.3333333333333333,
              "#9c179e"
             ],
             [
              0.4444444444444444,
              "#bd3786"
             ],
             [
              0.5555555555555556,
              "#d8576b"
             ],
             [
              0.6666666666666666,
              "#ed7953"
             ],
             [
              0.7777777777777778,
              "#fb9f3a"
             ],
             [
              0.8888888888888888,
              "#fdca26"
             ],
             [
              1,
              "#f0f921"
             ]
            ],
            "type": "histogram2d"
           }
          ],
          "histogram2dcontour": [
           {
            "colorbar": {
             "outlinewidth": 0,
             "ticks": ""
            },
            "colorscale": [
             [
              0,
              "#0d0887"
             ],
             [
              0.1111111111111111,
              "#46039f"
             ],
             [
              0.2222222222222222,
              "#7201a8"
             ],
             [
              0.3333333333333333,
              "#9c179e"
             ],
             [
              0.4444444444444444,
              "#bd3786"
             ],
             [
              0.5555555555555556,
              "#d8576b"
             ],
             [
              0.6666666666666666,
              "#ed7953"
             ],
             [
              0.7777777777777778,
              "#fb9f3a"
             ],
             [
              0.8888888888888888,
              "#fdca26"
             ],
             [
              1,
              "#f0f921"
             ]
            ],
            "type": "histogram2dcontour"
           }
          ],
          "mesh3d": [
           {
            "colorbar": {
             "outlinewidth": 0,
             "ticks": ""
            },
            "type": "mesh3d"
           }
          ],
          "parcoords": [
           {
            "line": {
             "colorbar": {
              "outlinewidth": 0,
              "ticks": ""
             }
            },
            "type": "parcoords"
           }
          ],
          "pie": [
           {
            "automargin": true,
            "type": "pie"
           }
          ],
          "scatter": [
           {
            "fillpattern": {
             "fillmode": "overlay",
             "size": 10,
             "solidity": 0.2
            },
            "type": "scatter"
           }
          ],
          "scatter3d": [
           {
            "line": {
             "colorbar": {
              "outlinewidth": 0,
              "ticks": ""
             }
            },
            "marker": {
             "colorbar": {
              "outlinewidth": 0,
              "ticks": ""
             }
            },
            "type": "scatter3d"
           }
          ],
          "scattercarpet": [
           {
            "marker": {
             "colorbar": {
              "outlinewidth": 0,
              "ticks": ""
             }
            },
            "type": "scattercarpet"
           }
          ],
          "scattergeo": [
           {
            "marker": {
             "colorbar": {
              "outlinewidth": 0,
              "ticks": ""
             }
            },
            "type": "scattergeo"
           }
          ],
          "scattergl": [
           {
            "marker": {
             "colorbar": {
              "outlinewidth": 0,
              "ticks": ""
             }
            },
            "type": "scattergl"
           }
          ],
          "scattermapbox": [
           {
            "marker": {
             "colorbar": {
              "outlinewidth": 0,
              "ticks": ""
             }
            },
            "type": "scattermapbox"
           }
          ],
          "scatterpolar": [
           {
            "marker": {
             "colorbar": {
              "outlinewidth": 0,
              "ticks": ""
             }
            },
            "type": "scatterpolar"
           }
          ],
          "scatterpolargl": [
           {
            "marker": {
             "colorbar": {
              "outlinewidth": 0,
              "ticks": ""
             }
            },
            "type": "scatterpolargl"
           }
          ],
          "scatterternary": [
           {
            "marker": {
             "colorbar": {
              "outlinewidth": 0,
              "ticks": ""
             }
            },
            "type": "scatterternary"
           }
          ],
          "surface": [
           {
            "colorbar": {
             "outlinewidth": 0,
             "ticks": ""
            },
            "colorscale": [
             [
              0,
              "#0d0887"
             ],
             [
              0.1111111111111111,
              "#46039f"
             ],
             [
              0.2222222222222222,
              "#7201a8"
             ],
             [
              0.3333333333333333,
              "#9c179e"
             ],
             [
              0.4444444444444444,
              "#bd3786"
             ],
             [
              0.5555555555555556,
              "#d8576b"
             ],
             [
              0.6666666666666666,
              "#ed7953"
             ],
             [
              0.7777777777777778,
              "#fb9f3a"
             ],
             [
              0.8888888888888888,
              "#fdca26"
             ],
             [
              1,
              "#f0f921"
             ]
            ],
            "type": "surface"
           }
          ],
          "table": [
           {
            "cells": {
             "fill": {
              "color": "#EBF0F8"
             },
             "line": {
              "color": "white"
             }
            },
            "header": {
             "fill": {
              "color": "#C8D4E3"
             },
             "line": {
              "color": "white"
             }
            },
            "type": "table"
           }
          ]
         },
         "layout": {
          "annotationdefaults": {
           "arrowcolor": "#2a3f5f",
           "arrowhead": 0,
           "arrowwidth": 1
          },
          "autotypenumbers": "strict",
          "coloraxis": {
           "colorbar": {
            "outlinewidth": 0,
            "ticks": ""
           }
          },
          "colorscale": {
           "diverging": [
            [
             0,
             "#8e0152"
            ],
            [
             0.1,
             "#c51b7d"
            ],
            [
             0.2,
             "#de77ae"
            ],
            [
             0.3,
             "#f1b6da"
            ],
            [
             0.4,
             "#fde0ef"
            ],
            [
             0.5,
             "#f7f7f7"
            ],
            [
             0.6,
             "#e6f5d0"
            ],
            [
             0.7,
             "#b8e186"
            ],
            [
             0.8,
             "#7fbc41"
            ],
            [
             0.9,
             "#4d9221"
            ],
            [
             1,
             "#276419"
            ]
           ],
           "sequential": [
            [
             0,
             "#0d0887"
            ],
            [
             0.1111111111111111,
             "#46039f"
            ],
            [
             0.2222222222222222,
             "#7201a8"
            ],
            [
             0.3333333333333333,
             "#9c179e"
            ],
            [
             0.4444444444444444,
             "#bd3786"
            ],
            [
             0.5555555555555556,
             "#d8576b"
            ],
            [
             0.6666666666666666,
             "#ed7953"
            ],
            [
             0.7777777777777778,
             "#fb9f3a"
            ],
            [
             0.8888888888888888,
             "#fdca26"
            ],
            [
             1,
             "#f0f921"
            ]
           ],
           "sequentialminus": [
            [
             0,
             "#0d0887"
            ],
            [
             0.1111111111111111,
             "#46039f"
            ],
            [
             0.2222222222222222,
             "#7201a8"
            ],
            [
             0.3333333333333333,
             "#9c179e"
            ],
            [
             0.4444444444444444,
             "#bd3786"
            ],
            [
             0.5555555555555556,
             "#d8576b"
            ],
            [
             0.6666666666666666,
             "#ed7953"
            ],
            [
             0.7777777777777778,
             "#fb9f3a"
            ],
            [
             0.8888888888888888,
             "#fdca26"
            ],
            [
             1,
             "#f0f921"
            ]
           ]
          },
          "colorway": [
           "#636efa",
           "#EF553B",
           "#00cc96",
           "#ab63fa",
           "#FFA15A",
           "#19d3f3",
           "#FF6692",
           "#B6E880",
           "#FF97FF",
           "#FECB52"
          ],
          "font": {
           "color": "#2a3f5f"
          },
          "geo": {
           "bgcolor": "white",
           "lakecolor": "white",
           "landcolor": "#E5ECF6",
           "showlakes": true,
           "showland": true,
           "subunitcolor": "white"
          },
          "hoverlabel": {
           "align": "left"
          },
          "hovermode": "closest",
          "mapbox": {
           "style": "light"
          },
          "paper_bgcolor": "white",
          "plot_bgcolor": "#E5ECF6",
          "polar": {
           "angularaxis": {
            "gridcolor": "white",
            "linecolor": "white",
            "ticks": ""
           },
           "bgcolor": "#E5ECF6",
           "radialaxis": {
            "gridcolor": "white",
            "linecolor": "white",
            "ticks": ""
           }
          },
          "scene": {
           "xaxis": {
            "backgroundcolor": "#E5ECF6",
            "gridcolor": "white",
            "gridwidth": 2,
            "linecolor": "white",
            "showbackground": true,
            "ticks": "",
            "zerolinecolor": "white"
           },
           "yaxis": {
            "backgroundcolor": "#E5ECF6",
            "gridcolor": "white",
            "gridwidth": 2,
            "linecolor": "white",
            "showbackground": true,
            "ticks": "",
            "zerolinecolor": "white"
           },
           "zaxis": {
            "backgroundcolor": "#E5ECF6",
            "gridcolor": "white",
            "gridwidth": 2,
            "linecolor": "white",
            "showbackground": true,
            "ticks": "",
            "zerolinecolor": "white"
           }
          },
          "shapedefaults": {
           "line": {
            "color": "#2a3f5f"
           }
          },
          "ternary": {
           "aaxis": {
            "gridcolor": "white",
            "linecolor": "white",
            "ticks": ""
           },
           "baxis": {
            "gridcolor": "white",
            "linecolor": "white",
            "ticks": ""
           },
           "bgcolor": "#E5ECF6",
           "caxis": {
            "gridcolor": "white",
            "linecolor": "white",
            "ticks": ""
           }
          },
          "title": {
           "x": 0.05
          },
          "xaxis": {
           "automargin": true,
           "gridcolor": "white",
           "linecolor": "white",
           "ticks": "",
           "title": {
            "standoff": 15
           },
           "zerolinecolor": "white",
           "zerolinewidth": 2
          },
          "yaxis": {
           "automargin": true,
           "gridcolor": "white",
           "linecolor": "white",
           "ticks": "",
           "title": {
            "standoff": 15
           },
           "zerolinecolor": "white",
           "zerolinewidth": 2
          }
         }
        },
        "updatemenus": [
         {
          "buttons": [
           {
            "args": [
             {
              "scene.annotations": [
               {
                "showarrow": false,
                "text": "C",
                "x": -5.1329254463129255,
                "y": -1.158164445524756,
                "yshift": 15,
                "z": -0.6306872271667208
               },
               {
                "showarrow": false,
                "text": "C",
                "x": -3.7219219752629207,
                "y": -0.5664820937523847,
                "yshift": 15,
                "z": -0.7455927893967229
               },
               {
                "showarrow": false,
                "text": "C",
                "x": -3.367872463005315,
                "y": 0.2938116292772684,
                "yshift": 15,
                "z": 0.4837059334205685
               },
               {
                "showarrow": false,
                "text": "N",
                "x": -1.9275718993104893,
                "y": 0.20633228723483457,
                "yshift": 15,
                "z": 0.7107264251858737
               },
               {
                "showarrow": false,
                "text": "C",
                "x": -1.341418622271109,
                "y": -1.1308166120236376,
                "yshift": 15,
                "z": 0.4759020211728142
               },
               {
                "showarrow": false,
                "text": "S",
                "x": -2.509064215955024,
                "y": -1.9828876483225275,
                "yshift": 15,
                "z": -0.6772712986257036
               },
               {
                "showarrow": false,
                "text": "C",
                "x": -0.1438075194874176,
                "y": -0.43495322020448607,
                "yshift": 15,
                "z": -0.2231471542276754
               },
               {
                "showarrow": false,
                "text": "C",
                "x": -1.0380660481629989,
                "y": 0.8267011658314181,
                "yshift": 15,
                "z": -0.12982059437346916
               },
               {
                "showarrow": false,
                "text": "O",
                "x": -1.049271181837621,
                "y": 1.9245677173275888,
                "yshift": 15,
                "z": -0.6375803306266515
               },
               {
                "showarrow": false,
                "text": "N",
                "x": 1.1333008236306987,
                "y": -0.3390979090628493,
                "yshift": 15,
                "z": 0.5396336850581759
               },
               {
                "showarrow": false,
                "text": "C",
                "x": 1.7922601780581682,
                "y": -1.4602181294568997,
                "yshift": 15,
                "z": 0.9927204681992077
               },
               {
                "showarrow": false,
                "text": "O",
                "x": 1.3120039486125563,
                "y": -2.5872983723095087,
                "yshift": 15,
                "z": 0.8973507814491958
               },
               {
                "showarrow": false,
                "text": "C",
                "x": 3.1201801234301394,
                "y": -1.198185555522698,
                "yshift": 15,
                "z": 1.6809128702472709
               },
               {
                "showarrow": false,
                "text": "C",
                "x": 4.077146208441728,
                "y": -0.36943960118856256,
                "yshift": 15,
                "z": 0.8563905002967286
               },
               {
                "showarrow": false,
                "text": "C",
                "x": 4.562439718619613,
                "y": -0.8588901489178419,
                "yshift": 15,
                "z": -0.3667302150925045
               },
               {
                "showarrow": false,
                "text": "C",
                "x": 5.44860582166025,
                "y": -0.09992921095762392,
                "yshift": 15,
                "z": -1.1327712923156135
               },
               {
                "showarrow": false,
                "text": "C",
                "x": 5.858005118257772,
                "y": 1.1535494185878494,
                "yshift": 15,
                "z": -0.6849147061871161
               },
               {
                "showarrow": false,
                "text": "C",
                "x": 5.38340300949122,
                "y": 1.6491598838144037,
                "yshift": 15,
                "z": 0.5288886153464493
               },
               {
                "showarrow": false,
                "text": "C",
                "x": 4.497956004608582,
                "y": 0.8911923912597622,
                "yshift": 15,
                "z": 1.2990189516197068
               },
               {
                "showarrow": false,
                "text": "C",
                "x": -3.968180965037089,
                "y": 1.7013253471492567,
                "yshift": 15,
                "z": 0.5212091713291788
               },
               {
                "showarrow": false,
                "text": "O",
                "x": -5.04314410424991,
                "y": 2.037155248930229,
                "yshift": 15,
                "z": 0.04806075926769762
               },
               {
                "showarrow": false,
                "text": "O",
                "x": -3.2680350234467377,
                "y": 2.5748712436236674,
                "yshift": 15,
                "z": 1.2751224768713543
               },
               {
                "showarrow": false,
                "text": "C",
                "x": -3.564197058160241,
                "y": 0.12313804576096839,
                "yshift": 15,
                "z": -2.106340999186391
               },
               {
                "showarrow": false,
                "text": "H",
                "x": -5.34591042878326,
                "y": -1.8592110642615698,
                "yshift": 15,
                "z": -1.4456761834043266
               },
               {
                "showarrow": false,
                "text": "H",
                "x": -5.277973101138938,
                "y": -1.6917701937539946,
                "yshift": 15,
                "z": 0.31561361705164065
               },
               {
                "showarrow": false,
                "text": "H",
                "x": -5.893445775230805,
                "y": -0.37095969817545044,
                "yshift": 15,
                "z": -0.6783033014968659
               },
               {
                "showarrow": false,
                "text": "H",
                "x": -3.7931867980622216,
                "y": -0.1876768052261728,
                "yshift": 15,
                "z": 1.3796785774705727
               },
               {
                "showarrow": false,
                "text": "H",
                "x": -1.1412507984277376,
                "y": -1.666797742748665,
                "yshift": 15,
                "z": 1.4085266994606511
               },
               {
                "showarrow": false,
                "text": "H",
                "x": 0.050702563349259,
                "y": -0.7438158907285284,
                "yshift": 15,
                "z": -1.2570119949970338
               },
               {
                "showarrow": false,
                "text": "H",
                "x": 1.6431596855891044,
                "y": 0.53926394448874,
                "yshift": 15,
                "z": 0.5315544533832831
               },
               {
                "showarrow": false,
                "text": "H",
                "x": 2.908057699325101,
                "y": -0.7116743623681732,
                "yshift": 15,
                "z": 2.6410888902741205
               },
               {
                "showarrow": false,
                "text": "H",
                "x": 3.594130260989322,
                "y": -2.1611125203556214,
                "yshift": 15,
                "z": 1.9098056444565434
               },
               {
                "showarrow": false,
                "text": "H",
                "x": 4.257244758871696,
                "y": -1.8383311026019975,
                "yshift": 15,
                "z": -0.7292394222885591
               },
               {
                "showarrow": false,
                "text": "H",
                "x": 5.822336074397318,
                "y": -0.48876232307286854,
                "yshift": 15,
                "z": -2.079093914423993
               },
               {
                "showarrow": false,
                "text": "H",
                "x": 6.55093604291224,
                "y": 1.7413043014361045,
                "yshift": 15,
                "z": -1.2814507691539097
               },
               {
                "showarrow": false,
                "text": "H",
                "x": 5.710053510547763,
                "y": 2.6253012612670057,
                "yshift": 15,
                "z": 0.8798776355132771
               },
               {
                "showarrow": false,
                "text": "H",
                "x": 4.149641252918492,
                "y": 1.2888760973925781,
                "yshift": 15,
                "z": 2.2503000358112124
               },
               {
                "showarrow": false,
                "text": "H",
                "x": -3.7438529508192997,
                "y": 3.4249127925630916,
                "yshift": 15,
                "z": 1.186974302662917
               },
               {
                "showarrow": false,
                "text": "H",
                "x": -3.8011677763926177,
                "y": -0.5638932920956066,
                "yshift": 15,
                "z": -2.9284351764682377
               },
               {
                "showarrow": false,
                "text": "H",
                "x": -2.5526157217009224,
                "y": 0.49572082658374805,
                "yshift": 15,
                "z": -2.2832781906902913
               },
               {
                "showarrow": false,
                "text": "H",
                "x": -4.2466829306571805,
                "y": 0.9731843401052335,
                "yshift": 15,
                "z": -2.2028499976854694
               }
              ]
             }
            ],
            "label": " Elements",
            "method": "relayout"
           },
           {
            "args": [
             {
              "scene.annotations": [
               {
                "showarrow": false,
                "text": "C",
                "x": -5.1329254463129255,
                "y": -1.158164445524756,
                "yshift": 15,
                "z": -0.6306872271667208
               },
               {
                "showarrow": false,
                "text": "C",
                "x": -3.7219219752629207,
                "y": -0.5664820937523847,
                "yshift": 15,
                "z": -0.7455927893967229
               },
               {
                "showarrow": false,
                "text": "C",
                "x": -3.367872463005315,
                "y": 0.2938116292772684,
                "yshift": 15,
                "z": 0.4837059334205685
               },
               {
                "showarrow": false,
                "text": "N",
                "x": -1.9275718993104893,
                "y": 0.20633228723483457,
                "yshift": 15,
                "z": 0.7107264251858737
               },
               {
                "showarrow": false,
                "text": "C",
                "x": -1.341418622271109,
                "y": -1.1308166120236376,
                "yshift": 15,
                "z": 0.4759020211728142
               },
               {
                "showarrow": false,
                "text": "S",
                "x": -2.509064215955024,
                "y": -1.9828876483225275,
                "yshift": 15,
                "z": -0.6772712986257036
               },
               {
                "showarrow": false,
                "text": "C",
                "x": -0.1438075194874176,
                "y": -0.43495322020448607,
                "yshift": 15,
                "z": -0.2231471542276754
               },
               {
                "showarrow": false,
                "text": "C",
                "x": -1.0380660481629989,
                "y": 0.8267011658314181,
                "yshift": 15,
                "z": -0.12982059437346916
               },
               {
                "showarrow": false,
                "text": "O",
                "x": -1.049271181837621,
                "y": 1.9245677173275888,
                "yshift": 15,
                "z": -0.6375803306266515
               },
               {
                "showarrow": false,
                "text": "N",
                "x": 1.1333008236306987,
                "y": -0.3390979090628493,
                "yshift": 15,
                "z": 0.5396336850581759
               },
               {
                "showarrow": false,
                "text": "C",
                "x": 1.7922601780581682,
                "y": -1.4602181294568997,
                "yshift": 15,
                "z": 0.9927204681992077
               },
               {
                "showarrow": false,
                "text": "O",
                "x": 1.3120039486125563,
                "y": -2.5872983723095087,
                "yshift": 15,
                "z": 0.8973507814491958
               },
               {
                "showarrow": false,
                "text": "C",
                "x": 3.1201801234301394,
                "y": -1.198185555522698,
                "yshift": 15,
                "z": 1.6809128702472709
               },
               {
                "showarrow": false,
                "text": "C",
                "x": 4.077146208441728,
                "y": -0.36943960118856256,
                "yshift": 15,
                "z": 0.8563905002967286
               },
               {
                "showarrow": false,
                "text": "C",
                "x": 4.562439718619613,
                "y": -0.8588901489178419,
                "yshift": 15,
                "z": -0.3667302150925045
               },
               {
                "showarrow": false,
                "text": "C",
                "x": 5.44860582166025,
                "y": -0.09992921095762392,
                "yshift": 15,
                "z": -1.1327712923156135
               },
               {
                "showarrow": false,
                "text": "C",
                "x": 5.858005118257772,
                "y": 1.1535494185878494,
                "yshift": 15,
                "z": -0.6849147061871161
               },
               {
                "showarrow": false,
                "text": "C",
                "x": 5.38340300949122,
                "y": 1.6491598838144037,
                "yshift": 15,
                "z": 0.5288886153464493
               },
               {
                "showarrow": false,
                "text": "C",
                "x": 4.497956004608582,
                "y": 0.8911923912597622,
                "yshift": 15,
                "z": 1.2990189516197068
               },
               {
                "showarrow": false,
                "text": "C",
                "x": -3.968180965037089,
                "y": 1.7013253471492567,
                "yshift": 15,
                "z": 0.5212091713291788
               },
               {
                "showarrow": false,
                "text": "O",
                "x": -5.04314410424991,
                "y": 2.037155248930229,
                "yshift": 15,
                "z": 0.04806075926769762
               },
               {
                "showarrow": false,
                "text": "O",
                "x": -3.2680350234467377,
                "y": 2.5748712436236674,
                "yshift": 15,
                "z": 1.2751224768713543
               },
               {
                "showarrow": false,
                "text": "C",
                "x": -3.564197058160241,
                "y": 0.12313804576096839,
                "yshift": 15,
                "z": -2.106340999186391
               },
               {
                "showarrow": false,
                "text": "H",
                "x": -5.34591042878326,
                "y": -1.8592110642615698,
                "yshift": 15,
                "z": -1.4456761834043266
               },
               {
                "showarrow": false,
                "text": "H",
                "x": -5.277973101138938,
                "y": -1.6917701937539946,
                "yshift": 15,
                "z": 0.31561361705164065
               },
               {
                "showarrow": false,
                "text": "H",
                "x": -5.893445775230805,
                "y": -0.37095969817545044,
                "yshift": 15,
                "z": -0.6783033014968659
               },
               {
                "showarrow": false,
                "text": "H",
                "x": -3.7931867980622216,
                "y": -0.1876768052261728,
                "yshift": 15,
                "z": 1.3796785774705727
               },
               {
                "showarrow": false,
                "text": "H",
                "x": -1.1412507984277376,
                "y": -1.666797742748665,
                "yshift": 15,
                "z": 1.4085266994606511
               },
               {
                "showarrow": false,
                "text": "H",
                "x": 0.050702563349259,
                "y": -0.7438158907285284,
                "yshift": 15,
                "z": -1.2570119949970338
               },
               {
                "showarrow": false,
                "text": "H",
                "x": 1.6431596855891044,
                "y": 0.53926394448874,
                "yshift": 15,
                "z": 0.5315544533832831
               },
               {
                "showarrow": false,
                "text": "H",
                "x": 2.908057699325101,
                "y": -0.7116743623681732,
                "yshift": 15,
                "z": 2.6410888902741205
               },
               {
                "showarrow": false,
                "text": "H",
                "x": 3.594130260989322,
                "y": -2.1611125203556214,
                "yshift": 15,
                "z": 1.9098056444565434
               },
               {
                "showarrow": false,
                "text": "H",
                "x": 4.257244758871696,
                "y": -1.8383311026019975,
                "yshift": 15,
                "z": -0.7292394222885591
               },
               {
                "showarrow": false,
                "text": "H",
                "x": 5.822336074397318,
                "y": -0.48876232307286854,
                "yshift": 15,
                "z": -2.079093914423993
               },
               {
                "showarrow": false,
                "text": "H",
                "x": 6.55093604291224,
                "y": 1.7413043014361045,
                "yshift": 15,
                "z": -1.2814507691539097
               },
               {
                "showarrow": false,
                "text": "H",
                "x": 5.710053510547763,
                "y": 2.6253012612670057,
                "yshift": 15,
                "z": 0.8798776355132771
               },
               {
                "showarrow": false,
                "text": "H",
                "x": 4.149641252918492,
                "y": 1.2888760973925781,
                "yshift": 15,
                "z": 2.2503000358112124
               },
               {
                "showarrow": false,
                "text": "H",
                "x": -3.7438529508192997,
                "y": 3.4249127925630916,
                "yshift": 15,
                "z": 1.186974302662917
               },
               {
                "showarrow": false,
                "text": "H",
                "x": -3.8011677763926177,
                "y": -0.5638932920956066,
                "yshift": 15,
                "z": -2.9284351764682377
               },
               {
                "showarrow": false,
                "text": "H",
                "x": -2.5526157217009224,
                "y": 0.49572082658374805,
                "yshift": 15,
                "z": -2.2832781906902913
               },
               {
                "showarrow": false,
                "text": "H",
                "x": -4.2466829306571805,
                "y": 0.9731843401052335,
                "yshift": 15,
                "z": -2.2028499976854694
               },
               {
                "font": {
                 "color": "steelblue"
                },
                "showarrow": false,
                "text": 1.77,
                "x": -4.427423710787923,
                "y": -0.8623232696385703,
                "yshift": 15,
                "z": -0.6881400082817218
               },
               {
                "font": {
                 "color": "steelblue"
                },
                "showarrow": false,
                "text": 1.18,
                "x": -5.239417937548093,
                "y": -1.5086877548931628,
                "yshift": 15,
                "z": -1.0381817052855236
               },
               {
                "font": {
                 "color": "steelblue"
                },
                "showarrow": false,
                "text": 1.18,
                "x": -5.205449273725932,
                "y": -1.4249673196393753,
                "yshift": 15,
                "z": -0.15753680505754006
               },
               {
                "font": {
                 "color": "steelblue"
                },
                "showarrow": false,
                "text": 1.18,
                "x": -5.513185610771865,
                "y": -0.7645620718501032,
                "yshift": 15,
                "z": -0.6544952643317934
               },
               {
                "font": {
                 "color": "steelblue"
                },
                "showarrow": false,
                "text": 1.77,
                "x": -3.5448972191341177,
                "y": -0.13633523223755814,
                "yshift": 15,
                "z": -0.1309434279880772
               },
               {
                "font": {
                 "color": "steelblue"
                },
                "showarrow": false,
                "text": 2.21,
                "x": -3.115493095608972,
                "y": -1.274684871037456,
                "yshift": 15,
                "z": -0.7114320440112132
               },
               {
                "font": {
                 "color": "steelblue"
                },
                "showarrow": false,
                "text": 1.77,
                "x": -3.643059516711581,
                "y": -0.22167202399570815,
                "yshift": 15,
                "z": -1.4259668942915569
               },
               {
                "font": {
                 "color": "steelblue"
                },
                "showarrow": false,
                "text": 1.77,
                "x": -2.6477221811579024,
                "y": 0.2500719582560515,
                "yshift": 15,
                "z": 0.5972161793032211
               },
               {
                "font": {
                 "color": "steelblue"
                },
                "showarrow": false,
                "text": 1.77,
                "x": -3.6680267140212024,
                "y": 0.9975684882132625,
                "yshift": 15,
                "z": 0.5024575523748737
               },
               {
                "font": {
                 "color": "steelblue"
                },
                "showarrow": false,
                "text": 1.18,
                "x": -3.5805296305337686,
                "y": 0.053067412025547794,
                "yshift": 15,
                "z": 0.9316922554455705
               },
               {
                "font": {
                 "color": "steelblue"
                },
                "showarrow": false,
                "text": 1.77,
                "x": -1.6344952607907992,
                "y": -0.4622421623944015,
                "yshift": 15,
                "z": 0.593314223179344
               },
               {
                "font": {
                 "color": "steelblue"
                },
                "showarrow": false,
                "text": 1.77,
                "x": -1.482818973736744,
                "y": 0.5165167265331263,
                "yshift": 15,
                "z": 0.29045291540620227
               },
               {
                "font": {
                 "color": "steelblue"
                },
                "showarrow": false,
                "text": 2.21,
                "x": -1.9252414191130667,
                "y": -1.5568521301730827,
                "yshift": 15,
                "z": -0.10068463872644468
               },
               {
                "font": {
                 "color": "steelblue"
                },
                "showarrow": false,
                "text": 1.77,
                "x": -0.7426130708792633,
                "y": -0.7828849161140619,
                "yshift": 15,
                "z": 0.1263774334725694
               },
               {
                "font": {
                 "color": "steelblue"
                },
                "showarrow": false,
                "text": 1.18,
                "x": -1.2413347103494234,
                "y": -1.3988071773861512,
                "yshift": 15,
                "z": 0.9422143603167327
               },
               {
                "font": {
                 "color": "steelblue"
                },
                "showarrow": false,
                "text": 1.77,
                "x": -0.5909367838252082,
                "y": 0.195873972813466,
                "yshift": 15,
                "z": -0.17648387430057227
               },
               {
                "font": {
                 "color": "steelblue"
                },
                "showarrow": false,
                "text": 1.77,
                "x": 0.4947466520716406,
                "y": -0.38702556463366766,
                "yshift": 15,
                "z": 0.15824326541525024
               },
               {
                "font": {
                 "color": "steelblue"
                },
                "showarrow": false,
                "text": 1.18,
                "x": -0.0465524780690793,
                "y": -0.5893845554665073,
                "yshift": 15,
                "z": -0.7400795746123545
               },
               {
                "font": {
                 "color": "steelblue"
                },
                "showarrow": false,
                "text": 1.77,
                "x": -1.04366861500031,
                "y": 1.3756344415795034,
                "yshift": 15,
                "z": -0.38370046250006035
               },
               {
                "font": {
                 "color": "steelblue"
                },
                "showarrow": false,
                "text": 1.77,
                "x": 1.4627805008444335,
                "y": -0.8996580192598744,
                "yshift": 15,
                "z": 0.7661770766286917
               },
               {
                "font": {
                 "color": "steelblue"
                },
                "showarrow": false,
                "text": 1.18,
                "x": 1.3882302546099017,
                "y": 0.10008301771294537,
                "yshift": 15,
                "z": 0.5355940692207295
               },
               {
                "font": {
                 "color": "steelblue"
                },
                "showarrow": false,
                "text": 1.77,
                "x": 1.5521320633353621,
                "y": -2.023758250883204,
                "yshift": 15,
                "z": 0.9450356248242018
               },
               {
                "font": {
                 "color": "steelblue"
                },
                "showarrow": false,
                "text": 1.77,
                "x": 2.4562201507441537,
                "y": -1.3292018424897987,
                "yshift": 15,
                "z": 1.3368166692232393
               },
               {
                "font": {
                 "color": "steelblue"
                },
                "showarrow": false,
                "text": 1.77,
                "x": 3.5986631659359336,
                "y": -0.7838125783556302,
                "yshift": 15,
                "z": 1.2686516852719998
               },
               {
                "font": {
                 "color": "steelblue"
                },
                "showarrow": false,
                "text": 1.18,
                "x": 3.0141189113776203,
                "y": -0.9549299589454355,
                "yshift": 15,
                "z": 2.161000880260696
               },
               {
                "font": {
                 "color": "steelblue"
                },
                "showarrow": false,
                "text": 1.18,
                "x": 3.3571551922097305,
                "y": -1.6796490379391598,
                "yshift": 15,
                "z": 1.7953592573519073
               },
               {
                "font": {
                 "color": "steelblue"
                },
                "showarrow": false,
                "text": 1.77,
                "x": 4.31979296353067,
                "y": -0.6141648750532023,
                "yshift": 15,
                "z": 0.24483014260211206
               },
               {
                "font": {
                 "color": "steelblue"
                },
                "showarrow": false,
                "text": 1.77,
                "x": 4.2875511065251555,
                "y": 0.26087639503559984,
                "yshift": 15,
                "z": 1.0777047259582178
               },
               {
                "font": {
                 "color": "steelblue"
                },
                "showarrow": false,
                "text": 1.77,
                "x": 5.005522770139931,
                "y": -0.47940967993773287,
                "yshift": 15,
                "z": -0.749750753704059
               },
               {
                "font": {
                 "color": "steelblue"
                },
                "showarrow": false,
                "text": 1.18,
                "x": 4.409842238745655,
                "y": -1.3486106257599197,
                "yshift": 15,
                "z": -0.5479848186905318
               },
               {
                "font": {
                 "color": "steelblue"
                },
                "showarrow": false,
                "text": 1.77,
                "x": 5.653305469959011,
                "y": 0.5268101038151127,
                "yshift": 15,
                "z": -0.9088429992513648
               },
               {
                "font": {
                 "color": "steelblue"
                },
                "showarrow": false,
                "text": 1.18,
                "x": 5.635470948028784,
                "y": -0.29434576701524623,
                "yshift": 15,
                "z": -1.6059326033698031
               },
               {
                "font": {
                 "color": "steelblue"
                },
                "showarrow": false,
                "text": 1.77,
                "x": 5.620704063874496,
                "y": 1.4013546512011266,
                "yshift": 15,
                "z": -0.07801304542033344
               },
               {
                "font": {
                 "color": "steelblue"
                },
                "showarrow": false,
                "text": 1.18,
                "x": 6.2044705805850064,
                "y": 1.4474268600119768,
                "yshift": 15,
                "z": -0.9831827376705129
               },
               {
                "font": {
                 "color": "steelblue"
                },
                "showarrow": false,
                "text": 1.77,
                "x": 4.940679507049901,
                "y": 1.270176137537083,
                "yshift": 15,
                "z": 0.913953783483078
               },
               {
                "font": {
                 "color": "steelblue"
                },
                "showarrow": false,
                "text": 1.18,
                "x": 5.546728260019491,
                "y": 2.137230572540705,
                "yshift": 15,
                "z": 0.7043831254298631
               },
               {
                "font": {
                 "color": "steelblue"
                },
                "showarrow": false,
                "text": 1.18,
                "x": 4.323798628763537,
                "y": 1.0900342443261701,
                "yshift": 15,
                "z": 1.7746594937154596
               },
               {
                "font": {
                 "color": "steelblue"
                },
                "showarrow": false,
                "text": 1.77,
                "x": -4.505662534643499,
                "y": 1.869240298039743,
                "yshift": 15,
                "z": 0.2846349652984382
               },
               {
                "font": {
                 "color": "steelblue"
                },
                "showarrow": false,
                "text": 1.77,
                "x": -3.6181079942419134,
                "y": 2.1380982953864622,
                "yshift": 15,
                "z": 0.8981658241002666
               },
               {
                "font": {
                 "color": "steelblue"
                },
                "showarrow": false,
                "text": 1.18,
                "x": -3.5059439871330187,
                "y": 2.9998920180933792,
                "yshift": 15,
                "z": 1.2310483897671356
               },
               {
                "font": {
                 "color": "steelblue"
                },
                "showarrow": false,
                "text": 1.18,
                "x": -3.682682417276429,
                "y": -0.2203776231673191,
                "yshift": 15,
                "z": -2.5173880878273143
               },
               {
                "font": {
                 "color": "steelblue"
                },
                "showarrow": false,
                "text": 1.18,
                "x": -3.058406389930582,
                "y": 0.30942943617235824,
                "yshift": 15,
                "z": -2.194809594938341
               },
               {
                "font": {
                 "color": "steelblue"
                },
                "showarrow": false,
                "text": 1.18,
                "x": -3.905439994408711,
                "y": 0.548161192933101,
                "yshift": 15,
                "z": -2.1545954984359303
               }
              ]
             }
            ],
            "label": " Elements & Bond Lengths",
            "method": "relayout"
           },
           {
            "args": [
             {
              "scene.annotations": [
               {
                "showarrow": false,
                "text": 0,
                "x": -5.1329254463129255,
                "y": -1.158164445524756,
                "yshift": 15,
                "z": -0.6306872271667208
               },
               {
                "showarrow": false,
                "text": 1,
                "x": -3.7219219752629207,
                "y": -0.5664820937523847,
                "yshift": 15,
                "z": -0.7455927893967229
               },
               {
                "showarrow": false,
                "text": 2,
                "x": -3.367872463005315,
                "y": 0.2938116292772684,
                "yshift": 15,
                "z": 0.4837059334205685
               },
               {
                "showarrow": false,
                "text": 3,
                "x": -1.9275718993104893,
                "y": 0.20633228723483457,
                "yshift": 15,
                "z": 0.7107264251858737
               },
               {
                "showarrow": false,
                "text": 4,
                "x": -1.341418622271109,
                "y": -1.1308166120236376,
                "yshift": 15,
                "z": 0.4759020211728142
               },
               {
                "showarrow": false,
                "text": 5,
                "x": -2.509064215955024,
                "y": -1.9828876483225275,
                "yshift": 15,
                "z": -0.6772712986257036
               },
               {
                "showarrow": false,
                "text": 6,
                "x": -0.1438075194874176,
                "y": -0.43495322020448607,
                "yshift": 15,
                "z": -0.2231471542276754
               },
               {
                "showarrow": false,
                "text": 7,
                "x": -1.0380660481629989,
                "y": 0.8267011658314181,
                "yshift": 15,
                "z": -0.12982059437346916
               },
               {
                "showarrow": false,
                "text": 8,
                "x": -1.049271181837621,
                "y": 1.9245677173275888,
                "yshift": 15,
                "z": -0.6375803306266515
               },
               {
                "showarrow": false,
                "text": 9,
                "x": 1.1333008236306987,
                "y": -0.3390979090628493,
                "yshift": 15,
                "z": 0.5396336850581759
               },
               {
                "showarrow": false,
                "text": 10,
                "x": 1.7922601780581682,
                "y": -1.4602181294568997,
                "yshift": 15,
                "z": 0.9927204681992077
               },
               {
                "showarrow": false,
                "text": 11,
                "x": 1.3120039486125563,
                "y": -2.5872983723095087,
                "yshift": 15,
                "z": 0.8973507814491958
               },
               {
                "showarrow": false,
                "text": 12,
                "x": 3.1201801234301394,
                "y": -1.198185555522698,
                "yshift": 15,
                "z": 1.6809128702472709
               },
               {
                "showarrow": false,
                "text": 13,
                "x": 4.077146208441728,
                "y": -0.36943960118856256,
                "yshift": 15,
                "z": 0.8563905002967286
               },
               {
                "showarrow": false,
                "text": 14,
                "x": 4.562439718619613,
                "y": -0.8588901489178419,
                "yshift": 15,
                "z": -0.3667302150925045
               },
               {
                "showarrow": false,
                "text": 15,
                "x": 5.44860582166025,
                "y": -0.09992921095762392,
                "yshift": 15,
                "z": -1.1327712923156135
               },
               {
                "showarrow": false,
                "text": 16,
                "x": 5.858005118257772,
                "y": 1.1535494185878494,
                "yshift": 15,
                "z": -0.6849147061871161
               },
               {
                "showarrow": false,
                "text": 17,
                "x": 5.38340300949122,
                "y": 1.6491598838144037,
                "yshift": 15,
                "z": 0.5288886153464493
               },
               {
                "showarrow": false,
                "text": 18,
                "x": 4.497956004608582,
                "y": 0.8911923912597622,
                "yshift": 15,
                "z": 1.2990189516197068
               },
               {
                "showarrow": false,
                "text": 19,
                "x": -3.968180965037089,
                "y": 1.7013253471492567,
                "yshift": 15,
                "z": 0.5212091713291788
               },
               {
                "showarrow": false,
                "text": 20,
                "x": -5.04314410424991,
                "y": 2.037155248930229,
                "yshift": 15,
                "z": 0.04806075926769762
               },
               {
                "showarrow": false,
                "text": 21,
                "x": -3.2680350234467377,
                "y": 2.5748712436236674,
                "yshift": 15,
                "z": 1.2751224768713543
               },
               {
                "showarrow": false,
                "text": 22,
                "x": -3.564197058160241,
                "y": 0.12313804576096839,
                "yshift": 15,
                "z": -2.106340999186391
               },
               {
                "showarrow": false,
                "text": 23,
                "x": -5.34591042878326,
                "y": -1.8592110642615698,
                "yshift": 15,
                "z": -1.4456761834043266
               },
               {
                "showarrow": false,
                "text": 24,
                "x": -5.277973101138938,
                "y": -1.6917701937539946,
                "yshift": 15,
                "z": 0.31561361705164065
               },
               {
                "showarrow": false,
                "text": 25,
                "x": -5.893445775230805,
                "y": -0.37095969817545044,
                "yshift": 15,
                "z": -0.6783033014968659
               },
               {
                "showarrow": false,
                "text": 26,
                "x": -3.7931867980622216,
                "y": -0.1876768052261728,
                "yshift": 15,
                "z": 1.3796785774705727
               },
               {
                "showarrow": false,
                "text": 27,
                "x": -1.1412507984277376,
                "y": -1.666797742748665,
                "yshift": 15,
                "z": 1.4085266994606511
               },
               {
                "showarrow": false,
                "text": 28,
                "x": 0.050702563349259,
                "y": -0.7438158907285284,
                "yshift": 15,
                "z": -1.2570119949970338
               },
               {
                "showarrow": false,
                "text": 29,
                "x": 1.6431596855891044,
                "y": 0.53926394448874,
                "yshift": 15,
                "z": 0.5315544533832831
               },
               {
                "showarrow": false,
                "text": 30,
                "x": 2.908057699325101,
                "y": -0.7116743623681732,
                "yshift": 15,
                "z": 2.6410888902741205
               },
               {
                "showarrow": false,
                "text": 31,
                "x": 3.594130260989322,
                "y": -2.1611125203556214,
                "yshift": 15,
                "z": 1.9098056444565434
               },
               {
                "showarrow": false,
                "text": 32,
                "x": 4.257244758871696,
                "y": -1.8383311026019975,
                "yshift": 15,
                "z": -0.7292394222885591
               },
               {
                "showarrow": false,
                "text": 33,
                "x": 5.822336074397318,
                "y": -0.48876232307286854,
                "yshift": 15,
                "z": -2.079093914423993
               },
               {
                "showarrow": false,
                "text": 34,
                "x": 6.55093604291224,
                "y": 1.7413043014361045,
                "yshift": 15,
                "z": -1.2814507691539097
               },
               {
                "showarrow": false,
                "text": 35,
                "x": 5.710053510547763,
                "y": 2.6253012612670057,
                "yshift": 15,
                "z": 0.8798776355132771
               },
               {
                "showarrow": false,
                "text": 36,
                "x": 4.149641252918492,
                "y": 1.2888760973925781,
                "yshift": 15,
                "z": 2.2503000358112124
               },
               {
                "showarrow": false,
                "text": 37,
                "x": -3.7438529508192997,
                "y": 3.4249127925630916,
                "yshift": 15,
                "z": 1.186974302662917
               },
               {
                "showarrow": false,
                "text": 38,
                "x": -3.8011677763926177,
                "y": -0.5638932920956066,
                "yshift": 15,
                "z": -2.9284351764682377
               },
               {
                "showarrow": false,
                "text": 39,
                "x": -2.5526157217009224,
                "y": 0.49572082658374805,
                "yshift": 15,
                "z": -2.2832781906902913
               },
               {
                "showarrow": false,
                "text": 40,
                "x": -4.2466829306571805,
                "y": 0.9731843401052335,
                "yshift": 15,
                "z": -2.2028499976854694
               }
              ]
             }
            ],
            "label": "Indices",
            "method": "relayout"
           },
           {
            "args": [
             {
              "scene.annotations": [
               {
                "showarrow": false,
                "text": 0,
                "x": -5.1329254463129255,
                "y": -1.158164445524756,
                "yshift": 15,
                "z": -0.6306872271667208
               },
               {
                "showarrow": false,
                "text": 1,
                "x": -3.7219219752629207,
                "y": -0.5664820937523847,
                "yshift": 15,
                "z": -0.7455927893967229
               },
               {
                "showarrow": false,
                "text": 2,
                "x": -3.367872463005315,
                "y": 0.2938116292772684,
                "yshift": 15,
                "z": 0.4837059334205685
               },
               {
                "showarrow": false,
                "text": 3,
                "x": -1.9275718993104893,
                "y": 0.20633228723483457,
                "yshift": 15,
                "z": 0.7107264251858737
               },
               {
                "showarrow": false,
                "text": 4,
                "x": -1.341418622271109,
                "y": -1.1308166120236376,
                "yshift": 15,
                "z": 0.4759020211728142
               },
               {
                "showarrow": false,
                "text": 5,
                "x": -2.509064215955024,
                "y": -1.9828876483225275,
                "yshift": 15,
                "z": -0.6772712986257036
               },
               {
                "showarrow": false,
                "text": 6,
                "x": -0.1438075194874176,
                "y": -0.43495322020448607,
                "yshift": 15,
                "z": -0.2231471542276754
               },
               {
                "showarrow": false,
                "text": 7,
                "x": -1.0380660481629989,
                "y": 0.8267011658314181,
                "yshift": 15,
                "z": -0.12982059437346916
               },
               {
                "showarrow": false,
                "text": 8,
                "x": -1.049271181837621,
                "y": 1.9245677173275888,
                "yshift": 15,
                "z": -0.6375803306266515
               },
               {
                "showarrow": false,
                "text": 9,
                "x": 1.1333008236306987,
                "y": -0.3390979090628493,
                "yshift": 15,
                "z": 0.5396336850581759
               },
               {
                "showarrow": false,
                "text": 10,
                "x": 1.7922601780581682,
                "y": -1.4602181294568997,
                "yshift": 15,
                "z": 0.9927204681992077
               },
               {
                "showarrow": false,
                "text": 11,
                "x": 1.3120039486125563,
                "y": -2.5872983723095087,
                "yshift": 15,
                "z": 0.8973507814491958
               },
               {
                "showarrow": false,
                "text": 12,
                "x": 3.1201801234301394,
                "y": -1.198185555522698,
                "yshift": 15,
                "z": 1.6809128702472709
               },
               {
                "showarrow": false,
                "text": 13,
                "x": 4.077146208441728,
                "y": -0.36943960118856256,
                "yshift": 15,
                "z": 0.8563905002967286
               },
               {
                "showarrow": false,
                "text": 14,
                "x": 4.562439718619613,
                "y": -0.8588901489178419,
                "yshift": 15,
                "z": -0.3667302150925045
               },
               {
                "showarrow": false,
                "text": 15,
                "x": 5.44860582166025,
                "y": -0.09992921095762392,
                "yshift": 15,
                "z": -1.1327712923156135
               },
               {
                "showarrow": false,
                "text": 16,
                "x": 5.858005118257772,
                "y": 1.1535494185878494,
                "yshift": 15,
                "z": -0.6849147061871161
               },
               {
                "showarrow": false,
                "text": 17,
                "x": 5.38340300949122,
                "y": 1.6491598838144037,
                "yshift": 15,
                "z": 0.5288886153464493
               },
               {
                "showarrow": false,
                "text": 18,
                "x": 4.497956004608582,
                "y": 0.8911923912597622,
                "yshift": 15,
                "z": 1.2990189516197068
               },
               {
                "showarrow": false,
                "text": 19,
                "x": -3.968180965037089,
                "y": 1.7013253471492567,
                "yshift": 15,
                "z": 0.5212091713291788
               },
               {
                "showarrow": false,
                "text": 20,
                "x": -5.04314410424991,
                "y": 2.037155248930229,
                "yshift": 15,
                "z": 0.04806075926769762
               },
               {
                "showarrow": false,
                "text": 21,
                "x": -3.2680350234467377,
                "y": 2.5748712436236674,
                "yshift": 15,
                "z": 1.2751224768713543
               },
               {
                "showarrow": false,
                "text": 22,
                "x": -3.564197058160241,
                "y": 0.12313804576096839,
                "yshift": 15,
                "z": -2.106340999186391
               },
               {
                "showarrow": false,
                "text": 23,
                "x": -5.34591042878326,
                "y": -1.8592110642615698,
                "yshift": 15,
                "z": -1.4456761834043266
               },
               {
                "showarrow": false,
                "text": 24,
                "x": -5.277973101138938,
                "y": -1.6917701937539946,
                "yshift": 15,
                "z": 0.31561361705164065
               },
               {
                "showarrow": false,
                "text": 25,
                "x": -5.893445775230805,
                "y": -0.37095969817545044,
                "yshift": 15,
                "z": -0.6783033014968659
               },
               {
                "showarrow": false,
                "text": 26,
                "x": -3.7931867980622216,
                "y": -0.1876768052261728,
                "yshift": 15,
                "z": 1.3796785774705727
               },
               {
                "showarrow": false,
                "text": 27,
                "x": -1.1412507984277376,
                "y": -1.666797742748665,
                "yshift": 15,
                "z": 1.4085266994606511
               },
               {
                "showarrow": false,
                "text": 28,
                "x": 0.050702563349259,
                "y": -0.7438158907285284,
                "yshift": 15,
                "z": -1.2570119949970338
               },
               {
                "showarrow": false,
                "text": 29,
                "x": 1.6431596855891044,
                "y": 0.53926394448874,
                "yshift": 15,
                "z": 0.5315544533832831
               },
               {
                "showarrow": false,
                "text": 30,
                "x": 2.908057699325101,
                "y": -0.7116743623681732,
                "yshift": 15,
                "z": 2.6410888902741205
               },
               {
                "showarrow": false,
                "text": 31,
                "x": 3.594130260989322,
                "y": -2.1611125203556214,
                "yshift": 15,
                "z": 1.9098056444565434
               },
               {
                "showarrow": false,
                "text": 32,
                "x": 4.257244758871696,
                "y": -1.8383311026019975,
                "yshift": 15,
                "z": -0.7292394222885591
               },
               {
                "showarrow": false,
                "text": 33,
                "x": 5.822336074397318,
                "y": -0.48876232307286854,
                "yshift": 15,
                "z": -2.079093914423993
               },
               {
                "showarrow": false,
                "text": 34,
                "x": 6.55093604291224,
                "y": 1.7413043014361045,
                "yshift": 15,
                "z": -1.2814507691539097
               },
               {
                "showarrow": false,
                "text": 35,
                "x": 5.710053510547763,
                "y": 2.6253012612670057,
                "yshift": 15,
                "z": 0.8798776355132771
               },
               {
                "showarrow": false,
                "text": 36,
                "x": 4.149641252918492,
                "y": 1.2888760973925781,
                "yshift": 15,
                "z": 2.2503000358112124
               },
               {
                "showarrow": false,
                "text": 37,
                "x": -3.7438529508192997,
                "y": 3.4249127925630916,
                "yshift": 15,
                "z": 1.186974302662917
               },
               {
                "showarrow": false,
                "text": 38,
                "x": -3.8011677763926177,
                "y": -0.5638932920956066,
                "yshift": 15,
                "z": -2.9284351764682377
               },
               {
                "showarrow": false,
                "text": 39,
                "x": -2.5526157217009224,
                "y": 0.49572082658374805,
                "yshift": 15,
                "z": -2.2832781906902913
               },
               {
                "showarrow": false,
                "text": 40,
                "x": -4.2466829306571805,
                "y": 0.9731843401052335,
                "yshift": 15,
                "z": -2.2028499976854694
               },
               {
                "font": {
                 "color": "steelblue"
                },
                "showarrow": false,
                "text": 1.77,
                "x": -4.427423710787923,
                "y": -0.8623232696385703,
                "yshift": 15,
                "z": -0.6881400082817218
               },
               {
                "font": {
                 "color": "steelblue"
                },
                "showarrow": false,
                "text": 1.18,
                "x": -5.239417937548093,
                "y": -1.5086877548931628,
                "yshift": 15,
                "z": -1.0381817052855236
               },
               {
                "font": {
                 "color": "steelblue"
                },
                "showarrow": false,
                "text": 1.18,
                "x": -5.205449273725932,
                "y": -1.4249673196393753,
                "yshift": 15,
                "z": -0.15753680505754006
               },
               {
                "font": {
                 "color": "steelblue"
                },
                "showarrow": false,
                "text": 1.18,
                "x": -5.513185610771865,
                "y": -0.7645620718501032,
                "yshift": 15,
                "z": -0.6544952643317934
               },
               {
                "font": {
                 "color": "steelblue"
                },
                "showarrow": false,
                "text": 1.77,
                "x": -3.5448972191341177,
                "y": -0.13633523223755814,
                "yshift": 15,
                "z": -0.1309434279880772
               },
               {
                "font": {
                 "color": "steelblue"
                },
                "showarrow": false,
                "text": 2.21,
                "x": -3.115493095608972,
                "y": -1.274684871037456,
                "yshift": 15,
                "z": -0.7114320440112132
               },
               {
                "font": {
                 "color": "steelblue"
                },
                "showarrow": false,
                "text": 1.77,
                "x": -3.643059516711581,
                "y": -0.22167202399570815,
                "yshift": 15,
                "z": -1.4259668942915569
               },
               {
                "font": {
                 "color": "steelblue"
                },
                "showarrow": false,
                "text": 1.77,
                "x": -2.6477221811579024,
                "y": 0.2500719582560515,
                "yshift": 15,
                "z": 0.5972161793032211
               },
               {
                "font": {
                 "color": "steelblue"
                },
                "showarrow": false,
                "text": 1.77,
                "x": -3.6680267140212024,
                "y": 0.9975684882132625,
                "yshift": 15,
                "z": 0.5024575523748737
               },
               {
                "font": {
                 "color": "steelblue"
                },
                "showarrow": false,
                "text": 1.18,
                "x": -3.5805296305337686,
                "y": 0.053067412025547794,
                "yshift": 15,
                "z": 0.9316922554455705
               },
               {
                "font": {
                 "color": "steelblue"
                },
                "showarrow": false,
                "text": 1.77,
                "x": -1.6344952607907992,
                "y": -0.4622421623944015,
                "yshift": 15,
                "z": 0.593314223179344
               },
               {
                "font": {
                 "color": "steelblue"
                },
                "showarrow": false,
                "text": 1.77,
                "x": -1.482818973736744,
                "y": 0.5165167265331263,
                "yshift": 15,
                "z": 0.29045291540620227
               },
               {
                "font": {
                 "color": "steelblue"
                },
                "showarrow": false,
                "text": 2.21,
                "x": -1.9252414191130667,
                "y": -1.5568521301730827,
                "yshift": 15,
                "z": -0.10068463872644468
               },
               {
                "font": {
                 "color": "steelblue"
                },
                "showarrow": false,
                "text": 1.77,
                "x": -0.7426130708792633,
                "y": -0.7828849161140619,
                "yshift": 15,
                "z": 0.1263774334725694
               },
               {
                "font": {
                 "color": "steelblue"
                },
                "showarrow": false,
                "text": 1.18,
                "x": -1.2413347103494234,
                "y": -1.3988071773861512,
                "yshift": 15,
                "z": 0.9422143603167327
               },
               {
                "font": {
                 "color": "steelblue"
                },
                "showarrow": false,
                "text": 1.77,
                "x": -0.5909367838252082,
                "y": 0.195873972813466,
                "yshift": 15,
                "z": -0.17648387430057227
               },
               {
                "font": {
                 "color": "steelblue"
                },
                "showarrow": false,
                "text": 1.77,
                "x": 0.4947466520716406,
                "y": -0.38702556463366766,
                "yshift": 15,
                "z": 0.15824326541525024
               },
               {
                "font": {
                 "color": "steelblue"
                },
                "showarrow": false,
                "text": 1.18,
                "x": -0.0465524780690793,
                "y": -0.5893845554665073,
                "yshift": 15,
                "z": -0.7400795746123545
               },
               {
                "font": {
                 "color": "steelblue"
                },
                "showarrow": false,
                "text": 1.77,
                "x": -1.04366861500031,
                "y": 1.3756344415795034,
                "yshift": 15,
                "z": -0.38370046250006035
               },
               {
                "font": {
                 "color": "steelblue"
                },
                "showarrow": false,
                "text": 1.77,
                "x": 1.4627805008444335,
                "y": -0.8996580192598744,
                "yshift": 15,
                "z": 0.7661770766286917
               },
               {
                "font": {
                 "color": "steelblue"
                },
                "showarrow": false,
                "text": 1.18,
                "x": 1.3882302546099017,
                "y": 0.10008301771294537,
                "yshift": 15,
                "z": 0.5355940692207295
               },
               {
                "font": {
                 "color": "steelblue"
                },
                "showarrow": false,
                "text": 1.77,
                "x": 1.5521320633353621,
                "y": -2.023758250883204,
                "yshift": 15,
                "z": 0.9450356248242018
               },
               {
                "font": {
                 "color": "steelblue"
                },
                "showarrow": false,
                "text": 1.77,
                "x": 2.4562201507441537,
                "y": -1.3292018424897987,
                "yshift": 15,
                "z": 1.3368166692232393
               },
               {
                "font": {
                 "color": "steelblue"
                },
                "showarrow": false,
                "text": 1.77,
                "x": 3.5986631659359336,
                "y": -0.7838125783556302,
                "yshift": 15,
                "z": 1.2686516852719998
               },
               {
                "font": {
                 "color": "steelblue"
                },
                "showarrow": false,
                "text": 1.18,
                "x": 3.0141189113776203,
                "y": -0.9549299589454355,
                "yshift": 15,
                "z": 2.161000880260696
               },
               {
                "font": {
                 "color": "steelblue"
                },
                "showarrow": false,
                "text": 1.18,
                "x": 3.3571551922097305,
                "y": -1.6796490379391598,
                "yshift": 15,
                "z": 1.7953592573519073
               },
               {
                "font": {
                 "color": "steelblue"
                },
                "showarrow": false,
                "text": 1.77,
                "x": 4.31979296353067,
                "y": -0.6141648750532023,
                "yshift": 15,
                "z": 0.24483014260211206
               },
               {
                "font": {
                 "color": "steelblue"
                },
                "showarrow": false,
                "text": 1.77,
                "x": 4.2875511065251555,
                "y": 0.26087639503559984,
                "yshift": 15,
                "z": 1.0777047259582178
               },
               {
                "font": {
                 "color": "steelblue"
                },
                "showarrow": false,
                "text": 1.77,
                "x": 5.005522770139931,
                "y": -0.47940967993773287,
                "yshift": 15,
                "z": -0.749750753704059
               },
               {
                "font": {
                 "color": "steelblue"
                },
                "showarrow": false,
                "text": 1.18,
                "x": 4.409842238745655,
                "y": -1.3486106257599197,
                "yshift": 15,
                "z": -0.5479848186905318
               },
               {
                "font": {
                 "color": "steelblue"
                },
                "showarrow": false,
                "text": 1.77,
                "x": 5.653305469959011,
                "y": 0.5268101038151127,
                "yshift": 15,
                "z": -0.9088429992513648
               },
               {
                "font": {
                 "color": "steelblue"
                },
                "showarrow": false,
                "text": 1.18,
                "x": 5.635470948028784,
                "y": -0.29434576701524623,
                "yshift": 15,
                "z": -1.6059326033698031
               },
               {
                "font": {
                 "color": "steelblue"
                },
                "showarrow": false,
                "text": 1.77,
                "x": 5.620704063874496,
                "y": 1.4013546512011266,
                "yshift": 15,
                "z": -0.07801304542033344
               },
               {
                "font": {
                 "color": "steelblue"
                },
                "showarrow": false,
                "text": 1.18,
                "x": 6.2044705805850064,
                "y": 1.4474268600119768,
                "yshift": 15,
                "z": -0.9831827376705129
               },
               {
                "font": {
                 "color": "steelblue"
                },
                "showarrow": false,
                "text": 1.77,
                "x": 4.940679507049901,
                "y": 1.270176137537083,
                "yshift": 15,
                "z": 0.913953783483078
               },
               {
                "font": {
                 "color": "steelblue"
                },
                "showarrow": false,
                "text": 1.18,
                "x": 5.546728260019491,
                "y": 2.137230572540705,
                "yshift": 15,
                "z": 0.7043831254298631
               },
               {
                "font": {
                 "color": "steelblue"
                },
                "showarrow": false,
                "text": 1.18,
                "x": 4.323798628763537,
                "y": 1.0900342443261701,
                "yshift": 15,
                "z": 1.7746594937154596
               },
               {
                "font": {
                 "color": "steelblue"
                },
                "showarrow": false,
                "text": 1.77,
                "x": -4.505662534643499,
                "y": 1.869240298039743,
                "yshift": 15,
                "z": 0.2846349652984382
               },
               {
                "font": {
                 "color": "steelblue"
                },
                "showarrow": false,
                "text": 1.77,
                "x": -3.6181079942419134,
                "y": 2.1380982953864622,
                "yshift": 15,
                "z": 0.8981658241002666
               },
               {
                "font": {
                 "color": "steelblue"
                },
                "showarrow": false,
                "text": 1.18,
                "x": -3.5059439871330187,
                "y": 2.9998920180933792,
                "yshift": 15,
                "z": 1.2310483897671356
               },
               {
                "font": {
                 "color": "steelblue"
                },
                "showarrow": false,
                "text": 1.18,
                "x": -3.682682417276429,
                "y": -0.2203776231673191,
                "yshift": 15,
                "z": -2.5173880878273143
               },
               {
                "font": {
                 "color": "steelblue"
                },
                "showarrow": false,
                "text": 1.18,
                "x": -3.058406389930582,
                "y": 0.30942943617235824,
                "yshift": 15,
                "z": -2.194809594938341
               },
               {
                "font": {
                 "color": "steelblue"
                },
                "showarrow": false,
                "text": 1.18,
                "x": -3.905439994408711,
                "y": 0.548161192933101,
                "yshift": 15,
                "z": -2.1545954984359303
               }
              ]
             }
            ],
            "label": "Indices & Bond Lengths",
            "method": "relayout"
           },
           {
            "args": [
             {
              "scene.annotations": [
               {
                "font": {
                 "color": "steelblue"
                },
                "showarrow": false,
                "text": 1.77,
                "x": -4.427423710787923,
                "y": -0.8623232696385703,
                "yshift": 15,
                "z": -0.6881400082817218
               },
               {
                "font": {
                 "color": "steelblue"
                },
                "showarrow": false,
                "text": 1.18,
                "x": -5.239417937548093,
                "y": -1.5086877548931628,
                "yshift": 15,
                "z": -1.0381817052855236
               },
               {
                "font": {
                 "color": "steelblue"
                },
                "showarrow": false,
                "text": 1.18,
                "x": -5.205449273725932,
                "y": -1.4249673196393753,
                "yshift": 15,
                "z": -0.15753680505754006
               },
               {
                "font": {
                 "color": "steelblue"
                },
                "showarrow": false,
                "text": 1.18,
                "x": -5.513185610771865,
                "y": -0.7645620718501032,
                "yshift": 15,
                "z": -0.6544952643317934
               },
               {
                "font": {
                 "color": "steelblue"
                },
                "showarrow": false,
                "text": 1.77,
                "x": -3.5448972191341177,
                "y": -0.13633523223755814,
                "yshift": 15,
                "z": -0.1309434279880772
               },
               {
                "font": {
                 "color": "steelblue"
                },
                "showarrow": false,
                "text": 2.21,
                "x": -3.115493095608972,
                "y": -1.274684871037456,
                "yshift": 15,
                "z": -0.7114320440112132
               },
               {
                "font": {
                 "color": "steelblue"
                },
                "showarrow": false,
                "text": 1.77,
                "x": -3.643059516711581,
                "y": -0.22167202399570815,
                "yshift": 15,
                "z": -1.4259668942915569
               },
               {
                "font": {
                 "color": "steelblue"
                },
                "showarrow": false,
                "text": 1.77,
                "x": -2.6477221811579024,
                "y": 0.2500719582560515,
                "yshift": 15,
                "z": 0.5972161793032211
               },
               {
                "font": {
                 "color": "steelblue"
                },
                "showarrow": false,
                "text": 1.77,
                "x": -3.6680267140212024,
                "y": 0.9975684882132625,
                "yshift": 15,
                "z": 0.5024575523748737
               },
               {
                "font": {
                 "color": "steelblue"
                },
                "showarrow": false,
                "text": 1.18,
                "x": -3.5805296305337686,
                "y": 0.053067412025547794,
                "yshift": 15,
                "z": 0.9316922554455705
               },
               {
                "font": {
                 "color": "steelblue"
                },
                "showarrow": false,
                "text": 1.77,
                "x": -1.6344952607907992,
                "y": -0.4622421623944015,
                "yshift": 15,
                "z": 0.593314223179344
               },
               {
                "font": {
                 "color": "steelblue"
                },
                "showarrow": false,
                "text": 1.77,
                "x": -1.482818973736744,
                "y": 0.5165167265331263,
                "yshift": 15,
                "z": 0.29045291540620227
               },
               {
                "font": {
                 "color": "steelblue"
                },
                "showarrow": false,
                "text": 2.21,
                "x": -1.9252414191130667,
                "y": -1.5568521301730827,
                "yshift": 15,
                "z": -0.10068463872644468
               },
               {
                "font": {
                 "color": "steelblue"
                },
                "showarrow": false,
                "text": 1.77,
                "x": -0.7426130708792633,
                "y": -0.7828849161140619,
                "yshift": 15,
                "z": 0.1263774334725694
               },
               {
                "font": {
                 "color": "steelblue"
                },
                "showarrow": false,
                "text": 1.18,
                "x": -1.2413347103494234,
                "y": -1.3988071773861512,
                "yshift": 15,
                "z": 0.9422143603167327
               },
               {
                "font": {
                 "color": "steelblue"
                },
                "showarrow": false,
                "text": 1.77,
                "x": -0.5909367838252082,
                "y": 0.195873972813466,
                "yshift": 15,
                "z": -0.17648387430057227
               },
               {
                "font": {
                 "color": "steelblue"
                },
                "showarrow": false,
                "text": 1.77,
                "x": 0.4947466520716406,
                "y": -0.38702556463366766,
                "yshift": 15,
                "z": 0.15824326541525024
               },
               {
                "font": {
                 "color": "steelblue"
                },
                "showarrow": false,
                "text": 1.18,
                "x": -0.0465524780690793,
                "y": -0.5893845554665073,
                "yshift": 15,
                "z": -0.7400795746123545
               },
               {
                "font": {
                 "color": "steelblue"
                },
                "showarrow": false,
                "text": 1.77,
                "x": -1.04366861500031,
                "y": 1.3756344415795034,
                "yshift": 15,
                "z": -0.38370046250006035
               },
               {
                "font": {
                 "color": "steelblue"
                },
                "showarrow": false,
                "text": 1.77,
                "x": 1.4627805008444335,
                "y": -0.8996580192598744,
                "yshift": 15,
                "z": 0.7661770766286917
               },
               {
                "font": {
                 "color": "steelblue"
                },
                "showarrow": false,
                "text": 1.18,
                "x": 1.3882302546099017,
                "y": 0.10008301771294537,
                "yshift": 15,
                "z": 0.5355940692207295
               },
               {
                "font": {
                 "color": "steelblue"
                },
                "showarrow": false,
                "text": 1.77,
                "x": 1.5521320633353621,
                "y": -2.023758250883204,
                "yshift": 15,
                "z": 0.9450356248242018
               },
               {
                "font": {
                 "color": "steelblue"
                },
                "showarrow": false,
                "text": 1.77,
                "x": 2.4562201507441537,
                "y": -1.3292018424897987,
                "yshift": 15,
                "z": 1.3368166692232393
               },
               {
                "font": {
                 "color": "steelblue"
                },
                "showarrow": false,
                "text": 1.77,
                "x": 3.5986631659359336,
                "y": -0.7838125783556302,
                "yshift": 15,
                "z": 1.2686516852719998
               },
               {
                "font": {
                 "color": "steelblue"
                },
                "showarrow": false,
                "text": 1.18,
                "x": 3.0141189113776203,
                "y": -0.9549299589454355,
                "yshift": 15,
                "z": 2.161000880260696
               },
               {
                "font": {
                 "color": "steelblue"
                },
                "showarrow": false,
                "text": 1.18,
                "x": 3.3571551922097305,
                "y": -1.6796490379391598,
                "yshift": 15,
                "z": 1.7953592573519073
               },
               {
                "font": {
                 "color": "steelblue"
                },
                "showarrow": false,
                "text": 1.77,
                "x": 4.31979296353067,
                "y": -0.6141648750532023,
                "yshift": 15,
                "z": 0.24483014260211206
               },
               {
                "font": {
                 "color": "steelblue"
                },
                "showarrow": false,
                "text": 1.77,
                "x": 4.2875511065251555,
                "y": 0.26087639503559984,
                "yshift": 15,
                "z": 1.0777047259582178
               },
               {
                "font": {
                 "color": "steelblue"
                },
                "showarrow": false,
                "text": 1.77,
                "x": 5.005522770139931,
                "y": -0.47940967993773287,
                "yshift": 15,
                "z": -0.749750753704059
               },
               {
                "font": {
                 "color": "steelblue"
                },
                "showarrow": false,
                "text": 1.18,
                "x": 4.409842238745655,
                "y": -1.3486106257599197,
                "yshift": 15,
                "z": -0.5479848186905318
               },
               {
                "font": {
                 "color": "steelblue"
                },
                "showarrow": false,
                "text": 1.77,
                "x": 5.653305469959011,
                "y": 0.5268101038151127,
                "yshift": 15,
                "z": -0.9088429992513648
               },
               {
                "font": {
                 "color": "steelblue"
                },
                "showarrow": false,
                "text": 1.18,
                "x": 5.635470948028784,
                "y": -0.29434576701524623,
                "yshift": 15,
                "z": -1.6059326033698031
               },
               {
                "font": {
                 "color": "steelblue"
                },
                "showarrow": false,
                "text": 1.77,
                "x": 5.620704063874496,
                "y": 1.4013546512011266,
                "yshift": 15,
                "z": -0.07801304542033344
               },
               {
                "font": {
                 "color": "steelblue"
                },
                "showarrow": false,
                "text": 1.18,
                "x": 6.2044705805850064,
                "y": 1.4474268600119768,
                "yshift": 15,
                "z": -0.9831827376705129
               },
               {
                "font": {
                 "color": "steelblue"
                },
                "showarrow": false,
                "text": 1.77,
                "x": 4.940679507049901,
                "y": 1.270176137537083,
                "yshift": 15,
                "z": 0.913953783483078
               },
               {
                "font": {
                 "color": "steelblue"
                },
                "showarrow": false,
                "text": 1.18,
                "x": 5.546728260019491,
                "y": 2.137230572540705,
                "yshift": 15,
                "z": 0.7043831254298631
               },
               {
                "font": {
                 "color": "steelblue"
                },
                "showarrow": false,
                "text": 1.18,
                "x": 4.323798628763537,
                "y": 1.0900342443261701,
                "yshift": 15,
                "z": 1.7746594937154596
               },
               {
                "font": {
                 "color": "steelblue"
                },
                "showarrow": false,
                "text": 1.77,
                "x": -4.505662534643499,
                "y": 1.869240298039743,
                "yshift": 15,
                "z": 0.2846349652984382
               },
               {
                "font": {
                 "color": "steelblue"
                },
                "showarrow": false,
                "text": 1.77,
                "x": -3.6181079942419134,
                "y": 2.1380982953864622,
                "yshift": 15,
                "z": 0.8981658241002666
               },
               {
                "font": {
                 "color": "steelblue"
                },
                "showarrow": false,
                "text": 1.18,
                "x": -3.5059439871330187,
                "y": 2.9998920180933792,
                "yshift": 15,
                "z": 1.2310483897671356
               },
               {
                "font": {
                 "color": "steelblue"
                },
                "showarrow": false,
                "text": 1.18,
                "x": -3.682682417276429,
                "y": -0.2203776231673191,
                "yshift": 15,
                "z": -2.5173880878273143
               },
               {
                "font": {
                 "color": "steelblue"
                },
                "showarrow": false,
                "text": 1.18,
                "x": -3.058406389930582,
                "y": 0.30942943617235824,
                "yshift": 15,
                "z": -2.194809594938341
               },
               {
                "font": {
                 "color": "steelblue"
                },
                "showarrow": false,
                "text": 1.18,
                "x": -3.905439994408711,
                "y": 0.548161192933101,
                "yshift": 15,
                "z": -2.1545954984359303
               }
              ]
             }
            ],
            "label": "Bond Lengths",
            "method": "relayout"
           },
           {
            "args": [
             {
              "scene.annotations": []
             }
            ],
            "label": "Hide All",
            "method": "relayout"
           }
          ],
          "direction": "down",
          "xanchor": "left",
          "yanchor": "top"
         }
        ]
       }
      }
     },
     "metadata": {},
     "output_type": "display_data"
    }
   ],
   "source": [
    "import MASSiveChem.MASSiveChem as MC\n",
    "\n",
    "mol_smi = 'CC1(C(N2C(S1)C(C2=O)NC(=O)CC3=CC=CC=C3)C(=O)O)C'\n",
    "\n",
    "output =MC.smiles_to_3D_plot(mol_smi)\n",
    "\n",
    "output"
   ]
  },
  {
   "cell_type": "markdown",
   "metadata": {},
   "source": [
    "## Full function\n",
    "\n",
    "Now that these small constituant functions have been layed out, we can see how the main function, MC.spectrum, is formed. The functions above, when combined in the correct order, create the function called MC.spectrum. This looks something like this:"
   ]
  },
  {
   "cell_type": "code",
   "execution_count": null,
   "metadata": {},
   "outputs": [],
   "source": [
    "import MASSiveChem.MASSiveChem as MC\n",
    "from bokeh.plotting import output_notebook, show\n",
    "\n",
    "output_notebook() #not necessary if you want to plot the image outside the outbook\n",
    "\n",
    "mol_smi = 'CC1(C(N2C(S1)C(C2=O)NC(=O)CC3=CC=CC=C3)C(=O)O)C'\n",
    "imprecision = True\n",
    "apparatus_resolution = 0.01\n",
    "\n",
    "mol = MC.SMILEs_interpreter(mol_smi)\n",
    "\n",
    "list_atoms = MC.molecule_list_generator(mol)\n",
    "\n",
    "list_atoms_postionisation = MC.ionisation_method(list_atoms)\n",
    "\n",
    "has_N, has_S, count_N, count_S = MC.sulphur_nitrogen_finder(list_atoms_postionisation)\n",
    "\n",
    "list_masses, list_abundances = MC.main_function(list_atoms_postionisation, imprecision)\n",
    "\n",
    "list_masses, list_abundances = MC.peak_merger(list_masses, list_abundances, apparatus_resolution)\n",
    "\n",
    "list_masses, list_abundances = MC.sulphur_nitrogen_adder(list_masses, list_abundances, has_N, has_S, count_N, count_S)\n",
    "\n",
    "list_masses_sorted, list_abundances_sorted = MC.peak_sorter(list_masses, list_abundances)\n",
    "\n",
    "list_masses_plot, list_abundances_plot = MC.delta_function_plotter(list_masses_sorted, list_abundances_sorted)\n",
    "\n",
    "spectrum = MC.double_plot(list_masses_plot,list_abundances_plot)\n",
    "\n",
    "functional_groups_contained = MC.functional_group_finder(mol_smi)\n",
    "\n",
    "functional_groups_plot = MC.functional_group_display(functional_groups_contained)\n",
    "\n",
    "molecule_plot = MC.mol_web_show(mol_smi)\n",
    "\n",
    "final_plot = MC.all_in_one(spectrum, molecule_plot, functional_groups_plot)\n",
    "\n",
    "show(final_plot)"
   ]
  },
  {
   "cell_type": "markdown",
   "metadata": {},
   "source": [
    "\n",
    "## spectrum(mol_smi, imprecision_True_False, apparatus_resolution)\n",
    "Running all these functions can be done using 1 single function called spectrum which can be run as the following:"
   ]
  },
  {
   "cell_type": "code",
   "execution_count": null,
   "metadata": {},
   "outputs": [],
   "source": [
    "import MASSiveChem.MASSiveChem as MC\n",
    "from bokeh.plotting import show\n",
    "\n",
    "mol_smi = 'CC1(C(N2C(S1)C(C2=O)NC(=O)CC3=CC=CC=C3)C(=O)O)C'\n",
    "imprecision = True\n",
    "apparatus_resolution = 0.01\n",
    "\n",
    "spectrum = MC.spectrum(mol_smi, imprecision, apparatus_resolution)\n",
    "\n",
    "show(spectrum)"
   ]
  },
  {
   "cell_type": "markdown",
   "metadata": {},
   "source": [
    "Finally, if you want to add the interactive 3D plot of the molecule you can use the following function\n",
    "\n",
    "## spectrum_3D(mol_smi, imprecision_True_False, apparatus_resolution)\n",
    "\n",
    "The function takes the same inputs as spectrum but adds the 3D interactive plot to the spectrum"
   ]
  },
  {
   "cell_type": "code",
   "execution_count": 1,
   "metadata": {},
   "outputs": [
    {
     "name": "stdout",
     "output_type": "stream",
     "text": [
      "Launching server at http://localhost:52434\n"
     ]
    },
    {
     "data": {
      "text/plain": [
       "<panel.io.server.Server at 0x120d62cd0>"
      ]
     },
     "execution_count": 1,
     "metadata": {},
     "output_type": "execute_result"
    }
   ],
   "source": [
    "import MASSiveChem.MASSiveChem as MC\n",
    "\n",
    "mol_smi = 'CC1(C(N2C(S1)C(C2=O)NC(=O)CC3=CC=CC=C3)C(=O)O)C'\n",
    "imprecision = True\n",
    "apparatus_resolution = 0.01\n",
    "\n",
    "spectrum = MC.spectrum_3D(mol_smi, imprecision, apparatus_resolution)\n",
    "\n",
    "spectrum.show()"
   ]
  },
  {
   "cell_type": "markdown",
   "metadata": {},
   "source": [
    "Thanks for reading the notebook ! Hope you find it useful and interesting."
   ]
  }
 ],
 "metadata": {
  "kernelspec": {
   "display_name": "ppchem",
   "language": "python",
   "name": "python3"
  },
  "language_info": {
   "codemirror_mode": {
    "name": "ipython",
    "version": 3
   },
   "file_extension": ".py",
   "mimetype": "text/x-python",
   "name": "python",
   "nbconvert_exporter": "python",
   "pygments_lexer": "ipython3",
   "version": "3.10.12"
  }
 },
 "nbformat": 4,
 "nbformat_minor": 2
}
