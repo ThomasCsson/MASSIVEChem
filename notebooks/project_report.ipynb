{
 "cells": [
  {
   "cell_type": "markdown",
   "metadata": {},
   "source": [
    "<div style=\"text-align: center;\">\n",
    "    <img width=\"830\" alt=\"logo\" src=\"https://raw.githubusercontent.com/ThomasCsson/MASSIVEChem/main/images/Logo.jpg\">\n",
    "</div>\n",
    "\n",
    "\n",
    "## 👋 Introduction\n",
    "The following Jupyter notebook briefly presents MASSIVEChem, a pip-installable python package. This package is developped around mass spectrometry, a tool commonly used in analytical chemistry, biochemistry, pharmaceutical sciences and more. Fundamentally, this package simulates and plots the mass spectrum of a given molecule, with a chosen resolution and with a chosen precision. \n",
    "\n",
    "This package was created as a collaborative project for the EPFL course Practical programming in chemistry [![GitHub3](https://img.shields.io/badge/EPFL-CH200-red.svg)](https://edu.epfl.ch/studyplan/en/bachelor/chemistry-and-chemical-engineering/coursebook/practical-programming-in-chemistry-CH-200)\n",
    "\n",
    "Before going through the code and the use of the package, let's briefly discuss the ideas that led to the building this package\n",
    "\n",
    "## 🧪 Ideas\n",
    "\n",
    "Initially, the plan for this project was to write a code that would predict the NMR spectrum of an input molecule. 3 weeks were spent trying to figure out a way to analyze molecules, to find functional groups, and to predict the shift of the hydrogens in a molecule. As we began tring to write the code, it became apparent to us that this project was beyond the scope of our abilities as it would most likely require the use of machine learning, a concept that none of us were familiar with. \n",
    "\n",
    "Still wanting to create a package that would display some type of visual information from a molecule, our minds collectively turned towards mass spectrometry. Being familiar with the theoretical concepts behind this analytical method, having followed a course on mass spectrometry in first year and having briefly revisited the topic in our second-year electromagnetics course, we were more confident in our abilities regarding this idea.\n",
    "\n",
    "The concept of mass spectrometry consists of ionizing a molecule and passing this molecule in a strong magnetic field. Thanks to the Lorentz force, the molecule is deviated as a function of its mass which allows to separate the different isotopes present in a sample. By  putting a detector at the end, it is possible to determine which molecule was put in the mass spectrometer.\n",
    "\n",
    "\n",
    "\n",
    "Coding wise, simulating the mass spectrum was done by using list comprehension and combinatorics. This involves a systematic breakdown of the process into discrete steps\n",
    "\n",
    "- Molecule Definition: First the molecule to be analysed needs to be defined, specifying its constituant atoms and their relative abundances. Any molecule can be represented as a data structure (a list) containing its atoms and their relative abundances.\n",
    "\n",
    "- Fragmentation Simulation: Then, the fragmentation process needs to be simulated. This step involves generating all possible combinations of masses for each atom using the algorithm of probability trees. \n",
    "\n",
    "- Mass Calculation: The Mass of each fragment is calculated by summing the masses of the constituant atoms. This step ensures that each fragment is assigned an accurate mass value based on its atomic composition.\n",
    "\n",
    "- Combination of Fragments: At the end of the mass calculation process, all fragments are combined into a single list and the fragments with identical masses are combined. This aggregated list represents the collective set of fragments resulting from the analysed molecule.\n",
    "\n",
    "- Mass Spectrum Simulation: This step involves calculating the abundance of each possible molecule considering the relative abundances of each of the atoms within. \n",
    "\n",
    "- Visualization: The mass spectrum can then be plotted using a plotting package. In our case, bokeh was chosen.\n",
    "\n",
    "Once the spectrum was simulated, we thought of different features to add to the spectrum to facilitate its comprehensiveness and its readibility. First we added an image of the molecule using inbuilt RDkit functions. Then we developped a function to recognise the functional groups present in the molecule, as well as a function to show them. To make the spectrum more interactive, we added a second plot which allows to see where the user is zooming in on the principal graph. Finally, it was decided to add a function to show an interactive 3D graph of the molecule using xyz2graph package.\n",
    "\n",
    "\n",
    "## 👨🏼‍🔬 Difficulties\n",
    "\n",
    "Once we had written the code that would do the actual computation of the different combinations of isotopes that can compose the molecule (with their relative probabilities of existing), it became noticeable that the time complexity of the algorithm was subpar (being of roughly $2^n$ with n being the number of atoms in the molecule; the code would take ~30s to run for pentane). To remedy this fact, a part of code was implemented that would disregard any molecule with a probability of under $10^{-6}$ of existing (this reduced the time complexity form $2^n$ to roughly n).\n",
    "\n",
    "Another difficulty encountered was importing data. The initial project included a data folder for importing the abundances of the various isotopes. Unfortunately, when the package was exported via PyPi, the files inside the aforementioned folder were not included. Once installed, the package could not read the data files required for the package to function correctly.\n",
    "Despite various attempts to include these data files in the package, we had to come up with another solution that did not use this folder. As the initial code used the path to this folder to read the isotope abundances, we had to modify the code written so far to incorporate the data directly without using an external file. This can be seen at the beginning of the spectrum function. \n",
    "In the end, the problem was solved, although this required some 70 extra lines of code, whereas had the data folder been properly imported, a few would have sufficed. \n",
    "\n",
    "Finding a good tool to create the mass spectrum graph was also a challenge. Various tools such as matplotlib or plotly can be used to create high quality graphs, but only certain of them met the three criteria we wanted: precision, interactivity and aesthetics. So we had to explore tools that allowed us to do this, and Bokeh was chosen. It allowed us to generate graphs as we wanted them and with excellent quality. None of us had used it before, so we had to learn how to use it correctly and effectively.\n",
    "\n",
    "Another difficulty arose directly from the SMILES, which we used to detect the different functional groups present in the molecule. We had to create a code that differentiated between the various groups. Thus was acheived using SMARTS, which enabled us to specify the differences and in particular the bonds of each atom.\n",
    "Take an ester, for example. The system detects a carboxylic acid when it's not one so we had to specify this using the following SMARTS \"CC(=O)[Oh0]\". Which specifies that the oxygen does not have a bond with a hydrogen.\n",
    "All the different smarts used are present in the function \"functional_group_display\" in the scripts folder. \n",
    "\n",
    "##  ⚙️ Limitations\n",
    "\n",
    "The complete package does, however, have a few limitations. \n",
    "Firstly, pure elements and other molecules such as proteins and polysaccharides do not have their own SMILES. It is therefore impossible to visualise their mass spectra using this package. \n",
    "However, we believe that it would be possible to implement these molecules without SMILES using other encoding methods. For example, by using PubChemPy, we could have implemented a function that translates IUPAC names into SMILEs representations.\n",
    "\n",
    "The second is obviously time. The more complex the molecule, the more atoms it contains, the longer it will take to run the programme, so a (slightly) imprecise spectrum is calculated, by disregarding arrangements with a probability below a certain level, as previously explained. \n",
    "\n",
    "*Example* : \n",
    "spectrum(mol_smi, imprecision_True_False, apparatus_resolution)\n",
    "\n",
    "1) If imprecision_True_False = True, we have a complexity of $n$\n",
    "2) If imprecision_True_False = False, we have a complexity of $2^{n}$ \n",
    "\n",
    "Where n = number of atoms in the molecule"
   ]
  },
  {
   "cell_type": "markdown",
   "metadata": {},
   "source": [
    "## 💻 Usage "
   ]
  },
  {
   "cell_type": "markdown",
   "metadata": {},
   "source": [
    "Once the package is installed following the README, a whole set of functions will be imported.\n",
    "For example, to use the function that takes a molecule under SMILEs representation, a precision boolean and an apparatus resolution as inputs, and outputs the spectrum, one has to do the following:"
   ]
  },
  {
   "cell_type": "code",
   "execution_count": null,
   "metadata": {},
   "outputs": [],
   "source": [
    "import MASSiveChem.MASSiveChem as MC\n",
    "from bokeh.plotting import show, output_notebook\n",
    "output_notebook()\n",
    "show(MC.spectrum('CC1(C(N2C(S1)C(C2=O)NC(=O)CC3=CC=CC=C3)C(=O)O)C', True, 0.01))"
   ]
  },
  {
   "cell_type": "markdown",
   "metadata": {},
   "source": [
    "Note: the second argument here being True indicates that the function will neglect any ions which have a probability of apparation under 0.00001"
   ]
  },
  {
   "cell_type": "markdown",
   "metadata": {},
   "source": [
    "## Examples of functions and their respective inputs and outputs\n",
    "First, here is a list of the functions that come with the package: \n",
    "\n",
    "## Basic functions\n",
    "- calculate_unsaturation(mol_smi)->unsaturation\n",
    "\n",
    "- SMILEs_interpreter(mol_smi)->mol\n",
    "\n",
    "- molecule_list_generator(mol)->list_atoms\n",
    "\n",
    "- ionisation_method(list_atoms)->list_atoms\n",
    "\n",
    "- sulphur_nitrogen_finder(list_atoms)->has_N, has_S, count_N, count_S\n",
    "\n",
    "- main_function(list_atoms, imprecision_True_false)->list_masses, list_abundances\n",
    "\n",
    "- peak_merger(list_ions, list_abundances)->list_masses, list_abundances\n",
    "\n",
    "- sulphur_nitrogen_adder(list_ions, list_abundances, has_N, has_S, count_N, count_S)->list_masses, list_abundances\n",
    "\n",
    "- peak_sorter(list_masses, list_abundances)->list_masses, list_abundances\n",
    "\n",
    "- delta_function_plotter(list_masses, list_abundances)->list_masses, list_abundances\n",
    "\n",
    "- double_plot(list_masses, list_abundances)->bokeh_plot_1, bokeh_plot_2\n",
    "\n",
    "- functional_group_finder(mol_smi)->list_functional, groups_contained\n",
    "\n",
    "- functional_group_display(ist_functionalgroups_contained)-> bokeh_plot_3\n",
    "\n",
    "- mol_web_show(mol_smi)->bokeh_plot_4\n",
    "\n",
    "- all_in_one(bokeh_plot_1, bokeh_plot_2, bokeh_plot_3)-> bokeh_plot_final\n",
    "\n",
    "- smiles_to_3D_plot(mol_smi)-> 3D_panel_plot"
   ]
  },
  {
   "cell_type": "markdown",
   "metadata": {},
   "source": [
    "from all of these functions, the following two main functions are most useful:\n",
    "## Main functions"
   ]
  },
  {
   "cell_type": "markdown",
   "metadata": {},
   "source": [
    "\n",
    "\n",
    "- spectrum(mol_smi, imprecision_True_False, apparatus_resolution)\n",
    "\n",
    "- specturm_3D(mol_smi, imprecision_True_False, apparatus_resolution)\n",
    "\n",
    "## Functionality\n",
    "The main functions can both be made by combining the basic functions.\n",
    "\n",
    "## 📚 Examples\n",
    "First, all of the basic functions will be shown, in order to then construct spectrum and spectrum_3D out of them. The resulting plots are fully interactive, so you can zoom in on the areas you want. \n",
    "\n"
   ]
  },
  {
   "cell_type": "markdown",
   "metadata": {},
   "source": [
    "## SMILEs interpreter\n",
    "This function takes a molecule under SMILEs representation as input and outputs its MOL representation."
   ]
  },
  {
   "cell_type": "code",
   "execution_count": 3,
   "metadata": {},
   "outputs": [
    {
     "name": "stdout",
     "output_type": "stream",
     "text": [
      "<rdkit.Chem.rdchem.Mol object at 0x146de0190>\n"
     ]
    }
   ],
   "source": [
    "import MASSiveChem.MASSiveChem as MC\n",
    "output = MC.SMILEs_interpreter('CC1(C(N2C(S1)C(C2=O)NC(=O)CC3=CC=CC=C3)C(=O)O)C')\n",
    "\n",
    "print(output)"
   ]
  },
  {
   "cell_type": "markdown",
   "metadata": {},
   "source": [
    "## molecule_list_generator\n",
    "This function takes a MOL representation as input and outputs a list of all of the atoms within that molecule"
   ]
  },
  {
   "cell_type": "code",
   "execution_count": 4,
   "metadata": {},
   "outputs": [
    {
     "name": "stdout",
     "output_type": "stream",
     "text": [
      "['C', 'C', 'C', 'N', 'C', 'S', 'C', 'C', 'O', 'N', 'C', 'O', 'C', 'C', 'C', 'C', 'C', 'C', 'C', 'C', 'O', 'O', 'C', 'H', 'H', 'H', 'H', 'H', 'H', 'H', 'H', 'H', 'H', 'H', 'H', 'H', 'H', 'H', 'H', 'H', 'H']\n"
     ]
    }
   ],
   "source": [
    "import MASSiveChem.MASSiveChem as MC\n",
    "mol = MC.SMILEs_interpreter('CC1(C(N2C(S1)C(C2=O)NC(=O)CC3=CC=CC=C3)C(=O)O)C')\n",
    "output = MC.molecule_list_generator(mol)\n",
    "\n",
    "print(output)"
   ]
  },
  {
   "cell_type": "markdown",
   "metadata": {},
   "source": [
    "## ionisation_method(list_atoms)\n",
    "This function takes a list of atoms as input and simply outputs the same list with a proton less (in essence, a hydrogen atom)"
   ]
  },
  {
   "cell_type": "code",
   "execution_count": 5,
   "metadata": {},
   "outputs": [
    {
     "name": "stdout",
     "output_type": "stream",
     "text": [
      "['C', 'C', 'C', 'N', 'C', 'S', 'C', 'C', 'O', 'N', 'C', 'O', 'C', 'C', 'C', 'C', 'C', 'C', 'C', 'C', 'O', 'O', 'C', 'H', 'H', 'H', 'H', 'H', 'H', 'H', 'H', 'H', 'H', 'H', 'H', 'H', 'H', 'H', 'H', 'H']\n"
     ]
    }
   ],
   "source": [
    "import MASSiveChem.MASSiveChem as MC\n",
    "\n",
    "list_atoms = ['C', 'C', 'C', 'N', 'C', 'S', 'C',\n",
    "            'C', 'O', 'N', 'C', 'O', 'C', 'C',\n",
    "            'C', 'C', 'C', 'C', 'C', 'C', 'O',\n",
    "            'O', 'C', 'H', 'H', 'H', 'H', 'H',\n",
    "            'H', 'H', 'H', 'H', 'H', 'H', 'H',\n",
    "            'H', 'H', 'H', 'H', 'H', 'H']\n",
    "\n",
    "print(MC.ionisation_method(list_atoms))"
   ]
  },
  {
   "cell_type": "markdown",
   "metadata": {},
   "source": [
    "## sulphur_nitrogen_finder(list_atoms)\n",
    "This function takes a list of atoms as input and outputs four values: has_N, has_S, count_N and count_S.\n",
    "has_N & has_S are True if there is an odd number of Nitrogen and Sulphur repsectively, and False otherwise."
   ]
  },
  {
   "cell_type": "code",
   "execution_count": 30,
   "metadata": {},
   "outputs": [
    {
     "name": "stdout",
     "output_type": "stream",
     "text": [
      "(False, True, 0, 1)\n"
     ]
    }
   ],
   "source": [
    "import MASSiveChem.MASSiveChem as MC\n",
    "\n",
    "list_atoms = ['C', 'C', 'C', 'N', 'C', 'S', 'C',\n",
    "            'C', 'O', 'N', 'C', 'O', 'C', 'C',\n",
    "            'C', 'C', 'C', 'C', 'C', 'C', 'O',\n",
    "            'O', 'C', 'H', 'H', 'H', 'H', 'H',\n",
    "            'H', 'H', 'H', 'H', 'H', 'H', 'H',\n",
    "            'H', 'H', 'H', 'H', 'H']\n",
    "\n",
    "output = (MC.sulphur_nitrogen_finder(list_atoms))\n",
    "print(output)"
   ]
  },
  {
   "cell_type": "markdown",
   "metadata": {},
   "source": [
    "## main_function(list_atoms)\n",
    "This function takes a list of atoms as an input, and will output two lists.\n",
    "\n",
    "The first (list_masses) is a list of the masses of all of the possible combinations of isotopes that can form the given molecule (under list representation) and the second (list_abundances) is a list of the probabilities of apparition of each of these combinations of isotopes.\n",
    "\n",
    "As such, both lists are the same length and the mass at index i in list_masses has the probability at index i in list_abundances associated to it."
   ]
  },
  {
   "cell_type": "code",
   "execution_count": 31,
   "metadata": {},
   "outputs": [
    {
     "name": "stdout",
     "output_type": "stream",
     "text": [
      "([335.098, 335.091, 336.09, 335.094, 336.099, 334.094, 336.084, 335.087, 335.085, 334.088, 337.086, 337.091, 336.091, 336.095, 334.09, 335.095, 334.095, 334.097, 333.091, 334.09], [0.011588526369405492, 0.0010318394920251141, 0.006155135615344779, 0.0010965205965578584, 0.0011140485120013646, 0.1389218494465703, 0.00025689925174544854, 0.034633431374818203, 1.0766569982707308e-05, 0.005798234418254755, 0.00016431194999935186, 0.0002773670046099724, 5.5473400921994485e-05, 4.9412174217928584e-05, 0.006161698124975695, 0.006260193058916763, 0.001252038611783352, 0.0019909461317594106, 0.7806460744469201, 0.006245168595575361])\n"
     ]
    }
   ],
   "source": [
    "import MASSiveChem.MASSiveChem as MC\n",
    "\n",
    "output = MC.main_function(['C', 'C', 'C', 'N', 'C', 'S', 'C','C', 'O', 'N', 'C', 'O', 'C', 'C',\n",
    "                            'C', 'C', 'C', 'C', 'C', 'C', 'O','O', 'C', 'H', 'H', 'H', 'H', 'H',\n",
    "                            'H', 'H', 'H', 'H', 'H', 'H', 'H','H', 'H', 'H', 'H', 'H'], True)\n",
    "\n",
    "print(output)"
   ]
  },
  {
   "cell_type": "markdown",
   "metadata": {},
   "source": [
    "## peak_merger(list_masses, list_abundances)\n",
    "This function takes the two lists outputted by main_function, and merges the values in list_abundances if their values in list_masses are the same."
   ]
  },
  {
   "cell_type": "code",
   "execution_count": 32,
   "metadata": {},
   "outputs": [
    {
     "name": "stdout",
     "output_type": "stream",
     "text": [
      "([335.092, 335.086, 333.71807812500003, 334.09], [0.14507698506191508, 0.006055133670000204, 0.8310629277992183, 0.006245168595575361])\n"
     ]
    }
   ],
   "source": [
    "import MASSiveChem.MASSiveChem as MC\n",
    "\n",
    "output = MC.peak_merger([336.09, 334.094, 336.084, 334.088, 337.086, 335.087, 334.09, 335.095, 334.095, 334.097, 333.091, 334.09], \n",
    "                        [0.006155135615344779, 0.1389218494465703, 0.00025689925174544854, 0.005798234418254755, 0.00016431194999935186,\n",
    "                        0.03458766547486355, 0.006161698124975695, 0.006260193058916763, 0.001252038611783352, 0.0019909461317594106, \n",
    "                        0.7806460744469201, 0.006245168595575361],\n",
    "                        0.01)\n",
    "\n",
    "print(output)"
   ]
  },
  {
   "cell_type": "markdown",
   "metadata": {},
   "source": [
    "## sulphur_nitrogen_adder(x_in, y_in, has_N, has_S, count_N, count_S)\n",
    "This function takes the two outputted lists from peak_merger and adds the values for the sulphur and nitrogen peaks (if they need adding)."
   ]
  },
  {
   "cell_type": "code",
   "execution_count": 33,
   "metadata": {},
   "outputs": [
    {
     "ename": "ValueError",
     "evalue": "The first list must be ordered",
     "output_type": "error",
     "traceback": [
      "\u001b[0;31m---------------------------------------------------------------------------\u001b[0m",
      "\u001b[0;31mValueError\u001b[0m                                Traceback (most recent call last)",
      "Cell \u001b[0;32mIn[33], line 10\u001b[0m\n\u001b[1;32m      7\u001b[0m count_N \u001b[38;5;241m=\u001b[39m \u001b[38;5;241m0\u001b[39m\n\u001b[1;32m      8\u001b[0m count_S \u001b[38;5;241m=\u001b[39m \u001b[38;5;241m1\u001b[39m\n\u001b[0;32m---> 10\u001b[0m output \u001b[38;5;241m=\u001b[39m \u001b[43mMC\u001b[49m\u001b[38;5;241;43m.\u001b[39;49m\u001b[43msulphur_nitrogen_adder\u001b[49m\u001b[43m(\u001b[49m\u001b[43mx_in\u001b[49m\u001b[43m,\u001b[49m\u001b[43m \u001b[49m\u001b[43my_in\u001b[49m\u001b[43m,\u001b[49m\u001b[43m \u001b[49m\u001b[43mhas_N\u001b[49m\u001b[43m,\u001b[49m\u001b[43m \u001b[49m\u001b[43mhas_S\u001b[49m\u001b[43m,\u001b[49m\u001b[43m \u001b[49m\u001b[43mcount_N\u001b[49m\u001b[43m,\u001b[49m\u001b[43m \u001b[49m\u001b[43mcount_S\u001b[49m\u001b[43m)\u001b[49m\n\u001b[1;32m     12\u001b[0m \u001b[38;5;28mprint\u001b[39m(output)\n",
      "File \u001b[0;32m~/anaconda3/envs/ppchem/lib/python3.10/site-packages/MASSiveChem/MASSiveChem.py:1596\u001b[0m, in \u001b[0;36msulphur_nitrogen_adder\u001b[0;34m(x_in, y_in, has_N, has_S, count_N, count_S)\u001b[0m\n\u001b[1;32m   1594\u001b[0m     \u001b[38;5;28;01mraise\u001b[39;00m \u001b[38;5;167;01mValueError\u001b[39;00m(\u001b[38;5;124m\"\u001b[39m\u001b[38;5;124mThe fifth argument must be a positive integer\u001b[39m\u001b[38;5;124m\"\u001b[39m)\n\u001b[1;32m   1595\u001b[0m \u001b[38;5;28;01mif\u001b[39;00m count_S \u001b[38;5;241m<\u001b[39m \u001b[38;5;241m0\u001b[39m:\n\u001b[0;32m-> 1596\u001b[0m     \u001b[38;5;28;01mraise\u001b[39;00m \u001b[38;5;167;01mValueError\u001b[39;00m(\u001b[38;5;124m\"\u001b[39m\u001b[38;5;124mThe sixth argument must be a positive integer\u001b[39m\u001b[38;5;124m\"\u001b[39m)\n\u001b[1;32m   1597\u001b[0m \u001b[38;5;28;01mif\u001b[39;00m \u001b[38;5;28mtype\u001b[39m(count_N) \u001b[38;5;241m!=\u001b[39m \u001b[38;5;28mint\u001b[39m:\n\u001b[1;32m   1598\u001b[0m     \u001b[38;5;28;01mraise\u001b[39;00m \u001b[38;5;167;01mValueError\u001b[39;00m(\u001b[38;5;124m\"\u001b[39m\u001b[38;5;124mThe fifth argument must be an integer\u001b[39m\u001b[38;5;124m\"\u001b[39m)\n",
      "\u001b[0;31mValueError\u001b[0m: The first list must be ordered"
     ]
    }
   ],
   "source": [
    "import MASSiveChem.MASSiveChem as MC\n",
    "\n",
    "x_in = [335.092, 335.086, 333.71807812500003, 334.09]\n",
    "y_in = [0.14507698506191508, 0.006055133670000204, 0.8310629277992183, 0.006245168595575361]\n",
    "has_N = False\n",
    "has_S = True\n",
    "count_N = 0\n",
    "count_S = 1\n",
    "\n",
    "output = MC.sulphur_nitrogen_adder(x_in, y_in, has_N, has_S, count_N, count_S)\n",
    "\n",
    "print(output)"
   ]
  },
  {
   "cell_type": "markdown",
   "metadata": {},
   "source": [
    "## peak_sorter(x_in, y_in)\n",
    "\n",
    "This function takes the two lists outputted by the previous function, and sorts them in order for the values in x_in to be increasing, whilst keeping the elements in y_in associated to the correct x_in values."
   ]
  },
  {
   "cell_type": "code",
   "execution_count": 11,
   "metadata": {},
   "outputs": [
    {
     "name": "stdout",
     "output_type": "stream",
     "text": [
      "([333.71807812500003, 334.09, 335.082, 335.086, 335.092], [0.8310629277992183, 0.006245168595575361, 0.006245168595575361, 0.006055133670000204, 0.14507698506191508])\n"
     ]
    }
   ],
   "source": [
    "import MASSiveChem.MASSiveChem as MC\n",
    "\n",
    "x_in = [335.092, 335.086, 333.71807812500003, 334.09, 335.082]\n",
    "y_in = [0.14507698506191508, 0.006055133670000204, 0.8310629277992183, 0.006245168595575361, 0.006245168595575361]\n",
    "\n",
    "output = MC.peak_sorter(x_in, y_in)\n",
    "\n",
    "print(output)"
   ]
  },
  {
   "cell_type": "markdown",
   "metadata": {},
   "source": [
    "## delta_function_plotter(x_in, y_in)\n",
    "\n",
    "This function takes the two lists from the previous function, and then adds values of 0 on the x axis around each point, in effect causing the points to form a Dirac delta function when plotted with a simple line connecting the points."
   ]
  },
  {
   "cell_type": "code",
   "execution_count": 12,
   "metadata": {},
   "outputs": [
    {
     "name": "stdout",
     "output_type": "stream",
     "text": [
      "([333.21807812500003, 333.71807812500003, 333.71807812500003, 333.71807812500003, 334.09, 334.09, 334.09, 335.082, 335.082, 335.082, 335.086, 335.086, 335.086, 335.092, 335.092, 335.092, 336.092], [0, 0, 0.8310629277992183, 0, 0, 0.006245168595575361, 0, 0, 0.006245168595575361, 0, 0, 0.006055133670000204, 0, 0, 0.14507698506191508, 0, 0])\n"
     ]
    }
   ],
   "source": [
    "import MASSiveChem.MASSiveChem as MC\n",
    "\n",
    "x_in = [333.71807812500003, 334.09, 335.082, 335.086, 335.092]\n",
    "y_in = [0.8310629277992183, 0.006245168595575361, 0.006245168595575361, 0.006055133670000204, 0.14507698506191508]\n",
    "\n",
    "output = MC.delta_function_plotter(x_in, y_in)\n",
    "\n",
    "print(output)"
   ]
  },
  {
   "cell_type": "markdown",
   "metadata": {},
   "source": [
    "## double_plot(x_in,y_in)\n",
    "\n",
    "This function takes as an input the list of the masses (x_in) and the list of their intensities (y_in) and plot them on a bokeh interface. The graph is interactive to be able to zoom on peaks."
   ]
  },
  {
   "cell_type": "code",
   "execution_count": 13,
   "metadata": {},
   "outputs": [
    {
     "data": {
      "text/html": [
       "    <style>\n",
       "        .bk-notebook-logo {\n",
       "            display: block;\n",
       "            width: 20px;\n",
       "            height: 20px;\n",
       "            background-image: url(data:image/png;base64,iVBORw0KGgoAAAANSUhEUgAAABQAAAAUCAYAAACNiR0NAAAABHNCSVQICAgIfAhkiAAAAAlwSFlzAAALEgAACxIB0t1+/AAAABx0RVh0U29mdHdhcmUAQWRvYmUgRmlyZXdvcmtzIENTNui8sowAAAOkSURBVDiNjZRtaJVlGMd/1/08zzln5zjP1LWcU9N0NkN8m2CYjpgQYQXqSs0I84OLIC0hkEKoPtiH3gmKoiJDU7QpLgoLjLIQCpEsNJ1vqUOdO7ppbuec5+V+rj4ctwzd8IIbbi6u+8f1539dt3A78eXC7QizUF7gyV1fD1Yqg4JWz84yffhm0qkFqBogB9rM8tZdtwVsPUhWhGcFJngGeWrPzHm5oaMmkfEg1usvLFyc8jLRqDOMru7AyC8saQr7GG7f5fvDeH7Ej8CM66nIF+8yngt6HWaKh7k49Soy9nXurCi1o3qUbS3zWfrYeQDTB/Qj6kX6Ybhw4B+bOYoLKCC9H3Nu/leUTZ1JdRWkkn2ldcCamzrcf47KKXdAJllSlxAOkRgyHsGC/zRday5Qld9DyoM4/q/rUoy/CXh3jzOu3bHUVZeU+DEn8FInkPBFlu3+nW3Nw0mk6vCDiWg8CeJaxEwuHS3+z5RgY+YBR6V1Z1nxSOfoaPa4LASWxxdNp+VWTk7+4vzaou8v8PN+xo+KY2xsw6une2frhw05CTYOmQvsEhjhWjn0bmXPjpE1+kplmmkP3suftwTubK9Vq22qKmrBhpY4jvd5afdRA3wGjFAgcnTK2s4hY0/GPNIb0nErGMCRxWOOX64Z8RAC4oCXdklmEvcL8o0BfkNK4lUg9HTl+oPlQxdNo3Mg4Nv175e/1LDGzZen30MEjRUtmXSfiTVu1kK8W4txyV6BMKlbgk3lMwYCiusNy9fVfvvwMxv8Ynl6vxoByANLTWplvuj/nF9m2+PDtt1eiHPBr1oIfhCChQMBw6Aw0UulqTKZdfVvfG7VcfIqLG9bcldL/+pdWTLxLUy8Qq38heUIjh4XlzZxzQm19lLFlr8vdQ97rjZVOLf8nclzckbcD4wxXMidpX30sFd37Fv/GtwwhzhxGVAprjbg0gCAEeIgwCZyTV2Z1REEW8O4py0wsjeloKoMr6iCY6dP92H6Vw/oTyICIthibxjm/DfN9lVz8IqtqKYLUXfoKVMVQVVJOElGjrnnUt9T9wbgp8AyYKaGlqingHZU/uG2NTZSVqwHQTWkx9hxjkpWDaCg6Ckj5qebgBVbT3V3NNXMSiWSDdGV3hrtzla7J+duwPOToIg42ChPQOQjspnSlp1V+Gjdged7+8UN5CRAV7a5EdFNwCjEaBR27b3W890TE7g24NAP/mMDXRWrGoFPQI9ls/MWO2dWFAar/xcOIImbbpA3zgAAAABJRU5ErkJggg==);\n",
       "        }\n",
       "    </style>\n",
       "    <div>\n",
       "        <a href=\"https://bokeh.org\" target=\"_blank\" class=\"bk-notebook-logo\"></a>\n",
       "        <span id=\"c6111faf-9ce5-47a6-8a1f-9f34ab32e311\">Loading BokehJS ...</span>\n",
       "    </div>\n"
      ]
     },
     "metadata": {},
     "output_type": "display_data"
    },
    {
     "data": {
      "application/javascript": "'use strict';\n(function(root) {\n  function now() {\n    return new Date();\n  }\n\n  const force = true;\n\n  if (typeof root._bokeh_onload_callbacks === \"undefined\" || force === true) {\n    root._bokeh_onload_callbacks = [];\n    root._bokeh_is_loading = undefined;\n  }\n\nconst JS_MIME_TYPE = 'application/javascript';\n  const HTML_MIME_TYPE = 'text/html';\n  const EXEC_MIME_TYPE = 'application/vnd.bokehjs_exec.v0+json';\n  const CLASS_NAME = 'output_bokeh rendered_html';\n\n  /**\n   * Render data to the DOM node\n   */\n  function render(props, node) {\n    const script = document.createElement(\"script\");\n    node.appendChild(script);\n  }\n\n  /**\n   * Handle when an output is cleared or removed\n   */\n  function handleClearOutput(event, handle) {\n    function drop(id) {\n      const view = Bokeh.index.get_by_id(id)\n      if (view != null) {\n        view.model.document.clear()\n        Bokeh.index.delete(view)\n      }\n    }\n\n    const cell = handle.cell;\n\n    const id = cell.output_area._bokeh_element_id;\n    const server_id = cell.output_area._bokeh_server_id;\n\n    // Clean up Bokeh references\n    if (id != null) {\n      drop(id)\n    }\n\n    if (server_id !== undefined) {\n      // Clean up Bokeh references\n      const cmd_clean = \"from bokeh.io.state import curstate; print(curstate().uuid_to_server['\" + server_id + \"'].get_sessions()[0].document.roots[0]._id)\";\n      cell.notebook.kernel.execute(cmd_clean, {\n        iopub: {\n          output: function(msg) {\n            const id = msg.content.text.trim()\n            drop(id)\n          }\n        }\n      });\n      // Destroy server and session\n      const cmd_destroy = \"import bokeh.io.notebook as ion; ion.destroy_server('\" + server_id + \"')\";\n      cell.notebook.kernel.execute(cmd_destroy);\n    }\n  }\n\n  /**\n   * Handle when a new output is added\n   */\n  function handleAddOutput(event, handle) {\n    const output_area = handle.output_area;\n    const output = handle.output;\n\n    // limit handleAddOutput to display_data with EXEC_MIME_TYPE content only\n    if ((output.output_type != \"display_data\") || (!Object.prototype.hasOwnProperty.call(output.data, EXEC_MIME_TYPE))) {\n      return\n    }\n\n    const toinsert = output_area.element.find(\".\" + CLASS_NAME.split(' ')[0]);\n\n    if (output.metadata[EXEC_MIME_TYPE][\"id\"] !== undefined) {\n      toinsert[toinsert.length - 1].firstChild.textContent = output.data[JS_MIME_TYPE];\n      // store reference to embed id on output_area\n      output_area._bokeh_element_id = output.metadata[EXEC_MIME_TYPE][\"id\"];\n    }\n    if (output.metadata[EXEC_MIME_TYPE][\"server_id\"] !== undefined) {\n      const bk_div = document.createElement(\"div\");\n      bk_div.innerHTML = output.data[HTML_MIME_TYPE];\n      const script_attrs = bk_div.children[0].attributes;\n      for (let i = 0; i < script_attrs.length; i++) {\n        toinsert[toinsert.length - 1].firstChild.setAttribute(script_attrs[i].name, script_attrs[i].value);\n        toinsert[toinsert.length - 1].firstChild.textContent = bk_div.children[0].textContent\n      }\n      // store reference to server id on output_area\n      output_area._bokeh_server_id = output.metadata[EXEC_MIME_TYPE][\"server_id\"];\n    }\n  }\n\n  function register_renderer(events, OutputArea) {\n\n    function append_mime(data, metadata, element) {\n      // create a DOM node to render to\n      const toinsert = this.create_output_subarea(\n        metadata,\n        CLASS_NAME,\n        EXEC_MIME_TYPE\n      );\n      this.keyboard_manager.register_events(toinsert);\n      // Render to node\n      const props = {data: data, metadata: metadata[EXEC_MIME_TYPE]};\n      render(props, toinsert[toinsert.length - 1]);\n      element.append(toinsert);\n      return toinsert\n    }\n\n    /* Handle when an output is cleared or removed */\n    events.on('clear_output.CodeCell', handleClearOutput);\n    events.on('delete.Cell', handleClearOutput);\n\n    /* Handle when a new output is added */\n    events.on('output_added.OutputArea', handleAddOutput);\n\n    /**\n     * Register the mime type and append_mime function with output_area\n     */\n    OutputArea.prototype.register_mime_type(EXEC_MIME_TYPE, append_mime, {\n      /* Is output safe? */\n      safe: true,\n      /* Index of renderer in `output_area.display_order` */\n      index: 0\n    });\n  }\n\n  // register the mime type if in Jupyter Notebook environment and previously unregistered\n  if (root.Jupyter !== undefined) {\n    const events = require('base/js/events');\n    const OutputArea = require('notebook/js/outputarea').OutputArea;\n\n    if (OutputArea.prototype.mime_types().indexOf(EXEC_MIME_TYPE) == -1) {\n      register_renderer(events, OutputArea);\n    }\n  }\n  if (typeof (root._bokeh_timeout) === \"undefined\" || force === true) {\n    root._bokeh_timeout = Date.now() + 5000;\n    root._bokeh_failed_load = false;\n  }\n\n  const NB_LOAD_WARNING = {'data': {'text/html':\n     \"<div style='background-color: #fdd'>\\n\"+\n     \"<p>\\n\"+\n     \"BokehJS does not appear to have successfully loaded. If loading BokehJS from CDN, this \\n\"+\n     \"may be due to a slow or bad network connection. Possible fixes:\\n\"+\n     \"</p>\\n\"+\n     \"<ul>\\n\"+\n     \"<li>re-rerun `output_notebook()` to attempt to load from CDN again, or</li>\\n\"+\n     \"<li>use INLINE resources instead, as so:</li>\\n\"+\n     \"</ul>\\n\"+\n     \"<code>\\n\"+\n     \"from bokeh.resources import INLINE\\n\"+\n     \"output_notebook(resources=INLINE)\\n\"+\n     \"</code>\\n\"+\n     \"</div>\"}};\n\n  function display_loaded(error = null) {\n    const el = document.getElementById(\"c6111faf-9ce5-47a6-8a1f-9f34ab32e311\");\n    if (el != null) {\n      const html = (() => {\n        if (typeof root.Bokeh === \"undefined\") {\n          if (error == null) {\n            return \"BokehJS is loading ...\";\n          } else {\n            return \"BokehJS failed to load.\";\n          }\n        } else {\n          const prefix = `BokehJS ${root.Bokeh.version}`;\n          if (error == null) {\n            return `${prefix} successfully loaded.`;\n          } else {\n            return `${prefix} <b>encountered errors</b> while loading and may not function as expected.`;\n          }\n        }\n      })();\n      el.innerHTML = html;\n\n      if (error != null) {\n        const wrapper = document.createElement(\"div\");\n        wrapper.style.overflow = \"auto\";\n        wrapper.style.height = \"5em\";\n        wrapper.style.resize = \"vertical\";\n        const content = document.createElement(\"div\");\n        content.style.fontFamily = \"monospace\";\n        content.style.whiteSpace = \"pre-wrap\";\n        content.style.backgroundColor = \"rgb(255, 221, 221)\";\n        content.textContent = error.stack ?? error.toString();\n        wrapper.append(content);\n        el.append(wrapper);\n      }\n    } else if (Date.now() < root._bokeh_timeout) {\n      setTimeout(() => display_loaded(error), 100);\n    }\n  }\n\n  function run_callbacks() {\n    try {\n      root._bokeh_onload_callbacks.forEach(function(callback) {\n        if (callback != null)\n          callback();\n      });\n    } finally {\n      delete root._bokeh_onload_callbacks\n    }\n    console.debug(\"Bokeh: all callbacks have finished\");\n  }\n\n  function load_libs(css_urls, js_urls, callback) {\n    if (css_urls == null) css_urls = [];\n    if (js_urls == null) js_urls = [];\n\n    root._bokeh_onload_callbacks.push(callback);\n    if (root._bokeh_is_loading > 0) {\n      console.debug(\"Bokeh: BokehJS is being loaded, scheduling callback at\", now());\n      return null;\n    }\n    if (js_urls == null || js_urls.length === 0) {\n      run_callbacks();\n      return null;\n    }\n    console.debug(\"Bokeh: BokehJS not loaded, scheduling load and callback at\", now());\n    root._bokeh_is_loading = css_urls.length + js_urls.length;\n\n    function on_load() {\n      root._bokeh_is_loading--;\n      if (root._bokeh_is_loading === 0) {\n        console.debug(\"Bokeh: all BokehJS libraries/stylesheets loaded\");\n        run_callbacks()\n      }\n    }\n\n    function on_error(url) {\n      console.error(\"failed to load \" + url);\n    }\n\n    for (let i = 0; i < css_urls.length; i++) {\n      const url = css_urls[i];\n      const element = document.createElement(\"link\");\n      element.onload = on_load;\n      element.onerror = on_error.bind(null, url);\n      element.rel = \"stylesheet\";\n      element.type = \"text/css\";\n      element.href = url;\n      console.debug(\"Bokeh: injecting link tag for BokehJS stylesheet: \", url);\n      document.body.appendChild(element);\n    }\n\n    for (let i = 0; i < js_urls.length; i++) {\n      const url = js_urls[i];\n      const element = document.createElement('script');\n      element.onload = on_load;\n      element.onerror = on_error.bind(null, url);\n      element.async = false;\n      element.src = url;\n      console.debug(\"Bokeh: injecting script tag for BokehJS library: \", url);\n      document.head.appendChild(element);\n    }\n  };\n\n  function inject_raw_css(css) {\n    const element = document.createElement(\"style\");\n    element.appendChild(document.createTextNode(css));\n    document.body.appendChild(element);\n  }\n\n  const js_urls = [\"https://cdn.bokeh.org/bokeh/release/bokeh-3.4.1.min.js\", \"https://cdn.bokeh.org/bokeh/release/bokeh-gl-3.4.1.min.js\", \"https://cdn.bokeh.org/bokeh/release/bokeh-widgets-3.4.1.min.js\", \"https://cdn.bokeh.org/bokeh/release/bokeh-tables-3.4.1.min.js\", \"https://cdn.bokeh.org/bokeh/release/bokeh-mathjax-3.4.1.min.js\", \"https://unpkg.com/@holoviz/panel@1.4.2/dist/panel.min.js\"];\n  const css_urls = [];\n\n  const inline_js = [    function(Bokeh) {\n      Bokeh.set_log_level(\"info\");\n    },\nfunction(Bokeh) {\n    }\n  ];\n\n  function run_inline_js() {\n    if (root.Bokeh !== undefined || force === true) {\n      try {\n            for (let i = 0; i < inline_js.length; i++) {\n      inline_js[i].call(root, root.Bokeh);\n    }\n\n      } catch (error) {display_loaded(error);throw error;\n      }if (force === true) {\n        display_loaded();\n      }} else if (Date.now() < root._bokeh_timeout) {\n      setTimeout(run_inline_js, 100);\n    } else if (!root._bokeh_failed_load) {\n      console.log(\"Bokeh: BokehJS failed to load within specified timeout.\");\n      root._bokeh_failed_load = true;\n    } else if (force !== true) {\n      const cell = $(document.getElementById(\"c6111faf-9ce5-47a6-8a1f-9f34ab32e311\")).parents('.cell').data().cell;\n      cell.output_area.append_execute_result(NB_LOAD_WARNING)\n    }\n  }\n\n  if (root._bokeh_is_loading === 0) {\n    console.debug(\"Bokeh: BokehJS loaded, going straight to plotting\");\n    run_inline_js();\n  } else {\n    load_libs(css_urls, js_urls, function() {\n      console.debug(\"Bokeh: BokehJS plotting callback run at\", now());\n      run_inline_js();\n    });\n  }\n}(window));",
      "application/vnd.bokehjs_load.v0+json": ""
     },
     "metadata": {},
     "output_type": "display_data"
    },
    {
     "name": "stdout",
     "output_type": "stream",
     "text": [
      "here\n"
     ]
    },
    {
     "data": {
      "text/html": [
       "\n",
       "  <div id=\"ff49f85d-d1f1-4cd2-9f19-bf3cdcd1e014\" data-root-id=\"p1227\" style=\"display: contents;\"></div>\n"
      ]
     },
     "metadata": {},
     "output_type": "display_data"
    },
    {
     "data": {
      "application/javascript": "(function(root) {\n  function embed_document(root) {\n  const docs_json = {\"7c305246-ef29-411b-98f5-13101d1feb40\":{\"version\":\"3.4.1\",\"title\":\"Bokeh Application\",\"roots\":[{\"type\":\"object\",\"name\":\"Column\",\"id\":\"p1227\",\"attributes\":{\"children\":[{\"type\":\"object\",\"name\":\"Figure\",\"id\":\"p1067\",\"attributes\":{\"height\":500,\"x_range\":{\"type\":\"object\",\"name\":\"DataRange1d\",\"id\":\"p1068\",\"attributes\":{\"js_property_callbacks\":{\"type\":\"map\",\"entries\":[[\"change:start\",[{\"type\":\"object\",\"name\":\"CustomJS\",\"id\":\"p1225\",\"attributes\":{\"args\":{\"type\":\"map\",\"entries\":[[\"box\",{\"type\":\"object\",\"name\":\"BoxAnnotation\",\"id\":\"p1220\",\"attributes\":{\"left\":0,\"right\":0,\"top\":0,\"bottom\":0,\"line_color\":\"red\",\"fill_color\":\"cornflowerblue\",\"fill_alpha\":0.1}}]]},\"code\":\"\\n        box['left'] = cb_obj.start\\n        box['right'] = cb_obj.end\\n    \"}}]],[\"change:end\",[{\"id\":\"p1225\"}]]]}}},\"y_range\":{\"type\":\"object\",\"name\":\"DataRange1d\",\"id\":\"p1069\",\"attributes\":{\"js_property_callbacks\":{\"type\":\"map\",\"entries\":[[\"change:start\",[{\"type\":\"object\",\"name\":\"CustomJS\",\"id\":\"p1226\",\"attributes\":{\"args\":{\"type\":\"map\",\"entries\":[[\"box\",{\"id\":\"p1220\"}]]},\"code\":\"\\n        box['bottom'] = cb_obj.start\\n        box['top'] = cb_obj.end\\n    \"}}]],[\"change:end\",[{\"id\":\"p1226\"}]]]}}},\"x_scale\":{\"type\":\"object\",\"name\":\"LinearScale\",\"id\":\"p1076\"},\"y_scale\":{\"type\":\"object\",\"name\":\"LinearScale\",\"id\":\"p1077\"},\"title\":{\"type\":\"object\",\"name\":\"Title\",\"id\":\"p1074\"},\"renderers\":[{\"type\":\"object\",\"name\":\"GlyphRenderer\",\"id\":\"p1108\",\"attributes\":{\"data_source\":{\"type\":\"object\",\"name\":\"ColumnDataSource\",\"id\":\"p1102\",\"attributes\":{\"selected\":{\"type\":\"object\",\"name\":\"Selection\",\"id\":\"p1103\",\"attributes\":{\"indices\":[],\"line_indices\":[]}},\"selection_policy\":{\"type\":\"object\",\"name\":\"UnionRenderers\",\"id\":\"p1104\"},\"data\":{\"type\":\"map\",\"entries\":[[\"x\",[333.21807812500003,333.71807812500003,333.71807812500003,333.71807812500003,334.09,334.09,334.09,335.082,335.082,335.082,335.086,335.086,335.086,335.092,335.092,335.092,336.092]],[\"y\",[0,0,0.8310629277992183,0,0,0.006245168595575361,0,0,0.006245168595575361,0,0,0.006055133670000204,0,0,0.14507698506191508,0,0]]]}}},\"view\":{\"type\":\"object\",\"name\":\"CDSView\",\"id\":\"p1109\",\"attributes\":{\"filter\":{\"type\":\"object\",\"name\":\"AllIndices\",\"id\":\"p1110\"}}},\"glyph\":{\"type\":\"object\",\"name\":\"Line\",\"id\":\"p1105\",\"attributes\":{\"x\":{\"type\":\"field\",\"field\":\"x\"},\"y\":{\"type\":\"field\",\"field\":\"y\"},\"line_color\":\"#1f77b4\"}},\"nonselection_glyph\":{\"type\":\"object\",\"name\":\"Line\",\"id\":\"p1106\",\"attributes\":{\"x\":{\"type\":\"field\",\"field\":\"x\"},\"y\":{\"type\":\"field\",\"field\":\"y\"},\"line_color\":\"#1f77b4\",\"line_alpha\":0.1}},\"muted_glyph\":{\"type\":\"object\",\"name\":\"Line\",\"id\":\"p1107\",\"attributes\":{\"x\":{\"type\":\"field\",\"field\":\"x\"},\"y\":{\"type\":\"field\",\"field\":\"y\"},\"line_color\":\"#1f77b4\",\"line_alpha\":0.2}}}}],\"toolbar\":{\"type\":\"object\",\"name\":\"Toolbar\",\"id\":\"p1075\",\"attributes\":{\"tools\":[{\"type\":\"object\",\"name\":\"PanTool\",\"id\":\"p1088\"},{\"type\":\"object\",\"name\":\"WheelZoomTool\",\"id\":\"p1089\",\"attributes\":{\"renderers\":\"auto\"}},{\"type\":\"object\",\"name\":\"BoxZoomTool\",\"id\":\"p1090\",\"attributes\":{\"overlay\":{\"type\":\"object\",\"name\":\"BoxAnnotation\",\"id\":\"p1091\",\"attributes\":{\"syncable\":false,\"level\":\"overlay\",\"visible\":false,\"left\":{\"type\":\"number\",\"value\":\"nan\"},\"right\":{\"type\":\"number\",\"value\":\"nan\"},\"top\":{\"type\":\"number\",\"value\":\"nan\"},\"bottom\":{\"type\":\"number\",\"value\":\"nan\"},\"left_units\":\"canvas\",\"right_units\":\"canvas\",\"top_units\":\"canvas\",\"bottom_units\":\"canvas\",\"line_color\":\"black\",\"line_alpha\":1.0,\"line_width\":2,\"line_dash\":[4,4],\"fill_color\":\"lightgrey\",\"fill_alpha\":0.5}}}},{\"type\":\"object\",\"name\":\"SaveTool\",\"id\":\"p1096\"},{\"type\":\"object\",\"name\":\"ResetTool\",\"id\":\"p1097\"},{\"type\":\"object\",\"name\":\"HelpTool\",\"id\":\"p1098\"},{\"type\":\"object\",\"name\":\"WheelPanTool\",\"id\":\"p1100\",\"attributes\":{\"dimension\":\"height\"}},{\"type\":\"object\",\"name\":\"WheelZoomTool\",\"id\":\"p1101\",\"attributes\":{\"dimensions\":\"height\",\"renderers\":\"auto\"}}]}},\"left\":[{\"type\":\"object\",\"name\":\"LinearAxis\",\"id\":\"p1083\",\"attributes\":{\"ticker\":{\"type\":\"object\",\"name\":\"BasicTicker\",\"id\":\"p1084\",\"attributes\":{\"mantissas\":[1,2,5]}},\"formatter\":{\"type\":\"object\",\"name\":\"BasicTickFormatter\",\"id\":\"p1085\"},\"axis_label\":\"Abundance\",\"major_label_policy\":{\"type\":\"object\",\"name\":\"AllLabels\",\"id\":\"p1086\"}}}],\"below\":[{\"type\":\"object\",\"name\":\"LinearAxis\",\"id\":\"p1078\",\"attributes\":{\"ticker\":{\"type\":\"object\",\"name\":\"FixedTicker\",\"id\":\"p1099\",\"attributes\":{\"ticks\":[333.71807812500003,334.09,335.082,335.086,335.092],\"minor_ticks\":[]}},\"formatter\":{\"type\":\"object\",\"name\":\"BasicTickFormatter\",\"id\":\"p1080\"},\"axis_label\":\"[m/z]\",\"major_label_policy\":{\"type\":\"object\",\"name\":\"AllLabels\",\"id\":\"p1081\"}}}],\"center\":[{\"type\":\"object\",\"name\":\"Grid\",\"id\":\"p1082\",\"attributes\":{\"axis\":{\"id\":\"p1078\"}}},{\"type\":\"object\",\"name\":\"Grid\",\"id\":\"p1087\",\"attributes\":{\"dimension\":1,\"axis\":{\"id\":\"p1083\"}}}]}},{\"type\":\"object\",\"name\":\"Figure\",\"id\":\"p1177\",\"attributes\":{\"height\":300,\"x_range\":{\"type\":\"object\",\"name\":\"DataRange1d\",\"id\":\"p1178\"},\"y_range\":{\"type\":\"object\",\"name\":\"DataRange1d\",\"id\":\"p1179\"},\"x_scale\":{\"type\":\"object\",\"name\":\"LinearScale\",\"id\":\"p1186\"},\"y_scale\":{\"type\":\"object\",\"name\":\"LinearScale\",\"id\":\"p1187\"},\"title\":{\"type\":\"object\",\"name\":\"Title\",\"id\":\"p1184\"},\"renderers\":[{\"type\":\"object\",\"name\":\"GlyphRenderer\",\"id\":\"p1215\",\"attributes\":{\"data_source\":{\"type\":\"object\",\"name\":\"ColumnDataSource\",\"id\":\"p1209\",\"attributes\":{\"selected\":{\"type\":\"object\",\"name\":\"Selection\",\"id\":\"p1210\",\"attributes\":{\"indices\":[],\"line_indices\":[]}},\"selection_policy\":{\"type\":\"object\",\"name\":\"UnionRenderers\",\"id\":\"p1211\"},\"data\":{\"type\":\"map\",\"entries\":[[\"x\",[333.21807812500003,333.71807812500003,333.71807812500003,333.71807812500003,334.09,334.09,334.09,335.082,335.082,335.082,335.086,335.086,335.086,335.092,335.092,335.092,336.092]],[\"y\",[0,0,0.8310629277992183,0,0,0.006245168595575361,0,0,0.006245168595575361,0,0,0.006055133670000204,0,0,0.14507698506191508,0,0]]]}}},\"view\":{\"type\":\"object\",\"name\":\"CDSView\",\"id\":\"p1216\",\"attributes\":{\"filter\":{\"type\":\"object\",\"name\":\"AllIndices\",\"id\":\"p1217\"}}},\"glyph\":{\"type\":\"object\",\"name\":\"Line\",\"id\":\"p1212\",\"attributes\":{\"x\":{\"type\":\"field\",\"field\":\"x\"},\"y\":{\"type\":\"field\",\"field\":\"y\"},\"line_color\":\"#1f77b4\"}},\"nonselection_glyph\":{\"type\":\"object\",\"name\":\"Line\",\"id\":\"p1213\",\"attributes\":{\"x\":{\"type\":\"field\",\"field\":\"x\"},\"y\":{\"type\":\"field\",\"field\":\"y\"},\"line_color\":\"#1f77b4\",\"line_alpha\":0.1}},\"muted_glyph\":{\"type\":\"object\",\"name\":\"Line\",\"id\":\"p1214\",\"attributes\":{\"x\":{\"type\":\"field\",\"field\":\"x\"},\"y\":{\"type\":\"field\",\"field\":\"y\"},\"line_color\":\"#1f77b4\",\"line_alpha\":0.2}}}}],\"toolbar\":{\"type\":\"object\",\"name\":\"Toolbar\",\"id\":\"p1185\",\"attributes\":{\"tools\":[{\"type\":\"object\",\"name\":\"PanTool\",\"id\":\"p1198\"},{\"type\":\"object\",\"name\":\"WheelZoomTool\",\"id\":\"p1199\",\"attributes\":{\"renderers\":\"auto\"}},{\"type\":\"object\",\"name\":\"BoxZoomTool\",\"id\":\"p1200\",\"attributes\":{\"overlay\":{\"type\":\"object\",\"name\":\"BoxAnnotation\",\"id\":\"p1201\",\"attributes\":{\"syncable\":false,\"level\":\"overlay\",\"visible\":false,\"left\":{\"type\":\"number\",\"value\":\"nan\"},\"right\":{\"type\":\"number\",\"value\":\"nan\"},\"top\":{\"type\":\"number\",\"value\":\"nan\"},\"bottom\":{\"type\":\"number\",\"value\":\"nan\"},\"left_units\":\"canvas\",\"right_units\":\"canvas\",\"top_units\":\"canvas\",\"bottom_units\":\"canvas\",\"line_color\":\"black\",\"line_alpha\":1.0,\"line_width\":2,\"line_dash\":[4,4],\"fill_color\":\"lightgrey\",\"fill_alpha\":0.5}}}},{\"type\":\"object\",\"name\":\"SaveTool\",\"id\":\"p1206\"},{\"type\":\"object\",\"name\":\"ResetTool\",\"id\":\"p1207\"},{\"type\":\"object\",\"name\":\"HelpTool\",\"id\":\"p1208\"}]}},\"toolbar_location\":null,\"left\":[{\"type\":\"object\",\"name\":\"LinearAxis\",\"id\":\"p1193\",\"attributes\":{\"ticker\":{\"type\":\"object\",\"name\":\"BasicTicker\",\"id\":\"p1194\",\"attributes\":{\"mantissas\":[1,2,5]}},\"formatter\":{\"type\":\"object\",\"name\":\"BasicTickFormatter\",\"id\":\"p1195\"},\"major_label_policy\":{\"type\":\"object\",\"name\":\"AllLabels\",\"id\":\"p1196\"}}}],\"below\":[{\"type\":\"object\",\"name\":\"LinearAxis\",\"id\":\"p1188\",\"attributes\":{\"ticker\":{\"type\":\"object\",\"name\":\"BasicTicker\",\"id\":\"p1189\",\"attributes\":{\"mantissas\":[1,2,5]}},\"formatter\":{\"type\":\"object\",\"name\":\"BasicTickFormatter\",\"id\":\"p1190\"},\"major_label_policy\":{\"type\":\"object\",\"name\":\"AllLabels\",\"id\":\"p1191\"}}}],\"center\":[{\"type\":\"object\",\"name\":\"Grid\",\"id\":\"p1192\",\"attributes\":{\"axis\":{\"id\":\"p1188\"}}},{\"type\":\"object\",\"name\":\"Grid\",\"id\":\"p1197\",\"attributes\":{\"dimension\":1,\"axis\":{\"id\":\"p1193\"}}},{\"type\":\"object\",\"name\":\"Legend\",\"id\":\"p1218\",\"attributes\":{\"items\":[{\"type\":\"object\",\"name\":\"LegendItem\",\"id\":\"p1219\",\"attributes\":{\"label\":{\"type\":\"value\",\"value\":\"Mass spectrum\"},\"renderers\":[{\"id\":\"p1215\"}]}}]}},{\"id\":\"p1220\"}]}}]}}],\"defs\":[{\"type\":\"model\",\"name\":\"ReactiveHTML1\"},{\"type\":\"model\",\"name\":\"FlexBox1\",\"properties\":[{\"name\":\"align_content\",\"kind\":\"Any\",\"default\":\"flex-start\"},{\"name\":\"align_items\",\"kind\":\"Any\",\"default\":\"flex-start\"},{\"name\":\"flex_direction\",\"kind\":\"Any\",\"default\":\"row\"},{\"name\":\"flex_wrap\",\"kind\":\"Any\",\"default\":\"wrap\"},{\"name\":\"gap\",\"kind\":\"Any\",\"default\":\"\"},{\"name\":\"justify_content\",\"kind\":\"Any\",\"default\":\"flex-start\"}]},{\"type\":\"model\",\"name\":\"FloatPanel1\",\"properties\":[{\"name\":\"config\",\"kind\":\"Any\",\"default\":{\"type\":\"map\"}},{\"name\":\"contained\",\"kind\":\"Any\",\"default\":true},{\"name\":\"position\",\"kind\":\"Any\",\"default\":\"right-top\"},{\"name\":\"offsetx\",\"kind\":\"Any\",\"default\":null},{\"name\":\"offsety\",\"kind\":\"Any\",\"default\":null},{\"name\":\"theme\",\"kind\":\"Any\",\"default\":\"primary\"},{\"name\":\"status\",\"kind\":\"Any\",\"default\":\"normalized\"}]},{\"type\":\"model\",\"name\":\"GridStack1\",\"properties\":[{\"name\":\"mode\",\"kind\":\"Any\",\"default\":\"warn\"},{\"name\":\"ncols\",\"kind\":\"Any\",\"default\":null},{\"name\":\"nrows\",\"kind\":\"Any\",\"default\":null},{\"name\":\"allow_resize\",\"kind\":\"Any\",\"default\":true},{\"name\":\"allow_drag\",\"kind\":\"Any\",\"default\":true},{\"name\":\"state\",\"kind\":\"Any\",\"default\":[]}]},{\"type\":\"model\",\"name\":\"drag1\",\"properties\":[{\"name\":\"slider_width\",\"kind\":\"Any\",\"default\":5},{\"name\":\"slider_color\",\"kind\":\"Any\",\"default\":\"black\"},{\"name\":\"value\",\"kind\":\"Any\",\"default\":50}]},{\"type\":\"model\",\"name\":\"click1\",\"properties\":[{\"name\":\"terminal_output\",\"kind\":\"Any\",\"default\":\"\"},{\"name\":\"debug_name\",\"kind\":\"Any\",\"default\":\"\"},{\"name\":\"clears\",\"kind\":\"Any\",\"default\":0}]},{\"type\":\"model\",\"name\":\"FastWrapper1\",\"properties\":[{\"name\":\"object\",\"kind\":\"Any\",\"default\":null},{\"name\":\"style\",\"kind\":\"Any\",\"default\":null}]},{\"type\":\"model\",\"name\":\"NotificationAreaBase1\",\"properties\":[{\"name\":\"js_events\",\"kind\":\"Any\",\"default\":{\"type\":\"map\"}},{\"name\":\"position\",\"kind\":\"Any\",\"default\":\"bottom-right\"},{\"name\":\"_clear\",\"kind\":\"Any\",\"default\":0}]},{\"type\":\"model\",\"name\":\"NotificationArea1\",\"properties\":[{\"name\":\"js_events\",\"kind\":\"Any\",\"default\":{\"type\":\"map\"}},{\"name\":\"notifications\",\"kind\":\"Any\",\"default\":[]},{\"name\":\"position\",\"kind\":\"Any\",\"default\":\"bottom-right\"},{\"name\":\"_clear\",\"kind\":\"Any\",\"default\":0},{\"name\":\"types\",\"kind\":\"Any\",\"default\":[{\"type\":\"map\",\"entries\":[[\"type\",\"warning\"],[\"background\",\"#ffc107\"],[\"icon\",{\"type\":\"map\",\"entries\":[[\"className\",\"fas fa-exclamation-triangle\"],[\"tagName\",\"i\"],[\"color\",\"white\"]]}]]},{\"type\":\"map\",\"entries\":[[\"type\",\"info\"],[\"background\",\"#007bff\"],[\"icon\",{\"type\":\"map\",\"entries\":[[\"className\",\"fas fa-info-circle\"],[\"tagName\",\"i\"],[\"color\",\"white\"]]}]]}]}]},{\"type\":\"model\",\"name\":\"Notification\",\"properties\":[{\"name\":\"background\",\"kind\":\"Any\",\"default\":null},{\"name\":\"duration\",\"kind\":\"Any\",\"default\":3000},{\"name\":\"icon\",\"kind\":\"Any\",\"default\":null},{\"name\":\"message\",\"kind\":\"Any\",\"default\":\"\"},{\"name\":\"notification_type\",\"kind\":\"Any\",\"default\":null},{\"name\":\"_destroyed\",\"kind\":\"Any\",\"default\":false}]},{\"type\":\"model\",\"name\":\"TemplateActions1\",\"properties\":[{\"name\":\"open_modal\",\"kind\":\"Any\",\"default\":0},{\"name\":\"close_modal\",\"kind\":\"Any\",\"default\":0}]},{\"type\":\"model\",\"name\":\"BootstrapTemplateActions1\",\"properties\":[{\"name\":\"open_modal\",\"kind\":\"Any\",\"default\":0},{\"name\":\"close_modal\",\"kind\":\"Any\",\"default\":0}]},{\"type\":\"model\",\"name\":\"TemplateEditor1\",\"properties\":[{\"name\":\"layout\",\"kind\":\"Any\",\"default\":[]}]},{\"type\":\"model\",\"name\":\"MaterialTemplateActions1\",\"properties\":[{\"name\":\"open_modal\",\"kind\":\"Any\",\"default\":0},{\"name\":\"close_modal\",\"kind\":\"Any\",\"default\":0}]},{\"type\":\"model\",\"name\":\"copy_to_clipboard1\",\"properties\":[{\"name\":\"fill\",\"kind\":\"Any\",\"default\":\"none\"},{\"name\":\"value\",\"kind\":\"Any\",\"default\":null}]}]}};\n  const render_items = [{\"docid\":\"7c305246-ef29-411b-98f5-13101d1feb40\",\"roots\":{\"p1227\":\"ff49f85d-d1f1-4cd2-9f19-bf3cdcd1e014\"},\"root_ids\":[\"p1227\"]}];\n  void root.Bokeh.embed.embed_items_notebook(docs_json, render_items);\n  }\n  if (root.Bokeh !== undefined) {\n    embed_document(root);\n  } else {\n    let attempts = 0;\n    const timer = setInterval(function(root) {\n      if (root.Bokeh !== undefined) {\n        clearInterval(timer);\n        embed_document(root);\n      } else {\n        attempts++;\n        if (attempts > 100) {\n          clearInterval(timer);\n          console.log(\"Bokeh: ERROR: Unable to run BokehJS code because BokehJS library is missing\");\n        }\n      }\n    }, 10, root)\n  }\n})(window);",
      "application/vnd.bokehjs_exec.v0+json": ""
     },
     "metadata": {
      "application/vnd.bokehjs_exec.v0+json": {
       "id": "p1227"
      }
     },
     "output_type": "display_data"
    }
   ],
   "source": [
    "import MASSiveChem.MASSiveChem as MC\n",
    "from bokeh.plotting import output_notebook, show\n",
    "\n",
    "output_notebook() #not necessary if you want to plot the image outside the outbook\n",
    "\n",
    "x_in = [333.21807812500003, 333.71807812500003, 333.71807812500003, 333.71807812500003, 334.09, 334.09, 334.09, 335.082, 335.082, 335.082, 335.086, 335.086, 335.086, 335.092, 335.092, 335.092, 336.092]\n",
    "y_in = [0, 0, 0.8310629277992183, 0, 0, 0.006245168595575361, 0, 0, 0.006245168595575361, 0, 0, 0.006055133670000204, 0, 0, 0.14507698506191508, 0, 0]\n",
    "\n",
    "output = MC.double_plot(x_in,y_in)\n",
    "\n",
    "show(output)"
   ]
  },
  {
   "cell_type": "markdown",
   "metadata": {},
   "source": [
    "## functional_group_finder(mol_smi)\n",
    "This function takes in the smiles of a given molecule, and outputs a list of all of the contained functional groups (the list contains the names of the functional groups)\n",
    "\n",
    "This function still has some errors despite having a lot of conditions to avoid them. To predict the functional groups accurately, one would have to test every possible combination of functional groups and write condition for every error which is not productive. The best way to solve this problem would have been to use machine learning"
   ]
  },
  {
   "cell_type": "code",
   "execution_count": null,
   "metadata": {},
   "outputs": [],
   "source": [
    "import MASSiveChem.MASSiveChem as MC\n",
    "\n",
    "mol_smi = 'CC1(C(N2C(S1)C(C2=O)NC(=O)CC3=CC=CC=C3)C(=O)O)C'\n",
    "\n",
    "output = MC.functional_group_finder(mol_smi)\n",
    "\n",
    "print(output)"
   ]
  },
  {
   "cell_type": "markdown",
   "metadata": {},
   "source": [
    "## functional_group_display(contained_functional_groups)\n",
    "\n",
    "This function takes as an input the list of the contained functional groups of the molecule and plots a table of the functional groups in a bokeh interface"
   ]
  },
  {
   "cell_type": "code",
   "execution_count": 15,
   "metadata": {},
   "outputs": [
    {
     "data": {
      "text/html": [
       "    <style>\n",
       "        .bk-notebook-logo {\n",
       "            display: block;\n",
       "            width: 20px;\n",
       "            height: 20px;\n",
       "            background-image: url(data:image/png;base64,iVBORw0KGgoAAAANSUhEUgAAABQAAAAUCAYAAACNiR0NAAAABHNCSVQICAgIfAhkiAAAAAlwSFlzAAALEgAACxIB0t1+/AAAABx0RVh0U29mdHdhcmUAQWRvYmUgRmlyZXdvcmtzIENTNui8sowAAAOkSURBVDiNjZRtaJVlGMd/1/08zzln5zjP1LWcU9N0NkN8m2CYjpgQYQXqSs0I84OLIC0hkEKoPtiH3gmKoiJDU7QpLgoLjLIQCpEsNJ1vqUOdO7ppbuec5+V+rj4ctwzd8IIbbi6u+8f1539dt3A78eXC7QizUF7gyV1fD1Yqg4JWz84yffhm0qkFqBogB9rM8tZdtwVsPUhWhGcFJngGeWrPzHm5oaMmkfEg1usvLFyc8jLRqDOMru7AyC8saQr7GG7f5fvDeH7Ej8CM66nIF+8yngt6HWaKh7k49Soy9nXurCi1o3qUbS3zWfrYeQDTB/Qj6kX6Ybhw4B+bOYoLKCC9H3Nu/leUTZ1JdRWkkn2ldcCamzrcf47KKXdAJllSlxAOkRgyHsGC/zRday5Qld9DyoM4/q/rUoy/CXh3jzOu3bHUVZeU+DEn8FInkPBFlu3+nW3Nw0mk6vCDiWg8CeJaxEwuHS3+z5RgY+YBR6V1Z1nxSOfoaPa4LASWxxdNp+VWTk7+4vzaou8v8PN+xo+KY2xsw6une2frhw05CTYOmQvsEhjhWjn0bmXPjpE1+kplmmkP3suftwTubK9Vq22qKmrBhpY4jvd5afdRA3wGjFAgcnTK2s4hY0/GPNIb0nErGMCRxWOOX64Z8RAC4oCXdklmEvcL8o0BfkNK4lUg9HTl+oPlQxdNo3Mg4Nv175e/1LDGzZen30MEjRUtmXSfiTVu1kK8W4txyV6BMKlbgk3lMwYCiusNy9fVfvvwMxv8Ynl6vxoByANLTWplvuj/nF9m2+PDtt1eiHPBr1oIfhCChQMBw6Aw0UulqTKZdfVvfG7VcfIqLG9bcldL/+pdWTLxLUy8Qq38heUIjh4XlzZxzQm19lLFlr8vdQ97rjZVOLf8nclzckbcD4wxXMidpX30sFd37Fv/GtwwhzhxGVAprjbg0gCAEeIgwCZyTV2Z1REEW8O4py0wsjeloKoMr6iCY6dP92H6Vw/oTyICIthibxjm/DfN9lVz8IqtqKYLUXfoKVMVQVVJOElGjrnnUt9T9wbgp8AyYKaGlqingHZU/uG2NTZSVqwHQTWkx9hxjkpWDaCg6Ckj5qebgBVbT3V3NNXMSiWSDdGV3hrtzla7J+duwPOToIg42ChPQOQjspnSlp1V+Gjdged7+8UN5CRAV7a5EdFNwCjEaBR27b3W890TE7g24NAP/mMDXRWrGoFPQI9ls/MWO2dWFAar/xcOIImbbpA3zgAAAABJRU5ErkJggg==);\n",
       "        }\n",
       "    </style>\n",
       "    <div>\n",
       "        <a href=\"https://bokeh.org\" target=\"_blank\" class=\"bk-notebook-logo\"></a>\n",
       "        <span id=\"b3f4c9a8-5592-4de9-998a-13249e0f2703\">Loading BokehJS ...</span>\n",
       "    </div>\n"
      ]
     },
     "metadata": {},
     "output_type": "display_data"
    },
    {
     "data": {
      "application/javascript": "'use strict';\n(function(root) {\n  function now() {\n    return new Date();\n  }\n\n  const force = true;\n\n  if (typeof root._bokeh_onload_callbacks === \"undefined\" || force === true) {\n    root._bokeh_onload_callbacks = [];\n    root._bokeh_is_loading = undefined;\n  }\n\nconst JS_MIME_TYPE = 'application/javascript';\n  const HTML_MIME_TYPE = 'text/html';\n  const EXEC_MIME_TYPE = 'application/vnd.bokehjs_exec.v0+json';\n  const CLASS_NAME = 'output_bokeh rendered_html';\n\n  /**\n   * Render data to the DOM node\n   */\n  function render(props, node) {\n    const script = document.createElement(\"script\");\n    node.appendChild(script);\n  }\n\n  /**\n   * Handle when an output is cleared or removed\n   */\n  function handleClearOutput(event, handle) {\n    function drop(id) {\n      const view = Bokeh.index.get_by_id(id)\n      if (view != null) {\n        view.model.document.clear()\n        Bokeh.index.delete(view)\n      }\n    }\n\n    const cell = handle.cell;\n\n    const id = cell.output_area._bokeh_element_id;\n    const server_id = cell.output_area._bokeh_server_id;\n\n    // Clean up Bokeh references\n    if (id != null) {\n      drop(id)\n    }\n\n    if (server_id !== undefined) {\n      // Clean up Bokeh references\n      const cmd_clean = \"from bokeh.io.state import curstate; print(curstate().uuid_to_server['\" + server_id + \"'].get_sessions()[0].document.roots[0]._id)\";\n      cell.notebook.kernel.execute(cmd_clean, {\n        iopub: {\n          output: function(msg) {\n            const id = msg.content.text.trim()\n            drop(id)\n          }\n        }\n      });\n      // Destroy server and session\n      const cmd_destroy = \"import bokeh.io.notebook as ion; ion.destroy_server('\" + server_id + \"')\";\n      cell.notebook.kernel.execute(cmd_destroy);\n    }\n  }\n\n  /**\n   * Handle when a new output is added\n   */\n  function handleAddOutput(event, handle) {\n    const output_area = handle.output_area;\n    const output = handle.output;\n\n    // limit handleAddOutput to display_data with EXEC_MIME_TYPE content only\n    if ((output.output_type != \"display_data\") || (!Object.prototype.hasOwnProperty.call(output.data, EXEC_MIME_TYPE))) {\n      return\n    }\n\n    const toinsert = output_area.element.find(\".\" + CLASS_NAME.split(' ')[0]);\n\n    if (output.metadata[EXEC_MIME_TYPE][\"id\"] !== undefined) {\n      toinsert[toinsert.length - 1].firstChild.textContent = output.data[JS_MIME_TYPE];\n      // store reference to embed id on output_area\n      output_area._bokeh_element_id = output.metadata[EXEC_MIME_TYPE][\"id\"];\n    }\n    if (output.metadata[EXEC_MIME_TYPE][\"server_id\"] !== undefined) {\n      const bk_div = document.createElement(\"div\");\n      bk_div.innerHTML = output.data[HTML_MIME_TYPE];\n      const script_attrs = bk_div.children[0].attributes;\n      for (let i = 0; i < script_attrs.length; i++) {\n        toinsert[toinsert.length - 1].firstChild.setAttribute(script_attrs[i].name, script_attrs[i].value);\n        toinsert[toinsert.length - 1].firstChild.textContent = bk_div.children[0].textContent\n      }\n      // store reference to server id on output_area\n      output_area._bokeh_server_id = output.metadata[EXEC_MIME_TYPE][\"server_id\"];\n    }\n  }\n\n  function register_renderer(events, OutputArea) {\n\n    function append_mime(data, metadata, element) {\n      // create a DOM node to render to\n      const toinsert = this.create_output_subarea(\n        metadata,\n        CLASS_NAME,\n        EXEC_MIME_TYPE\n      );\n      this.keyboard_manager.register_events(toinsert);\n      // Render to node\n      const props = {data: data, metadata: metadata[EXEC_MIME_TYPE]};\n      render(props, toinsert[toinsert.length - 1]);\n      element.append(toinsert);\n      return toinsert\n    }\n\n    /* Handle when an output is cleared or removed */\n    events.on('clear_output.CodeCell', handleClearOutput);\n    events.on('delete.Cell', handleClearOutput);\n\n    /* Handle when a new output is added */\n    events.on('output_added.OutputArea', handleAddOutput);\n\n    /**\n     * Register the mime type and append_mime function with output_area\n     */\n    OutputArea.prototype.register_mime_type(EXEC_MIME_TYPE, append_mime, {\n      /* Is output safe? */\n      safe: true,\n      /* Index of renderer in `output_area.display_order` */\n      index: 0\n    });\n  }\n\n  // register the mime type if in Jupyter Notebook environment and previously unregistered\n  if (root.Jupyter !== undefined) {\n    const events = require('base/js/events');\n    const OutputArea = require('notebook/js/outputarea').OutputArea;\n\n    if (OutputArea.prototype.mime_types().indexOf(EXEC_MIME_TYPE) == -1) {\n      register_renderer(events, OutputArea);\n    }\n  }\n  if (typeof (root._bokeh_timeout) === \"undefined\" || force === true) {\n    root._bokeh_timeout = Date.now() + 5000;\n    root._bokeh_failed_load = false;\n  }\n\n  const NB_LOAD_WARNING = {'data': {'text/html':\n     \"<div style='background-color: #fdd'>\\n\"+\n     \"<p>\\n\"+\n     \"BokehJS does not appear to have successfully loaded. If loading BokehJS from CDN, this \\n\"+\n     \"may be due to a slow or bad network connection. Possible fixes:\\n\"+\n     \"</p>\\n\"+\n     \"<ul>\\n\"+\n     \"<li>re-rerun `output_notebook()` to attempt to load from CDN again, or</li>\\n\"+\n     \"<li>use INLINE resources instead, as so:</li>\\n\"+\n     \"</ul>\\n\"+\n     \"<code>\\n\"+\n     \"from bokeh.resources import INLINE\\n\"+\n     \"output_notebook(resources=INLINE)\\n\"+\n     \"</code>\\n\"+\n     \"</div>\"}};\n\n  function display_loaded(error = null) {\n    const el = document.getElementById(\"b3f4c9a8-5592-4de9-998a-13249e0f2703\");\n    if (el != null) {\n      const html = (() => {\n        if (typeof root.Bokeh === \"undefined\") {\n          if (error == null) {\n            return \"BokehJS is loading ...\";\n          } else {\n            return \"BokehJS failed to load.\";\n          }\n        } else {\n          const prefix = `BokehJS ${root.Bokeh.version}`;\n          if (error == null) {\n            return `${prefix} successfully loaded.`;\n          } else {\n            return `${prefix} <b>encountered errors</b> while loading and may not function as expected.`;\n          }\n        }\n      })();\n      el.innerHTML = html;\n\n      if (error != null) {\n        const wrapper = document.createElement(\"div\");\n        wrapper.style.overflow = \"auto\";\n        wrapper.style.height = \"5em\";\n        wrapper.style.resize = \"vertical\";\n        const content = document.createElement(\"div\");\n        content.style.fontFamily = \"monospace\";\n        content.style.whiteSpace = \"pre-wrap\";\n        content.style.backgroundColor = \"rgb(255, 221, 221)\";\n        content.textContent = error.stack ?? error.toString();\n        wrapper.append(content);\n        el.append(wrapper);\n      }\n    } else if (Date.now() < root._bokeh_timeout) {\n      setTimeout(() => display_loaded(error), 100);\n    }\n  }\n\n  function run_callbacks() {\n    try {\n      root._bokeh_onload_callbacks.forEach(function(callback) {\n        if (callback != null)\n          callback();\n      });\n    } finally {\n      delete root._bokeh_onload_callbacks\n    }\n    console.debug(\"Bokeh: all callbacks have finished\");\n  }\n\n  function load_libs(css_urls, js_urls, callback) {\n    if (css_urls == null) css_urls = [];\n    if (js_urls == null) js_urls = [];\n\n    root._bokeh_onload_callbacks.push(callback);\n    if (root._bokeh_is_loading > 0) {\n      console.debug(\"Bokeh: BokehJS is being loaded, scheduling callback at\", now());\n      return null;\n    }\n    if (js_urls == null || js_urls.length === 0) {\n      run_callbacks();\n      return null;\n    }\n    console.debug(\"Bokeh: BokehJS not loaded, scheduling load and callback at\", now());\n    root._bokeh_is_loading = css_urls.length + js_urls.length;\n\n    function on_load() {\n      root._bokeh_is_loading--;\n      if (root._bokeh_is_loading === 0) {\n        console.debug(\"Bokeh: all BokehJS libraries/stylesheets loaded\");\n        run_callbacks()\n      }\n    }\n\n    function on_error(url) {\n      console.error(\"failed to load \" + url);\n    }\n\n    for (let i = 0; i < css_urls.length; i++) {\n      const url = css_urls[i];\n      const element = document.createElement(\"link\");\n      element.onload = on_load;\n      element.onerror = on_error.bind(null, url);\n      element.rel = \"stylesheet\";\n      element.type = \"text/css\";\n      element.href = url;\n      console.debug(\"Bokeh: injecting link tag for BokehJS stylesheet: \", url);\n      document.body.appendChild(element);\n    }\n\n    for (let i = 0; i < js_urls.length; i++) {\n      const url = js_urls[i];\n      const element = document.createElement('script');\n      element.onload = on_load;\n      element.onerror = on_error.bind(null, url);\n      element.async = false;\n      element.src = url;\n      console.debug(\"Bokeh: injecting script tag for BokehJS library: \", url);\n      document.head.appendChild(element);\n    }\n  };\n\n  function inject_raw_css(css) {\n    const element = document.createElement(\"style\");\n    element.appendChild(document.createTextNode(css));\n    document.body.appendChild(element);\n  }\n\n  const js_urls = [\"https://cdn.bokeh.org/bokeh/release/bokeh-3.4.1.min.js\", \"https://cdn.bokeh.org/bokeh/release/bokeh-gl-3.4.1.min.js\", \"https://cdn.bokeh.org/bokeh/release/bokeh-widgets-3.4.1.min.js\", \"https://cdn.bokeh.org/bokeh/release/bokeh-tables-3.4.1.min.js\", \"https://cdn.bokeh.org/bokeh/release/bokeh-mathjax-3.4.1.min.js\", \"https://unpkg.com/@holoviz/panel@1.4.2/dist/panel.min.js\"];\n  const css_urls = [];\n\n  const inline_js = [    function(Bokeh) {\n      Bokeh.set_log_level(\"info\");\n    },\nfunction(Bokeh) {\n    }\n  ];\n\n  function run_inline_js() {\n    if (root.Bokeh !== undefined || force === true) {\n      try {\n            for (let i = 0; i < inline_js.length; i++) {\n      inline_js[i].call(root, root.Bokeh);\n    }\n\n      } catch (error) {display_loaded(error);throw error;\n      }if (force === true) {\n        display_loaded();\n      }} else if (Date.now() < root._bokeh_timeout) {\n      setTimeout(run_inline_js, 100);\n    } else if (!root._bokeh_failed_load) {\n      console.log(\"Bokeh: BokehJS failed to load within specified timeout.\");\n      root._bokeh_failed_load = true;\n    } else if (force !== true) {\n      const cell = $(document.getElementById(\"b3f4c9a8-5592-4de9-998a-13249e0f2703\")).parents('.cell').data().cell;\n      cell.output_area.append_execute_result(NB_LOAD_WARNING)\n    }\n  }\n\n  if (root._bokeh_is_loading === 0) {\n    console.debug(\"Bokeh: BokehJS loaded, going straight to plotting\");\n    run_inline_js();\n  } else {\n    load_libs(css_urls, js_urls, function() {\n      console.debug(\"Bokeh: BokehJS plotting callback run at\", now());\n      run_inline_js();\n    });\n  }\n}(window));",
      "application/vnd.bokehjs_load.v0+json": ""
     },
     "metadata": {},
     "output_type": "display_data"
    },
    {
     "data": {
      "text/html": [
       "\n",
       "  <div id=\"d333eb78-2ff6-4414-8dea-875b1e1814cf\" data-root-id=\"p1238\" style=\"display: contents;\"></div>\n"
      ]
     },
     "metadata": {},
     "output_type": "display_data"
    },
    {
     "data": {
      "application/javascript": "(function(root) {\n  function embed_document(root) {\n  const docs_json = {\"96c4888a-88de-4c83-b068-522da0658037\":{\"version\":\"3.4.1\",\"title\":\"Bokeh Application\",\"roots\":[{\"type\":\"object\",\"name\":\"DataTable\",\"id\":\"p1238\",\"attributes\":{\"width\":250,\"height\":560,\"source\":{\"type\":\"object\",\"name\":\"ColumnDataSource\",\"id\":\"p1228\",\"attributes\":{\"selected\":{\"type\":\"object\",\"name\":\"Selection\",\"id\":\"p1229\",\"attributes\":{\"indices\":[],\"line_indices\":[]}},\"selection_policy\":{\"type\":\"object\",\"name\":\"UnionRenderers\",\"id\":\"p1230\"},\"data\":{\"type\":\"map\",\"entries\":[[\"groups\",[\"Carboxylic Acid\",\"Amide\",\"Amide\",\"Amine\",\"Sulfide\",\"Benzene\"]],[\"images\",[\"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\",\"iVBORw0KGgoAAAANSUhEUgAAASwAAAEsCAIAAAD2HxkiAAATR0lEQVR4nO3da3BU5R3H8d9uQoAAkUsgREQE0ZBwrYIUSxRIhIph6KRNX2A3lGoDKkRAyrYjQ7BgC41iGCptoNIJcZiWAWtTKHSIiggaERQ0QMJVjEC4JAghgVw2T1/skd2EALtnz9n/bvb3mbw4uZzzPIR8syfnsmtRSoGI5FilJ0AU6hghkTBGSCSMERIJY4REwhghkTBGSCSMERIJY4REwhghkTBGSCSMERIJY4REwhghkTBGSCSMERIJY4REwhghkTBGSCSMERIJY4REwhghkTBGSCSMERIJY4REwhghkTBGSCSMERIJY4REwhghkTBGSCSMERIJY4REwhghkTBGSCSMERIJY4REwhghkTBGSCSMERIJY4REwhghkTBGSCSMERIJY4REwhghkTBGSCSMERIJY4REwhghkTBGSCSMERIJY4REwhghkTBGSCSMERIJY4REwhghkTBGSCSMERIJY4REwhghkTBGSCSMERIJY4REwhghkTBGSCSMERIJY4REwhghkTBGSCSMERIJY4REwhghkTBGSCSMERIJY4REwhghkTBGSCSMERIJY4REwhghkTBGSCSMERIJY4REwhghkTBGSCSMERIJY4REwhghkTBGSCSMERIJY4REwhghkTBGSCSMERIJY4REwhghkTBGSCSMERIJY4REwhghkTBGSCSMERIJY4REwhghkTBGSCSMERIJY4REwsJN2erx4/j2W1y4gMpKREUhJgaxsYiLg8ViynBEwczQCPftw+rV+N//cOpUC5/t2RPjx2PaNIwZY+SgREHOopQyYDNff43587FxIzzZ2oQJeO01DBpkwLhEwc+ICD/8EKmpqKxs8sH27RETg27dcOkSystRU9Pks5GRyM9HaqqvQxMFP58j3L8fo0ejulp7NywM6emw2ZCYiPDv93UdDhQVYf16rFmD+nrtg+Hh2LIF48f7NDpR8PMtwmvXMHw4Dh3S3u3TB+++i2HDbvn1hw/jJz/BkSPau7Gx+PJLREfrnwBR8PPtFMWiRa4Ce/fGzp23KxBAfDx27ED//tq7Z89i9myfJkAU/Hx4JKyqQu/euHxZe7egAJMmebTiJ58gMREOBwCEheHYMdx3n845EAU/Hx4J161zFZic7GmBAEaNws9+pi07HMjN1T8HCn7Tp+P++7W3IUNQUeHRWvHx2io3H91LS0NCgvZ2/bqn01i92rXW5s1ezN93Ppwn/Ne/XMvTpnm37jPP4J//1JbffRd//KP+aVCQO3cOJ0643rXb8be/3XmtkydRWwughUMKJ07g8GFtubHR02lcuOBa67vvPF3LEHofCR0OfPaZtmyxYOJE71ZPSkKnTtpyaWnz0xsUwtauxQcfSE/Cv/RGePgwrlzRlvv1Q+fOXg5rxdCh2rJS2LNH5zSo1VEKs2a5zmSFAr0RlpW5luPj9Wxh4MCWt0Yh7+BBvP669CT8SG+Ely65lrt00bMF97Xct0ahKiwMI0dqy4sX4+RJ0dn4kd4I3f90jYrSs4W77mp5axTCsrO1hZoaPP+86FT8SG+E7jcl6TvT6L4Wb3EiAEBiIlJStOVt27Bpk+hs/EVvhO5HYqqq9GzhxnEd3HqHtqICr72mHYqm0JCdjTZttOVZs1ynolsxIyLUtzPpvtatIly4EL/5DR54AOvW6RmCgtCAAZg5U1s+exaLFklOxj/0RnjPPa7lG+c4veK+lvvW3KWmYtAglJVh6lQkJ6O4WM9AFGwWLUJsrLa8ciU+/1x0NubTG2FCgut4zPHjTfYtPaEU9u/Xli0WPPJIy1+WlIQDB5CXhx498N57GDoU6ek4f17nnClIREVh8WJt2eHA9Onahcatld7L1sLC8PDD2qUNSqGw0Ls7dD/+2LWzP2DA7U5yWK1IT8ekSVi2DG+8gfx8bN4Mux1z5iAiQufkKeBNm4bVq7WLOPbuxV//ihde0LOd0aNh9eyBprxcz/aNoXTLzlaA9jZ5snfr/vrXrnXnzfN0rZISNXGitlZcnNq82csZUyCaPFn7Lw0La/LxvXtVWJj2qagodfp0k8+2bat96pFHmm/woYdcP1z63vLzzf0nN+PDXRTPPIPISG35P/9BUZGnKx49ivx8bdlqxXPPebpiXBy2bMH27UhIQGkpUlLwxBOuGxqpdXn4YUyfri1fuYKXXhKdjZl8uIuiSxc8/TTWrAGAxkbMmIFdu9Cx4x3WqqvDs8+67jCZPBn9+nk3bnIy9u/HqlXIykJhIYYNw3PP4fe/b3L2n1qFV1/Fpk04dw4A/vEPPPsskpK828LKla4THre3dSv+/W+vZ2gMnx5HL15Ud9/tehT/0Y9UZeXtvr662rU/CaguXVRZmU+jZ2ZquyzduqmcHNXQoH9rJORWu6NOeXmun5eEBFVfr33cw93R6mpPp7FkSTDujgLo1g1vvYWwMO3d3bsxYABWr27h9P21a1i/HvHx+O9/tY9YLFi16pYnJzwcfcUK7NmDxERUVGD2bIwYgY8+0r9BCjw2m+t5ag8daqV3gBsQ8qZNql27Jn/Ytm2rxoxR6elq7lz1y1+q8eNVZGSTLwgPV2vXGjD0DQUF6r77tI2npKiTJ43cOJnp9o+ESqniYtWmjWvn6eJFpVrXI6ERESqldu5UcXGeHnvq00dt3WrMuO5qatTSpapjRwWo9u2V3a6qqowfhYx2xwiVUvPmuX58XnxRqdYVoUEvCJOYiOJi/OUvGDz4dl8WF4fXX0dpKX78Y2PGdde+Pex2lJTAZsP161i2DAMGYN06ndeXUyBZuND1h8uqVTh6VHQ2RjPutSjCwzFjBmbMwOnTKCzEqVO4eBEVFejSBdHR6N0b48ahb1/DhruVXr2wbh1mzsSLL6KoCFOn4s9/xooVGDXK9KHJM/X1sFpdRxI80akTli/Hz3+urb5ggUlTE+LXx11/amxUeXmqZ08FKItF2Wzq7FnpOZEqLFSDBqmVK10f8WR31Gn8eO0rLRZlsXB31Fjz5hl/jsZiQXo6jh1DVhYiIpCfj/79sWiRF0+CR4Y6cgSTJmnX4b/9tp6/Et58E+3aAYBSkn9kVFbiwAHs2uV6Knlf+TX5Fu3erf3+SU5WX31lyhBHj6q0NG2U/v3Vhg2mjEK3UFWlsrK0QykdOqisLHX9uuuznj8SKqUWLGh+mM9vj4QOh1q3Tg0f3mT02Fi1bJnr7KU+ARBhfb3KzVXduytAWa3KZlPnz5sy0HvvqcGDtW/euHHqyy9NGYXcOBwqL0/FxLj+b8vLm3+NVxHW1Kh+/QQivHatyWUm3bur6GjXuykpPl0nEgAROlVWKrtdRURoJ4OWLlW1tcaP4h58eLjKyDAreFKqqEj98IeuVD75pOUv8ypCpdTWrQIRzpypfWr6dHXqlPbBY8dUYqL2cfe/cr0VMBE6NbtPYssWU0aprFSZmSo8XAs+J8fX/QlqqqxM2WzasZNevVRenmpsvOUXexuh+yr+ibChQY0dqwA1f37ztc6c0c5MDxzo6UA3M+iVeo1VWIjMTO3W++RkrFiBhATjRykpwdy52LoVAOLi8MYbePJJ40cJMTU1WLkSS5bg6lVERmLWLCxYcIer+t95RzvvZ7Fg/nyPRikrw/r12nJsLNLTm3x27VqcPast2+2ul8m8vd27sWOHtjx5cgsvJP3ppxg2DG3bNv/4T3+Kd96BxYKqKnTo4NFYzenv11R1dSonR0VFKUC1aaMyM9V335kyUEGBuv9+1679sWOmjBIaCgpUnz6u72WIXDs4d672T252x6PnAjVCpwsX/HGfxM3BX75s/Cit2r59avRo7WfxoYfUzp3SE/Kjp5/WTl3W1OjcQmBH6LRvn+vvX/P+h8+cURkZWvDR0bwxykPuvydD8NvW2KgefFABavBg/RsJhgid/HOfxN69zl/pdffe+9jIkR999JEpo7QK3IFQbodqX31V/0aCJ0KlVHW1P+6TaGxUb7/9+oQJACwWy5QpU8p8ufO4lXL/Uzo5WR06JD0hCdXVauBA7bShL4csgipCp2+/9eL4t17V1dVLly7t2LEjgMjISLvdXsUbo5RSSpWUqCefNP0sUlCYOlX7Pmzc6NN2gjBCp08/9ehMsG/KyspsNpvFYgFwzz335OXlNZoQfLBodnrVpOspgsVvf6v99L38sq+bCtoIVdNrosy8T6KoqGjk96/ZNXLkyKKiIjNGCWS80MhdQ4OaNUsrcMYMA/bDgjlCp6tXb3d1sEEcDkdeXl5MTAwAq9Vqs9nKb74IspVqdsntgQPSExJ1+bJ66intu/HSS8b8JRT8ETr55T6JqqqqrKystm3bAujYsWNWVtZ1E4IPHLz5pJnSUpWQoADVrp36+98N22xridCpsND1SzspyaT7JI4cOZKWlubcO33ggQc2tMafTefuhfPpu5y7F9euSc9J2saN6q67tKOBxv5FEpDXjvqioQFr1+Lll3HxIsLD8atfYckSdO9u+DiFhYVz5swpLi4GkJSUlJOTM+jmyw2DkFLIz4fdjvJyWCz4xS/wpz+hZ0/paYmqrcULL+CttwAgPByzZiEmpoUvGzcOI0boGsDIogNHRYXrQF7XribdJ1FfX5+bmxsdHQ0gPDw8IyPjwoULho/iT3v2qFGjtD2JESPUxx9LTygwlJQ0uXnqVm/Ll+vcfqt7JHRXUoI5c7BtGwAMGIDly824T6KysvKVV1558803HQ5H165dFy5cOHPmzDCvnsYoAJw+jd/9TnvWiV698Ic/wGbjq5hrzpzB7Nl3/rKpU/HUU7oGMPI3RmDyy30Shw4dmjBhgvNbGh8fv9WMJ1Y1x81P13rlivScQkwIRKj8d5ljQUFBv+9f3yYlJeX48eNmjGKgZhfknjghPaGQFBoROjnvk7BaFaBiY1VurhkX/NfW1ubk5HTq1AlAREREZmbm5YC8rvnzz9Vjj2n5/eAH6sMPpScUwkIpQif3691GjKg15/KX06dPZ2RkWK1WAHfffXdubq7D4TBjIB3Ky8tnzHg+JqYcUD16qDVrVMBMLUSFXoRKqcZGtWGD6tNHWSwvDB2alpb29ddfmzHOZ5999uijjzr3TocPH75r1y4zRvFcbW1tdnZ2VFQUgDFjMubNM+vpCsgrIRmh09Wrp7Kz27VrB6BDhw6LFy+u0X1r9K01NjZu2LDh3nvvBWCxWNLS0k7deLIu/9q+fXvC90/Vk5ycfPDgQZFp0M1COEKllL/uk6iurs7KynIGHxkZmZWVdc2PV6CUlpY+9f2x8wcffHDz5s1+G5o8EeoROu3YsWPYsGHOH1Pz7pM4fvx4amqqc5S+ffsWFhaaMYq7yspKu90eEREBoHPnzkuXLq0N5buPAhUj1PjtPokPPvhg6NChAD4084ik85/To0ePG/+cc+fOmTcc+YIRNnHp0iW73W72fRINDQ3btm0zfLM3vP/++0OGDHE+5I4dO3b//v3mjUW+Y4QtCN77JL755hubzeacee/evfPy8qRnRHfGCG9p+/btAwcOvHE48SuTXjHKIFevXhU89kO+YIS3U1dXd+M+iTZt2gTmfRKBcxaE9GGEd1ZRUZGZmem8MaJr1645OTkNAfMEt82uB9i9e7f0jMhrjNBTze6TMPXIiicC+co48goj9E5BQUHfvn1l75O4+RrxK7z7KJgxQq/JNhAIvwXIWIxQJ//vDQba/jAZhRH6xD/HRQL5yBD5jhH6ytQzBHV1dTk5OZ07dw7kcyTkI0ZoDDPOlTe7WqC4uNiQqVKgYYRGMuqqsdLS0pSUlGC8bo50YITGc79+esyYMV5dP+1+Bbnz5qPW/Uz7pBihSXTcSRTKrzkT4hihiTy/p9b9ruLHH3/8iy++8O9MSRIjNN3tn12Cr0NKjNBP3J9naciQIVu2bDl//vwTTzzRvn37GwdUzXimKQp8rfq1KAJMXV3dihUrFi9eXFVVBcBqtTY2NloslilTpixbtqxXr17SEyQZjNDfjhw5kpqaevDgQQAdOnRYvnx5RkaG9KRIEiOUsWvXrsrKyokTJ4aHh0vPhYQxQiJhVukJEIU6RkgkjBESCWOERMIYIZEwRkgkjBESCWOERMIYIZEwRkgkjBESCWOERMIYIZEwRkgkjBESCWOERMIYIZEwRkgkjBESCWOERMIYIZEwRkgkjBESCWOERMIYIZEwRkgkjBESCWOERMIYIZEwRkgkjBESCWOERMIYIZEwRkgkjBESCWOERMIYIZEwRkgkjBESCWOERMIYIZEwRkgkjBESCWOERMIYIZEwRkgkjBESCWOERMIYIZEwRkgkjBESCWOERMIYIZEwRkgkjBESCWOERMIYIZEwRkgkjBESCWOERMIYIZEwRkgkjBESCWOERMIYIZEwRkgkjBESCWOERMIYIZEwRkgkjBESCWOERMIYIZEwRkgkjBESCWOERMIYIZEwRkgkjBESCWOERMIYIZEwRkgkjBESCWOERMIYIZEwRkgkjBESCWOERMIYIZEwRkgkjBESCWOERMIYIZEwRkgkjBESCWOERMIYIZEwRkgkjBESCWOERMIYIZEwRkgkjBESCWOERMIYIZEwRkgkjBESCWOERML+D2iYksdHn4DUAAAAAElFTkSuQmCC\",\"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\",\"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\",\"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\",\"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\"]]]}}},\"view\":{\"type\":\"object\",\"name\":\"CDSView\",\"id\":\"p1242\",\"attributes\":{\"filter\":{\"type\":\"object\",\"name\":\"AllIndices\",\"id\":\"p1243\"}}},\"columns\":[{\"type\":\"object\",\"name\":\"TableColumn\",\"id\":\"p1231\",\"attributes\":{\"field\":\"groups\",\"title\":\"Functional Groups\",\"formatter\":{\"type\":\"object\",\"name\":\"StringFormatter\",\"id\":\"p1232\"},\"editor\":{\"type\":\"object\",\"name\":\"StringEditor\",\"id\":\"p1233\"}}},{\"type\":\"object\",\"name\":\"TableColumn\",\"id\":\"p1235\",\"attributes\":{\"field\":\"images\",\"title\":\"Images\",\"width\":200,\"formatter\":{\"type\":\"object\",\"name\":\"HTMLTemplateFormatter\",\"id\":\"p1234\",\"attributes\":{\"template\":\"\\n    <div>\\n        <img src=\\\"data:image/png;base64, <%= value %>\\\" style=\\\"width:50px;height:50px;\\\">\\n    </div>\\n    \"}},\"editor\":{\"type\":\"object\",\"name\":\"StringEditor\",\"id\":\"p1237\"}}}],\"row_height\":60}}],\"defs\":[{\"type\":\"model\",\"name\":\"ReactiveHTML1\"},{\"type\":\"model\",\"name\":\"FlexBox1\",\"properties\":[{\"name\":\"align_content\",\"kind\":\"Any\",\"default\":\"flex-start\"},{\"name\":\"align_items\",\"kind\":\"Any\",\"default\":\"flex-start\"},{\"name\":\"flex_direction\",\"kind\":\"Any\",\"default\":\"row\"},{\"name\":\"flex_wrap\",\"kind\":\"Any\",\"default\":\"wrap\"},{\"name\":\"gap\",\"kind\":\"Any\",\"default\":\"\"},{\"name\":\"justify_content\",\"kind\":\"Any\",\"default\":\"flex-start\"}]},{\"type\":\"model\",\"name\":\"FloatPanel1\",\"properties\":[{\"name\":\"config\",\"kind\":\"Any\",\"default\":{\"type\":\"map\"}},{\"name\":\"contained\",\"kind\":\"Any\",\"default\":true},{\"name\":\"position\",\"kind\":\"Any\",\"default\":\"right-top\"},{\"name\":\"offsetx\",\"kind\":\"Any\",\"default\":null},{\"name\":\"offsety\",\"kind\":\"Any\",\"default\":null},{\"name\":\"theme\",\"kind\":\"Any\",\"default\":\"primary\"},{\"name\":\"status\",\"kind\":\"Any\",\"default\":\"normalized\"}]},{\"type\":\"model\",\"name\":\"GridStack1\",\"properties\":[{\"name\":\"mode\",\"kind\":\"Any\",\"default\":\"warn\"},{\"name\":\"ncols\",\"kind\":\"Any\",\"default\":null},{\"name\":\"nrows\",\"kind\":\"Any\",\"default\":null},{\"name\":\"allow_resize\",\"kind\":\"Any\",\"default\":true},{\"name\":\"allow_drag\",\"kind\":\"Any\",\"default\":true},{\"name\":\"state\",\"kind\":\"Any\",\"default\":[]}]},{\"type\":\"model\",\"name\":\"drag1\",\"properties\":[{\"name\":\"slider_width\",\"kind\":\"Any\",\"default\":5},{\"name\":\"slider_color\",\"kind\":\"Any\",\"default\":\"black\"},{\"name\":\"value\",\"kind\":\"Any\",\"default\":50}]},{\"type\":\"model\",\"name\":\"click1\",\"properties\":[{\"name\":\"terminal_output\",\"kind\":\"Any\",\"default\":\"\"},{\"name\":\"debug_name\",\"kind\":\"Any\",\"default\":\"\"},{\"name\":\"clears\",\"kind\":\"Any\",\"default\":0}]},{\"type\":\"model\",\"name\":\"FastWrapper1\",\"properties\":[{\"name\":\"object\",\"kind\":\"Any\",\"default\":null},{\"name\":\"style\",\"kind\":\"Any\",\"default\":null}]},{\"type\":\"model\",\"name\":\"NotificationAreaBase1\",\"properties\":[{\"name\":\"js_events\",\"kind\":\"Any\",\"default\":{\"type\":\"map\"}},{\"name\":\"position\",\"kind\":\"Any\",\"default\":\"bottom-right\"},{\"name\":\"_clear\",\"kind\":\"Any\",\"default\":0}]},{\"type\":\"model\",\"name\":\"NotificationArea1\",\"properties\":[{\"name\":\"js_events\",\"kind\":\"Any\",\"default\":{\"type\":\"map\"}},{\"name\":\"notifications\",\"kind\":\"Any\",\"default\":[]},{\"name\":\"position\",\"kind\":\"Any\",\"default\":\"bottom-right\"},{\"name\":\"_clear\",\"kind\":\"Any\",\"default\":0},{\"name\":\"types\",\"kind\":\"Any\",\"default\":[{\"type\":\"map\",\"entries\":[[\"type\",\"warning\"],[\"background\",\"#ffc107\"],[\"icon\",{\"type\":\"map\",\"entries\":[[\"className\",\"fas fa-exclamation-triangle\"],[\"tagName\",\"i\"],[\"color\",\"white\"]]}]]},{\"type\":\"map\",\"entries\":[[\"type\",\"info\"],[\"background\",\"#007bff\"],[\"icon\",{\"type\":\"map\",\"entries\":[[\"className\",\"fas fa-info-circle\"],[\"tagName\",\"i\"],[\"color\",\"white\"]]}]]}]}]},{\"type\":\"model\",\"name\":\"Notification\",\"properties\":[{\"name\":\"background\",\"kind\":\"Any\",\"default\":null},{\"name\":\"duration\",\"kind\":\"Any\",\"default\":3000},{\"name\":\"icon\",\"kind\":\"Any\",\"default\":null},{\"name\":\"message\",\"kind\":\"Any\",\"default\":\"\"},{\"name\":\"notification_type\",\"kind\":\"Any\",\"default\":null},{\"name\":\"_destroyed\",\"kind\":\"Any\",\"default\":false}]},{\"type\":\"model\",\"name\":\"TemplateActions1\",\"properties\":[{\"name\":\"open_modal\",\"kind\":\"Any\",\"default\":0},{\"name\":\"close_modal\",\"kind\":\"Any\",\"default\":0}]},{\"type\":\"model\",\"name\":\"BootstrapTemplateActions1\",\"properties\":[{\"name\":\"open_modal\",\"kind\":\"Any\",\"default\":0},{\"name\":\"close_modal\",\"kind\":\"Any\",\"default\":0}]},{\"type\":\"model\",\"name\":\"TemplateEditor1\",\"properties\":[{\"name\":\"layout\",\"kind\":\"Any\",\"default\":[]}]},{\"type\":\"model\",\"name\":\"MaterialTemplateActions1\",\"properties\":[{\"name\":\"open_modal\",\"kind\":\"Any\",\"default\":0},{\"name\":\"close_modal\",\"kind\":\"Any\",\"default\":0}]},{\"type\":\"model\",\"name\":\"copy_to_clipboard1\",\"properties\":[{\"name\":\"fill\",\"kind\":\"Any\",\"default\":\"none\"},{\"name\":\"value\",\"kind\":\"Any\",\"default\":null}]}]}};\n  const render_items = [{\"docid\":\"96c4888a-88de-4c83-b068-522da0658037\",\"roots\":{\"p1238\":\"d333eb78-2ff6-4414-8dea-875b1e1814cf\"},\"root_ids\":[\"p1238\"]}];\n  void root.Bokeh.embed.embed_items_notebook(docs_json, render_items);\n  }\n  if (root.Bokeh !== undefined) {\n    embed_document(root);\n  } else {\n    let attempts = 0;\n    const timer = setInterval(function(root) {\n      if (root.Bokeh !== undefined) {\n        clearInterval(timer);\n        embed_document(root);\n      } else {\n        attempts++;\n        if (attempts > 100) {\n          clearInterval(timer);\n          console.log(\"Bokeh: ERROR: Unable to run BokehJS code because BokehJS library is missing\");\n        }\n      }\n    }, 10, root)\n  }\n})(window);",
      "application/vnd.bokehjs_exec.v0+json": ""
     },
     "metadata": {
      "application/vnd.bokehjs_exec.v0+json": {
       "id": "p1238"
      }
     },
     "output_type": "display_data"
    }
   ],
   "source": [
    "import MASSiveChem.MASSiveChem as MC\n",
    "from bokeh.plotting import output_notebook, show\n",
    "\n",
    "output_notebook() #not necessary if you want to plot the image outside the\n",
    "\n",
    "functional_groups = ['Carboxylic Acid', 'Amide', 'Amide', 'Amine', 'Sulfide', 'Benzene']\n",
    "\n",
    "output = MC.functional_group_display(functional_groups)\n",
    "\n",
    "show(output)"
   ]
  },
  {
   "cell_type": "markdown",
   "metadata": {},
   "source": [
    "## mol_web_show(mol_smi, show_Hs=False, show_3D = False)\n",
    "\n",
    "This function takes as an input the SMILEs of the molecule and plots the image of the molecule in a bokeh interface"
   ]
  },
  {
   "cell_type": "code",
   "execution_count": 57,
   "metadata": {},
   "outputs": [
    {
     "data": {
      "text/html": [
       "    <style>\n",
       "        .bk-notebook-logo {\n",
       "            display: block;\n",
       "            width: 20px;\n",
       "            height: 20px;\n",
       "            background-image: url(data:image/png;base64,iVBORw0KGgoAAAANSUhEUgAAABQAAAAUCAYAAACNiR0NAAAABHNCSVQICAgIfAhkiAAAAAlwSFlzAAALEgAACxIB0t1+/AAAABx0RVh0U29mdHdhcmUAQWRvYmUgRmlyZXdvcmtzIENTNui8sowAAAOkSURBVDiNjZRtaJVlGMd/1/08zzln5zjP1LWcU9N0NkN8m2CYjpgQYQXqSs0I84OLIC0hkEKoPtiH3gmKoiJDU7QpLgoLjLIQCpEsNJ1vqUOdO7ppbuec5+V+rj4ctwzd8IIbbi6u+8f1539dt3A78eXC7QizUF7gyV1fD1Yqg4JWz84yffhm0qkFqBogB9rM8tZdtwVsPUhWhGcFJngGeWrPzHm5oaMmkfEg1usvLFyc8jLRqDOMru7AyC8saQr7GG7f5fvDeH7Ej8CM66nIF+8yngt6HWaKh7k49Soy9nXurCi1o3qUbS3zWfrYeQDTB/Qj6kX6Ybhw4B+bOYoLKCC9H3Nu/leUTZ1JdRWkkn2ldcCamzrcf47KKXdAJllSlxAOkRgyHsGC/zRday5Qld9DyoM4/q/rUoy/CXh3jzOu3bHUVZeU+DEn8FInkPBFlu3+nW3Nw0mk6vCDiWg8CeJaxEwuHS3+z5RgY+YBR6V1Z1nxSOfoaPa4LASWxxdNp+VWTk7+4vzaou8v8PN+xo+KY2xsw6une2frhw05CTYOmQvsEhjhWjn0bmXPjpE1+kplmmkP3suftwTubK9Vq22qKmrBhpY4jvd5afdRA3wGjFAgcnTK2s4hY0/GPNIb0nErGMCRxWOOX64Z8RAC4oCXdklmEvcL8o0BfkNK4lUg9HTl+oPlQxdNo3Mg4Nv175e/1LDGzZen30MEjRUtmXSfiTVu1kK8W4txyV6BMKlbgk3lMwYCiusNy9fVfvvwMxv8Ynl6vxoByANLTWplvuj/nF9m2+PDtt1eiHPBr1oIfhCChQMBw6Aw0UulqTKZdfVvfG7VcfIqLG9bcldL/+pdWTLxLUy8Qq38heUIjh4XlzZxzQm19lLFlr8vdQ97rjZVOLf8nclzckbcD4wxXMidpX30sFd37Fv/GtwwhzhxGVAprjbg0gCAEeIgwCZyTV2Z1REEW8O4py0wsjeloKoMr6iCY6dP92H6Vw/oTyICIthibxjm/DfN9lVz8IqtqKYLUXfoKVMVQVVJOElGjrnnUt9T9wbgp8AyYKaGlqingHZU/uG2NTZSVqwHQTWkx9hxjkpWDaCg6Ckj5qebgBVbT3V3NNXMSiWSDdGV3hrtzla7J+duwPOToIg42ChPQOQjspnSlp1V+Gjdged7+8UN5CRAV7a5EdFNwCjEaBR27b3W890TE7g24NAP/mMDXRWrGoFPQI9ls/MWO2dWFAar/xcOIImbbpA3zgAAAABJRU5ErkJggg==);\n",
       "        }\n",
       "    </style>\n",
       "    <div>\n",
       "        <a href=\"https://bokeh.org\" target=\"_blank\" class=\"bk-notebook-logo\"></a>\n",
       "        <span id=\"ac6b143d-9f28-4667-9de4-b6d5dfe57f95\">Loading BokehJS ...</span>\n",
       "    </div>\n"
      ]
     },
     "metadata": {},
     "output_type": "display_data"
    },
    {
     "data": {
      "application/javascript": "'use strict';\n(function(root) {\n  function now() {\n    return new Date();\n  }\n\n  const force = true;\n\n  if (typeof root._bokeh_onload_callbacks === \"undefined\" || force === true) {\n    root._bokeh_onload_callbacks = [];\n    root._bokeh_is_loading = undefined;\n  }\n\nconst JS_MIME_TYPE = 'application/javascript';\n  const HTML_MIME_TYPE = 'text/html';\n  const EXEC_MIME_TYPE = 'application/vnd.bokehjs_exec.v0+json';\n  const CLASS_NAME = 'output_bokeh rendered_html';\n\n  /**\n   * Render data to the DOM node\n   */\n  function render(props, node) {\n    const script = document.createElement(\"script\");\n    node.appendChild(script);\n  }\n\n  /**\n   * Handle when an output is cleared or removed\n   */\n  function handleClearOutput(event, handle) {\n    function drop(id) {\n      const view = Bokeh.index.get_by_id(id)\n      if (view != null) {\n        view.model.document.clear()\n        Bokeh.index.delete(view)\n      }\n    }\n\n    const cell = handle.cell;\n\n    const id = cell.output_area._bokeh_element_id;\n    const server_id = cell.output_area._bokeh_server_id;\n\n    // Clean up Bokeh references\n    if (id != null) {\n      drop(id)\n    }\n\n    if (server_id !== undefined) {\n      // Clean up Bokeh references\n      const cmd_clean = \"from bokeh.io.state import curstate; print(curstate().uuid_to_server['\" + server_id + \"'].get_sessions()[0].document.roots[0]._id)\";\n      cell.notebook.kernel.execute(cmd_clean, {\n        iopub: {\n          output: function(msg) {\n            const id = msg.content.text.trim()\n            drop(id)\n          }\n        }\n      });\n      // Destroy server and session\n      const cmd_destroy = \"import bokeh.io.notebook as ion; ion.destroy_server('\" + server_id + \"')\";\n      cell.notebook.kernel.execute(cmd_destroy);\n    }\n  }\n\n  /**\n   * Handle when a new output is added\n   */\n  function handleAddOutput(event, handle) {\n    const output_area = handle.output_area;\n    const output = handle.output;\n\n    // limit handleAddOutput to display_data with EXEC_MIME_TYPE content only\n    if ((output.output_type != \"display_data\") || (!Object.prototype.hasOwnProperty.call(output.data, EXEC_MIME_TYPE))) {\n      return\n    }\n\n    const toinsert = output_area.element.find(\".\" + CLASS_NAME.split(' ')[0]);\n\n    if (output.metadata[EXEC_MIME_TYPE][\"id\"] !== undefined) {\n      toinsert[toinsert.length - 1].firstChild.textContent = output.data[JS_MIME_TYPE];\n      // store reference to embed id on output_area\n      output_area._bokeh_element_id = output.metadata[EXEC_MIME_TYPE][\"id\"];\n    }\n    if (output.metadata[EXEC_MIME_TYPE][\"server_id\"] !== undefined) {\n      const bk_div = document.createElement(\"div\");\n      bk_div.innerHTML = output.data[HTML_MIME_TYPE];\n      const script_attrs = bk_div.children[0].attributes;\n      for (let i = 0; i < script_attrs.length; i++) {\n        toinsert[toinsert.length - 1].firstChild.setAttribute(script_attrs[i].name, script_attrs[i].value);\n        toinsert[toinsert.length - 1].firstChild.textContent = bk_div.children[0].textContent\n      }\n      // store reference to server id on output_area\n      output_area._bokeh_server_id = output.metadata[EXEC_MIME_TYPE][\"server_id\"];\n    }\n  }\n\n  function register_renderer(events, OutputArea) {\n\n    function append_mime(data, metadata, element) {\n      // create a DOM node to render to\n      const toinsert = this.create_output_subarea(\n        metadata,\n        CLASS_NAME,\n        EXEC_MIME_TYPE\n      );\n      this.keyboard_manager.register_events(toinsert);\n      // Render to node\n      const props = {data: data, metadata: metadata[EXEC_MIME_TYPE]};\n      render(props, toinsert[toinsert.length - 1]);\n      element.append(toinsert);\n      return toinsert\n    }\n\n    /* Handle when an output is cleared or removed */\n    events.on('clear_output.CodeCell', handleClearOutput);\n    events.on('delete.Cell', handleClearOutput);\n\n    /* Handle when a new output is added */\n    events.on('output_added.OutputArea', handleAddOutput);\n\n    /**\n     * Register the mime type and append_mime function with output_area\n     */\n    OutputArea.prototype.register_mime_type(EXEC_MIME_TYPE, append_mime, {\n      /* Is output safe? */\n      safe: true,\n      /* Index of renderer in `output_area.display_order` */\n      index: 0\n    });\n  }\n\n  // register the mime type if in Jupyter Notebook environment and previously unregistered\n  if (root.Jupyter !== undefined) {\n    const events = require('base/js/events');\n    const OutputArea = require('notebook/js/outputarea').OutputArea;\n\n    if (OutputArea.prototype.mime_types().indexOf(EXEC_MIME_TYPE) == -1) {\n      register_renderer(events, OutputArea);\n    }\n  }\n  if (typeof (root._bokeh_timeout) === \"undefined\" || force === true) {\n    root._bokeh_timeout = Date.now() + 5000;\n    root._bokeh_failed_load = false;\n  }\n\n  const NB_LOAD_WARNING = {'data': {'text/html':\n     \"<div style='background-color: #fdd'>\\n\"+\n     \"<p>\\n\"+\n     \"BokehJS does not appear to have successfully loaded. If loading BokehJS from CDN, this \\n\"+\n     \"may be due to a slow or bad network connection. Possible fixes:\\n\"+\n     \"</p>\\n\"+\n     \"<ul>\\n\"+\n     \"<li>re-rerun `output_notebook()` to attempt to load from CDN again, or</li>\\n\"+\n     \"<li>use INLINE resources instead, as so:</li>\\n\"+\n     \"</ul>\\n\"+\n     \"<code>\\n\"+\n     \"from bokeh.resources import INLINE\\n\"+\n     \"output_notebook(resources=INLINE)\\n\"+\n     \"</code>\\n\"+\n     \"</div>\"}};\n\n  function display_loaded(error = null) {\n    const el = document.getElementById(\"ac6b143d-9f28-4667-9de4-b6d5dfe57f95\");\n    if (el != null) {\n      const html = (() => {\n        if (typeof root.Bokeh === \"undefined\") {\n          if (error == null) {\n            return \"BokehJS is loading ...\";\n          } else {\n            return \"BokehJS failed to load.\";\n          }\n        } else {\n          const prefix = `BokehJS ${root.Bokeh.version}`;\n          if (error == null) {\n            return `${prefix} successfully loaded.`;\n          } else {\n            return `${prefix} <b>encountered errors</b> while loading and may not function as expected.`;\n          }\n        }\n      })();\n      el.innerHTML = html;\n\n      if (error != null) {\n        const wrapper = document.createElement(\"div\");\n        wrapper.style.overflow = \"auto\";\n        wrapper.style.height = \"5em\";\n        wrapper.style.resize = \"vertical\";\n        const content = document.createElement(\"div\");\n        content.style.fontFamily = \"monospace\";\n        content.style.whiteSpace = \"pre-wrap\";\n        content.style.backgroundColor = \"rgb(255, 221, 221)\";\n        content.textContent = error.stack ?? error.toString();\n        wrapper.append(content);\n        el.append(wrapper);\n      }\n    } else if (Date.now() < root._bokeh_timeout) {\n      setTimeout(() => display_loaded(error), 100);\n    }\n  }\n\n  function run_callbacks() {\n    try {\n      root._bokeh_onload_callbacks.forEach(function(callback) {\n        if (callback != null)\n          callback();\n      });\n    } finally {\n      delete root._bokeh_onload_callbacks\n    }\n    console.debug(\"Bokeh: all callbacks have finished\");\n  }\n\n  function load_libs(css_urls, js_urls, callback) {\n    if (css_urls == null) css_urls = [];\n    if (js_urls == null) js_urls = [];\n\n    root._bokeh_onload_callbacks.push(callback);\n    if (root._bokeh_is_loading > 0) {\n      console.debug(\"Bokeh: BokehJS is being loaded, scheduling callback at\", now());\n      return null;\n    }\n    if (js_urls == null || js_urls.length === 0) {\n      run_callbacks();\n      return null;\n    }\n    console.debug(\"Bokeh: BokehJS not loaded, scheduling load and callback at\", now());\n    root._bokeh_is_loading = css_urls.length + js_urls.length;\n\n    function on_load() {\n      root._bokeh_is_loading--;\n      if (root._bokeh_is_loading === 0) {\n        console.debug(\"Bokeh: all BokehJS libraries/stylesheets loaded\");\n        run_callbacks()\n      }\n    }\n\n    function on_error(url) {\n      console.error(\"failed to load \" + url);\n    }\n\n    for (let i = 0; i < css_urls.length; i++) {\n      const url = css_urls[i];\n      const element = document.createElement(\"link\");\n      element.onload = on_load;\n      element.onerror = on_error.bind(null, url);\n      element.rel = \"stylesheet\";\n      element.type = \"text/css\";\n      element.href = url;\n      console.debug(\"Bokeh: injecting link tag for BokehJS stylesheet: \", url);\n      document.body.appendChild(element);\n    }\n\n    for (let i = 0; i < js_urls.length; i++) {\n      const url = js_urls[i];\n      const element = document.createElement('script');\n      element.onload = on_load;\n      element.onerror = on_error.bind(null, url);\n      element.async = false;\n      element.src = url;\n      console.debug(\"Bokeh: injecting script tag for BokehJS library: \", url);\n      document.head.appendChild(element);\n    }\n  };\n\n  function inject_raw_css(css) {\n    const element = document.createElement(\"style\");\n    element.appendChild(document.createTextNode(css));\n    document.body.appendChild(element);\n  }\n\n  const js_urls = [\"static/extensions/panel/bundled/jquery/jquery.slim.min.js\", \"static/extensions/panel/bundled/plotlyplot/plotly-2.31.1.min.js\", \"https://cdn.bokeh.org/bokeh/release/bokeh-3.4.1.min.js\", \"https://cdn.bokeh.org/bokeh/release/bokeh-gl-3.4.1.min.js\", \"https://cdn.bokeh.org/bokeh/release/bokeh-widgets-3.4.1.min.js\", \"https://cdn.bokeh.org/bokeh/release/bokeh-tables-3.4.1.min.js\", \"https://cdn.bokeh.org/bokeh/release/bokeh-mathjax-3.4.1.min.js\", \"https://unpkg.com/@holoviz/panel@1.4.2/dist/panel.min.js\"];\n  const css_urls = [];\n\n  const inline_js = [    function(Bokeh) {\n      Bokeh.set_log_level(\"info\");\n    },\nfunction(Bokeh) {\n    }\n  ];\n\n  function run_inline_js() {\n    if (root.Bokeh !== undefined || force === true) {\n      try {\n            for (let i = 0; i < inline_js.length; i++) {\n      inline_js[i].call(root, root.Bokeh);\n    }\n\n      } catch (error) {display_loaded(error);throw error;\n      }if (force === true) {\n        display_loaded();\n      }} else if (Date.now() < root._bokeh_timeout) {\n      setTimeout(run_inline_js, 100);\n    } else if (!root._bokeh_failed_load) {\n      console.log(\"Bokeh: BokehJS failed to load within specified timeout.\");\n      root._bokeh_failed_load = true;\n    } else if (force !== true) {\n      const cell = $(document.getElementById(\"ac6b143d-9f28-4667-9de4-b6d5dfe57f95\")).parents('.cell').data().cell;\n      cell.output_area.append_execute_result(NB_LOAD_WARNING)\n    }\n  }\n\n  if (root._bokeh_is_loading === 0) {\n    console.debug(\"Bokeh: BokehJS loaded, going straight to plotting\");\n    run_inline_js();\n  } else {\n    load_libs(css_urls, js_urls, function() {\n      console.debug(\"Bokeh: BokehJS plotting callback run at\", now());\n      run_inline_js();\n    });\n  }\n}(window));",
      "application/vnd.bokehjs_load.v0+json": ""
     },
     "metadata": {},
     "output_type": "display_data"
    },
    {
     "data": {
      "text/html": [
       "\n",
       "  <div id=\"d9cddd81-5dff-420a-af81-c0a68a047d6e\" data-root-id=\"p7500\" style=\"display: contents;\"></div>\n"
      ]
     },
     "metadata": {},
     "output_type": "display_data"
    },
    {
     "data": {
      "application/javascript": "(function(root) {\n  function embed_document(root) {\n  const docs_json = {\"e24d6a06-b153-4d2e-a29c-6e8e4e9b96bd\":{\"version\":\"3.4.1\",\"title\":\"Bokeh Application\",\"roots\":[{\"type\":\"object\",\"name\":\"Div\",\"id\":\"p7500\",\"attributes\":{\"text\":\"<img src=\\\"data:image/png;base64,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\\\" style=\\\"width:350px;height:350px;\\\">\"}}],\"defs\":[{\"type\":\"model\",\"name\":\"ReactiveHTML1\"},{\"type\":\"model\",\"name\":\"FlexBox1\",\"properties\":[{\"name\":\"align_content\",\"kind\":\"Any\",\"default\":\"flex-start\"},{\"name\":\"align_items\",\"kind\":\"Any\",\"default\":\"flex-start\"},{\"name\":\"flex_direction\",\"kind\":\"Any\",\"default\":\"row\"},{\"name\":\"flex_wrap\",\"kind\":\"Any\",\"default\":\"wrap\"},{\"name\":\"gap\",\"kind\":\"Any\",\"default\":\"\"},{\"name\":\"justify_content\",\"kind\":\"Any\",\"default\":\"flex-start\"}]},{\"type\":\"model\",\"name\":\"FloatPanel1\",\"properties\":[{\"name\":\"config\",\"kind\":\"Any\",\"default\":{\"type\":\"map\"}},{\"name\":\"contained\",\"kind\":\"Any\",\"default\":true},{\"name\":\"position\",\"kind\":\"Any\",\"default\":\"right-top\"},{\"name\":\"offsetx\",\"kind\":\"Any\",\"default\":null},{\"name\":\"offsety\",\"kind\":\"Any\",\"default\":null},{\"name\":\"theme\",\"kind\":\"Any\",\"default\":\"primary\"},{\"name\":\"status\",\"kind\":\"Any\",\"default\":\"normalized\"}]},{\"type\":\"model\",\"name\":\"GridStack1\",\"properties\":[{\"name\":\"mode\",\"kind\":\"Any\",\"default\":\"warn\"},{\"name\":\"ncols\",\"kind\":\"Any\",\"default\":null},{\"name\":\"nrows\",\"kind\":\"Any\",\"default\":null},{\"name\":\"allow_resize\",\"kind\":\"Any\",\"default\":true},{\"name\":\"allow_drag\",\"kind\":\"Any\",\"default\":true},{\"name\":\"state\",\"kind\":\"Any\",\"default\":[]}]},{\"type\":\"model\",\"name\":\"drag1\",\"properties\":[{\"name\":\"slider_width\",\"kind\":\"Any\",\"default\":5},{\"name\":\"slider_color\",\"kind\":\"Any\",\"default\":\"black\"},{\"name\":\"value\",\"kind\":\"Any\",\"default\":50}]},{\"type\":\"model\",\"name\":\"click1\",\"properties\":[{\"name\":\"terminal_output\",\"kind\":\"Any\",\"default\":\"\"},{\"name\":\"debug_name\",\"kind\":\"Any\",\"default\":\"\"},{\"name\":\"clears\",\"kind\":\"Any\",\"default\":0}]},{\"type\":\"model\",\"name\":\"FastWrapper1\",\"properties\":[{\"name\":\"object\",\"kind\":\"Any\",\"default\":null},{\"name\":\"style\",\"kind\":\"Any\",\"default\":null}]},{\"type\":\"model\",\"name\":\"NotificationAreaBase1\",\"properties\":[{\"name\":\"js_events\",\"kind\":\"Any\",\"default\":{\"type\":\"map\"}},{\"name\":\"position\",\"kind\":\"Any\",\"default\":\"bottom-right\"},{\"name\":\"_clear\",\"kind\":\"Any\",\"default\":0}]},{\"type\":\"model\",\"name\":\"NotificationArea1\",\"properties\":[{\"name\":\"js_events\",\"kind\":\"Any\",\"default\":{\"type\":\"map\"}},{\"name\":\"notifications\",\"kind\":\"Any\",\"default\":[]},{\"name\":\"position\",\"kind\":\"Any\",\"default\":\"bottom-right\"},{\"name\":\"_clear\",\"kind\":\"Any\",\"default\":0},{\"name\":\"types\",\"kind\":\"Any\",\"default\":[{\"type\":\"map\",\"entries\":[[\"type\",\"warning\"],[\"background\",\"#ffc107\"],[\"icon\",{\"type\":\"map\",\"entries\":[[\"className\",\"fas fa-exclamation-triangle\"],[\"tagName\",\"i\"],[\"color\",\"white\"]]}]]},{\"type\":\"map\",\"entries\":[[\"type\",\"info\"],[\"background\",\"#007bff\"],[\"icon\",{\"type\":\"map\",\"entries\":[[\"className\",\"fas fa-info-circle\"],[\"tagName\",\"i\"],[\"color\",\"white\"]]}]]}]}]},{\"type\":\"model\",\"name\":\"Notification\",\"properties\":[{\"name\":\"background\",\"kind\":\"Any\",\"default\":null},{\"name\":\"duration\",\"kind\":\"Any\",\"default\":3000},{\"name\":\"icon\",\"kind\":\"Any\",\"default\":null},{\"name\":\"message\",\"kind\":\"Any\",\"default\":\"\"},{\"name\":\"notification_type\",\"kind\":\"Any\",\"default\":null},{\"name\":\"_destroyed\",\"kind\":\"Any\",\"default\":false}]},{\"type\":\"model\",\"name\":\"TemplateActions1\",\"properties\":[{\"name\":\"open_modal\",\"kind\":\"Any\",\"default\":0},{\"name\":\"close_modal\",\"kind\":\"Any\",\"default\":0}]},{\"type\":\"model\",\"name\":\"BootstrapTemplateActions1\",\"properties\":[{\"name\":\"open_modal\",\"kind\":\"Any\",\"default\":0},{\"name\":\"close_modal\",\"kind\":\"Any\",\"default\":0}]},{\"type\":\"model\",\"name\":\"TemplateEditor1\",\"properties\":[{\"name\":\"layout\",\"kind\":\"Any\",\"default\":[]}]},{\"type\":\"model\",\"name\":\"MaterialTemplateActions1\",\"properties\":[{\"name\":\"open_modal\",\"kind\":\"Any\",\"default\":0},{\"name\":\"close_modal\",\"kind\":\"Any\",\"default\":0}]},{\"type\":\"model\",\"name\":\"copy_to_clipboard1\",\"properties\":[{\"name\":\"fill\",\"kind\":\"Any\",\"default\":\"none\"},{\"name\":\"value\",\"kind\":\"Any\",\"default\":null}]}]}};\n  const render_items = [{\"docid\":\"e24d6a06-b153-4d2e-a29c-6e8e4e9b96bd\",\"roots\":{\"p7500\":\"d9cddd81-5dff-420a-af81-c0a68a047d6e\"},\"root_ids\":[\"p7500\"]}];\n  void root.Bokeh.embed.embed_items_notebook(docs_json, render_items);\n  }\n  if (root.Bokeh !== undefined) {\n    embed_document(root);\n  } else {\n    let attempts = 0;\n    const timer = setInterval(function(root) {\n      if (root.Bokeh !== undefined) {\n        clearInterval(timer);\n        embed_document(root);\n      } else {\n        attempts++;\n        if (attempts > 100) {\n          clearInterval(timer);\n          console.log(\"Bokeh: ERROR: Unable to run BokehJS code because BokehJS library is missing\");\n        }\n      }\n    }, 10, root)\n  }\n})(window);",
      "application/vnd.bokehjs_exec.v0+json": ""
     },
     "metadata": {
      "application/vnd.bokehjs_exec.v0+json": {
       "id": "p7500"
      }
     },
     "output_type": "display_data"
    }
   ],
   "source": [
    "import MASSiveChem.MASSiveChem as MC\n",
    "from bokeh.plotting import output_notebook, show\n",
    "\n",
    "output_notebook() #not necessary if you want to plot the image outside the notebook\n",
    "\n",
    "mol_smi = 'CC1(C(N2C(S1)C(C2=O)NC(=O)CC3=CC=CC=C3)C(=O)O)C'\n",
    "\n",
    "output = MC.mol_web_show(mol_smi)\n",
    "\n",
    "show(output)"
   ]
  },
  {
   "cell_type": "markdown",
   "metadata": {},
   "source": [
    "## all_in_one(p1, p2, p3)\n",
    "\n",
    "This function takes as an input 3 bokeh plots and put them together in one bokeh interface\n",
    "\n",
    "If one wants to change the position of the graphs, they would have to change the order of the bokeh figures when calling the function. The function works for every bokeh plot not only those of this package "
   ]
  },
  {
   "cell_type": "code",
   "execution_count": 56,
   "metadata": {},
   "outputs": [
    {
     "data": {
      "text/html": [
       "    <style>\n",
       "        .bk-notebook-logo {\n",
       "            display: block;\n",
       "            width: 20px;\n",
       "            height: 20px;\n",
       "            background-image: url(data:image/png;base64,iVBORw0KGgoAAAANSUhEUgAAABQAAAAUCAYAAACNiR0NAAAABHNCSVQICAgIfAhkiAAAAAlwSFlzAAALEgAACxIB0t1+/AAAABx0RVh0U29mdHdhcmUAQWRvYmUgRmlyZXdvcmtzIENTNui8sowAAAOkSURBVDiNjZRtaJVlGMd/1/08zzln5zjP1LWcU9N0NkN8m2CYjpgQYQXqSs0I84OLIC0hkEKoPtiH3gmKoiJDU7QpLgoLjLIQCpEsNJ1vqUOdO7ppbuec5+V+rj4ctwzd8IIbbi6u+8f1539dt3A78eXC7QizUF7gyV1fD1Yqg4JWz84yffhm0qkFqBogB9rM8tZdtwVsPUhWhGcFJngGeWrPzHm5oaMmkfEg1usvLFyc8jLRqDOMru7AyC8saQr7GG7f5fvDeH7Ej8CM66nIF+8yngt6HWaKh7k49Soy9nXurCi1o3qUbS3zWfrYeQDTB/Qj6kX6Ybhw4B+bOYoLKCC9H3Nu/leUTZ1JdRWkkn2ldcCamzrcf47KKXdAJllSlxAOkRgyHsGC/zRday5Qld9DyoM4/q/rUoy/CXh3jzOu3bHUVZeU+DEn8FInkPBFlu3+nW3Nw0mk6vCDiWg8CeJaxEwuHS3+z5RgY+YBR6V1Z1nxSOfoaPa4LASWxxdNp+VWTk7+4vzaou8v8PN+xo+KY2xsw6une2frhw05CTYOmQvsEhjhWjn0bmXPjpE1+kplmmkP3suftwTubK9Vq22qKmrBhpY4jvd5afdRA3wGjFAgcnTK2s4hY0/GPNIb0nErGMCRxWOOX64Z8RAC4oCXdklmEvcL8o0BfkNK4lUg9HTl+oPlQxdNo3Mg4Nv175e/1LDGzZen30MEjRUtmXSfiTVu1kK8W4txyV6BMKlbgk3lMwYCiusNy9fVfvvwMxv8Ynl6vxoByANLTWplvuj/nF9m2+PDtt1eiHPBr1oIfhCChQMBw6Aw0UulqTKZdfVvfG7VcfIqLG9bcldL/+pdWTLxLUy8Qq38heUIjh4XlzZxzQm19lLFlr8vdQ97rjZVOLf8nclzckbcD4wxXMidpX30sFd37Fv/GtwwhzhxGVAprjbg0gCAEeIgwCZyTV2Z1REEW8O4py0wsjeloKoMr6iCY6dP92H6Vw/oTyICIthibxjm/DfN9lVz8IqtqKYLUXfoKVMVQVVJOElGjrnnUt9T9wbgp8AyYKaGlqingHZU/uG2NTZSVqwHQTWkx9hxjkpWDaCg6Ckj5qebgBVbT3V3NNXMSiWSDdGV3hrtzla7J+duwPOToIg42ChPQOQjspnSlp1V+Gjdged7+8UN5CRAV7a5EdFNwCjEaBR27b3W890TE7g24NAP/mMDXRWrGoFPQI9ls/MWO2dWFAar/xcOIImbbpA3zgAAAABJRU5ErkJggg==);\n",
       "        }\n",
       "    </style>\n",
       "    <div>\n",
       "        <a href=\"https://bokeh.org\" target=\"_blank\" class=\"bk-notebook-logo\"></a>\n",
       "        <span id=\"b81a03d2-abcb-444d-83ae-d7b6e3881222\">Loading BokehJS ...</span>\n",
       "    </div>\n"
      ]
     },
     "metadata": {},
     "output_type": "display_data"
    },
    {
     "data": {
      "application/javascript": "'use strict';\n(function(root) {\n  function now() {\n    return new Date();\n  }\n\n  const force = true;\n\n  if (typeof root._bokeh_onload_callbacks === \"undefined\" || force === true) {\n    root._bokeh_onload_callbacks = [];\n    root._bokeh_is_loading = undefined;\n  }\n\nconst JS_MIME_TYPE = 'application/javascript';\n  const HTML_MIME_TYPE = 'text/html';\n  const EXEC_MIME_TYPE = 'application/vnd.bokehjs_exec.v0+json';\n  const CLASS_NAME = 'output_bokeh rendered_html';\n\n  /**\n   * Render data to the DOM node\n   */\n  function render(props, node) {\n    const script = document.createElement(\"script\");\n    node.appendChild(script);\n  }\n\n  /**\n   * Handle when an output is cleared or removed\n   */\n  function handleClearOutput(event, handle) {\n    function drop(id) {\n      const view = Bokeh.index.get_by_id(id)\n      if (view != null) {\n        view.model.document.clear()\n        Bokeh.index.delete(view)\n      }\n    }\n\n    const cell = handle.cell;\n\n    const id = cell.output_area._bokeh_element_id;\n    const server_id = cell.output_area._bokeh_server_id;\n\n    // Clean up Bokeh references\n    if (id != null) {\n      drop(id)\n    }\n\n    if (server_id !== undefined) {\n      // Clean up Bokeh references\n      const cmd_clean = \"from bokeh.io.state import curstate; print(curstate().uuid_to_server['\" + server_id + \"'].get_sessions()[0].document.roots[0]._id)\";\n      cell.notebook.kernel.execute(cmd_clean, {\n        iopub: {\n          output: function(msg) {\n            const id = msg.content.text.trim()\n            drop(id)\n          }\n        }\n      });\n      // Destroy server and session\n      const cmd_destroy = \"import bokeh.io.notebook as ion; ion.destroy_server('\" + server_id + \"')\";\n      cell.notebook.kernel.execute(cmd_destroy);\n    }\n  }\n\n  /**\n   * Handle when a new output is added\n   */\n  function handleAddOutput(event, handle) {\n    const output_area = handle.output_area;\n    const output = handle.output;\n\n    // limit handleAddOutput to display_data with EXEC_MIME_TYPE content only\n    if ((output.output_type != \"display_data\") || (!Object.prototype.hasOwnProperty.call(output.data, EXEC_MIME_TYPE))) {\n      return\n    }\n\n    const toinsert = output_area.element.find(\".\" + CLASS_NAME.split(' ')[0]);\n\n    if (output.metadata[EXEC_MIME_TYPE][\"id\"] !== undefined) {\n      toinsert[toinsert.length - 1].firstChild.textContent = output.data[JS_MIME_TYPE];\n      // store reference to embed id on output_area\n      output_area._bokeh_element_id = output.metadata[EXEC_MIME_TYPE][\"id\"];\n    }\n    if (output.metadata[EXEC_MIME_TYPE][\"server_id\"] !== undefined) {\n      const bk_div = document.createElement(\"div\");\n      bk_div.innerHTML = output.data[HTML_MIME_TYPE];\n      const script_attrs = bk_div.children[0].attributes;\n      for (let i = 0; i < script_attrs.length; i++) {\n        toinsert[toinsert.length - 1].firstChild.setAttribute(script_attrs[i].name, script_attrs[i].value);\n        toinsert[toinsert.length - 1].firstChild.textContent = bk_div.children[0].textContent\n      }\n      // store reference to server id on output_area\n      output_area._bokeh_server_id = output.metadata[EXEC_MIME_TYPE][\"server_id\"];\n    }\n  }\n\n  function register_renderer(events, OutputArea) {\n\n    function append_mime(data, metadata, element) {\n      // create a DOM node to render to\n      const toinsert = this.create_output_subarea(\n        metadata,\n        CLASS_NAME,\n        EXEC_MIME_TYPE\n      );\n      this.keyboard_manager.register_events(toinsert);\n      // Render to node\n      const props = {data: data, metadata: metadata[EXEC_MIME_TYPE]};\n      render(props, toinsert[toinsert.length - 1]);\n      element.append(toinsert);\n      return toinsert\n    }\n\n    /* Handle when an output is cleared or removed */\n    events.on('clear_output.CodeCell', handleClearOutput);\n    events.on('delete.Cell', handleClearOutput);\n\n    /* Handle when a new output is added */\n    events.on('output_added.OutputArea', handleAddOutput);\n\n    /**\n     * Register the mime type and append_mime function with output_area\n     */\n    OutputArea.prototype.register_mime_type(EXEC_MIME_TYPE, append_mime, {\n      /* Is output safe? */\n      safe: true,\n      /* Index of renderer in `output_area.display_order` */\n      index: 0\n    });\n  }\n\n  // register the mime type if in Jupyter Notebook environment and previously unregistered\n  if (root.Jupyter !== undefined) {\n    const events = require('base/js/events');\n    const OutputArea = require('notebook/js/outputarea').OutputArea;\n\n    if (OutputArea.prototype.mime_types().indexOf(EXEC_MIME_TYPE) == -1) {\n      register_renderer(events, OutputArea);\n    }\n  }\n  if (typeof (root._bokeh_timeout) === \"undefined\" || force === true) {\n    root._bokeh_timeout = Date.now() + 5000;\n    root._bokeh_failed_load = false;\n  }\n\n  const NB_LOAD_WARNING = {'data': {'text/html':\n     \"<div style='background-color: #fdd'>\\n\"+\n     \"<p>\\n\"+\n     \"BokehJS does not appear to have successfully loaded. If loading BokehJS from CDN, this \\n\"+\n     \"may be due to a slow or bad network connection. Possible fixes:\\n\"+\n     \"</p>\\n\"+\n     \"<ul>\\n\"+\n     \"<li>re-rerun `output_notebook()` to attempt to load from CDN again, or</li>\\n\"+\n     \"<li>use INLINE resources instead, as so:</li>\\n\"+\n     \"</ul>\\n\"+\n     \"<code>\\n\"+\n     \"from bokeh.resources import INLINE\\n\"+\n     \"output_notebook(resources=INLINE)\\n\"+\n     \"</code>\\n\"+\n     \"</div>\"}};\n\n  function display_loaded(error = null) {\n    const el = document.getElementById(\"b81a03d2-abcb-444d-83ae-d7b6e3881222\");\n    if (el != null) {\n      const html = (() => {\n        if (typeof root.Bokeh === \"undefined\") {\n          if (error == null) {\n            return \"BokehJS is loading ...\";\n          } else {\n            return \"BokehJS failed to load.\";\n          }\n        } else {\n          const prefix = `BokehJS ${root.Bokeh.version}`;\n          if (error == null) {\n            return `${prefix} successfully loaded.`;\n          } else {\n            return `${prefix} <b>encountered errors</b> while loading and may not function as expected.`;\n          }\n        }\n      })();\n      el.innerHTML = html;\n\n      if (error != null) {\n        const wrapper = document.createElement(\"div\");\n        wrapper.style.overflow = \"auto\";\n        wrapper.style.height = \"5em\";\n        wrapper.style.resize = \"vertical\";\n        const content = document.createElement(\"div\");\n        content.style.fontFamily = \"monospace\";\n        content.style.whiteSpace = \"pre-wrap\";\n        content.style.backgroundColor = \"rgb(255, 221, 221)\";\n        content.textContent = error.stack ?? error.toString();\n        wrapper.append(content);\n        el.append(wrapper);\n      }\n    } else if (Date.now() < root._bokeh_timeout) {\n      setTimeout(() => display_loaded(error), 100);\n    }\n  }\n\n  function run_callbacks() {\n    try {\n      root._bokeh_onload_callbacks.forEach(function(callback) {\n        if (callback != null)\n          callback();\n      });\n    } finally {\n      delete root._bokeh_onload_callbacks\n    }\n    console.debug(\"Bokeh: all callbacks have finished\");\n  }\n\n  function load_libs(css_urls, js_urls, callback) {\n    if (css_urls == null) css_urls = [];\n    if (js_urls == null) js_urls = [];\n\n    root._bokeh_onload_callbacks.push(callback);\n    if (root._bokeh_is_loading > 0) {\n      console.debug(\"Bokeh: BokehJS is being loaded, scheduling callback at\", now());\n      return null;\n    }\n    if (js_urls == null || js_urls.length === 0) {\n      run_callbacks();\n      return null;\n    }\n    console.debug(\"Bokeh: BokehJS not loaded, scheduling load and callback at\", now());\n    root._bokeh_is_loading = css_urls.length + js_urls.length;\n\n    function on_load() {\n      root._bokeh_is_loading--;\n      if (root._bokeh_is_loading === 0) {\n        console.debug(\"Bokeh: all BokehJS libraries/stylesheets loaded\");\n        run_callbacks()\n      }\n    }\n\n    function on_error(url) {\n      console.error(\"failed to load \" + url);\n    }\n\n    for (let i = 0; i < css_urls.length; i++) {\n      const url = css_urls[i];\n      const element = document.createElement(\"link\");\n      element.onload = on_load;\n      element.onerror = on_error.bind(null, url);\n      element.rel = \"stylesheet\";\n      element.type = \"text/css\";\n      element.href = url;\n      console.debug(\"Bokeh: injecting link tag for BokehJS stylesheet: \", url);\n      document.body.appendChild(element);\n    }\n\n    for (let i = 0; i < js_urls.length; i++) {\n      const url = js_urls[i];\n      const element = document.createElement('script');\n      element.onload = on_load;\n      element.onerror = on_error.bind(null, url);\n      element.async = false;\n      element.src = url;\n      console.debug(\"Bokeh: injecting script tag for BokehJS library: \", url);\n      document.head.appendChild(element);\n    }\n  };\n\n  function inject_raw_css(css) {\n    const element = document.createElement(\"style\");\n    element.appendChild(document.createTextNode(css));\n    document.body.appendChild(element);\n  }\n\n  const js_urls = [\"static/extensions/panel/bundled/jquery/jquery.slim.min.js\", \"static/extensions/panel/bundled/plotlyplot/plotly-2.31.1.min.js\", \"https://cdn.bokeh.org/bokeh/release/bokeh-3.4.1.min.js\", \"https://cdn.bokeh.org/bokeh/release/bokeh-gl-3.4.1.min.js\", \"https://cdn.bokeh.org/bokeh/release/bokeh-widgets-3.4.1.min.js\", \"https://cdn.bokeh.org/bokeh/release/bokeh-tables-3.4.1.min.js\", \"https://cdn.bokeh.org/bokeh/release/bokeh-mathjax-3.4.1.min.js\", \"https://unpkg.com/@holoviz/panel@1.4.2/dist/panel.min.js\"];\n  const css_urls = [];\n\n  const inline_js = [    function(Bokeh) {\n      Bokeh.set_log_level(\"info\");\n    },\nfunction(Bokeh) {\n    }\n  ];\n\n  function run_inline_js() {\n    if (root.Bokeh !== undefined || force === true) {\n      try {\n            for (let i = 0; i < inline_js.length; i++) {\n      inline_js[i].call(root, root.Bokeh);\n    }\n\n      } catch (error) {display_loaded(error);throw error;\n      }if (force === true) {\n        display_loaded();\n      }} else if (Date.now() < root._bokeh_timeout) {\n      setTimeout(run_inline_js, 100);\n    } else if (!root._bokeh_failed_load) {\n      console.log(\"Bokeh: BokehJS failed to load within specified timeout.\");\n      root._bokeh_failed_load = true;\n    } else if (force !== true) {\n      const cell = $(document.getElementById(\"b81a03d2-abcb-444d-83ae-d7b6e3881222\")).parents('.cell').data().cell;\n      cell.output_area.append_execute_result(NB_LOAD_WARNING)\n    }\n  }\n\n  if (root._bokeh_is_loading === 0) {\n    console.debug(\"Bokeh: BokehJS loaded, going straight to plotting\");\n    run_inline_js();\n  } else {\n    load_libs(css_urls, js_urls, function() {\n      console.debug(\"Bokeh: BokehJS plotting callback run at\", now());\n      run_inline_js();\n    });\n  }\n}(window));",
      "application/vnd.bokehjs_load.v0+json": ""
     },
     "metadata": {},
     "output_type": "display_data"
    },
    {
     "name": "stdout",
     "output_type": "stream",
     "text": [
      "here\n"
     ]
    },
    {
     "data": {
      "text/html": [
       "\n",
       "  <div id=\"e4a0594b-ab63-407c-a5f9-ef345983135d\" data-root-id=\"p7491\" style=\"display: contents;\"></div>\n"
      ]
     },
     "metadata": {},
     "output_type": "display_data"
    },
    {
     "data": {
      "application/javascript": "(function(root) {\n  function embed_document(root) {\n  const docs_json = {\"f185ac9a-c71c-4289-999a-9dd111a72d0c\":{\"version\":\"3.4.1\",\"title\":\"Bokeh Application\",\"roots\":[{\"type\":\"object\",\"name\":\"Row\",\"id\":\"p7491\",\"attributes\":{\"children\":[{\"type\":\"object\",\"name\":\"Column\",\"id\":\"p7472\",\"attributes\":{\"children\":[{\"type\":\"object\",\"name\":\"Figure\",\"id\":\"p7312\",\"attributes\":{\"height\":500,\"x_range\":{\"type\":\"object\",\"name\":\"DataRange1d\",\"id\":\"p7313\",\"attributes\":{\"js_property_callbacks\":{\"type\":\"map\",\"entries\":[[\"change:start\",[{\"type\":\"object\",\"name\":\"CustomJS\",\"id\":\"p7470\",\"attributes\":{\"args\":{\"type\":\"map\",\"entries\":[[\"box\",{\"type\":\"object\",\"name\":\"BoxAnnotation\",\"id\":\"p7465\",\"attributes\":{\"left\":0,\"right\":0,\"top\":0,\"bottom\":0,\"line_color\":\"red\",\"fill_color\":\"cornflowerblue\",\"fill_alpha\":0.1}}]]},\"code\":\"\\n        box['left'] = cb_obj.start\\n        box['right'] = cb_obj.end\\n    \"}}]],[\"change:end\",[{\"id\":\"p7470\"}]]]}}},\"y_range\":{\"type\":\"object\",\"name\":\"DataRange1d\",\"id\":\"p7314\",\"attributes\":{\"js_property_callbacks\":{\"type\":\"map\",\"entries\":[[\"change:start\",[{\"type\":\"object\",\"name\":\"CustomJS\",\"id\":\"p7471\",\"attributes\":{\"args\":{\"type\":\"map\",\"entries\":[[\"box\",{\"id\":\"p7465\"}]]},\"code\":\"\\n        box['bottom'] = cb_obj.start\\n        box['top'] = cb_obj.end\\n    \"}}]],[\"change:end\",[{\"id\":\"p7471\"}]]]}}},\"x_scale\":{\"type\":\"object\",\"name\":\"LinearScale\",\"id\":\"p7321\"},\"y_scale\":{\"type\":\"object\",\"name\":\"LinearScale\",\"id\":\"p7322\"},\"title\":{\"type\":\"object\",\"name\":\"Title\",\"id\":\"p7319\"},\"renderers\":[{\"type\":\"object\",\"name\":\"GlyphRenderer\",\"id\":\"p7353\",\"attributes\":{\"data_source\":{\"type\":\"object\",\"name\":\"ColumnDataSource\",\"id\":\"p7347\",\"attributes\":{\"selected\":{\"type\":\"object\",\"name\":\"Selection\",\"id\":\"p7348\",\"attributes\":{\"indices\":[],\"line_indices\":[]}},\"selection_policy\":{\"type\":\"object\",\"name\":\"UnionRenderers\",\"id\":\"p7349\"},\"data\":{\"type\":\"map\",\"entries\":[[\"x\",[333.21807812500003,333.71807812500003,333.71807812500003,333.71807812500003,334.09,334.09,334.09,335.082,335.082,335.082,335.086,335.086,335.086,335.092,335.092,335.092,336.092]],[\"y\",[0,0,0.8310629277992183,0,0,0.006245168595575361,0,0,0.006245168595575361,0,0,0.006055133670000204,0,0,0.14507698506191508,0,0]]]}}},\"view\":{\"type\":\"object\",\"name\":\"CDSView\",\"id\":\"p7354\",\"attributes\":{\"filter\":{\"type\":\"object\",\"name\":\"AllIndices\",\"id\":\"p7355\"}}},\"glyph\":{\"type\":\"object\",\"name\":\"Line\",\"id\":\"p7350\",\"attributes\":{\"x\":{\"type\":\"field\",\"field\":\"x\"},\"y\":{\"type\":\"field\",\"field\":\"y\"},\"line_color\":\"#1f77b4\"}},\"nonselection_glyph\":{\"type\":\"object\",\"name\":\"Line\",\"id\":\"p7351\",\"attributes\":{\"x\":{\"type\":\"field\",\"field\":\"x\"},\"y\":{\"type\":\"field\",\"field\":\"y\"},\"line_color\":\"#1f77b4\",\"line_alpha\":0.1}},\"muted_glyph\":{\"type\":\"object\",\"name\":\"Line\",\"id\":\"p7352\",\"attributes\":{\"x\":{\"type\":\"field\",\"field\":\"x\"},\"y\":{\"type\":\"field\",\"field\":\"y\"},\"line_color\":\"#1f77b4\",\"line_alpha\":0.2}}}}],\"toolbar\":{\"type\":\"object\",\"name\":\"Toolbar\",\"id\":\"p7320\",\"attributes\":{\"tools\":[{\"type\":\"object\",\"name\":\"PanTool\",\"id\":\"p7333\"},{\"type\":\"object\",\"name\":\"WheelZoomTool\",\"id\":\"p7334\",\"attributes\":{\"renderers\":\"auto\"}},{\"type\":\"object\",\"name\":\"BoxZoomTool\",\"id\":\"p7335\",\"attributes\":{\"overlay\":{\"type\":\"object\",\"name\":\"BoxAnnotation\",\"id\":\"p7336\",\"attributes\":{\"syncable\":false,\"level\":\"overlay\",\"visible\":false,\"left\":{\"type\":\"number\",\"value\":\"nan\"},\"right\":{\"type\":\"number\",\"value\":\"nan\"},\"top\":{\"type\":\"number\",\"value\":\"nan\"},\"bottom\":{\"type\":\"number\",\"value\":\"nan\"},\"left_units\":\"canvas\",\"right_units\":\"canvas\",\"top_units\":\"canvas\",\"bottom_units\":\"canvas\",\"line_color\":\"black\",\"line_alpha\":1.0,\"line_width\":2,\"line_dash\":[4,4],\"fill_color\":\"lightgrey\",\"fill_alpha\":0.5}}}},{\"type\":\"object\",\"name\":\"SaveTool\",\"id\":\"p7341\"},{\"type\":\"object\",\"name\":\"ResetTool\",\"id\":\"p7342\"},{\"type\":\"object\",\"name\":\"HelpTool\",\"id\":\"p7343\"},{\"type\":\"object\",\"name\":\"WheelPanTool\",\"id\":\"p7345\",\"attributes\":{\"dimension\":\"height\"}},{\"type\":\"object\",\"name\":\"WheelZoomTool\",\"id\":\"p7346\",\"attributes\":{\"dimensions\":\"height\",\"renderers\":\"auto\"}}]}},\"left\":[{\"type\":\"object\",\"name\":\"LinearAxis\",\"id\":\"p7328\",\"attributes\":{\"ticker\":{\"type\":\"object\",\"name\":\"BasicTicker\",\"id\":\"p7329\",\"attributes\":{\"mantissas\":[1,2,5]}},\"formatter\":{\"type\":\"object\",\"name\":\"BasicTickFormatter\",\"id\":\"p7330\"},\"axis_label\":\"Abundance\",\"major_label_policy\":{\"type\":\"object\",\"name\":\"AllLabels\",\"id\":\"p7331\"}}}],\"below\":[{\"type\":\"object\",\"name\":\"LinearAxis\",\"id\":\"p7323\",\"attributes\":{\"ticker\":{\"type\":\"object\",\"name\":\"FixedTicker\",\"id\":\"p7344\",\"attributes\":{\"ticks\":[333.71807812500003,334.09,335.082,335.086,335.092],\"minor_ticks\":[]}},\"formatter\":{\"type\":\"object\",\"name\":\"BasicTickFormatter\",\"id\":\"p7325\"},\"axis_label\":\"[m/z]\",\"major_label_policy\":{\"type\":\"object\",\"name\":\"AllLabels\",\"id\":\"p7326\"}}}],\"center\":[{\"type\":\"object\",\"name\":\"Grid\",\"id\":\"p7327\",\"attributes\":{\"axis\":{\"id\":\"p7323\"}}},{\"type\":\"object\",\"name\":\"Grid\",\"id\":\"p7332\",\"attributes\":{\"dimension\":1,\"axis\":{\"id\":\"p7328\"}}}]}},{\"type\":\"object\",\"name\":\"Figure\",\"id\":\"p7422\",\"attributes\":{\"height\":300,\"x_range\":{\"type\":\"object\",\"name\":\"DataRange1d\",\"id\":\"p7423\"},\"y_range\":{\"type\":\"object\",\"name\":\"DataRange1d\",\"id\":\"p7424\"},\"x_scale\":{\"type\":\"object\",\"name\":\"LinearScale\",\"id\":\"p7431\"},\"y_scale\":{\"type\":\"object\",\"name\":\"LinearScale\",\"id\":\"p7432\"},\"title\":{\"type\":\"object\",\"name\":\"Title\",\"id\":\"p7429\"},\"renderers\":[{\"type\":\"object\",\"name\":\"GlyphRenderer\",\"id\":\"p7460\",\"attributes\":{\"data_source\":{\"type\":\"object\",\"name\":\"ColumnDataSource\",\"id\":\"p7454\",\"attributes\":{\"selected\":{\"type\":\"object\",\"name\":\"Selection\",\"id\":\"p7455\",\"attributes\":{\"indices\":[],\"line_indices\":[]}},\"selection_policy\":{\"type\":\"object\",\"name\":\"UnionRenderers\",\"id\":\"p7456\"},\"data\":{\"type\":\"map\",\"entries\":[[\"x\",[333.21807812500003,333.71807812500003,333.71807812500003,333.71807812500003,334.09,334.09,334.09,335.082,335.082,335.082,335.086,335.086,335.086,335.092,335.092,335.092,336.092]],[\"y\",[0,0,0.8310629277992183,0,0,0.006245168595575361,0,0,0.006245168595575361,0,0,0.006055133670000204,0,0,0.14507698506191508,0,0]]]}}},\"view\":{\"type\":\"object\",\"name\":\"CDSView\",\"id\":\"p7461\",\"attributes\":{\"filter\":{\"type\":\"object\",\"name\":\"AllIndices\",\"id\":\"p7462\"}}},\"glyph\":{\"type\":\"object\",\"name\":\"Line\",\"id\":\"p7457\",\"attributes\":{\"x\":{\"type\":\"field\",\"field\":\"x\"},\"y\":{\"type\":\"field\",\"field\":\"y\"},\"line_color\":\"#1f77b4\"}},\"nonselection_glyph\":{\"type\":\"object\",\"name\":\"Line\",\"id\":\"p7458\",\"attributes\":{\"x\":{\"type\":\"field\",\"field\":\"x\"},\"y\":{\"type\":\"field\",\"field\":\"y\"},\"line_color\":\"#1f77b4\",\"line_alpha\":0.1}},\"muted_glyph\":{\"type\":\"object\",\"name\":\"Line\",\"id\":\"p7459\",\"attributes\":{\"x\":{\"type\":\"field\",\"field\":\"x\"},\"y\":{\"type\":\"field\",\"field\":\"y\"},\"line_color\":\"#1f77b4\",\"line_alpha\":0.2}}}}],\"toolbar\":{\"type\":\"object\",\"name\":\"Toolbar\",\"id\":\"p7430\",\"attributes\":{\"tools\":[{\"type\":\"object\",\"name\":\"PanTool\",\"id\":\"p7443\"},{\"type\":\"object\",\"name\":\"WheelZoomTool\",\"id\":\"p7444\",\"attributes\":{\"renderers\":\"auto\"}},{\"type\":\"object\",\"name\":\"BoxZoomTool\",\"id\":\"p7445\",\"attributes\":{\"overlay\":{\"type\":\"object\",\"name\":\"BoxAnnotation\",\"id\":\"p7446\",\"attributes\":{\"syncable\":false,\"level\":\"overlay\",\"visible\":false,\"left\":{\"type\":\"number\",\"value\":\"nan\"},\"right\":{\"type\":\"number\",\"value\":\"nan\"},\"top\":{\"type\":\"number\",\"value\":\"nan\"},\"bottom\":{\"type\":\"number\",\"value\":\"nan\"},\"left_units\":\"canvas\",\"right_units\":\"canvas\",\"top_units\":\"canvas\",\"bottom_units\":\"canvas\",\"line_color\":\"black\",\"line_alpha\":1.0,\"line_width\":2,\"line_dash\":[4,4],\"fill_color\":\"lightgrey\",\"fill_alpha\":0.5}}}},{\"type\":\"object\",\"name\":\"SaveTool\",\"id\":\"p7451\"},{\"type\":\"object\",\"name\":\"ResetTool\",\"id\":\"p7452\"},{\"type\":\"object\",\"name\":\"HelpTool\",\"id\":\"p7453\"}]}},\"toolbar_location\":null,\"left\":[{\"type\":\"object\",\"name\":\"LinearAxis\",\"id\":\"p7438\",\"attributes\":{\"ticker\":{\"type\":\"object\",\"name\":\"BasicTicker\",\"id\":\"p7439\",\"attributes\":{\"mantissas\":[1,2,5]}},\"formatter\":{\"type\":\"object\",\"name\":\"BasicTickFormatter\",\"id\":\"p7440\"},\"major_label_policy\":{\"type\":\"object\",\"name\":\"AllLabels\",\"id\":\"p7441\"}}}],\"below\":[{\"type\":\"object\",\"name\":\"LinearAxis\",\"id\":\"p7433\",\"attributes\":{\"ticker\":{\"type\":\"object\",\"name\":\"BasicTicker\",\"id\":\"p7434\",\"attributes\":{\"mantissas\":[1,2,5]}},\"formatter\":{\"type\":\"object\",\"name\":\"BasicTickFormatter\",\"id\":\"p7435\"},\"major_label_policy\":{\"type\":\"object\",\"name\":\"AllLabels\",\"id\":\"p7436\"}}}],\"center\":[{\"type\":\"object\",\"name\":\"Grid\",\"id\":\"p7437\",\"attributes\":{\"axis\":{\"id\":\"p7433\"}}},{\"type\":\"object\",\"name\":\"Grid\",\"id\":\"p7442\",\"attributes\":{\"dimension\":1,\"axis\":{\"id\":\"p7438\"}}},{\"type\":\"object\",\"name\":\"Legend\",\"id\":\"p7463\",\"attributes\":{\"items\":[{\"type\":\"object\",\"name\":\"LegendItem\",\"id\":\"p7464\",\"attributes\":{\"label\":{\"type\":\"value\",\"value\":\"Mass spectrum\"},\"renderers\":[{\"id\":\"p7460\"}]}}]}},{\"id\":\"p7465\"}]}}]}},{\"type\":\"object\",\"name\":\"Column\",\"id\":\"p7490\",\"attributes\":{\"children\":[{\"type\":\"object\",\"name\":\"Div\",\"id\":\"p7473\",\"attributes\":{\"text\":\"<img src=\\\"data:image/png;base64,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\\\" style=\\\"width:350px;height:350px;\\\">\"}},{\"type\":\"object\",\"name\":\"DataTable\",\"id\":\"p7484\",\"attributes\":{\"width\":250,\"height\":560,\"source\":{\"type\":\"object\",\"name\":\"ColumnDataSource\",\"id\":\"p7474\",\"attributes\":{\"selected\":{\"type\":\"object\",\"name\":\"Selection\",\"id\":\"p7475\",\"attributes\":{\"indices\":[],\"line_indices\":[]}},\"selection_policy\":{\"type\":\"object\",\"name\":\"UnionRenderers\",\"id\":\"p7476\"},\"data\":{\"type\":\"map\",\"entries\":[[\"groups\",[\"Carboxylic Acid\",\"Amide\",\"Amide\",\"Amine\",\"Sulfide\",\"Benzene\"]],[\"images\",[\"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\",\"iVBORw0KGgoAAAANSUhEUgAAASwAAAEsCAIAAAD2HxkiAAAS5klEQVR4nO3deXCU9RnA8ScLSbiPiBxyKQoiCIKCGNQBAetB1I6aam2jo44pY2dSpMVULA2epCISbLVSxyNqZzBW6QSqjhjqiQICMmAk4AVC5ZCEGxJInv7xvvAmGGCz++4+e3w/kz/eJPu+v1fMd/fd3d/7boqqCgA7AesdAJIdEQLGiBAwRoSAMSIEjBEhYIwIAWNECBgjQsAYEQLGiBAwRoSAMSIEjBEhYIwIAWNECBgjQsAYEQLGiBAwRoSAMSIEjBEhYIwIAWNECBgjQsAYEQLGiBAwRoSAMSIEjBEhYIwIAWNECBgjQsAYEQLGiBAwRoSAMSIEjBEhYIwIAWNECBgjQsAYEQLGiBAwRoSAMSIEjBEhYIwIAWNECBgjQsAYEQLGiBAwRoSAMSIEjBEhYIwIAWNECBgjQsAYEQLGiBAwRoSAMSIEjBEhYIwIAWNECBgjQsAYEQLGiBAwRoSAMSIEjBEhYIwIAWNECBgjQsAYEQLGiBAwRoSAMSIEjBEhYIwIAWNECBgjQsAYEQLGiBAwRoSAMSIEjBEhYIwIAWNECBgjQsAYEQLGiBAwRoSAMSIEjBEhYIwIAWNECBgjQsAYEQLGiBAwRoSAMSIEjBEhYIwIAWNECBgjQsAYEQLGiBAwRoSAMSIEjEU4wtpaqaqSw4cjOwoQz5r7vL2aGikrk3fekUWLZPNm2bHD/XnHjtKjh4weLT/7mVx+uaSn+zwuELdSVNWfLdXVyeuvy5Qp8tVXJ7lljx4ydarccYc09/suAIhDPkW4d69kZ8vbbzdhldGjZd486dDBh9GBeOZHhJWVcsUV8tln3k+6d5cbbpCxY6VXL2nXTnbtkk2bpKxMXn9dNm3ybjZokCxcKF26hLsDQDzzI8Ibb5TXX3eXU1OloEAmTZKWLRu55YED8vjj8uCD3ks1V14pb74pKSnh7gMQt8KO8MUX5fbb3eX0dCkpkWuvPckqb7whv/yl1NS43z71lNx9d1j7AMSz8CKsrZWzzpLvvnO/fewxmTw5qBWnT5cpU9zlzp1l40ZeL0XSCi/CefPk+uvd5QEDZNWqYF/wPHxYzjtPysvdb19+WX7969B3A3Hr2We9FxPS02XGjKDuje+5R/bvFxHp3l3+/OcGv3r8cfn6a3d55kxp1Sqo3Sgrk3/9y13OyZGRI4NayzcajuuuUxH364knmrbu7NneuuPGhbUbiFs33eT9FYjoAw8EtVaHDu7tBw8+9lcjR3pb27Ej2N14/HFvrWefbcL++yKMGTOqsnix9+3NNzdt9Vtu8V6PWbJEamtD3xMkikcflYoK652IujAi/Oor2b7dXe7ZU7p1a9rqnTpJnz7u8p498sUXoe8JEkV1tUyYIH7NH4kXYURY/y5r8OBQtjBkiLe8dm3oe4IE8t57Mneu9U5EVxgRVlZ6y6G94V5/raqq0PcECaF3b3dh0iTZudNyT6IsjAjr/zu1bRvKFtq395aJMOk99JC7sGWL3H+/6a5EVxgRVld7y6G9y9eihbd84EDoe4KEcNNNMmyYu/zMM/LJJ6Z7E0VhRNiunbe8d28oW9izx1vu2LHx2xw8KNu2hbJxxJuUFJkxw12uq5O7706WE1HDiLD+CRD1cwrerl3e8vEinDlT+vSRadMaPPAiQY0eLdnZ7vLnn8tf/2q6N9ESRoSdOnnLR2euNUn9tepvrb7Vq2XfPnngARk8WBYsCGUUxJWZM6V1a3f5T38K8S8rvoQR4dCh3rvtq1aF8ubOypUNttaouXPl3Xfl3HNl3Tq55hoZN07WrGn6viJu9Owpf/iDu7x/v/z+96Z7ExVhnNuekSF9+8q6dSIiu3fLmjUyaFATVq+okB9/dJd795bTTjvuLceOlZUr5fnn5f77paxMhg6VO+6QRx457oMn4ty998qLL8qGDSIib7wh8+fLNdeEsp2pUxu89ncCy5eHsn3fhDXp7a67vCl3997btHWnTPHWve22oFbZsUPz8rR5cxXRjAwtKtJDh5q+04gh9eeO1tR4P583z/t5r166Z0+DtYKcOxraV1zNHRWRu+7ylouLG7zQcmK7d8vzz3vf/uY3Qa2VkSGzZ8vq1XLllVJZKRMnyqBBTbumBuLEz38uWVnu8saN3luICSm8Sy0NHy4XXihLl4qIbN0q990nTz8d1IpTpsiWLe7yBRdIZmYTBu3fX956S+bPl4kTZe1aueoqycqS2bO9mahICE8+KWVl7vvHs2bJrbfKwIFN28L110taWlC3rKho8AJFtIX7UPrRR9qsmfdY/tBDJ1/lqac0JcW9fSCg770X4tDV1VpUpO3aqYimpWlenu7aFeKmYOR4h6OOBx/0fjtmjPdzTmVq6OKLvRezRGTqVLntNvnhh8ZvvG2b3Hmn/Pa33kupkybJqFEhDp2WJr/7naxdK7m5cviwPPmk9O8v//iH1NWFuEHEmPx8Oftsd3nRIiktNd2byPEh5OpqvfnmBs9tW7XS667Tv/1NS0v1ww91/nx9+mm9/npt3brBzbKztbrahx1Q1c8+04svdjd7wQX60Uf+bBYRduJHQlV95x3vBmeeqQcPqibcI6EfEapqba3ec493kHnSr5QUzcvT2lp/RnfU1WlJifbu7W4/O1u/+87P7SMCThqhqmZne7d57DHVhIvQp8+iCATkiSdk6VIZM+bkN87MlA8+kNmzJeDrJ2GkpEh2tpSXS0GBpKfLa6/JgAEybRpTw+Pd7NnePOVHH/U+WiFh+JrBsGFSViZffimzZklWlgwaJN26SYsW0rWrDBok48fLzJlSXi6LF8sll/g5bn2tWsm0abJ+veTkyIED8sAD0q+fvPRS0p2tnUC6dZOpU93lnTvl4YdN9yYSov3QG03//a+ed557kDFqlK5cab1DyW77dp0wQV95xftJMIejqnrokJ57rnuztDRNS+NwNBL++c8GV8j3xejRsmKFFBdL587y/vtywQVy662ydavPoyAIhw7J7NnSr58884zcf3+TL+vVvLn8/e/uVOWaGu/C0YkhNiL88ku5/XY5+2z54x9DPDXxeAIBufVWqaiQ/HxJTZWXX5b+/eUvf+HEqGgqK5Pzz5eJE6WqSsaOlQULpFmzJm/kkkskJycCOxe0DRvkvvtkyBDJyJDmzaVHD7npJvnwQz82He2H3kZt3Oi9BNa7t776akRGqajQrCx3lL59df78iIyCetat8/7H9u2rJSXH3iDIw1HH1q3asWODV9mjdjg6a5ampjb+Mv+0acGOcjyxEaHj0091xAj3P27ECP3kk4iMsnChDhzojjJunK5ZE5FRkt6ePVpQoOnpKqKtW2tBgfsW3zGaFKGqPvWUQYQvvOD+6txz9cUXdc0aXbNGX3hBe/Rwfz5vXrADNSqWIlTV2lotLtYuXVREAwHNydEtW/wfpaZGi4rcN5tSUzU3V7dv93+UZNWk/4dNjbC21rujjk6EdXV61lkqopddpvv2NfjV6tXulM0RI4IdqFExFqGj/r1omzbHvRcNk3NilPOv6JwYdfiw/6MkmU8/1Ysucv+aL7zw5EczDz+s48a5X0Gel7ZsmbdKbu6xv5040fvt7t3B7vZrr3lrvfnmsb/dtUtnzNDvv29kRef5TSCge/cGO9ZPxWSEjpM+n/DFypU6apQ7yjnn6NtvR2SUJPD995qT406a6t5di4u1rs56nyJv8mT3b+ebb0LfSAxH6Hj3Xe8dorFjdfXqiIxSWqpnnOGOkpUV1r9o8tm3TwsLtU0bFdFWrTQ//9hzcBNYXp77V7NtW+gbifkIVfXQIZ0zRzt1UhFt3jxST+GcE6PatnXfD87La8LRTBIrLXWn6zp3X99+a71D0TVmjIroqaeGNQ86HiJ0/PQpXCSubfH99/qrXzkHVS+NH//KK6/UJcNBVUiWL9dLLnHzO/98/eAD6x2KunXrNBBQEb3zzrC2Ez8ROsrL9cor3f/z/fvrW29FZJTFi7fdcEMgJUVEMjMzly5dGpFR4tb27d79YadOyfuSlvPSbrNmWl4e1nbiLUJHaan26eMdA339te8j1NXVlZSU9OrVS0RSUlKys7M3bNjg+yhxx3lzx7mYQWpqUl/MYM4c9w/wvvvC3VR8RqhRurbF3r17CwoKWrRoISKtW7cuKCg4cOCA76PEi9JSPfNMb5pDmHf/ca201J1EPnq0D+elx22Ejv/9T3Nz3QPzbt10zhyfTxRWVdWNGzfmHJm22LNnz+LiYt+HiHFr1+pVV7n5nX22/uc/1jtk6t//dgscMkSrqnzYYJxH6Fi2LArXtli0aNHgI5+Fetlll61atSoSo8SaykrvUq8dO2phoW8XJIlTs2a5T4aHD9fKSn+2mRAR6pFrW/Tq5U6qjcy1LWpra4uLizt37iwigUAgJydn69atvo8SI5w3hk491XtjKJy3whLAwYN6553uXf0ttxw7hS0ciRKhY98+LSjQFi3ct40LCnT/ft8HqayszM/PT0tLE5GOHTsWFhZWJ9yjQ1mZDhrk/sGNGaPJ8ah/It99507Ha9ZMCwt93nhiReioP4GqR48ITaBau3bt1Vdf7Ryd9uvXb8GCBb4PYWL9em+y4FlnRWqyYHx59VX3FUCnwM8+a+Trhx9C334iRuiIyrUtFi5cOGDAACfFcePGffHFF5EYJTr27vUOI5yTj5L4lWDPpk2NnEb4069HHgl9iMSNUI+cVNO5c0RPjKqpqSkqKmrfvr2IpKam5uXl7dy50/dRIqquTouLtWtX9wl1Tk5Y9+sJZvNm7dPn5F9PPx36EAkdoaOqSvPz3ROjOnTQwsJInBj1448/5uXlNWvWTEROOeWUoqKiw3Eyi2TpUs3MdO/Ohw/XxYutdyj5JEGEjvrXtujXL0LXtlixYsWll17qHJ0OHTr0/fffj8Qoftm0KRlPPopBSROhIyrXtigtLT399NOdFLOysr6NvTML9u/XwkL3jJGWLTU/nzNGLCVZhKpaU6MzZ2r79u70x0mTdvsy66Gh/fv3FxYWtmnTRkRatmyZn5+/Ozb+zOvq6ubOnXvttVOdO6Jf/ILPCrCXfBE6jpwY9cOIERkZGRF6Crdp06acnJyUlBQR6d69e3Fxse2JUcuXL3eOlgOBwLXXrk7Ck49iU7JG6FixYvKNNzrHjUOGDHkv5E9KPKElS5ZkHvkU1OHDhy+2eOkjfl83SgbJHaGqqpaWlp5xxhlHn8J9E4FrW9TV1RUXF3ft2tU5MSonJ+eHaL0JkADvoCQ8IlRVra6uLioqatu2rYikpaXl5eVF4incrl27Jk+e7Mx3a9eu3dy5c30f4hjHzCVYw0VWYxIRejZv3pybmxsIBETktNNOmzNnTm0EToxav359dnZ2IBCI6An7FRUV48ePT7xZdQmJCI+1dOnSkSNHOn++w4YN+/jjjyMxSuQmuNWfX96hQ4eEnF+eYIiwEXF6bYukOtMqkRDhccXXtS2OOef4888/t94jBIsITyL2r20R+3uIEyPCoMTmtS3qP1a3atUqxh+rcTxEGKyYesYVp89a0SgibJpYuLbFsmXLovD6LaKGCENhdW2L6LyTiSgjwtBF89oW0ZnTAxNEGJbozMw8Znbr1xG47D8MEaEPIneOQnl5+RVXXOHkd84557zNZ5gmIiL0zdGz9Xy5tsWOHTuOhh25Mx4RC4jQZ+Ff28I5xO3QoYNziJubm7s9Eh+KiphBhP4L59oWCxcuHDhwICcfJRUijJSmXtuioqIiKyvLya9v374lXPs6aRBhZC1ZsuSiiy468bUtqqqq8vPz09PTj558dDACV0ZFzCLCiDvBtS2cqXBdunQ5OhVuSwSuEY4YR4RR4ky2dh7uUlNTL7/88sLCwtatWzsPkqNGjVoZmU/LQOxLUVVBtKxfv37ChAmLFi06+pN27do999xzNx656BuSEBEamD59+vTp02trazMzM0tKSjIyMqz3CJaIEDAWsN4BINkRIWCMCAFjRAgYI0LAGBECxogQMEaEgDEiBIwRIWCMCAFjRAgYI0LAGBECxogQMEaEgDEiBIwRIWCMCAFjRAgYI0LAGBECxogQMEaEgDEiBIwRIWCMCAFjRAgYI0LAGBECxogQMEaEgDEiBIwRIWCMCAFjRAgYI0LAGBECxogQMEaEgDEiBIwRIWCMCAFjRAgYI0LAGBECxogQMEaEgDEiBIwRIWCMCAFjRAgYI0LAGBECxogQMEaEgDEiBIwRIWCMCAFjRAgYI0LAGBECxogQMEaEgDEiBIwRIWCMCAFjRAgYI0LAGBECxogQMEaEgDEiBIwRIWCMCAFjRAgYI0LAGBECxogQMEaEgDEiBIwRIWCMCAFjRAgYI0LAGBECxogQMEaEgDEiBIwRIWCMCAFjRAgYI0LAGBECxogQMEaEgDEiBIwRIWCMCAFjRAgYI0LAGBECxogQMEaEgDEiBIwRIWCMCAFjRAgYI0LA2P8BjusYLABJsl0AAAAASUVORK5CYII=\",\"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\",\"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\",\"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\",\"iVBORw0KGgoAAAANSUhEUgAAASwAAAEsCAIAAAD2HxkiAAAie0lEQVR4nO3dZ1hU19YH8DUokSCigIKxRRRnQCwIiAVLNBJ7jR3svQOOWGIPihXjjfFeY66Sixqj0RSMJfEmlkQwiaJBaQIqigiCCNKn7PfDeTNvXmPUmb1n9jln1u+jeWbNejR/9uGsc/ZWEEIAIcSPDe8GELJ2GEKEOMMQIsQZhhAhzjCECHGGIUSIMwwhQpxhCBHiDEOIEGcYQoQ4wxAixBmGECHOMIQIcYYhRIgzDCFCnGEIEeIMQ4gQZxhChDjDECLEGYYQIc4whAhxhiFEiDMMIUKcYQgR4gxDiBBnGEKEOMMQIsQZhhAhzjCECHGGIUSIMwwhQpzV5N0ABwcOHAgLCyssLHzmz+vWrWtra8ulJWuj0WiKi4uf+UMXF5cdO3aEhIRwaYkjhbUdElpSUlK/fn2NRsO7EfQctra2BQUFjo6OvBuxKKtbCUeNGqXRaGrVqnXlypVn1j0HB4eaNa3uL4QLrVZbWlr6zJ/4+flVVlaOHj369OnTvBrjg1iTpKQkhUIBABs3buTdC3rWtm3bAEChUFy9epV3LxZlXZejHh4emZmZjRo1ysnJ4d0Leo5GjRrl5uZ6eHjcunWLdy+WY0V3Rw8cOJCZmQkAMTExvHtBz/fZZ58BQEZGxv79+3n3YjnWshISQjw8PLKysrp06XLp0iXe7aC/1aVLl4SEhObNm2dlZQm/O8ietayEBw4cyMrKcnFx+eKLL3j3gl7kyy+/dHV1vXPnzsGDB3n3YiFWsRKWl5d7eXllZ2fHxMRMmjSJdzvoJWJiYqZMmdK4cePU1FQHBwfe7ZidVayEGzduzM7O9vPzmzBhAu9e0MtNmjQpICAgJydn8+bNvHuxBPmvhPfu3fP09KyoqLhw4UK3bt14t4NeSUJCQteuXWvVqpWSktK8eXPe7ZiX/FfC8PDw8vLy4OBgTKCEdO7cefz48ZWVlREREbx7MTuZr4Q//fRTjx49Xn/99ZSUlGbNmvFuBxkhJydHpVKVlZX9+OOPb731Fu92zEjOK6Ferw8NDSWELF++HBMoOY0bN166dCkAhIaG6nQ63u2YkZxXwj179syePbtp06apqan29va820FGq6ys9PLyunPnzp49e2bOnMm7HXORbQhLSkpUKtXDhw+PHj06cuRI3u0gEx09enT06NENGjRIT0+vV68e73bMQraXo2vXrn348GFgYOC7777LuxdkulGjRvXs2fPRo0fvv/8+717MRZ4rYUZGhre3t1ar/eWXX/z8/Hi3g6hcu3bN39/fxsYmKSlJpVLxboc9ea6ECxcurK6unjFjBiZQBnx8fKZNm6bRaBYsWMC7F7OQ4Up48uTJgQMHOjo6pqWlNWzYkHc7iIFHjx4plconT56cPHmyf//+vNthTG4h1Gg0bdu2TUtLi46ODgsLoym1dOnS27dvs2rMyrm7u1M+gxYdHb148WIPD4+bN2++9tprrBoTBT7vEpvN9u3bAcDDw6OyspKylI+PD+9/HPnw8fGh/Oeorq4WfiGMjo6mLCU2sloJDRct33777YABAyirff/990VFRUwaQ05OTkFBQZRFvv3220GDBsnwFw3ePwVYEua5QUFBvBtB5iL8Qjhr1izejbAkn5Xw+vXrfn5+CoXi2rVr3t7evNtBZpGamtquXTudTien4ZN8RhTCE4YLFizABMqYp6fnvHnzDE8F826HDZmshMLDTc7Ozrdu3XJ2dubdDjKjJ0+eKJXKR48eyeaBRDmshIa3zjZu3IgJlL169eqtX78e/nhTlHc7DMghhFu3br1z50779u2nT5/OuxdkCTNnzvTz87t37150dDTvXhiQ/OWo9bz6if5MTq9rS34lXLZsWVlZ2ciRIzGBVqVbt24jRowoLy9fuXIl715oSXslNGwHlJyc7O7uzrsdZFHZ2dleXl4y2MJLwishIWTRokWEELVajQm0Qs2aNQsLCyOEhIaG6vV63u2YTsIrobVtEYv+Sh7bOks1hKWlpSqV6sGDB7GxsVZ4tisyiI2NnThxopubW3p6ukRPF5Xq5ejGjRsfPHjQuXPn4OBg3r0gnkJCQgIDA/Py8qS7XbckV8KsrCxvb++qqqr4+PhOnTrxbgdxduXKlYCAgJo1a964caNVq1a82zGaJFdCtVpdWVk5ceJETCACAD8/v5CQkOrq6mXLlvHuxRTSWwl/+OGHt99+28HBIS0trVGjRrzbQaKQl5enVCpLSkrOnDnzzjvv8G7HOBJbCXU6nbBpxYoVKzCByMDNzU3YrjssLEyr1fJux0hc3mI02UcffQQA7u7uFRUVvHtB4lJVVeXh4QEAu3fv5t2LcaR0OVpUVKRUKgsKCo4dOzZixAje7SDROXbs2MiRI52dndPT011cXHi386qkdDm6du3agoKCXr16YQLRc7377rtBQUGPHz+W1nbdklkJU1JS2rdvr9frr1692q5dO97tIJG6efOmsE1eYmJimzZteLfzSiSzEoaHh2s0mlmzZmEC0Qt4e3vPmDFDq9WGhoby7uVVSWMljIuLGzJkiJOTU3p6ev369Xm3g0Tt8ePHSqWysLAwLi5u0KBBvNt5OQmshNXV1Wq1GgDWrFmDCUQv5ezsLLxkGBoaWlVVxbudl5NACHfu3Jmenu7l5TV37lzevSBpmD9/fps2bTIzMz/88EPevbyc2C9H8/PzlUplcXHxqVOn+vXrx7sdJBlnz54NCgqqU6dOWlraG2+8wbudFxH7SrhixYri4uLBgwdjApFR+vTpM2jQoKdPn65evZp3Ly8h6pUwMTGxY8eONWrUSEpKUiqVvNtBEpOZment7a3RaC5fvuzv78+7nb8l6pVQ2FR74cKFmEBkgpYtW86fP1+v1wvboPBu52+JdyU8fPjwuHHjXF1d09PT69aty7sdJElPnz5VKpUPHz48fPjwmDFjeLfzfCJdCSsqKoR3wzZs2IAJRCarU6eOsF23Wq0uKyvj3c7ziTSEW7ZsuXv3bocOHaZMmcK7FyRt06ZN8/f3v3//vnCArAiJ8XL0/v37np6eZWVl58+f79GjB+92kORdunSpW7dudnZ2KSkpb775Ju92niXGlTAiIqKsrGzMmDGYQMRE165dR40aVVFRsWLFCt69PIfoVsL4+PjAwEA7O7vk5OTmzZvzbgfJxL179zw9PSsqKs6fP9+9e3fe7fw/4loJDXeTIyIiMIGIoaZNm6rVakLIokWLxLZdt7hWwn379k2bNq1Jkyapqam1a9fm3Q6SlYqKCi8vr7t37+7bt09UN/xEFMKnT5+qVKrc3NxDhw6NGzeOdztIhg4dOhQcHOzm5paWliae0ZeILkcjIyNzc3O7dOkyduxY3r0geRo3blz37t3z8vKioqJ49/J/xLISGh7zi4+PDwgI4N0Okq2rV6927NixZs2a4nkgWSwrYXh4eFVV1eTJkzGByKx8fX0nTZpUXV0dERHBu5f/JYqVUNhUWxKvfiEZyMvLU6lUxcXFp0+f7tu3L+92RLAS6nQ6YU+elStXYgKRBbi5uS1fvhz+2D2MdzsiCOHu3buTkpJatGixaNEi3r0gaxEWFtaqVavk5OQ9e/bw7oX35WhRUVGrVq0KCwu/+uqroUOHcuwEWZuvvvpq+PDhYtjCj/NKuGrVqsLCwt69e2MCkYUNGzasb9++RUVF69at49sJz5UwOTm5ffv2hJDExMS2bdvyagNZreTkZB8fH71ez/f/QJ4rYXh4uFarnTNnDiYQcdG6deuZM2cabg3ywm0lFM8VObJmYrgrwWclNIxK169fjwlEHDk5Oa1Zswb+eFyESw98QhgdHX3r1q3WrVvPmjWLSwMIGcydO7dt27ZZWVkffPABlwY4XI4ajhcXyfMKCPF9ZovDSrh8+fKSkpKhQ4diApFI9O7de8iQIU+fPhVOkrEwS6+EInyGHSHg+h6PRVdCQkhoaKherw8LC8MEIlFp2bKlsPNFaGiohVcmi66EBw8eDAkJEdt7zQgJDHs7HDx4cPz48Rb7XsuthIYN56KiojCBSITq1KkTGRkJf2y6abHvtVwIN23alJ2d3aFDh0mTJlnsSxEyyuTJkzt27JiTk7N161aLfamFLkfFvOsjQn9m+Z1vLbQSqtXq8vJyYZsdy3wjQqYRthozHElkAZZYCX/++efu3buL9iQAhJ5hOA3l3LlzPXv2NPfXmX0lNNzzXbZsGSYQSUKTJk2WLFkCfxxTa+6vM/tKuHfv3pkzZzZp0iQtLc3e3t6s34UQK4btuvfu3Tt9+nSzfpd5QyiJc1IRei6LnRVt3svRdevWPXz4sGvXrqNHjzbrFyHE3NixY3v06JGfny8MD83HjCthRkZGmzZtNBrN5cuX/f39zfQtCJlPYmJix44da9So8fvvv6tUKjN9ixlXwtDQ0KqqKuGwYvN9C0LmIxzYXl1drVarzfct5loJz549GxQUVKdOnfT09IYNG5rjKxCygPz8fKVSWVxcfOrUqX79+pnjK8yyEmq12rCwMABYvXo1JhBJmqur63vvvQfm3K7bLCHctWvXjRs3WrZsuWDBAnPUR8iSFi1apFQqU1JSdu/ebY767C9HHz9+rFQqCwsL4+LiBg0axLY4QlzExcUNGTLETJsDsl8J33vvvcLCwj59+mACkWwMHjy4X79+RUVFq1evZl6c8Up48+ZNHx8fAEhMTGzTpg3DygjxlZKS0r59e71ef/Xq1Xbt2jGszHglDAsL02q18+bNwwQimfHy8pozZ445tutmuRIeO3Zs5MiRzs7O6enpLi4urMoiJBJFRUVKpbKgoODYsWMjRoxgVZbZSlhVVSW8fxUZGYkJRLLk5OQkHOGkVqsrKytZlWUWwu3bt2dkZHh7e8+YMYNVTYTEZtasWe3atbt9+/aOHTtY1WRzOWrYVPu7774LCgqiL4iQaP3444+9e/d2cHBIS0tr1KgRfUE2K2FERERJScmIESMwgUj2evXqNXz48NLSUmH3QHoMVsIrV64EBATUrFnzxo0brVq1YtIWQmKWlZXl7e1dVVUVHx/fqVMnymq0KyEhRNi3WK1WYwKRlWjRokVYWJiwozz9Mka7EsbGxk6cONHNzS09Pd3R0ZGyG4SkorS0VKVSPXjwIDY2NiQkhKYU1UpYXl4unGKzZcsWTCCyKg4ODhs3bgSAZcuWlZaW0pSiCuHGjRuzs7P9/PwofxIgJEUTJ04MCAjIycnZvHkzTR3TL0ezs7O9vLwqKiouXLjQrVs3miYQkqiEhISuXbvWqlUrOTnZ3d3dtCKmr4Th4eHl5eUhISGYQGS1OnfuHBwcXFlZGRERYXIRE1fCc+fO9erVy97ePiUlpVmzZiZ/PUJSl5OT4+npWVpa+v333/fp08eECqashIYHyVesWIEJRFaucePGS5cuBYDQ0FCtVmtCBVNCGBUVdf369aZNmwobySBk5dRqdfPmzW/evGnaHRqjL0fv3r3bokULvV4fExODJw0iJIiJiZkyZYpCocjMzDT2Do3RIfT19U1MTHR0dCwqKrKxseiR9wiJmZOT05MnT3x9fa9cuWLUB41L0cmTJxMTEwHgo48+wgQi9Gcff/wxAFy9evXrr7826oPGrYSurq6PHj1q3br1zZs3jWsQISvQunXrlJQUFxeXgoKCV/+UEavZ2rVrHz16pFAoPvvsM+PbQ0j+jh8/rlAoCgsLhRfwX5ERK6Gbm1t+fv7gwYO/+eYbkzr8X/fv3y8qKmrbti1NEYSYS0pKcnJyatKkCU2RIUOGxMXFubq65uXlveJHLP173cWLFz09PSdMmGCBA1ARenU6nW7ChAmenp4XL1608FcbEcLw8HAAOHHixO+//27y93Xs2NHV1fX69et79+41uQhCzH388cfXr193cXHx8/MzuUhycvKJEycAYP78+UZ8jBijQYMGAODl5WXUp55x9OhRAHB2di4sLKSpgxArRUVFwub2X3zxBU0dT09PAHB1dTXqU8aF8OzZs0J0Y2NjjfrgM9566y0AEN5NRog74THMbt266fV6k4scPnxYSMepU6eM+qBxISSE+Pr6AoCjo6NOpzP2swY3btyoWbOmsC2NyUUQYiIlJcXW1rZGjRrXrl2jqVOvXj0A8PPzM/aDRocwOztbGNPv37/f2M/+2axZswCgT58+NEUQote/f38AmD17Nk2Rffv2AYCNjc2dO3eM/azRISSEREZGAkDTpk3LyspM+LigsLDQ2dkZAE6cOGFyEYQoxcXFAUC9evXy8/NNLlJeXt68eXMA2LBhgwkfNyWEOp1OuIP0/vvvm/Bxg+joaADw8PCorKykqYOQaaqrq1UqFQDs2LGDps769esBwMfHR6vVmvBxU0JICPnpp58UCoW9vf3du3dNq0AI0Wg03t7eALB9+3aTiyBksm3btgGAp6dndXW1yUXu379fu3ZtADh37pxpFUwMISFk5MiRABASEmJyBULId999J9zmyc3NpamDkLHy8vKEWyknT56kqRMcHAwAo0aNMrmC6SHMzs62t7dXKBQXL140uQghZMCAAQAwc+ZMmiIIGUs4uWjgwIE0RS5duqRQKOzs7G7fvm1yEdNDSAgRNh319fWlGVfcunWrVq1aNjY2v/76K00zCL26xMTEGjVq2NrapqammlxEp9MFBAQAwKpVq2iaoQphWVmZsMdMTEwMTR3hgbjAwECaUSlCr65nz54AsHjxYpoi+/fvB4DGjRuXlpbS1KEKISEkNjYWANzc3IqLi00uUlxc3LBhQwA4cuQIZT8IvdTnn38OAA0aNCgqKjK5yNOnT4Vz0Q4cOEDZD20I9Xq9sO/o8uXLaer861//op89IvRShpnenj17aOoI51J37tyZ/vKNNoSEkN9++83Gxua1115LT083uYhh9rh+/Xr6lhD6O8LrtibP9ASZmZl2dnYKheLy5cv0LTEIISFE2HZt+PDhNEWE2ePrr79OM3tE6AXoZ3qCYcOGAcDkyZOZdMUmhA8fPhROZTpz5gxNnVGjRgFAcHAwk64Qesb48eMBYPTo0TRF/vvf/wKAg4NDTk4Ok67YhJAQIhwT1bp1a41GY3IRVrNHhP6KyUxPq9W2a9cOAKKiolg1xiyEVVVVwkm9H330EU0dJrNHhJ7Baqa3a9cuAGjRokVFRQWr3piFkBBy7Ngx4ZX5goICk4sYZo+Ur0oh9GfCq0aUM73Hjx8LL+AfP36cYW8sQ0gIeeeddwBg4cKFNEWYzB4RMigpKXnjjTfoZ3oLFiwAgN69e7NqTMA4hDdv3hRemU9KSjK5iGH2uGzZMoa9IaslnJrUpUsXmplecnKy8AL+9evXGfZGmIeQEDJnzhwAePvtt2mKXLlyhX72iBBhN9Pr168fAMydO5dVYwbsQ1hYWOji4gIA33zzDU0dJrNHhJjM9ITjJZycnB49esSqMQP2ISSEfPDBBwDQsmVLmlfmWc0ekTVjMtOrqqpSKpUAsHPnToa9GZglhBqNpk2bNgCwZcsWmjpMZo/Iamm1WuG0BcqZnnD0p5eXF80L+C9glhCSP3YorVOnzoMHD0wuwmr2iKwTk5leXl5e3bp1TdhN9NWZK4SEkEGDBgHA9OnTaYocP36cfvaIrJBhpvfll1/S1Jk2bRoADB48mFFfz2HGEGZkZAivzP/yyy80dZjMHpG1YTLTu3r1qnCXPi0tjVVjf2XGEBJC1Go1AHTt2pVmPmOYPf7+++8Me0Myxmqm16NHDwBYsmQJq8aey7whNDyp8Nlnn9HUmTt3Lv3sEVmPvn37AsC8efNoihw6dEg43eXJkyesGnsu84aQECIcgdakSROaZ/ZYzR6RNWAy0ysvL3/zzTcB4JNPPmHY23OZPYQ6nc7f3x8A1q5dS1Nn586d9LNHJHuGmd4//vEPmjpr1qwBgA4dOljgbR6zh5AQ8vPPPwuvzJtwVoYBq9kjkjcmM7179+4JL+CfP3+eYW9/xxIhJISMGTMGAMaNG0dThMnsEckYq5ne2LFjAWDs2LGsGnsxC4WQ1Y+WwYMHA8C0adNYNYbkZOrUqQAwZMgQmiJMLtyMYqEQEkYX2axmj0h+mMz0dDpdx44dAWDNmjXsWnsJy4XQcLvp3//+N00dJrNHJD9MZnqffPIJ/c18Y1kuhISQgwcP0g9eWM0ekZwwmekZ/tc6dOgQw95eyqIh1Ov13bt3B4CIiAiaOkxmj0g2WM30lixZQv8CvgksGkIi5Qt3JFpSv91g6RASyd7CQuIkgxvvHEJoGOacPn2apg6T2SOSOiYzPb4jaA4hJIRs2rRJco81IBFi9TCW8AL+5s2bGfb26viEUIoP+CGxYXVrgPtjyXxCSAj56quvpPWoOxIbti/ofP311wx7Mwq3EBKpvfSFREVOr6ryDKHh9WfKV+aZzB6RtDCZ6QmbNtD/H0iJZwgJIfPnz5fKRiBIPNhuX7RgwQJWjZmGcwhZbYnFZPaIpILJTE/YyM/JyYn7Rn6cQ0gI+fDDDyWxOSQSCbZb2u7atYthb6bhH0LDNsmbNm2iqWPubZKRGLDaYCEqKko8m7vzDyH548AA+p9tTGaPSMyYzPTEdsyJKEJICBk6dCgATJkyhaYIk9kjEi1WM73JkycDwLBhw1g1RkksIczMzBTud1EeIsdk9ojEiclMT4RHX4olhET0x6kivphsxC7OQ6BFFELDMxAHDx6kqWOmg8URX0yOJDlw4AAAuLm5FRcXs2qMnohCSAjZt28fADRu3JjmaUBWs0ckHkxmeuXl5c2aNQOA/fv3s2uNAXGFUKfTBQQEAMDq1atp6jCZPSKRYDXTW7VqFQD4+vqK7Z0bcYWQEHLp0iXhDbHbt2+bXITVEa1IDJgc2JydnW1vb69QKC5cuMCwNyZEF0JCyPjx4wFg9OjRNEWYHFaOuGM10xs1ahQABAcHs2qMITGG8P79+8Ir8+fOnaOpM2zYMACYPHkyq8aQ5U2aNAkAhg8fTlPkp59+Ei6v7t69y6oxhsQYQkLIunXrAMDHx0er1ZpchNXsEfHCZKZnOBds/fr1DHtjSKQhLC8vb968OQB8/PHHNHWYzB4RF6xmenv27AGApk2blpWVseqNLZGGkBBy+PBh4ZX5oqIik4sYZo8HDhxg1xqyhNjYWPqZXnFxccOGDQHg888/Z9gbW+INISGkZ8+eALB48WKaIkxmj8jCysrKmMz0wsPDASAwMFDMl0KiDmFiYmKNGjVsbW1TU1NNLmKYPa5atYphb8isVq5cST/Tu3XrlnBT4Ndff2XYG3OiDiEhZPr06QAwaNAgmiJMZo/IYgwzvYsXL9LUGThwIADMmDGDVWNmIvYQGl6ZP3nyJE0dJrNHZBlMZnrff/+98JJqbm4uq8bMROwhJIRs3boVADw9PWlemWc1e0TmxmSmp9FovL29AWDbtm0MezMTCYSwqqpKpVIBwI4dO2jqMJk9IrPS6XR+fn70M73o6GgA8PDw4LWptlEkEEJCSFxcHADUq1ePcrtuJrNHZD5MZnqFhYXOzs4AcOLECYa9mY80QkgI6devHwDMmTOHpsjnn39OP3tEZmKY6R05coSmzuzZswGgT58+rBozN8mE0PDK/LVr12jqMJk9InNgMtO7ceOG8AJ+UlISw97MSjIhJIQsWrQIAHr16kVThMnsETHHaqYXFBQEAKGhoawaswAphdDwyvwXX3xBU2fGjBkAMHDgQFaNIXoDBgwAgJkzZ9IUOXr0KAA4Oztz31TbKFIKISFk9+7dAODu7k65XXe9evXoZ4+IFWGm5+joSDPTq6ys9PDwAIB//vOfDHuzAImFUKvVtmvXDgA2bNhAU2fbtm30s0fEhGGmt337dpo6kZGRAODt7S2GTbWNIrEQEkJ++OEH+lfmWc0eET0mM73c3FzhBfzvvvuOYW+WIb0QEkJGjBgBABMnTqQpYpg95ufns2oMGYvVTG/ChAkA8O6777JqzJIkGcKsrCw7OzuFQpGQkEBTp3///gAwe/ZsVo0hY82aNYt+pvfbb7/Z2NjUqlXr1q1brBqzJEmGkBCyYsUKAPDz86N51SUlJYXJ7BGZxjDTu3HjhslF9Hp9p06dAOC9995j2JslSTWET58+bdSoEQD85z//oanDZPaITMNkpvfpp5+KcFNto0g1hISQmJgYAGjYsCHN3z6r2SMyFpOZnuFn8aeffsqwNwuTcAhZXYcwmT0io7Ca6TH5rYQ7CYeQEBIfH69QKCh/I9dqte3btweAyMhIhr2hF3j//ffpZ3qG+3OUL+BzJ+0QEkb3poXZo729fXZ2NqvG0N+5f/++g4MD/UyPyaRKDCQfQvwXlRz8ufkMyYeQ4LWNpOBvEH8lhxBWVFS4u7vjb/nix/ZeWrNmzUS7qbZR5BBCgve7JQKnSs8lkxASnPyKHj5f8XfkE0J8Bkrk8EnDvyOfEBJGTwMzuXOAnsHqvpcsn7mXVQjxvRjRwrfPXsAGZMTZ2Vk4SCQ0NLSqqsrkOlFRUW5ubj4+PoQQdt1ZL0JIhw4d3NzchNPnTVNdXa1WqwFgzZo1DRo0YNedCPD+KcAYq70S8DlS5ij/SmW8I4mCyO6H/dmzZ4OCghwdHdPS0oTNZJHU5efnq1SqJ0+enDx5Uvi1UE5kdTkq6NOnz4ABA0pKStasWcO7F8TGypUrnzx5MnDgQPklEABkuBICQEZGRps2bTQazeXLl/39/Xm3g6hcu3bN39/fxsYmKSlJ2J5LZmS4EgKAh4fHvHnz9Hq9MLvn3Q6iEhoaqtPpFi5cKMsEglxXQgAoKSlRqVQPHz48cuSIcOgkkqIjR46MGTPG1dU1LS1N2LJZfuS5EgKAo6OjcCDh4sWLy8vLebeDTFFRUbF06VIAiIyMlGsCQcYhBIDp06f7+fndu3dv+/btvHtBpti6deudO3d8fHymTp3Kuxczku3lqODnn3/u3r27nZ1dampqs2bNeLeDjJCTk6NSqcrKys6dOyccaCdXcl4JASAwMHDkyJEVFRXC08NIQiIiIsrKykaPHi3vBILsV0IAuHfvnqenZ0VFxYULF7p168a7HfRK4uPjAwMD7ezskpOThUPOZUzmKyEANG3aNDw8nBCyaNEivV7Pux30cobZklqtln0CwRpWQgAoLy/38vLKzs7ev3//5MmTebeDXmL//v1Tp05t3LhxWlpa7dq1ebdjdvJfCQHA3t5+w4YNAKBWqx88eMC7HfQiubm5wlhi8+bN1pBAsJKVEAAIIR4eHllZWZ07d46Pj+fdDvpbXbp0SUhIcHd3z8zMVCgUvNuxBKtYCQFAoVAIOyMmJCQIhzMjETp//nxCQgIArFq1ykoSCNazEgpatWqVkZHxxhtv4EWpODVq1Cg3N7dVq1bp6em8e7Eca1kJBV9++aVCocjNzY2KiuLdC3rW9u3bc3NzFQrFkSNHePdiUda1EgJAv379zpw5U6tWrStXrtja2v75Pzk4ONSsWZNXY1ZFq9WWlpY+8ye+vr5VVVV9+/Y9ffo0r8a4sLoQlpSU1K9fX6PR8G4EPYetrW1BQYGjoyPvRizK6n7wOzo67tu3LywsrLCw8Jn/VLdu3WfWRmQmGo2muLj4mT90cXHZsWOHtSUQrHAlREhsrOvGDEIihCFEiDMMIUKcYQgR4gxDiBBnGEKEOMMQIsQZhhAhzjCECHGGIUSIMwwhQpxhCBHiDEOIEGcYQoQ4wxAixBmGECHOMIQIcYYhRIgzDCFCnGEIEeIMQ4gQZxhChDjDECLEGYYQIc4whAhxhiFEiDMMIUKcYQgR4gxDiBBnGEKEOMMQIsTZ/wCwoFkCiR2keAAAAABJRU5ErkJggg==\"]]]}}},\"view\":{\"type\":\"object\",\"name\":\"CDSView\",\"id\":\"p7488\",\"attributes\":{\"filter\":{\"type\":\"object\",\"name\":\"AllIndices\",\"id\":\"p7489\"}}},\"columns\":[{\"type\":\"object\",\"name\":\"TableColumn\",\"id\":\"p7477\",\"attributes\":{\"field\":\"groups\",\"title\":\"Functional Groups\",\"formatter\":{\"type\":\"object\",\"name\":\"StringFormatter\",\"id\":\"p7478\"},\"editor\":{\"type\":\"object\",\"name\":\"StringEditor\",\"id\":\"p7479\"}}},{\"type\":\"object\",\"name\":\"TableColumn\",\"id\":\"p7481\",\"attributes\":{\"field\":\"images\",\"title\":\"Images\",\"width\":200,\"formatter\":{\"type\":\"object\",\"name\":\"HTMLTemplateFormatter\",\"id\":\"p7480\",\"attributes\":{\"template\":\"\\n    <div>\\n        <img src=\\\"data:image/png;base64, <%= value %>\\\" style=\\\"width:50px;height:50px;\\\">\\n    </div>\\n    \"}},\"editor\":{\"type\":\"object\",\"name\":\"StringEditor\",\"id\":\"p7483\"}}}],\"row_height\":60}}]}}]}}],\"defs\":[{\"type\":\"model\",\"name\":\"ReactiveHTML1\"},{\"type\":\"model\",\"name\":\"FlexBox1\",\"properties\":[{\"name\":\"align_content\",\"kind\":\"Any\",\"default\":\"flex-start\"},{\"name\":\"align_items\",\"kind\":\"Any\",\"default\":\"flex-start\"},{\"name\":\"flex_direction\",\"kind\":\"Any\",\"default\":\"row\"},{\"name\":\"flex_wrap\",\"kind\":\"Any\",\"default\":\"wrap\"},{\"name\":\"gap\",\"kind\":\"Any\",\"default\":\"\"},{\"name\":\"justify_content\",\"kind\":\"Any\",\"default\":\"flex-start\"}]},{\"type\":\"model\",\"name\":\"FloatPanel1\",\"properties\":[{\"name\":\"config\",\"kind\":\"Any\",\"default\":{\"type\":\"map\"}},{\"name\":\"contained\",\"kind\":\"Any\",\"default\":true},{\"name\":\"position\",\"kind\":\"Any\",\"default\":\"right-top\"},{\"name\":\"offsetx\",\"kind\":\"Any\",\"default\":null},{\"name\":\"offsety\",\"kind\":\"Any\",\"default\":null},{\"name\":\"theme\",\"kind\":\"Any\",\"default\":\"primary\"},{\"name\":\"status\",\"kind\":\"Any\",\"default\":\"normalized\"}]},{\"type\":\"model\",\"name\":\"GridStack1\",\"properties\":[{\"name\":\"mode\",\"kind\":\"Any\",\"default\":\"warn\"},{\"name\":\"ncols\",\"kind\":\"Any\",\"default\":null},{\"name\":\"nrows\",\"kind\":\"Any\",\"default\":null},{\"name\":\"allow_resize\",\"kind\":\"Any\",\"default\":true},{\"name\":\"allow_drag\",\"kind\":\"Any\",\"default\":true},{\"name\":\"state\",\"kind\":\"Any\",\"default\":[]}]},{\"type\":\"model\",\"name\":\"drag1\",\"properties\":[{\"name\":\"slider_width\",\"kind\":\"Any\",\"default\":5},{\"name\":\"slider_color\",\"kind\":\"Any\",\"default\":\"black\"},{\"name\":\"value\",\"kind\":\"Any\",\"default\":50}]},{\"type\":\"model\",\"name\":\"click1\",\"properties\":[{\"name\":\"terminal_output\",\"kind\":\"Any\",\"default\":\"\"},{\"name\":\"debug_name\",\"kind\":\"Any\",\"default\":\"\"},{\"name\":\"clears\",\"kind\":\"Any\",\"default\":0}]},{\"type\":\"model\",\"name\":\"FastWrapper1\",\"properties\":[{\"name\":\"object\",\"kind\":\"Any\",\"default\":null},{\"name\":\"style\",\"kind\":\"Any\",\"default\":null}]},{\"type\":\"model\",\"name\":\"NotificationAreaBase1\",\"properties\":[{\"name\":\"js_events\",\"kind\":\"Any\",\"default\":{\"type\":\"map\"}},{\"name\":\"position\",\"kind\":\"Any\",\"default\":\"bottom-right\"},{\"name\":\"_clear\",\"kind\":\"Any\",\"default\":0}]},{\"type\":\"model\",\"name\":\"NotificationArea1\",\"properties\":[{\"name\":\"js_events\",\"kind\":\"Any\",\"default\":{\"type\":\"map\"}},{\"name\":\"notifications\",\"kind\":\"Any\",\"default\":[]},{\"name\":\"position\",\"kind\":\"Any\",\"default\":\"bottom-right\"},{\"name\":\"_clear\",\"kind\":\"Any\",\"default\":0},{\"name\":\"types\",\"kind\":\"Any\",\"default\":[{\"type\":\"map\",\"entries\":[[\"type\",\"warning\"],[\"background\",\"#ffc107\"],[\"icon\",{\"type\":\"map\",\"entries\":[[\"className\",\"fas fa-exclamation-triangle\"],[\"tagName\",\"i\"],[\"color\",\"white\"]]}]]},{\"type\":\"map\",\"entries\":[[\"type\",\"info\"],[\"background\",\"#007bff\"],[\"icon\",{\"type\":\"map\",\"entries\":[[\"className\",\"fas fa-info-circle\"],[\"tagName\",\"i\"],[\"color\",\"white\"]]}]]}]}]},{\"type\":\"model\",\"name\":\"Notification\",\"properties\":[{\"name\":\"background\",\"kind\":\"Any\",\"default\":null},{\"name\":\"duration\",\"kind\":\"Any\",\"default\":3000},{\"name\":\"icon\",\"kind\":\"Any\",\"default\":null},{\"name\":\"message\",\"kind\":\"Any\",\"default\":\"\"},{\"name\":\"notification_type\",\"kind\":\"Any\",\"default\":null},{\"name\":\"_destroyed\",\"kind\":\"Any\",\"default\":false}]},{\"type\":\"model\",\"name\":\"TemplateActions1\",\"properties\":[{\"name\":\"open_modal\",\"kind\":\"Any\",\"default\":0},{\"name\":\"close_modal\",\"kind\":\"Any\",\"default\":0}]},{\"type\":\"model\",\"name\":\"BootstrapTemplateActions1\",\"properties\":[{\"name\":\"open_modal\",\"kind\":\"Any\",\"default\":0},{\"name\":\"close_modal\",\"kind\":\"Any\",\"default\":0}]},{\"type\":\"model\",\"name\":\"TemplateEditor1\",\"properties\":[{\"name\":\"layout\",\"kind\":\"Any\",\"default\":[]}]},{\"type\":\"model\",\"name\":\"MaterialTemplateActions1\",\"properties\":[{\"name\":\"open_modal\",\"kind\":\"Any\",\"default\":0},{\"name\":\"close_modal\",\"kind\":\"Any\",\"default\":0}]},{\"type\":\"model\",\"name\":\"copy_to_clipboard1\",\"properties\":[{\"name\":\"fill\",\"kind\":\"Any\",\"default\":\"none\"},{\"name\":\"value\",\"kind\":\"Any\",\"default\":null}]}]}};\n  const render_items = [{\"docid\":\"f185ac9a-c71c-4289-999a-9dd111a72d0c\",\"roots\":{\"p7491\":\"e4a0594b-ab63-407c-a5f9-ef345983135d\"},\"root_ids\":[\"p7491\"]}];\n  void root.Bokeh.embed.embed_items_notebook(docs_json, render_items);\n  }\n  if (root.Bokeh !== undefined) {\n    embed_document(root);\n  } else {\n    let attempts = 0;\n    const timer = setInterval(function(root) {\n      if (root.Bokeh !== undefined) {\n        clearInterval(timer);\n        embed_document(root);\n      } else {\n        attempts++;\n        if (attempts > 100) {\n          clearInterval(timer);\n          console.log(\"Bokeh: ERROR: Unable to run BokehJS code because BokehJS library is missing\");\n        }\n      }\n    }, 10, root)\n  }\n})(window);",
      "application/vnd.bokehjs_exec.v0+json": ""
     },
     "metadata": {
      "application/vnd.bokehjs_exec.v0+json": {
       "id": "p7491"
      }
     },
     "output_type": "display_data"
    }
   ],
   "source": [
    "import MASSiveChem.MASSiveChem as MC\n",
    "from bokeh.plotting import output_notebook, show\n",
    "\n",
    "output_notebook() #not necessary if you want to plot the image outside the outbook\n",
    "\n",
    "mol_smi = 'CC1(C(N2C(S1)C(C2=O)NC(=O)CC3=CC=CC=C3)C(=O)O)C'\n",
    "functional_groups = ['Carboxylic Acid', 'Amide', 'Amide', 'Amine', 'Sulfide', 'Benzene']\n",
    "\n",
    "x_in = [333.21807812500003, 333.71807812500003, 333.71807812500003, 333.71807812500003, 334.09, 334.09, 334.09, 335.082, 335.082, 335.082, 335.086, 335.086, 335.086, 335.092, 335.092, 335.092, 336.092]\n",
    "y_in = [0, 0, 0.8310629277992183, 0, 0, 0.006245168595575361, 0, 0, 0.006245168595575361, 0, 0, 0.006055133670000204, 0, 0, 0.14507698506191508, 0, 0]\n",
    "\n",
    "p1 = MC.double_plot(x_in,y_in)\n",
    "p2 = MC.mol_web_show(mol_smi)\n",
    "p3 = MC.functional_group_display(functional_groups)\n",
    "\n",
    "output = MC.all_in_one(p1,p2,p3)\n",
    "\n",
    "show(output)"
   ]
  },
  {
   "cell_type": "markdown",
   "metadata": {},
   "source": [
    "## smiles_to_3D_plot(mol_smi)\n",
    "\n",
    "This function takes as an input the SMILEs of a molecule and plots it in 3D in an interactive graph"
   ]
  },
  {
   "cell_type": "code",
   "execution_count": 18,
   "metadata": {},
   "outputs": [
    {
     "data": {
      "application/vnd.plotly.v1+json": {
       "config": {
        "plotlyServerURL": "https://plot.ly"
       },
       "data": [
        {
         "marker": {
          "color": [
           "black",
           "black",
           "black",
           "blue",
           "black",
           "yellow",
           "black",
           "black",
           "red",
           "blue",
           "black",
           "red",
           "black",
           "black",
           "black",
           "black",
           "black",
           "black",
           "black",
           "black",
           "red",
           "red",
           "black",
           "white",
           "white",
           "white",
           "white",
           "white",
           "white",
           "white",
           "white",
           "white",
           "white",
           "white",
           "white",
           "white",
           "white",
           "white",
           "white",
           "white",
           "white"
          ],
          "line": {
           "color": "lightgray",
           "width": 2
          },
          "opacity": 0.8,
          "size": 7,
          "symbol": "circle"
         },
         "mode": "markers",
         "text": [
          "C",
          "C",
          "C",
          "N",
          "C",
          "S",
          "C",
          "C",
          "O",
          "N",
          "C",
          "O",
          "C",
          "C",
          "C",
          "C",
          "C",
          "C",
          "C",
          "C",
          "O",
          "O",
          "C",
          "H",
          "H",
          "H",
          "H",
          "H",
          "H",
          "H",
          "H",
          "H",
          "H",
          "H",
          "H",
          "H",
          "H",
          "H",
          "H",
          "H",
          "H"
         ],
         "type": "scatter3d",
         "x": [
          -5.1329254463129255,
          -3.7219219752629207,
          -3.367872463005315,
          -1.9275718993104893,
          -1.341418622271109,
          -2.509064215955024,
          -0.1438075194874176,
          -1.0380660481629989,
          -1.049271181837621,
          1.1333008236306987,
          1.7922601780581682,
          1.3120039486125563,
          3.1201801234301394,
          4.077146208441728,
          4.562439718619613,
          5.44860582166025,
          5.858005118257772,
          5.38340300949122,
          4.497956004608582,
          -3.968180965037089,
          -5.04314410424991,
          -3.2680350234467377,
          -3.564197058160241,
          -5.34591042878326,
          -5.277973101138938,
          -5.893445775230805,
          -3.7931867980622216,
          -1.1412507984277376,
          0.050702563349259,
          1.6431596855891044,
          2.908057699325101,
          3.594130260989322,
          4.257244758871696,
          5.822336074397318,
          6.55093604291224,
          5.710053510547763,
          4.149641252918492,
          -3.7438529508192997,
          -3.8011677763926177,
          -2.5526157217009224,
          -4.2466829306571805
         ],
         "y": [
          -1.158164445524756,
          -0.5664820937523847,
          0.2938116292772684,
          0.20633228723483457,
          -1.1308166120236376,
          -1.9828876483225275,
          -0.43495322020448607,
          0.8267011658314181,
          1.9245677173275888,
          -0.3390979090628493,
          -1.4602181294568997,
          -2.5872983723095087,
          -1.198185555522698,
          -0.36943960118856256,
          -0.8588901489178419,
          -0.09992921095762392,
          1.1535494185878494,
          1.6491598838144037,
          0.8911923912597622,
          1.7013253471492567,
          2.037155248930229,
          2.5748712436236674,
          0.12313804576096839,
          -1.8592110642615698,
          -1.6917701937539946,
          -0.37095969817545044,
          -0.1876768052261728,
          -1.666797742748665,
          -0.7438158907285284,
          0.53926394448874,
          -0.7116743623681732,
          -2.1611125203556214,
          -1.8383311026019975,
          -0.48876232307286854,
          1.7413043014361045,
          2.6253012612670057,
          1.2888760973925781,
          3.4249127925630916,
          -0.5638932920956066,
          0.49572082658374805,
          0.9731843401052335
         ],
         "z": [
          -0.6306872271667208,
          -0.7455927893967229,
          0.4837059334205685,
          0.7107264251858737,
          0.4759020211728142,
          -0.6772712986257036,
          -0.2231471542276754,
          -0.12982059437346916,
          -0.6375803306266515,
          0.5396336850581759,
          0.9927204681992077,
          0.8973507814491958,
          1.6809128702472709,
          0.8563905002967286,
          -0.3667302150925045,
          -1.1327712923156135,
          -0.6849147061871161,
          0.5288886153464493,
          1.2990189516197068,
          0.5212091713291788,
          0.04806075926769762,
          1.2751224768713543,
          -2.106340999186391,
          -1.4456761834043266,
          0.31561361705164065,
          -0.6783033014968659,
          1.3796785774705727,
          1.4085266994606511,
          -1.2570119949970338,
          0.5315544533832831,
          2.6410888902741205,
          1.9098056444565434,
          -0.7292394222885591,
          -2.079093914423993,
          -1.2814507691539097,
          0.8798776355132771,
          2.2503000358112124,
          1.186974302662917,
          -2.9284351764682377,
          -2.2832781906902913,
          -2.2028499976854694
         ]
        },
        {
         "hoverinfo": "none",
         "marker": {
          "color": "grey",
          "opacity": 1,
          "size": 7
         },
         "mode": "lines",
         "type": "scatter3d",
         "x": [
          -5.1329254463129255,
          -5.277973101138938,
          null,
          -5.1329254463129255,
          -3.7219219752629207,
          null,
          -5.1329254463129255,
          -5.893445775230805,
          null,
          -5.1329254463129255,
          -5.34591042878326,
          null,
          -3.7219219752629207,
          -5.1329254463129255,
          null,
          -3.7219219752629207,
          -3.367872463005315,
          null,
          -3.7219219752629207,
          -2.509064215955024,
          null,
          -3.7219219752629207,
          -3.564197058160241,
          null,
          -5.34591042878326,
          -5.1329254463129255,
          null,
          -5.277973101138938,
          -5.1329254463129255,
          null,
          -5.893445775230805,
          -5.1329254463129255,
          null,
          -3.367872463005315,
          -3.968180965037089,
          null,
          -3.367872463005315,
          -3.7219219752629207,
          null,
          -3.367872463005315,
          -3.7931867980622216,
          null,
          -3.367872463005315,
          -1.9275718993104893,
          null,
          -2.509064215955024,
          -3.7219219752629207,
          null,
          -2.509064215955024,
          -1.341418622271109,
          null,
          -3.564197058160241,
          -4.2466829306571805,
          null,
          -3.564197058160241,
          -3.7219219752629207,
          null,
          -3.564197058160241,
          -3.8011677763926177,
          null,
          -3.564197058160241,
          -2.5526157217009224,
          null,
          -1.9275718993104893,
          -3.367872463005315,
          null,
          -1.9275718993104893,
          -1.341418622271109,
          null,
          -1.9275718993104893,
          -1.0380660481629989,
          null,
          -3.968180965037089,
          -3.367872463005315,
          null,
          -3.968180965037089,
          -5.04314410424991,
          null,
          -3.968180965037089,
          -3.2680350234467377,
          null,
          -3.7931867980622216,
          -3.367872463005315,
          null,
          -1.341418622271109,
          -1.1412507984277376,
          null,
          -1.341418622271109,
          -1.9275718993104893,
          null,
          -1.341418622271109,
          -2.509064215955024,
          null,
          -1.341418622271109,
          -0.1438075194874176,
          null,
          -1.0380660481629989,
          -1.049271181837621,
          null,
          -1.0380660481629989,
          -1.9275718993104893,
          null,
          -1.0380660481629989,
          -0.1438075194874176,
          null,
          -0.1438075194874176,
          1.1333008236306987,
          null,
          -0.1438075194874176,
          -1.341418622271109,
          null,
          -0.1438075194874176,
          0.050702563349259,
          null,
          -0.1438075194874176,
          -1.0380660481629989,
          null,
          -1.1412507984277376,
          -1.341418622271109,
          null,
          1.1333008236306987,
          1.7922601780581682,
          null,
          1.1333008236306987,
          1.6431596855891044,
          null,
          1.1333008236306987,
          -0.1438075194874176,
          null,
          0.050702563349259,
          -0.1438075194874176,
          null,
          -1.049271181837621,
          -1.0380660481629989,
          null,
          1.7922601780581682,
          1.1333008236306987,
          null,
          1.7922601780581682,
          1.3120039486125563,
          null,
          1.7922601780581682,
          3.1201801234301394,
          null,
          1.6431596855891044,
          1.1333008236306987,
          null,
          1.3120039486125563,
          1.7922601780581682,
          null,
          3.1201801234301394,
          1.7922601780581682,
          null,
          3.1201801234301394,
          4.077146208441728,
          null,
          3.1201801234301394,
          2.908057699325101,
          null,
          3.1201801234301394,
          3.594130260989322,
          null,
          4.077146208441728,
          4.497956004608582,
          null,
          4.077146208441728,
          3.1201801234301394,
          null,
          4.077146208441728,
          4.562439718619613,
          null,
          2.908057699325101,
          3.1201801234301394,
          null,
          3.594130260989322,
          3.1201801234301394,
          null,
          4.562439718619613,
          4.257244758871696,
          null,
          4.562439718619613,
          4.077146208441728,
          null,
          4.562439718619613,
          5.44860582166025,
          null,
          4.497956004608582,
          5.38340300949122,
          null,
          4.497956004608582,
          4.149641252918492,
          null,
          4.497956004608582,
          4.077146208441728,
          null,
          5.44860582166025,
          5.858005118257772,
          null,
          5.44860582166025,
          5.822336074397318,
          null,
          5.44860582166025,
          4.562439718619613,
          null,
          4.257244758871696,
          4.562439718619613,
          null,
          5.858005118257772,
          5.38340300949122,
          null,
          5.858005118257772,
          6.55093604291224,
          null,
          5.858005118257772,
          5.44860582166025,
          null,
          5.822336074397318,
          5.44860582166025,
          null,
          5.38340300949122,
          5.858005118257772,
          null,
          5.38340300949122,
          4.497956004608582,
          null,
          5.38340300949122,
          5.710053510547763,
          null,
          6.55093604291224,
          5.858005118257772,
          null,
          5.710053510547763,
          5.38340300949122,
          null,
          4.149641252918492,
          4.497956004608582,
          null,
          -5.04314410424991,
          -3.968180965037089,
          null,
          -3.2680350234467377,
          -3.968180965037089,
          null,
          -3.2680350234467377,
          -3.7438529508192997,
          null,
          -3.7438529508192997,
          -3.2680350234467377,
          null,
          -3.8011677763926177,
          -3.564197058160241,
          null,
          -2.5526157217009224,
          -3.564197058160241,
          null,
          -4.2466829306571805,
          -3.564197058160241,
          null
         ],
         "y": [
          -1.158164445524756,
          -1.6917701937539946,
          null,
          -1.158164445524756,
          -0.5664820937523847,
          null,
          -1.158164445524756,
          -0.37095969817545044,
          null,
          -1.158164445524756,
          -1.8592110642615698,
          null,
          -0.5664820937523847,
          -1.158164445524756,
          null,
          -0.5664820937523847,
          0.2938116292772684,
          null,
          -0.5664820937523847,
          -1.9828876483225275,
          null,
          -0.5664820937523847,
          0.12313804576096839,
          null,
          -1.8592110642615698,
          -1.158164445524756,
          null,
          -1.6917701937539946,
          -1.158164445524756,
          null,
          -0.37095969817545044,
          -1.158164445524756,
          null,
          0.2938116292772684,
          1.7013253471492567,
          null,
          0.2938116292772684,
          -0.5664820937523847,
          null,
          0.2938116292772684,
          -0.1876768052261728,
          null,
          0.2938116292772684,
          0.20633228723483457,
          null,
          -1.9828876483225275,
          -0.5664820937523847,
          null,
          -1.9828876483225275,
          -1.1308166120236376,
          null,
          0.12313804576096839,
          0.9731843401052335,
          null,
          0.12313804576096839,
          -0.5664820937523847,
          null,
          0.12313804576096839,
          -0.5638932920956066,
          null,
          0.12313804576096839,
          0.49572082658374805,
          null,
          0.20633228723483457,
          0.2938116292772684,
          null,
          0.20633228723483457,
          -1.1308166120236376,
          null,
          0.20633228723483457,
          0.8267011658314181,
          null,
          1.7013253471492567,
          0.2938116292772684,
          null,
          1.7013253471492567,
          2.037155248930229,
          null,
          1.7013253471492567,
          2.5748712436236674,
          null,
          -0.1876768052261728,
          0.2938116292772684,
          null,
          -1.1308166120236376,
          -1.666797742748665,
          null,
          -1.1308166120236376,
          0.20633228723483457,
          null,
          -1.1308166120236376,
          -1.9828876483225275,
          null,
          -1.1308166120236376,
          -0.43495322020448607,
          null,
          0.8267011658314181,
          1.9245677173275888,
          null,
          0.8267011658314181,
          0.20633228723483457,
          null,
          0.8267011658314181,
          -0.43495322020448607,
          null,
          -0.43495322020448607,
          -0.3390979090628493,
          null,
          -0.43495322020448607,
          -1.1308166120236376,
          null,
          -0.43495322020448607,
          -0.7438158907285284,
          null,
          -0.43495322020448607,
          0.8267011658314181,
          null,
          -1.666797742748665,
          -1.1308166120236376,
          null,
          -0.3390979090628493,
          -1.4602181294568997,
          null,
          -0.3390979090628493,
          0.53926394448874,
          null,
          -0.3390979090628493,
          -0.43495322020448607,
          null,
          -0.7438158907285284,
          -0.43495322020448607,
          null,
          1.9245677173275888,
          0.8267011658314181,
          null,
          -1.4602181294568997,
          -0.3390979090628493,
          null,
          -1.4602181294568997,
          -2.5872983723095087,
          null,
          -1.4602181294568997,
          -1.198185555522698,
          null,
          0.53926394448874,
          -0.3390979090628493,
          null,
          -2.5872983723095087,
          -1.4602181294568997,
          null,
          -1.198185555522698,
          -1.4602181294568997,
          null,
          -1.198185555522698,
          -0.36943960118856256,
          null,
          -1.198185555522698,
          -0.7116743623681732,
          null,
          -1.198185555522698,
          -2.1611125203556214,
          null,
          -0.36943960118856256,
          0.8911923912597622,
          null,
          -0.36943960118856256,
          -1.198185555522698,
          null,
          -0.36943960118856256,
          -0.8588901489178419,
          null,
          -0.7116743623681732,
          -1.198185555522698,
          null,
          -2.1611125203556214,
          -1.198185555522698,
          null,
          -0.8588901489178419,
          -1.8383311026019975,
          null,
          -0.8588901489178419,
          -0.36943960118856256,
          null,
          -0.8588901489178419,
          -0.09992921095762392,
          null,
          0.8911923912597622,
          1.6491598838144037,
          null,
          0.8911923912597622,
          1.2888760973925781,
          null,
          0.8911923912597622,
          -0.36943960118856256,
          null,
          -0.09992921095762392,
          1.1535494185878494,
          null,
          -0.09992921095762392,
          -0.48876232307286854,
          null,
          -0.09992921095762392,
          -0.8588901489178419,
          null,
          -1.8383311026019975,
          -0.8588901489178419,
          null,
          1.1535494185878494,
          1.6491598838144037,
          null,
          1.1535494185878494,
          1.7413043014361045,
          null,
          1.1535494185878494,
          -0.09992921095762392,
          null,
          -0.48876232307286854,
          -0.09992921095762392,
          null,
          1.6491598838144037,
          1.1535494185878494,
          null,
          1.6491598838144037,
          0.8911923912597622,
          null,
          1.6491598838144037,
          2.6253012612670057,
          null,
          1.7413043014361045,
          1.1535494185878494,
          null,
          2.6253012612670057,
          1.6491598838144037,
          null,
          1.2888760973925781,
          0.8911923912597622,
          null,
          2.037155248930229,
          1.7013253471492567,
          null,
          2.5748712436236674,
          1.7013253471492567,
          null,
          2.5748712436236674,
          3.4249127925630916,
          null,
          3.4249127925630916,
          2.5748712436236674,
          null,
          -0.5638932920956066,
          0.12313804576096839,
          null,
          0.49572082658374805,
          0.12313804576096839,
          null,
          0.9731843401052335,
          0.12313804576096839,
          null
         ],
         "z": [
          -0.6306872271667208,
          0.31561361705164065,
          null,
          -0.6306872271667208,
          -0.7455927893967229,
          null,
          -0.6306872271667208,
          -0.6783033014968659,
          null,
          -0.6306872271667208,
          -1.4456761834043266,
          null,
          -0.7455927893967229,
          -0.6306872271667208,
          null,
          -0.7455927893967229,
          0.4837059334205685,
          null,
          -0.7455927893967229,
          -0.6772712986257036,
          null,
          -0.7455927893967229,
          -2.106340999186391,
          null,
          -1.4456761834043266,
          -0.6306872271667208,
          null,
          0.31561361705164065,
          -0.6306872271667208,
          null,
          -0.6783033014968659,
          -0.6306872271667208,
          null,
          0.4837059334205685,
          0.5212091713291788,
          null,
          0.4837059334205685,
          -0.7455927893967229,
          null,
          0.4837059334205685,
          1.3796785774705727,
          null,
          0.4837059334205685,
          0.7107264251858737,
          null,
          -0.6772712986257036,
          -0.7455927893967229,
          null,
          -0.6772712986257036,
          0.4759020211728142,
          null,
          -2.106340999186391,
          -2.2028499976854694,
          null,
          -2.106340999186391,
          -0.7455927893967229,
          null,
          -2.106340999186391,
          -2.9284351764682377,
          null,
          -2.106340999186391,
          -2.2832781906902913,
          null,
          0.7107264251858737,
          0.4837059334205685,
          null,
          0.7107264251858737,
          0.4759020211728142,
          null,
          0.7107264251858737,
          -0.12982059437346916,
          null,
          0.5212091713291788,
          0.4837059334205685,
          null,
          0.5212091713291788,
          0.04806075926769762,
          null,
          0.5212091713291788,
          1.2751224768713543,
          null,
          1.3796785774705727,
          0.4837059334205685,
          null,
          0.4759020211728142,
          1.4085266994606511,
          null,
          0.4759020211728142,
          0.7107264251858737,
          null,
          0.4759020211728142,
          -0.6772712986257036,
          null,
          0.4759020211728142,
          -0.2231471542276754,
          null,
          -0.12982059437346916,
          -0.6375803306266515,
          null,
          -0.12982059437346916,
          0.7107264251858737,
          null,
          -0.12982059437346916,
          -0.2231471542276754,
          null,
          -0.2231471542276754,
          0.5396336850581759,
          null,
          -0.2231471542276754,
          0.4759020211728142,
          null,
          -0.2231471542276754,
          -1.2570119949970338,
          null,
          -0.2231471542276754,
          -0.12982059437346916,
          null,
          1.4085266994606511,
          0.4759020211728142,
          null,
          0.5396336850581759,
          0.9927204681992077,
          null,
          0.5396336850581759,
          0.5315544533832831,
          null,
          0.5396336850581759,
          -0.2231471542276754,
          null,
          -1.2570119949970338,
          -0.2231471542276754,
          null,
          -0.6375803306266515,
          -0.12982059437346916,
          null,
          0.9927204681992077,
          0.5396336850581759,
          null,
          0.9927204681992077,
          0.8973507814491958,
          null,
          0.9927204681992077,
          1.6809128702472709,
          null,
          0.5315544533832831,
          0.5396336850581759,
          null,
          0.8973507814491958,
          0.9927204681992077,
          null,
          1.6809128702472709,
          0.9927204681992077,
          null,
          1.6809128702472709,
          0.8563905002967286,
          null,
          1.6809128702472709,
          2.6410888902741205,
          null,
          1.6809128702472709,
          1.9098056444565434,
          null,
          0.8563905002967286,
          1.2990189516197068,
          null,
          0.8563905002967286,
          1.6809128702472709,
          null,
          0.8563905002967286,
          -0.3667302150925045,
          null,
          2.6410888902741205,
          1.6809128702472709,
          null,
          1.9098056444565434,
          1.6809128702472709,
          null,
          -0.3667302150925045,
          -0.7292394222885591,
          null,
          -0.3667302150925045,
          0.8563905002967286,
          null,
          -0.3667302150925045,
          -1.1327712923156135,
          null,
          1.2990189516197068,
          0.5288886153464493,
          null,
          1.2990189516197068,
          2.2503000358112124,
          null,
          1.2990189516197068,
          0.8563905002967286,
          null,
          -1.1327712923156135,
          -0.6849147061871161,
          null,
          -1.1327712923156135,
          -2.079093914423993,
          null,
          -1.1327712923156135,
          -0.3667302150925045,
          null,
          -0.7292394222885591,
          -0.3667302150925045,
          null,
          -0.6849147061871161,
          0.5288886153464493,
          null,
          -0.6849147061871161,
          -1.2814507691539097,
          null,
          -0.6849147061871161,
          -1.1327712923156135,
          null,
          -2.079093914423993,
          -1.1327712923156135,
          null,
          0.5288886153464493,
          -0.6849147061871161,
          null,
          0.5288886153464493,
          1.2990189516197068,
          null,
          0.5288886153464493,
          0.8798776355132771,
          null,
          -1.2814507691539097,
          -0.6849147061871161,
          null,
          0.8798776355132771,
          0.5288886153464493,
          null,
          2.2503000358112124,
          1.2990189516197068,
          null,
          0.04806075926769762,
          0.5212091713291788,
          null,
          1.2751224768713543,
          0.5212091713291788,
          null,
          1.2751224768713543,
          1.186974302662917,
          null,
          1.186974302662917,
          1.2751224768713543,
          null,
          -2.9284351764682377,
          -2.106340999186391,
          null,
          -2.2832781906902913,
          -2.106340999186391,
          null,
          -2.2028499976854694,
          -2.106340999186391,
          null
         ]
        }
       ],
       "layout": {
        "margin": {
         "b": 0,
         "l": 0,
         "r": 0,
         "t": 0
        },
        "scene": {
         "annotations": [
          {
           "showarrow": false,
           "text": "C",
           "x": -5.1329254463129255,
           "y": -1.158164445524756,
           "yshift": 15,
           "z": -0.6306872271667208
          },
          {
           "showarrow": false,
           "text": "C",
           "x": -3.7219219752629207,
           "y": -0.5664820937523847,
           "yshift": 15,
           "z": -0.7455927893967229
          },
          {
           "showarrow": false,
           "text": "C",
           "x": -3.367872463005315,
           "y": 0.2938116292772684,
           "yshift": 15,
           "z": 0.4837059334205685
          },
          {
           "showarrow": false,
           "text": "N",
           "x": -1.9275718993104893,
           "y": 0.20633228723483457,
           "yshift": 15,
           "z": 0.7107264251858737
          },
          {
           "showarrow": false,
           "text": "C",
           "x": -1.341418622271109,
           "y": -1.1308166120236376,
           "yshift": 15,
           "z": 0.4759020211728142
          },
          {
           "showarrow": false,
           "text": "S",
           "x": -2.509064215955024,
           "y": -1.9828876483225275,
           "yshift": 15,
           "z": -0.6772712986257036
          },
          {
           "showarrow": false,
           "text": "C",
           "x": -0.1438075194874176,
           "y": -0.43495322020448607,
           "yshift": 15,
           "z": -0.2231471542276754
          },
          {
           "showarrow": false,
           "text": "C",
           "x": -1.0380660481629989,
           "y": 0.8267011658314181,
           "yshift": 15,
           "z": -0.12982059437346916
          },
          {
           "showarrow": false,
           "text": "O",
           "x": -1.049271181837621,
           "y": 1.9245677173275888,
           "yshift": 15,
           "z": -0.6375803306266515
          },
          {
           "showarrow": false,
           "text": "N",
           "x": 1.1333008236306987,
           "y": -0.3390979090628493,
           "yshift": 15,
           "z": 0.5396336850581759
          },
          {
           "showarrow": false,
           "text": "C",
           "x": 1.7922601780581682,
           "y": -1.4602181294568997,
           "yshift": 15,
           "z": 0.9927204681992077
          },
          {
           "showarrow": false,
           "text": "O",
           "x": 1.3120039486125563,
           "y": -2.5872983723095087,
           "yshift": 15,
           "z": 0.8973507814491958
          },
          {
           "showarrow": false,
           "text": "C",
           "x": 3.1201801234301394,
           "y": -1.198185555522698,
           "yshift": 15,
           "z": 1.6809128702472709
          },
          {
           "showarrow": false,
           "text": "C",
           "x": 4.077146208441728,
           "y": -0.36943960118856256,
           "yshift": 15,
           "z": 0.8563905002967286
          },
          {
           "showarrow": false,
           "text": "C",
           "x": 4.562439718619613,
           "y": -0.8588901489178419,
           "yshift": 15,
           "z": -0.3667302150925045
          },
          {
           "showarrow": false,
           "text": "C",
           "x": 5.44860582166025,
           "y": -0.09992921095762392,
           "yshift": 15,
           "z": -1.1327712923156135
          },
          {
           "showarrow": false,
           "text": "C",
           "x": 5.858005118257772,
           "y": 1.1535494185878494,
           "yshift": 15,
           "z": -0.6849147061871161
          },
          {
           "showarrow": false,
           "text": "C",
           "x": 5.38340300949122,
           "y": 1.6491598838144037,
           "yshift": 15,
           "z": 0.5288886153464493
          },
          {
           "showarrow": false,
           "text": "C",
           "x": 4.497956004608582,
           "y": 0.8911923912597622,
           "yshift": 15,
           "z": 1.2990189516197068
          },
          {
           "showarrow": false,
           "text": "C",
           "x": -3.968180965037089,
           "y": 1.7013253471492567,
           "yshift": 15,
           "z": 0.5212091713291788
          },
          {
           "showarrow": false,
           "text": "O",
           "x": -5.04314410424991,
           "y": 2.037155248930229,
           "yshift": 15,
           "z": 0.04806075926769762
          },
          {
           "showarrow": false,
           "text": "O",
           "x": -3.2680350234467377,
           "y": 2.5748712436236674,
           "yshift": 15,
           "z": 1.2751224768713543
          },
          {
           "showarrow": false,
           "text": "C",
           "x": -3.564197058160241,
           "y": 0.12313804576096839,
           "yshift": 15,
           "z": -2.106340999186391
          },
          {
           "showarrow": false,
           "text": "H",
           "x": -5.34591042878326,
           "y": -1.8592110642615698,
           "yshift": 15,
           "z": -1.4456761834043266
          },
          {
           "showarrow": false,
           "text": "H",
           "x": -5.277973101138938,
           "y": -1.6917701937539946,
           "yshift": 15,
           "z": 0.31561361705164065
          },
          {
           "showarrow": false,
           "text": "H",
           "x": -5.893445775230805,
           "y": -0.37095969817545044,
           "yshift": 15,
           "z": -0.6783033014968659
          },
          {
           "showarrow": false,
           "text": "H",
           "x": -3.7931867980622216,
           "y": -0.1876768052261728,
           "yshift": 15,
           "z": 1.3796785774705727
          },
          {
           "showarrow": false,
           "text": "H",
           "x": -1.1412507984277376,
           "y": -1.666797742748665,
           "yshift": 15,
           "z": 1.4085266994606511
          },
          {
           "showarrow": false,
           "text": "H",
           "x": 0.050702563349259,
           "y": -0.7438158907285284,
           "yshift": 15,
           "z": -1.2570119949970338
          },
          {
           "showarrow": false,
           "text": "H",
           "x": 1.6431596855891044,
           "y": 0.53926394448874,
           "yshift": 15,
           "z": 0.5315544533832831
          },
          {
           "showarrow": false,
           "text": "H",
           "x": 2.908057699325101,
           "y": -0.7116743623681732,
           "yshift": 15,
           "z": 2.6410888902741205
          },
          {
           "showarrow": false,
           "text": "H",
           "x": 3.594130260989322,
           "y": -2.1611125203556214,
           "yshift": 15,
           "z": 1.9098056444565434
          },
          {
           "showarrow": false,
           "text": "H",
           "x": 4.257244758871696,
           "y": -1.8383311026019975,
           "yshift": 15,
           "z": -0.7292394222885591
          },
          {
           "showarrow": false,
           "text": "H",
           "x": 5.822336074397318,
           "y": -0.48876232307286854,
           "yshift": 15,
           "z": -2.079093914423993
          },
          {
           "showarrow": false,
           "text": "H",
           "x": 6.55093604291224,
           "y": 1.7413043014361045,
           "yshift": 15,
           "z": -1.2814507691539097
          },
          {
           "showarrow": false,
           "text": "H",
           "x": 5.710053510547763,
           "y": 2.6253012612670057,
           "yshift": 15,
           "z": 0.8798776355132771
          },
          {
           "showarrow": false,
           "text": "H",
           "x": 4.149641252918492,
           "y": 1.2888760973925781,
           "yshift": 15,
           "z": 2.2503000358112124
          },
          {
           "showarrow": false,
           "text": "H",
           "x": -3.7438529508192997,
           "y": 3.4249127925630916,
           "yshift": 15,
           "z": 1.186974302662917
          },
          {
           "showarrow": false,
           "text": "H",
           "x": -3.8011677763926177,
           "y": -0.5638932920956066,
           "yshift": 15,
           "z": -2.9284351764682377
          },
          {
           "showarrow": false,
           "text": "H",
           "x": -2.5526157217009224,
           "y": 0.49572082658374805,
           "yshift": 15,
           "z": -2.2832781906902913
          },
          {
           "showarrow": false,
           "text": "H",
           "x": -4.2466829306571805,
           "y": 0.9731843401052335,
           "yshift": 15,
           "z": -2.2028499976854694
          }
         ],
         "xaxis": {
          "showbackground": false,
          "showgrid": false,
          "showticklabels": false,
          "title": {
           "font": {
            "color": "white"
           }
          },
          "zeroline": false
         },
         "yaxis": {
          "showbackground": false,
          "showgrid": false,
          "showticklabels": false,
          "title": {
           "font": {
            "color": "white"
           }
          },
          "zeroline": false
         },
         "zaxis": {
          "showbackground": false,
          "showgrid": false,
          "showticklabels": false,
          "title": {
           "font": {
            "color": "white"
           }
          },
          "zeroline": false
         }
        },
        "showlegend": false,
        "template": {
         "data": {
          "bar": [
           {
            "error_x": {
             "color": "#2a3f5f"
            },
            "error_y": {
             "color": "#2a3f5f"
            },
            "marker": {
             "line": {
              "color": "#E5ECF6",
              "width": 0.5
             },
             "pattern": {
              "fillmode": "overlay",
              "size": 10,
              "solidity": 0.2
             }
            },
            "type": "bar"
           }
          ],
          "barpolar": [
           {
            "marker": {
             "line": {
              "color": "#E5ECF6",
              "width": 0.5
             },
             "pattern": {
              "fillmode": "overlay",
              "size": 10,
              "solidity": 0.2
             }
            },
            "type": "barpolar"
           }
          ],
          "carpet": [
           {
            "aaxis": {
             "endlinecolor": "#2a3f5f",
             "gridcolor": "white",
             "linecolor": "white",
             "minorgridcolor": "white",
             "startlinecolor": "#2a3f5f"
            },
            "baxis": {
             "endlinecolor": "#2a3f5f",
             "gridcolor": "white",
             "linecolor": "white",
             "minorgridcolor": "white",
             "startlinecolor": "#2a3f5f"
            },
            "type": "carpet"
           }
          ],
          "choropleth": [
           {
            "colorbar": {
             "outlinewidth": 0,
             "ticks": ""
            },
            "type": "choropleth"
           }
          ],
          "contour": [
           {
            "colorbar": {
             "outlinewidth": 0,
             "ticks": ""
            },
            "colorscale": [
             [
              0,
              "#0d0887"
             ],
             [
              0.1111111111111111,
              "#46039f"
             ],
             [
              0.2222222222222222,
              "#7201a8"
             ],
             [
              0.3333333333333333,
              "#9c179e"
             ],
             [
              0.4444444444444444,
              "#bd3786"
             ],
             [
              0.5555555555555556,
              "#d8576b"
             ],
             [
              0.6666666666666666,
              "#ed7953"
             ],
             [
              0.7777777777777778,
              "#fb9f3a"
             ],
             [
              0.8888888888888888,
              "#fdca26"
             ],
             [
              1,
              "#f0f921"
             ]
            ],
            "type": "contour"
           }
          ],
          "contourcarpet": [
           {
            "colorbar": {
             "outlinewidth": 0,
             "ticks": ""
            },
            "type": "contourcarpet"
           }
          ],
          "heatmap": [
           {
            "colorbar": {
             "outlinewidth": 0,
             "ticks": ""
            },
            "colorscale": [
             [
              0,
              "#0d0887"
             ],
             [
              0.1111111111111111,
              "#46039f"
             ],
             [
              0.2222222222222222,
              "#7201a8"
             ],
             [
              0.3333333333333333,
              "#9c179e"
             ],
             [
              0.4444444444444444,
              "#bd3786"
             ],
             [
              0.5555555555555556,
              "#d8576b"
             ],
             [
              0.6666666666666666,
              "#ed7953"
             ],
             [
              0.7777777777777778,
              "#fb9f3a"
             ],
             [
              0.8888888888888888,
              "#fdca26"
             ],
             [
              1,
              "#f0f921"
             ]
            ],
            "type": "heatmap"
           }
          ],
          "heatmapgl": [
           {
            "colorbar": {
             "outlinewidth": 0,
             "ticks": ""
            },
            "colorscale": [
             [
              0,
              "#0d0887"
             ],
             [
              0.1111111111111111,
              "#46039f"
             ],
             [
              0.2222222222222222,
              "#7201a8"
             ],
             [
              0.3333333333333333,
              "#9c179e"
             ],
             [
              0.4444444444444444,
              "#bd3786"
             ],
             [
              0.5555555555555556,
              "#d8576b"
             ],
             [
              0.6666666666666666,
              "#ed7953"
             ],
             [
              0.7777777777777778,
              "#fb9f3a"
             ],
             [
              0.8888888888888888,
              "#fdca26"
             ],
             [
              1,
              "#f0f921"
             ]
            ],
            "type": "heatmapgl"
           }
          ],
          "histogram": [
           {
            "marker": {
             "pattern": {
              "fillmode": "overlay",
              "size": 10,
              "solidity": 0.2
             }
            },
            "type": "histogram"
           }
          ],
          "histogram2d": [
           {
            "colorbar": {
             "outlinewidth": 0,
             "ticks": ""
            },
            "colorscale": [
             [
              0,
              "#0d0887"
             ],
             [
              0.1111111111111111,
              "#46039f"
             ],
             [
              0.2222222222222222,
              "#7201a8"
             ],
             [
              0.3333333333333333,
              "#9c179e"
             ],
             [
              0.4444444444444444,
              "#bd3786"
             ],
             [
              0.5555555555555556,
              "#d8576b"
             ],
             [
              0.6666666666666666,
              "#ed7953"
             ],
             [
              0.7777777777777778,
              "#fb9f3a"
             ],
             [
              0.8888888888888888,
              "#fdca26"
             ],
             [
              1,
              "#f0f921"
             ]
            ],
            "type": "histogram2d"
           }
          ],
          "histogram2dcontour": [
           {
            "colorbar": {
             "outlinewidth": 0,
             "ticks": ""
            },
            "colorscale": [
             [
              0,
              "#0d0887"
             ],
             [
              0.1111111111111111,
              "#46039f"
             ],
             [
              0.2222222222222222,
              "#7201a8"
             ],
             [
              0.3333333333333333,
              "#9c179e"
             ],
             [
              0.4444444444444444,
              "#bd3786"
             ],
             [
              0.5555555555555556,
              "#d8576b"
             ],
             [
              0.6666666666666666,
              "#ed7953"
             ],
             [
              0.7777777777777778,
              "#fb9f3a"
             ],
             [
              0.8888888888888888,
              "#fdca26"
             ],
             [
              1,
              "#f0f921"
             ]
            ],
            "type": "histogram2dcontour"
           }
          ],
          "mesh3d": [
           {
            "colorbar": {
             "outlinewidth": 0,
             "ticks": ""
            },
            "type": "mesh3d"
           }
          ],
          "parcoords": [
           {
            "line": {
             "colorbar": {
              "outlinewidth": 0,
              "ticks": ""
             }
            },
            "type": "parcoords"
           }
          ],
          "pie": [
           {
            "automargin": true,
            "type": "pie"
           }
          ],
          "scatter": [
           {
            "fillpattern": {
             "fillmode": "overlay",
             "size": 10,
             "solidity": 0.2
            },
            "type": "scatter"
           }
          ],
          "scatter3d": [
           {
            "line": {
             "colorbar": {
              "outlinewidth": 0,
              "ticks": ""
             }
            },
            "marker": {
             "colorbar": {
              "outlinewidth": 0,
              "ticks": ""
             }
            },
            "type": "scatter3d"
           }
          ],
          "scattercarpet": [
           {
            "marker": {
             "colorbar": {
              "outlinewidth": 0,
              "ticks": ""
             }
            },
            "type": "scattercarpet"
           }
          ],
          "scattergeo": [
           {
            "marker": {
             "colorbar": {
              "outlinewidth": 0,
              "ticks": ""
             }
            },
            "type": "scattergeo"
           }
          ],
          "scattergl": [
           {
            "marker": {
             "colorbar": {
              "outlinewidth": 0,
              "ticks": ""
             }
            },
            "type": "scattergl"
           }
          ],
          "scattermapbox": [
           {
            "marker": {
             "colorbar": {
              "outlinewidth": 0,
              "ticks": ""
             }
            },
            "type": "scattermapbox"
           }
          ],
          "scatterpolar": [
           {
            "marker": {
             "colorbar": {
              "outlinewidth": 0,
              "ticks": ""
             }
            },
            "type": "scatterpolar"
           }
          ],
          "scatterpolargl": [
           {
            "marker": {
             "colorbar": {
              "outlinewidth": 0,
              "ticks": ""
             }
            },
            "type": "scatterpolargl"
           }
          ],
          "scatterternary": [
           {
            "marker": {
             "colorbar": {
              "outlinewidth": 0,
              "ticks": ""
             }
            },
            "type": "scatterternary"
           }
          ],
          "surface": [
           {
            "colorbar": {
             "outlinewidth": 0,
             "ticks": ""
            },
            "colorscale": [
             [
              0,
              "#0d0887"
             ],
             [
              0.1111111111111111,
              "#46039f"
             ],
             [
              0.2222222222222222,
              "#7201a8"
             ],
             [
              0.3333333333333333,
              "#9c179e"
             ],
             [
              0.4444444444444444,
              "#bd3786"
             ],
             [
              0.5555555555555556,
              "#d8576b"
             ],
             [
              0.6666666666666666,
              "#ed7953"
             ],
             [
              0.7777777777777778,
              "#fb9f3a"
             ],
             [
              0.8888888888888888,
              "#fdca26"
             ],
             [
              1,
              "#f0f921"
             ]
            ],
            "type": "surface"
           }
          ],
          "table": [
           {
            "cells": {
             "fill": {
              "color": "#EBF0F8"
             },
             "line": {
              "color": "white"
             }
            },
            "header": {
             "fill": {
              "color": "#C8D4E3"
             },
             "line": {
              "color": "white"
             }
            },
            "type": "table"
           }
          ]
         },
         "layout": {
          "annotationdefaults": {
           "arrowcolor": "#2a3f5f",
           "arrowhead": 0,
           "arrowwidth": 1
          },
          "autotypenumbers": "strict",
          "coloraxis": {
           "colorbar": {
            "outlinewidth": 0,
            "ticks": ""
           }
          },
          "colorscale": {
           "diverging": [
            [
             0,
             "#8e0152"
            ],
            [
             0.1,
             "#c51b7d"
            ],
            [
             0.2,
             "#de77ae"
            ],
            [
             0.3,
             "#f1b6da"
            ],
            [
             0.4,
             "#fde0ef"
            ],
            [
             0.5,
             "#f7f7f7"
            ],
            [
             0.6,
             "#e6f5d0"
            ],
            [
             0.7,
             "#b8e186"
            ],
            [
             0.8,
             "#7fbc41"
            ],
            [
             0.9,
             "#4d9221"
            ],
            [
             1,
             "#276419"
            ]
           ],
           "sequential": [
            [
             0,
             "#0d0887"
            ],
            [
             0.1111111111111111,
             "#46039f"
            ],
            [
             0.2222222222222222,
             "#7201a8"
            ],
            [
             0.3333333333333333,
             "#9c179e"
            ],
            [
             0.4444444444444444,
             "#bd3786"
            ],
            [
             0.5555555555555556,
             "#d8576b"
            ],
            [
             0.6666666666666666,
             "#ed7953"
            ],
            [
             0.7777777777777778,
             "#fb9f3a"
            ],
            [
             0.8888888888888888,
             "#fdca26"
            ],
            [
             1,
             "#f0f921"
            ]
           ],
           "sequentialminus": [
            [
             0,
             "#0d0887"
            ],
            [
             0.1111111111111111,
             "#46039f"
            ],
            [
             0.2222222222222222,
             "#7201a8"
            ],
            [
             0.3333333333333333,
             "#9c179e"
            ],
            [
             0.4444444444444444,
             "#bd3786"
            ],
            [
             0.5555555555555556,
             "#d8576b"
            ],
            [
             0.6666666666666666,
             "#ed7953"
            ],
            [
             0.7777777777777778,
             "#fb9f3a"
            ],
            [
             0.8888888888888888,
             "#fdca26"
            ],
            [
             1,
             "#f0f921"
            ]
           ]
          },
          "colorway": [
           "#636efa",
           "#EF553B",
           "#00cc96",
           "#ab63fa",
           "#FFA15A",
           "#19d3f3",
           "#FF6692",
           "#B6E880",
           "#FF97FF",
           "#FECB52"
          ],
          "font": {
           "color": "#2a3f5f"
          },
          "geo": {
           "bgcolor": "white",
           "lakecolor": "white",
           "landcolor": "#E5ECF6",
           "showlakes": true,
           "showland": true,
           "subunitcolor": "white"
          },
          "hoverlabel": {
           "align": "left"
          },
          "hovermode": "closest",
          "mapbox": {
           "style": "light"
          },
          "paper_bgcolor": "white",
          "plot_bgcolor": "#E5ECF6",
          "polar": {
           "angularaxis": {
            "gridcolor": "white",
            "linecolor": "white",
            "ticks": ""
           },
           "bgcolor": "#E5ECF6",
           "radialaxis": {
            "gridcolor": "white",
            "linecolor": "white",
            "ticks": ""
           }
          },
          "scene": {
           "xaxis": {
            "backgroundcolor": "#E5ECF6",
            "gridcolor": "white",
            "gridwidth": 2,
            "linecolor": "white",
            "showbackground": true,
            "ticks": "",
            "zerolinecolor": "white"
           },
           "yaxis": {
            "backgroundcolor": "#E5ECF6",
            "gridcolor": "white",
            "gridwidth": 2,
            "linecolor": "white",
            "showbackground": true,
            "ticks": "",
            "zerolinecolor": "white"
           },
           "zaxis": {
            "backgroundcolor": "#E5ECF6",
            "gridcolor": "white",
            "gridwidth": 2,
            "linecolor": "white",
            "showbackground": true,
            "ticks": "",
            "zerolinecolor": "white"
           }
          },
          "shapedefaults": {
           "line": {
            "color": "#2a3f5f"
           }
          },
          "ternary": {
           "aaxis": {
            "gridcolor": "white",
            "linecolor": "white",
            "ticks": ""
           },
           "baxis": {
            "gridcolor": "white",
            "linecolor": "white",
            "ticks": ""
           },
           "bgcolor": "#E5ECF6",
           "caxis": {
            "gridcolor": "white",
            "linecolor": "white",
            "ticks": ""
           }
          },
          "title": {
           "x": 0.05
          },
          "xaxis": {
           "automargin": true,
           "gridcolor": "white",
           "linecolor": "white",
           "ticks": "",
           "title": {
            "standoff": 15
           },
           "zerolinecolor": "white",
           "zerolinewidth": 2
          },
          "yaxis": {
           "automargin": true,
           "gridcolor": "white",
           "linecolor": "white",
           "ticks": "",
           "title": {
            "standoff": 15
           },
           "zerolinecolor": "white",
           "zerolinewidth": 2
          }
         }
        },
        "updatemenus": [
         {
          "buttons": [
           {
            "args": [
             {
              "scene.annotations": [
               {
                "showarrow": false,
                "text": "C",
                "x": -5.1329254463129255,
                "y": -1.158164445524756,
                "yshift": 15,
                "z": -0.6306872271667208
               },
               {
                "showarrow": false,
                "text": "C",
                "x": -3.7219219752629207,
                "y": -0.5664820937523847,
                "yshift": 15,
                "z": -0.7455927893967229
               },
               {
                "showarrow": false,
                "text": "C",
                "x": -3.367872463005315,
                "y": 0.2938116292772684,
                "yshift": 15,
                "z": 0.4837059334205685
               },
               {
                "showarrow": false,
                "text": "N",
                "x": -1.9275718993104893,
                "y": 0.20633228723483457,
                "yshift": 15,
                "z": 0.7107264251858737
               },
               {
                "showarrow": false,
                "text": "C",
                "x": -1.341418622271109,
                "y": -1.1308166120236376,
                "yshift": 15,
                "z": 0.4759020211728142
               },
               {
                "showarrow": false,
                "text": "S",
                "x": -2.509064215955024,
                "y": -1.9828876483225275,
                "yshift": 15,
                "z": -0.6772712986257036
               },
               {
                "showarrow": false,
                "text": "C",
                "x": -0.1438075194874176,
                "y": -0.43495322020448607,
                "yshift": 15,
                "z": -0.2231471542276754
               },
               {
                "showarrow": false,
                "text": "C",
                "x": -1.0380660481629989,
                "y": 0.8267011658314181,
                "yshift": 15,
                "z": -0.12982059437346916
               },
               {
                "showarrow": false,
                "text": "O",
                "x": -1.049271181837621,
                "y": 1.9245677173275888,
                "yshift": 15,
                "z": -0.6375803306266515
               },
               {
                "showarrow": false,
                "text": "N",
                "x": 1.1333008236306987,
                "y": -0.3390979090628493,
                "yshift": 15,
                "z": 0.5396336850581759
               },
               {
                "showarrow": false,
                "text": "C",
                "x": 1.7922601780581682,
                "y": -1.4602181294568997,
                "yshift": 15,
                "z": 0.9927204681992077
               },
               {
                "showarrow": false,
                "text": "O",
                "x": 1.3120039486125563,
                "y": -2.5872983723095087,
                "yshift": 15,
                "z": 0.8973507814491958
               },
               {
                "showarrow": false,
                "text": "C",
                "x": 3.1201801234301394,
                "y": -1.198185555522698,
                "yshift": 15,
                "z": 1.6809128702472709
               },
               {
                "showarrow": false,
                "text": "C",
                "x": 4.077146208441728,
                "y": -0.36943960118856256,
                "yshift": 15,
                "z": 0.8563905002967286
               },
               {
                "showarrow": false,
                "text": "C",
                "x": 4.562439718619613,
                "y": -0.8588901489178419,
                "yshift": 15,
                "z": -0.3667302150925045
               },
               {
                "showarrow": false,
                "text": "C",
                "x": 5.44860582166025,
                "y": -0.09992921095762392,
                "yshift": 15,
                "z": -1.1327712923156135
               },
               {
                "showarrow": false,
                "text": "C",
                "x": 5.858005118257772,
                "y": 1.1535494185878494,
                "yshift": 15,
                "z": -0.6849147061871161
               },
               {
                "showarrow": false,
                "text": "C",
                "x": 5.38340300949122,
                "y": 1.6491598838144037,
                "yshift": 15,
                "z": 0.5288886153464493
               },
               {
                "showarrow": false,
                "text": "C",
                "x": 4.497956004608582,
                "y": 0.8911923912597622,
                "yshift": 15,
                "z": 1.2990189516197068
               },
               {
                "showarrow": false,
                "text": "C",
                "x": -3.968180965037089,
                "y": 1.7013253471492567,
                "yshift": 15,
                "z": 0.5212091713291788
               },
               {
                "showarrow": false,
                "text": "O",
                "x": -5.04314410424991,
                "y": 2.037155248930229,
                "yshift": 15,
                "z": 0.04806075926769762
               },
               {
                "showarrow": false,
                "text": "O",
                "x": -3.2680350234467377,
                "y": 2.5748712436236674,
                "yshift": 15,
                "z": 1.2751224768713543
               },
               {
                "showarrow": false,
                "text": "C",
                "x": -3.564197058160241,
                "y": 0.12313804576096839,
                "yshift": 15,
                "z": -2.106340999186391
               },
               {
                "showarrow": false,
                "text": "H",
                "x": -5.34591042878326,
                "y": -1.8592110642615698,
                "yshift": 15,
                "z": -1.4456761834043266
               },
               {
                "showarrow": false,
                "text": "H",
                "x": -5.277973101138938,
                "y": -1.6917701937539946,
                "yshift": 15,
                "z": 0.31561361705164065
               },
               {
                "showarrow": false,
                "text": "H",
                "x": -5.893445775230805,
                "y": -0.37095969817545044,
                "yshift": 15,
                "z": -0.6783033014968659
               },
               {
                "showarrow": false,
                "text": "H",
                "x": -3.7931867980622216,
                "y": -0.1876768052261728,
                "yshift": 15,
                "z": 1.3796785774705727
               },
               {
                "showarrow": false,
                "text": "H",
                "x": -1.1412507984277376,
                "y": -1.666797742748665,
                "yshift": 15,
                "z": 1.4085266994606511
               },
               {
                "showarrow": false,
                "text": "H",
                "x": 0.050702563349259,
                "y": -0.7438158907285284,
                "yshift": 15,
                "z": -1.2570119949970338
               },
               {
                "showarrow": false,
                "text": "H",
                "x": 1.6431596855891044,
                "y": 0.53926394448874,
                "yshift": 15,
                "z": 0.5315544533832831
               },
               {
                "showarrow": false,
                "text": "H",
                "x": 2.908057699325101,
                "y": -0.7116743623681732,
                "yshift": 15,
                "z": 2.6410888902741205
               },
               {
                "showarrow": false,
                "text": "H",
                "x": 3.594130260989322,
                "y": -2.1611125203556214,
                "yshift": 15,
                "z": 1.9098056444565434
               },
               {
                "showarrow": false,
                "text": "H",
                "x": 4.257244758871696,
                "y": -1.8383311026019975,
                "yshift": 15,
                "z": -0.7292394222885591
               },
               {
                "showarrow": false,
                "text": "H",
                "x": 5.822336074397318,
                "y": -0.48876232307286854,
                "yshift": 15,
                "z": -2.079093914423993
               },
               {
                "showarrow": false,
                "text": "H",
                "x": 6.55093604291224,
                "y": 1.7413043014361045,
                "yshift": 15,
                "z": -1.2814507691539097
               },
               {
                "showarrow": false,
                "text": "H",
                "x": 5.710053510547763,
                "y": 2.6253012612670057,
                "yshift": 15,
                "z": 0.8798776355132771
               },
               {
                "showarrow": false,
                "text": "H",
                "x": 4.149641252918492,
                "y": 1.2888760973925781,
                "yshift": 15,
                "z": 2.2503000358112124
               },
               {
                "showarrow": false,
                "text": "H",
                "x": -3.7438529508192997,
                "y": 3.4249127925630916,
                "yshift": 15,
                "z": 1.186974302662917
               },
               {
                "showarrow": false,
                "text": "H",
                "x": -3.8011677763926177,
                "y": -0.5638932920956066,
                "yshift": 15,
                "z": -2.9284351764682377
               },
               {
                "showarrow": false,
                "text": "H",
                "x": -2.5526157217009224,
                "y": 0.49572082658374805,
                "yshift": 15,
                "z": -2.2832781906902913
               },
               {
                "showarrow": false,
                "text": "H",
                "x": -4.2466829306571805,
                "y": 0.9731843401052335,
                "yshift": 15,
                "z": -2.2028499976854694
               }
              ]
             }
            ],
            "label": " Elements",
            "method": "relayout"
           },
           {
            "args": [
             {
              "scene.annotations": [
               {
                "showarrow": false,
                "text": "C",
                "x": -5.1329254463129255,
                "y": -1.158164445524756,
                "yshift": 15,
                "z": -0.6306872271667208
               },
               {
                "showarrow": false,
                "text": "C",
                "x": -3.7219219752629207,
                "y": -0.5664820937523847,
                "yshift": 15,
                "z": -0.7455927893967229
               },
               {
                "showarrow": false,
                "text": "C",
                "x": -3.367872463005315,
                "y": 0.2938116292772684,
                "yshift": 15,
                "z": 0.4837059334205685
               },
               {
                "showarrow": false,
                "text": "N",
                "x": -1.9275718993104893,
                "y": 0.20633228723483457,
                "yshift": 15,
                "z": 0.7107264251858737
               },
               {
                "showarrow": false,
                "text": "C",
                "x": -1.341418622271109,
                "y": -1.1308166120236376,
                "yshift": 15,
                "z": 0.4759020211728142
               },
               {
                "showarrow": false,
                "text": "S",
                "x": -2.509064215955024,
                "y": -1.9828876483225275,
                "yshift": 15,
                "z": -0.6772712986257036
               },
               {
                "showarrow": false,
                "text": "C",
                "x": -0.1438075194874176,
                "y": -0.43495322020448607,
                "yshift": 15,
                "z": -0.2231471542276754
               },
               {
                "showarrow": false,
                "text": "C",
                "x": -1.0380660481629989,
                "y": 0.8267011658314181,
                "yshift": 15,
                "z": -0.12982059437346916
               },
               {
                "showarrow": false,
                "text": "O",
                "x": -1.049271181837621,
                "y": 1.9245677173275888,
                "yshift": 15,
                "z": -0.6375803306266515
               },
               {
                "showarrow": false,
                "text": "N",
                "x": 1.1333008236306987,
                "y": -0.3390979090628493,
                "yshift": 15,
                "z": 0.5396336850581759
               },
               {
                "showarrow": false,
                "text": "C",
                "x": 1.7922601780581682,
                "y": -1.4602181294568997,
                "yshift": 15,
                "z": 0.9927204681992077
               },
               {
                "showarrow": false,
                "text": "O",
                "x": 1.3120039486125563,
                "y": -2.5872983723095087,
                "yshift": 15,
                "z": 0.8973507814491958
               },
               {
                "showarrow": false,
                "text": "C",
                "x": 3.1201801234301394,
                "y": -1.198185555522698,
                "yshift": 15,
                "z": 1.6809128702472709
               },
               {
                "showarrow": false,
                "text": "C",
                "x": 4.077146208441728,
                "y": -0.36943960118856256,
                "yshift": 15,
                "z": 0.8563905002967286
               },
               {
                "showarrow": false,
                "text": "C",
                "x": 4.562439718619613,
                "y": -0.8588901489178419,
                "yshift": 15,
                "z": -0.3667302150925045
               },
               {
                "showarrow": false,
                "text": "C",
                "x": 5.44860582166025,
                "y": -0.09992921095762392,
                "yshift": 15,
                "z": -1.1327712923156135
               },
               {
                "showarrow": false,
                "text": "C",
                "x": 5.858005118257772,
                "y": 1.1535494185878494,
                "yshift": 15,
                "z": -0.6849147061871161
               },
               {
                "showarrow": false,
                "text": "C",
                "x": 5.38340300949122,
                "y": 1.6491598838144037,
                "yshift": 15,
                "z": 0.5288886153464493
               },
               {
                "showarrow": false,
                "text": "C",
                "x": 4.497956004608582,
                "y": 0.8911923912597622,
                "yshift": 15,
                "z": 1.2990189516197068
               },
               {
                "showarrow": false,
                "text": "C",
                "x": -3.968180965037089,
                "y": 1.7013253471492567,
                "yshift": 15,
                "z": 0.5212091713291788
               },
               {
                "showarrow": false,
                "text": "O",
                "x": -5.04314410424991,
                "y": 2.037155248930229,
                "yshift": 15,
                "z": 0.04806075926769762
               },
               {
                "showarrow": false,
                "text": "O",
                "x": -3.2680350234467377,
                "y": 2.5748712436236674,
                "yshift": 15,
                "z": 1.2751224768713543
               },
               {
                "showarrow": false,
                "text": "C",
                "x": -3.564197058160241,
                "y": 0.12313804576096839,
                "yshift": 15,
                "z": -2.106340999186391
               },
               {
                "showarrow": false,
                "text": "H",
                "x": -5.34591042878326,
                "y": -1.8592110642615698,
                "yshift": 15,
                "z": -1.4456761834043266
               },
               {
                "showarrow": false,
                "text": "H",
                "x": -5.277973101138938,
                "y": -1.6917701937539946,
                "yshift": 15,
                "z": 0.31561361705164065
               },
               {
                "showarrow": false,
                "text": "H",
                "x": -5.893445775230805,
                "y": -0.37095969817545044,
                "yshift": 15,
                "z": -0.6783033014968659
               },
               {
                "showarrow": false,
                "text": "H",
                "x": -3.7931867980622216,
                "y": -0.1876768052261728,
                "yshift": 15,
                "z": 1.3796785774705727
               },
               {
                "showarrow": false,
                "text": "H",
                "x": -1.1412507984277376,
                "y": -1.666797742748665,
                "yshift": 15,
                "z": 1.4085266994606511
               },
               {
                "showarrow": false,
                "text": "H",
                "x": 0.050702563349259,
                "y": -0.7438158907285284,
                "yshift": 15,
                "z": -1.2570119949970338
               },
               {
                "showarrow": false,
                "text": "H",
                "x": 1.6431596855891044,
                "y": 0.53926394448874,
                "yshift": 15,
                "z": 0.5315544533832831
               },
               {
                "showarrow": false,
                "text": "H",
                "x": 2.908057699325101,
                "y": -0.7116743623681732,
                "yshift": 15,
                "z": 2.6410888902741205
               },
               {
                "showarrow": false,
                "text": "H",
                "x": 3.594130260989322,
                "y": -2.1611125203556214,
                "yshift": 15,
                "z": 1.9098056444565434
               },
               {
                "showarrow": false,
                "text": "H",
                "x": 4.257244758871696,
                "y": -1.8383311026019975,
                "yshift": 15,
                "z": -0.7292394222885591
               },
               {
                "showarrow": false,
                "text": "H",
                "x": 5.822336074397318,
                "y": -0.48876232307286854,
                "yshift": 15,
                "z": -2.079093914423993
               },
               {
                "showarrow": false,
                "text": "H",
                "x": 6.55093604291224,
                "y": 1.7413043014361045,
                "yshift": 15,
                "z": -1.2814507691539097
               },
               {
                "showarrow": false,
                "text": "H",
                "x": 5.710053510547763,
                "y": 2.6253012612670057,
                "yshift": 15,
                "z": 0.8798776355132771
               },
               {
                "showarrow": false,
                "text": "H",
                "x": 4.149641252918492,
                "y": 1.2888760973925781,
                "yshift": 15,
                "z": 2.2503000358112124
               },
               {
                "showarrow": false,
                "text": "H",
                "x": -3.7438529508192997,
                "y": 3.4249127925630916,
                "yshift": 15,
                "z": 1.186974302662917
               },
               {
                "showarrow": false,
                "text": "H",
                "x": -3.8011677763926177,
                "y": -0.5638932920956066,
                "yshift": 15,
                "z": -2.9284351764682377
               },
               {
                "showarrow": false,
                "text": "H",
                "x": -2.5526157217009224,
                "y": 0.49572082658374805,
                "yshift": 15,
                "z": -2.2832781906902913
               },
               {
                "showarrow": false,
                "text": "H",
                "x": -4.2466829306571805,
                "y": 0.9731843401052335,
                "yshift": 15,
                "z": -2.2028499976854694
               },
               {
                "font": {
                 "color": "steelblue"
                },
                "showarrow": false,
                "text": 1.77,
                "x": -4.427423710787923,
                "y": -0.8623232696385703,
                "yshift": 15,
                "z": -0.6881400082817218
               },
               {
                "font": {
                 "color": "steelblue"
                },
                "showarrow": false,
                "text": 1.18,
                "x": -5.239417937548093,
                "y": -1.5086877548931628,
                "yshift": 15,
                "z": -1.0381817052855236
               },
               {
                "font": {
                 "color": "steelblue"
                },
                "showarrow": false,
                "text": 1.18,
                "x": -5.205449273725932,
                "y": -1.4249673196393753,
                "yshift": 15,
                "z": -0.15753680505754006
               },
               {
                "font": {
                 "color": "steelblue"
                },
                "showarrow": false,
                "text": 1.18,
                "x": -5.513185610771865,
                "y": -0.7645620718501032,
                "yshift": 15,
                "z": -0.6544952643317934
               },
               {
                "font": {
                 "color": "steelblue"
                },
                "showarrow": false,
                "text": 1.77,
                "x": -3.5448972191341177,
                "y": -0.13633523223755814,
                "yshift": 15,
                "z": -0.1309434279880772
               },
               {
                "font": {
                 "color": "steelblue"
                },
                "showarrow": false,
                "text": 2.21,
                "x": -3.115493095608972,
                "y": -1.274684871037456,
                "yshift": 15,
                "z": -0.7114320440112132
               },
               {
                "font": {
                 "color": "steelblue"
                },
                "showarrow": false,
                "text": 1.77,
                "x": -3.643059516711581,
                "y": -0.22167202399570815,
                "yshift": 15,
                "z": -1.4259668942915569
               },
               {
                "font": {
                 "color": "steelblue"
                },
                "showarrow": false,
                "text": 1.77,
                "x": -2.6477221811579024,
                "y": 0.2500719582560515,
                "yshift": 15,
                "z": 0.5972161793032211
               },
               {
                "font": {
                 "color": "steelblue"
                },
                "showarrow": false,
                "text": 1.77,
                "x": -3.6680267140212024,
                "y": 0.9975684882132625,
                "yshift": 15,
                "z": 0.5024575523748737
               },
               {
                "font": {
                 "color": "steelblue"
                },
                "showarrow": false,
                "text": 1.18,
                "x": -3.5805296305337686,
                "y": 0.053067412025547794,
                "yshift": 15,
                "z": 0.9316922554455705
               },
               {
                "font": {
                 "color": "steelblue"
                },
                "showarrow": false,
                "text": 1.77,
                "x": -1.6344952607907992,
                "y": -0.4622421623944015,
                "yshift": 15,
                "z": 0.593314223179344
               },
               {
                "font": {
                 "color": "steelblue"
                },
                "showarrow": false,
                "text": 1.77,
                "x": -1.482818973736744,
                "y": 0.5165167265331263,
                "yshift": 15,
                "z": 0.29045291540620227
               },
               {
                "font": {
                 "color": "steelblue"
                },
                "showarrow": false,
                "text": 2.21,
                "x": -1.9252414191130667,
                "y": -1.5568521301730827,
                "yshift": 15,
                "z": -0.10068463872644468
               },
               {
                "font": {
                 "color": "steelblue"
                },
                "showarrow": false,
                "text": 1.77,
                "x": -0.7426130708792633,
                "y": -0.7828849161140619,
                "yshift": 15,
                "z": 0.1263774334725694
               },
               {
                "font": {
                 "color": "steelblue"
                },
                "showarrow": false,
                "text": 1.18,
                "x": -1.2413347103494234,
                "y": -1.3988071773861512,
                "yshift": 15,
                "z": 0.9422143603167327
               },
               {
                "font": {
                 "color": "steelblue"
                },
                "showarrow": false,
                "text": 1.77,
                "x": -0.5909367838252082,
                "y": 0.195873972813466,
                "yshift": 15,
                "z": -0.17648387430057227
               },
               {
                "font": {
                 "color": "steelblue"
                },
                "showarrow": false,
                "text": 1.77,
                "x": 0.4947466520716406,
                "y": -0.38702556463366766,
                "yshift": 15,
                "z": 0.15824326541525024
               },
               {
                "font": {
                 "color": "steelblue"
                },
                "showarrow": false,
                "text": 1.18,
                "x": -0.0465524780690793,
                "y": -0.5893845554665073,
                "yshift": 15,
                "z": -0.7400795746123545
               },
               {
                "font": {
                 "color": "steelblue"
                },
                "showarrow": false,
                "text": 1.77,
                "x": -1.04366861500031,
                "y": 1.3756344415795034,
                "yshift": 15,
                "z": -0.38370046250006035
               },
               {
                "font": {
                 "color": "steelblue"
                },
                "showarrow": false,
                "text": 1.77,
                "x": 1.4627805008444335,
                "y": -0.8996580192598744,
                "yshift": 15,
                "z": 0.7661770766286917
               },
               {
                "font": {
                 "color": "steelblue"
                },
                "showarrow": false,
                "text": 1.18,
                "x": 1.3882302546099017,
                "y": 0.10008301771294537,
                "yshift": 15,
                "z": 0.5355940692207295
               },
               {
                "font": {
                 "color": "steelblue"
                },
                "showarrow": false,
                "text": 1.77,
                "x": 1.5521320633353621,
                "y": -2.023758250883204,
                "yshift": 15,
                "z": 0.9450356248242018
               },
               {
                "font": {
                 "color": "steelblue"
                },
                "showarrow": false,
                "text": 1.77,
                "x": 2.4562201507441537,
                "y": -1.3292018424897987,
                "yshift": 15,
                "z": 1.3368166692232393
               },
               {
                "font": {
                 "color": "steelblue"
                },
                "showarrow": false,
                "text": 1.77,
                "x": 3.5986631659359336,
                "y": -0.7838125783556302,
                "yshift": 15,
                "z": 1.2686516852719998
               },
               {
                "font": {
                 "color": "steelblue"
                },
                "showarrow": false,
                "text": 1.18,
                "x": 3.0141189113776203,
                "y": -0.9549299589454355,
                "yshift": 15,
                "z": 2.161000880260696
               },
               {
                "font": {
                 "color": "steelblue"
                },
                "showarrow": false,
                "text": 1.18,
                "x": 3.3571551922097305,
                "y": -1.6796490379391598,
                "yshift": 15,
                "z": 1.7953592573519073
               },
               {
                "font": {
                 "color": "steelblue"
                },
                "showarrow": false,
                "text": 1.77,
                "x": 4.31979296353067,
                "y": -0.6141648750532023,
                "yshift": 15,
                "z": 0.24483014260211206
               },
               {
                "font": {
                 "color": "steelblue"
                },
                "showarrow": false,
                "text": 1.77,
                "x": 4.2875511065251555,
                "y": 0.26087639503559984,
                "yshift": 15,
                "z": 1.0777047259582178
               },
               {
                "font": {
                 "color": "steelblue"
                },
                "showarrow": false,
                "text": 1.77,
                "x": 5.005522770139931,
                "y": -0.47940967993773287,
                "yshift": 15,
                "z": -0.749750753704059
               },
               {
                "font": {
                 "color": "steelblue"
                },
                "showarrow": false,
                "text": 1.18,
                "x": 4.409842238745655,
                "y": -1.3486106257599197,
                "yshift": 15,
                "z": -0.5479848186905318
               },
               {
                "font": {
                 "color": "steelblue"
                },
                "showarrow": false,
                "text": 1.77,
                "x": 5.653305469959011,
                "y": 0.5268101038151127,
                "yshift": 15,
                "z": -0.9088429992513648
               },
               {
                "font": {
                 "color": "steelblue"
                },
                "showarrow": false,
                "text": 1.18,
                "x": 5.635470948028784,
                "y": -0.29434576701524623,
                "yshift": 15,
                "z": -1.6059326033698031
               },
               {
                "font": {
                 "color": "steelblue"
                },
                "showarrow": false,
                "text": 1.77,
                "x": 5.620704063874496,
                "y": 1.4013546512011266,
                "yshift": 15,
                "z": -0.07801304542033344
               },
               {
                "font": {
                 "color": "steelblue"
                },
                "showarrow": false,
                "text": 1.18,
                "x": 6.2044705805850064,
                "y": 1.4474268600119768,
                "yshift": 15,
                "z": -0.9831827376705129
               },
               {
                "font": {
                 "color": "steelblue"
                },
                "showarrow": false,
                "text": 1.77,
                "x": 4.940679507049901,
                "y": 1.270176137537083,
                "yshift": 15,
                "z": 0.913953783483078
               },
               {
                "font": {
                 "color": "steelblue"
                },
                "showarrow": false,
                "text": 1.18,
                "x": 5.546728260019491,
                "y": 2.137230572540705,
                "yshift": 15,
                "z": 0.7043831254298631
               },
               {
                "font": {
                 "color": "steelblue"
                },
                "showarrow": false,
                "text": 1.18,
                "x": 4.323798628763537,
                "y": 1.0900342443261701,
                "yshift": 15,
                "z": 1.7746594937154596
               },
               {
                "font": {
                 "color": "steelblue"
                },
                "showarrow": false,
                "text": 1.77,
                "x": -4.505662534643499,
                "y": 1.869240298039743,
                "yshift": 15,
                "z": 0.2846349652984382
               },
               {
                "font": {
                 "color": "steelblue"
                },
                "showarrow": false,
                "text": 1.77,
                "x": -3.6181079942419134,
                "y": 2.1380982953864622,
                "yshift": 15,
                "z": 0.8981658241002666
               },
               {
                "font": {
                 "color": "steelblue"
                },
                "showarrow": false,
                "text": 1.18,
                "x": -3.5059439871330187,
                "y": 2.9998920180933792,
                "yshift": 15,
                "z": 1.2310483897671356
               },
               {
                "font": {
                 "color": "steelblue"
                },
                "showarrow": false,
                "text": 1.18,
                "x": -3.682682417276429,
                "y": -0.2203776231673191,
                "yshift": 15,
                "z": -2.5173880878273143
               },
               {
                "font": {
                 "color": "steelblue"
                },
                "showarrow": false,
                "text": 1.18,
                "x": -3.058406389930582,
                "y": 0.30942943617235824,
                "yshift": 15,
                "z": -2.194809594938341
               },
               {
                "font": {
                 "color": "steelblue"
                },
                "showarrow": false,
                "text": 1.18,
                "x": -3.905439994408711,
                "y": 0.548161192933101,
                "yshift": 15,
                "z": -2.1545954984359303
               }
              ]
             }
            ],
            "label": " Elements & Bond Lengths",
            "method": "relayout"
           },
           {
            "args": [
             {
              "scene.annotations": [
               {
                "showarrow": false,
                "text": 0,
                "x": -5.1329254463129255,
                "y": -1.158164445524756,
                "yshift": 15,
                "z": -0.6306872271667208
               },
               {
                "showarrow": false,
                "text": 1,
                "x": -3.7219219752629207,
                "y": -0.5664820937523847,
                "yshift": 15,
                "z": -0.7455927893967229
               },
               {
                "showarrow": false,
                "text": 2,
                "x": -3.367872463005315,
                "y": 0.2938116292772684,
                "yshift": 15,
                "z": 0.4837059334205685
               },
               {
                "showarrow": false,
                "text": 3,
                "x": -1.9275718993104893,
                "y": 0.20633228723483457,
                "yshift": 15,
                "z": 0.7107264251858737
               },
               {
                "showarrow": false,
                "text": 4,
                "x": -1.341418622271109,
                "y": -1.1308166120236376,
                "yshift": 15,
                "z": 0.4759020211728142
               },
               {
                "showarrow": false,
                "text": 5,
                "x": -2.509064215955024,
                "y": -1.9828876483225275,
                "yshift": 15,
                "z": -0.6772712986257036
               },
               {
                "showarrow": false,
                "text": 6,
                "x": -0.1438075194874176,
                "y": -0.43495322020448607,
                "yshift": 15,
                "z": -0.2231471542276754
               },
               {
                "showarrow": false,
                "text": 7,
                "x": -1.0380660481629989,
                "y": 0.8267011658314181,
                "yshift": 15,
                "z": -0.12982059437346916
               },
               {
                "showarrow": false,
                "text": 8,
                "x": -1.049271181837621,
                "y": 1.9245677173275888,
                "yshift": 15,
                "z": -0.6375803306266515
               },
               {
                "showarrow": false,
                "text": 9,
                "x": 1.1333008236306987,
                "y": -0.3390979090628493,
                "yshift": 15,
                "z": 0.5396336850581759
               },
               {
                "showarrow": false,
                "text": 10,
                "x": 1.7922601780581682,
                "y": -1.4602181294568997,
                "yshift": 15,
                "z": 0.9927204681992077
               },
               {
                "showarrow": false,
                "text": 11,
                "x": 1.3120039486125563,
                "y": -2.5872983723095087,
                "yshift": 15,
                "z": 0.8973507814491958
               },
               {
                "showarrow": false,
                "text": 12,
                "x": 3.1201801234301394,
                "y": -1.198185555522698,
                "yshift": 15,
                "z": 1.6809128702472709
               },
               {
                "showarrow": false,
                "text": 13,
                "x": 4.077146208441728,
                "y": -0.36943960118856256,
                "yshift": 15,
                "z": 0.8563905002967286
               },
               {
                "showarrow": false,
                "text": 14,
                "x": 4.562439718619613,
                "y": -0.8588901489178419,
                "yshift": 15,
                "z": -0.3667302150925045
               },
               {
                "showarrow": false,
                "text": 15,
                "x": 5.44860582166025,
                "y": -0.09992921095762392,
                "yshift": 15,
                "z": -1.1327712923156135
               },
               {
                "showarrow": false,
                "text": 16,
                "x": 5.858005118257772,
                "y": 1.1535494185878494,
                "yshift": 15,
                "z": -0.6849147061871161
               },
               {
                "showarrow": false,
                "text": 17,
                "x": 5.38340300949122,
                "y": 1.6491598838144037,
                "yshift": 15,
                "z": 0.5288886153464493
               },
               {
                "showarrow": false,
                "text": 18,
                "x": 4.497956004608582,
                "y": 0.8911923912597622,
                "yshift": 15,
                "z": 1.2990189516197068
               },
               {
                "showarrow": false,
                "text": 19,
                "x": -3.968180965037089,
                "y": 1.7013253471492567,
                "yshift": 15,
                "z": 0.5212091713291788
               },
               {
                "showarrow": false,
                "text": 20,
                "x": -5.04314410424991,
                "y": 2.037155248930229,
                "yshift": 15,
                "z": 0.04806075926769762
               },
               {
                "showarrow": false,
                "text": 21,
                "x": -3.2680350234467377,
                "y": 2.5748712436236674,
                "yshift": 15,
                "z": 1.2751224768713543
               },
               {
                "showarrow": false,
                "text": 22,
                "x": -3.564197058160241,
                "y": 0.12313804576096839,
                "yshift": 15,
                "z": -2.106340999186391
               },
               {
                "showarrow": false,
                "text": 23,
                "x": -5.34591042878326,
                "y": -1.8592110642615698,
                "yshift": 15,
                "z": -1.4456761834043266
               },
               {
                "showarrow": false,
                "text": 24,
                "x": -5.277973101138938,
                "y": -1.6917701937539946,
                "yshift": 15,
                "z": 0.31561361705164065
               },
               {
                "showarrow": false,
                "text": 25,
                "x": -5.893445775230805,
                "y": -0.37095969817545044,
                "yshift": 15,
                "z": -0.6783033014968659
               },
               {
                "showarrow": false,
                "text": 26,
                "x": -3.7931867980622216,
                "y": -0.1876768052261728,
                "yshift": 15,
                "z": 1.3796785774705727
               },
               {
                "showarrow": false,
                "text": 27,
                "x": -1.1412507984277376,
                "y": -1.666797742748665,
                "yshift": 15,
                "z": 1.4085266994606511
               },
               {
                "showarrow": false,
                "text": 28,
                "x": 0.050702563349259,
                "y": -0.7438158907285284,
                "yshift": 15,
                "z": -1.2570119949970338
               },
               {
                "showarrow": false,
                "text": 29,
                "x": 1.6431596855891044,
                "y": 0.53926394448874,
                "yshift": 15,
                "z": 0.5315544533832831
               },
               {
                "showarrow": false,
                "text": 30,
                "x": 2.908057699325101,
                "y": -0.7116743623681732,
                "yshift": 15,
                "z": 2.6410888902741205
               },
               {
                "showarrow": false,
                "text": 31,
                "x": 3.594130260989322,
                "y": -2.1611125203556214,
                "yshift": 15,
                "z": 1.9098056444565434
               },
               {
                "showarrow": false,
                "text": 32,
                "x": 4.257244758871696,
                "y": -1.8383311026019975,
                "yshift": 15,
                "z": -0.7292394222885591
               },
               {
                "showarrow": false,
                "text": 33,
                "x": 5.822336074397318,
                "y": -0.48876232307286854,
                "yshift": 15,
                "z": -2.079093914423993
               },
               {
                "showarrow": false,
                "text": 34,
                "x": 6.55093604291224,
                "y": 1.7413043014361045,
                "yshift": 15,
                "z": -1.2814507691539097
               },
               {
                "showarrow": false,
                "text": 35,
                "x": 5.710053510547763,
                "y": 2.6253012612670057,
                "yshift": 15,
                "z": 0.8798776355132771
               },
               {
                "showarrow": false,
                "text": 36,
                "x": 4.149641252918492,
                "y": 1.2888760973925781,
                "yshift": 15,
                "z": 2.2503000358112124
               },
               {
                "showarrow": false,
                "text": 37,
                "x": -3.7438529508192997,
                "y": 3.4249127925630916,
                "yshift": 15,
                "z": 1.186974302662917
               },
               {
                "showarrow": false,
                "text": 38,
                "x": -3.8011677763926177,
                "y": -0.5638932920956066,
                "yshift": 15,
                "z": -2.9284351764682377
               },
               {
                "showarrow": false,
                "text": 39,
                "x": -2.5526157217009224,
                "y": 0.49572082658374805,
                "yshift": 15,
                "z": -2.2832781906902913
               },
               {
                "showarrow": false,
                "text": 40,
                "x": -4.2466829306571805,
                "y": 0.9731843401052335,
                "yshift": 15,
                "z": -2.2028499976854694
               }
              ]
             }
            ],
            "label": "Indices",
            "method": "relayout"
           },
           {
            "args": [
             {
              "scene.annotations": [
               {
                "showarrow": false,
                "text": 0,
                "x": -5.1329254463129255,
                "y": -1.158164445524756,
                "yshift": 15,
                "z": -0.6306872271667208
               },
               {
                "showarrow": false,
                "text": 1,
                "x": -3.7219219752629207,
                "y": -0.5664820937523847,
                "yshift": 15,
                "z": -0.7455927893967229
               },
               {
                "showarrow": false,
                "text": 2,
                "x": -3.367872463005315,
                "y": 0.2938116292772684,
                "yshift": 15,
                "z": 0.4837059334205685
               },
               {
                "showarrow": false,
                "text": 3,
                "x": -1.9275718993104893,
                "y": 0.20633228723483457,
                "yshift": 15,
                "z": 0.7107264251858737
               },
               {
                "showarrow": false,
                "text": 4,
                "x": -1.341418622271109,
                "y": -1.1308166120236376,
                "yshift": 15,
                "z": 0.4759020211728142
               },
               {
                "showarrow": false,
                "text": 5,
                "x": -2.509064215955024,
                "y": -1.9828876483225275,
                "yshift": 15,
                "z": -0.6772712986257036
               },
               {
                "showarrow": false,
                "text": 6,
                "x": -0.1438075194874176,
                "y": -0.43495322020448607,
                "yshift": 15,
                "z": -0.2231471542276754
               },
               {
                "showarrow": false,
                "text": 7,
                "x": -1.0380660481629989,
                "y": 0.8267011658314181,
                "yshift": 15,
                "z": -0.12982059437346916
               },
               {
                "showarrow": false,
                "text": 8,
                "x": -1.049271181837621,
                "y": 1.9245677173275888,
                "yshift": 15,
                "z": -0.6375803306266515
               },
               {
                "showarrow": false,
                "text": 9,
                "x": 1.1333008236306987,
                "y": -0.3390979090628493,
                "yshift": 15,
                "z": 0.5396336850581759
               },
               {
                "showarrow": false,
                "text": 10,
                "x": 1.7922601780581682,
                "y": -1.4602181294568997,
                "yshift": 15,
                "z": 0.9927204681992077
               },
               {
                "showarrow": false,
                "text": 11,
                "x": 1.3120039486125563,
                "y": -2.5872983723095087,
                "yshift": 15,
                "z": 0.8973507814491958
               },
               {
                "showarrow": false,
                "text": 12,
                "x": 3.1201801234301394,
                "y": -1.198185555522698,
                "yshift": 15,
                "z": 1.6809128702472709
               },
               {
                "showarrow": false,
                "text": 13,
                "x": 4.077146208441728,
                "y": -0.36943960118856256,
                "yshift": 15,
                "z": 0.8563905002967286
               },
               {
                "showarrow": false,
                "text": 14,
                "x": 4.562439718619613,
                "y": -0.8588901489178419,
                "yshift": 15,
                "z": -0.3667302150925045
               },
               {
                "showarrow": false,
                "text": 15,
                "x": 5.44860582166025,
                "y": -0.09992921095762392,
                "yshift": 15,
                "z": -1.1327712923156135
               },
               {
                "showarrow": false,
                "text": 16,
                "x": 5.858005118257772,
                "y": 1.1535494185878494,
                "yshift": 15,
                "z": -0.6849147061871161
               },
               {
                "showarrow": false,
                "text": 17,
                "x": 5.38340300949122,
                "y": 1.6491598838144037,
                "yshift": 15,
                "z": 0.5288886153464493
               },
               {
                "showarrow": false,
                "text": 18,
                "x": 4.497956004608582,
                "y": 0.8911923912597622,
                "yshift": 15,
                "z": 1.2990189516197068
               },
               {
                "showarrow": false,
                "text": 19,
                "x": -3.968180965037089,
                "y": 1.7013253471492567,
                "yshift": 15,
                "z": 0.5212091713291788
               },
               {
                "showarrow": false,
                "text": 20,
                "x": -5.04314410424991,
                "y": 2.037155248930229,
                "yshift": 15,
                "z": 0.04806075926769762
               },
               {
                "showarrow": false,
                "text": 21,
                "x": -3.2680350234467377,
                "y": 2.5748712436236674,
                "yshift": 15,
                "z": 1.2751224768713543
               },
               {
                "showarrow": false,
                "text": 22,
                "x": -3.564197058160241,
                "y": 0.12313804576096839,
                "yshift": 15,
                "z": -2.106340999186391
               },
               {
                "showarrow": false,
                "text": 23,
                "x": -5.34591042878326,
                "y": -1.8592110642615698,
                "yshift": 15,
                "z": -1.4456761834043266
               },
               {
                "showarrow": false,
                "text": 24,
                "x": -5.277973101138938,
                "y": -1.6917701937539946,
                "yshift": 15,
                "z": 0.31561361705164065
               },
               {
                "showarrow": false,
                "text": 25,
                "x": -5.893445775230805,
                "y": -0.37095969817545044,
                "yshift": 15,
                "z": -0.6783033014968659
               },
               {
                "showarrow": false,
                "text": 26,
                "x": -3.7931867980622216,
                "y": -0.1876768052261728,
                "yshift": 15,
                "z": 1.3796785774705727
               },
               {
                "showarrow": false,
                "text": 27,
                "x": -1.1412507984277376,
                "y": -1.666797742748665,
                "yshift": 15,
                "z": 1.4085266994606511
               },
               {
                "showarrow": false,
                "text": 28,
                "x": 0.050702563349259,
                "y": -0.7438158907285284,
                "yshift": 15,
                "z": -1.2570119949970338
               },
               {
                "showarrow": false,
                "text": 29,
                "x": 1.6431596855891044,
                "y": 0.53926394448874,
                "yshift": 15,
                "z": 0.5315544533832831
               },
               {
                "showarrow": false,
                "text": 30,
                "x": 2.908057699325101,
                "y": -0.7116743623681732,
                "yshift": 15,
                "z": 2.6410888902741205
               },
               {
                "showarrow": false,
                "text": 31,
                "x": 3.594130260989322,
                "y": -2.1611125203556214,
                "yshift": 15,
                "z": 1.9098056444565434
               },
               {
                "showarrow": false,
                "text": 32,
                "x": 4.257244758871696,
                "y": -1.8383311026019975,
                "yshift": 15,
                "z": -0.7292394222885591
               },
               {
                "showarrow": false,
                "text": 33,
                "x": 5.822336074397318,
                "y": -0.48876232307286854,
                "yshift": 15,
                "z": -2.079093914423993
               },
               {
                "showarrow": false,
                "text": 34,
                "x": 6.55093604291224,
                "y": 1.7413043014361045,
                "yshift": 15,
                "z": -1.2814507691539097
               },
               {
                "showarrow": false,
                "text": 35,
                "x": 5.710053510547763,
                "y": 2.6253012612670057,
                "yshift": 15,
                "z": 0.8798776355132771
               },
               {
                "showarrow": false,
                "text": 36,
                "x": 4.149641252918492,
                "y": 1.2888760973925781,
                "yshift": 15,
                "z": 2.2503000358112124
               },
               {
                "showarrow": false,
                "text": 37,
                "x": -3.7438529508192997,
                "y": 3.4249127925630916,
                "yshift": 15,
                "z": 1.186974302662917
               },
               {
                "showarrow": false,
                "text": 38,
                "x": -3.8011677763926177,
                "y": -0.5638932920956066,
                "yshift": 15,
                "z": -2.9284351764682377
               },
               {
                "showarrow": false,
                "text": 39,
                "x": -2.5526157217009224,
                "y": 0.49572082658374805,
                "yshift": 15,
                "z": -2.2832781906902913
               },
               {
                "showarrow": false,
                "text": 40,
                "x": -4.2466829306571805,
                "y": 0.9731843401052335,
                "yshift": 15,
                "z": -2.2028499976854694
               },
               {
                "font": {
                 "color": "steelblue"
                },
                "showarrow": false,
                "text": 1.77,
                "x": -4.427423710787923,
                "y": -0.8623232696385703,
                "yshift": 15,
                "z": -0.6881400082817218
               },
               {
                "font": {
                 "color": "steelblue"
                },
                "showarrow": false,
                "text": 1.18,
                "x": -5.239417937548093,
                "y": -1.5086877548931628,
                "yshift": 15,
                "z": -1.0381817052855236
               },
               {
                "font": {
                 "color": "steelblue"
                },
                "showarrow": false,
                "text": 1.18,
                "x": -5.205449273725932,
                "y": -1.4249673196393753,
                "yshift": 15,
                "z": -0.15753680505754006
               },
               {
                "font": {
                 "color": "steelblue"
                },
                "showarrow": false,
                "text": 1.18,
                "x": -5.513185610771865,
                "y": -0.7645620718501032,
                "yshift": 15,
                "z": -0.6544952643317934
               },
               {
                "font": {
                 "color": "steelblue"
                },
                "showarrow": false,
                "text": 1.77,
                "x": -3.5448972191341177,
                "y": -0.13633523223755814,
                "yshift": 15,
                "z": -0.1309434279880772
               },
               {
                "font": {
                 "color": "steelblue"
                },
                "showarrow": false,
                "text": 2.21,
                "x": -3.115493095608972,
                "y": -1.274684871037456,
                "yshift": 15,
                "z": -0.7114320440112132
               },
               {
                "font": {
                 "color": "steelblue"
                },
                "showarrow": false,
                "text": 1.77,
                "x": -3.643059516711581,
                "y": -0.22167202399570815,
                "yshift": 15,
                "z": -1.4259668942915569
               },
               {
                "font": {
                 "color": "steelblue"
                },
                "showarrow": false,
                "text": 1.77,
                "x": -2.6477221811579024,
                "y": 0.2500719582560515,
                "yshift": 15,
                "z": 0.5972161793032211
               },
               {
                "font": {
                 "color": "steelblue"
                },
                "showarrow": false,
                "text": 1.77,
                "x": -3.6680267140212024,
                "y": 0.9975684882132625,
                "yshift": 15,
                "z": 0.5024575523748737
               },
               {
                "font": {
                 "color": "steelblue"
                },
                "showarrow": false,
                "text": 1.18,
                "x": -3.5805296305337686,
                "y": 0.053067412025547794,
                "yshift": 15,
                "z": 0.9316922554455705
               },
               {
                "font": {
                 "color": "steelblue"
                },
                "showarrow": false,
                "text": 1.77,
                "x": -1.6344952607907992,
                "y": -0.4622421623944015,
                "yshift": 15,
                "z": 0.593314223179344
               },
               {
                "font": {
                 "color": "steelblue"
                },
                "showarrow": false,
                "text": 1.77,
                "x": -1.482818973736744,
                "y": 0.5165167265331263,
                "yshift": 15,
                "z": 0.29045291540620227
               },
               {
                "font": {
                 "color": "steelblue"
                },
                "showarrow": false,
                "text": 2.21,
                "x": -1.9252414191130667,
                "y": -1.5568521301730827,
                "yshift": 15,
                "z": -0.10068463872644468
               },
               {
                "font": {
                 "color": "steelblue"
                },
                "showarrow": false,
                "text": 1.77,
                "x": -0.7426130708792633,
                "y": -0.7828849161140619,
                "yshift": 15,
                "z": 0.1263774334725694
               },
               {
                "font": {
                 "color": "steelblue"
                },
                "showarrow": false,
                "text": 1.18,
                "x": -1.2413347103494234,
                "y": -1.3988071773861512,
                "yshift": 15,
                "z": 0.9422143603167327
               },
               {
                "font": {
                 "color": "steelblue"
                },
                "showarrow": false,
                "text": 1.77,
                "x": -0.5909367838252082,
                "y": 0.195873972813466,
                "yshift": 15,
                "z": -0.17648387430057227
               },
               {
                "font": {
                 "color": "steelblue"
                },
                "showarrow": false,
                "text": 1.77,
                "x": 0.4947466520716406,
                "y": -0.38702556463366766,
                "yshift": 15,
                "z": 0.15824326541525024
               },
               {
                "font": {
                 "color": "steelblue"
                },
                "showarrow": false,
                "text": 1.18,
                "x": -0.0465524780690793,
                "y": -0.5893845554665073,
                "yshift": 15,
                "z": -0.7400795746123545
               },
               {
                "font": {
                 "color": "steelblue"
                },
                "showarrow": false,
                "text": 1.77,
                "x": -1.04366861500031,
                "y": 1.3756344415795034,
                "yshift": 15,
                "z": -0.38370046250006035
               },
               {
                "font": {
                 "color": "steelblue"
                },
                "showarrow": false,
                "text": 1.77,
                "x": 1.4627805008444335,
                "y": -0.8996580192598744,
                "yshift": 15,
                "z": 0.7661770766286917
               },
               {
                "font": {
                 "color": "steelblue"
                },
                "showarrow": false,
                "text": 1.18,
                "x": 1.3882302546099017,
                "y": 0.10008301771294537,
                "yshift": 15,
                "z": 0.5355940692207295
               },
               {
                "font": {
                 "color": "steelblue"
                },
                "showarrow": false,
                "text": 1.77,
                "x": 1.5521320633353621,
                "y": -2.023758250883204,
                "yshift": 15,
                "z": 0.9450356248242018
               },
               {
                "font": {
                 "color": "steelblue"
                },
                "showarrow": false,
                "text": 1.77,
                "x": 2.4562201507441537,
                "y": -1.3292018424897987,
                "yshift": 15,
                "z": 1.3368166692232393
               },
               {
                "font": {
                 "color": "steelblue"
                },
                "showarrow": false,
                "text": 1.77,
                "x": 3.5986631659359336,
                "y": -0.7838125783556302,
                "yshift": 15,
                "z": 1.2686516852719998
               },
               {
                "font": {
                 "color": "steelblue"
                },
                "showarrow": false,
                "text": 1.18,
                "x": 3.0141189113776203,
                "y": -0.9549299589454355,
                "yshift": 15,
                "z": 2.161000880260696
               },
               {
                "font": {
                 "color": "steelblue"
                },
                "showarrow": false,
                "text": 1.18,
                "x": 3.3571551922097305,
                "y": -1.6796490379391598,
                "yshift": 15,
                "z": 1.7953592573519073
               },
               {
                "font": {
                 "color": "steelblue"
                },
                "showarrow": false,
                "text": 1.77,
                "x": 4.31979296353067,
                "y": -0.6141648750532023,
                "yshift": 15,
                "z": 0.24483014260211206
               },
               {
                "font": {
                 "color": "steelblue"
                },
                "showarrow": false,
                "text": 1.77,
                "x": 4.2875511065251555,
                "y": 0.26087639503559984,
                "yshift": 15,
                "z": 1.0777047259582178
               },
               {
                "font": {
                 "color": "steelblue"
                },
                "showarrow": false,
                "text": 1.77,
                "x": 5.005522770139931,
                "y": -0.47940967993773287,
                "yshift": 15,
                "z": -0.749750753704059
               },
               {
                "font": {
                 "color": "steelblue"
                },
                "showarrow": false,
                "text": 1.18,
                "x": 4.409842238745655,
                "y": -1.3486106257599197,
                "yshift": 15,
                "z": -0.5479848186905318
               },
               {
                "font": {
                 "color": "steelblue"
                },
                "showarrow": false,
                "text": 1.77,
                "x": 5.653305469959011,
                "y": 0.5268101038151127,
                "yshift": 15,
                "z": -0.9088429992513648
               },
               {
                "font": {
                 "color": "steelblue"
                },
                "showarrow": false,
                "text": 1.18,
                "x": 5.635470948028784,
                "y": -0.29434576701524623,
                "yshift": 15,
                "z": -1.6059326033698031
               },
               {
                "font": {
                 "color": "steelblue"
                },
                "showarrow": false,
                "text": 1.77,
                "x": 5.620704063874496,
                "y": 1.4013546512011266,
                "yshift": 15,
                "z": -0.07801304542033344
               },
               {
                "font": {
                 "color": "steelblue"
                },
                "showarrow": false,
                "text": 1.18,
                "x": 6.2044705805850064,
                "y": 1.4474268600119768,
                "yshift": 15,
                "z": -0.9831827376705129
               },
               {
                "font": {
                 "color": "steelblue"
                },
                "showarrow": false,
                "text": 1.77,
                "x": 4.940679507049901,
                "y": 1.270176137537083,
                "yshift": 15,
                "z": 0.913953783483078
               },
               {
                "font": {
                 "color": "steelblue"
                },
                "showarrow": false,
                "text": 1.18,
                "x": 5.546728260019491,
                "y": 2.137230572540705,
                "yshift": 15,
                "z": 0.7043831254298631
               },
               {
                "font": {
                 "color": "steelblue"
                },
                "showarrow": false,
                "text": 1.18,
                "x": 4.323798628763537,
                "y": 1.0900342443261701,
                "yshift": 15,
                "z": 1.7746594937154596
               },
               {
                "font": {
                 "color": "steelblue"
                },
                "showarrow": false,
                "text": 1.77,
                "x": -4.505662534643499,
                "y": 1.869240298039743,
                "yshift": 15,
                "z": 0.2846349652984382
               },
               {
                "font": {
                 "color": "steelblue"
                },
                "showarrow": false,
                "text": 1.77,
                "x": -3.6181079942419134,
                "y": 2.1380982953864622,
                "yshift": 15,
                "z": 0.8981658241002666
               },
               {
                "font": {
                 "color": "steelblue"
                },
                "showarrow": false,
                "text": 1.18,
                "x": -3.5059439871330187,
                "y": 2.9998920180933792,
                "yshift": 15,
                "z": 1.2310483897671356
               },
               {
                "font": {
                 "color": "steelblue"
                },
                "showarrow": false,
                "text": 1.18,
                "x": -3.682682417276429,
                "y": -0.2203776231673191,
                "yshift": 15,
                "z": -2.5173880878273143
               },
               {
                "font": {
                 "color": "steelblue"
                },
                "showarrow": false,
                "text": 1.18,
                "x": -3.058406389930582,
                "y": 0.30942943617235824,
                "yshift": 15,
                "z": -2.194809594938341
               },
               {
                "font": {
                 "color": "steelblue"
                },
                "showarrow": false,
                "text": 1.18,
                "x": -3.905439994408711,
                "y": 0.548161192933101,
                "yshift": 15,
                "z": -2.1545954984359303
               }
              ]
             }
            ],
            "label": "Indices & Bond Lengths",
            "method": "relayout"
           },
           {
            "args": [
             {
              "scene.annotations": [
               {
                "font": {
                 "color": "steelblue"
                },
                "showarrow": false,
                "text": 1.77,
                "x": -4.427423710787923,
                "y": -0.8623232696385703,
                "yshift": 15,
                "z": -0.6881400082817218
               },
               {
                "font": {
                 "color": "steelblue"
                },
                "showarrow": false,
                "text": 1.18,
                "x": -5.239417937548093,
                "y": -1.5086877548931628,
                "yshift": 15,
                "z": -1.0381817052855236
               },
               {
                "font": {
                 "color": "steelblue"
                },
                "showarrow": false,
                "text": 1.18,
                "x": -5.205449273725932,
                "y": -1.4249673196393753,
                "yshift": 15,
                "z": -0.15753680505754006
               },
               {
                "font": {
                 "color": "steelblue"
                },
                "showarrow": false,
                "text": 1.18,
                "x": -5.513185610771865,
                "y": -0.7645620718501032,
                "yshift": 15,
                "z": -0.6544952643317934
               },
               {
                "font": {
                 "color": "steelblue"
                },
                "showarrow": false,
                "text": 1.77,
                "x": -3.5448972191341177,
                "y": -0.13633523223755814,
                "yshift": 15,
                "z": -0.1309434279880772
               },
               {
                "font": {
                 "color": "steelblue"
                },
                "showarrow": false,
                "text": 2.21,
                "x": -3.115493095608972,
                "y": -1.274684871037456,
                "yshift": 15,
                "z": -0.7114320440112132
               },
               {
                "font": {
                 "color": "steelblue"
                },
                "showarrow": false,
                "text": 1.77,
                "x": -3.643059516711581,
                "y": -0.22167202399570815,
                "yshift": 15,
                "z": -1.4259668942915569
               },
               {
                "font": {
                 "color": "steelblue"
                },
                "showarrow": false,
                "text": 1.77,
                "x": -2.6477221811579024,
                "y": 0.2500719582560515,
                "yshift": 15,
                "z": 0.5972161793032211
               },
               {
                "font": {
                 "color": "steelblue"
                },
                "showarrow": false,
                "text": 1.77,
                "x": -3.6680267140212024,
                "y": 0.9975684882132625,
                "yshift": 15,
                "z": 0.5024575523748737
               },
               {
                "font": {
                 "color": "steelblue"
                },
                "showarrow": false,
                "text": 1.18,
                "x": -3.5805296305337686,
                "y": 0.053067412025547794,
                "yshift": 15,
                "z": 0.9316922554455705
               },
               {
                "font": {
                 "color": "steelblue"
                },
                "showarrow": false,
                "text": 1.77,
                "x": -1.6344952607907992,
                "y": -0.4622421623944015,
                "yshift": 15,
                "z": 0.593314223179344
               },
               {
                "font": {
                 "color": "steelblue"
                },
                "showarrow": false,
                "text": 1.77,
                "x": -1.482818973736744,
                "y": 0.5165167265331263,
                "yshift": 15,
                "z": 0.29045291540620227
               },
               {
                "font": {
                 "color": "steelblue"
                },
                "showarrow": false,
                "text": 2.21,
                "x": -1.9252414191130667,
                "y": -1.5568521301730827,
                "yshift": 15,
                "z": -0.10068463872644468
               },
               {
                "font": {
                 "color": "steelblue"
                },
                "showarrow": false,
                "text": 1.77,
                "x": -0.7426130708792633,
                "y": -0.7828849161140619,
                "yshift": 15,
                "z": 0.1263774334725694
               },
               {
                "font": {
                 "color": "steelblue"
                },
                "showarrow": false,
                "text": 1.18,
                "x": -1.2413347103494234,
                "y": -1.3988071773861512,
                "yshift": 15,
                "z": 0.9422143603167327
               },
               {
                "font": {
                 "color": "steelblue"
                },
                "showarrow": false,
                "text": 1.77,
                "x": -0.5909367838252082,
                "y": 0.195873972813466,
                "yshift": 15,
                "z": -0.17648387430057227
               },
               {
                "font": {
                 "color": "steelblue"
                },
                "showarrow": false,
                "text": 1.77,
                "x": 0.4947466520716406,
                "y": -0.38702556463366766,
                "yshift": 15,
                "z": 0.15824326541525024
               },
               {
                "font": {
                 "color": "steelblue"
                },
                "showarrow": false,
                "text": 1.18,
                "x": -0.0465524780690793,
                "y": -0.5893845554665073,
                "yshift": 15,
                "z": -0.7400795746123545
               },
               {
                "font": {
                 "color": "steelblue"
                },
                "showarrow": false,
                "text": 1.77,
                "x": -1.04366861500031,
                "y": 1.3756344415795034,
                "yshift": 15,
                "z": -0.38370046250006035
               },
               {
                "font": {
                 "color": "steelblue"
                },
                "showarrow": false,
                "text": 1.77,
                "x": 1.4627805008444335,
                "y": -0.8996580192598744,
                "yshift": 15,
                "z": 0.7661770766286917
               },
               {
                "font": {
                 "color": "steelblue"
                },
                "showarrow": false,
                "text": 1.18,
                "x": 1.3882302546099017,
                "y": 0.10008301771294537,
                "yshift": 15,
                "z": 0.5355940692207295
               },
               {
                "font": {
                 "color": "steelblue"
                },
                "showarrow": false,
                "text": 1.77,
                "x": 1.5521320633353621,
                "y": -2.023758250883204,
                "yshift": 15,
                "z": 0.9450356248242018
               },
               {
                "font": {
                 "color": "steelblue"
                },
                "showarrow": false,
                "text": 1.77,
                "x": 2.4562201507441537,
                "y": -1.3292018424897987,
                "yshift": 15,
                "z": 1.3368166692232393
               },
               {
                "font": {
                 "color": "steelblue"
                },
                "showarrow": false,
                "text": 1.77,
                "x": 3.5986631659359336,
                "y": -0.7838125783556302,
                "yshift": 15,
                "z": 1.2686516852719998
               },
               {
                "font": {
                 "color": "steelblue"
                },
                "showarrow": false,
                "text": 1.18,
                "x": 3.0141189113776203,
                "y": -0.9549299589454355,
                "yshift": 15,
                "z": 2.161000880260696
               },
               {
                "font": {
                 "color": "steelblue"
                },
                "showarrow": false,
                "text": 1.18,
                "x": 3.3571551922097305,
                "y": -1.6796490379391598,
                "yshift": 15,
                "z": 1.7953592573519073
               },
               {
                "font": {
                 "color": "steelblue"
                },
                "showarrow": false,
                "text": 1.77,
                "x": 4.31979296353067,
                "y": -0.6141648750532023,
                "yshift": 15,
                "z": 0.24483014260211206
               },
               {
                "font": {
                 "color": "steelblue"
                },
                "showarrow": false,
                "text": 1.77,
                "x": 4.2875511065251555,
                "y": 0.26087639503559984,
                "yshift": 15,
                "z": 1.0777047259582178
               },
               {
                "font": {
                 "color": "steelblue"
                },
                "showarrow": false,
                "text": 1.77,
                "x": 5.005522770139931,
                "y": -0.47940967993773287,
                "yshift": 15,
                "z": -0.749750753704059
               },
               {
                "font": {
                 "color": "steelblue"
                },
                "showarrow": false,
                "text": 1.18,
                "x": 4.409842238745655,
                "y": -1.3486106257599197,
                "yshift": 15,
                "z": -0.5479848186905318
               },
               {
                "font": {
                 "color": "steelblue"
                },
                "showarrow": false,
                "text": 1.77,
                "x": 5.653305469959011,
                "y": 0.5268101038151127,
                "yshift": 15,
                "z": -0.9088429992513648
               },
               {
                "font": {
                 "color": "steelblue"
                },
                "showarrow": false,
                "text": 1.18,
                "x": 5.635470948028784,
                "y": -0.29434576701524623,
                "yshift": 15,
                "z": -1.6059326033698031
               },
               {
                "font": {
                 "color": "steelblue"
                },
                "showarrow": false,
                "text": 1.77,
                "x": 5.620704063874496,
                "y": 1.4013546512011266,
                "yshift": 15,
                "z": -0.07801304542033344
               },
               {
                "font": {
                 "color": "steelblue"
                },
                "showarrow": false,
                "text": 1.18,
                "x": 6.2044705805850064,
                "y": 1.4474268600119768,
                "yshift": 15,
                "z": -0.9831827376705129
               },
               {
                "font": {
                 "color": "steelblue"
                },
                "showarrow": false,
                "text": 1.77,
                "x": 4.940679507049901,
                "y": 1.270176137537083,
                "yshift": 15,
                "z": 0.913953783483078
               },
               {
                "font": {
                 "color": "steelblue"
                },
                "showarrow": false,
                "text": 1.18,
                "x": 5.546728260019491,
                "y": 2.137230572540705,
                "yshift": 15,
                "z": 0.7043831254298631
               },
               {
                "font": {
                 "color": "steelblue"
                },
                "showarrow": false,
                "text": 1.18,
                "x": 4.323798628763537,
                "y": 1.0900342443261701,
                "yshift": 15,
                "z": 1.7746594937154596
               },
               {
                "font": {
                 "color": "steelblue"
                },
                "showarrow": false,
                "text": 1.77,
                "x": -4.505662534643499,
                "y": 1.869240298039743,
                "yshift": 15,
                "z": 0.2846349652984382
               },
               {
                "font": {
                 "color": "steelblue"
                },
                "showarrow": false,
                "text": 1.77,
                "x": -3.6181079942419134,
                "y": 2.1380982953864622,
                "yshift": 15,
                "z": 0.8981658241002666
               },
               {
                "font": {
                 "color": "steelblue"
                },
                "showarrow": false,
                "text": 1.18,
                "x": -3.5059439871330187,
                "y": 2.9998920180933792,
                "yshift": 15,
                "z": 1.2310483897671356
               },
               {
                "font": {
                 "color": "steelblue"
                },
                "showarrow": false,
                "text": 1.18,
                "x": -3.682682417276429,
                "y": -0.2203776231673191,
                "yshift": 15,
                "z": -2.5173880878273143
               },
               {
                "font": {
                 "color": "steelblue"
                },
                "showarrow": false,
                "text": 1.18,
                "x": -3.058406389930582,
                "y": 0.30942943617235824,
                "yshift": 15,
                "z": -2.194809594938341
               },
               {
                "font": {
                 "color": "steelblue"
                },
                "showarrow": false,
                "text": 1.18,
                "x": -3.905439994408711,
                "y": 0.548161192933101,
                "yshift": 15,
                "z": -2.1545954984359303
               }
              ]
             }
            ],
            "label": "Bond Lengths",
            "method": "relayout"
           },
           {
            "args": [
             {
              "scene.annotations": []
             }
            ],
            "label": "Hide All",
            "method": "relayout"
           }
          ],
          "direction": "down",
          "xanchor": "left",
          "yanchor": "top"
         }
        ]
       }
      }
     },
     "metadata": {},
     "output_type": "display_data"
    }
   ],
   "source": [
    "import MASSiveChem.MASSiveChem as MC\n",
    "\n",
    "mol_smi = 'CC1(C(N2C(S1)C(C2=O)NC(=O)CC3=CC=CC=C3)C(=O)O)C'\n",
    "\n",
    "output =MC.smiles_to_3D_plot(mol_smi)\n",
    "\n",
    "output"
   ]
  },
  {
   "cell_type": "markdown",
   "metadata": {},
   "source": [
    "## Full function\n",
    "\n",
    "Now that these small constituant functions have been layed out, we can see how the main function, MC.spectrum, is formed. The functions above, when combined in the correct order, create the function called MC.spectrum. This looks something like this:"
   ]
  },
  {
   "cell_type": "code",
   "execution_count": 55,
   "metadata": {},
   "outputs": [
    {
     "data": {
      "text/html": [
       "    <style>\n",
       "        .bk-notebook-logo {\n",
       "            display: block;\n",
       "            width: 20px;\n",
       "            height: 20px;\n",
       "            background-image: url(data:image/png;base64,iVBORw0KGgoAAAANSUhEUgAAABQAAAAUCAYAAACNiR0NAAAABHNCSVQICAgIfAhkiAAAAAlwSFlzAAALEgAACxIB0t1+/AAAABx0RVh0U29mdHdhcmUAQWRvYmUgRmlyZXdvcmtzIENTNui8sowAAAOkSURBVDiNjZRtaJVlGMd/1/08zzln5zjP1LWcU9N0NkN8m2CYjpgQYQXqSs0I84OLIC0hkEKoPtiH3gmKoiJDU7QpLgoLjLIQCpEsNJ1vqUOdO7ppbuec5+V+rj4ctwzd8IIbbi6u+8f1539dt3A78eXC7QizUF7gyV1fD1Yqg4JWz84yffhm0qkFqBogB9rM8tZdtwVsPUhWhGcFJngGeWrPzHm5oaMmkfEg1usvLFyc8jLRqDOMru7AyC8saQr7GG7f5fvDeH7Ej8CM66nIF+8yngt6HWaKh7k49Soy9nXurCi1o3qUbS3zWfrYeQDTB/Qj6kX6Ybhw4B+bOYoLKCC9H3Nu/leUTZ1JdRWkkn2ldcCamzrcf47KKXdAJllSlxAOkRgyHsGC/zRday5Qld9DyoM4/q/rUoy/CXh3jzOu3bHUVZeU+DEn8FInkPBFlu3+nW3Nw0mk6vCDiWg8CeJaxEwuHS3+z5RgY+YBR6V1Z1nxSOfoaPa4LASWxxdNp+VWTk7+4vzaou8v8PN+xo+KY2xsw6une2frhw05CTYOmQvsEhjhWjn0bmXPjpE1+kplmmkP3suftwTubK9Vq22qKmrBhpY4jvd5afdRA3wGjFAgcnTK2s4hY0/GPNIb0nErGMCRxWOOX64Z8RAC4oCXdklmEvcL8o0BfkNK4lUg9HTl+oPlQxdNo3Mg4Nv175e/1LDGzZen30MEjRUtmXSfiTVu1kK8W4txyV6BMKlbgk3lMwYCiusNy9fVfvvwMxv8Ynl6vxoByANLTWplvuj/nF9m2+PDtt1eiHPBr1oIfhCChQMBw6Aw0UulqTKZdfVvfG7VcfIqLG9bcldL/+pdWTLxLUy8Qq38heUIjh4XlzZxzQm19lLFlr8vdQ97rjZVOLf8nclzckbcD4wxXMidpX30sFd37Fv/GtwwhzhxGVAprjbg0gCAEeIgwCZyTV2Z1REEW8O4py0wsjeloKoMr6iCY6dP92H6Vw/oTyICIthibxjm/DfN9lVz8IqtqKYLUXfoKVMVQVVJOElGjrnnUt9T9wbgp8AyYKaGlqingHZU/uG2NTZSVqwHQTWkx9hxjkpWDaCg6Ckj5qebgBVbT3V3NNXMSiWSDdGV3hrtzla7J+duwPOToIg42ChPQOQjspnSlp1V+Gjdged7+8UN5CRAV7a5EdFNwCjEaBR27b3W890TE7g24NAP/mMDXRWrGoFPQI9ls/MWO2dWFAar/xcOIImbbpA3zgAAAABJRU5ErkJggg==);\n",
       "        }\n",
       "    </style>\n",
       "    <div>\n",
       "        <a href=\"https://bokeh.org\" target=\"_blank\" class=\"bk-notebook-logo\"></a>\n",
       "        <span id=\"b8e3662f-003d-471d-a4fc-e5ed2b82e54d\">Loading BokehJS ...</span>\n",
       "    </div>\n"
      ]
     },
     "metadata": {},
     "output_type": "display_data"
    },
    {
     "data": {
      "application/javascript": "'use strict';\n(function(root) {\n  function now() {\n    return new Date();\n  }\n\n  const force = true;\n\n  if (typeof root._bokeh_onload_callbacks === \"undefined\" || force === true) {\n    root._bokeh_onload_callbacks = [];\n    root._bokeh_is_loading = undefined;\n  }\n\nconst JS_MIME_TYPE = 'application/javascript';\n  const HTML_MIME_TYPE = 'text/html';\n  const EXEC_MIME_TYPE = 'application/vnd.bokehjs_exec.v0+json';\n  const CLASS_NAME = 'output_bokeh rendered_html';\n\n  /**\n   * Render data to the DOM node\n   */\n  function render(props, node) {\n    const script = document.createElement(\"script\");\n    node.appendChild(script);\n  }\n\n  /**\n   * Handle when an output is cleared or removed\n   */\n  function handleClearOutput(event, handle) {\n    function drop(id) {\n      const view = Bokeh.index.get_by_id(id)\n      if (view != null) {\n        view.model.document.clear()\n        Bokeh.index.delete(view)\n      }\n    }\n\n    const cell = handle.cell;\n\n    const id = cell.output_area._bokeh_element_id;\n    const server_id = cell.output_area._bokeh_server_id;\n\n    // Clean up Bokeh references\n    if (id != null) {\n      drop(id)\n    }\n\n    if (server_id !== undefined) {\n      // Clean up Bokeh references\n      const cmd_clean = \"from bokeh.io.state import curstate; print(curstate().uuid_to_server['\" + server_id + \"'].get_sessions()[0].document.roots[0]._id)\";\n      cell.notebook.kernel.execute(cmd_clean, {\n        iopub: {\n          output: function(msg) {\n            const id = msg.content.text.trim()\n            drop(id)\n          }\n        }\n      });\n      // Destroy server and session\n      const cmd_destroy = \"import bokeh.io.notebook as ion; ion.destroy_server('\" + server_id + \"')\";\n      cell.notebook.kernel.execute(cmd_destroy);\n    }\n  }\n\n  /**\n   * Handle when a new output is added\n   */\n  function handleAddOutput(event, handle) {\n    const output_area = handle.output_area;\n    const output = handle.output;\n\n    // limit handleAddOutput to display_data with EXEC_MIME_TYPE content only\n    if ((output.output_type != \"display_data\") || (!Object.prototype.hasOwnProperty.call(output.data, EXEC_MIME_TYPE))) {\n      return\n    }\n\n    const toinsert = output_area.element.find(\".\" + CLASS_NAME.split(' ')[0]);\n\n    if (output.metadata[EXEC_MIME_TYPE][\"id\"] !== undefined) {\n      toinsert[toinsert.length - 1].firstChild.textContent = output.data[JS_MIME_TYPE];\n      // store reference to embed id on output_area\n      output_area._bokeh_element_id = output.metadata[EXEC_MIME_TYPE][\"id\"];\n    }\n    if (output.metadata[EXEC_MIME_TYPE][\"server_id\"] !== undefined) {\n      const bk_div = document.createElement(\"div\");\n      bk_div.innerHTML = output.data[HTML_MIME_TYPE];\n      const script_attrs = bk_div.children[0].attributes;\n      for (let i = 0; i < script_attrs.length; i++) {\n        toinsert[toinsert.length - 1].firstChild.setAttribute(script_attrs[i].name, script_attrs[i].value);\n        toinsert[toinsert.length - 1].firstChild.textContent = bk_div.children[0].textContent\n      }\n      // store reference to server id on output_area\n      output_area._bokeh_server_id = output.metadata[EXEC_MIME_TYPE][\"server_id\"];\n    }\n  }\n\n  function register_renderer(events, OutputArea) {\n\n    function append_mime(data, metadata, element) {\n      // create a DOM node to render to\n      const toinsert = this.create_output_subarea(\n        metadata,\n        CLASS_NAME,\n        EXEC_MIME_TYPE\n      );\n      this.keyboard_manager.register_events(toinsert);\n      // Render to node\n      const props = {data: data, metadata: metadata[EXEC_MIME_TYPE]};\n      render(props, toinsert[toinsert.length - 1]);\n      element.append(toinsert);\n      return toinsert\n    }\n\n    /* Handle when an output is cleared or removed */\n    events.on('clear_output.CodeCell', handleClearOutput);\n    events.on('delete.Cell', handleClearOutput);\n\n    /* Handle when a new output is added */\n    events.on('output_added.OutputArea', handleAddOutput);\n\n    /**\n     * Register the mime type and append_mime function with output_area\n     */\n    OutputArea.prototype.register_mime_type(EXEC_MIME_TYPE, append_mime, {\n      /* Is output safe? */\n      safe: true,\n      /* Index of renderer in `output_area.display_order` */\n      index: 0\n    });\n  }\n\n  // register the mime type if in Jupyter Notebook environment and previously unregistered\n  if (root.Jupyter !== undefined) {\n    const events = require('base/js/events');\n    const OutputArea = require('notebook/js/outputarea').OutputArea;\n\n    if (OutputArea.prototype.mime_types().indexOf(EXEC_MIME_TYPE) == -1) {\n      register_renderer(events, OutputArea);\n    }\n  }\n  if (typeof (root._bokeh_timeout) === \"undefined\" || force === true) {\n    root._bokeh_timeout = Date.now() + 5000;\n    root._bokeh_failed_load = false;\n  }\n\n  const NB_LOAD_WARNING = {'data': {'text/html':\n     \"<div style='background-color: #fdd'>\\n\"+\n     \"<p>\\n\"+\n     \"BokehJS does not appear to have successfully loaded. If loading BokehJS from CDN, this \\n\"+\n     \"may be due to a slow or bad network connection. Possible fixes:\\n\"+\n     \"</p>\\n\"+\n     \"<ul>\\n\"+\n     \"<li>re-rerun `output_notebook()` to attempt to load from CDN again, or</li>\\n\"+\n     \"<li>use INLINE resources instead, as so:</li>\\n\"+\n     \"</ul>\\n\"+\n     \"<code>\\n\"+\n     \"from bokeh.resources import INLINE\\n\"+\n     \"output_notebook(resources=INLINE)\\n\"+\n     \"</code>\\n\"+\n     \"</div>\"}};\n\n  function display_loaded(error = null) {\n    const el = document.getElementById(\"b8e3662f-003d-471d-a4fc-e5ed2b82e54d\");\n    if (el != null) {\n      const html = (() => {\n        if (typeof root.Bokeh === \"undefined\") {\n          if (error == null) {\n            return \"BokehJS is loading ...\";\n          } else {\n            return \"BokehJS failed to load.\";\n          }\n        } else {\n          const prefix = `BokehJS ${root.Bokeh.version}`;\n          if (error == null) {\n            return `${prefix} successfully loaded.`;\n          } else {\n            return `${prefix} <b>encountered errors</b> while loading and may not function as expected.`;\n          }\n        }\n      })();\n      el.innerHTML = html;\n\n      if (error != null) {\n        const wrapper = document.createElement(\"div\");\n        wrapper.style.overflow = \"auto\";\n        wrapper.style.height = \"5em\";\n        wrapper.style.resize = \"vertical\";\n        const content = document.createElement(\"div\");\n        content.style.fontFamily = \"monospace\";\n        content.style.whiteSpace = \"pre-wrap\";\n        content.style.backgroundColor = \"rgb(255, 221, 221)\";\n        content.textContent = error.stack ?? error.toString();\n        wrapper.append(content);\n        el.append(wrapper);\n      }\n    } else if (Date.now() < root._bokeh_timeout) {\n      setTimeout(() => display_loaded(error), 100);\n    }\n  }\n\n  function run_callbacks() {\n    try {\n      root._bokeh_onload_callbacks.forEach(function(callback) {\n        if (callback != null)\n          callback();\n      });\n    } finally {\n      delete root._bokeh_onload_callbacks\n    }\n    console.debug(\"Bokeh: all callbacks have finished\");\n  }\n\n  function load_libs(css_urls, js_urls, callback) {\n    if (css_urls == null) css_urls = [];\n    if (js_urls == null) js_urls = [];\n\n    root._bokeh_onload_callbacks.push(callback);\n    if (root._bokeh_is_loading > 0) {\n      console.debug(\"Bokeh: BokehJS is being loaded, scheduling callback at\", now());\n      return null;\n    }\n    if (js_urls == null || js_urls.length === 0) {\n      run_callbacks();\n      return null;\n    }\n    console.debug(\"Bokeh: BokehJS not loaded, scheduling load and callback at\", now());\n    root._bokeh_is_loading = css_urls.length + js_urls.length;\n\n    function on_load() {\n      root._bokeh_is_loading--;\n      if (root._bokeh_is_loading === 0) {\n        console.debug(\"Bokeh: all BokehJS libraries/stylesheets loaded\");\n        run_callbacks()\n      }\n    }\n\n    function on_error(url) {\n      console.error(\"failed to load \" + url);\n    }\n\n    for (let i = 0; i < css_urls.length; i++) {\n      const url = css_urls[i];\n      const element = document.createElement(\"link\");\n      element.onload = on_load;\n      element.onerror = on_error.bind(null, url);\n      element.rel = \"stylesheet\";\n      element.type = \"text/css\";\n      element.href = url;\n      console.debug(\"Bokeh: injecting link tag for BokehJS stylesheet: \", url);\n      document.body.appendChild(element);\n    }\n\n    for (let i = 0; i < js_urls.length; i++) {\n      const url = js_urls[i];\n      const element = document.createElement('script');\n      element.onload = on_load;\n      element.onerror = on_error.bind(null, url);\n      element.async = false;\n      element.src = url;\n      console.debug(\"Bokeh: injecting script tag for BokehJS library: \", url);\n      document.head.appendChild(element);\n    }\n  };\n\n  function inject_raw_css(css) {\n    const element = document.createElement(\"style\");\n    element.appendChild(document.createTextNode(css));\n    document.body.appendChild(element);\n  }\n\n  const js_urls = [\"static/extensions/panel/bundled/jquery/jquery.slim.min.js\", \"static/extensions/panel/bundled/plotlyplot/plotly-2.31.1.min.js\", \"https://cdn.bokeh.org/bokeh/release/bokeh-3.4.1.min.js\", \"https://cdn.bokeh.org/bokeh/release/bokeh-gl-3.4.1.min.js\", \"https://cdn.bokeh.org/bokeh/release/bokeh-widgets-3.4.1.min.js\", \"https://cdn.bokeh.org/bokeh/release/bokeh-tables-3.4.1.min.js\", \"https://cdn.bokeh.org/bokeh/release/bokeh-mathjax-3.4.1.min.js\", \"https://unpkg.com/@holoviz/panel@1.4.2/dist/panel.min.js\"];\n  const css_urls = [];\n\n  const inline_js = [    function(Bokeh) {\n      Bokeh.set_log_level(\"info\");\n    },\nfunction(Bokeh) {\n    }\n  ];\n\n  function run_inline_js() {\n    if (root.Bokeh !== undefined || force === true) {\n      try {\n            for (let i = 0; i < inline_js.length; i++) {\n      inline_js[i].call(root, root.Bokeh);\n    }\n\n      } catch (error) {display_loaded(error);throw error;\n      }if (force === true) {\n        display_loaded();\n      }} else if (Date.now() < root._bokeh_timeout) {\n      setTimeout(run_inline_js, 100);\n    } else if (!root._bokeh_failed_load) {\n      console.log(\"Bokeh: BokehJS failed to load within specified timeout.\");\n      root._bokeh_failed_load = true;\n    } else if (force !== true) {\n      const cell = $(document.getElementById(\"b8e3662f-003d-471d-a4fc-e5ed2b82e54d\")).parents('.cell').data().cell;\n      cell.output_area.append_execute_result(NB_LOAD_WARNING)\n    }\n  }\n\n  if (root._bokeh_is_loading === 0) {\n    console.debug(\"Bokeh: BokehJS loaded, going straight to plotting\");\n    run_inline_js();\n  } else {\n    load_libs(css_urls, js_urls, function() {\n      console.debug(\"Bokeh: BokehJS plotting callback run at\", now());\n      run_inline_js();\n    });\n  }\n}(window));",
      "application/vnd.bokehjs_load.v0+json": ""
     },
     "metadata": {},
     "output_type": "display_data"
    },
    {
     "name": "stdout",
     "output_type": "stream",
     "text": [
      "here\n"
     ]
    },
    {
     "data": {
      "text/html": [
       "\n",
       "  <div id=\"c3afc980-e521-47b4-878e-66eb5f2ec0c3\" data-root-id=\"p7246\" style=\"display: contents;\"></div>\n"
      ]
     },
     "metadata": {},
     "output_type": "display_data"
    },
    {
     "data": {
      "application/javascript": "(function(root) {\n  function embed_document(root) {\n  const docs_json = {\"a70b4a08-c06b-467b-abcd-0aa04a400376\":{\"version\":\"3.4.1\",\"title\":\"Bokeh Application\",\"roots\":[{\"type\":\"object\",\"name\":\"Row\",\"id\":\"p7246\",\"attributes\":{\"children\":[{\"type\":\"object\",\"name\":\"Column\",\"id\":\"p7227\",\"attributes\":{\"children\":[{\"type\":\"object\",\"name\":\"Figure\",\"id\":\"p7067\",\"attributes\":{\"height\":500,\"x_range\":{\"type\":\"object\",\"name\":\"DataRange1d\",\"id\":\"p7068\",\"attributes\":{\"js_property_callbacks\":{\"type\":\"map\",\"entries\":[[\"change:start\",[{\"type\":\"object\",\"name\":\"CustomJS\",\"id\":\"p7225\",\"attributes\":{\"args\":{\"type\":\"map\",\"entries\":[[\"box\",{\"type\":\"object\",\"name\":\"BoxAnnotation\",\"id\":\"p7220\",\"attributes\":{\"left\":0,\"right\":0,\"top\":0,\"bottom\":0,\"line_color\":\"red\",\"fill_color\":\"cornflowerblue\",\"fill_alpha\":0.1}}]]},\"code\":\"\\n        box['left'] = cb_obj.start\\n        box['right'] = cb_obj.end\\n    \"}}]],[\"change:end\",[{\"id\":\"p7225\"}]]]}}},\"y_range\":{\"type\":\"object\",\"name\":\"DataRange1d\",\"id\":\"p7069\",\"attributes\":{\"js_property_callbacks\":{\"type\":\"map\",\"entries\":[[\"change:start\",[{\"type\":\"object\",\"name\":\"CustomJS\",\"id\":\"p7226\",\"attributes\":{\"args\":{\"type\":\"map\",\"entries\":[[\"box\",{\"id\":\"p7220\"}]]},\"code\":\"\\n        box['bottom'] = cb_obj.start\\n        box['top'] = cb_obj.end\\n    \"}}]],[\"change:end\",[{\"id\":\"p7226\"}]]]}}},\"x_scale\":{\"type\":\"object\",\"name\":\"LinearScale\",\"id\":\"p7076\"},\"y_scale\":{\"type\":\"object\",\"name\":\"LinearScale\",\"id\":\"p7077\"},\"title\":{\"type\":\"object\",\"name\":\"Title\",\"id\":\"p7074\"},\"renderers\":[{\"type\":\"object\",\"name\":\"GlyphRenderer\",\"id\":\"p7108\",\"attributes\":{\"data_source\":{\"type\":\"object\",\"name\":\"ColumnDataSource\",\"id\":\"p7102\",\"attributes\":{\"selected\":{\"type\":\"object\",\"name\":\"Selection\",\"id\":\"p7103\",\"attributes\":{\"indices\":[],\"line_indices\":[]}},\"selection_policy\":{\"type\":\"object\",\"name\":\"UnionRenderers\",\"id\":\"p7104\"},\"data\":{\"type\":\"map\",\"entries\":[[\"x\",[333.22607421875,333.72607421875,333.72607421875,333.72607421875,334.09,334.09,334.09,334.711625,334.711625,334.711625,335.09450000000004,335.09450000000004,335.09450000000004,335.0965,335.0965,335.0965,335.58799999999997,335.58799999999997,335.58799999999997,335.592,335.592,335.592,336.592]],[\"y\",[0,0,0.7968575149041046,0,0,0.006245168595575361,0,0,0.04069933161480112,0,0,0.012620365861430607,0,0,0.14003589795857166,0,0,0.006374860119232837,0,0,0.007251656211902638,0,0]]]}}},\"view\":{\"type\":\"object\",\"name\":\"CDSView\",\"id\":\"p7109\",\"attributes\":{\"filter\":{\"type\":\"object\",\"name\":\"AllIndices\",\"id\":\"p7110\"}}},\"glyph\":{\"type\":\"object\",\"name\":\"Line\",\"id\":\"p7105\",\"attributes\":{\"x\":{\"type\":\"field\",\"field\":\"x\"},\"y\":{\"type\":\"field\",\"field\":\"y\"},\"line_color\":\"#1f77b4\"}},\"nonselection_glyph\":{\"type\":\"object\",\"name\":\"Line\",\"id\":\"p7106\",\"attributes\":{\"x\":{\"type\":\"field\",\"field\":\"x\"},\"y\":{\"type\":\"field\",\"field\":\"y\"},\"line_color\":\"#1f77b4\",\"line_alpha\":0.1}},\"muted_glyph\":{\"type\":\"object\",\"name\":\"Line\",\"id\":\"p7107\",\"attributes\":{\"x\":{\"type\":\"field\",\"field\":\"x\"},\"y\":{\"type\":\"field\",\"field\":\"y\"},\"line_color\":\"#1f77b4\",\"line_alpha\":0.2}}}}],\"toolbar\":{\"type\":\"object\",\"name\":\"Toolbar\",\"id\":\"p7075\",\"attributes\":{\"tools\":[{\"type\":\"object\",\"name\":\"PanTool\",\"id\":\"p7088\"},{\"type\":\"object\",\"name\":\"WheelZoomTool\",\"id\":\"p7089\",\"attributes\":{\"renderers\":\"auto\"}},{\"type\":\"object\",\"name\":\"BoxZoomTool\",\"id\":\"p7090\",\"attributes\":{\"overlay\":{\"type\":\"object\",\"name\":\"BoxAnnotation\",\"id\":\"p7091\",\"attributes\":{\"syncable\":false,\"level\":\"overlay\",\"visible\":false,\"left\":{\"type\":\"number\",\"value\":\"nan\"},\"right\":{\"type\":\"number\",\"value\":\"nan\"},\"top\":{\"type\":\"number\",\"value\":\"nan\"},\"bottom\":{\"type\":\"number\",\"value\":\"nan\"},\"left_units\":\"canvas\",\"right_units\":\"canvas\",\"top_units\":\"canvas\",\"bottom_units\":\"canvas\",\"line_color\":\"black\",\"line_alpha\":1.0,\"line_width\":2,\"line_dash\":[4,4],\"fill_color\":\"lightgrey\",\"fill_alpha\":0.5}}}},{\"type\":\"object\",\"name\":\"SaveTool\",\"id\":\"p7096\"},{\"type\":\"object\",\"name\":\"ResetTool\",\"id\":\"p7097\"},{\"type\":\"object\",\"name\":\"HelpTool\",\"id\":\"p7098\"},{\"type\":\"object\",\"name\":\"WheelPanTool\",\"id\":\"p7100\",\"attributes\":{\"dimension\":\"height\"}},{\"type\":\"object\",\"name\":\"WheelZoomTool\",\"id\":\"p7101\",\"attributes\":{\"dimensions\":\"height\",\"renderers\":\"auto\"}}]}},\"left\":[{\"type\":\"object\",\"name\":\"LinearAxis\",\"id\":\"p7083\",\"attributes\":{\"ticker\":{\"type\":\"object\",\"name\":\"BasicTicker\",\"id\":\"p7084\",\"attributes\":{\"mantissas\":[1,2,5]}},\"formatter\":{\"type\":\"object\",\"name\":\"BasicTickFormatter\",\"id\":\"p7085\"},\"axis_label\":\"Abundance\",\"major_label_policy\":{\"type\":\"object\",\"name\":\"AllLabels\",\"id\":\"p7086\"}}}],\"below\":[{\"type\":\"object\",\"name\":\"LinearAxis\",\"id\":\"p7078\",\"attributes\":{\"ticker\":{\"type\":\"object\",\"name\":\"FixedTicker\",\"id\":\"p7099\",\"attributes\":{\"ticks\":[333.72607421875,334.09,334.711625,335.09450000000004,335.0965,335.58799999999997,335.592],\"minor_ticks\":[]}},\"formatter\":{\"type\":\"object\",\"name\":\"BasicTickFormatter\",\"id\":\"p7080\"},\"axis_label\":\"[m/z]\",\"major_label_policy\":{\"type\":\"object\",\"name\":\"AllLabels\",\"id\":\"p7081\"}}}],\"center\":[{\"type\":\"object\",\"name\":\"Grid\",\"id\":\"p7082\",\"attributes\":{\"axis\":{\"id\":\"p7078\"}}},{\"type\":\"object\",\"name\":\"Grid\",\"id\":\"p7087\",\"attributes\":{\"dimension\":1,\"axis\":{\"id\":\"p7083\"}}}]}},{\"type\":\"object\",\"name\":\"Figure\",\"id\":\"p7177\",\"attributes\":{\"height\":300,\"x_range\":{\"type\":\"object\",\"name\":\"DataRange1d\",\"id\":\"p7178\"},\"y_range\":{\"type\":\"object\",\"name\":\"DataRange1d\",\"id\":\"p7179\"},\"x_scale\":{\"type\":\"object\",\"name\":\"LinearScale\",\"id\":\"p7186\"},\"y_scale\":{\"type\":\"object\",\"name\":\"LinearScale\",\"id\":\"p7187\"},\"title\":{\"type\":\"object\",\"name\":\"Title\",\"id\":\"p7184\"},\"renderers\":[{\"type\":\"object\",\"name\":\"GlyphRenderer\",\"id\":\"p7215\",\"attributes\":{\"data_source\":{\"type\":\"object\",\"name\":\"ColumnDataSource\",\"id\":\"p7209\",\"attributes\":{\"selected\":{\"type\":\"object\",\"name\":\"Selection\",\"id\":\"p7210\",\"attributes\":{\"indices\":[],\"line_indices\":[]}},\"selection_policy\":{\"type\":\"object\",\"name\":\"UnionRenderers\",\"id\":\"p7211\"},\"data\":{\"type\":\"map\",\"entries\":[[\"x\",[333.22607421875,333.72607421875,333.72607421875,333.72607421875,334.09,334.09,334.09,334.711625,334.711625,334.711625,335.09450000000004,335.09450000000004,335.09450000000004,335.0965,335.0965,335.0965,335.58799999999997,335.58799999999997,335.58799999999997,335.592,335.592,335.592,336.592]],[\"y\",[0,0,0.7968575149041046,0,0,0.006245168595575361,0,0,0.04069933161480112,0,0,0.012620365861430607,0,0,0.14003589795857166,0,0,0.006374860119232837,0,0,0.007251656211902638,0,0]]]}}},\"view\":{\"type\":\"object\",\"name\":\"CDSView\",\"id\":\"p7216\",\"attributes\":{\"filter\":{\"type\":\"object\",\"name\":\"AllIndices\",\"id\":\"p7217\"}}},\"glyph\":{\"type\":\"object\",\"name\":\"Line\",\"id\":\"p7212\",\"attributes\":{\"x\":{\"type\":\"field\",\"field\":\"x\"},\"y\":{\"type\":\"field\",\"field\":\"y\"},\"line_color\":\"#1f77b4\"}},\"nonselection_glyph\":{\"type\":\"object\",\"name\":\"Line\",\"id\":\"p7213\",\"attributes\":{\"x\":{\"type\":\"field\",\"field\":\"x\"},\"y\":{\"type\":\"field\",\"field\":\"y\"},\"line_color\":\"#1f77b4\",\"line_alpha\":0.1}},\"muted_glyph\":{\"type\":\"object\",\"name\":\"Line\",\"id\":\"p7214\",\"attributes\":{\"x\":{\"type\":\"field\",\"field\":\"x\"},\"y\":{\"type\":\"field\",\"field\":\"y\"},\"line_color\":\"#1f77b4\",\"line_alpha\":0.2}}}}],\"toolbar\":{\"type\":\"object\",\"name\":\"Toolbar\",\"id\":\"p7185\",\"attributes\":{\"tools\":[{\"type\":\"object\",\"name\":\"PanTool\",\"id\":\"p7198\"},{\"type\":\"object\",\"name\":\"WheelZoomTool\",\"id\":\"p7199\",\"attributes\":{\"renderers\":\"auto\"}},{\"type\":\"object\",\"name\":\"BoxZoomTool\",\"id\":\"p7200\",\"attributes\":{\"overlay\":{\"type\":\"object\",\"name\":\"BoxAnnotation\",\"id\":\"p7201\",\"attributes\":{\"syncable\":false,\"level\":\"overlay\",\"visible\":false,\"left\":{\"type\":\"number\",\"value\":\"nan\"},\"right\":{\"type\":\"number\",\"value\":\"nan\"},\"top\":{\"type\":\"number\",\"value\":\"nan\"},\"bottom\":{\"type\":\"number\",\"value\":\"nan\"},\"left_units\":\"canvas\",\"right_units\":\"canvas\",\"top_units\":\"canvas\",\"bottom_units\":\"canvas\",\"line_color\":\"black\",\"line_alpha\":1.0,\"line_width\":2,\"line_dash\":[4,4],\"fill_color\":\"lightgrey\",\"fill_alpha\":0.5}}}},{\"type\":\"object\",\"name\":\"SaveTool\",\"id\":\"p7206\"},{\"type\":\"object\",\"name\":\"ResetTool\",\"id\":\"p7207\"},{\"type\":\"object\",\"name\":\"HelpTool\",\"id\":\"p7208\"}]}},\"toolbar_location\":null,\"left\":[{\"type\":\"object\",\"name\":\"LinearAxis\",\"id\":\"p7193\",\"attributes\":{\"ticker\":{\"type\":\"object\",\"name\":\"BasicTicker\",\"id\":\"p7194\",\"attributes\":{\"mantissas\":[1,2,5]}},\"formatter\":{\"type\":\"object\",\"name\":\"BasicTickFormatter\",\"id\":\"p7195\"},\"major_label_policy\":{\"type\":\"object\",\"name\":\"AllLabels\",\"id\":\"p7196\"}}}],\"below\":[{\"type\":\"object\",\"name\":\"LinearAxis\",\"id\":\"p7188\",\"attributes\":{\"ticker\":{\"type\":\"object\",\"name\":\"BasicTicker\",\"id\":\"p7189\",\"attributes\":{\"mantissas\":[1,2,5]}},\"formatter\":{\"type\":\"object\",\"name\":\"BasicTickFormatter\",\"id\":\"p7190\"},\"major_label_policy\":{\"type\":\"object\",\"name\":\"AllLabels\",\"id\":\"p7191\"}}}],\"center\":[{\"type\":\"object\",\"name\":\"Grid\",\"id\":\"p7192\",\"attributes\":{\"axis\":{\"id\":\"p7188\"}}},{\"type\":\"object\",\"name\":\"Grid\",\"id\":\"p7197\",\"attributes\":{\"dimension\":1,\"axis\":{\"id\":\"p7193\"}}},{\"type\":\"object\",\"name\":\"Legend\",\"id\":\"p7218\",\"attributes\":{\"items\":[{\"type\":\"object\",\"name\":\"LegendItem\",\"id\":\"p7219\",\"attributes\":{\"label\":{\"type\":\"value\",\"value\":\"Mass spectrum\"},\"renderers\":[{\"id\":\"p7215\"}]}}]}},{\"id\":\"p7220\"}]}}]}},{\"type\":\"object\",\"name\":\"Column\",\"id\":\"p7245\",\"attributes\":{\"children\":[{\"type\":\"object\",\"name\":\"Div\",\"id\":\"p7244\",\"attributes\":{\"text\":\"<img src=\\\"data:image/png;base64,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\\\" style=\\\"width:350px;height:350px;\\\">\"}},{\"type\":\"object\",\"name\":\"DataTable\",\"id\":\"p7238\",\"attributes\":{\"width\":250,\"height\":560,\"source\":{\"type\":\"object\",\"name\":\"ColumnDataSource\",\"id\":\"p7228\",\"attributes\":{\"selected\":{\"type\":\"object\",\"name\":\"Selection\",\"id\":\"p7229\",\"attributes\":{\"indices\":[],\"line_indices\":[]}},\"selection_policy\":{\"type\":\"object\",\"name\":\"UnionRenderers\",\"id\":\"p7230\"},\"data\":{\"type\":\"map\",\"entries\":[[\"groups\",[\"Carboxylic Acid\",\"Amide\",\"Amide\",\"Amine\",\"Sulfide\",\"Benzene\"]],[\"images\",[\"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\",\"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\",\"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\",\"iVBORw0KGgoAAAANSUhEUgAAASwAAAEsCAIAAAD2HxkiAAAIJklEQVR4nO3dXYhU9R/H8e9u5tOWpmGUURBCGUE3Sy6xlRF6EUJdRAReVERlKT1gXkQGRRAmESmFURGUQd2IdSFZVEQEIUUUaIJoXihkSmI+sLqVTRcN/zGpf6O585nc14u9+O3MOXO+i7w9w+yZ2Z5Go1FATm96ABjtRAhhIoQwEUKYCCFMhBAmQggTIYSJEMJECGEihDARQpgIIUyEECZCCBMhhIkQwkQIYSKEMBFCmAghTIQQJkIIEyGEiRDCRAhhIoQwEUKYCCFMhBAmQggTIYSJEMJECGEihDARQpgIIUyEECZCCBMhhIkQwkQIYSKEMBFCmAghTIQQJkIIEyGEiRDCRAhhIoQwEUKYCCFMhBAmQggTIYSJEMJECGEihDARQpgIIUyEECZCCBMhhIkQwkQIYSKEMBFCmAghTIQQJkIIEyGEiRDCRAhhIoQwEUKYCCFMhBAmQggTIYSJEMJECGEihDARQpgIIUyEECZCCBMhhIkQwkQIYSKEMBFCmAghTIQQJkIIEyGEiRDCRAhhIoQwEUKYCCFMhBAmQggTIYSJEMJECGEihDARQpgIIUyEECZCCBMhhIkQwkQIYSKEMBFCmAghTIQQJkIIEyGEiRDCRAhhIoQwEUKYCCFMhBAmQggbkx6A08rmzfX99831mWfW7Nlt7fXZZzU8XFU1YUINDv7prk2bat++5npgoMaObesBf/ihtm5trmfMqOnT29orpgGnzl13NapaX2vXtrXX9OnN7WfMOP6uuXNbj7ZjR7tjvPRSa68VK05g/ghPRxlBixbV/v3pIbqeCBlBu3bVU0+lh+h6ImRkrVxZX3+dHqK7iZCRMm5cVdXRo3XfffXbb+lpupgIGSmLFjUXX3xRL78cHaW7iZCRsnhxXXBBc/3oo61fXXAcETJS+vrqiSea6wMHasmS6DRdTISMoHvuqf7+5vrtt+u996LTdCsRMoJ6e2vlyurpaX770EN15Eh0oK4kQkbW4GDdemtzvW1bLVsWnaYruXaUEffss7VuXQ0NVVUtX17z59dll53M42zcWHv2tLXljh0n8/gpnYtwaGho6I9/h9NdT8+ERqMvPUUnjBtXZ5/9z5tdfHE99lg9/nhV1fBwLVhQn3zSeo7avnnzTniX/4aOXaW6dOnS9M/aIdde+/axFzGfxl8333z8v/KxF3Dv29e6fXi4MXNm66433/zTXm1ewH1yX91/AXfnzoR9fX3nnntuxw4X1NfXOzp+0Jo0qd0tx46tF16ouXOb3z7ySM2bV1OmjNBc/zXp/wU4rfzdmfAPt93WuvfBB1u3eysTdMiKFTV5cnO9alVt2hSdpmuIkM45//zWNTS//loPP5wcpnuIkI564IG68srm+uOPa9266DTdQYR01JgxtWpV6/cTS5bUL79EB+oCIqTTBgfrzjub6y1b6rXXksN0AxESsHx5TZ3aXD/5ZB0+HJ0mTYQETJtWTz/dXO/e3fpQw9HJtaNk3HtvvfFGbdiQnGHz5lq3rnburH37atq0Ghysm25q96NNTyERktHbWy++WAMDdfRo4OjbttXChfXRR9VotG5csaIuuqjeequuuaajw4iQmP7+WrCgVq3q9HG/+64GB2vPnurpqRtuqIGBGjOmvvqq1q+vnTvrxhtrw4a64orOzSNCkpYtq3feqV27OnrQBQtqz56aMqXWrq3rr2/dvnp13XFHHTpUS5fWu+92bh4vzJA0aVI980ynD3r//TVrVr3yyp8KrKrbb6+rr66qev/9jr5g29M49kkx/DtDQ80/7VJV55zT1psGG4366afmure3dXHpHw4cqJ9/bq6nTq3e9s4aR47UoUPN9Vln1fjxbe1VVUuW1HPPVVVt2VKXXtruXv+Sp6OcShMn1sSJJ7ZLT8//e09T+++WOtb48ScQ3rH+N0knXy7ydBRatm2rqjrjjLrwws4dVITQNDxc69dXVc2adZJn4JMjQmh6/fXavbuqauHCjh7XCzNQVbV1a/X318GDddVV9fnnNaaDr5Y4E0Lt3Vu33FIHD9bkybV6dUcLLBHC3r01Z05t3Fhjx9aaNTVzZqcHECGj2vbtNXt2ffNNjR9fa9fWnDmBGUTI6PXppzUwUN9+W+edVx98EPtwYREyGjUa9fzzNXdu/fhj9ffXl1/WddfFhnHFDKPO/v119921Zk1V1fz59eqrJ3yVz6nlVxSMLkNDdfnlzb8Y09NTl1zy15stWlSLF3doJGdCRpfDh1t/s6nRqO3b/3qzTn7ihggZXSZNqg8//OfN/u4MORI8HYUwr45CmAghTIQQJkIIEyGEiRDCRAhhIoQwEUKYCCFMhBAmQggTIYSJEMJECGEihDARQpgIIUyEECZCCBMhhIkQwkQIYSKEMBFCmAghTIQQJkIIEyGEiRDCRAhhIoQwEUKYCCFMhBAmQggTIYSJEMJECGEihDARQpgIIUyEECZCCBMhhIkQwkQIYSKEMBFCmAghTIQQJkIIEyGEiRDCRAhhIoQwEUKYCCFMhBAmQggTIYSJEMJECGEihDARQpgIIUyEECZCCBMhhIkQwkQIYSKEMBFCmAghTIQQJkIIEyGEiRDCRAhhIoQwEUKYCCFMhBAmQggTIYSJEMJECGEihDARQpgIIUyEECZCCBMhhIkQwkQIYSKEMBFCmAghTIQQJkIIEyGEiRDCRAhhIoQwEUKYCCFMhBAmQggTIYSJEMJECGEihDARQpgIIUyEECZCCBMhhIkQwkQIYSKEMBFCmAghTIQQJkIIEyGEiRDCRAhhvwNKipA7zEPRpgAAAABJRU5ErkJggg==\",\"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\",\"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\"]]]}}},\"view\":{\"type\":\"object\",\"name\":\"CDSView\",\"id\":\"p7242\",\"attributes\":{\"filter\":{\"type\":\"object\",\"name\":\"AllIndices\",\"id\":\"p7243\"}}},\"columns\":[{\"type\":\"object\",\"name\":\"TableColumn\",\"id\":\"p7231\",\"attributes\":{\"field\":\"groups\",\"title\":\"Functional Groups\",\"formatter\":{\"type\":\"object\",\"name\":\"StringFormatter\",\"id\":\"p7232\"},\"editor\":{\"type\":\"object\",\"name\":\"StringEditor\",\"id\":\"p7233\"}}},{\"type\":\"object\",\"name\":\"TableColumn\",\"id\":\"p7235\",\"attributes\":{\"field\":\"images\",\"title\":\"Images\",\"width\":200,\"formatter\":{\"type\":\"object\",\"name\":\"HTMLTemplateFormatter\",\"id\":\"p7234\",\"attributes\":{\"template\":\"\\n    <div>\\n        <img src=\\\"data:image/png;base64, <%= value %>\\\" style=\\\"width:50px;height:50px;\\\">\\n    </div>\\n    \"}},\"editor\":{\"type\":\"object\",\"name\":\"StringEditor\",\"id\":\"p7237\"}}}],\"row_height\":60}}]}}]}}],\"defs\":[{\"type\":\"model\",\"name\":\"ReactiveHTML1\"},{\"type\":\"model\",\"name\":\"FlexBox1\",\"properties\":[{\"name\":\"align_content\",\"kind\":\"Any\",\"default\":\"flex-start\"},{\"name\":\"align_items\",\"kind\":\"Any\",\"default\":\"flex-start\"},{\"name\":\"flex_direction\",\"kind\":\"Any\",\"default\":\"row\"},{\"name\":\"flex_wrap\",\"kind\":\"Any\",\"default\":\"wrap\"},{\"name\":\"gap\",\"kind\":\"Any\",\"default\":\"\"},{\"name\":\"justify_content\",\"kind\":\"Any\",\"default\":\"flex-start\"}]},{\"type\":\"model\",\"name\":\"FloatPanel1\",\"properties\":[{\"name\":\"config\",\"kind\":\"Any\",\"default\":{\"type\":\"map\"}},{\"name\":\"contained\",\"kind\":\"Any\",\"default\":true},{\"name\":\"position\",\"kind\":\"Any\",\"default\":\"right-top\"},{\"name\":\"offsetx\",\"kind\":\"Any\",\"default\":null},{\"name\":\"offsety\",\"kind\":\"Any\",\"default\":null},{\"name\":\"theme\",\"kind\":\"Any\",\"default\":\"primary\"},{\"name\":\"status\",\"kind\":\"Any\",\"default\":\"normalized\"}]},{\"type\":\"model\",\"name\":\"GridStack1\",\"properties\":[{\"name\":\"mode\",\"kind\":\"Any\",\"default\":\"warn\"},{\"name\":\"ncols\",\"kind\":\"Any\",\"default\":null},{\"name\":\"nrows\",\"kind\":\"Any\",\"default\":null},{\"name\":\"allow_resize\",\"kind\":\"Any\",\"default\":true},{\"name\":\"allow_drag\",\"kind\":\"Any\",\"default\":true},{\"name\":\"state\",\"kind\":\"Any\",\"default\":[]}]},{\"type\":\"model\",\"name\":\"drag1\",\"properties\":[{\"name\":\"slider_width\",\"kind\":\"Any\",\"default\":5},{\"name\":\"slider_color\",\"kind\":\"Any\",\"default\":\"black\"},{\"name\":\"value\",\"kind\":\"Any\",\"default\":50}]},{\"type\":\"model\",\"name\":\"click1\",\"properties\":[{\"name\":\"terminal_output\",\"kind\":\"Any\",\"default\":\"\"},{\"name\":\"debug_name\",\"kind\":\"Any\",\"default\":\"\"},{\"name\":\"clears\",\"kind\":\"Any\",\"default\":0}]},{\"type\":\"model\",\"name\":\"FastWrapper1\",\"properties\":[{\"name\":\"object\",\"kind\":\"Any\",\"default\":null},{\"name\":\"style\",\"kind\":\"Any\",\"default\":null}]},{\"type\":\"model\",\"name\":\"NotificationAreaBase1\",\"properties\":[{\"name\":\"js_events\",\"kind\":\"Any\",\"default\":{\"type\":\"map\"}},{\"name\":\"position\",\"kind\":\"Any\",\"default\":\"bottom-right\"},{\"name\":\"_clear\",\"kind\":\"Any\",\"default\":0}]},{\"type\":\"model\",\"name\":\"NotificationArea1\",\"properties\":[{\"name\":\"js_events\",\"kind\":\"Any\",\"default\":{\"type\":\"map\"}},{\"name\":\"notifications\",\"kind\":\"Any\",\"default\":[]},{\"name\":\"position\",\"kind\":\"Any\",\"default\":\"bottom-right\"},{\"name\":\"_clear\",\"kind\":\"Any\",\"default\":0},{\"name\":\"types\",\"kind\":\"Any\",\"default\":[{\"type\":\"map\",\"entries\":[[\"type\",\"warning\"],[\"background\",\"#ffc107\"],[\"icon\",{\"type\":\"map\",\"entries\":[[\"className\",\"fas fa-exclamation-triangle\"],[\"tagName\",\"i\"],[\"color\",\"white\"]]}]]},{\"type\":\"map\",\"entries\":[[\"type\",\"info\"],[\"background\",\"#007bff\"],[\"icon\",{\"type\":\"map\",\"entries\":[[\"className\",\"fas fa-info-circle\"],[\"tagName\",\"i\"],[\"color\",\"white\"]]}]]}]}]},{\"type\":\"model\",\"name\":\"Notification\",\"properties\":[{\"name\":\"background\",\"kind\":\"Any\",\"default\":null},{\"name\":\"duration\",\"kind\":\"Any\",\"default\":3000},{\"name\":\"icon\",\"kind\":\"Any\",\"default\":null},{\"name\":\"message\",\"kind\":\"Any\",\"default\":\"\"},{\"name\":\"notification_type\",\"kind\":\"Any\",\"default\":null},{\"name\":\"_destroyed\",\"kind\":\"Any\",\"default\":false}]},{\"type\":\"model\",\"name\":\"TemplateActions1\",\"properties\":[{\"name\":\"open_modal\",\"kind\":\"Any\",\"default\":0},{\"name\":\"close_modal\",\"kind\":\"Any\",\"default\":0}]},{\"type\":\"model\",\"name\":\"BootstrapTemplateActions1\",\"properties\":[{\"name\":\"open_modal\",\"kind\":\"Any\",\"default\":0},{\"name\":\"close_modal\",\"kind\":\"Any\",\"default\":0}]},{\"type\":\"model\",\"name\":\"TemplateEditor1\",\"properties\":[{\"name\":\"layout\",\"kind\":\"Any\",\"default\":[]}]},{\"type\":\"model\",\"name\":\"MaterialTemplateActions1\",\"properties\":[{\"name\":\"open_modal\",\"kind\":\"Any\",\"default\":0},{\"name\":\"close_modal\",\"kind\":\"Any\",\"default\":0}]},{\"type\":\"model\",\"name\":\"copy_to_clipboard1\",\"properties\":[{\"name\":\"fill\",\"kind\":\"Any\",\"default\":\"none\"},{\"name\":\"value\",\"kind\":\"Any\",\"default\":null}]}]}};\n  const render_items = [{\"docid\":\"a70b4a08-c06b-467b-abcd-0aa04a400376\",\"roots\":{\"p7246\":\"c3afc980-e521-47b4-878e-66eb5f2ec0c3\"},\"root_ids\":[\"p7246\"]}];\n  void root.Bokeh.embed.embed_items_notebook(docs_json, render_items);\n  }\n  if (root.Bokeh !== undefined) {\n    embed_document(root);\n  } else {\n    let attempts = 0;\n    const timer = setInterval(function(root) {\n      if (root.Bokeh !== undefined) {\n        clearInterval(timer);\n        embed_document(root);\n      } else {\n        attempts++;\n        if (attempts > 100) {\n          clearInterval(timer);\n          console.log(\"Bokeh: ERROR: Unable to run BokehJS code because BokehJS library is missing\");\n        }\n      }\n    }, 10, root)\n  }\n})(window);",
      "application/vnd.bokehjs_exec.v0+json": ""
     },
     "metadata": {
      "application/vnd.bokehjs_exec.v0+json": {
       "id": "p7246"
      }
     },
     "output_type": "display_data"
    }
   ],
   "source": [
    "import MASSiveChem.MASSiveChem as MC\n",
    "from bokeh.plotting import output_notebook, show\n",
    "\n",
    "output_notebook() #not necessary if you want to plot the image outside the outbook\n",
    "\n",
    "mol_smi = 'CC1(C(N2C(S1)C(C2=O)NC(=O)CC3=CC=CC=C3)C(=O)O)C'\n",
    "imprecision = True\n",
    "apparatus_resolution = 0.01\n",
    "\n",
    "mol = MC.SMILEs_interpreter(mol_smi)\n",
    "\n",
    "list_atoms = MC.molecule_list_generator(mol)\n",
    "\n",
    "list_atoms_postionisation = MC.ionisation_method(list_atoms)\n",
    "\n",
    "has_N, has_S, count_N, count_S = MC.sulphur_nitrogen_finder(list_atoms_postionisation)\n",
    "\n",
    "list_masses, list_abundances = MC.main_function(list_atoms_postionisation, imprecision)\n",
    "\n",
    "list_masses, list_abundances = MC.peak_merger(list_masses, list_abundances, apparatus_resolution)\n",
    "\n",
    "list_masses, list_abundances = MC.sulphur_nitrogen_adder(list_masses, list_abundances, has_N, has_S, count_N, count_S)\n",
    "\n",
    "list_masses_sorted, list_abundances_sorted = MC.peak_sorter(list_masses, list_abundances)\n",
    "\n",
    "list_masses_plot, list_abundances_plot = MC.delta_function_plotter(list_masses_sorted, list_abundances_sorted)\n",
    "\n",
    "spectrum = MC.double_plot(list_masses_plot,list_abundances_plot)\n",
    "\n",
    "functional_groups_contained = MC.functional_group_finder(mol_smi)\n",
    "\n",
    "functional_groups_plot = MC.functional_group_display(functional_groups_contained)\n",
    "\n",
    "molecule_plot = MC.mol_web_show(mol_smi)\n",
    "\n",
    "final_plot = MC.all_in_one(spectrum, molecule_plot, functional_groups_plot)\n",
    "\n",
    "show(final_plot)"
   ]
  },
  {
   "cell_type": "markdown",
   "metadata": {},
   "source": [
    "\n",
    "## spectrum(mol_smi, imprecision_True_False, apparatus_resolution)\n",
    "Running all these functions can be done using 1 single function called spectrum which can be run as the following:"
   ]
  },
  {
   "cell_type": "code",
   "execution_count": null,
   "metadata": {},
   "outputs": [],
   "source": [
    "import MASSiveChem.MASSiveChem as MC\n",
    "from bokeh.plotting import show\n",
    "\n",
    "mol_smi = 'CC1(C(N2C(S1)C(C2=O)NC(=O)CC3=CC=CC=C3)C(=O)O)C'\n",
    "imprecision = True\n",
    "apparatus_resolution = 0.01\n",
    "\n",
    "spectrum = MC.spectrum(mol_smi, imprecision, apparatus_resolution)\n",
    "\n",
    "show(spectrum)"
   ]
  },
  {
   "cell_type": "markdown",
   "metadata": {},
   "source": [
    "Finally, if you want to add the interactive 3D plot of the molecule you can use the following function\n",
    "\n",
    "## spectrum_3D(mol_smi, imprecision_True_False, apparatus_resolution)\n",
    "\n",
    "The function takes the same inputs as spectrum but adds the 3D interactive plot to the spectrum\n",
    "\n",
    "This function uses panel to combine bokeh and plotly graphs. Hence, if one wants to use the function several times, make sure to run it in a different terminal each time or the function will run indefinitely"
   ]
  },
  {
   "cell_type": "code",
   "execution_count": null,
   "metadata": {},
   "outputs": [],
   "source": [
    "import MASSiveChem.MASSiveChem as MC\n",
    "\n",
    "mol_smi = 'CC1(C(N2C(S1)C(C2=O)NC(=O)CC3=CC=CC=C3)C(=O)O)C'\n",
    "imprecision = True\n",
    "apparatus_resolution = 0.01\n",
    "\n",
    "spectrum = MC.spectrum_3D(mol_smi, imprecision, apparatus_resolution)\n",
    "\n",
    "spectrum.show()"
   ]
  },
  {
   "cell_type": "markdown",
   "metadata": {},
   "source": [
    "### Thanks for reading the notebook ! Hope you find it useful and interesting."
   ]
  }
 ],
 "metadata": {
  "kernelspec": {
   "display_name": "ppchem",
   "language": "python",
   "name": "python3"
  },
  "language_info": {
   "codemirror_mode": {
    "name": "ipython",
    "version": 3
   },
   "file_extension": ".py",
   "mimetype": "text/x-python",
   "name": "python",
   "nbconvert_exporter": "python",
   "pygments_lexer": "ipython3",
   "version": "3.10.12"
  }
 },
 "nbformat": 4,
 "nbformat_minor": 2
}
