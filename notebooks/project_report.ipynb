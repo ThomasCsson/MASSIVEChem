{
 "cells": [
  {
   "cell_type": "markdown",
   "metadata": {},
   "source": [
    "<div style=\"\n",
    "    display: flex;\n",
    "    justify-content: center;\n",
    "    align-items: center;\n",
    "    height: 100px;\n",
    "    border: 4px solid #32CD32;\n",
    "    border-radius: 15px;\n",
    "    background-color: #000000;\n",
    "    box-shadow: 0 4px 8px 0 rgba(255, 215, 0, 0.2);\n",
    "    margin: 20px;\n",
    "\">\n",
    "    <h1 style=\"\n",
    "        color: #32CD32;\n",
    "        font-family: 'Nexa','', ;\n",
    "        font-size: 52px;\n",
    "        text-shadow: 2px 2px 4px #32CD32;\n",
    "    \">\n",
    "        MASSIVEChem \n",
    "    </h1>\n",
    "</div>\n",
    "\n",
    "## Introduction\n",
    "The following Jupyter notebook briefly presents MASSIVEChem, a pip-installable python package. This package is developped around mass spectrometry, a tool commonly used in analytical chemistry, biochemistry, pharmaceutical sciences and more. Fundamentally, this package simulates and plots the mass spectrum of a given molecule, with a chosen resolution and with a chosen precision. \n",
    "\n",
    "This package was created as a collaborative project for the EPFL course Practical programming in chemistry [![GitHub3](https://img.shields.io/badge/EPFL-CH200-red.svg)](https://edu.epfl.ch/studyplan/en/bachelor/chemistry-and-chemical-engineering/coursebook/practical-programming-in-chemistry-CH-200)\n",
    "\n",
    "Before going through the code and the use of the package, let's briefly discuss the ideas that allowed to build this package\n",
    "\n",
    "## Ideas\n",
    "\n",
    "Initially, the plan for this project was to write a code that would predict the NMR spectrum of an input molecule. 3 weeks were spent trying to figure out a way to analyze molecules, to find functional groups, and to predict the shift of the hydrogens in a molecule. As the time was advancing, it became apparent to us that this project was beyond the scope of our abilities as it would most likely require the use of machine learning, a concept that none of us was familiar with. \n",
    "\n",
    "Still wanting to create a package that would display some type of visual information from a molecule, our minds collectively turned towards mass spectroscopy. Being familiar with the theoretical concepts behind this analytical method, having followed a course on mass spectroscopy in first year and having revisited the topic in our second-year electromagnetics course, we were more confident in our abilities regarding this idea.\n",
    "\n",
    "The concept of mass spectrometry consists of ionizing a molecule and passing this molecule in a strong magnetic field. Thanks to the Lorentz force, the molecule is deviated as a function of its mass which allows to separate the different isotopes present in a sample. By  putting a detector at the end, it is possible to determine which molecule was put in the mass spectrometer.\n",
    "\n",
    "\n",
    "\n",
    "Coding wise, simulating the mass spectrum was done by using list comprehension and combinatory probabilities. This involves a systematic breakdown of the process into discrete steps\n",
    "\n",
    "- Molecule Definition: First the molecules to be analyzed needs to be defined, specifying its masses and relative abundances. Each molecule can be represented as a data structure (a list) containing its atoms and abundance.\n",
    "\n",
    "- Fragmentation Simulation: Then, the fragmentation process needs to be simulated. This step involves generating all possible combinations of masses for each atom using the algorithm of probability trees. \n",
    "\n",
    "- Mass Calculation: The Mass of each fragment is calculated by summing the masses of the constituent atoms. This step ensures that each fragment is assigned an accurate mass value based on its atomic composition.\n",
    "\n",
    "- Combination of Fragments: At the end of the mass calculation process, all fragments are combined into a single list and the fragments with similar masses are combined. This aggregated list represents the collective set of fragments resulting from the analyzed molecules.\n",
    "\n",
    "- Mass Spectrum Simulation: This step involves estimating the abundance of each fragment considering both the relative abundances of the original molecules and the probabilities associated with each generated fragment. \n",
    "\n",
    "- Visualization: The mass spectrum can then be plotted using a plotting package. In our case we chose bokeh.\n",
    "\n",
    "Once that the spectrum was simulated we thought of different feature to add to the spectrum to facilitate its comprehension. First we added an image of the molecule using rdkit.Draw. Then we developped a function to recognise the functional groups present in the molecule and as well as a function to show them. To make the spectrum more interactive, we added a second plot which allows to see where the user is zooming on the principal graph. Finally, we decided to add a function to show an interactive 3D graph of the molecule using xyz2graph package.\n",
    "\n",
    "\n",
    "## Difficulties\n",
    "\n",
    "Once we had written the code that would do the actual computation of the different combinations of isotopes that can compose the molecule (with their relative probabilities of existing), it became very noticeable that the time complexity of the algorithm was subpar (being of roughly $2^n$ with n being the number of atoms in the molecule; the code would take ~30s to run for pentane). To remedy this fact, a part of code was implemented that would disregard any molecule with a probability of under $10^{-6}$ of existing (this reduced the time complexity form $2^n$ to n).\n",
    "\n",
    "Another difficulty encountered was importing data.\n",
    "The initial project included a data folder for importing the abundances of the various isotopes. Unfortunately, when the package was exported via pypi, the files inside the folder mentioned were not included. Once installed, the package could not read the data files required for the package to function correctly.\n",
    "Despite various attempts to include these data files in the package, we had to come up with another solution that did not use this folder. As the initial code used the path to this folder to read the isotope abundances, we had to modify the code written so far to integrate the data directly without using an external file. This can be seen at the beginning of the spectrum function. \n",
    "In the end, the problem was solved, although this required some 70 extra lines of code, whereas one would normally have sufficed. \n",
    "\n",
    "Finding a good tool to create the mass spectrum graph was also a challenge. Various tools such as matplotlib or plotly can be used to create good quality graphs, but none of them met the three criteria we wanted: precision, interactivity and aesthetics. So we had to explore tools that allowed us to do this, and we chose to use Bokeh. It allowed us to generate graphs as we wanted them and with excellent quality. None of us had used it before, so we had to do a lot of research to learn how to use it correctly and effectively.\n",
    "\n",
    "Another difficulty arose directly from the SMILES, which we used to detect the different functional groups present. We had to create a code that differentiated between the groups, using SMARTS in particular, which enabled us to specify the differences and in particular the bonds.\n",
    "Take an ester, for example. The system detects a carboxylic acid when it's not one so we had to specify this using the following SMARTS \"CC(=O)[Oh0]\". Which specifies that the oxygen does not have a bond with a hydrogen.\n",
    "All the different smarts used are present in the function \"functional_group_display\" in the scripts folder. \n",
    "\n",
    "## Limitations\n",
    "\n",
    "The complete package does, however, have a few limitations. \n",
    "Firstly, pure elements and other molecules such as proteins and polysaccharides do not have their own SMILES. It is therefore impossible to visualise their mass spectra using this package. \n",
    "However, we believe that it would be possible to implement these molecules without SMILES using other encoding methods.\n",
    "\n",
    "The second is obviously time. The more complex the molecule, the more atoms it contains, the longer it will take to run the programme. \n",
    "\n",
    "*Example* : \n",
    "spectrum(mol_smi, imprecision_True_False, apparatus_resolution)\n",
    "\n",
    "1) If imprecision_True_False = True, we have a complexity of $n$\n",
    "2) If imprecision_True_False = False, we have a complexity of $2^{n}$ \n",
    "\n",
    "Where n = number of atoms in the molecule"
   ]
  },
  {
   "cell_type": "markdown",
   "metadata": {},
   "source": [
    "## Usage"
   ]
  },
  {
   "cell_type": "markdown",
   "metadata": {},
   "source": [
    "Once the package is installed following the README, a whole set of functions will be imported.\n",
    "For example, to use the function that takes a molecule under SMILEs representation, a precision boolean and an apparatus resolution as inputs, and outputs the spectrum, one has to do the following:"
   ]
  },
  {
   "cell_type": "code",
   "execution_count": null,
   "metadata": {},
   "outputs": [],
   "source": [
    "import MASSiveChem.MASSiveChem as MC\n",
    "from bokeh.plotting import show, output_notebook\n",
    "output_notebook()\n",
    "show(MC.spectrum('CC1(C(N2C(S1)C(C2=O)NC(=O)CC3=CC=CC=C3)C(=O)O)C', True, 0.01))"
   ]
  },
  {
   "cell_type": "markdown",
   "metadata": {},
   "source": [
    "Note: the second argument here being True indicates that the function will neglect any ions which have a probability of apparation under 0.00001"
   ]
  },
  {
   "cell_type": "markdown",
   "metadata": {},
   "source": [
    "## Examples of functions and their respective inputs and outputs\n",
    "First, here is a list of the functions that come with the package: \n",
    "\n",
    "## Basic functions\n",
    "- calculate_unsaturation(mol_smi)->unsaturation\n",
    "\n",
    "- SMILEs_interpreter(mol_smi)->mol\n",
    "\n",
    "- molecule_list_generator(mol)->list_atoms\n",
    "\n",
    "- ionisation_method(list_atoms)->list_atoms\n",
    "\n",
    "- sulphur_nitrogen_finder(list_atoms)->has_N, has_S, count_N, count_S\n",
    "\n",
    "- main_function(list_atoms, imprecision_True_false)->list_masses, list_abundances\n",
    "\n",
    "- peak_merger(list_ions, list_abundances)->list_masses, list_abundances\n",
    "\n",
    "- sulphur_nitrogen_adder(list_ions, list_abundances, has_N, has_S, count_N, count_S)->list_masses, list_abundances\n",
    "\n",
    "- peak_sorter(list_masses, list_abundances)->list_masses, list_abundances\n",
    "\n",
    "- delta_function_plotter(list_masses, list_abundances)->list_masses, list_abundances\n",
    "\n",
    "- double_plot(list_masses, list_abundances)->bokeh_plot_1, bokeh_plot_2\n",
    "\n",
    "- functional_group_finder(mol_smi)->list_functional, groups_contained\n",
    "\n",
    "- functional_group_display(ist_functionalgroups_contained)-> bokeh_plot_3\n",
    "\n",
    "- mol_web_show(mol_smi)->bokeh_plot_4\n",
    "\n",
    "- all_in_one(bokeh_plot_1, bokeh_plot_2, bokeh_plot_3)-> bokeh_plot_final\n",
    "\n",
    "- smiles_to_3D_plot(mol_smi)-> 3D_panel_plot"
   ]
  },
  {
   "cell_type": "markdown",
   "metadata": {},
   "source": [
    "from all of these functions, the following two main functions are most useful:\n",
    "## Main functions"
   ]
  },
  {
   "cell_type": "markdown",
   "metadata": {},
   "source": [
    "\n",
    "\n",
    "- spectrum(mol_smi, imprecision_True_False, apparatus_resolution)\n",
    "\n",
    "- specturm_3D(mol_smi, imprecision_True_False, apparatus_resolution)\n",
    "\n",
    "## Functionality\n",
    "The main functions can both be made by combining the basic functions.\n",
    "\n",
    "# Examples\n",
    "First, all of the basic functions will be shown, in order to then construct spectrum and spectrum_3D out of them. The plots are fully interactive, so you can zoom in on the areas you want. \n",
    "\n"
   ]
  },
  {
   "cell_type": "markdown",
   "metadata": {},
   "source": [
    "## SMILEs interpreter\n",
    "This function takes a molecule under SMILEs representation as input and output its MOL represerntation"
   ]
  },
  {
   "cell_type": "code",
   "execution_count": null,
   "metadata": {},
   "outputs": [],
   "source": [
    "import MASSiveChem.MASSiveChem as MC\n",
    "print(MC.SMILEs_interpreter('CC1(C(N2C(S1)C(C2=O)NC(=O)CC3=CC=CC=C3)C(=O)O)C'))"
   ]
  },
  {
   "cell_type": "markdown",
   "metadata": {},
   "source": [
    "## molecule_list_generator\n",
    "This function takes a MOL representation as input and outputs a list of all of the atoms within that molecule"
   ]
  },
  {
   "cell_type": "code",
   "execution_count": null,
   "metadata": {},
   "outputs": [],
   "source": [
    "import MASSiveChem.MASSiveChem as MC\n",
    "mol = MC.SMILEs_interpreter('CC1(C(N2C(S1)C(C2=O)NC(=O)CC3=CC=CC=C3)C(=O)O)C')\n",
    "print(MC.molecule_list_generator(mol))"
   ]
  },
  {
   "cell_type": "markdown",
   "metadata": {},
   "source": [
    "## ionisation_method(list_atoms)\n",
    "This function takes a list of atoms as input and simply outputs the same list with a proton less (in essence, a hydrogen atom)"
   ]
  },
  {
   "cell_type": "code",
   "execution_count": null,
   "metadata": {},
   "outputs": [],
   "source": [
    "import MASSiveChem.MASSiveChem as MC\n",
    "\n",
    "list_atoms = ['C', 'C', 'C', 'N', 'C', 'S', 'C',\n",
    "            'C', 'O', 'N', 'C', 'O', 'C', 'C',\n",
    "            'C', 'C', 'C', 'C', 'C', 'C', 'O',\n",
    "            'O', 'C', 'H', 'H', 'H', 'H', 'H',\n",
    "            'H', 'H', 'H', 'H', 'H', 'H', 'H',\n",
    "            'H', 'H', 'H', 'H', 'H', 'H']\n",
    "\n",
    "print(MC.ionisation_method(list_atoms))"
   ]
  },
  {
   "cell_type": "markdown",
   "metadata": {},
   "source": [
    "## sulphur_nitrogen_finder(list_atoms)\n",
    "This function takes a list of atoms as input and output four values: has_N, has_S, count_N and count_S.\n",
    "has_N & has_S are True if there is an odd number of Nitrogen and Sulphur repsectively, and False otherwise."
   ]
  },
  {
   "cell_type": "code",
   "execution_count": null,
   "metadata": {},
   "outputs": [],
   "source": [
    "import MASSiveChem.MASSiveChem as MC\n",
    "\n",
    "list_atoms = ['C', 'C', 'C', 'N', 'C', 'S', 'C',\n",
    "            'C', 'O', 'N', 'C', 'O', 'C', 'C',\n",
    "            'C', 'C', 'C', 'C', 'C', 'C', 'O',\n",
    "            'O', 'C', 'H', 'H', 'H', 'H', 'H',\n",
    "            'H', 'H', 'H', 'H', 'H', 'H', 'H',\n",
    "            'H', 'H', 'H', 'H', 'H']\n",
    "\n",
    "output = (MC.sulphur_nitrogen_finder(list_atoms))\n",
    "print(output)"
   ]
  },
  {
   "cell_type": "markdown",
   "metadata": {},
   "source": [
    "## main_function(list_atoms)\n",
    "This function takes a list of atoms as an input, and will output two lists.\n",
    "\n",
    "The first (list_masses) is a list of the masses of all of the possible combinations of isotopes that can form the given molecule (under list representation) and the second (list_abundances) is a list of the probabilities of apparition of each of these combinations of isotopes.\n",
    "\n",
    "As such, both lists are the same length and the mass at index i in list_masses has the probability at index i in list_abundances associated to it."
   ]
  },
  {
   "cell_type": "code",
   "execution_count": null,
   "metadata": {},
   "outputs": [],
   "source": [
    "import MASSiveChem.MASSiveChem as MC\n",
    "\n",
    "output = MC.main_function(['C', 'C', 'C', 'N', 'C', 'S', 'C','C', 'O', 'N', 'C', 'O', 'C', 'C',\n",
    "                            'C', 'C', 'C', 'C', 'C', 'C', 'O','O', 'C', 'H', 'H', 'H', 'H', 'H',\n",
    "                            'H', 'H', 'H', 'H', 'H', 'H', 'H','H', 'H', 'H', 'H', 'H'], True)\n",
    "\n",
    "print(output)"
   ]
  },
  {
   "cell_type": "markdown",
   "metadata": {},
   "source": [
    "## peak_merger(list_masses, list_abundances)\n",
    "This function takes the two lists outputted by main_function, and merges the values in list_abundances if their values in list_masses are the same."
   ]
  },
  {
   "cell_type": "code",
   "execution_count": null,
   "metadata": {},
   "outputs": [],
   "source": [
    "import MASSiveChem.MASSiveChem as MC\n",
    "\n",
    "output = MC.peak_merger([336.09, 334.094, 336.084, 334.088, 337.086, 335.087, 334.09, 335.095, 334.095, 334.097, 333.091, 334.09], \n",
    "                        [0.006155135615344779, 0.1389218494465703, 0.00025689925174544854, 0.005798234418254755, 0.00016431194999935186,\n",
    "                        0.03458766547486355, 0.006161698124975695, 0.006260193058916763, 0.001252038611783352, 0.0019909461317594106, \n",
    "                        0.7806460744469201, 0.006245168595575361],\n",
    "                        0.01)\n",
    "\n",
    "print(output)"
   ]
  },
  {
   "cell_type": "markdown",
   "metadata": {},
   "source": [
    "## Sulphur_nitrogen_adder(x_in, y_in, has_N, has_S, count_N, count_S)\n",
    "This function takes the two outputted lists from peak_merger and adds the values for the sulphur and nitrogen peaks (if they need adding)"
   ]
  },
  {
   "cell_type": "code",
   "execution_count": null,
   "metadata": {},
   "outputs": [],
   "source": [
    "import MASSiveChem.MASSiveChem as MC\n",
    "\n",
    "x_in = [335.092, 335.086, 333.71807812500003, 334.09]\n",
    "y_in = [0.14507698506191508, 0.006055133670000204, 0.8310629277992183, 0.006245168595575361]\n",
    "has_N = False\n",
    "has_S = True\n",
    "count_N = 0\n",
    "count_S = 1\n",
    "\n",
    "output = MC.sulphur_nitrogen_adder(x_in, y_in, has_N, has_S, count_N, count_S)\n",
    "\n",
    "print(output)"
   ]
  },
  {
   "cell_type": "markdown",
   "metadata": {},
   "source": [
    "## peak_sorter(x_in, y_in)\n",
    "\n",
    "This function takes the two lists outputted by the previous function, and sorts them in order for the values in x_in to be increasing, whilst keeping the elements in y_in associated to the correct x_iin values."
   ]
  },
  {
   "cell_type": "code",
   "execution_count": null,
   "metadata": {},
   "outputs": [],
   "source": [
    "import MASSiveChem.MASSiveChem as MC\n",
    "\n",
    "x_in = [335.092, 335.086, 333.71807812500003, 334.09, 335.082]\n",
    "y_in = [0.14507698506191508, 0.006055133670000204, 0.8310629277992183, 0.006245168595575361, 0.006245168595575361]\n",
    "\n",
    "output = MC.peak_sorter(x_in, y_in)\n",
    "\n",
    "print(output)"
   ]
  },
  {
   "cell_type": "markdown",
   "metadata": {},
   "source": [
    "## delta_function_plotter(x_in, y_in)\n",
    "\n",
    "This function takes the two lists from the previous function, and then adds values of 0 on the x axis around each point, in effect causing the points to form a Dirac delta function when plotted with a simple line connecting the points."
   ]
  },
  {
   "cell_type": "code",
   "execution_count": null,
   "metadata": {},
   "outputs": [],
   "source": [
    "import MASSiveChem.MASSiveChem as MC\n",
    "\n",
    "x_in = [333.71807812500003, 334.09, 335.082, 335.086, 335.092]\n",
    "y_in = [0.8310629277992183, 0.006245168595575361, 0.006245168595575361, 0.006055133670000204, 0.14507698506191508]\n",
    "\n",
    "output = MC.delta_function_plotter(x_in, y_in)\n",
    "\n",
    "print(output)"
   ]
  },
  {
   "cell_type": "markdown",
   "metadata": {},
   "source": [
    "## double_plot(x_in,y_in)\n",
    "\n",
    "This function takes as an input the list of the masses (x_in) and the list of their intensities (y_in) and plot them on a bokeh interface. The graph is interactive to be able to zoom on peaks."
   ]
  },
  {
   "cell_type": "code",
   "execution_count": null,
   "metadata": {},
   "outputs": [],
   "source": [
    "import MASSiveChem.MASSiveChem as MC\n",
    "from bokeh.plotting import output_notebook, show\n",
    "\n",
    "output_notebook() #not necessary if you want to plot the image outside the outbook\n",
    "\n",
    "x_in = [333.21807812500003, 333.71807812500003, 333.71807812500003, 333.71807812500003, 334.09, 334.09, 334.09, 335.082, 335.082, 335.082, 335.086, 335.086, 335.086, 335.092, 335.092, 335.092, 336.092]\n",
    "y_in = [0, 0, 0.8310629277992183, 0, 0, 0.006245168595575361, 0, 0, 0.006245168595575361, 0, 0, 0.006055133670000204, 0, 0, 0.14507698506191508, 0, 0]\n",
    "\n",
    "output = MC.double_plot(x_in,y_in)\n",
    "\n",
    "show(output)"
   ]
  },
  {
   "cell_type": "markdown",
   "metadata": {},
   "source": [
    "## functional_group_finder(mol_smi)\n",
    "This function takes in the smiles of a given molecule, and outputs a list of all of the contained functional groups (the list contains the names of the functional groups)"
   ]
  },
  {
   "cell_type": "code",
   "execution_count": null,
   "metadata": {},
   "outputs": [],
   "source": [
    "import MASSiveChem.MASSiveChem as MC\n",
    "\n",
    "mol_smi = 'CC1(C(N2C(S1)C(C2=O)NC(=O)CC3=CC=CC=C3)C(=O)O)C'\n",
    "\n",
    "output = MC.functional_group_finder(mol_smi)\n",
    "\n",
    "print(output)"
   ]
  },
  {
   "cell_type": "markdown",
   "metadata": {},
   "source": [
    "## functional_group_display(contained_functional_groups)\n",
    "\n",
    "This function takes as an input the list of the contained functional groups of the molecule and plots a table of the functional groups in a bokeh interface"
   ]
  },
  {
   "cell_type": "code",
   "execution_count": null,
   "metadata": {},
   "outputs": [],
   "source": [
    "import MASSiveChem.MASSiveChem as MC\n",
    "from bokeh.plotting import output_notebook, show\n",
    "\n",
    "output_notebook() #not necessary if you want to plot the image outside the\n",
    "\n",
    "functional_groups = ['Carboxylic Acid', 'Amide', 'Amide', 'Amine', 'Sulfide', 'Benzene']\n",
    "\n",
    "output = MC.functional_group_display(functional_groups)\n",
    "\n",
    "show(output)"
   ]
  },
  {
   "cell_type": "markdown",
   "metadata": {},
   "source": [
    "## mol_web_show(mol_smi, show_Hs=False, show_3D = False)\n",
    "\n",
    "This function takes as an input the SMILEs of the molecule and plots the image of the molecule in a bokeh interface"
   ]
  },
  {
   "cell_type": "code",
   "execution_count": null,
   "metadata": {},
   "outputs": [],
   "source": [
    "import MASSiveChem.MASSiveChem as MC\n",
    "from bokeh.plotting import output_notebook, show\n",
    "\n",
    "output_notebook() #not necessary if you want to plot the image outside the notebook\n",
    "\n",
    "mol_smi = 'CC1(C(N2C(S1)C(C2=O)NC(=O)CC3=CC=CC=C3)C(=O)O)C'\n",
    "\n",
    "output = MC.mol_web_show(mol_smi)\n",
    "\n",
    "show(output)"
   ]
  },
  {
   "cell_type": "markdown",
   "metadata": {},
   "source": [
    "## all_in_one(p1, p2, p3)\n",
    "\n",
    "This function takes as an input 3 bokeh plots and put them together in one bokeh interface NOT READY"
   ]
  },
  {
   "cell_type": "code",
   "execution_count": null,
   "metadata": {},
   "outputs": [],
   "source": [
    "import MASSiveChem.MASSiveChem as MC\n",
    "from bokeh.plotting import output_notebook, show\n",
    "\n",
    "output_notebook() #not necessary if you want to plot the image outside the outbook\n",
    "\n",
    "mol_smi = 'CC1(C(N2C(S1)C(C2=O)NC(=O)CC3=CC=CC=C3)C(=O)O)C'\n",
    "functional_groups = ['Carboxylic Acid', 'Amide', 'Amide', 'Amine', 'Sulfide', 'Benzene']\n",
    "\n",
    "x_in = [333.21807812500003, 333.71807812500003, 333.71807812500003, 333.71807812500003, 334.09, 334.09, 334.09, 335.082, 335.082, 335.082, 335.086, 335.086, 335.086, 335.092, 335.092, 335.092, 336.092]\n",
    "y_in = [0, 0, 0.8310629277992183, 0, 0, 0.006245168595575361, 0, 0, 0.006245168595575361, 0, 0, 0.006055133670000204, 0, 0, 0.14507698506191508, 0, 0]\n",
    "\n",
    "p1 = MC.double_plot(x_in,y_in)\n",
    "p2 = MC.mol_web_show(mol_smi)\n",
    "p3 = MC.functional_group_display(functional_groups)\n",
    "\n",
    "output = MC.all_in_one(p1,p2,p3)\n",
    "\n",
    "show(output)"
   ]
  },
  {
   "cell_type": "markdown",
   "metadata": {},
   "source": [
    "## smiles_to_3D_plot(mol_smi)\n",
    "\n",
    "This function takes as an input the SMILEs of a molecule and plots it in 3D in an interactive graph"
   ]
  },
  {
   "cell_type": "code",
   "execution_count": null,
   "metadata": {},
   "outputs": [],
   "source": [
    "import MASSiveChem.MASSiveChem as MC\n",
    "\n",
    "mol_smi = 'CC1(C(N2C(S1)C(C2=O)NC(=O)CC3=CC=CC=C3)C(=O)O)C'\n",
    "\n",
    "output =MC.smiles_to_3D_plot(mol_smi)\n",
    "\n",
    "output"
   ]
  },
  {
   "cell_type": "markdown",
   "metadata": {},
   "source": [
    "## Full function\n",
    "\n",
    "Now that these small constituant functions have been layed out, we can see how the main function, MC.spectrum, is formed. The functions above, when combined in the correct order, create the function called MC.spectrum. This looks something like this:"
   ]
  },
  {
   "cell_type": "code",
   "execution_count": 2,
   "metadata": {},
   "outputs": [
    {
     "data": {
      "text/html": [
       "    <style>\n",
       "        .bk-notebook-logo {\n",
       "            display: block;\n",
       "            width: 20px;\n",
       "            height: 20px;\n",
       "            background-image: url(data:image/png;base64,iVBORw0KGgoAAAANSUhEUgAAABQAAAAUCAYAAACNiR0NAAAABHNCSVQICAgIfAhkiAAAAAlwSFlzAAALEgAACxIB0t1+/AAAABx0RVh0U29mdHdhcmUAQWRvYmUgRmlyZXdvcmtzIENTNui8sowAAAOkSURBVDiNjZRtaJVlGMd/1/08zzln5zjP1LWcU9N0NkN8m2CYjpgQYQXqSs0I84OLIC0hkEKoPtiH3gmKoiJDU7QpLgoLjLIQCpEsNJ1vqUOdO7ppbuec5+V+rj4ctwzd8IIbbi6u+8f1539dt3A78eXC7QizUF7gyV1fD1Yqg4JWz84yffhm0qkFqBogB9rM8tZdtwVsPUhWhGcFJngGeWrPzHm5oaMmkfEg1usvLFyc8jLRqDOMru7AyC8saQr7GG7f5fvDeH7Ej8CM66nIF+8yngt6HWaKh7k49Soy9nXurCi1o3qUbS3zWfrYeQDTB/Qj6kX6Ybhw4B+bOYoLKCC9H3Nu/leUTZ1JdRWkkn2ldcCamzrcf47KKXdAJllSlxAOkRgyHsGC/zRday5Qld9DyoM4/q/rUoy/CXh3jzOu3bHUVZeU+DEn8FInkPBFlu3+nW3Nw0mk6vCDiWg8CeJaxEwuHS3+z5RgY+YBR6V1Z1nxSOfoaPa4LASWxxdNp+VWTk7+4vzaou8v8PN+xo+KY2xsw6une2frhw05CTYOmQvsEhjhWjn0bmXPjpE1+kplmmkP3suftwTubK9Vq22qKmrBhpY4jvd5afdRA3wGjFAgcnTK2s4hY0/GPNIb0nErGMCRxWOOX64Z8RAC4oCXdklmEvcL8o0BfkNK4lUg9HTl+oPlQxdNo3Mg4Nv175e/1LDGzZen30MEjRUtmXSfiTVu1kK8W4txyV6BMKlbgk3lMwYCiusNy9fVfvvwMxv8Ynl6vxoByANLTWplvuj/nF9m2+PDtt1eiHPBr1oIfhCChQMBw6Aw0UulqTKZdfVvfG7VcfIqLG9bcldL/+pdWTLxLUy8Qq38heUIjh4XlzZxzQm19lLFlr8vdQ97rjZVOLf8nclzckbcD4wxXMidpX30sFd37Fv/GtwwhzhxGVAprjbg0gCAEeIgwCZyTV2Z1REEW8O4py0wsjeloKoMr6iCY6dP92H6Vw/oTyICIthibxjm/DfN9lVz8IqtqKYLUXfoKVMVQVVJOElGjrnnUt9T9wbgp8AyYKaGlqingHZU/uG2NTZSVqwHQTWkx9hxjkpWDaCg6Ckj5qebgBVbT3V3NNXMSiWSDdGV3hrtzla7J+duwPOToIg42ChPQOQjspnSlp1V+Gjdged7+8UN5CRAV7a5EdFNwCjEaBR27b3W890TE7g24NAP/mMDXRWrGoFPQI9ls/MWO2dWFAar/xcOIImbbpA3zgAAAABJRU5ErkJggg==);\n",
       "        }\n",
       "    </style>\n",
       "    <div>\n",
       "        <a href=\"https://bokeh.org\" target=\"_blank\" class=\"bk-notebook-logo\"></a>\n",
       "        <span id=\"d2988025-f39d-49da-bde9-bcaff5324534\">Loading BokehJS ...</span>\n",
       "    </div>\n"
      ]
     },
     "metadata": {},
     "output_type": "display_data"
    },
    {
     "data": {
      "application/javascript": "'use strict';\n(function(root) {\n  function now() {\n    return new Date();\n  }\n\n  const force = true;\n\n  if (typeof root._bokeh_onload_callbacks === \"undefined\" || force === true) {\n    root._bokeh_onload_callbacks = [];\n    root._bokeh_is_loading = undefined;\n  }\n\nconst JS_MIME_TYPE = 'application/javascript';\n  const HTML_MIME_TYPE = 'text/html';\n  const EXEC_MIME_TYPE = 'application/vnd.bokehjs_exec.v0+json';\n  const CLASS_NAME = 'output_bokeh rendered_html';\n\n  /**\n   * Render data to the DOM node\n   */\n  function render(props, node) {\n    const script = document.createElement(\"script\");\n    node.appendChild(script);\n  }\n\n  /**\n   * Handle when an output is cleared or removed\n   */\n  function handleClearOutput(event, handle) {\n    function drop(id) {\n      const view = Bokeh.index.get_by_id(id)\n      if (view != null) {\n        view.model.document.clear()\n        Bokeh.index.delete(view)\n      }\n    }\n\n    const cell = handle.cell;\n\n    const id = cell.output_area._bokeh_element_id;\n    const server_id = cell.output_area._bokeh_server_id;\n\n    // Clean up Bokeh references\n    if (id != null) {\n      drop(id)\n    }\n\n    if (server_id !== undefined) {\n      // Clean up Bokeh references\n      const cmd_clean = \"from bokeh.io.state import curstate; print(curstate().uuid_to_server['\" + server_id + \"'].get_sessions()[0].document.roots[0]._id)\";\n      cell.notebook.kernel.execute(cmd_clean, {\n        iopub: {\n          output: function(msg) {\n            const id = msg.content.text.trim()\n            drop(id)\n          }\n        }\n      });\n      // Destroy server and session\n      const cmd_destroy = \"import bokeh.io.notebook as ion; ion.destroy_server('\" + server_id + \"')\";\n      cell.notebook.kernel.execute(cmd_destroy);\n    }\n  }\n\n  /**\n   * Handle when a new output is added\n   */\n  function handleAddOutput(event, handle) {\n    const output_area = handle.output_area;\n    const output = handle.output;\n\n    // limit handleAddOutput to display_data with EXEC_MIME_TYPE content only\n    if ((output.output_type != \"display_data\") || (!Object.prototype.hasOwnProperty.call(output.data, EXEC_MIME_TYPE))) {\n      return\n    }\n\n    const toinsert = output_area.element.find(\".\" + CLASS_NAME.split(' ')[0]);\n\n    if (output.metadata[EXEC_MIME_TYPE][\"id\"] !== undefined) {\n      toinsert[toinsert.length - 1].firstChild.textContent = output.data[JS_MIME_TYPE];\n      // store reference to embed id on output_area\n      output_area._bokeh_element_id = output.metadata[EXEC_MIME_TYPE][\"id\"];\n    }\n    if (output.metadata[EXEC_MIME_TYPE][\"server_id\"] !== undefined) {\n      const bk_div = document.createElement(\"div\");\n      bk_div.innerHTML = output.data[HTML_MIME_TYPE];\n      const script_attrs = bk_div.children[0].attributes;\n      for (let i = 0; i < script_attrs.length; i++) {\n        toinsert[toinsert.length - 1].firstChild.setAttribute(script_attrs[i].name, script_attrs[i].value);\n        toinsert[toinsert.length - 1].firstChild.textContent = bk_div.children[0].textContent\n      }\n      // store reference to server id on output_area\n      output_area._bokeh_server_id = output.metadata[EXEC_MIME_TYPE][\"server_id\"];\n    }\n  }\n\n  function register_renderer(events, OutputArea) {\n\n    function append_mime(data, metadata, element) {\n      // create a DOM node to render to\n      const toinsert = this.create_output_subarea(\n        metadata,\n        CLASS_NAME,\n        EXEC_MIME_TYPE\n      );\n      this.keyboard_manager.register_events(toinsert);\n      // Render to node\n      const props = {data: data, metadata: metadata[EXEC_MIME_TYPE]};\n      render(props, toinsert[toinsert.length - 1]);\n      element.append(toinsert);\n      return toinsert\n    }\n\n    /* Handle when an output is cleared or removed */\n    events.on('clear_output.CodeCell', handleClearOutput);\n    events.on('delete.Cell', handleClearOutput);\n\n    /* Handle when a new output is added */\n    events.on('output_added.OutputArea', handleAddOutput);\n\n    /**\n     * Register the mime type and append_mime function with output_area\n     */\n    OutputArea.prototype.register_mime_type(EXEC_MIME_TYPE, append_mime, {\n      /* Is output safe? */\n      safe: true,\n      /* Index of renderer in `output_area.display_order` */\n      index: 0\n    });\n  }\n\n  // register the mime type if in Jupyter Notebook environment and previously unregistered\n  if (root.Jupyter !== undefined) {\n    const events = require('base/js/events');\n    const OutputArea = require('notebook/js/outputarea').OutputArea;\n\n    if (OutputArea.prototype.mime_types().indexOf(EXEC_MIME_TYPE) == -1) {\n      register_renderer(events, OutputArea);\n    }\n  }\n  if (typeof (root._bokeh_timeout) === \"undefined\" || force === true) {\n    root._bokeh_timeout = Date.now() + 5000;\n    root._bokeh_failed_load = false;\n  }\n\n  const NB_LOAD_WARNING = {'data': {'text/html':\n     \"<div style='background-color: #fdd'>\\n\"+\n     \"<p>\\n\"+\n     \"BokehJS does not appear to have successfully loaded. If loading BokehJS from CDN, this \\n\"+\n     \"may be due to a slow or bad network connection. Possible fixes:\\n\"+\n     \"</p>\\n\"+\n     \"<ul>\\n\"+\n     \"<li>re-rerun `output_notebook()` to attempt to load from CDN again, or</li>\\n\"+\n     \"<li>use INLINE resources instead, as so:</li>\\n\"+\n     \"</ul>\\n\"+\n     \"<code>\\n\"+\n     \"from bokeh.resources import INLINE\\n\"+\n     \"output_notebook(resources=INLINE)\\n\"+\n     \"</code>\\n\"+\n     \"</div>\"}};\n\n  function display_loaded(error = null) {\n    const el = document.getElementById(\"d2988025-f39d-49da-bde9-bcaff5324534\");\n    if (el != null) {\n      const html = (() => {\n        if (typeof root.Bokeh === \"undefined\") {\n          if (error == null) {\n            return \"BokehJS is loading ...\";\n          } else {\n            return \"BokehJS failed to load.\";\n          }\n        } else {\n          const prefix = `BokehJS ${root.Bokeh.version}`;\n          if (error == null) {\n            return `${prefix} successfully loaded.`;\n          } else {\n            return `${prefix} <b>encountered errors</b> while loading and may not function as expected.`;\n          }\n        }\n      })();\n      el.innerHTML = html;\n\n      if (error != null) {\n        const wrapper = document.createElement(\"div\");\n        wrapper.style.overflow = \"auto\";\n        wrapper.style.height = \"5em\";\n        wrapper.style.resize = \"vertical\";\n        const content = document.createElement(\"div\");\n        content.style.fontFamily = \"monospace\";\n        content.style.whiteSpace = \"pre-wrap\";\n        content.style.backgroundColor = \"rgb(255, 221, 221)\";\n        content.textContent = error.stack ?? error.toString();\n        wrapper.append(content);\n        el.append(wrapper);\n      }\n    } else if (Date.now() < root._bokeh_timeout) {\n      setTimeout(() => display_loaded(error), 100);\n    }\n  }\n\n  function run_callbacks() {\n    try {\n      root._bokeh_onload_callbacks.forEach(function(callback) {\n        if (callback != null)\n          callback();\n      });\n    } finally {\n      delete root._bokeh_onload_callbacks\n    }\n    console.debug(\"Bokeh: all callbacks have finished\");\n  }\n\n  function load_libs(css_urls, js_urls, callback) {\n    if (css_urls == null) css_urls = [];\n    if (js_urls == null) js_urls = [];\n\n    root._bokeh_onload_callbacks.push(callback);\n    if (root._bokeh_is_loading > 0) {\n      console.debug(\"Bokeh: BokehJS is being loaded, scheduling callback at\", now());\n      return null;\n    }\n    if (js_urls == null || js_urls.length === 0) {\n      run_callbacks();\n      return null;\n    }\n    console.debug(\"Bokeh: BokehJS not loaded, scheduling load and callback at\", now());\n    root._bokeh_is_loading = css_urls.length + js_urls.length;\n\n    function on_load() {\n      root._bokeh_is_loading--;\n      if (root._bokeh_is_loading === 0) {\n        console.debug(\"Bokeh: all BokehJS libraries/stylesheets loaded\");\n        run_callbacks()\n      }\n    }\n\n    function on_error(url) {\n      console.error(\"failed to load \" + url);\n    }\n\n    for (let i = 0; i < css_urls.length; i++) {\n      const url = css_urls[i];\n      const element = document.createElement(\"link\");\n      element.onload = on_load;\n      element.onerror = on_error.bind(null, url);\n      element.rel = \"stylesheet\";\n      element.type = \"text/css\";\n      element.href = url;\n      console.debug(\"Bokeh: injecting link tag for BokehJS stylesheet: \", url);\n      document.body.appendChild(element);\n    }\n\n    for (let i = 0; i < js_urls.length; i++) {\n      const url = js_urls[i];\n      const element = document.createElement('script');\n      element.onload = on_load;\n      element.onerror = on_error.bind(null, url);\n      element.async = false;\n      element.src = url;\n      console.debug(\"Bokeh: injecting script tag for BokehJS library: \", url);\n      document.head.appendChild(element);\n    }\n  };\n\n  function inject_raw_css(css) {\n    const element = document.createElement(\"style\");\n    element.appendChild(document.createTextNode(css));\n    document.body.appendChild(element);\n  }\n\n  const js_urls = [\"https://cdn.bokeh.org/bokeh/release/bokeh-3.4.1.min.js\", \"https://cdn.bokeh.org/bokeh/release/bokeh-gl-3.4.1.min.js\", \"https://cdn.bokeh.org/bokeh/release/bokeh-widgets-3.4.1.min.js\", \"https://cdn.bokeh.org/bokeh/release/bokeh-tables-3.4.1.min.js\", \"https://cdn.bokeh.org/bokeh/release/bokeh-mathjax-3.4.1.min.js\", \"https://unpkg.com/@holoviz/panel@1.4.3/dist/panel.min.js\"];\n  const css_urls = [];\n\n  const inline_js = [    function(Bokeh) {\n      Bokeh.set_log_level(\"info\");\n    },\nfunction(Bokeh) {\n    }\n  ];\n\n  function run_inline_js() {\n    if (root.Bokeh !== undefined || force === true) {\n      try {\n            for (let i = 0; i < inline_js.length; i++) {\n      inline_js[i].call(root, root.Bokeh);\n    }\n\n      } catch (error) {display_loaded(error);throw error;\n      }if (force === true) {\n        display_loaded();\n      }} else if (Date.now() < root._bokeh_timeout) {\n      setTimeout(run_inline_js, 100);\n    } else if (!root._bokeh_failed_load) {\n      console.log(\"Bokeh: BokehJS failed to load within specified timeout.\");\n      root._bokeh_failed_load = true;\n    } else if (force !== true) {\n      const cell = $(document.getElementById(\"d2988025-f39d-49da-bde9-bcaff5324534\")).parents('.cell').data().cell;\n      cell.output_area.append_execute_result(NB_LOAD_WARNING)\n    }\n  }\n\n  if (root._bokeh_is_loading === 0) {\n    console.debug(\"Bokeh: BokehJS loaded, going straight to plotting\");\n    run_inline_js();\n  } else {\n    load_libs(css_urls, js_urls, function() {\n      console.debug(\"Bokeh: BokehJS plotting callback run at\", now());\n      run_inline_js();\n    });\n  }\n}(window));",
      "application/vnd.bokehjs_load.v0+json": ""
     },
     "metadata": {},
     "output_type": "display_data"
    },
    {
     "name": "stdout",
     "output_type": "stream",
     "text": [
      "here\n"
     ]
    },
    {
     "data": {
      "text/html": [
       "\n",
       "  <div id=\"cea9e81b-ba60-4fb4-9b18-93c087a4f342\" data-root-id=\"p1491\" style=\"display: contents;\"></div>\n"
      ]
     },
     "metadata": {},
     "output_type": "display_data"
    },
    {
     "data": {
      "application/javascript": "(function(root) {\n  function embed_document(root) {\n  const docs_json = {\"4e6e6156-3dae-46d0-87ff-ac2984bb4019\":{\"version\":\"3.4.1\",\"title\":\"Bokeh Application\",\"roots\":[{\"type\":\"object\",\"name\":\"Row\",\"id\":\"p1491\",\"attributes\":{\"children\":[{\"type\":\"object\",\"name\":\"Column\",\"id\":\"p1472\",\"attributes\":{\"children\":[{\"type\":\"object\",\"name\":\"Figure\",\"id\":\"p1312\",\"attributes\":{\"height\":500,\"x_range\":{\"type\":\"object\",\"name\":\"DataRange1d\",\"id\":\"p1313\",\"attributes\":{\"js_property_callbacks\":{\"type\":\"map\",\"entries\":[[\"change:start\",[{\"type\":\"object\",\"name\":\"CustomJS\",\"id\":\"p1470\",\"attributes\":{\"args\":{\"type\":\"map\",\"entries\":[[\"box\",{\"type\":\"object\",\"name\":\"BoxAnnotation\",\"id\":\"p1465\",\"attributes\":{\"left\":0,\"right\":0,\"top\":0,\"bottom\":0,\"line_color\":\"red\",\"fill_color\":\"cornflowerblue\",\"fill_alpha\":0.1}}]]},\"code\":\"\\n        box['left'] = cb_obj.start\\n        box['right'] = cb_obj.end\\n    \"}}]],[\"change:end\",[{\"id\":\"p1470\"}]]]}}},\"y_range\":{\"type\":\"object\",\"name\":\"DataRange1d\",\"id\":\"p1314\",\"attributes\":{\"js_property_callbacks\":{\"type\":\"map\",\"entries\":[[\"change:start\",[{\"type\":\"object\",\"name\":\"CustomJS\",\"id\":\"p1471\",\"attributes\":{\"args\":{\"type\":\"map\",\"entries\":[[\"box\",{\"id\":\"p1465\"}]]},\"code\":\"\\n        box['bottom'] = cb_obj.start\\n        box['top'] = cb_obj.end\\n    \"}}]],[\"change:end\",[{\"id\":\"p1471\"}]]]}}},\"x_scale\":{\"type\":\"object\",\"name\":\"LinearScale\",\"id\":\"p1321\"},\"y_scale\":{\"type\":\"object\",\"name\":\"LinearScale\",\"id\":\"p1322\"},\"title\":{\"type\":\"object\",\"name\":\"Title\",\"id\":\"p1319\"},\"renderers\":[{\"type\":\"object\",\"name\":\"GlyphRenderer\",\"id\":\"p1353\",\"attributes\":{\"data_source\":{\"type\":\"object\",\"name\":\"ColumnDataSource\",\"id\":\"p1347\",\"attributes\":{\"selected\":{\"type\":\"object\",\"name\":\"Selection\",\"id\":\"p1348\",\"attributes\":{\"indices\":[],\"line_indices\":[]}},\"selection_policy\":{\"type\":\"object\",\"name\":\"UnionRenderers\",\"id\":\"p1349\"},\"data\":{\"type\":\"map\",\"entries\":[[\"x\",[333.22607421875,333.72607421875,333.72607421875,333.72607421875,334.09,334.09,334.09,334.711625,334.711625,334.711625,335.09450000000004,335.09450000000004,335.09450000000004,335.0965,335.0965,335.0965,335.58799999999997,335.58799999999997,335.58799999999997,335.592,335.592,335.592,336.592]],[\"y\",[0,0,0.7968575149041046,0,0,0.006245168595575361,0,0,0.04069933161480112,0,0,0.012620365861430607,0,0,0.14003589795857166,0,0,0.006374860119232837,0,0,0.007251656211902638,0,0]]]}}},\"view\":{\"type\":\"object\",\"name\":\"CDSView\",\"id\":\"p1354\",\"attributes\":{\"filter\":{\"type\":\"object\",\"name\":\"AllIndices\",\"id\":\"p1355\"}}},\"glyph\":{\"type\":\"object\",\"name\":\"Line\",\"id\":\"p1350\",\"attributes\":{\"x\":{\"type\":\"field\",\"field\":\"x\"},\"y\":{\"type\":\"field\",\"field\":\"y\"},\"line_color\":\"#1f77b4\"}},\"nonselection_glyph\":{\"type\":\"object\",\"name\":\"Line\",\"id\":\"p1351\",\"attributes\":{\"x\":{\"type\":\"field\",\"field\":\"x\"},\"y\":{\"type\":\"field\",\"field\":\"y\"},\"line_color\":\"#1f77b4\",\"line_alpha\":0.1}},\"muted_glyph\":{\"type\":\"object\",\"name\":\"Line\",\"id\":\"p1352\",\"attributes\":{\"x\":{\"type\":\"field\",\"field\":\"x\"},\"y\":{\"type\":\"field\",\"field\":\"y\"},\"line_color\":\"#1f77b4\",\"line_alpha\":0.2}}}}],\"toolbar\":{\"type\":\"object\",\"name\":\"Toolbar\",\"id\":\"p1320\",\"attributes\":{\"tools\":[{\"type\":\"object\",\"name\":\"PanTool\",\"id\":\"p1333\"},{\"type\":\"object\",\"name\":\"WheelZoomTool\",\"id\":\"p1334\",\"attributes\":{\"renderers\":\"auto\"}},{\"type\":\"object\",\"name\":\"BoxZoomTool\",\"id\":\"p1335\",\"attributes\":{\"overlay\":{\"type\":\"object\",\"name\":\"BoxAnnotation\",\"id\":\"p1336\",\"attributes\":{\"syncable\":false,\"level\":\"overlay\",\"visible\":false,\"left\":{\"type\":\"number\",\"value\":\"nan\"},\"right\":{\"type\":\"number\",\"value\":\"nan\"},\"top\":{\"type\":\"number\",\"value\":\"nan\"},\"bottom\":{\"type\":\"number\",\"value\":\"nan\"},\"left_units\":\"canvas\",\"right_units\":\"canvas\",\"top_units\":\"canvas\",\"bottom_units\":\"canvas\",\"line_color\":\"black\",\"line_alpha\":1.0,\"line_width\":2,\"line_dash\":[4,4],\"fill_color\":\"lightgrey\",\"fill_alpha\":0.5}}}},{\"type\":\"object\",\"name\":\"SaveTool\",\"id\":\"p1341\"},{\"type\":\"object\",\"name\":\"ResetTool\",\"id\":\"p1342\"},{\"type\":\"object\",\"name\":\"HelpTool\",\"id\":\"p1343\"},{\"type\":\"object\",\"name\":\"WheelPanTool\",\"id\":\"p1345\",\"attributes\":{\"dimension\":\"height\"}},{\"type\":\"object\",\"name\":\"WheelZoomTool\",\"id\":\"p1346\",\"attributes\":{\"dimensions\":\"height\",\"renderers\":\"auto\"}}]}},\"left\":[{\"type\":\"object\",\"name\":\"LinearAxis\",\"id\":\"p1328\",\"attributes\":{\"ticker\":{\"type\":\"object\",\"name\":\"BasicTicker\",\"id\":\"p1329\",\"attributes\":{\"mantissas\":[1,2,5]}},\"formatter\":{\"type\":\"object\",\"name\":\"BasicTickFormatter\",\"id\":\"p1330\"},\"axis_label\":\"Abundance\",\"major_label_policy\":{\"type\":\"object\",\"name\":\"AllLabels\",\"id\":\"p1331\"}}}],\"below\":[{\"type\":\"object\",\"name\":\"LinearAxis\",\"id\":\"p1323\",\"attributes\":{\"ticker\":{\"type\":\"object\",\"name\":\"FixedTicker\",\"id\":\"p1344\",\"attributes\":{\"ticks\":[333.72607421875,334.09,334.711625,335.09450000000004,335.0965,335.58799999999997,335.592],\"minor_ticks\":[]}},\"formatter\":{\"type\":\"object\",\"name\":\"BasicTickFormatter\",\"id\":\"p1325\"},\"axis_label\":\"[m/z]\",\"major_label_policy\":{\"type\":\"object\",\"name\":\"AllLabels\",\"id\":\"p1326\"}}}],\"center\":[{\"type\":\"object\",\"name\":\"Grid\",\"id\":\"p1327\",\"attributes\":{\"axis\":{\"id\":\"p1323\"}}},{\"type\":\"object\",\"name\":\"Grid\",\"id\":\"p1332\",\"attributes\":{\"dimension\":1,\"axis\":{\"id\":\"p1328\"}}}]}},{\"type\":\"object\",\"name\":\"Figure\",\"id\":\"p1422\",\"attributes\":{\"height\":300,\"x_range\":{\"type\":\"object\",\"name\":\"DataRange1d\",\"id\":\"p1423\"},\"y_range\":{\"type\":\"object\",\"name\":\"DataRange1d\",\"id\":\"p1424\"},\"x_scale\":{\"type\":\"object\",\"name\":\"LinearScale\",\"id\":\"p1431\"},\"y_scale\":{\"type\":\"object\",\"name\":\"LinearScale\",\"id\":\"p1432\"},\"title\":{\"type\":\"object\",\"name\":\"Title\",\"id\":\"p1429\"},\"renderers\":[{\"type\":\"object\",\"name\":\"GlyphRenderer\",\"id\":\"p1460\",\"attributes\":{\"data_source\":{\"type\":\"object\",\"name\":\"ColumnDataSource\",\"id\":\"p1454\",\"attributes\":{\"selected\":{\"type\":\"object\",\"name\":\"Selection\",\"id\":\"p1455\",\"attributes\":{\"indices\":[],\"line_indices\":[]}},\"selection_policy\":{\"type\":\"object\",\"name\":\"UnionRenderers\",\"id\":\"p1456\"},\"data\":{\"type\":\"map\",\"entries\":[[\"x\",[333.22607421875,333.72607421875,333.72607421875,333.72607421875,334.09,334.09,334.09,334.711625,334.711625,334.711625,335.09450000000004,335.09450000000004,335.09450000000004,335.0965,335.0965,335.0965,335.58799999999997,335.58799999999997,335.58799999999997,335.592,335.592,335.592,336.592]],[\"y\",[0,0,0.7968575149041046,0,0,0.006245168595575361,0,0,0.04069933161480112,0,0,0.012620365861430607,0,0,0.14003589795857166,0,0,0.006374860119232837,0,0,0.007251656211902638,0,0]]]}}},\"view\":{\"type\":\"object\",\"name\":\"CDSView\",\"id\":\"p1461\",\"attributes\":{\"filter\":{\"type\":\"object\",\"name\":\"AllIndices\",\"id\":\"p1462\"}}},\"glyph\":{\"type\":\"object\",\"name\":\"Line\",\"id\":\"p1457\",\"attributes\":{\"x\":{\"type\":\"field\",\"field\":\"x\"},\"y\":{\"type\":\"field\",\"field\":\"y\"},\"line_color\":\"#1f77b4\"}},\"nonselection_glyph\":{\"type\":\"object\",\"name\":\"Line\",\"id\":\"p1458\",\"attributes\":{\"x\":{\"type\":\"field\",\"field\":\"x\"},\"y\":{\"type\":\"field\",\"field\":\"y\"},\"line_color\":\"#1f77b4\",\"line_alpha\":0.1}},\"muted_glyph\":{\"type\":\"object\",\"name\":\"Line\",\"id\":\"p1459\",\"attributes\":{\"x\":{\"type\":\"field\",\"field\":\"x\"},\"y\":{\"type\":\"field\",\"field\":\"y\"},\"line_color\":\"#1f77b4\",\"line_alpha\":0.2}}}}],\"toolbar\":{\"type\":\"object\",\"name\":\"Toolbar\",\"id\":\"p1430\",\"attributes\":{\"tools\":[{\"type\":\"object\",\"name\":\"PanTool\",\"id\":\"p1443\"},{\"type\":\"object\",\"name\":\"WheelZoomTool\",\"id\":\"p1444\",\"attributes\":{\"renderers\":\"auto\"}},{\"type\":\"object\",\"name\":\"BoxZoomTool\",\"id\":\"p1445\",\"attributes\":{\"overlay\":{\"type\":\"object\",\"name\":\"BoxAnnotation\",\"id\":\"p1446\",\"attributes\":{\"syncable\":false,\"level\":\"overlay\",\"visible\":false,\"left\":{\"type\":\"number\",\"value\":\"nan\"},\"right\":{\"type\":\"number\",\"value\":\"nan\"},\"top\":{\"type\":\"number\",\"value\":\"nan\"},\"bottom\":{\"type\":\"number\",\"value\":\"nan\"},\"left_units\":\"canvas\",\"right_units\":\"canvas\",\"top_units\":\"canvas\",\"bottom_units\":\"canvas\",\"line_color\":\"black\",\"line_alpha\":1.0,\"line_width\":2,\"line_dash\":[4,4],\"fill_color\":\"lightgrey\",\"fill_alpha\":0.5}}}},{\"type\":\"object\",\"name\":\"SaveTool\",\"id\":\"p1451\"},{\"type\":\"object\",\"name\":\"ResetTool\",\"id\":\"p1452\"},{\"type\":\"object\",\"name\":\"HelpTool\",\"id\":\"p1453\"}]}},\"toolbar_location\":null,\"left\":[{\"type\":\"object\",\"name\":\"LinearAxis\",\"id\":\"p1438\",\"attributes\":{\"ticker\":{\"type\":\"object\",\"name\":\"BasicTicker\",\"id\":\"p1439\",\"attributes\":{\"mantissas\":[1,2,5]}},\"formatter\":{\"type\":\"object\",\"name\":\"BasicTickFormatter\",\"id\":\"p1440\"},\"major_label_policy\":{\"type\":\"object\",\"name\":\"AllLabels\",\"id\":\"p1441\"}}}],\"below\":[{\"type\":\"object\",\"name\":\"LinearAxis\",\"id\":\"p1433\",\"attributes\":{\"ticker\":{\"type\":\"object\",\"name\":\"BasicTicker\",\"id\":\"p1434\",\"attributes\":{\"mantissas\":[1,2,5]}},\"formatter\":{\"type\":\"object\",\"name\":\"BasicTickFormatter\",\"id\":\"p1435\"},\"major_label_policy\":{\"type\":\"object\",\"name\":\"AllLabels\",\"id\":\"p1436\"}}}],\"center\":[{\"type\":\"object\",\"name\":\"Grid\",\"id\":\"p1437\",\"attributes\":{\"axis\":{\"id\":\"p1433\"}}},{\"type\":\"object\",\"name\":\"Grid\",\"id\":\"p1442\",\"attributes\":{\"dimension\":1,\"axis\":{\"id\":\"p1438\"}}},{\"type\":\"object\",\"name\":\"Legend\",\"id\":\"p1463\",\"attributes\":{\"items\":[{\"type\":\"object\",\"name\":\"LegendItem\",\"id\":\"p1464\",\"attributes\":{\"label\":{\"type\":\"value\",\"value\":\"Mass spectrum\"},\"renderers\":[{\"id\":\"p1460\"}]}}]}},{\"id\":\"p1465\"}]}}]}},{\"type\":\"object\",\"name\":\"Column\",\"id\":\"p1490\",\"attributes\":{\"children\":[{\"type\":\"object\",\"name\":\"Div\",\"id\":\"p1489\",\"attributes\":{\"text\":\"<img src=\\\"data:image/png;base64,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\\\" style=\\\"width:350px;height:350px;\\\">\"}},{\"type\":\"object\",\"name\":\"DataTable\",\"id\":\"p1483\",\"attributes\":{\"width\":250,\"height\":560,\"source\":{\"type\":\"object\",\"name\":\"ColumnDataSource\",\"id\":\"p1473\",\"attributes\":{\"selected\":{\"type\":\"object\",\"name\":\"Selection\",\"id\":\"p1474\",\"attributes\":{\"indices\":[],\"line_indices\":[]}},\"selection_policy\":{\"type\":\"object\",\"name\":\"UnionRenderers\",\"id\":\"p1475\"},\"data\":{\"type\":\"map\",\"entries\":[[\"groups\",[\"Carboxylic Acid\",\"Amide\",\"Amide\",\"Amine\",\"Sulfide\",\"Benzene\"]],[\"images\",[\"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\",\"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\",\"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\",\"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\",\"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\",\"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\"]]]}}},\"view\":{\"type\":\"object\",\"name\":\"CDSView\",\"id\":\"p1487\",\"attributes\":{\"filter\":{\"type\":\"object\",\"name\":\"AllIndices\",\"id\":\"p1488\"}}},\"columns\":[{\"type\":\"object\",\"name\":\"TableColumn\",\"id\":\"p1476\",\"attributes\":{\"field\":\"groups\",\"title\":\"Functional Groups\",\"formatter\":{\"type\":\"object\",\"name\":\"StringFormatter\",\"id\":\"p1477\"},\"editor\":{\"type\":\"object\",\"name\":\"StringEditor\",\"id\":\"p1478\"}}},{\"type\":\"object\",\"name\":\"TableColumn\",\"id\":\"p1480\",\"attributes\":{\"field\":\"images\",\"title\":\"Images\",\"width\":200,\"formatter\":{\"type\":\"object\",\"name\":\"HTMLTemplateFormatter\",\"id\":\"p1479\",\"attributes\":{\"template\":\"\\n    <div>\\n        <img src=\\\"data:image/png;base64, <%= value %>\\\" style=\\\"width:50px;height:50px;\\\">\\n    </div>\\n    \"}},\"editor\":{\"type\":\"object\",\"name\":\"StringEditor\",\"id\":\"p1482\"}}}],\"row_height\":60}}]}}]}}],\"defs\":[{\"type\":\"model\",\"name\":\"ReactiveHTML1\"},{\"type\":\"model\",\"name\":\"FlexBox1\",\"properties\":[{\"name\":\"align_content\",\"kind\":\"Any\",\"default\":\"flex-start\"},{\"name\":\"align_items\",\"kind\":\"Any\",\"default\":\"flex-start\"},{\"name\":\"flex_direction\",\"kind\":\"Any\",\"default\":\"row\"},{\"name\":\"flex_wrap\",\"kind\":\"Any\",\"default\":\"wrap\"},{\"name\":\"gap\",\"kind\":\"Any\",\"default\":\"\"},{\"name\":\"justify_content\",\"kind\":\"Any\",\"default\":\"flex-start\"}]},{\"type\":\"model\",\"name\":\"FloatPanel1\",\"properties\":[{\"name\":\"config\",\"kind\":\"Any\",\"default\":{\"type\":\"map\"}},{\"name\":\"contained\",\"kind\":\"Any\",\"default\":true},{\"name\":\"position\",\"kind\":\"Any\",\"default\":\"right-top\"},{\"name\":\"offsetx\",\"kind\":\"Any\",\"default\":null},{\"name\":\"offsety\",\"kind\":\"Any\",\"default\":null},{\"name\":\"theme\",\"kind\":\"Any\",\"default\":\"primary\"},{\"name\":\"status\",\"kind\":\"Any\",\"default\":\"normalized\"}]},{\"type\":\"model\",\"name\":\"GridStack1\",\"properties\":[{\"name\":\"mode\",\"kind\":\"Any\",\"default\":\"warn\"},{\"name\":\"ncols\",\"kind\":\"Any\",\"default\":null},{\"name\":\"nrows\",\"kind\":\"Any\",\"default\":null},{\"name\":\"allow_resize\",\"kind\":\"Any\",\"default\":true},{\"name\":\"allow_drag\",\"kind\":\"Any\",\"default\":true},{\"name\":\"state\",\"kind\":\"Any\",\"default\":[]}]},{\"type\":\"model\",\"name\":\"drag1\",\"properties\":[{\"name\":\"slider_width\",\"kind\":\"Any\",\"default\":5},{\"name\":\"slider_color\",\"kind\":\"Any\",\"default\":\"black\"},{\"name\":\"value\",\"kind\":\"Any\",\"default\":50}]},{\"type\":\"model\",\"name\":\"click1\",\"properties\":[{\"name\":\"terminal_output\",\"kind\":\"Any\",\"default\":\"\"},{\"name\":\"debug_name\",\"kind\":\"Any\",\"default\":\"\"},{\"name\":\"clears\",\"kind\":\"Any\",\"default\":0}]},{\"type\":\"model\",\"name\":\"FastWrapper1\",\"properties\":[{\"name\":\"object\",\"kind\":\"Any\",\"default\":null},{\"name\":\"style\",\"kind\":\"Any\",\"default\":null}]},{\"type\":\"model\",\"name\":\"NotificationAreaBase1\",\"properties\":[{\"name\":\"js_events\",\"kind\":\"Any\",\"default\":{\"type\":\"map\"}},{\"name\":\"position\",\"kind\":\"Any\",\"default\":\"bottom-right\"},{\"name\":\"_clear\",\"kind\":\"Any\",\"default\":0}]},{\"type\":\"model\",\"name\":\"NotificationArea1\",\"properties\":[{\"name\":\"js_events\",\"kind\":\"Any\",\"default\":{\"type\":\"map\"}},{\"name\":\"notifications\",\"kind\":\"Any\",\"default\":[]},{\"name\":\"position\",\"kind\":\"Any\",\"default\":\"bottom-right\"},{\"name\":\"_clear\",\"kind\":\"Any\",\"default\":0},{\"name\":\"types\",\"kind\":\"Any\",\"default\":[{\"type\":\"map\",\"entries\":[[\"type\",\"warning\"],[\"background\",\"#ffc107\"],[\"icon\",{\"type\":\"map\",\"entries\":[[\"className\",\"fas fa-exclamation-triangle\"],[\"tagName\",\"i\"],[\"color\",\"white\"]]}]]},{\"type\":\"map\",\"entries\":[[\"type\",\"info\"],[\"background\",\"#007bff\"],[\"icon\",{\"type\":\"map\",\"entries\":[[\"className\",\"fas fa-info-circle\"],[\"tagName\",\"i\"],[\"color\",\"white\"]]}]]}]}]},{\"type\":\"model\",\"name\":\"Notification\",\"properties\":[{\"name\":\"background\",\"kind\":\"Any\",\"default\":null},{\"name\":\"duration\",\"kind\":\"Any\",\"default\":3000},{\"name\":\"icon\",\"kind\":\"Any\",\"default\":null},{\"name\":\"message\",\"kind\":\"Any\",\"default\":\"\"},{\"name\":\"notification_type\",\"kind\":\"Any\",\"default\":null},{\"name\":\"_destroyed\",\"kind\":\"Any\",\"default\":false}]},{\"type\":\"model\",\"name\":\"TemplateActions1\",\"properties\":[{\"name\":\"open_modal\",\"kind\":\"Any\",\"default\":0},{\"name\":\"close_modal\",\"kind\":\"Any\",\"default\":0}]},{\"type\":\"model\",\"name\":\"BootstrapTemplateActions1\",\"properties\":[{\"name\":\"open_modal\",\"kind\":\"Any\",\"default\":0},{\"name\":\"close_modal\",\"kind\":\"Any\",\"default\":0}]},{\"type\":\"model\",\"name\":\"TemplateEditor1\",\"properties\":[{\"name\":\"layout\",\"kind\":\"Any\",\"default\":[]}]},{\"type\":\"model\",\"name\":\"MaterialTemplateActions1\",\"properties\":[{\"name\":\"open_modal\",\"kind\":\"Any\",\"default\":0},{\"name\":\"close_modal\",\"kind\":\"Any\",\"default\":0}]},{\"type\":\"model\",\"name\":\"copy_to_clipboard1\",\"properties\":[{\"name\":\"fill\",\"kind\":\"Any\",\"default\":\"none\"},{\"name\":\"value\",\"kind\":\"Any\",\"default\":null}]}]}};\n  const render_items = [{\"docid\":\"4e6e6156-3dae-46d0-87ff-ac2984bb4019\",\"roots\":{\"p1491\":\"cea9e81b-ba60-4fb4-9b18-93c087a4f342\"},\"root_ids\":[\"p1491\"]}];\n  void root.Bokeh.embed.embed_items_notebook(docs_json, render_items);\n  }\n  if (root.Bokeh !== undefined) {\n    embed_document(root);\n  } else {\n    let attempts = 0;\n    const timer = setInterval(function(root) {\n      if (root.Bokeh !== undefined) {\n        clearInterval(timer);\n        embed_document(root);\n      } else {\n        attempts++;\n        if (attempts > 100) {\n          clearInterval(timer);\n          console.log(\"Bokeh: ERROR: Unable to run BokehJS code because BokehJS library is missing\");\n        }\n      }\n    }, 10, root)\n  }\n})(window);",
      "application/vnd.bokehjs_exec.v0+json": ""
     },
     "metadata": {
      "application/vnd.bokehjs_exec.v0+json": {
       "id": "p1491"
      }
     },
     "output_type": "display_data"
    }
   ],
   "source": [
    "import MASSiveChem.MASSiveChem as MC\n",
    "from bokeh.plotting import output_notebook, show\n",
    "\n",
    "output_notebook() #not necessary if you want to plot the image outside the outbook\n",
    "\n",
    "mol_smi = 'CC1(C(N2C(S1)C(C2=O)NC(=O)CC3=CC=CC=C3)C(=O)O)C'\n",
    "imprecision = True\n",
    "apparatus_resolution = 0.01\n",
    "\n",
    "mol = MC.SMILEs_interpreter(mol_smi)\n",
    "\n",
    "list_atoms = MC.molecule_list_generator(mol)\n",
    "\n",
    "list_atoms_postionisation = MC.ionisation_method(list_atoms)\n",
    "\n",
    "has_N, has_S, count_N, count_S = MC.sulphur_nitrogen_finder(list_atoms_postionisation)\n",
    "\n",
    "list_masses, list_abundances = MC.main_function(list_atoms_postionisation, imprecision)\n",
    "\n",
    "list_masses, list_abundances = MC.peak_merger(list_masses, list_abundances, apparatus_resolution)\n",
    "\n",
    "list_masses, list_abundances = MC.sulphur_nitrogen_adder(list_masses, list_abundances, has_N, has_S, count_N, count_S)\n",
    "\n",
    "list_masses_sorted, list_abundances_sorted = MC.peak_sorter(list_masses, list_abundances)\n",
    "\n",
    "list_masses_plot, list_abundances_plot = MC.delta_function_plotter(list_masses_sorted, list_abundances_sorted)\n",
    "\n",
    "spectrum = MC.double_plot(list_masses_plot,list_abundances_plot)\n",
    "\n",
    "functional_groups_contained = MC.functional_group_finder(mol_smi)\n",
    "\n",
    "functional_groups_plot = MC.functional_group_display(functional_groups_contained)\n",
    "\n",
    "molecule_plot = MC.mol_web_show(mol_smi)\n",
    "\n",
    "final_plot = MC.all_in_one(spectrum, molecule_plot, functional_groups_plot)\n",
    "\n",
    "show(final_plot)"
   ]
  },
  {
   "cell_type": "markdown",
   "metadata": {},
   "source": [
    "\n",
    "## spectrum(mol_smi, imprecision_True_False, apparatus_resolution)\n",
    "Running all these functions can be done using 1 single function called spectrum which can be run as the following:"
   ]
  },
  {
   "cell_type": "code",
   "execution_count": null,
   "metadata": {},
   "outputs": [],
   "source": [
    "import MASSiveChem.MASSiveChem as MC\n",
    "from bokeh.plotting import show\n",
    "\n",
    "mol_smi = 'CC1(C(N2C(S1)C(C2=O)NC(=O)CC3=CC=CC=C3)C(=O)O)C'\n",
    "imprecision = True\n",
    "apparatus_resolution = 0.01\n",
    "\n",
    "spectrum = MC.spectrum(mol_smi, imprecision, apparatus_resolution)\n",
    "\n",
    "show(spectrum)"
   ]
  },
  {
   "cell_type": "markdown",
   "metadata": {},
   "source": [
    "Finally, if you want to add the interactive 3D plot of the molecule you can use the following function\n",
    "\n",
    "## spectrum_3D(mol_smi, imprecision_True_False, apparatus_resolution)\n",
    "\n",
    "The function takes the same inputs as spectrum but adds the 3D interactive plot to the spectrum"
   ]
  },
  {
   "cell_type": "code",
   "execution_count": null,
   "metadata": {},
   "outputs": [],
   "source": [
    "import MASSiveChem.MASSiveChem as MC\n",
    "\n",
    "mol_smi = 'CC1(C(N2C(S1)C(C2=O)NC(=O)CC3=CC=CC=C3)C(=O)O)C'\n",
    "imprecision = True\n",
    "apparatus_resolution = 0.01\n",
    "\n",
    "spectrum = MC.spectrum_3D(mol_smi, imprecision, apparatus_resolution)\n",
    "\n",
    "spectrum.show()"
   ]
  },
  {
   "cell_type": "markdown",
   "metadata": {},
   "source": [
    "Thanks for reading the notebook ! Hope you find it useful and interesting."
   ]
  }
 ],
 "metadata": {
  "kernelspec": {
   "display_name": "ppchem",
   "language": "python",
   "name": "python3"
  },
  "language_info": {
   "codemirror_mode": {
    "name": "ipython",
    "version": 3
   },
   "file_extension": ".py",
   "mimetype": "text/x-python",
   "name": "python",
   "nbconvert_exporter": "python",
   "pygments_lexer": "ipython3",
   "version": "3.10.12"
  }
 },
 "nbformat": 4,
 "nbformat_minor": 2
}
