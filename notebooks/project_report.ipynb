{
 "cells": [
  {
   "cell_type": "markdown",
   "metadata": {},
   "source": [
    "<div style=\"\n",
    "    display: flex;\n",
    "    justify-content: center;\n",
    "    align-items: center;\n",
    "    height: 100px;\n",
    "    border: 4px solid #32CD32;\n",
    "    border-radius: 15px;\n",
    "    background-color: #000000;\n",
    "    box-shadow: 0 4px 8px 0 rgba(255, 215, 0, 0.2);\n",
    "    margin: 20px;\n",
    "\">\n",
    "    <h1 style=\"\n",
    "        color: #32CD32;\n",
    "        font-family: 'Nexa','', ;\n",
    "        font-size: 52px;\n",
    "        text-shadow: 2px 2px 4px #32CD32;\n",
    "    \">\n",
    "        MASSIVEChem \n",
    "    </h1>\n",
    "</div>\n",
    "\n",
    "## Introduction\n",
    "The following Jupyter notebook briefly presents MASSIVEChem, a pip-installable python package. This package is developped around mass spectrometry, a tool commonly used in analytical chemistry, biochemistry, pharmaceutical sciences and more. Fundamentally, this package simulates and plots the mass spectrum of a given molecule, with a chosen resolution and with a chosen precision. \n",
    "\n",
    "This package was created as a collaborative project for the EPFL course Practical programming in chemistry [![GitHub3](https://img.shields.io/badge/EPFL-CH200-red.svg)](https://edu.epfl.ch/studyplan/en/bachelor/chemistry-and-chemical-engineering/coursebook/practical-programming-in-chemistry-CH-200)\n",
    "\n",
    "Before going through the code and the use of the package, let's briefly discuss the ideas that allowed to build this package\n",
    "\n",
    "## Ideas\n",
    "\n",
    "Initially, the plan for this project was to write a code that would predict the NMR spectrum of an input molecule. 3 weeks were spent trying to figure out a way to analyze molecules, to find functional groups, and to predict the shift of the hydrogens in a molecule. As the time was advancing, it became apparent to us that this project was beyond the scope of our abilities as it would most likely require the use of machine learning, a concept that none of us was familiar with. \n",
    "\n",
    "Still wanting to create a package that would display some type of visual information from a molecule, our minds collectively turned towards mass spectroscopy. Being familiar with the theoretical concepts behind this analytical method, having followed a course on mass spectroscopy in first year and having revisited the topic in our second-year electromagnetics course, we were more confident in our abilities regarding this idea.\n",
    "\n",
    "The concept of mass spectrometry consists of ionizing a molecule and passing this molecule in a strong magnetic field. Thanks to the Lorentz force, the molecule is deviated as a function of its mass which allows to separate the different isotopes present in a sample. By  putting a detector at the end, it is possible to determine which molecule was put in the mass spectrometer.\n",
    "\n",
    "\n",
    "\n",
    "Coding wise, simulating the mass spectrum was done by using list comprehension and combinatory probabilities. This involves a systematic breakdown of the process into discrete steps\n",
    "\n",
    "- Molecule Definition: First the molecules to be analyzed needs to be defined, specifying its masses and relative abundances. Each molecule can be represented as a data structure (a list) containing its atoms and abundance.\n",
    "\n",
    "- Fragmentation Simulation: Then, the fragmentation process needs to be simulated. This step involves generating all possible combinations of masses for each atom using the algorithm of probability trees. \n",
    "\n",
    "- Mass Calculation: The Mass of each fragment is calculated by summing the masses of the constituent atoms. This step ensures that each fragment is assigned an accurate mass value based on its atomic composition.\n",
    "\n",
    "- Combination of Fragments: At the end of the mass calculation process, all fragments are combined into a single list and the fragments with similar masses are combined. This aggregated list represents the collective set of fragments resulting from the analyzed molecules.\n",
    "\n",
    "- Mass Spectrum Simulation: This step involves estimating the abundance of each fragment considering both the relative abundances of the original molecules and the probabilities associated with each generated fragment. \n",
    "\n",
    "- Visualization: The mass spectrum can then be plotted using a plotting package. In our case we chose bokeh.\n",
    "\n",
    "Once that the spectrum was simulated we thought of different feature to add to the spectrum to facilitate its comprehension. First we added an image of the molecule using rdkit.Draw. Then we developped a function to recognise the functional groups present in the molecule and as well as a function to show them. To make the spectrum more interactive, we added a second plot which allows to see where the user is zooming on the principal graph. Finally, we decided to add a function to show an interactive 3D graph of the molecule using xyz2graph package.\n",
    "\n",
    "\n",
    "## Difficulties\n",
    "\n",
    "Once we had written the code that would do the actual computation of the different combinations of isotopes that can compose the molecule (with their relative probabilities of existing), it became very noticeable that the time complexity of the algorithm was subpar (being of roughly $2^n$ with n being the number of atoms in the molecule; the code would take ~30s to run for pentane). To remedy this fact, a part of code was implemented that would disregard any molecule with a probability of under $10^{-6}$ of existing (this reduced the time complexity form $2^n$ to n).\n",
    "\n",
    "Another difficulty encountered was importing data.\n",
    "The initial project included a data folder for importing the abundances of the various isotopes. Unfortunately, when the package was exported via pypi, the files inside the folder mentioned were not included. Once installed, the package could not read the data files required for the package to function correctly.\n",
    "Despite various attempts to include these data files in the package, we had to come up with another solution that did not use this folder. As the initial code used the path to this folder to read the isotope abundances, we had to modify the code written so far to integrate the data directly without using an external file. This can be seen at the beginning of the spectrum function. \n",
    "In the end, the problem was solved, although this required some 70 extra lines of code, whereas one would normally have sufficed. \n",
    "\n",
    "Finding a good tool to create the mass spectrum graph was also a challenge. Various tools such as matplotlib or plotly can be used to create good quality graphs, but none of them met the three criteria we wanted: precision, interactivity and aesthetics. So we had to explore tools that allowed us to do this, and we chose to use Bokeh. It allowed us to generate graphs as we wanted them and with excellent quality. None of us had used it before, so we had to do a lot of research to learn how to use it correctly and effectively.\n",
    "\n",
    "Another difficulty arose directly from the SMILES, which we used to detect the different functional groups present. We had to create a code that differentiated between the groups, using SMARTS in particular, which enabled us to specify the differences and in particular the bonds.\n",
    "Take an ester, for example. The system detects a carboxylic acid when it's not one so we had to specify this using the following SMARTS \"CC(=O)[Oh0]\". Which specifies that the oxygen does not have a bond with a hydrogen.\n",
    "All the different smarts used are present in the function \"functional_group_display\" in the scripts folder. \n",
    "\n",
    "## Limitations\n",
    "\n",
    "The complete package does, however, have a few limitations. \n",
    "Firstly, pure elements and other molecules such as proteins and polysaccharides do not have their own SMILES. It is therefore impossible to visualise their mass spectra using this package. \n",
    "However, we believe that it would be possible to implement these molecules without SMILES using other encoding methods.\n",
    "\n",
    "The second is obviously time. The more complex the molecule, the more atoms it contains, the longer it will take to run the programme. \n",
    "\n",
    "*Example* : \n",
    "spectrum(mol_smi, imprecision_True_False, apparatus_resolution)\n",
    "\n",
    "1) If imprecision_True_False = True, we have a complexity of $n$\n",
    "2) If imprecision_True_False = False, we have a complexity of $2^{n}$ \n",
    "\n",
    "Where n = number of atoms in the molecule"
   ]
  },
  {
   "cell_type": "markdown",
   "metadata": {},
   "source": [
    "## Usage"
   ]
  },
  {
   "cell_type": "markdown",
   "metadata": {},
   "source": [
    "Once the package is installed following the README, a whole set of functions will be imported.\n",
    "For example, to use the function that takes a molecule under SMILEs representation, a precision boolean and an apparatus resolution as inputs, and outputs the spectrum, one has to do the following:"
   ]
  },
  {
   "cell_type": "code",
   "execution_count": null,
   "metadata": {},
   "outputs": [],
   "source": [
    "import MASSiveChem.MASSiveChem as MC\n",
    "from bokeh.plotting import show, output_notebook\n",
    "output_notebook()\n",
    "show(MC.spectrum('CC1(C(N2C(S1)C(C2=O)NC(=O)CC3=CC=CC=C3)C(=O)O)C', True, 0.01))"
   ]
  },
  {
   "cell_type": "markdown",
   "metadata": {},
   "source": [
    "Note: the second argument here being True indicates that the function will neglect any ions which have a probability of apparation under 0.00001"
   ]
  },
  {
   "cell_type": "markdown",
   "metadata": {},
   "source": [
    "## Examples of functions and their respective inputs and outputs\n",
    "First, here is a list of the functions that come with the package: \n",
    "\n",
    "## Basic functions\n",
    "- calculate_unsaturation(mol_smi)->unsaturation\n",
    "\n",
    "- SMILEs_interpreter(mol_smi)->mol\n",
    "\n",
    "- molecule_list_generator(mol)->list_atoms\n",
    "\n",
    "- ionisation_method(list_atoms)->list_atoms\n",
    "\n",
    "- sulphur_nitrogen_finder(list_atoms)->has_N, has_S, count_N, count_S\n",
    "\n",
    "- main_function(list_atoms, imprecision_True_false)->list_masses, list_abundances\n",
    "\n",
    "- peak_merger(list_ions, list_abundances)->list_masses, list_abundances\n",
    "\n",
    "- sulphur_nitrogen_adder(list_ions, list_abundances, has_N, has_S, count_N, count_S)->list_masses, list_abundances\n",
    "\n",
    "- peak_sorter(list_masses, list_abundances)->list_masses, list_abundances\n",
    "\n",
    "- delta_function_plotter(list_masses, list_abundances)->list_masses, list_abundances\n",
    "\n",
    "- double_plot(list_masses, list_abundances)->bokeh_plot_1, bokeh_plot_2\n",
    "\n",
    "- functional_group_finder(mol_smi)->list_functional, groups_contained\n",
    "\n",
    "- functional_group_display(ist_functionalgroups_contained)-> bokeh_plot_3\n",
    "\n",
    "- mol_web_show(mol_smi)->bokeh_plot_4\n",
    "\n",
    "- all_in_one(bokeh_plot_1, bokeh_plot_2, bokeh_plot_3)-> bokeh_plot_final\n",
    "\n",
    "- smiles_to_3D_plot(mol_smi)-> 3D_panel_plot"
   ]
  },
  {
   "cell_type": "markdown",
   "metadata": {},
   "source": [
    "from all of these functions, the following two main functions are most useful:\n",
    "## Main functions"
   ]
  },
  {
   "cell_type": "markdown",
   "metadata": {},
   "source": [
    "\n",
    "\n",
    "- spectrum(mol_smi, imprecision_True_False, apparatus_resolution)\n",
    "\n",
    "- specturm_3D(mol_smi, imprecision_True_False, apparatus_resolution)\n",
    "\n",
    "## Functionality\n",
    "The main functions can both be made by combining the basic functions.\n",
    "\n",
    "# Examples\n",
    "First, all of the basic functions will be shown, in order to then construct spectrum and spectrum_3D out of them.\n",
    "\n"
   ]
  },
  {
   "cell_type": "markdown",
   "metadata": {},
   "source": [
    "## SMILEs interpreter\n",
    "This function takes a molecule under SMILEs representation as input and output its MOL represerntation"
   ]
  },
  {
   "cell_type": "code",
   "execution_count": null,
   "metadata": {},
   "outputs": [],
   "source": [
    "import MASSiveChem.MASSiveChem as MC\n",
    "print(MC.SMILEs_interpreter('CC1(C(N2C(S1)C(C2=O)NC(=O)CC3=CC=CC=C3)C(=O)O)C'))"
   ]
  },
  {
   "cell_type": "markdown",
   "metadata": {},
   "source": [
    "## molecule_list_generator\n",
    "This function takes a MOL representation as input and outputs a list of all of the atoms within that molecule"
   ]
  },
  {
   "cell_type": "code",
   "execution_count": null,
   "metadata": {},
   "outputs": [],
   "source": [
    "import MASSiveChem.MASSiveChem as MC\n",
    "mol = MC.SMILEs_interpreter('CC1(C(N2C(S1)C(C2=O)NC(=O)CC3=CC=CC=C3)C(=O)O)C')\n",
    "print(MC.molecule_list_generator(mol))"
   ]
  },
  {
   "cell_type": "markdown",
   "metadata": {},
   "source": [
    "## ionisation_method(list_atoms)\n",
    "This function takes a list of atoms as input and simply outputs the same list with a proton less (in essence, a hydrogen atom)"
   ]
  },
  {
   "cell_type": "code",
   "execution_count": null,
   "metadata": {},
   "outputs": [],
   "source": [
    "import MASSiveChem.MASSiveChem as MC\n",
    "\n",
    "list_atoms = ['C', 'C', 'C', 'N', 'C', 'S', 'C',\n",
    "            'C', 'O', 'N', 'C', 'O', 'C', 'C',\n",
    "            'C', 'C', 'C', 'C', 'C', 'C', 'O',\n",
    "            'O', 'C', 'H', 'H', 'H', 'H', 'H',\n",
    "            'H', 'H', 'H', 'H', 'H', 'H', 'H',\n",
    "            'H', 'H', 'H', 'H', 'H', 'H']\n",
    "\n",
    "print(MC.ionisation_method(list_atoms))"
   ]
  },
  {
   "cell_type": "markdown",
   "metadata": {},
   "source": [
    "## sulphur_nitrogen_finder(list_atoms)\n",
    "This function takes a list of atoms as input and output four values: has_N, has_S, count_N and count_S.\n",
    "has_N & has_S are True if there is an odd number of Nitrogen and Sulphur repsectively, and False otherwise."
   ]
  },
  {
   "cell_type": "code",
   "execution_count": null,
   "metadata": {},
   "outputs": [],
   "source": [
    "import MASSiveChem.MASSiveChem as MC\n",
    "\n",
    "list_atoms = ['C', 'C', 'C', 'N', 'C', 'S', 'C',\n",
    "            'C', 'O', 'N', 'C', 'O', 'C', 'C',\n",
    "            'C', 'C', 'C', 'C', 'C', 'C', 'O',\n",
    "            'O', 'C', 'H', 'H', 'H', 'H', 'H',\n",
    "            'H', 'H', 'H', 'H', 'H', 'H', 'H',\n",
    "            'H', 'H', 'H', 'H', 'H']\n",
    "\n",
    "output = (MC.sulphur_nitrogen_finder(list_atoms))\n",
    "print(output)"
   ]
  },
  {
   "cell_type": "markdown",
   "metadata": {},
   "source": [
    "## main_function(list_atoms)\n",
    "This function takes a list of atoms as an input, and will output two lists.\n",
    "\n",
    "The first (list_masses) is a list of the masses of all of the possible combinations of isotopes that can form the given molecule (under list representation) and the second (list_abundances) is a list of the probabilities of apparition of each of these combinations of isotopes.\n",
    "\n",
    "As such, both lists are the same length and the mass at index i in list_masses has the probability at index i in list_abundances associated to it."
   ]
  },
  {
   "cell_type": "code",
   "execution_count": null,
   "metadata": {},
   "outputs": [],
   "source": [
    "import MASSiveChem.MASSiveChem as MC\n",
    "\n",
    "output = MC.main_function(['C', 'C', 'C', 'N', 'C', 'S', 'C','C', 'O', 'N', 'C', 'O', 'C', 'C',\n",
    "                            'C', 'C', 'C', 'C', 'C', 'C', 'O','O', 'C', 'H', 'H', 'H', 'H', 'H',\n",
    "                            'H', 'H', 'H', 'H', 'H', 'H', 'H','H', 'H', 'H', 'H', 'H'], True)\n",
    "\n",
    "print(output)"
   ]
  },
  {
   "cell_type": "markdown",
   "metadata": {},
   "source": [
    "## peak_merger(list_masses, list_abundances)\n",
    "This function takes the two lists outputted by main_function, and merges the values in list_abundances if their values in list_masses are the same."
   ]
  },
  {
   "cell_type": "code",
   "execution_count": null,
   "metadata": {},
   "outputs": [],
   "source": [
    "import MASSiveChem.MASSiveChem as MC\n",
    "\n",
    "output = MC.peak_merger([336.09, 334.094, 336.084, 334.088, 337.086, 335.087, 334.09, 335.095, 334.095, 334.097, 333.091, 334.09], \n",
    "                        [0.006155135615344779, 0.1389218494465703, 0.00025689925174544854, 0.005798234418254755, 0.00016431194999935186,\n",
    "                        0.03458766547486355, 0.006161698124975695, 0.006260193058916763, 0.001252038611783352, 0.0019909461317594106, \n",
    "                        0.7806460744469201, 0.006245168595575361],\n",
    "                        0.01)\n",
    "\n",
    "print(output)"
   ]
  },
  {
   "cell_type": "markdown",
   "metadata": {},
   "source": [
    "## Sulphur_nitrogen_adder(x_in, y_in, has_N, has_S, count_N, count_S)\n",
    "This function takes the two outputted lists from peak_merger and adds the values for the sulphur and nitrogen peaks (if they need adding)"
   ]
  },
  {
   "cell_type": "code",
   "execution_count": null,
   "metadata": {},
   "outputs": [],
   "source": [
    "import MASSiveChem.MASSiveChem as MC\n",
    "\n",
    "x_in = [335.092, 335.086, 333.71807812500003, 334.09]\n",
    "y_in = [0.14507698506191508, 0.006055133670000204, 0.8310629277992183, 0.006245168595575361]\n",
    "has_N = False\n",
    "has_S = True\n",
    "count_N = 0\n",
    "count_S = 1\n",
    "\n",
    "output = MC.sulphur_nitrogen_adder(x_in, y_in, has_N, has_S, count_N, count_S)\n",
    "\n",
    "print(output)"
   ]
  },
  {
   "cell_type": "markdown",
   "metadata": {},
   "source": [
    "## peak_sorter(x_in, y_in)\n",
    "\n",
    "This function takes the two lists outputted by the previous function, and sorts them in order for the values in x_in to be increasing, whilst keeping the elements in y_in associated to the correct x_iin values."
   ]
  },
  {
   "cell_type": "code",
   "execution_count": null,
   "metadata": {},
   "outputs": [],
   "source": [
    "import MASSiveChem.MASSiveChem as MC\n",
    "\n",
    "x_in = [335.092, 335.086, 333.71807812500003, 334.09, 335.082]\n",
    "y_in = [0.14507698506191508, 0.006055133670000204, 0.8310629277992183, 0.006245168595575361, 0.006245168595575361]\n",
    "\n",
    "output = MC.peak_sorter(x_in, y_in)\n",
    "\n",
    "print(output)"
   ]
  },
  {
   "cell_type": "markdown",
   "metadata": {},
   "source": [
    "## delta_function_plotter(x_in, y_in)\n",
    "\n",
    "This function takes the two lists from the previous function, and then adds values of 0 on the x axis around each point, in effect causing the points to form a Dirac delta function when plotted with a simple line connecting the points."
   ]
  },
  {
   "cell_type": "code",
   "execution_count": null,
   "metadata": {},
   "outputs": [],
   "source": [
    "import MASSiveChem.MASSiveChem as MC\n",
    "\n",
    "x_in = [333.71807812500003, 334.09, 335.082, 335.086, 335.092]\n",
    "y_in = [0.8310629277992183, 0.006245168595575361, 0.006245168595575361, 0.006055133670000204, 0.14507698506191508]\n",
    "\n",
    "output = MC.delta_function_plotter(x_in, y_in)\n",
    "\n",
    "print(output)"
   ]
  },
  {
   "cell_type": "markdown",
   "metadata": {},
   "source": [
    "## double_plot(x_in,y_in)\n",
    "\n",
    "This function takes as an input the list of the masses (x_in) and the list of their intensities (y_in) and plot them on a bokeh interface. The graph is interactive to be able to zoom on peaks."
   ]
  },
  {
   "cell_type": "code",
   "execution_count": null,
   "metadata": {},
   "outputs": [],
   "source": [
    "import MASSiveChem.MASSiveChem as MC\n",
    "from bokeh.plotting import output_notebook, show\n",
    "\n",
    "output_notebook() #not necessary if you want to plot the image outside the outbook\n",
    "\n",
    "x_in = [333.21807812500003, 333.71807812500003, 333.71807812500003, 333.71807812500003, 334.09, 334.09, 334.09, 335.082, 335.082, 335.082, 335.086, 335.086, 335.086, 335.092, 335.092, 335.092, 336.092]\n",
    "y_in = [0, 0, 0.8310629277992183, 0, 0, 0.006245168595575361, 0, 0, 0.006245168595575361, 0, 0, 0.006055133670000204, 0, 0, 0.14507698506191508, 0, 0]\n",
    "\n",
    "output = MC.double_plot(x_in,y_in)\n",
    "\n",
    "show(output)"
   ]
  },
  {
   "cell_type": "markdown",
   "metadata": {},
   "source": [
    "## functional_group_finder(mol_smi)\n",
    "This function takes in the smiles of a given molecule, and outputs a list of all of the contained functional groups (the list contains the names of the functional groups)"
   ]
  },
  {
   "cell_type": "code",
   "execution_count": null,
   "metadata": {},
   "outputs": [],
   "source": [
    "import MASSiveChem.MASSiveChem as MC\n",
    "\n",
    "mol_smi = 'CC1(C(N2C(S1)C(C2=O)NC(=O)CC3=CC=CC=C3)C(=O)O)C'\n",
    "\n",
    "output = MC.functional_group_finder(mol_smi)\n",
    "\n",
    "print(output)"
   ]
  },
  {
   "cell_type": "markdown",
   "metadata": {},
   "source": [
    "## functional_group_display(contained_functional_groups)\n",
    "\n",
    "This function takes as an input the list of the contained functional groups of the molecule and plots a table of the functional groups in a bokeh interface"
   ]
  },
  {
   "cell_type": "code",
   "execution_count": null,
   "metadata": {},
   "outputs": [],
   "source": [
    "import MASSiveChem.MASSiveChem as MC\n",
    "from bokeh.plotting import output_notebook, show\n",
    "\n",
    "output_notebook() #not necessary if you want to plot the image outside the\n",
    "\n",
    "functional_groups = ['Carboxylic Acid', 'Amide', 'Amide', 'Amine', 'Sulfide', 'Benzene']\n",
    "\n",
    "output = MC.functional_group_display(functional_groups)\n",
    "\n",
    "show(output)"
   ]
  },
  {
   "cell_type": "markdown",
   "metadata": {},
   "source": [
    "## mol_web_show(mol_smi, show_Hs=False, show_3D = False)\n",
    "\n",
    "This function takes as an input the SMILEs of the molecule and plots the image of the molecule in a bokeh interface"
   ]
  },
  {
   "cell_type": "code",
   "execution_count": null,
   "metadata": {},
   "outputs": [],
   "source": [
    "import MASSiveChem.MASSiveChem as MC\n",
    "from bokeh.plotting import output_notebook, show\n",
    "\n",
    "output_notebook() #not necessary if you want to plot the image outside the notebook\n",
    "\n",
    "mol_smi = 'CC1(C(N2C(S1)C(C2=O)NC(=O)CC3=CC=CC=C3)C(=O)O)C'\n",
    "\n",
    "output = MC.mol_web_show(mol_smi)\n",
    "\n",
    "show(output)"
   ]
  },
  {
   "cell_type": "markdown",
   "metadata": {},
   "source": [
    "## all_in_one(p1, p2, p3)\n",
    "\n",
    "This function takes as an input 3 bokeh plots and put them together in one bokeh interface NOT READY"
   ]
  },
  {
   "cell_type": "code",
   "execution_count": 37,
   "metadata": {},
   "outputs": [
    {
     "data": {
      "text/html": [
       "    <style>\n",
       "        .bk-notebook-logo {\n",
       "            display: block;\n",
       "            width: 20px;\n",
       "            height: 20px;\n",
       "            background-image: url(data:image/png;base64,iVBORw0KGgoAAAANSUhEUgAAABQAAAAUCAYAAACNiR0NAAAABHNCSVQICAgIfAhkiAAAAAlwSFlzAAALEgAACxIB0t1+/AAAABx0RVh0U29mdHdhcmUAQWRvYmUgRmlyZXdvcmtzIENTNui8sowAAAOkSURBVDiNjZRtaJVlGMd/1/08zzln5zjP1LWcU9N0NkN8m2CYjpgQYQXqSs0I84OLIC0hkEKoPtiH3gmKoiJDU7QpLgoLjLIQCpEsNJ1vqUOdO7ppbuec5+V+rj4ctwzd8IIbbi6u+8f1539dt3A78eXC7QizUF7gyV1fD1Yqg4JWz84yffhm0qkFqBogB9rM8tZdtwVsPUhWhGcFJngGeWrPzHm5oaMmkfEg1usvLFyc8jLRqDOMru7AyC8saQr7GG7f5fvDeH7Ej8CM66nIF+8yngt6HWaKh7k49Soy9nXurCi1o3qUbS3zWfrYeQDTB/Qj6kX6Ybhw4B+bOYoLKCC9H3Nu/leUTZ1JdRWkkn2ldcCamzrcf47KKXdAJllSlxAOkRgyHsGC/zRday5Qld9DyoM4/q/rUoy/CXh3jzOu3bHUVZeU+DEn8FInkPBFlu3+nW3Nw0mk6vCDiWg8CeJaxEwuHS3+z5RgY+YBR6V1Z1nxSOfoaPa4LASWxxdNp+VWTk7+4vzaou8v8PN+xo+KY2xsw6une2frhw05CTYOmQvsEhjhWjn0bmXPjpE1+kplmmkP3suftwTubK9Vq22qKmrBhpY4jvd5afdRA3wGjFAgcnTK2s4hY0/GPNIb0nErGMCRxWOOX64Z8RAC4oCXdklmEvcL8o0BfkNK4lUg9HTl+oPlQxdNo3Mg4Nv175e/1LDGzZen30MEjRUtmXSfiTVu1kK8W4txyV6BMKlbgk3lMwYCiusNy9fVfvvwMxv8Ynl6vxoByANLTWplvuj/nF9m2+PDtt1eiHPBr1oIfhCChQMBw6Aw0UulqTKZdfVvfG7VcfIqLG9bcldL/+pdWTLxLUy8Qq38heUIjh4XlzZxzQm19lLFlr8vdQ97rjZVOLf8nclzckbcD4wxXMidpX30sFd37Fv/GtwwhzhxGVAprjbg0gCAEeIgwCZyTV2Z1REEW8O4py0wsjeloKoMr6iCY6dP92H6Vw/oTyICIthibxjm/DfN9lVz8IqtqKYLUXfoKVMVQVVJOElGjrnnUt9T9wbgp8AyYKaGlqingHZU/uG2NTZSVqwHQTWkx9hxjkpWDaCg6Ckj5qebgBVbT3V3NNXMSiWSDdGV3hrtzla7J+duwPOToIg42ChPQOQjspnSlp1V+Gjdged7+8UN5CRAV7a5EdFNwCjEaBR27b3W890TE7g24NAP/mMDXRWrGoFPQI9ls/MWO2dWFAar/xcOIImbbpA3zgAAAABJRU5ErkJggg==);\n",
       "        }\n",
       "    </style>\n",
       "    <div>\n",
       "        <a href=\"https://bokeh.org\" target=\"_blank\" class=\"bk-notebook-logo\"></a>\n",
       "        <span id=\"f79032c3-1064-4dd0-ae3b-a38493c3c26b\">Loading BokehJS ...</span>\n",
       "    </div>\n"
      ]
     },
     "metadata": {},
     "output_type": "display_data"
    },
    {
     "data": {
      "application/javascript": "'use strict';\n(function(root) {\n  function now() {\n    return new Date();\n  }\n\n  const force = true;\n\n  if (typeof root._bokeh_onload_callbacks === \"undefined\" || force === true) {\n    root._bokeh_onload_callbacks = [];\n    root._bokeh_is_loading = undefined;\n  }\n\nconst JS_MIME_TYPE = 'application/javascript';\n  const HTML_MIME_TYPE = 'text/html';\n  const EXEC_MIME_TYPE = 'application/vnd.bokehjs_exec.v0+json';\n  const CLASS_NAME = 'output_bokeh rendered_html';\n\n  /**\n   * Render data to the DOM node\n   */\n  function render(props, node) {\n    const script = document.createElement(\"script\");\n    node.appendChild(script);\n  }\n\n  /**\n   * Handle when an output is cleared or removed\n   */\n  function handleClearOutput(event, handle) {\n    function drop(id) {\n      const view = Bokeh.index.get_by_id(id)\n      if (view != null) {\n        view.model.document.clear()\n        Bokeh.index.delete(view)\n      }\n    }\n\n    const cell = handle.cell;\n\n    const id = cell.output_area._bokeh_element_id;\n    const server_id = cell.output_area._bokeh_server_id;\n\n    // Clean up Bokeh references\n    if (id != null) {\n      drop(id)\n    }\n\n    if (server_id !== undefined) {\n      // Clean up Bokeh references\n      const cmd_clean = \"from bokeh.io.state import curstate; print(curstate().uuid_to_server['\" + server_id + \"'].get_sessions()[0].document.roots[0]._id)\";\n      cell.notebook.kernel.execute(cmd_clean, {\n        iopub: {\n          output: function(msg) {\n            const id = msg.content.text.trim()\n            drop(id)\n          }\n        }\n      });\n      // Destroy server and session\n      const cmd_destroy = \"import bokeh.io.notebook as ion; ion.destroy_server('\" + server_id + \"')\";\n      cell.notebook.kernel.execute(cmd_destroy);\n    }\n  }\n\n  /**\n   * Handle when a new output is added\n   */\n  function handleAddOutput(event, handle) {\n    const output_area = handle.output_area;\n    const output = handle.output;\n\n    // limit handleAddOutput to display_data with EXEC_MIME_TYPE content only\n    if ((output.output_type != \"display_data\") || (!Object.prototype.hasOwnProperty.call(output.data, EXEC_MIME_TYPE))) {\n      return\n    }\n\n    const toinsert = output_area.element.find(\".\" + CLASS_NAME.split(' ')[0]);\n\n    if (output.metadata[EXEC_MIME_TYPE][\"id\"] !== undefined) {\n      toinsert[toinsert.length - 1].firstChild.textContent = output.data[JS_MIME_TYPE];\n      // store reference to embed id on output_area\n      output_area._bokeh_element_id = output.metadata[EXEC_MIME_TYPE][\"id\"];\n    }\n    if (output.metadata[EXEC_MIME_TYPE][\"server_id\"] !== undefined) {\n      const bk_div = document.createElement(\"div\");\n      bk_div.innerHTML = output.data[HTML_MIME_TYPE];\n      const script_attrs = bk_div.children[0].attributes;\n      for (let i = 0; i < script_attrs.length; i++) {\n        toinsert[toinsert.length - 1].firstChild.setAttribute(script_attrs[i].name, script_attrs[i].value);\n        toinsert[toinsert.length - 1].firstChild.textContent = bk_div.children[0].textContent\n      }\n      // store reference to server id on output_area\n      output_area._bokeh_server_id = output.metadata[EXEC_MIME_TYPE][\"server_id\"];\n    }\n  }\n\n  function register_renderer(events, OutputArea) {\n\n    function append_mime(data, metadata, element) {\n      // create a DOM node to render to\n      const toinsert = this.create_output_subarea(\n        metadata,\n        CLASS_NAME,\n        EXEC_MIME_TYPE\n      );\n      this.keyboard_manager.register_events(toinsert);\n      // Render to node\n      const props = {data: data, metadata: metadata[EXEC_MIME_TYPE]};\n      render(props, toinsert[toinsert.length - 1]);\n      element.append(toinsert);\n      return toinsert\n    }\n\n    /* Handle when an output is cleared or removed */\n    events.on('clear_output.CodeCell', handleClearOutput);\n    events.on('delete.Cell', handleClearOutput);\n\n    /* Handle when a new output is added */\n    events.on('output_added.OutputArea', handleAddOutput);\n\n    /**\n     * Register the mime type and append_mime function with output_area\n     */\n    OutputArea.prototype.register_mime_type(EXEC_MIME_TYPE, append_mime, {\n      /* Is output safe? */\n      safe: true,\n      /* Index of renderer in `output_area.display_order` */\n      index: 0\n    });\n  }\n\n  // register the mime type if in Jupyter Notebook environment and previously unregistered\n  if (root.Jupyter !== undefined) {\n    const events = require('base/js/events');\n    const OutputArea = require('notebook/js/outputarea').OutputArea;\n\n    if (OutputArea.prototype.mime_types().indexOf(EXEC_MIME_TYPE) == -1) {\n      register_renderer(events, OutputArea);\n    }\n  }\n  if (typeof (root._bokeh_timeout) === \"undefined\" || force === true) {\n    root._bokeh_timeout = Date.now() + 5000;\n    root._bokeh_failed_load = false;\n  }\n\n  const NB_LOAD_WARNING = {'data': {'text/html':\n     \"<div style='background-color: #fdd'>\\n\"+\n     \"<p>\\n\"+\n     \"BokehJS does not appear to have successfully loaded. If loading BokehJS from CDN, this \\n\"+\n     \"may be due to a slow or bad network connection. Possible fixes:\\n\"+\n     \"</p>\\n\"+\n     \"<ul>\\n\"+\n     \"<li>re-rerun `output_notebook()` to attempt to load from CDN again, or</li>\\n\"+\n     \"<li>use INLINE resources instead, as so:</li>\\n\"+\n     \"</ul>\\n\"+\n     \"<code>\\n\"+\n     \"from bokeh.resources import INLINE\\n\"+\n     \"output_notebook(resources=INLINE)\\n\"+\n     \"</code>\\n\"+\n     \"</div>\"}};\n\n  function display_loaded(error = null) {\n    const el = document.getElementById(\"f79032c3-1064-4dd0-ae3b-a38493c3c26b\");\n    if (el != null) {\n      const html = (() => {\n        if (typeof root.Bokeh === \"undefined\") {\n          if (error == null) {\n            return \"BokehJS is loading ...\";\n          } else {\n            return \"BokehJS failed to load.\";\n          }\n        } else {\n          const prefix = `BokehJS ${root.Bokeh.version}`;\n          if (error == null) {\n            return `${prefix} successfully loaded.`;\n          } else {\n            return `${prefix} <b>encountered errors</b> while loading and may not function as expected.`;\n          }\n        }\n      })();\n      el.innerHTML = html;\n\n      if (error != null) {\n        const wrapper = document.createElement(\"div\");\n        wrapper.style.overflow = \"auto\";\n        wrapper.style.height = \"5em\";\n        wrapper.style.resize = \"vertical\";\n        const content = document.createElement(\"div\");\n        content.style.fontFamily = \"monospace\";\n        content.style.whiteSpace = \"pre-wrap\";\n        content.style.backgroundColor = \"rgb(255, 221, 221)\";\n        content.textContent = error.stack ?? error.toString();\n        wrapper.append(content);\n        el.append(wrapper);\n      }\n    } else if (Date.now() < root._bokeh_timeout) {\n      setTimeout(() => display_loaded(error), 100);\n    }\n  }\n\n  function run_callbacks() {\n    try {\n      root._bokeh_onload_callbacks.forEach(function(callback) {\n        if (callback != null)\n          callback();\n      });\n    } finally {\n      delete root._bokeh_onload_callbacks\n    }\n    console.debug(\"Bokeh: all callbacks have finished\");\n  }\n\n  function load_libs(css_urls, js_urls, callback) {\n    if (css_urls == null) css_urls = [];\n    if (js_urls == null) js_urls = [];\n\n    root._bokeh_onload_callbacks.push(callback);\n    if (root._bokeh_is_loading > 0) {\n      console.debug(\"Bokeh: BokehJS is being loaded, scheduling callback at\", now());\n      return null;\n    }\n    if (js_urls == null || js_urls.length === 0) {\n      run_callbacks();\n      return null;\n    }\n    console.debug(\"Bokeh: BokehJS not loaded, scheduling load and callback at\", now());\n    root._bokeh_is_loading = css_urls.length + js_urls.length;\n\n    function on_load() {\n      root._bokeh_is_loading--;\n      if (root._bokeh_is_loading === 0) {\n        console.debug(\"Bokeh: all BokehJS libraries/stylesheets loaded\");\n        run_callbacks()\n      }\n    }\n\n    function on_error(url) {\n      console.error(\"failed to load \" + url);\n    }\n\n    for (let i = 0; i < css_urls.length; i++) {\n      const url = css_urls[i];\n      const element = document.createElement(\"link\");\n      element.onload = on_load;\n      element.onerror = on_error.bind(null, url);\n      element.rel = \"stylesheet\";\n      element.type = \"text/css\";\n      element.href = url;\n      console.debug(\"Bokeh: injecting link tag for BokehJS stylesheet: \", url);\n      document.body.appendChild(element);\n    }\n\n    for (let i = 0; i < js_urls.length; i++) {\n      const url = js_urls[i];\n      const element = document.createElement('script');\n      element.onload = on_load;\n      element.onerror = on_error.bind(null, url);\n      element.async = false;\n      element.src = url;\n      console.debug(\"Bokeh: injecting script tag for BokehJS library: \", url);\n      document.head.appendChild(element);\n    }\n  };\n\n  function inject_raw_css(css) {\n    const element = document.createElement(\"style\");\n    element.appendChild(document.createTextNode(css));\n    document.body.appendChild(element);\n  }\n\n  const js_urls = [\"static/extensions/panel/bundled/jquery/jquery.slim.min.js\", \"static/extensions/panel/bundled/plotlyplot/plotly-2.31.1.min.js\", \"https://cdn.bokeh.org/bokeh/release/bokeh-3.4.1.min.js\", \"https://cdn.bokeh.org/bokeh/release/bokeh-gl-3.4.1.min.js\", \"https://cdn.bokeh.org/bokeh/release/bokeh-widgets-3.4.1.min.js\", \"https://cdn.bokeh.org/bokeh/release/bokeh-tables-3.4.1.min.js\", \"https://cdn.bokeh.org/bokeh/release/bokeh-mathjax-3.4.1.min.js\", \"https://unpkg.com/@holoviz/panel@1.4.2/dist/panel.min.js\"];\n  const css_urls = [];\n\n  const inline_js = [    function(Bokeh) {\n      Bokeh.set_log_level(\"info\");\n    },\nfunction(Bokeh) {\n    }\n  ];\n\n  function run_inline_js() {\n    if (root.Bokeh !== undefined || force === true) {\n      try {\n            for (let i = 0; i < inline_js.length; i++) {\n      inline_js[i].call(root, root.Bokeh);\n    }\n\n      } catch (error) {display_loaded(error);throw error;\n      }if (force === true) {\n        display_loaded();\n      }} else if (Date.now() < root._bokeh_timeout) {\n      setTimeout(run_inline_js, 100);\n    } else if (!root._bokeh_failed_load) {\n      console.log(\"Bokeh: BokehJS failed to load within specified timeout.\");\n      root._bokeh_failed_load = true;\n    } else if (force !== true) {\n      const cell = $(document.getElementById(\"f79032c3-1064-4dd0-ae3b-a38493c3c26b\")).parents('.cell').data().cell;\n      cell.output_area.append_execute_result(NB_LOAD_WARNING)\n    }\n  }\n\n  if (root._bokeh_is_loading === 0) {\n    console.debug(\"Bokeh: BokehJS loaded, going straight to plotting\");\n    run_inline_js();\n  } else {\n    load_libs(css_urls, js_urls, function() {\n      console.debug(\"Bokeh: BokehJS plotting callback run at\", now());\n      run_inline_js();\n    });\n  }\n}(window));",
      "application/vnd.bokehjs_load.v0+json": ""
     },
     "metadata": {},
     "output_type": "display_data"
    },
    {
     "name": "stdout",
     "output_type": "stream",
     "text": [
      "here\n"
     ]
    },
    {
     "name": "stderr",
     "output_type": "stream",
     "text": [
      "/Users/igorgonteri/Documents/GitHub/ppchem-project-Christiansson-Gonteri-Humery/venv/lib/python3.11/site-packages/MASSiveChem/MASSiveChem.py:1992: BokehUserWarning:\n",
      "\n",
      "ColumnDataSource's columns must be of the same length. Current lengths: ('groups', 6), ('images', 5)\n",
      "\n",
      "WARNING:bokeh.core.validation.check:W-1000 (MISSING_RENDERERS): Plot has no renderers: figure(id='55d45161-2a1c-40d6-afe2-ebace0f50791', ...)\n"
     ]
    },
    {
     "data": {
      "text/html": [
       "\n",
       "  <div id=\"c2e6021f-c18b-4637-9889-30aff3ee8227\" data-root-id=\"d40f2bcd-797d-46fb-8581-e8eae980e251\" style=\"display: contents;\"></div>\n"
      ]
     },
     "metadata": {},
     "output_type": "display_data"
    },
    {
     "data": {
      "application/javascript": "(function(root) {\n  function embed_document(root) {\n  const docs_json = {\"b37afbcb-cbe0-4106-9112-8f4312d52d8a\":{\"version\":\"3.4.1\",\"title\":\"Bokeh Application\",\"roots\":[{\"type\":\"object\",\"name\":\"Row\",\"id\":\"d40f2bcd-797d-46fb-8581-e8eae980e251\",\"attributes\":{\"children\":[{\"type\":\"object\",\"name\":\"Column\",\"id\":\"39335d3c-0625-493b-8705-23902283938b\",\"attributes\":{\"children\":[{\"type\":\"object\",\"name\":\"Figure\",\"id\":\"9dba1ca3-5b66-42e3-92cd-71d20fd23f21\",\"attributes\":{\"height\":500,\"x_range\":{\"type\":\"object\",\"name\":\"DataRange1d\",\"id\":\"85816bad-3934-4064-9632-d2588d1c20a3\",\"attributes\":{\"js_property_callbacks\":{\"type\":\"map\",\"entries\":[[\"change:start\",[{\"type\":\"object\",\"name\":\"CustomJS\",\"id\":\"d3e2e83d-63b3-4be1-bd2f-a278077bcf85\",\"attributes\":{\"args\":{\"type\":\"map\",\"entries\":[[\"box\",{\"type\":\"object\",\"name\":\"BoxAnnotation\",\"id\":\"c3090c67-6dcc-42fe-8a10-de69eef7ee67\",\"attributes\":{\"left\":0,\"right\":0,\"top\":0,\"bottom\":0,\"line_color\":\"red\",\"fill_color\":\"cornflowerblue\",\"fill_alpha\":0.1}}]]},\"code\":\"\\n        box['left'] = cb_obj.start\\n        box['right'] = cb_obj.end\\n    \"}}]],[\"change:end\",[{\"id\":\"d3e2e83d-63b3-4be1-bd2f-a278077bcf85\"}]]]}}},\"y_range\":{\"type\":\"object\",\"name\":\"DataRange1d\",\"id\":\"0f9d764a-27e6-478b-b92d-9b001c20e9a1\",\"attributes\":{\"js_property_callbacks\":{\"type\":\"map\",\"entries\":[[\"change:start\",[{\"type\":\"object\",\"name\":\"CustomJS\",\"id\":\"8ce7c7e7-e61c-437a-bcf8-f9cfd30acfb2\",\"attributes\":{\"args\":{\"type\":\"map\",\"entries\":[[\"box\",{\"id\":\"c3090c67-6dcc-42fe-8a10-de69eef7ee67\"}]]},\"code\":\"\\n        box['bottom'] = cb_obj.start\\n        box['top'] = cb_obj.end\\n    \"}}]],[\"change:end\",[{\"id\":\"8ce7c7e7-e61c-437a-bcf8-f9cfd30acfb2\"}]]]}}},\"x_scale\":{\"type\":\"object\",\"name\":\"LinearScale\",\"id\":\"a543e313-1dc2-4c60-889d-ec965ef214d2\"},\"y_scale\":{\"type\":\"object\",\"name\":\"LinearScale\",\"id\":\"bfcbdf35-93fc-48c7-aff3-92d197f0b783\"},\"title\":{\"type\":\"object\",\"name\":\"Title\",\"id\":\"c1ae7ef7-2ada-49c1-bc8d-841540600b66\"},\"renderers\":[{\"type\":\"object\",\"name\":\"GlyphRenderer\",\"id\":\"54f1f4b6-edd3-4cb2-88ca-85ce53d27b3f\",\"attributes\":{\"data_source\":{\"type\":\"object\",\"name\":\"ColumnDataSource\",\"id\":\"203a5276-6e50-41bc-8041-56658e4b608f\",\"attributes\":{\"selected\":{\"type\":\"object\",\"name\":\"Selection\",\"id\":\"a18be5b6-64fd-4f71-bc4b-aede792b517e\",\"attributes\":{\"indices\":[],\"line_indices\":[]}},\"selection_policy\":{\"type\":\"object\",\"name\":\"UnionRenderers\",\"id\":\"e1b89229-ac8b-4fd3-a200-a4068f201495\"},\"data\":{\"type\":\"map\",\"entries\":[[\"x\",[333.21807812500003,333.71807812500003,333.71807812500003,333.71807812500003,334.09,334.09,334.09,335.082,335.082,335.082,335.086,335.086,335.086,335.092,335.092,335.092,336.092]],[\"y\",[0,0,0.8310629277992183,0,0,0.006245168595575361,0,0,0.006245168595575361,0,0,0.006055133670000204,0,0,0.14507698506191508,0,0]]]}}},\"view\":{\"type\":\"object\",\"name\":\"CDSView\",\"id\":\"4ce9a3fb-f351-4924-9a3b-83a757ee8624\",\"attributes\":{\"filter\":{\"type\":\"object\",\"name\":\"AllIndices\",\"id\":\"982141f1-8a56-4f49-9944-6262368010d3\"}}},\"glyph\":{\"type\":\"object\",\"name\":\"Line\",\"id\":\"bf5e4d83-bda5-4a2b-ab6c-766951b062f5\",\"attributes\":{\"x\":{\"type\":\"field\",\"field\":\"x\"},\"y\":{\"type\":\"field\",\"field\":\"y\"},\"line_color\":\"#1f77b4\"}},\"nonselection_glyph\":{\"type\":\"object\",\"name\":\"Line\",\"id\":\"d3427551-7446-4e5d-8dd5-d0b19a6b3665\",\"attributes\":{\"x\":{\"type\":\"field\",\"field\":\"x\"},\"y\":{\"type\":\"field\",\"field\":\"y\"},\"line_color\":\"#1f77b4\",\"line_alpha\":0.1}},\"muted_glyph\":{\"type\":\"object\",\"name\":\"Line\",\"id\":\"3ef9e601-4190-4278-9772-254336370f72\",\"attributes\":{\"x\":{\"type\":\"field\",\"field\":\"x\"},\"y\":{\"type\":\"field\",\"field\":\"y\"},\"line_color\":\"#1f77b4\",\"line_alpha\":0.2}}}}],\"toolbar\":{\"type\":\"object\",\"name\":\"Toolbar\",\"id\":\"733552a5-d989-49d6-8013-55e364275da6\",\"attributes\":{\"tools\":[{\"type\":\"object\",\"name\":\"PanTool\",\"id\":\"a7f963bf-8251-482a-bf2d-723ccf211256\"},{\"type\":\"object\",\"name\":\"WheelZoomTool\",\"id\":\"0d7abb1b-e647-4e79-9490-aa932159f8d1\",\"attributes\":{\"renderers\":\"auto\"}},{\"type\":\"object\",\"name\":\"BoxZoomTool\",\"id\":\"935b7f63-8979-4011-ab07-7e87fc97e9f5\",\"attributes\":{\"overlay\":{\"type\":\"object\",\"name\":\"BoxAnnotation\",\"id\":\"495ab4d4-3486-488c-93e7-c1e52b9f9b41\",\"attributes\":{\"syncable\":false,\"level\":\"overlay\",\"visible\":false,\"left\":{\"type\":\"number\",\"value\":\"nan\"},\"right\":{\"type\":\"number\",\"value\":\"nan\"},\"top\":{\"type\":\"number\",\"value\":\"nan\"},\"bottom\":{\"type\":\"number\",\"value\":\"nan\"},\"left_units\":\"canvas\",\"right_units\":\"canvas\",\"top_units\":\"canvas\",\"bottom_units\":\"canvas\",\"line_color\":\"black\",\"line_alpha\":1.0,\"line_width\":2,\"line_dash\":[4,4],\"fill_color\":\"lightgrey\",\"fill_alpha\":0.5}}}},{\"type\":\"object\",\"name\":\"SaveTool\",\"id\":\"30ffcf87-229a-4696-99aa-c8da9e38b436\"},{\"type\":\"object\",\"name\":\"ResetTool\",\"id\":\"ee92a72f-90f7-4566-9b67-e679f83c0161\"},{\"type\":\"object\",\"name\":\"HelpTool\",\"id\":\"77d24ccc-f23c-475f-822c-831985977804\"},{\"type\":\"object\",\"name\":\"WheelPanTool\",\"id\":\"c49d0fe4-76a4-4b5c-b206-771797f1f979\",\"attributes\":{\"dimension\":\"height\"}},{\"type\":\"object\",\"name\":\"WheelZoomTool\",\"id\":\"babb4eee-962f-460b-b5cc-2080ab60b3dc\",\"attributes\":{\"dimensions\":\"height\",\"renderers\":\"auto\"}}]}},\"left\":[{\"type\":\"object\",\"name\":\"LinearAxis\",\"id\":\"02cbed8c-14ec-4bbe-ad58-cf99d6687f7e\",\"attributes\":{\"ticker\":{\"type\":\"object\",\"name\":\"BasicTicker\",\"id\":\"0ab1b18f-8b2c-495e-ae24-8459a1beff35\",\"attributes\":{\"mantissas\":[1,2,5]}},\"formatter\":{\"type\":\"object\",\"name\":\"BasicTickFormatter\",\"id\":\"5049018f-35c6-48bc-8171-cbbe1c21e37f\"},\"axis_label\":\"Abundance\",\"major_label_policy\":{\"type\":\"object\",\"name\":\"AllLabels\",\"id\":\"5d900445-b0d6-4a48-9a0c-67ff5eecac5d\"}}}],\"below\":[{\"type\":\"object\",\"name\":\"LinearAxis\",\"id\":\"02b2b87f-38b5-4b31-8d1c-6aafa372180d\",\"attributes\":{\"ticker\":{\"type\":\"object\",\"name\":\"FixedTicker\",\"id\":\"eaf37a72-7ba9-4969-bb95-7bc5481c304c\",\"attributes\":{\"ticks\":[333.71807812500003,334.09,335.082,335.086,335.092],\"minor_ticks\":[]}},\"formatter\":{\"type\":\"object\",\"name\":\"BasicTickFormatter\",\"id\":\"94e3030e-4acd-4299-a143-121544f4bf54\"},\"axis_label\":\"[m/z]\",\"major_label_policy\":{\"type\":\"object\",\"name\":\"AllLabels\",\"id\":\"d8e67788-9a92-4892-8af5-be591000ef72\"}}}],\"center\":[{\"type\":\"object\",\"name\":\"Grid\",\"id\":\"78248a8e-d276-4dc5-b4cd-131147b6f5a3\",\"attributes\":{\"axis\":{\"id\":\"02b2b87f-38b5-4b31-8d1c-6aafa372180d\"}}},{\"type\":\"object\",\"name\":\"Grid\",\"id\":\"11894992-5b2c-4742-91cb-888e0310c8a8\",\"attributes\":{\"dimension\":1,\"axis\":{\"id\":\"02cbed8c-14ec-4bbe-ad58-cf99d6687f7e\"}}}]}},{\"type\":\"object\",\"name\":\"Figure\",\"id\":\"134b5d50-e75c-45cf-b4eb-6dcbec774c84\",\"attributes\":{\"height\":300,\"x_range\":{\"type\":\"object\",\"name\":\"DataRange1d\",\"id\":\"40d92df6-34f2-441b-85c9-253d740e6312\"},\"y_range\":{\"type\":\"object\",\"name\":\"DataRange1d\",\"id\":\"ae207870-47fd-4f36-8a57-4a3e359d027c\"},\"x_scale\":{\"type\":\"object\",\"name\":\"LinearScale\",\"id\":\"223b546c-483a-4072-a0d3-fb22cd25cfe7\"},\"y_scale\":{\"type\":\"object\",\"name\":\"LinearScale\",\"id\":\"749bbb9f-26dd-4391-9717-ca46119baf81\"},\"title\":{\"type\":\"object\",\"name\":\"Title\",\"id\":\"384e3d53-dcf3-4fca-a11b-8d511150ddec\"},\"renderers\":[{\"type\":\"object\",\"name\":\"GlyphRenderer\",\"id\":\"181cfeb9-ec89-4519-bdbd-882a312ba73b\",\"attributes\":{\"data_source\":{\"type\":\"object\",\"name\":\"ColumnDataSource\",\"id\":\"91a65688-f107-4fd8-adf4-5c196bee8f79\",\"attributes\":{\"selected\":{\"type\":\"object\",\"name\":\"Selection\",\"id\":\"740f2846-3502-43cd-a9f4-864c99128904\",\"attributes\":{\"indices\":[],\"line_indices\":[]}},\"selection_policy\":{\"type\":\"object\",\"name\":\"UnionRenderers\",\"id\":\"f41c5c8f-1f06-4370-98d6-76a43f9eec04\"},\"data\":{\"type\":\"map\",\"entries\":[[\"x\",[333.21807812500003,333.71807812500003,333.71807812500003,333.71807812500003,334.09,334.09,334.09,335.082,335.082,335.082,335.086,335.086,335.086,335.092,335.092,335.092,336.092]],[\"y\",[0,0,0.8310629277992183,0,0,0.006245168595575361,0,0,0.006245168595575361,0,0,0.006055133670000204,0,0,0.14507698506191508,0,0]]]}}},\"view\":{\"type\":\"object\",\"name\":\"CDSView\",\"id\":\"5c456e7c-5c9b-4841-b2f5-3dfdd22200ae\",\"attributes\":{\"filter\":{\"type\":\"object\",\"name\":\"AllIndices\",\"id\":\"f067f6e9-80c8-424b-b6bb-10288c271082\"}}},\"glyph\":{\"type\":\"object\",\"name\":\"Line\",\"id\":\"d1df38ef-b376-4a03-b91f-29e2d0d1e82f\",\"attributes\":{\"x\":{\"type\":\"field\",\"field\":\"x\"},\"y\":{\"type\":\"field\",\"field\":\"y\"},\"line_color\":\"#1f77b4\"}},\"nonselection_glyph\":{\"type\":\"object\",\"name\":\"Line\",\"id\":\"9f36859c-a0d7-4bce-82e9-9216e14e2d67\",\"attributes\":{\"x\":{\"type\":\"field\",\"field\":\"x\"},\"y\":{\"type\":\"field\",\"field\":\"y\"},\"line_color\":\"#1f77b4\",\"line_alpha\":0.1}},\"muted_glyph\":{\"type\":\"object\",\"name\":\"Line\",\"id\":\"fee7f5f7-0ef4-4058-b6dc-5fda418c5482\",\"attributes\":{\"x\":{\"type\":\"field\",\"field\":\"x\"},\"y\":{\"type\":\"field\",\"field\":\"y\"},\"line_color\":\"#1f77b4\",\"line_alpha\":0.2}}}}],\"toolbar\":{\"type\":\"object\",\"name\":\"Toolbar\",\"id\":\"57adb45e-5f57-4626-8f55-449b7d8342e4\",\"attributes\":{\"tools\":[{\"type\":\"object\",\"name\":\"PanTool\",\"id\":\"b5d507a8-0355-4b4c-b0ce-b378f14451f7\"},{\"type\":\"object\",\"name\":\"WheelZoomTool\",\"id\":\"37f48be6-14de-417c-9cc5-2a1465b3406f\",\"attributes\":{\"renderers\":\"auto\"}},{\"type\":\"object\",\"name\":\"BoxZoomTool\",\"id\":\"372cce1b-5b5c-42c5-9678-986c64588a85\",\"attributes\":{\"overlay\":{\"type\":\"object\",\"name\":\"BoxAnnotation\",\"id\":\"2c8df79e-ad65-4096-9e3a-3a480aa53343\",\"attributes\":{\"syncable\":false,\"level\":\"overlay\",\"visible\":false,\"left\":{\"type\":\"number\",\"value\":\"nan\"},\"right\":{\"type\":\"number\",\"value\":\"nan\"},\"top\":{\"type\":\"number\",\"value\":\"nan\"},\"bottom\":{\"type\":\"number\",\"value\":\"nan\"},\"left_units\":\"canvas\",\"right_units\":\"canvas\",\"top_units\":\"canvas\",\"bottom_units\":\"canvas\",\"line_color\":\"black\",\"line_alpha\":1.0,\"line_width\":2,\"line_dash\":[4,4],\"fill_color\":\"lightgrey\",\"fill_alpha\":0.5}}}},{\"type\":\"object\",\"name\":\"SaveTool\",\"id\":\"525e0d4f-5e45-4f57-83a1-9fe03bcdb3ea\"},{\"type\":\"object\",\"name\":\"ResetTool\",\"id\":\"75fde16e-c026-45ed-bc9e-38113e88d0af\"},{\"type\":\"object\",\"name\":\"HelpTool\",\"id\":\"1e862e24-adea-49f0-8807-54d4b495a65d\"}]}},\"toolbar_location\":null,\"left\":[{\"type\":\"object\",\"name\":\"LinearAxis\",\"id\":\"61b7adf0-ff3f-4e33-a2f7-d4a731057e0a\",\"attributes\":{\"ticker\":{\"type\":\"object\",\"name\":\"BasicTicker\",\"id\":\"6e1ef542-93ed-42a8-8e5d-8884d22c52a2\",\"attributes\":{\"mantissas\":[1,2,5]}},\"formatter\":{\"type\":\"object\",\"name\":\"BasicTickFormatter\",\"id\":\"5641fa6e-5f79-4680-bc5d-15d8cafdd709\"},\"major_label_policy\":{\"type\":\"object\",\"name\":\"AllLabels\",\"id\":\"2fcd1f08-1f15-49e7-82d4-4b56aaee9b8f\"}}}],\"below\":[{\"type\":\"object\",\"name\":\"LinearAxis\",\"id\":\"a251d6b6-ba04-48f8-ae47-2ca6777730b6\",\"attributes\":{\"ticker\":{\"type\":\"object\",\"name\":\"BasicTicker\",\"id\":\"9b629444-d1f4-4631-8b29-151af1c94ed9\",\"attributes\":{\"mantissas\":[1,2,5]}},\"formatter\":{\"type\":\"object\",\"name\":\"BasicTickFormatter\",\"id\":\"b454d364-29c7-455b-8087-4dcdc3ee3ed0\"},\"major_label_policy\":{\"type\":\"object\",\"name\":\"AllLabels\",\"id\":\"2ece78b7-8e76-473a-93b9-5f6e56febea5\"}}}],\"center\":[{\"type\":\"object\",\"name\":\"Grid\",\"id\":\"565be941-a62d-4fb7-b9de-f4e278a92757\",\"attributes\":{\"axis\":{\"id\":\"a251d6b6-ba04-48f8-ae47-2ca6777730b6\"}}},{\"type\":\"object\",\"name\":\"Grid\",\"id\":\"6b6dfe15-9de5-46c2-9da4-02136f568377\",\"attributes\":{\"dimension\":1,\"axis\":{\"id\":\"61b7adf0-ff3f-4e33-a2f7-d4a731057e0a\"}}},{\"type\":\"object\",\"name\":\"Legend\",\"id\":\"5662cdf7-9fc2-4999-85c6-94703bdcc67a\",\"attributes\":{\"items\":[{\"type\":\"object\",\"name\":\"LegendItem\",\"id\":\"650a17d2-45c2-4825-9284-06348a0fd900\",\"attributes\":{\"label\":{\"type\":\"value\",\"value\":\"Mass spectrum\"},\"renderers\":[{\"id\":\"181cfeb9-ec89-4519-bdbd-882a312ba73b\"}]}}]}},{\"id\":\"c3090c67-6dcc-42fe-8a10-de69eef7ee67\"}]}}]}},{\"type\":\"object\",\"name\":\"Column\",\"id\":\"c9de0b29-4406-41dc-b0d4-cf9d3f6a0634\",\"attributes\":{\"children\":[{\"type\":\"object\",\"name\":\"Figure\",\"id\":\"6f1ae35b-ef5b-4fd9-b861-55155ca49a2d\",\"attributes\":{\"width\":350,\"height\":350,\"x_range\":{\"type\":\"object\",\"name\":\"Range1d\",\"id\":\"683314cf-3105-4957-9cbd-8e0cabbaaa18\"},\"y_range\":{\"type\":\"object\",\"name\":\"Range1d\",\"id\":\"2ae4bb50-1b6b-41d6-b8ac-6473c0a9dfe6\"},\"x_scale\":{\"type\":\"object\",\"name\":\"LinearScale\",\"id\":\"d97a44be-c6cf-4297-a4e7-c789ea4720ff\"},\"y_scale\":{\"type\":\"object\",\"name\":\"LinearScale\",\"id\":\"038a4db2-a570-488a-a0fa-bec708f03afa\"},\"title\":{\"type\":\"object\",\"name\":\"Title\",\"id\":\"2e0c7cd5-3876-4b46-ab57-624273508c06\"},\"renderers\":[{\"type\":\"object\",\"name\":\"GlyphRenderer\",\"id\":\"2259e5d0-80d6-47ce-99e6-61cebc182b63\",\"attributes\":{\"data_source\":{\"type\":\"object\",\"name\":\"ColumnDataSource\",\"id\":\"6a2539dc-84f8-4039-9c7e-0ff0ea436b6a\",\"attributes\":{\"selected\":{\"type\":\"object\",\"name\":\"Selection\",\"id\":\"794ee741-b071-400f-9399-d477b6a5af2f\",\"attributes\":{\"indices\":[],\"line_indices\":[]}},\"selection_policy\":{\"type\":\"object\",\"name\":\"UnionRenderers\",\"id\":\"9746c4ba-f575-4d31-bed4-4c75ce79f8c5\"},\"data\":{\"type\":\"map\",\"entries\":[[\"url\",[\"/Users/igorgonteri/Documents/GitHub/ppchem-project-Christiansson-Gonteri-Humery/notebooks/molecule_image.png\"]]]}}},\"view\":{\"type\":\"object\",\"name\":\"CDSView\",\"id\":\"dfbe08ab-7d99-4f13-82c0-169dff4206c1\",\"attributes\":{\"filter\":{\"type\":\"object\",\"name\":\"AllIndices\",\"id\":\"629a3960-7a81-4255-8565-7064bcd4983a\"}}},\"glyph\":{\"type\":\"object\",\"name\":\"ImageURL\",\"id\":\"3732a95f-0192-478b-b461-2d2350cd9081\",\"attributes\":{\"url\":{\"type\":\"field\",\"field\":\"url\"},\"x\":{\"type\":\"value\",\"value\":0},\"y\":{\"type\":\"value\",\"value\":1},\"w\":{\"type\":\"value\",\"value\":1},\"h\":{\"type\":\"value\",\"value\":1}}},\"nonselection_glyph\":{\"type\":\"object\",\"name\":\"ImageURL\",\"id\":\"4c10bcd3-fa20-44d9-afd6-fc282f314d4b\",\"attributes\":{\"url\":{\"type\":\"field\",\"field\":\"url\"},\"x\":{\"type\":\"value\",\"value\":0},\"y\":{\"type\":\"value\",\"value\":1},\"w\":{\"type\":\"value\",\"value\":1},\"h\":{\"type\":\"value\",\"value\":1},\"global_alpha\":{\"type\":\"value\",\"value\":0.1}}},\"muted_glyph\":{\"type\":\"object\",\"name\":\"ImageURL\",\"id\":\"53e1fcd0-8635-439c-8bac-e31806a385fd\",\"attributes\":{\"url\":{\"type\":\"field\",\"field\":\"url\"},\"x\":{\"type\":\"value\",\"value\":0},\"y\":{\"type\":\"value\",\"value\":1},\"w\":{\"type\":\"value\",\"value\":1},\"h\":{\"type\":\"value\",\"value\":1},\"global_alpha\":{\"type\":\"value\",\"value\":0.2}}}}}],\"toolbar\":{\"type\":\"object\",\"name\":\"Toolbar\",\"id\":\"a57df101-82ba-45f5-b080-ad8a973c1f54\",\"attributes\":{\"tools\":[{\"type\":\"object\",\"name\":\"PanTool\",\"id\":\"9801df14-2240-4838-9ca6-d51032dc18ca\"},{\"type\":\"object\",\"name\":\"WheelZoomTool\",\"id\":\"7ab30ced-9f84-4e01-b434-578097a86611\",\"attributes\":{\"renderers\":\"auto\"}},{\"type\":\"object\",\"name\":\"BoxZoomTool\",\"id\":\"63f9a87f-b78b-40b5-b1e0-3fdfa4e18216\",\"attributes\":{\"overlay\":{\"type\":\"object\",\"name\":\"BoxAnnotation\",\"id\":\"7aa9e1e3-67cc-4cbe-a4dc-6e0fd20c5d3b\",\"attributes\":{\"syncable\":false,\"level\":\"overlay\",\"visible\":false,\"left\":{\"type\":\"number\",\"value\":\"nan\"},\"right\":{\"type\":\"number\",\"value\":\"nan\"},\"top\":{\"type\":\"number\",\"value\":\"nan\"},\"bottom\":{\"type\":\"number\",\"value\":\"nan\"},\"left_units\":\"canvas\",\"right_units\":\"canvas\",\"top_units\":\"canvas\",\"bottom_units\":\"canvas\",\"line_color\":\"black\",\"line_alpha\":1.0,\"line_width\":2,\"line_dash\":[4,4],\"fill_color\":\"lightgrey\",\"fill_alpha\":0.5}}}},{\"type\":\"object\",\"name\":\"SaveTool\",\"id\":\"445f8b2c-9b8c-451e-b01a-2c3e78a07eea\"},{\"type\":\"object\",\"name\":\"ResetTool\",\"id\":\"aa07a22c-a62f-4273-ba0a-3b4a0f32f5b3\"},{\"type\":\"object\",\"name\":\"HelpTool\",\"id\":\"c68e71e1-2d59-4a16-97d2-d1d897eff17d\"}]}},\"toolbar_location\":null,\"left\":[{\"type\":\"object\",\"name\":\"LinearAxis\",\"id\":\"721ee995-7100-43a6-a2ba-98b42ec0e024\",\"attributes\":{\"visible\":false,\"ticker\":{\"type\":\"object\",\"name\":\"BasicTicker\",\"id\":\"6888d808-efd4-4e54-85b7-1106d90992d2\",\"attributes\":{\"mantissas\":[1,2,5]}},\"formatter\":{\"type\":\"object\",\"name\":\"BasicTickFormatter\",\"id\":\"df7a180d-564c-46c8-a678-24024ddc3beb\"},\"major_label_policy\":{\"type\":\"object\",\"name\":\"AllLabels\",\"id\":\"f9f20d24-fcb2-489e-bb69-779cd192fa2a\"}}}],\"below\":[{\"type\":\"object\",\"name\":\"LinearAxis\",\"id\":\"575afe29-98e9-4090-bd66-e264642dab65\",\"attributes\":{\"visible\":false,\"ticker\":{\"type\":\"object\",\"name\":\"BasicTicker\",\"id\":\"f2c13209-ae43-43a8-86c9-f47f9a4e909c\",\"attributes\":{\"mantissas\":[1,2,5]}},\"formatter\":{\"type\":\"object\",\"name\":\"BasicTickFormatter\",\"id\":\"6ff401f3-4b3f-46aa-846c-9f2d16a2bd83\"},\"major_label_policy\":{\"type\":\"object\",\"name\":\"AllLabels\",\"id\":\"97b20279-3741-486b-a7ae-edf073859d40\"}}}],\"center\":[{\"type\":\"object\",\"name\":\"Grid\",\"id\":\"527380ba-6b46-4370-81d0-7f6615665a0d\",\"attributes\":{\"axis\":{\"id\":\"575afe29-98e9-4090-bd66-e264642dab65\"},\"grid_line_color\":null}},{\"type\":\"object\",\"name\":\"Grid\",\"id\":\"abfaec39-d583-46d4-9f4f-6d71cf3eaadb\",\"attributes\":{\"dimension\":1,\"axis\":{\"id\":\"721ee995-7100-43a6-a2ba-98b42ec0e024\"},\"grid_line_color\":null}}]}},{\"type\":\"object\",\"name\":\"Row\",\"id\":\"c0158a17-fff9-482b-978c-b793ff57976a\",\"attributes\":{\"children\":[{\"type\":\"object\",\"name\":\"DataTable\",\"id\":\"87fa9a21-47c9-4d93-b2aa-0dbdc9be80b4\",\"attributes\":{\"width\":250,\"height\":560,\"source\":{\"type\":\"object\",\"name\":\"ColumnDataSource\",\"id\":\"e44aa646-219b-44b7-9fc7-e8a162502783\",\"attributes\":{\"selected\":{\"type\":\"object\",\"name\":\"Selection\",\"id\":\"a4ea4368-5ed7-4e49-851b-9fda95b9aedd\",\"attributes\":{\"indices\":[],\"line_indices\":[]}},\"selection_policy\":{\"type\":\"object\",\"name\":\"UnionRenderers\",\"id\":\"2a1841b0-0764-431b-9953-d78d97662115\"},\"data\":{\"type\":\"map\",\"entries\":[[\"groups\",[\"Carboxylic Acid\",\"Amide\",\"Amide\",\"Amine\",\"Sulfides\",\"Benzene\"]],[\"images\",[\"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\",\"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\",\"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\",\"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\",\"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\"]]]}}},\"view\":{\"type\":\"object\",\"name\":\"CDSView\",\"id\":\"b9d564af-807c-4b48-b8b8-54183b9931f3\",\"attributes\":{\"filter\":{\"type\":\"object\",\"name\":\"AllIndices\",\"id\":\"0bb0cce8-3000-468f-8bc8-a15634524899\"}}},\"columns\":[{\"type\":\"object\",\"name\":\"TableColumn\",\"id\":\"7d7d36d4-4640-4704-ba4b-82d7186dfa61\",\"attributes\":{\"field\":\"groups\",\"title\":\"Functional Groups\",\"formatter\":{\"type\":\"object\",\"name\":\"StringFormatter\",\"id\":\"1626c5f0-69d1-43d3-a6c5-7a18cd3a1049\"},\"editor\":{\"type\":\"object\",\"name\":\"StringEditor\",\"id\":\"d0e05c9c-81de-43a7-92df-853890537464\"}}},{\"type\":\"object\",\"name\":\"TableColumn\",\"id\":\"04528292-a71c-4e87-b49c-c1ac79486533\",\"attributes\":{\"field\":\"images\",\"title\":\"Images\",\"width\":200,\"formatter\":{\"type\":\"object\",\"name\":\"HTMLTemplateFormatter\",\"id\":\"e58b15dc-d376-4671-8315-0cf0d0d3e573\",\"attributes\":{\"template\":\"\\n    <div>\\n        <img src=\\\"data:image/png;base64, <%= value %>\\\" style=\\\"width:50px;height:50px;\\\">\\n    </div>\\n    \"}},\"editor\":{\"type\":\"object\",\"name\":\"StringEditor\",\"id\":\"69bff2d9-a173-4588-a559-754b34a0419f\"}}}],\"row_height\":60}},{\"type\":\"object\",\"name\":\"Figure\",\"id\":\"55d45161-2a1c-40d6-afe2-ebace0f50791\",\"attributes\":{\"x_range\":{\"type\":\"object\",\"name\":\"DataRange1d\",\"id\":\"62e94adc-acaf-4a13-96ce-dab0c3ea4edd\"},\"y_range\":{\"type\":\"object\",\"name\":\"DataRange1d\",\"id\":\"0de03b3e-d9c6-4dba-8cac-0af4485c3624\"},\"x_scale\":{\"type\":\"object\",\"name\":\"LinearScale\",\"id\":\"068494cf-14a3-4eb2-b51f-383aedb05a0f\"},\"y_scale\":{\"type\":\"object\",\"name\":\"LinearScale\",\"id\":\"44dea6e9-06b5-451a-b5e9-ebc11ffd331f\"},\"title\":{\"type\":\"object\",\"name\":\"Title\",\"id\":\"762afcee-c378-412a-8039-089020807314\",\"attributes\":{\"text\":\"Random Bokeh Figure\"}},\"toolbar\":{\"type\":\"object\",\"name\":\"Toolbar\",\"id\":\"5fea5e4e-6e9e-4227-afb3-e821412d9b04\",\"attributes\":{\"tools\":[{\"type\":\"object\",\"name\":\"PanTool\",\"id\":\"2edb6bdf-9579-41dd-b010-0e6b0698a9ae\"},{\"type\":\"object\",\"name\":\"WheelZoomTool\",\"id\":\"0aa896f1-a3c3-4057-af0e-0df14e15c5a1\",\"attributes\":{\"renderers\":\"auto\"}},{\"type\":\"object\",\"name\":\"BoxZoomTool\",\"id\":\"3dacaea9-10e5-4a26-956a-345337aca7cb\",\"attributes\":{\"overlay\":{\"type\":\"object\",\"name\":\"BoxAnnotation\",\"id\":\"0f1fbfb0-48f7-44d3-97a4-903971fbf910\",\"attributes\":{\"syncable\":false,\"level\":\"overlay\",\"visible\":false,\"left\":{\"type\":\"number\",\"value\":\"nan\"},\"right\":{\"type\":\"number\",\"value\":\"nan\"},\"top\":{\"type\":\"number\",\"value\":\"nan\"},\"bottom\":{\"type\":\"number\",\"value\":\"nan\"},\"left_units\":\"canvas\",\"right_units\":\"canvas\",\"top_units\":\"canvas\",\"bottom_units\":\"canvas\",\"line_color\":\"black\",\"line_alpha\":1.0,\"line_width\":2,\"line_dash\":[4,4],\"fill_color\":\"lightgrey\",\"fill_alpha\":0.5}}}},{\"type\":\"object\",\"name\":\"SaveTool\",\"id\":\"0b31d2e4-5dc7-43b1-bd1f-7bc208e1eb27\"},{\"type\":\"object\",\"name\":\"ResetTool\",\"id\":\"4a7b7f95-ed59-42e1-9703-0f623a778eb9\"},{\"type\":\"object\",\"name\":\"HelpTool\",\"id\":\"bcfd25b3-c6f5-4543-a411-ab38b7189002\"}]}},\"left\":[{\"type\":\"object\",\"name\":\"LinearAxis\",\"id\":\"15728b20-754f-4fe5-bf4f-90ed5031ae24\",\"attributes\":{\"ticker\":{\"type\":\"object\",\"name\":\"BasicTicker\",\"id\":\"8ada775b-541b-4547-984a-5f8c3af97517\",\"attributes\":{\"mantissas\":[1,2,5]}},\"formatter\":{\"type\":\"object\",\"name\":\"BasicTickFormatter\",\"id\":\"b673df8d-65bf-4fd9-b949-9bd9d091ad68\"},\"axis_label\":\"y\",\"major_label_policy\":{\"type\":\"object\",\"name\":\"AllLabels\",\"id\":\"29d23fa9-3d56-4b29-b5de-fb60413d88b2\"}}}],\"below\":[{\"type\":\"object\",\"name\":\"LinearAxis\",\"id\":\"256e517d-c4dd-4ff3-952f-9ea19e74fde6\",\"attributes\":{\"ticker\":{\"type\":\"object\",\"name\":\"BasicTicker\",\"id\":\"f36017c8-3fcb-4887-b272-f96dc74145ac\",\"attributes\":{\"mantissas\":[1,2,5]}},\"formatter\":{\"type\":\"object\",\"name\":\"BasicTickFormatter\",\"id\":\"532d2608-8dc5-4785-afbd-8ae1873a69f1\"},\"axis_label\":\"x\",\"major_label_policy\":{\"type\":\"object\",\"name\":\"AllLabels\",\"id\":\"780a0bd6-46af-47b7-ac83-e04b034ac086\"}}}],\"center\":[{\"type\":\"object\",\"name\":\"Grid\",\"id\":\"af1b1d0d-1df9-4498-aa63-2b1e157614c9\",\"attributes\":{\"axis\":{\"id\":\"256e517d-c4dd-4ff3-952f-9ea19e74fde6\"}}},{\"type\":\"object\",\"name\":\"Grid\",\"id\":\"e13fac48-c55d-4683-918d-49bd6315e1ca\",\"attributes\":{\"dimension\":1,\"axis\":{\"id\":\"15728b20-754f-4fe5-bf4f-90ed5031ae24\"}}}]}}]}}]}}]}}],\"defs\":[{\"type\":\"model\",\"name\":\"ReactiveHTML1\"},{\"type\":\"model\",\"name\":\"FlexBox1\",\"properties\":[{\"name\":\"align_content\",\"kind\":\"Any\",\"default\":\"flex-start\"},{\"name\":\"align_items\",\"kind\":\"Any\",\"default\":\"flex-start\"},{\"name\":\"flex_direction\",\"kind\":\"Any\",\"default\":\"row\"},{\"name\":\"flex_wrap\",\"kind\":\"Any\",\"default\":\"wrap\"},{\"name\":\"gap\",\"kind\":\"Any\",\"default\":\"\"},{\"name\":\"justify_content\",\"kind\":\"Any\",\"default\":\"flex-start\"}]},{\"type\":\"model\",\"name\":\"FloatPanel1\",\"properties\":[{\"name\":\"config\",\"kind\":\"Any\",\"default\":{\"type\":\"map\"}},{\"name\":\"contained\",\"kind\":\"Any\",\"default\":true},{\"name\":\"position\",\"kind\":\"Any\",\"default\":\"right-top\"},{\"name\":\"offsetx\",\"kind\":\"Any\",\"default\":null},{\"name\":\"offsety\",\"kind\":\"Any\",\"default\":null},{\"name\":\"theme\",\"kind\":\"Any\",\"default\":\"primary\"},{\"name\":\"status\",\"kind\":\"Any\",\"default\":\"normalized\"}]},{\"type\":\"model\",\"name\":\"GridStack1\",\"properties\":[{\"name\":\"mode\",\"kind\":\"Any\",\"default\":\"warn\"},{\"name\":\"ncols\",\"kind\":\"Any\",\"default\":null},{\"name\":\"nrows\",\"kind\":\"Any\",\"default\":null},{\"name\":\"allow_resize\",\"kind\":\"Any\",\"default\":true},{\"name\":\"allow_drag\",\"kind\":\"Any\",\"default\":true},{\"name\":\"state\",\"kind\":\"Any\",\"default\":[]}]},{\"type\":\"model\",\"name\":\"drag1\",\"properties\":[{\"name\":\"slider_width\",\"kind\":\"Any\",\"default\":5},{\"name\":\"slider_color\",\"kind\":\"Any\",\"default\":\"black\"},{\"name\":\"value\",\"kind\":\"Any\",\"default\":50}]},{\"type\":\"model\",\"name\":\"click1\",\"properties\":[{\"name\":\"terminal_output\",\"kind\":\"Any\",\"default\":\"\"},{\"name\":\"debug_name\",\"kind\":\"Any\",\"default\":\"\"},{\"name\":\"clears\",\"kind\":\"Any\",\"default\":0}]},{\"type\":\"model\",\"name\":\"FastWrapper1\",\"properties\":[{\"name\":\"object\",\"kind\":\"Any\",\"default\":null},{\"name\":\"style\",\"kind\":\"Any\",\"default\":null}]},{\"type\":\"model\",\"name\":\"NotificationAreaBase1\",\"properties\":[{\"name\":\"js_events\",\"kind\":\"Any\",\"default\":{\"type\":\"map\"}},{\"name\":\"position\",\"kind\":\"Any\",\"default\":\"bottom-right\"},{\"name\":\"_clear\",\"kind\":\"Any\",\"default\":0}]},{\"type\":\"model\",\"name\":\"NotificationArea1\",\"properties\":[{\"name\":\"js_events\",\"kind\":\"Any\",\"default\":{\"type\":\"map\"}},{\"name\":\"notifications\",\"kind\":\"Any\",\"default\":[]},{\"name\":\"position\",\"kind\":\"Any\",\"default\":\"bottom-right\"},{\"name\":\"_clear\",\"kind\":\"Any\",\"default\":0},{\"name\":\"types\",\"kind\":\"Any\",\"default\":[{\"type\":\"map\",\"entries\":[[\"type\",\"warning\"],[\"background\",\"#ffc107\"],[\"icon\",{\"type\":\"map\",\"entries\":[[\"className\",\"fas fa-exclamation-triangle\"],[\"tagName\",\"i\"],[\"color\",\"white\"]]}]]},{\"type\":\"map\",\"entries\":[[\"type\",\"info\"],[\"background\",\"#007bff\"],[\"icon\",{\"type\":\"map\",\"entries\":[[\"className\",\"fas fa-info-circle\"],[\"tagName\",\"i\"],[\"color\",\"white\"]]}]]}]}]},{\"type\":\"model\",\"name\":\"Notification\",\"properties\":[{\"name\":\"background\",\"kind\":\"Any\",\"default\":null},{\"name\":\"duration\",\"kind\":\"Any\",\"default\":3000},{\"name\":\"icon\",\"kind\":\"Any\",\"default\":null},{\"name\":\"message\",\"kind\":\"Any\",\"default\":\"\"},{\"name\":\"notification_type\",\"kind\":\"Any\",\"default\":null},{\"name\":\"_destroyed\",\"kind\":\"Any\",\"default\":false}]},{\"type\":\"model\",\"name\":\"TemplateActions1\",\"properties\":[{\"name\":\"open_modal\",\"kind\":\"Any\",\"default\":0},{\"name\":\"close_modal\",\"kind\":\"Any\",\"default\":0}]},{\"type\":\"model\",\"name\":\"BootstrapTemplateActions1\",\"properties\":[{\"name\":\"open_modal\",\"kind\":\"Any\",\"default\":0},{\"name\":\"close_modal\",\"kind\":\"Any\",\"default\":0}]},{\"type\":\"model\",\"name\":\"TemplateEditor1\",\"properties\":[{\"name\":\"layout\",\"kind\":\"Any\",\"default\":[]}]},{\"type\":\"model\",\"name\":\"MaterialTemplateActions1\",\"properties\":[{\"name\":\"open_modal\",\"kind\":\"Any\",\"default\":0},{\"name\":\"close_modal\",\"kind\":\"Any\",\"default\":0}]},{\"type\":\"model\",\"name\":\"copy_to_clipboard1\",\"properties\":[{\"name\":\"fill\",\"kind\":\"Any\",\"default\":\"none\"},{\"name\":\"value\",\"kind\":\"Any\",\"default\":null}]}]}};\n  const render_items = [{\"docid\":\"b37afbcb-cbe0-4106-9112-8f4312d52d8a\",\"roots\":{\"d40f2bcd-797d-46fb-8581-e8eae980e251\":\"c2e6021f-c18b-4637-9889-30aff3ee8227\"},\"root_ids\":[\"d40f2bcd-797d-46fb-8581-e8eae980e251\"]}];\n  void root.Bokeh.embed.embed_items_notebook(docs_json, render_items);\n  }\n  if (root.Bokeh !== undefined) {\n    embed_document(root);\n  } else {\n    let attempts = 0;\n    const timer = setInterval(function(root) {\n      if (root.Bokeh !== undefined) {\n        clearInterval(timer);\n        embed_document(root);\n      } else {\n        attempts++;\n        if (attempts > 100) {\n          clearInterval(timer);\n          console.log(\"Bokeh: ERROR: Unable to run BokehJS code because BokehJS library is missing\");\n        }\n      }\n    }, 10, root)\n  }\n})(window);",
      "application/vnd.bokehjs_exec.v0+json": ""
     },
     "metadata": {
      "application/vnd.bokehjs_exec.v0+json": {
       "id": "d40f2bcd-797d-46fb-8581-e8eae980e251"
      }
     },
     "output_type": "display_data"
    }
   ],
   "source": [
    "import MASSiveChem.MASSiveChem as MC\n",
    "from bokeh.plotting import output_notebook, show\n",
    "from bokeh.plotting import figure\n",
    "\n",
    "output_notebook() #not necessary if you want to plot the image outside the outbook\n",
    "\n",
    "mol_smi = 'CC1(C(N2C(S1)C(C2=O)NC(=O)CC3=CC=CC=C3)C(=O)O)C'\n",
    "functional_groups = ['Carboxylic Acid', 'Amide', 'Amide', 'Amine', 'Sulfides', 'Benzene']\n",
    "\n",
    "x_in = [333.21807812500003, 333.71807812500003, 333.71807812500003, 333.71807812500003, 334.09, 334.09, 334.09, 335.082, 335.082, 335.082, 335.086, 335.086, 335.086, 335.092, 335.092, 335.092, 336.092]\n",
    "y_in = [0, 0, 0.8310629277992183, 0, 0, 0.006245168595575361, 0, 0, 0.006245168595575361, 0, 0, 0.006055133670000204, 0, 0, 0.14507698506191508, 0, 0]\n",
    "\n",
    "p1 = MC.double_plot(x_in,y_in)\n",
    "p2 = MC.mol_web_show(mol_smi)\n",
    "p3 = MC.functional_group_display(functional_groups)\n",
    "p4 = figure(title=\"Random Bokeh Figure\", x_axis_label='x', y_axis_label='y')\n",
    "\n",
    "\n",
    "output = MC.all_in_one(p1,p2,p3,p4)\n",
    "\n",
    "show(output)"
   ]
  },
  {
   "cell_type": "markdown",
   "metadata": {},
   "source": [
    "## smiles_to_3D_plot(mol_smi)\n",
    "\n",
    "This function takes as an input the SMILEs of a molecule and plots it in 3D in an interactive graph"
   ]
  },
  {
   "cell_type": "code",
   "execution_count": null,
   "metadata": {},
   "outputs": [],
   "source": [
    "import MASSiveChem.MASSiveChem as MC\n",
    "\n",
    "mol_smi = 'CC1(C(N2C(S1)C(C2=O)NC(=O)CC3=CC=CC=C3)C(=O)O)C'\n",
    "\n",
    "output =MC.smiles_to_3D_plot(mol_smi)\n",
    "\n",
    "output"
   ]
  },
  {
   "cell_type": "markdown",
   "metadata": {},
   "source": [
    "## Full function\n",
    "\n",
    "Now that these small constituant functions have been layed out, we can see how the main function, MC.spectrum, is formed. The functions above, when combined in the correct order, create the function called MC.spectrum. This looks something like this:"
   ]
  },
  {
   "cell_type": "code",
   "execution_count": 25,
   "metadata": {},
   "outputs": [
    {
     "ename": "ValueError",
     "evalue": "The first list must be ordered",
     "output_type": "error",
     "traceback": [
      "\u001b[0;31m---------------------------------------------------------------------------\u001b[0m",
      "\u001b[0;31mValueError\u001b[0m                                Traceback (most recent call last)",
      "Cell \u001b[0;32mIn[25], line 20\u001b[0m\n\u001b[1;32m     16\u001b[0m list_masses, list_abundances \u001b[38;5;241m=\u001b[39m MC\u001b[38;5;241m.\u001b[39mmain_function(list_atoms_postionisation, imprecision)\n\u001b[1;32m     18\u001b[0m list_masses, list_abundances \u001b[38;5;241m=\u001b[39m MC\u001b[38;5;241m.\u001b[39mpeak_merger(list_masses, list_abundances, apparatus_resolution)\n\u001b[0;32m---> 20\u001b[0m list_masses, list_abundances \u001b[38;5;241m=\u001b[39m \u001b[43mMC\u001b[49m\u001b[38;5;241;43m.\u001b[39;49m\u001b[43msulphur_nitrogen_adder\u001b[49m\u001b[43m(\u001b[49m\u001b[43mlist_masses\u001b[49m\u001b[43m,\u001b[49m\u001b[43m \u001b[49m\u001b[43mlist_abundances\u001b[49m\u001b[43m,\u001b[49m\u001b[43m \u001b[49m\u001b[43mhas_N\u001b[49m\u001b[43m,\u001b[49m\u001b[43m \u001b[49m\u001b[43mhas_S\u001b[49m\u001b[43m,\u001b[49m\u001b[43m \u001b[49m\u001b[43mcount_N\u001b[49m\u001b[43m,\u001b[49m\u001b[43m \u001b[49m\u001b[43mcount_S\u001b[49m\u001b[43m)\u001b[49m\n\u001b[1;32m     22\u001b[0m list_masses_sorted, list_abundances_sorted \u001b[38;5;241m=\u001b[39m MC\u001b[38;5;241m.\u001b[39mpeak_sorter(list_masses, list_abundances)\n\u001b[1;32m     24\u001b[0m list_masses_plot, list_abundances_plot \u001b[38;5;241m=\u001b[39m MC\u001b[38;5;241m.\u001b[39mdelta_function_plotter(list_masses_sorted, list_abundances_sorted)\n",
      "File \u001b[0;32m~/Documents/GitHub/ppchem-project-Christiansson-Gonteri-Humery/venv/lib/python3.11/site-packages/MASSiveChem/MASSiveChem.py:1594\u001b[0m, in \u001b[0;36msulphur_nitrogen_adder\u001b[0;34m(x_in, y_in, has_N, has_S, count_N, count_S)\u001b[0m\n\u001b[1;32m   1592\u001b[0m     \u001b[38;5;28;01mraise\u001b[39;00m \u001b[38;5;167;01mValueError\u001b[39;00m(\u001b[38;5;124m\"\u001b[39m\u001b[38;5;124mThe sixth argument must be an integer\u001b[39m\u001b[38;5;124m\"\u001b[39m)\n\u001b[1;32m   1593\u001b[0m \u001b[38;5;28;01mif\u001b[39;00m x_in \u001b[38;5;241m!=\u001b[39m \u001b[38;5;28msorted\u001b[39m(x_in):\n\u001b[0;32m-> 1594\u001b[0m     \u001b[38;5;28;01mraise\u001b[39;00m \u001b[38;5;167;01mValueError\u001b[39;00m(\u001b[38;5;124m\"\u001b[39m\u001b[38;5;124mThe first list must be ordered\u001b[39m\u001b[38;5;124m\"\u001b[39m)\n\u001b[1;32m   1596\u001b[0m maximum \u001b[38;5;241m=\u001b[39m \u001b[38;5;28mmax\u001b[39m(y_in)\n\u001b[1;32m   1598\u001b[0m \u001b[38;5;28;01mif\u001b[39;00m has_N:\n",
      "\u001b[0;31mValueError\u001b[0m: The first list must be ordered"
     ]
    }
   ],
   "source": [
    "import MASSiveChem.MASSiveChem as MC\n",
    "from bokeh.plotting import show\n",
    "\n",
    "mol_smi = 'CC1(C(N2C(S1)C(C2=O)NC(=O)CC3=CC=CC=C3)C(=O)O)C'\n",
    "imprecision = True\n",
    "apparatus_resolution = 0.01\n",
    "\n",
    "mol = MC.SMILEs_interpreter(mol_smi)\n",
    "\n",
    "list_atoms = MC.molecule_list_generator(mol)\n",
    "\n",
    "list_atoms_postionisation = MC.ionisation_method(list_atoms)\n",
    "\n",
    "has_N, has_S, count_N, count_S = MC.sulphur_nitrogen_finder(list_atoms_postionisation)\n",
    "\n",
    "list_masses, list_abundances = MC.main_function(list_atoms_postionisation, imprecision)\n",
    "\n",
    "list_masses, list_abundances = MC.peak_merger(list_masses, list_abundances, apparatus_resolution)\n",
    "\n",
    "list_masses, list_abundances = MC.sulphur_nitrogen_adder(list_masses, list_abundances, has_N, has_S, count_N, count_S)\n",
    "\n",
    "list_masses_sorted, list_abundances_sorted = MC.peak_sorter(list_masses, list_abundances)\n",
    "\n",
    "list_masses_plot, list_abundances_plot = MC.delta_function_plotter(list_masses_sorted, list_abundances_sorted)\n",
    "\n",
    "spectrum = MC.double_plot(list_masses_plot,list_abundances_plot)\n",
    "\n",
    "functional_groups_contained = MC.functional_group_finder(mol_smi)\n",
    "\n",
    "functional_groups_plot = MC.functional_group_display(functional_groups_contained)\n",
    "\n",
    "molecule_plot = MC.mol_web_show(mol_smi)\n",
    "\n",
    "final_plot = MC.all_in_one(spectrum, molecule_plot, functional_groups_plot)\n",
    "\n",
    "show(final_plot)"
   ]
  },
  {
   "cell_type": "markdown",
   "metadata": {},
   "source": [
    "\n",
    "## spectrum(mol_smi, imprecision_True_False, apparatus_resolution)\n",
    "Running all these functions can be done using 1 single function called spectrum which can be run as the following:"
   ]
  },
  {
   "cell_type": "code",
   "execution_count": null,
   "metadata": {},
   "outputs": [],
   "source": [
    "import MASSiveChem.MASSiveChem as MC\n",
    "from bokeh.plotting import show\n",
    "\n",
    "mol_smi = 'CC1(C(N2C(S1)C(C2=O)NC(=O)CC3=CC=CC=C3)C(=O)O)C'\n",
    "imprecision = True\n",
    "apparatus_resolution = 0.01\n",
    "\n",
    "spectrum = MC.spectrum(mol_smi, imprecision, apparatus_resolution)\n",
    "\n",
    "show(spectrum)"
   ]
  },
  {
   "cell_type": "markdown",
   "metadata": {},
   "source": [
    "Finally, if you want to add the interactive 3D plot of the molecule you can use the following function\n",
    "\n",
    "## spectrum_3D(mol_smi, imprecision_True_False, apparatus_resolution)\n",
    "\n",
    "The function takes the same inputs as spectrum but adds the 3D interactive plot to the spectrum"
   ]
  },
  {
   "cell_type": "code",
   "execution_count": null,
   "metadata": {},
   "outputs": [],
   "source": [
    "import MASSiveChem.MASSiveChem as MC\n",
    "\n",
    "mol_smi = 'CC1(C(N2C(S1)C(C2=O)NC(=O)CC3=CC=CC=C3)C(=O)O)C'\n",
    "imprecision = True\n",
    "apparatus_resolution = 0.01\n",
    "\n",
    "spectrum = MC.spectrum_3D(mol_smi, imprecision, apparatus_resolution)\n",
    "\n",
    "spectrum.show()"
   ]
  },
  {
   "cell_type": "markdown",
   "metadata": {},
   "source": [
    "Thanks for reading the notebook ! Hope you find it useful and interesting."
   ]
  }
 ],
 "metadata": {
  "kernelspec": {
   "display_name": "ppchem",
   "language": "python",
   "name": "python3"
  },
  "language_info": {
   "codemirror_mode": {
    "name": "ipython",
    "version": 3
   },
   "file_extension": ".py",
   "mimetype": "text/x-python",
   "name": "python",
   "nbconvert_exporter": "python",
   "pygments_lexer": "ipython3",
   "version": "3.11.0"
  }
 },
 "nbformat": 4,
 "nbformat_minor": 2
}
