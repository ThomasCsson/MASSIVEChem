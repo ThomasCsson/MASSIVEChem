{
 "cells": [
  {
   "cell_type": "markdown",
   "metadata": {},
   "source": [
    "## MASSIVEChem\n",
    "## Introduction\n",
    "The following Jupyter notebook briefly presents MASSIVEChem, a pip-installable python package. This package is developped around mass spectrometry, a tool commonly used in analytical chemistry, biochemistry, pharmaceutical sciences and more. Fundamentally, this package plots the mass spectrum of a given molecule, with a chosen resolution and with a chosen precision. \n",
    "To begin using it, simply type the following command into the terminal:"
   ]
  },
  {
   "cell_type": "code",
   "execution_count": 5,
   "metadata": {},
   "outputs": [
    {
     "name": "stdout",
     "output_type": "stream",
     "text": [
      "\n"
     ]
    }
   ],
   "source": [
    "!pip install MASSIVEChem"
   ]
  },
  {
   "cell_type": "markdown",
   "metadata": {},
   "source": [
    "Once this is done, a whole set of functions will be imported.\n",
    "For example, to use the function that takes a molecule under SMILEs representation, a precision boolean and an apparatus resolution as inputs, and outputs the spectrum, one has to do the following:"
   ]
  },
  {
   "cell_type": "code",
   "execution_count": null,
   "metadata": {},
   "outputs": [],
   "source": [
    "import MASSiveChem.MASSiveChem as MC\n",
    "from bokeh.plotting import show, output_notebook\n",
    "output_notebook()\n",
    "show(MC.spectrum('CC1(C(N2C(S1)C(C2=O)NC(=O)CC3=CC=CC=C3)C(=O)O)C', True, 0.01))"
   ]
  },
  {
   "cell_type": "markdown",
   "metadata": {},
   "source": [
    "Note: the second argument here being True indicates that the function will neglect any ions which have a probability of apparation under 0.00001"
   ]
  },
  {
   "cell_type": "markdown",
   "metadata": {},
   "source": [
    "## Examples of functions and their respective inputs and outputs\n",
    "First, here is a list of the functions that come with the package: \n",
    "\n",
    "## Basic functions\n",
    "-calculate_unsaturation(mol_smi)->unsaturation\n",
    "\n",
    "-SMILEs_interpreter(mol_smi)->mol\n",
    "\n",
    "-molecule_list_generator(mol)->list_atoms\n",
    "\n",
    "-ionisation_method(list_atoms)->list_atoms\n",
    "\n",
    "-sulphur_nitrogen_finder(list_atoms)->has_N, has_S, count_N, count_S\n",
    "\n",
    "-main_function(list_atoms, imprecision_True_false)->list_masses & list_abundances\n",
    "\n",
    "-peak_merger(list_ions, list_abundances)->list_masses & list_abundances\n",
    "\n",
    "-sulphur_nitrogen_adder(list_ions, list_abundances, has_N, has_S, count_N, count_S)->list_masses, list_abundances\n",
    "\n",
    "-peak_sorter(list_masses, list_abundances)->list_masses & list_abundances\n",
    "\n",
    "-delta_function_plotter(list_masses, list_abundances)->list_masses & list_abundances\n",
    "\n",
    "-double_plot(list_masses, list_abundances)->bokeh_plot_1, bokeh_plot_2\n",
    "\n",
    "-functional_group_finder(mol_smi)->list_functionalgroups_contained\n",
    "\n",
    "-functional_group_display(ist_functionalgroups_contained)-> bokeh_plot_3\n",
    "\n",
    "-mol_web_show(mol_smi)->bokeh_plot_4\n",
    "\n",
    "-all_in_one(bokeh_plot_1, bokeh_plot_2, bokeh_plot_3, bokeh_plot_4)\n",
    "\n",
    "-smiles_to_3D_plot(mol_smi)-> XXX\n",
    "\n",
    "\n",
    "from all of these functions, the following two main functions are most useful:\n",
    "## Main functions\n",
    "\n",
    "-spectrum(mol_smi, imprecision_True_False, apparatus_resolution)\n",
    "\n",
    "-specturm_3D(mol_smi, imprecision_True_False, apparatus_resolution)\n",
    "\n",
    "## Functionality\n",
    "The main functions can both be made by combining the basic functions.\n",
    "\n",
    "## Examples\n",
    "First, all of the basic functions will be shown, in order to then construct spectrum and spectrum_3D out of them.\n",
    "\n"
   ]
  },
  {
   "cell_type": "markdown",
   "metadata": {},
   "source": [
    "## SMILEs interpreter\n",
    "This function takes a molecule under SMILEs representation as input and output its MOL represerntation"
   ]
  },
  {
   "cell_type": "code",
   "execution_count": null,
   "metadata": {},
   "outputs": [],
   "source": [
    "import MASSiveChem.MASSiveChem as MC\n",
    "print(MC.SMILEs_interpreter('CC1(C(N2C(S1)C(C2=O)NC(=O)CC3=CC=CC=C3)C(=O)O)C'))"
   ]
  },
  {
   "cell_type": "markdown",
   "metadata": {},
   "source": [
    "## molecule_list_generator\n",
    "This function takes a MOL representation as input and outputs a list of all of the atoms within that molecule"
   ]
  },
  {
   "cell_type": "code",
   "execution_count": null,
   "metadata": {},
   "outputs": [],
   "source": [
    "import MASSiveChem.MASSiveChem as MC\n",
    "mol = MC.SMILEs_interpreter('CC1(C(N2C(S1)C(C2=O)NC(=O)CC3=CC=CC=C3)C(=O)O)C')\n",
    "print(MC.molecule_list_generator(mol))"
   ]
  },
  {
   "cell_type": "markdown",
   "metadata": {},
   "source": [
    "## ionisation_method(list_atoms)\n",
    "This function takes a list of atoms as input and simply outputs the same list with a proton less (in essence, a hydrogen atom)"
   ]
  },
  {
   "cell_type": "code",
   "execution_count": null,
   "metadata": {},
   "outputs": [],
   "source": [
    "import MASSiveChem.MASSiveChem as MC\n",
    "\n",
    "list_atoms = ['C', 'C', 'C', 'N', 'C', 'S', 'C',\n",
    "            'C', 'O', 'N', 'C', 'O', 'C', 'C',\n",
    "            'C', 'C', 'C', 'C', 'C', 'C', 'O',\n",
    "            'O', 'C', 'H', 'H', 'H', 'H', 'H',\n",
    "            'H', 'H', 'H', 'H', 'H', 'H', 'H',\n",
    "            'H', 'H', 'H', 'H', 'H', 'H']\n",
    "\n",
    "print(MC.ionisation_method(list_atoms))"
   ]
  },
  {
   "cell_type": "markdown",
   "metadata": {},
   "source": [
    "## sulphur_nitrogen_finder(list_atoms)\n",
    "This function takes a list of atoms as input and output four values: has_N, has_S, count_N and count_S.\n",
    "has_N & has_S are True if there is an odd number of Nitrogen and Sulphur repsectively, and False otherwise."
   ]
  },
  {
   "cell_type": "code",
   "execution_count": 7,
   "metadata": {},
   "outputs": [
    {
     "ename": "AttributeError",
     "evalue": "module 'MASSiveChem.MASSiveChem' has no attribute 'sulphur_nitrogen_finder'",
     "output_type": "error",
     "traceback": [
      "\u001b[0;31m---------------------------------------------------------------------------\u001b[0m",
      "\u001b[0;31mAttributeError\u001b[0m                            Traceback (most recent call last)",
      "Cell \u001b[0;32mIn[7], line 10\u001b[0m\n\u001b[1;32m      1\u001b[0m \u001b[38;5;28;01mimport\u001b[39;00m \u001b[38;5;21;01mMASSiveChem\u001b[39;00m\u001b[38;5;21;01m.\u001b[39;00m\u001b[38;5;21;01mMASSiveChem\u001b[39;00m \u001b[38;5;28;01mas\u001b[39;00m \u001b[38;5;21;01mMC\u001b[39;00m\n\u001b[1;32m      3\u001b[0m list_atoms \u001b[38;5;241m=\u001b[39m [\u001b[38;5;124m'\u001b[39m\u001b[38;5;124mC\u001b[39m\u001b[38;5;124m'\u001b[39m, \u001b[38;5;124m'\u001b[39m\u001b[38;5;124mC\u001b[39m\u001b[38;5;124m'\u001b[39m, \u001b[38;5;124m'\u001b[39m\u001b[38;5;124mC\u001b[39m\u001b[38;5;124m'\u001b[39m, \u001b[38;5;124m'\u001b[39m\u001b[38;5;124mN\u001b[39m\u001b[38;5;124m'\u001b[39m, \u001b[38;5;124m'\u001b[39m\u001b[38;5;124mC\u001b[39m\u001b[38;5;124m'\u001b[39m, \u001b[38;5;124m'\u001b[39m\u001b[38;5;124mS\u001b[39m\u001b[38;5;124m'\u001b[39m, \u001b[38;5;124m'\u001b[39m\u001b[38;5;124mC\u001b[39m\u001b[38;5;124m'\u001b[39m,\n\u001b[1;32m      4\u001b[0m             \u001b[38;5;124m'\u001b[39m\u001b[38;5;124mC\u001b[39m\u001b[38;5;124m'\u001b[39m, \u001b[38;5;124m'\u001b[39m\u001b[38;5;124mO\u001b[39m\u001b[38;5;124m'\u001b[39m, \u001b[38;5;124m'\u001b[39m\u001b[38;5;124mN\u001b[39m\u001b[38;5;124m'\u001b[39m, \u001b[38;5;124m'\u001b[39m\u001b[38;5;124mC\u001b[39m\u001b[38;5;124m'\u001b[39m, \u001b[38;5;124m'\u001b[39m\u001b[38;5;124mO\u001b[39m\u001b[38;5;124m'\u001b[39m, \u001b[38;5;124m'\u001b[39m\u001b[38;5;124mC\u001b[39m\u001b[38;5;124m'\u001b[39m, \u001b[38;5;124m'\u001b[39m\u001b[38;5;124mC\u001b[39m\u001b[38;5;124m'\u001b[39m,\n\u001b[1;32m      5\u001b[0m             \u001b[38;5;124m'\u001b[39m\u001b[38;5;124mC\u001b[39m\u001b[38;5;124m'\u001b[39m, \u001b[38;5;124m'\u001b[39m\u001b[38;5;124mC\u001b[39m\u001b[38;5;124m'\u001b[39m, \u001b[38;5;124m'\u001b[39m\u001b[38;5;124mC\u001b[39m\u001b[38;5;124m'\u001b[39m, \u001b[38;5;124m'\u001b[39m\u001b[38;5;124mC\u001b[39m\u001b[38;5;124m'\u001b[39m, \u001b[38;5;124m'\u001b[39m\u001b[38;5;124mC\u001b[39m\u001b[38;5;124m'\u001b[39m, \u001b[38;5;124m'\u001b[39m\u001b[38;5;124mC\u001b[39m\u001b[38;5;124m'\u001b[39m, \u001b[38;5;124m'\u001b[39m\u001b[38;5;124mO\u001b[39m\u001b[38;5;124m'\u001b[39m,\n\u001b[1;32m      6\u001b[0m             \u001b[38;5;124m'\u001b[39m\u001b[38;5;124mO\u001b[39m\u001b[38;5;124m'\u001b[39m, \u001b[38;5;124m'\u001b[39m\u001b[38;5;124mC\u001b[39m\u001b[38;5;124m'\u001b[39m, \u001b[38;5;124m'\u001b[39m\u001b[38;5;124mH\u001b[39m\u001b[38;5;124m'\u001b[39m, \u001b[38;5;124m'\u001b[39m\u001b[38;5;124mH\u001b[39m\u001b[38;5;124m'\u001b[39m, \u001b[38;5;124m'\u001b[39m\u001b[38;5;124mH\u001b[39m\u001b[38;5;124m'\u001b[39m, \u001b[38;5;124m'\u001b[39m\u001b[38;5;124mH\u001b[39m\u001b[38;5;124m'\u001b[39m, \u001b[38;5;124m'\u001b[39m\u001b[38;5;124mH\u001b[39m\u001b[38;5;124m'\u001b[39m,\n\u001b[1;32m      7\u001b[0m             \u001b[38;5;124m'\u001b[39m\u001b[38;5;124mH\u001b[39m\u001b[38;5;124m'\u001b[39m, \u001b[38;5;124m'\u001b[39m\u001b[38;5;124mH\u001b[39m\u001b[38;5;124m'\u001b[39m, \u001b[38;5;124m'\u001b[39m\u001b[38;5;124mH\u001b[39m\u001b[38;5;124m'\u001b[39m, \u001b[38;5;124m'\u001b[39m\u001b[38;5;124mH\u001b[39m\u001b[38;5;124m'\u001b[39m, \u001b[38;5;124m'\u001b[39m\u001b[38;5;124mH\u001b[39m\u001b[38;5;124m'\u001b[39m, \u001b[38;5;124m'\u001b[39m\u001b[38;5;124mH\u001b[39m\u001b[38;5;124m'\u001b[39m, \u001b[38;5;124m'\u001b[39m\u001b[38;5;124mH\u001b[39m\u001b[38;5;124m'\u001b[39m,\n\u001b[1;32m      8\u001b[0m             \u001b[38;5;124m'\u001b[39m\u001b[38;5;124mH\u001b[39m\u001b[38;5;124m'\u001b[39m, \u001b[38;5;124m'\u001b[39m\u001b[38;5;124mH\u001b[39m\u001b[38;5;124m'\u001b[39m, \u001b[38;5;124m'\u001b[39m\u001b[38;5;124mH\u001b[39m\u001b[38;5;124m'\u001b[39m, \u001b[38;5;124m'\u001b[39m\u001b[38;5;124mH\u001b[39m\u001b[38;5;124m'\u001b[39m, \u001b[38;5;124m'\u001b[39m\u001b[38;5;124mH\u001b[39m\u001b[38;5;124m'\u001b[39m]\n\u001b[0;32m---> 10\u001b[0m \u001b[38;5;28mprint\u001b[39m(\u001b[43mMC\u001b[49m\u001b[38;5;241;43m.\u001b[39;49m\u001b[43msulphur_nitrogen_finder\u001b[49m(list_atoms))\n",
      "\u001b[0;31mAttributeError\u001b[0m: module 'MASSiveChem.MASSiveChem' has no attribute 'sulphur_nitrogen_finder'"
     ]
    }
   ],
   "source": [
    "import MASSiveChem.MASSiveChem as MC\n",
    "\n",
    "list_atoms = ['C', 'C', 'C', 'N', 'C', 'S', 'C',\n",
    "            'C', 'O', 'N', 'C', 'O', 'C', 'C',\n",
    "            'C', 'C', 'C', 'C', 'C', 'C', 'O',\n",
    "            'O', 'C', 'H', 'H', 'H', 'H', 'H',\n",
    "            'H', 'H', 'H', 'H', 'H', 'H', 'H',\n",
    "            'H', 'H', 'H', 'H', 'H']\n",
    "\n",
    "print(MC.sulphur_nitrogen_finder(list_atoms))"
   ]
  },
  {
   "cell_type": "markdown",
   "metadata": {},
   "source": [
    "## main_function(list_atoms)\n",
    "This function takes a list of atoms as an input, and will output two lists.\n",
    "\n",
    "The first (list_masses) is a list of the masses of all of the possible combinations of isotopes that can form the given molecule (under list representation) and the second (list_abundances) is a list of the probabilities of apparition of each of these combinations of isotopes.\n",
    "\n",
    "As such, both lists are the same length and the mass at index i in list_masses has the probability at index i in list_abundances associated to it."
   ]
  },
  {
   "cell_type": "code",
   "execution_count": null,
   "metadata": {},
   "outputs": [],
   "source": [
    "import MASSiveChem.MASSiveChem as MC\n",
    "\n",
    "output = MC.main_function(['C', 'C', 'C', 'N', 'C', 'S', 'C','C', 'O', 'N', 'C', 'O', 'C', 'C',\n",
    "                            'C', 'C', 'C', 'C', 'C', 'C', 'O','O', 'C', 'H', 'H', 'H', 'H', 'H',\n",
    "                            'H', 'H', 'H', 'H', 'H', 'H', 'H','H', 'H', 'H', 'H', 'H'], True)\n",
    "\n",
    "print(output)"
   ]
  },
  {
   "cell_type": "markdown",
   "metadata": {},
   "source": [
    "## peak_merger(list_masses, list_abundances)\n",
    "This function takes the two lists outputted by main_function, and merges the values in list_abundances if their values in list_masses are the same."
   ]
  },
  {
   "cell_type": "code",
   "execution_count": null,
   "metadata": {},
   "outputs": [],
   "source": [
    "import MASSiveChem.MASSiveChem as MC\n",
    "\n",
    "output = MC.peak_merger([336.09, 334.094, 336.084, 334.088, 337.086, 335.087, 334.09, 335.095, 334.095, 334.097, 333.091, 334.09], \n",
    "                        [0.006155135615344779, 0.1389218494465703, 0.00025689925174544854, 0.005798234418254755, 0.00016431194999935186,\n",
    "                        0.03458766547486355, 0.006161698124975695, 0.006260193058916763, 0.001252038611783352, 0.0019909461317594106, \n",
    "                        0.7806460744469201, 0.006245168595575361],\n",
    "                        0.01)\n",
    "\n",
    "print(output)"
   ]
  }
 ],
 "metadata": {
  "kernelspec": {
   "display_name": "ppchem",
   "language": "python",
   "name": "python3"
  },
  "language_info": {
   "codemirror_mode": {
    "name": "ipython",
    "version": 3
   },
   "file_extension": ".py",
   "mimetype": "text/x-python",
   "name": "python",
   "nbconvert_exporter": "python",
   "pygments_lexer": "ipython3",
   "version": "3.10.12"
  }
 },
 "nbformat": 4,
 "nbformat_minor": 2
}
