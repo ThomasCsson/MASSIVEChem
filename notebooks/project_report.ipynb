{
 "cells": [
  {
   "cell_type": "markdown",
   "metadata": {},
   "source": [
    "<div style=\"text-align: center;\">\n",
    "    <img width=\"830\" alt=\"logo\" src=\"https://raw.githubusercontent.com/ThomasCsson/MASSIVEChem/main/images/Logo.jpg\">\n",
    "</div>\n",
    "\n",
    "\n",
    "## 👋 Introduction\n",
    "The following Jupyter notebook briefly presents MASSIVEChem, a pip-installable python package. This package is developped around mass spectrometry, a tool commonly used in analytical chemistry, biochemistry, pharmaceutical sciences and more. Fundamentally, this package simulates and plots the mass spectrum of a given molecule, with a chosen resolution and with a chosen precision. \n",
    "\n",
    "This package was created as a collaborative project for the EPFL course Practical programming in chemistry [![GitHub3](https://img.shields.io/badge/EPFL-CH200-red.svg)](https://edu.epfl.ch/studyplan/en/bachelor/chemistry-and-chemical-engineering/coursebook/practical-programming-in-chemistry-CH-200)\n",
    "\n",
    "Before going through the code and the use of the package, let's briefly discuss the ideas that led to the building this package\n",
    "\n",
    "## 🧪 Ideas\n",
    "\n",
    "Initially, the plan for this project was to write a code that would predict the NMR spectrum of an input molecule. 3 weeks were spent trying to figure out a way to analyze molecules, to find functional groups, and to predict the shift of the hydrogens in a molecule. As we began tring to write the code, it became apparent to us that this project was beyond the scope of our abilities as it would most likely require the use of machine learning, a concept that none of us were familiar with. \n",
    "\n",
    "Still wanting to create a package that would display some type of visual information from a molecule, our minds collectively turned towards mass spectrometry. Being familiar with the theoretical concepts behind this analytical method, having followed a course on mass spectrometry in first year and having briefly revisited the topic in our second-year electromagnetics course, we were more confident in our abilities regarding this idea.\n",
    "\n",
    "The concept of mass spectrometry consists of ionizing a molecule and passing this molecule in a strong magnetic field. Thanks to the Lorentz force, the molecule is deviated as a function of its mass which allows to separate the different isotopes present in a sample. By  putting a detector at the end, it is possible to determine which molecule was put in the mass spectrometer.\n",
    "\n",
    "\n",
    "<div style=\"display: flex; justify-content: center;\">\n",
    "    <img width=\"500\" alt=\"Mass Spectrum Schematic\" src=\"https://raw.githubusercontent.com/ThomasCsson/MASSIVEChem/main/images/Mass_spectrum_schematic.png\">\n",
    "</div>\n",
    "\n",
    "\n",
    "Coding wise, simulating the mass spectrum was done by using list comprehension and combinatorics. This involves a systematic breakdown of the process into discrete steps\n",
    "\n",
    "- Molecule Definition: First the molecule to be analysed needs to be defined, specifying its constituant atoms and their relative abundances. Any molecule can be represented as a data structure (a list) containing its atoms and their relative abundances.\n",
    "\n",
    "- Fragmentation Simulation: Then, the fragmentation process needs to be simulated. This step involves generating all possible combinations of masses for each atom using the algorithm of probability trees. \n",
    "\n",
    "- Mass Calculation: The Mass of each fragment is calculated by summing the masses of the constituant atoms. This step ensures that each fragment is assigned an accurate mass value based on its atomic composition.\n",
    "\n",
    "- Combination of Fragments: At the end of the mass calculation process, all fragments are combined into a single list and the fragments with identical masses are combined. This aggregated list represents the collective set of fragments resulting from the analysed molecule.\n",
    "\n",
    "- Mass Spectrum Simulation: This step involves calculating the abundance of each possible molecule considering the relative abundances of each of the atoms within. \n",
    "\n",
    "- Visualization: The mass spectrum can then be plotted using a plotting package. In our case, bokeh was chosen.\n",
    "\n",
    "Once the spectrum was simulated, we thought of different features to add to the spectrum to facilitate its comprehensiveness and its readibility. First we added an image of the molecule using inbuilt RDkit functions. Then we developped a function to recognise the functional groups present in the molecule, as well as a function to show them. To make the spectrum more interactive, we added a second plot which allows to see where the user is zooming in on the principal graph. Finally, it was decided to add a function to show an interactive 3D graph of the molecule using xyz2graph package. All these functions are described in detail later in the notebook.\n",
    "\n",
    "\n",
    "## 👨🏼‍🔬 Difficulties\n",
    "\n",
    "Once we had written the code that would do the actual computation of the different combinations of isotopes that can compose the molecule (with their relative probabilities of existing), it became noticeable that the time complexity of the algorithm was subpar (being of roughly $2^n$ with n being the number of atoms in the molecule; the code would take ~30s to run for pentane). To remedy this fact, a part of code was implemented that would disregard any molecule with a probability of under $10^{-6}$ of existing (this reduced the time complexity form $2^n$ to roughly n).\n",
    "\n",
    "Another difficulty encountered was importing data. The initial project included a data folder for importing the abundances of the various isotopes. Unfortunately, when the package was exported via PyPi, the files inside the aforementioned folder were not included. Once installed, the package could not read the data files required for the package to function correctly.\n",
    "Despite various attempts to include these data files in the package, we had to come up with another solution that did not use this folder. As the initial code used the path to this folder to read the isotope abundances, we had to modify the code written so far to incorporate the data directly without using an external file. This can be seen at the beginning of the spectrum function. \n",
    "In the end, the problem was solved, although this required some 70 extra lines of code, whereas had the data folder been properly imported, a few would have sufficed. \n",
    "\n",
    "Finding a good tool to create the mass spectrum graph was also a challenge. Various tools such as matplotlib or plotly can be used to create high quality graphs, but only certain of them met the three criteria we wanted: precision, interactivity and aesthetics. So we had to explore tools that allowed us to do this, and Bokeh was chosen. It allowed us to generate graphs as we wanted them and with excellent quality. None of us had used it before, so we had to learn how to use it correctly and effectively.\n",
    "\n",
    "Another difficulty arose directly from the SMILES, which we used to detect the different functional groups present in the molecule. We had to create a code that differentiated between the various groups. Thus was acheived using SMARTS, which enabled us to specify the differences and in particular the bonds of each atom.\n",
    "Take an ester, for example. The system detects a carboxylic acid when it's not one so we had to specify this using the following SMARTS \"CC(=O)[Oh0]\". Which specifies that the oxygen does not have a bond with a hydrogen.\n",
    "All the different smarts used are present in the function \"functional_group_display\" in the scripts folder. \n",
    "\n",
    "##  ⚙️ Limitations\n",
    "\n",
    "The complete package does, however, have a few limitations. \n",
    "Firstly, pure elements and other molecules such as proteins and polysaccharides do not have their own SMILES. It is therefore impossible to visualise their mass spectra using this package. \n",
    "However, we believe that it would be possible to implement these molecules without SMILES using other encoding methods. For example, by using PubChemPy, we could have implemented a function that translates IUPAC names into SMILEs representations.\n",
    "\n",
    "The second is obviously time. The more complex the molecule, the more atoms it contains, the longer it will take to run the programme, so a (slightly) imprecise spectrum is calculated, by disregarding arrangements with a probability below a certain level, as previously explained. \n",
    "\n",
    "*Example* : \n",
    "spectrum(mol_smi, imprecision_True_False, apparatus_resolution)\n",
    "\n",
    "1) If imprecision_True_False = True, we have a complexity of $n$\n",
    "2) If imprecision_True_False = False, we have a complexity of $2^{n}$ \n",
    "\n",
    "Where n = number of atoms in the molecule\n",
    "\n",
    "Then, the main limitation of the package is the functional group finder which doesn't always predict the present functional groups present in the molecule. Also, the list of functional groups is large but could still be updated in a future version of the package."
   ]
  },
  {
   "cell_type": "markdown",
   "metadata": {},
   "source": [
    "## 💻 Usage "
   ]
  },
  {
   "cell_type": "markdown",
   "metadata": {},
   "source": [
    "Once the package is installed following the README, a whole set of functions will be imported.\n",
    "For example, to use the function that takes a molecule under SMILEs representation, a precision boolean and an apparatus resolution as inputs, and outputs the spectrum, one has to do the following:\n",
    "\n",
    "If the images are not displayed, make sure to run the notebook in your personal jupyter"
   ]
  },
  {
   "cell_type": "code",
   "execution_count": 62,
   "metadata": {},
   "outputs": [
    {
     "data": {
      "text/html": [
       "    <style>\n",
       "        .bk-notebook-logo {\n",
       "            display: block;\n",
       "            width: 20px;\n",
       "            height: 20px;\n",
       "            background-image: url(data:image/png;base64,iVBORw0KGgoAAAANSUhEUgAAABQAAAAUCAYAAACNiR0NAAAABHNCSVQICAgIfAhkiAAAAAlwSFlzAAALEgAACxIB0t1+/AAAABx0RVh0U29mdHdhcmUAQWRvYmUgRmlyZXdvcmtzIENTNui8sowAAAOkSURBVDiNjZRtaJVlGMd/1/08zzln5zjP1LWcU9N0NkN8m2CYjpgQYQXqSs0I84OLIC0hkEKoPtiH3gmKoiJDU7QpLgoLjLIQCpEsNJ1vqUOdO7ppbuec5+V+rj4ctwzd8IIbbi6u+8f1539dt3A78eXC7QizUF7gyV1fD1Yqg4JWz84yffhm0qkFqBogB9rM8tZdtwVsPUhWhGcFJngGeWrPzHm5oaMmkfEg1usvLFyc8jLRqDOMru7AyC8saQr7GG7f5fvDeH7Ej8CM66nIF+8yngt6HWaKh7k49Soy9nXurCi1o3qUbS3zWfrYeQDTB/Qj6kX6Ybhw4B+bOYoLKCC9H3Nu/leUTZ1JdRWkkn2ldcCamzrcf47KKXdAJllSlxAOkRgyHsGC/zRday5Qld9DyoM4/q/rUoy/CXh3jzOu3bHUVZeU+DEn8FInkPBFlu3+nW3Nw0mk6vCDiWg8CeJaxEwuHS3+z5RgY+YBR6V1Z1nxSOfoaPa4LASWxxdNp+VWTk7+4vzaou8v8PN+xo+KY2xsw6une2frhw05CTYOmQvsEhjhWjn0bmXPjpE1+kplmmkP3suftwTubK9Vq22qKmrBhpY4jvd5afdRA3wGjFAgcnTK2s4hY0/GPNIb0nErGMCRxWOOX64Z8RAC4oCXdklmEvcL8o0BfkNK4lUg9HTl+oPlQxdNo3Mg4Nv175e/1LDGzZen30MEjRUtmXSfiTVu1kK8W4txyV6BMKlbgk3lMwYCiusNy9fVfvvwMxv8Ynl6vxoByANLTWplvuj/nF9m2+PDtt1eiHPBr1oIfhCChQMBw6Aw0UulqTKZdfVvfG7VcfIqLG9bcldL/+pdWTLxLUy8Qq38heUIjh4XlzZxzQm19lLFlr8vdQ97rjZVOLf8nclzckbcD4wxXMidpX30sFd37Fv/GtwwhzhxGVAprjbg0gCAEeIgwCZyTV2Z1REEW8O4py0wsjeloKoMr6iCY6dP92H6Vw/oTyICIthibxjm/DfN9lVz8IqtqKYLUXfoKVMVQVVJOElGjrnnUt9T9wbgp8AyYKaGlqingHZU/uG2NTZSVqwHQTWkx9hxjkpWDaCg6Ckj5qebgBVbT3V3NNXMSiWSDdGV3hrtzla7J+duwPOToIg42ChPQOQjspnSlp1V+Gjdged7+8UN5CRAV7a5EdFNwCjEaBR27b3W890TE7g24NAP/mMDXRWrGoFPQI9ls/MWO2dWFAar/xcOIImbbpA3zgAAAABJRU5ErkJggg==);\n",
       "        }\n",
       "    </style>\n",
       "    <div>\n",
       "        <a href=\"https://bokeh.org\" target=\"_blank\" class=\"bk-notebook-logo\"></a>\n",
       "        <span id=\"d7ae663a-c8cd-440f-a19e-5e802f1f0ee7\">Loading BokehJS ...</span>\n",
       "    </div>\n"
      ]
     },
     "metadata": {},
     "output_type": "display_data"
    },
    {
     "data": {
      "application/javascript": "'use strict';\n(function(root) {\n  function now() {\n    return new Date();\n  }\n\n  const force = true;\n\n  if (typeof root._bokeh_onload_callbacks === \"undefined\" || force === true) {\n    root._bokeh_onload_callbacks = [];\n    root._bokeh_is_loading = undefined;\n  }\n\nconst JS_MIME_TYPE = 'application/javascript';\n  const HTML_MIME_TYPE = 'text/html';\n  const EXEC_MIME_TYPE = 'application/vnd.bokehjs_exec.v0+json';\n  const CLASS_NAME = 'output_bokeh rendered_html';\n\n  /**\n   * Render data to the DOM node\n   */\n  function render(props, node) {\n    const script = document.createElement(\"script\");\n    node.appendChild(script);\n  }\n\n  /**\n   * Handle when an output is cleared or removed\n   */\n  function handleClearOutput(event, handle) {\n    function drop(id) {\n      const view = Bokeh.index.get_by_id(id)\n      if (view != null) {\n        view.model.document.clear()\n        Bokeh.index.delete(view)\n      }\n    }\n\n    const cell = handle.cell;\n\n    const id = cell.output_area._bokeh_element_id;\n    const server_id = cell.output_area._bokeh_server_id;\n\n    // Clean up Bokeh references\n    if (id != null) {\n      drop(id)\n    }\n\n    if (server_id !== undefined) {\n      // Clean up Bokeh references\n      const cmd_clean = \"from bokeh.io.state import curstate; print(curstate().uuid_to_server['\" + server_id + \"'].get_sessions()[0].document.roots[0]._id)\";\n      cell.notebook.kernel.execute(cmd_clean, {\n        iopub: {\n          output: function(msg) {\n            const id = msg.content.text.trim()\n            drop(id)\n          }\n        }\n      });\n      // Destroy server and session\n      const cmd_destroy = \"import bokeh.io.notebook as ion; ion.destroy_server('\" + server_id + \"')\";\n      cell.notebook.kernel.execute(cmd_destroy);\n    }\n  }\n\n  /**\n   * Handle when a new output is added\n   */\n  function handleAddOutput(event, handle) {\n    const output_area = handle.output_area;\n    const output = handle.output;\n\n    // limit handleAddOutput to display_data with EXEC_MIME_TYPE content only\n    if ((output.output_type != \"display_data\") || (!Object.prototype.hasOwnProperty.call(output.data, EXEC_MIME_TYPE))) {\n      return\n    }\n\n    const toinsert = output_area.element.find(\".\" + CLASS_NAME.split(' ')[0]);\n\n    if (output.metadata[EXEC_MIME_TYPE][\"id\"] !== undefined) {\n      toinsert[toinsert.length - 1].firstChild.textContent = output.data[JS_MIME_TYPE];\n      // store reference to embed id on output_area\n      output_area._bokeh_element_id = output.metadata[EXEC_MIME_TYPE][\"id\"];\n    }\n    if (output.metadata[EXEC_MIME_TYPE][\"server_id\"] !== undefined) {\n      const bk_div = document.createElement(\"div\");\n      bk_div.innerHTML = output.data[HTML_MIME_TYPE];\n      const script_attrs = bk_div.children[0].attributes;\n      for (let i = 0; i < script_attrs.length; i++) {\n        toinsert[toinsert.length - 1].firstChild.setAttribute(script_attrs[i].name, script_attrs[i].value);\n        toinsert[toinsert.length - 1].firstChild.textContent = bk_div.children[0].textContent\n      }\n      // store reference to server id on output_area\n      output_area._bokeh_server_id = output.metadata[EXEC_MIME_TYPE][\"server_id\"];\n    }\n  }\n\n  function register_renderer(events, OutputArea) {\n\n    function append_mime(data, metadata, element) {\n      // create a DOM node to render to\n      const toinsert = this.create_output_subarea(\n        metadata,\n        CLASS_NAME,\n        EXEC_MIME_TYPE\n      );\n      this.keyboard_manager.register_events(toinsert);\n      // Render to node\n      const props = {data: data, metadata: metadata[EXEC_MIME_TYPE]};\n      render(props, toinsert[toinsert.length - 1]);\n      element.append(toinsert);\n      return toinsert\n    }\n\n    /* Handle when an output is cleared or removed */\n    events.on('clear_output.CodeCell', handleClearOutput);\n    events.on('delete.Cell', handleClearOutput);\n\n    /* Handle when a new output is added */\n    events.on('output_added.OutputArea', handleAddOutput);\n\n    /**\n     * Register the mime type and append_mime function with output_area\n     */\n    OutputArea.prototype.register_mime_type(EXEC_MIME_TYPE, append_mime, {\n      /* Is output safe? */\n      safe: true,\n      /* Index of renderer in `output_area.display_order` */\n      index: 0\n    });\n  }\n\n  // register the mime type if in Jupyter Notebook environment and previously unregistered\n  if (root.Jupyter !== undefined) {\n    const events = require('base/js/events');\n    const OutputArea = require('notebook/js/outputarea').OutputArea;\n\n    if (OutputArea.prototype.mime_types().indexOf(EXEC_MIME_TYPE) == -1) {\n      register_renderer(events, OutputArea);\n    }\n  }\n  if (typeof (root._bokeh_timeout) === \"undefined\" || force === true) {\n    root._bokeh_timeout = Date.now() + 5000;\n    root._bokeh_failed_load = false;\n  }\n\n  const NB_LOAD_WARNING = {'data': {'text/html':\n     \"<div style='background-color: #fdd'>\\n\"+\n     \"<p>\\n\"+\n     \"BokehJS does not appear to have successfully loaded. If loading BokehJS from CDN, this \\n\"+\n     \"may be due to a slow or bad network connection. Possible fixes:\\n\"+\n     \"</p>\\n\"+\n     \"<ul>\\n\"+\n     \"<li>re-rerun `output_notebook()` to attempt to load from CDN again, or</li>\\n\"+\n     \"<li>use INLINE resources instead, as so:</li>\\n\"+\n     \"</ul>\\n\"+\n     \"<code>\\n\"+\n     \"from bokeh.resources import INLINE\\n\"+\n     \"output_notebook(resources=INLINE)\\n\"+\n     \"</code>\\n\"+\n     \"</div>\"}};\n\n  function display_loaded(error = null) {\n    const el = document.getElementById(\"d7ae663a-c8cd-440f-a19e-5e802f1f0ee7\");\n    if (el != null) {\n      const html = (() => {\n        if (typeof root.Bokeh === \"undefined\") {\n          if (error == null) {\n            return \"BokehJS is loading ...\";\n          } else {\n            return \"BokehJS failed to load.\";\n          }\n        } else {\n          const prefix = `BokehJS ${root.Bokeh.version}`;\n          if (error == null) {\n            return `${prefix} successfully loaded.`;\n          } else {\n            return `${prefix} <b>encountered errors</b> while loading and may not function as expected.`;\n          }\n        }\n      })();\n      el.innerHTML = html;\n\n      if (error != null) {\n        const wrapper = document.createElement(\"div\");\n        wrapper.style.overflow = \"auto\";\n        wrapper.style.height = \"5em\";\n        wrapper.style.resize = \"vertical\";\n        const content = document.createElement(\"div\");\n        content.style.fontFamily = \"monospace\";\n        content.style.whiteSpace = \"pre-wrap\";\n        content.style.backgroundColor = \"rgb(255, 221, 221)\";\n        content.textContent = error.stack ?? error.toString();\n        wrapper.append(content);\n        el.append(wrapper);\n      }\n    } else if (Date.now() < root._bokeh_timeout) {\n      setTimeout(() => display_loaded(error), 100);\n    }\n  }\n\n  function run_callbacks() {\n    try {\n      root._bokeh_onload_callbacks.forEach(function(callback) {\n        if (callback != null)\n          callback();\n      });\n    } finally {\n      delete root._bokeh_onload_callbacks\n    }\n    console.debug(\"Bokeh: all callbacks have finished\");\n  }\n\n  function load_libs(css_urls, js_urls, callback) {\n    if (css_urls == null) css_urls = [];\n    if (js_urls == null) js_urls = [];\n\n    root._bokeh_onload_callbacks.push(callback);\n    if (root._bokeh_is_loading > 0) {\n      console.debug(\"Bokeh: BokehJS is being loaded, scheduling callback at\", now());\n      return null;\n    }\n    if (js_urls == null || js_urls.length === 0) {\n      run_callbacks();\n      return null;\n    }\n    console.debug(\"Bokeh: BokehJS not loaded, scheduling load and callback at\", now());\n    root._bokeh_is_loading = css_urls.length + js_urls.length;\n\n    function on_load() {\n      root._bokeh_is_loading--;\n      if (root._bokeh_is_loading === 0) {\n        console.debug(\"Bokeh: all BokehJS libraries/stylesheets loaded\");\n        run_callbacks()\n      }\n    }\n\n    function on_error(url) {\n      console.error(\"failed to load \" + url);\n    }\n\n    for (let i = 0; i < css_urls.length; i++) {\n      const url = css_urls[i];\n      const element = document.createElement(\"link\");\n      element.onload = on_load;\n      element.onerror = on_error.bind(null, url);\n      element.rel = \"stylesheet\";\n      element.type = \"text/css\";\n      element.href = url;\n      console.debug(\"Bokeh: injecting link tag for BokehJS stylesheet: \", url);\n      document.body.appendChild(element);\n    }\n\n    for (let i = 0; i < js_urls.length; i++) {\n      const url = js_urls[i];\n      const element = document.createElement('script');\n      element.onload = on_load;\n      element.onerror = on_error.bind(null, url);\n      element.async = false;\n      element.src = url;\n      console.debug(\"Bokeh: injecting script tag for BokehJS library: \", url);\n      document.head.appendChild(element);\n    }\n  };\n\n  function inject_raw_css(css) {\n    const element = document.createElement(\"style\");\n    element.appendChild(document.createTextNode(css));\n    document.body.appendChild(element);\n  }\n\n  const js_urls = [\"static/extensions/panel/bundled/jquery/jquery.slim.min.js\", \"static/extensions/panel/bundled/plotlyplot/plotly-2.31.1.min.js\", \"https://cdn.bokeh.org/bokeh/release/bokeh-3.4.1.min.js\", \"https://cdn.bokeh.org/bokeh/release/bokeh-gl-3.4.1.min.js\", \"https://cdn.bokeh.org/bokeh/release/bokeh-widgets-3.4.1.min.js\", \"https://cdn.bokeh.org/bokeh/release/bokeh-tables-3.4.1.min.js\", \"https://cdn.bokeh.org/bokeh/release/bokeh-mathjax-3.4.1.min.js\", \"https://unpkg.com/@holoviz/panel@1.4.2/dist/panel.min.js\"];\n  const css_urls = [];\n\n  const inline_js = [    function(Bokeh) {\n      Bokeh.set_log_level(\"info\");\n    },\nfunction(Bokeh) {\n    }\n  ];\n\n  function run_inline_js() {\n    if (root.Bokeh !== undefined || force === true) {\n      try {\n            for (let i = 0; i < inline_js.length; i++) {\n      inline_js[i].call(root, root.Bokeh);\n    }\n\n      } catch (error) {display_loaded(error);throw error;\n      }if (force === true) {\n        display_loaded();\n      }} else if (Date.now() < root._bokeh_timeout) {\n      setTimeout(run_inline_js, 100);\n    } else if (!root._bokeh_failed_load) {\n      console.log(\"Bokeh: BokehJS failed to load within specified timeout.\");\n      root._bokeh_failed_load = true;\n    } else if (force !== true) {\n      const cell = $(document.getElementById(\"d7ae663a-c8cd-440f-a19e-5e802f1f0ee7\")).parents('.cell').data().cell;\n      cell.output_area.append_execute_result(NB_LOAD_WARNING)\n    }\n  }\n\n  if (root._bokeh_is_loading === 0) {\n    console.debug(\"Bokeh: BokehJS loaded, going straight to plotting\");\n    run_inline_js();\n  } else {\n    load_libs(css_urls, js_urls, function() {\n      console.debug(\"Bokeh: BokehJS plotting callback run at\", now());\n      run_inline_js();\n    });\n  }\n}(window));",
      "application/vnd.bokehjs_load.v0+json": ""
     },
     "metadata": {},
     "output_type": "display_data"
    },
    {
     "data": {
      "text/html": [
       "\n",
       "  <div id=\"f95be728-dc26-450d-ae6b-261a5be86a7a\" data-root-id=\"p8245\" style=\"display: contents;\"></div>\n"
      ]
     },
     "metadata": {},
     "output_type": "display_data"
    },
    {
     "data": {
      "application/javascript": "(function(root) {\n  function embed_document(root) {\n  const docs_json = {\"3de0994a-1160-43e5-820c-b1977a910699\":{\"version\":\"3.4.1\",\"title\":\"Bokeh Application\",\"roots\":[{\"type\":\"object\",\"name\":\"Row\",\"id\":\"p8245\",\"attributes\":{\"children\":[{\"type\":\"object\",\"name\":\"Column\",\"id\":\"p8226\",\"attributes\":{\"children\":[{\"type\":\"object\",\"name\":\"Figure\",\"id\":\"p8065\",\"attributes\":{\"height\":500,\"x_range\":{\"type\":\"object\",\"name\":\"DataRange1d\",\"id\":\"p8066\",\"attributes\":{\"js_property_callbacks\":{\"type\":\"map\",\"entries\":[[\"change:start\",[{\"type\":\"object\",\"name\":\"CustomJS\",\"id\":\"p8224\",\"attributes\":{\"args\":{\"type\":\"map\",\"entries\":[[\"box\",{\"type\":\"object\",\"name\":\"BoxAnnotation\",\"id\":\"p8219\",\"attributes\":{\"left\":0,\"right\":0,\"top\":0,\"bottom\":0,\"line_color\":\"red\",\"fill_color\":\"cornflowerblue\",\"fill_alpha\":0.1}}]]},\"code\":\"\\n        box['left'] = cb_obj.start\\n        box['right'] = cb_obj.end\\n    \"}}]],[\"change:end\",[{\"id\":\"p8224\"}]]]}}},\"y_range\":{\"type\":\"object\",\"name\":\"DataRange1d\",\"id\":\"p8067\",\"attributes\":{\"js_property_callbacks\":{\"type\":\"map\",\"entries\":[[\"change:start\",[{\"type\":\"object\",\"name\":\"CustomJS\",\"id\":\"p8225\",\"attributes\":{\"args\":{\"type\":\"map\",\"entries\":[[\"box\",{\"id\":\"p8219\"}]]},\"code\":\"\\n        box['bottom'] = cb_obj.start\\n        box['top'] = cb_obj.end\\n    \"}}]],[\"change:end\",[{\"id\":\"p8225\"}]]]}}},\"x_scale\":{\"type\":\"object\",\"name\":\"LinearScale\",\"id\":\"p8074\"},\"y_scale\":{\"type\":\"object\",\"name\":\"LinearScale\",\"id\":\"p8075\"},\"title\":{\"type\":\"object\",\"name\":\"Title\",\"id\":\"p8097\",\"attributes\":{\"text\":\"Mass spectrum of molecule\"}},\"renderers\":[{\"type\":\"object\",\"name\":\"GlyphRenderer\",\"id\":\"p8107\",\"attributes\":{\"data_source\":{\"type\":\"object\",\"name\":\"ColumnDataSource\",\"id\":\"p8101\",\"attributes\":{\"selected\":{\"type\":\"object\",\"name\":\"Selection\",\"id\":\"p8102\",\"attributes\":{\"indices\":[],\"line_indices\":[]}},\"selection_policy\":{\"type\":\"object\",\"name\":\"UnionRenderers\",\"id\":\"p8103\"},\"data\":{\"type\":\"map\",\"entries\":[[\"x\",[332.891,333.091,333.091,333.091,334.091125,334.091125,334.091125,334.095125,334.095125,334.095125,335.0955625,335.0955625,335.0955625,336.0955,336.0955,336.0955,337.0885,337.0885,337.0885,337.2885]],[\"y\",[0,0,0.7806460744469201,0,0,0.006245168595575361,0,0,0.1541247667333435,0,0,0.05462127746170614,0,0,0.007630968954231516,0,0,0.00044167895460932424,0,0]]]}}},\"view\":{\"type\":\"object\",\"name\":\"CDSView\",\"id\":\"p8108\",\"attributes\":{\"filter\":{\"type\":\"object\",\"name\":\"AllIndices\",\"id\":\"p8109\"}}},\"glyph\":{\"type\":\"object\",\"name\":\"Line\",\"id\":\"p8104\",\"attributes\":{\"x\":{\"type\":\"field\",\"field\":\"x\"},\"y\":{\"type\":\"field\",\"field\":\"y\"},\"line_color\":\"#1f77b4\"}},\"nonselection_glyph\":{\"type\":\"object\",\"name\":\"Line\",\"id\":\"p8105\",\"attributes\":{\"x\":{\"type\":\"field\",\"field\":\"x\"},\"y\":{\"type\":\"field\",\"field\":\"y\"},\"line_color\":\"#1f77b4\",\"line_alpha\":0.1}},\"muted_glyph\":{\"type\":\"object\",\"name\":\"Line\",\"id\":\"p8106\",\"attributes\":{\"x\":{\"type\":\"field\",\"field\":\"x\"},\"y\":{\"type\":\"field\",\"field\":\"y\"},\"line_color\":\"#1f77b4\",\"line_alpha\":0.2}}}}],\"toolbar\":{\"type\":\"object\",\"name\":\"Toolbar\",\"id\":\"p8073\",\"attributes\":{\"tools\":[{\"type\":\"object\",\"name\":\"PanTool\",\"id\":\"p8086\"},{\"type\":\"object\",\"name\":\"WheelZoomTool\",\"id\":\"p8087\",\"attributes\":{\"renderers\":\"auto\"}},{\"type\":\"object\",\"name\":\"BoxZoomTool\",\"id\":\"p8088\",\"attributes\":{\"overlay\":{\"type\":\"object\",\"name\":\"BoxAnnotation\",\"id\":\"p8089\",\"attributes\":{\"syncable\":false,\"level\":\"overlay\",\"visible\":false,\"left\":{\"type\":\"number\",\"value\":\"nan\"},\"right\":{\"type\":\"number\",\"value\":\"nan\"},\"top\":{\"type\":\"number\",\"value\":\"nan\"},\"bottom\":{\"type\":\"number\",\"value\":\"nan\"},\"left_units\":\"canvas\",\"right_units\":\"canvas\",\"top_units\":\"canvas\",\"bottom_units\":\"canvas\",\"line_color\":\"black\",\"line_alpha\":1.0,\"line_width\":2,\"line_dash\":[4,4],\"fill_color\":\"lightgrey\",\"fill_alpha\":0.5}}}},{\"type\":\"object\",\"name\":\"SaveTool\",\"id\":\"p8094\"},{\"type\":\"object\",\"name\":\"ResetTool\",\"id\":\"p8095\"},{\"type\":\"object\",\"name\":\"HelpTool\",\"id\":\"p8096\"},{\"type\":\"object\",\"name\":\"WheelPanTool\",\"id\":\"p8099\",\"attributes\":{\"dimension\":\"height\"}},{\"type\":\"object\",\"name\":\"WheelZoomTool\",\"id\":\"p8100\",\"attributes\":{\"dimensions\":\"height\",\"renderers\":\"auto\"}}]}},\"left\":[{\"type\":\"object\",\"name\":\"LinearAxis\",\"id\":\"p8081\",\"attributes\":{\"ticker\":{\"type\":\"object\",\"name\":\"BasicTicker\",\"id\":\"p8082\",\"attributes\":{\"mantissas\":[1,2,5]}},\"formatter\":{\"type\":\"object\",\"name\":\"BasicTickFormatter\",\"id\":\"p8083\"},\"axis_label\":\"Abundance\",\"major_label_policy\":{\"type\":\"object\",\"name\":\"AllLabels\",\"id\":\"p8084\"}}}],\"below\":[{\"type\":\"object\",\"name\":\"LinearAxis\",\"id\":\"p8076\",\"attributes\":{\"ticker\":{\"type\":\"object\",\"name\":\"FixedTicker\",\"id\":\"p8098\",\"attributes\":{\"ticks\":[333.091,334.091125,334.095125,335.0955625,336.0955],\"minor_ticks\":[]}},\"formatter\":{\"type\":\"object\",\"name\":\"BasicTickFormatter\",\"id\":\"p8078\"},\"axis_label\":\"[m/z]\",\"major_label_policy\":{\"type\":\"object\",\"name\":\"AllLabels\",\"id\":\"p8079\"}}}],\"center\":[{\"type\":\"object\",\"name\":\"Grid\",\"id\":\"p8080\",\"attributes\":{\"axis\":{\"id\":\"p8076\"}}},{\"type\":\"object\",\"name\":\"Grid\",\"id\":\"p8085\",\"attributes\":{\"dimension\":1,\"axis\":{\"id\":\"p8081\"}}}]}},{\"type\":\"object\",\"name\":\"Figure\",\"id\":\"p8176\",\"attributes\":{\"height\":250,\"x_range\":{\"type\":\"object\",\"name\":\"DataRange1d\",\"id\":\"p8177\"},\"y_range\":{\"type\":\"object\",\"name\":\"DataRange1d\",\"id\":\"p8178\"},\"x_scale\":{\"type\":\"object\",\"name\":\"LinearScale\",\"id\":\"p8185\"},\"y_scale\":{\"type\":\"object\",\"name\":\"LinearScale\",\"id\":\"p8186\"},\"title\":{\"type\":\"object\",\"name\":\"Title\",\"id\":\"p8183\"},\"renderers\":[{\"type\":\"object\",\"name\":\"GlyphRenderer\",\"id\":\"p8214\",\"attributes\":{\"data_source\":{\"type\":\"object\",\"name\":\"ColumnDataSource\",\"id\":\"p8208\",\"attributes\":{\"selected\":{\"type\":\"object\",\"name\":\"Selection\",\"id\":\"p8209\",\"attributes\":{\"indices\":[],\"line_indices\":[]}},\"selection_policy\":{\"type\":\"object\",\"name\":\"UnionRenderers\",\"id\":\"p8210\"},\"data\":{\"type\":\"map\",\"entries\":[[\"x\",[332.891,333.091,333.091,333.091,334.091125,334.091125,334.091125,334.095125,334.095125,334.095125,335.0955625,335.0955625,335.0955625,336.0955,336.0955,336.0955,337.0885,337.0885,337.0885,337.2885]],[\"y\",[0,0,0.7806460744469201,0,0,0.006245168595575361,0,0,0.1541247667333435,0,0,0.05462127746170614,0,0,0.007630968954231516,0,0,0.00044167895460932424,0,0]]]}}},\"view\":{\"type\":\"object\",\"name\":\"CDSView\",\"id\":\"p8215\",\"attributes\":{\"filter\":{\"type\":\"object\",\"name\":\"AllIndices\",\"id\":\"p8216\"}}},\"glyph\":{\"type\":\"object\",\"name\":\"Line\",\"id\":\"p8211\",\"attributes\":{\"x\":{\"type\":\"field\",\"field\":\"x\"},\"y\":{\"type\":\"field\",\"field\":\"y\"},\"line_color\":\"#1f77b4\"}},\"nonselection_glyph\":{\"type\":\"object\",\"name\":\"Line\",\"id\":\"p8212\",\"attributes\":{\"x\":{\"type\":\"field\",\"field\":\"x\"},\"y\":{\"type\":\"field\",\"field\":\"y\"},\"line_color\":\"#1f77b4\",\"line_alpha\":0.1}},\"muted_glyph\":{\"type\":\"object\",\"name\":\"Line\",\"id\":\"p8213\",\"attributes\":{\"x\":{\"type\":\"field\",\"field\":\"x\"},\"y\":{\"type\":\"field\",\"field\":\"y\"},\"line_color\":\"#1f77b4\",\"line_alpha\":0.2}}}}],\"toolbar\":{\"type\":\"object\",\"name\":\"Toolbar\",\"id\":\"p8184\",\"attributes\":{\"tools\":[{\"type\":\"object\",\"name\":\"PanTool\",\"id\":\"p8197\"},{\"type\":\"object\",\"name\":\"WheelZoomTool\",\"id\":\"p8198\",\"attributes\":{\"renderers\":\"auto\"}},{\"type\":\"object\",\"name\":\"BoxZoomTool\",\"id\":\"p8199\",\"attributes\":{\"overlay\":{\"type\":\"object\",\"name\":\"BoxAnnotation\",\"id\":\"p8200\",\"attributes\":{\"syncable\":false,\"level\":\"overlay\",\"visible\":false,\"left\":{\"type\":\"number\",\"value\":\"nan\"},\"right\":{\"type\":\"number\",\"value\":\"nan\"},\"top\":{\"type\":\"number\",\"value\":\"nan\"},\"bottom\":{\"type\":\"number\",\"value\":\"nan\"},\"left_units\":\"canvas\",\"right_units\":\"canvas\",\"top_units\":\"canvas\",\"bottom_units\":\"canvas\",\"line_color\":\"black\",\"line_alpha\":1.0,\"line_width\":2,\"line_dash\":[4,4],\"fill_color\":\"lightgrey\",\"fill_alpha\":0.5}}}},{\"type\":\"object\",\"name\":\"SaveTool\",\"id\":\"p8205\"},{\"type\":\"object\",\"name\":\"ResetTool\",\"id\":\"p8206\"},{\"type\":\"object\",\"name\":\"HelpTool\",\"id\":\"p8207\"}]}},\"toolbar_location\":null,\"left\":[{\"type\":\"object\",\"name\":\"LinearAxis\",\"id\":\"p8192\",\"attributes\":{\"ticker\":{\"type\":\"object\",\"name\":\"BasicTicker\",\"id\":\"p8193\",\"attributes\":{\"mantissas\":[1,2,5]}},\"formatter\":{\"type\":\"object\",\"name\":\"BasicTickFormatter\",\"id\":\"p8194\"},\"major_label_policy\":{\"type\":\"object\",\"name\":\"AllLabels\",\"id\":\"p8195\"}}}],\"below\":[{\"type\":\"object\",\"name\":\"LinearAxis\",\"id\":\"p8187\",\"attributes\":{\"ticker\":{\"type\":\"object\",\"name\":\"BasicTicker\",\"id\":\"p8188\",\"attributes\":{\"mantissas\":[1,2,5]}},\"formatter\":{\"type\":\"object\",\"name\":\"BasicTickFormatter\",\"id\":\"p8189\"},\"major_label_policy\":{\"type\":\"object\",\"name\":\"AllLabels\",\"id\":\"p8190\"}}}],\"center\":[{\"type\":\"object\",\"name\":\"Grid\",\"id\":\"p8191\",\"attributes\":{\"axis\":{\"id\":\"p8187\"}}},{\"type\":\"object\",\"name\":\"Grid\",\"id\":\"p8196\",\"attributes\":{\"dimension\":1,\"axis\":{\"id\":\"p8192\"}}},{\"type\":\"object\",\"name\":\"Legend\",\"id\":\"p8217\",\"attributes\":{\"items\":[{\"type\":\"object\",\"name\":\"LegendItem\",\"id\":\"p8218\",\"attributes\":{\"label\":{\"type\":\"value\",\"value\":\"Mass spectrum\"},\"renderers\":[{\"id\":\"p8214\"}]}}]}},{\"id\":\"p8219\"}]}}]}},{\"type\":\"object\",\"name\":\"Column\",\"id\":\"p8244\",\"attributes\":{\"children\":[{\"type\":\"object\",\"name\":\"Div\",\"id\":\"p8227\",\"attributes\":{\"text\":\"<img src=\\\"data:image/png;base64,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\\\" style=\\\"width:350px;height:350px;\\\">\"}},{\"type\":\"object\",\"name\":\"DataTable\",\"id\":\"p8238\",\"attributes\":{\"width\":250,\"height\":560,\"source\":{\"type\":\"object\",\"name\":\"ColumnDataSource\",\"id\":\"p8228\",\"attributes\":{\"selected\":{\"type\":\"object\",\"name\":\"Selection\",\"id\":\"p8229\",\"attributes\":{\"indices\":[],\"line_indices\":[]}},\"selection_policy\":{\"type\":\"object\",\"name\":\"UnionRenderers\",\"id\":\"p8230\"},\"data\":{\"type\":\"map\",\"entries\":[[\"groups\",[\"Carboxylic Acid\",\"Amide\",\"Amide\",\"Amine\",\"Sulfide\",\"Benzene\"]],[\"images\",[\"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\",\"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\",\"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\",\"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\",\"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\",\"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\"]]]}}},\"view\":{\"type\":\"object\",\"name\":\"CDSView\",\"id\":\"p8242\",\"attributes\":{\"filter\":{\"type\":\"object\",\"name\":\"AllIndices\",\"id\":\"p8243\"}}},\"columns\":[{\"type\":\"object\",\"name\":\"TableColumn\",\"id\":\"p8231\",\"attributes\":{\"field\":\"groups\",\"title\":\"Functional Groups\",\"formatter\":{\"type\":\"object\",\"name\":\"StringFormatter\",\"id\":\"p8232\"},\"editor\":{\"type\":\"object\",\"name\":\"StringEditor\",\"id\":\"p8233\"}}},{\"type\":\"object\",\"name\":\"TableColumn\",\"id\":\"p8235\",\"attributes\":{\"field\":\"images\",\"title\":\"Images\",\"width\":200,\"formatter\":{\"type\":\"object\",\"name\":\"HTMLTemplateFormatter\",\"id\":\"p8234\",\"attributes\":{\"template\":\"\\n    <div>\\n        <img src=\\\"data:image/png;base64, <%= value %>\\\" style=\\\"width:50px;height:50px;\\\">\\n    </div>\\n    \"}},\"editor\":{\"type\":\"object\",\"name\":\"StringEditor\",\"id\":\"p8237\"}}}],\"row_height\":60}}]}}]}}],\"defs\":[{\"type\":\"model\",\"name\":\"ReactiveHTML1\"},{\"type\":\"model\",\"name\":\"FlexBox1\",\"properties\":[{\"name\":\"align_content\",\"kind\":\"Any\",\"default\":\"flex-start\"},{\"name\":\"align_items\",\"kind\":\"Any\",\"default\":\"flex-start\"},{\"name\":\"flex_direction\",\"kind\":\"Any\",\"default\":\"row\"},{\"name\":\"flex_wrap\",\"kind\":\"Any\",\"default\":\"wrap\"},{\"name\":\"gap\",\"kind\":\"Any\",\"default\":\"\"},{\"name\":\"justify_content\",\"kind\":\"Any\",\"default\":\"flex-start\"}]},{\"type\":\"model\",\"name\":\"FloatPanel1\",\"properties\":[{\"name\":\"config\",\"kind\":\"Any\",\"default\":{\"type\":\"map\"}},{\"name\":\"contained\",\"kind\":\"Any\",\"default\":true},{\"name\":\"position\",\"kind\":\"Any\",\"default\":\"right-top\"},{\"name\":\"offsetx\",\"kind\":\"Any\",\"default\":null},{\"name\":\"offsety\",\"kind\":\"Any\",\"default\":null},{\"name\":\"theme\",\"kind\":\"Any\",\"default\":\"primary\"},{\"name\":\"status\",\"kind\":\"Any\",\"default\":\"normalized\"}]},{\"type\":\"model\",\"name\":\"GridStack1\",\"properties\":[{\"name\":\"mode\",\"kind\":\"Any\",\"default\":\"warn\"},{\"name\":\"ncols\",\"kind\":\"Any\",\"default\":null},{\"name\":\"nrows\",\"kind\":\"Any\",\"default\":null},{\"name\":\"allow_resize\",\"kind\":\"Any\",\"default\":true},{\"name\":\"allow_drag\",\"kind\":\"Any\",\"default\":true},{\"name\":\"state\",\"kind\":\"Any\",\"default\":[]}]},{\"type\":\"model\",\"name\":\"drag1\",\"properties\":[{\"name\":\"slider_width\",\"kind\":\"Any\",\"default\":5},{\"name\":\"slider_color\",\"kind\":\"Any\",\"default\":\"black\"},{\"name\":\"value\",\"kind\":\"Any\",\"default\":50}]},{\"type\":\"model\",\"name\":\"click1\",\"properties\":[{\"name\":\"terminal_output\",\"kind\":\"Any\",\"default\":\"\"},{\"name\":\"debug_name\",\"kind\":\"Any\",\"default\":\"\"},{\"name\":\"clears\",\"kind\":\"Any\",\"default\":0}]},{\"type\":\"model\",\"name\":\"FastWrapper1\",\"properties\":[{\"name\":\"object\",\"kind\":\"Any\",\"default\":null},{\"name\":\"style\",\"kind\":\"Any\",\"default\":null}]},{\"type\":\"model\",\"name\":\"NotificationAreaBase1\",\"properties\":[{\"name\":\"js_events\",\"kind\":\"Any\",\"default\":{\"type\":\"map\"}},{\"name\":\"position\",\"kind\":\"Any\",\"default\":\"bottom-right\"},{\"name\":\"_clear\",\"kind\":\"Any\",\"default\":0}]},{\"type\":\"model\",\"name\":\"NotificationArea1\",\"properties\":[{\"name\":\"js_events\",\"kind\":\"Any\",\"default\":{\"type\":\"map\"}},{\"name\":\"notifications\",\"kind\":\"Any\",\"default\":[]},{\"name\":\"position\",\"kind\":\"Any\",\"default\":\"bottom-right\"},{\"name\":\"_clear\",\"kind\":\"Any\",\"default\":0},{\"name\":\"types\",\"kind\":\"Any\",\"default\":[{\"type\":\"map\",\"entries\":[[\"type\",\"warning\"],[\"background\",\"#ffc107\"],[\"icon\",{\"type\":\"map\",\"entries\":[[\"className\",\"fas fa-exclamation-triangle\"],[\"tagName\",\"i\"],[\"color\",\"white\"]]}]]},{\"type\":\"map\",\"entries\":[[\"type\",\"info\"],[\"background\",\"#007bff\"],[\"icon\",{\"type\":\"map\",\"entries\":[[\"className\",\"fas fa-info-circle\"],[\"tagName\",\"i\"],[\"color\",\"white\"]]}]]}]}]},{\"type\":\"model\",\"name\":\"Notification\",\"properties\":[{\"name\":\"background\",\"kind\":\"Any\",\"default\":null},{\"name\":\"duration\",\"kind\":\"Any\",\"default\":3000},{\"name\":\"icon\",\"kind\":\"Any\",\"default\":null},{\"name\":\"message\",\"kind\":\"Any\",\"default\":\"\"},{\"name\":\"notification_type\",\"kind\":\"Any\",\"default\":null},{\"name\":\"_destroyed\",\"kind\":\"Any\",\"default\":false}]},{\"type\":\"model\",\"name\":\"TemplateActions1\",\"properties\":[{\"name\":\"open_modal\",\"kind\":\"Any\",\"default\":0},{\"name\":\"close_modal\",\"kind\":\"Any\",\"default\":0}]},{\"type\":\"model\",\"name\":\"BootstrapTemplateActions1\",\"properties\":[{\"name\":\"open_modal\",\"kind\":\"Any\",\"default\":0},{\"name\":\"close_modal\",\"kind\":\"Any\",\"default\":0}]},{\"type\":\"model\",\"name\":\"TemplateEditor1\",\"properties\":[{\"name\":\"layout\",\"kind\":\"Any\",\"default\":[]}]},{\"type\":\"model\",\"name\":\"MaterialTemplateActions1\",\"properties\":[{\"name\":\"open_modal\",\"kind\":\"Any\",\"default\":0},{\"name\":\"close_modal\",\"kind\":\"Any\",\"default\":0}]},{\"type\":\"model\",\"name\":\"copy_to_clipboard1\",\"properties\":[{\"name\":\"fill\",\"kind\":\"Any\",\"default\":\"none\"},{\"name\":\"value\",\"kind\":\"Any\",\"default\":null}]}]}};\n  const render_items = [{\"docid\":\"3de0994a-1160-43e5-820c-b1977a910699\",\"roots\":{\"p8245\":\"f95be728-dc26-450d-ae6b-261a5be86a7a\"},\"root_ids\":[\"p8245\"]}];\n  void root.Bokeh.embed.embed_items_notebook(docs_json, render_items);\n  }\n  if (root.Bokeh !== undefined) {\n    embed_document(root);\n  } else {\n    let attempts = 0;\n    const timer = setInterval(function(root) {\n      if (root.Bokeh !== undefined) {\n        clearInterval(timer);\n        embed_document(root);\n      } else {\n        attempts++;\n        if (attempts > 100) {\n          clearInterval(timer);\n          console.log(\"Bokeh: ERROR: Unable to run BokehJS code because BokehJS library is missing\");\n        }\n      }\n    }, 10, root)\n  }\n})(window);",
      "application/vnd.bokehjs_exec.v0+json": ""
     },
     "metadata": {
      "application/vnd.bokehjs_exec.v0+json": {
       "id": "p8245"
      }
     },
     "output_type": "display_data"
    }
   ],
   "source": [
    "import MASSiveChem.MASSiveChem as MC\n",
    "from bokeh.plotting import show, output_notebook\n",
    "\n",
    "output_notebook() \n",
    "show(MC.spectrum('CC1(C(N2C(S1)C(C2=O)NC(=O)CC3=CC=CC=C3)C(=O)O)C', True, 0.01))"
   ]
  },
  {
   "cell_type": "markdown",
   "metadata": {},
   "source": [
    "Note: the second argument here being True indicates that the function will neglect any ions which have a probability of apparation under 0.00001"
   ]
  },
  {
   "cell_type": "markdown",
   "metadata": {},
   "source": [
    "## Examples of functions and their respective inputs and outputs\n",
    "First, here is a list of the functions that come with the package: \n",
    "\n",
    "## Basic functions\n",
    "- calculate_unsaturation(mol_smi)->unsaturation\n",
    "\n",
    "- SMILEs_interpreter(mol_smi)->mol\n",
    "\n",
    "- molecule_list_generator(mol)->list_atoms\n",
    "\n",
    "- ionisation_method(list_atoms)->list_atoms\n",
    "\n",
    "- sulphur_nitrogen_finder(list_atoms)->has_N, has_S, count_N, count_S\n",
    "\n",
    "- main_function(list_atoms, imprecision_True_false)->list_masses, list_abundances\n",
    "\n",
    "- peak_merger(list_ions, list_abundances)->list_masses, list_abundances\n",
    "\n",
    "- sulphur_nitrogen_adder(list_ions, list_abundances, has_N, has_S, count_N, count_S)->list_masses, list_abundances\n",
    "\n",
    "- peak_sorter(list_masses, list_abundances)->list_masses, list_abundances\n",
    "\n",
    "- delta_function_plotter(list_masses, list_abundances)->list_masses, list_abundances\n",
    "\n",
    "- double_plot(list_masses, list_abundances)->bokeh_plot_1, bokeh_plot_2\n",
    "\n",
    "- functional_group_finder(mol_smi)->list_functional, groups_contained\n",
    "\n",
    "- functional_group_display(ist_functionalgroups_contained)-> bokeh_plot_3\n",
    "\n",
    "- mol_web_show(mol_smi)->bokeh_plot_4\n",
    "\n",
    "- all_in_one(bokeh_plot_1, bokeh_plot_2, bokeh_plot_3)-> bokeh_plot_final\n",
    "\n",
    "- smiles_to_3D_plot(mol_smi)-> 3D_panel_plot"
   ]
  },
  {
   "cell_type": "markdown",
   "metadata": {},
   "source": [
    "from all of these functions, the following two main functions are most useful:\n",
    "## Main functions"
   ]
  },
  {
   "cell_type": "markdown",
   "metadata": {},
   "source": [
    "\n",
    "\n",
    "- spectrum(mol_smi, imprecision_True_False, apparatus_resolution)\n",
    "\n",
    "- specturm_3D(mol_smi, imprecision_True_False, apparatus_resolution)\n",
    "\n",
    "## Functionality\n",
    "The main functions can both be made by combining the basic functions.\n",
    "\n",
    "## 📚 Examples\n",
    "First, all of the basic functions will be shown, in order to then construct spectrum and spectrum_3D out of them. The resulting plots are fully interactive, so you can zoom in on the areas you want. We will use the example of Benzylpenicilin throughout the notebook, an important antibiotic 🦠\n",
    "\n"
   ]
  },
  {
   "cell_type": "markdown",
   "metadata": {},
   "source": [
    "## SMILEs interpreter\n",
    "This function takes a molecule under SMILEs representation as input and outputs its MOL representation."
   ]
  },
  {
   "cell_type": "code",
   "execution_count": 63,
   "metadata": {},
   "outputs": [
    {
     "name": "stdout",
     "output_type": "stream",
     "text": [
      "<rdkit.Chem.rdchem.Mol object at 0x12162b140>\n"
     ]
    }
   ],
   "source": [
    "import MASSiveChem.MASSiveChem as MC\n",
    "output = MC.SMILEs_interpreter('CC1(C(N2C(S1)C(C2=O)NC(=O)CC3=CC=CC=C3)C(=O)O)C')\n",
    "\n",
    "print(output)"
   ]
  },
  {
   "cell_type": "markdown",
   "metadata": {},
   "source": [
    "## molecule_list_generator\n",
    "This function takes a MOL representation as input and outputs a list of all of the atoms within that molecule"
   ]
  },
  {
   "cell_type": "code",
   "execution_count": 64,
   "metadata": {},
   "outputs": [
    {
     "name": "stdout",
     "output_type": "stream",
     "text": [
      "['C', 'C', 'C', 'N', 'C', 'S', 'C', 'C', 'O', 'N', 'C', 'O', 'C', 'C', 'C', 'C', 'C', 'C', 'C', 'C', 'O', 'O', 'C', 'H', 'H', 'H', 'H', 'H', 'H', 'H', 'H', 'H', 'H', 'H', 'H', 'H', 'H', 'H', 'H', 'H', 'H']\n"
     ]
    }
   ],
   "source": [
    "import MASSiveChem.MASSiveChem as MC\n",
    "mol = MC.SMILEs_interpreter('CC1(C(N2C(S1)C(C2=O)NC(=O)CC3=CC=CC=C3)C(=O)O)C')\n",
    "output = MC.molecule_list_generator(mol)\n",
    "\n",
    "print(output)"
   ]
  },
  {
   "cell_type": "markdown",
   "metadata": {},
   "source": [
    "## ionisation_method(list_atoms)\n",
    "This function takes a list of atoms as input and simply outputs the same list with a proton less (in essence, a hydrogen atom)"
   ]
  },
  {
   "cell_type": "code",
   "execution_count": 65,
   "metadata": {},
   "outputs": [
    {
     "name": "stdout",
     "output_type": "stream",
     "text": [
      "['C', 'C', 'C', 'N', 'C', 'S', 'C', 'C', 'O', 'N', 'C', 'O', 'C', 'C', 'C', 'C', 'C', 'C', 'C', 'C', 'O', 'O', 'C', 'H', 'H', 'H', 'H', 'H', 'H', 'H', 'H', 'H', 'H', 'H', 'H', 'H', 'H', 'H', 'H', 'H']\n"
     ]
    }
   ],
   "source": [
    "import MASSiveChem.MASSiveChem as MC\n",
    "\n",
    "list_atoms = ['C', 'C', 'C', 'N', 'C', 'S', 'C',\n",
    "            'C', 'O', 'N', 'C', 'O', 'C', 'C',\n",
    "            'C', 'C', 'C', 'C', 'C', 'C', 'O',\n",
    "            'O', 'C', 'H', 'H', 'H', 'H', 'H',\n",
    "            'H', 'H', 'H', 'H', 'H', 'H', 'H',\n",
    "            'H', 'H', 'H', 'H', 'H', 'H']\n",
    "\n",
    "print(MC.ionisation_method(list_atoms))"
   ]
  },
  {
   "cell_type": "markdown",
   "metadata": {},
   "source": [
    "## sulphur_nitrogen_finder(list_atoms)\n",
    "This function takes a list of atoms as input and outputs four values: has_N, has_S, count_N and count_S.\n",
    "has_N & has_S are True if there is an odd number of Nitrogen and Sulphur repsectively, and False otherwise."
   ]
  },
  {
   "cell_type": "code",
   "execution_count": 66,
   "metadata": {},
   "outputs": [
    {
     "name": "stdout",
     "output_type": "stream",
     "text": [
      "(False, True, 0, 1)\n"
     ]
    }
   ],
   "source": [
    "import MASSiveChem.MASSiveChem as MC\n",
    "\n",
    "list_atoms = ['C', 'C', 'C', 'N', 'C', 'S', 'C',\n",
    "            'C', 'O', 'N', 'C', 'O', 'C', 'C',\n",
    "            'C', 'C', 'C', 'C', 'C', 'C', 'O',\n",
    "            'O', 'C', 'H', 'H', 'H', 'H', 'H',\n",
    "            'H', 'H', 'H', 'H', 'H', 'H', 'H',\n",
    "            'H', 'H', 'H', 'H', 'H']\n",
    "\n",
    "output = (MC.sulphur_nitrogen_finder(list_atoms))\n",
    "print(output)"
   ]
  },
  {
   "cell_type": "markdown",
   "metadata": {},
   "source": [
    "## main_function(list_atoms)\n",
    "This function takes a list of atoms as an input, and will output two lists.\n",
    "\n",
    "The first (list_masses) is a list of the masses of all of the possible combinations of isotopes that can form the given molecule (under list representation) and the second (list_abundances) is a list of the probabilities of apparition of each of these combinations of isotopes.\n",
    "\n",
    "As such, both lists are the same length and the mass at index i in list_masses has the probability at index i in list_abundances associated to it."
   ]
  },
  {
   "cell_type": "code",
   "execution_count": 67,
   "metadata": {},
   "outputs": [
    {
     "name": "stdout",
     "output_type": "stream",
     "text": [
      "([335.098, 335.091, 336.09, 335.094, 336.099, 334.094, 336.084, 335.087, 335.085, 334.088, 337.086, 337.091, 336.091, 336.095, 334.09, 335.095, 334.095, 334.097, 333.091, 334.09], [0.011588526369405492, 0.0010318394920251141, 0.006155135615344779, 0.0010965205965578584, 0.0011140485120013646, 0.1389218494465703, 0.00025689925174544854, 0.034633431374818203, 1.0766569982707308e-05, 0.005798234418254755, 0.00016431194999935186, 0.0002773670046099724, 5.5473400921994485e-05, 4.9412174217928584e-05, 0.006161698124975695, 0.006260193058916763, 0.001252038611783352, 0.0019909461317594106, 0.7806460744469201, 0.006245168595575361])\n"
     ]
    }
   ],
   "source": [
    "import MASSiveChem.MASSiveChem as MC\n",
    "\n",
    "output = MC.main_function(['C', 'C', 'C', 'N', 'C', 'S', 'C','C', 'O', 'N', 'C', 'O', 'C', 'C',\n",
    "                            'C', 'C', 'C', 'C', 'C', 'C', 'O','O', 'C', 'H', 'H', 'H', 'H', 'H',\n",
    "                            'H', 'H', 'H', 'H', 'H', 'H', 'H','H', 'H', 'H', 'H', 'H'], True)\n",
    "\n",
    "print(output)"
   ]
  },
  {
   "cell_type": "markdown",
   "metadata": {},
   "source": [
    "## peak_merger(list_masses, list_abundances)\n",
    "This function takes the two lists outputted by main_function, and merges the values in list_abundances if their values in list_masses are the same."
   ]
  },
  {
   "cell_type": "code",
   "execution_count": 68,
   "metadata": {},
   "outputs": [
    {
     "name": "stdout",
     "output_type": "stream",
     "text": [
      "([335.092, 335.086, 333.71807812500003, 334.09], [0.14507698506191508, 0.006055133670000204, 0.8310629277992183, 0.006245168595575361])\n"
     ]
    }
   ],
   "source": [
    "import MASSiveChem.MASSiveChem as MC\n",
    "\n",
    "output = MC.peak_merger([336.09, 334.094, 336.084, 334.088, 337.086, 335.087, 334.09, 335.095, 334.095, 334.097, 333.091, 334.09], \n",
    "                        [0.006155135615344779, 0.1389218494465703, 0.00025689925174544854, 0.005798234418254755, 0.00016431194999935186,\n",
    "                        0.03458766547486355, 0.006161698124975695, 0.006260193058916763, 0.001252038611783352, 0.0019909461317594106, \n",
    "                        0.7806460744469201, 0.006245168595575361],\n",
    "                        0.01)\n",
    "\n",
    "print(output)"
   ]
  },
  {
   "cell_type": "markdown",
   "metadata": {},
   "source": [
    "## sulphur_nitrogen_adder(x_in, y_in, has_N, has_S, count_N, count_S)\n",
    "This function takes the two outputted lists from peak_merger and adds the values for the sulphur and nitrogen peaks (if they need adding)."
   ]
  },
  {
   "cell_type": "code",
   "execution_count": 69,
   "metadata": {},
   "outputs": [
    {
     "name": "stdout",
     "output_type": "stream",
     "text": [
      "([335.092, 335.086, 333.71807812500003, 334.09, 335.082], [0.14507698506191508, 0.006055133670000204, 0.8310629277992183, 0.006245168595575361, 0.006648503422393747])\n"
     ]
    }
   ],
   "source": [
    "import MASSiveChem.MASSiveChem as MC\n",
    "\n",
    "x_in = [335.092, 335.086, 333.71807812500003, 334.09]\n",
    "y_in = [0.14507698506191508, 0.006055133670000204, 0.8310629277992183, 0.006245168595575361]\n",
    "has_N = False\n",
    "has_S = True\n",
    "count_N = 0\n",
    "count_S = 1\n",
    "\n",
    "output = MC.sulphur_nitrogen_adder(x_in, y_in, has_N, has_S, count_N, count_S)\n",
    "\n",
    "print(output)"
   ]
  },
  {
   "cell_type": "markdown",
   "metadata": {},
   "source": [
    "## peak_sorter(x_in, y_in)\n",
    "\n",
    "This function takes the two lists outputted by the previous function, and sorts them in order for the values in x_in to be increasing, whilst keeping the elements in y_in associated to the correct x_in values."
   ]
  },
  {
   "cell_type": "code",
   "execution_count": 70,
   "metadata": {},
   "outputs": [
    {
     "name": "stdout",
     "output_type": "stream",
     "text": [
      "([333.71807812500003, 334.09, 335.082, 335.086, 335.092], [0.8310629277992183, 0.006245168595575361, 0.006245168595575361, 0.006055133670000204, 0.14507698506191508])\n"
     ]
    }
   ],
   "source": [
    "import MASSiveChem.MASSiveChem as MC\n",
    "\n",
    "x_in = [335.092, 335.086, 333.71807812500003, 334.09, 335.082]\n",
    "y_in = [0.14507698506191508, 0.006055133670000204, 0.8310629277992183, 0.006245168595575361, 0.006245168595575361]\n",
    "\n",
    "output = MC.peak_sorter(x_in, y_in)\n",
    "\n",
    "print(output)"
   ]
  },
  {
   "cell_type": "markdown",
   "metadata": {},
   "source": [
    "## delta_function_plotter(x_in, y_in)\n",
    "\n",
    "This function takes the two lists from the previous function, and then adds values of 0 on the x axis around each point, in effect causing the points to form a Dirac delta function when plotted with a simple line connecting the points."
   ]
  },
  {
   "cell_type": "code",
   "execution_count": 71,
   "metadata": {},
   "outputs": [
    {
     "name": "stdout",
     "output_type": "stream",
     "text": [
      "([333.21807812500003, 333.71807812500003, 333.71807812500003, 333.71807812500003, 334.09, 334.09, 334.09, 335.082, 335.082, 335.082, 335.086, 335.086, 335.086, 335.092, 335.092, 335.092, 336.092], [0, 0, 0.8310629277992183, 0, 0, 0.006245168595575361, 0, 0, 0.006245168595575361, 0, 0, 0.006055133670000204, 0, 0, 0.14507698506191508, 0, 0])\n"
     ]
    }
   ],
   "source": [
    "import MASSiveChem.MASSiveChem as MC\n",
    "\n",
    "x_in = [333.71807812500003, 334.09, 335.082, 335.086, 335.092]\n",
    "y_in = [0.8310629277992183, 0.006245168595575361, 0.006245168595575361, 0.006055133670000204, 0.14507698506191508]\n",
    "\n",
    "output = MC.delta_function_plotter(x_in, y_in)\n",
    "\n",
    "print(output)"
   ]
  },
  {
   "cell_type": "markdown",
   "metadata": {},
   "source": [
    "We tried different techniques and mathematical models to plot the spectrum such as gaussian or lorentzian. However, they were always to broad to be able to see the small peaks and therefore to plot an accurate graph. Hence, we chose to use a dirac delta function to plot the intensities and to have no variance which in a real mass spectrometry experiment wouldn't be the case."
   ]
  },
  {
   "cell_type": "markdown",
   "metadata": {},
   "source": [
    "## double_plot(x_in,y_in)\n",
    "\n",
    "This function takes as an input the list of the masses (x_in) and the list of their intensities (y_in) and plot them on a bokeh interface. The graph is interactive to be able to zoom on peaks."
   ]
  },
  {
   "cell_type": "code",
   "execution_count": 72,
   "metadata": {},
   "outputs": [
    {
     "data": {
      "text/html": [
       "    <style>\n",
       "        .bk-notebook-logo {\n",
       "            display: block;\n",
       "            width: 20px;\n",
       "            height: 20px;\n",
       "            background-image: url(data:image/png;base64,iVBORw0KGgoAAAANSUhEUgAAABQAAAAUCAYAAACNiR0NAAAABHNCSVQICAgIfAhkiAAAAAlwSFlzAAALEgAACxIB0t1+/AAAABx0RVh0U29mdHdhcmUAQWRvYmUgRmlyZXdvcmtzIENTNui8sowAAAOkSURBVDiNjZRtaJVlGMd/1/08zzln5zjP1LWcU9N0NkN8m2CYjpgQYQXqSs0I84OLIC0hkEKoPtiH3gmKoiJDU7QpLgoLjLIQCpEsNJ1vqUOdO7ppbuec5+V+rj4ctwzd8IIbbi6u+8f1539dt3A78eXC7QizUF7gyV1fD1Yqg4JWz84yffhm0qkFqBogB9rM8tZdtwVsPUhWhGcFJngGeWrPzHm5oaMmkfEg1usvLFyc8jLRqDOMru7AyC8saQr7GG7f5fvDeH7Ej8CM66nIF+8yngt6HWaKh7k49Soy9nXurCi1o3qUbS3zWfrYeQDTB/Qj6kX6Ybhw4B+bOYoLKCC9H3Nu/leUTZ1JdRWkkn2ldcCamzrcf47KKXdAJllSlxAOkRgyHsGC/zRday5Qld9DyoM4/q/rUoy/CXh3jzOu3bHUVZeU+DEn8FInkPBFlu3+nW3Nw0mk6vCDiWg8CeJaxEwuHS3+z5RgY+YBR6V1Z1nxSOfoaPa4LASWxxdNp+VWTk7+4vzaou8v8PN+xo+KY2xsw6une2frhw05CTYOmQvsEhjhWjn0bmXPjpE1+kplmmkP3suftwTubK9Vq22qKmrBhpY4jvd5afdRA3wGjFAgcnTK2s4hY0/GPNIb0nErGMCRxWOOX64Z8RAC4oCXdklmEvcL8o0BfkNK4lUg9HTl+oPlQxdNo3Mg4Nv175e/1LDGzZen30MEjRUtmXSfiTVu1kK8W4txyV6BMKlbgk3lMwYCiusNy9fVfvvwMxv8Ynl6vxoByANLTWplvuj/nF9m2+PDtt1eiHPBr1oIfhCChQMBw6Aw0UulqTKZdfVvfG7VcfIqLG9bcldL/+pdWTLxLUy8Qq38heUIjh4XlzZxzQm19lLFlr8vdQ97rjZVOLf8nclzckbcD4wxXMidpX30sFd37Fv/GtwwhzhxGVAprjbg0gCAEeIgwCZyTV2Z1REEW8O4py0wsjeloKoMr6iCY6dP92H6Vw/oTyICIthibxjm/DfN9lVz8IqtqKYLUXfoKVMVQVVJOElGjrnnUt9T9wbgp8AyYKaGlqingHZU/uG2NTZSVqwHQTWkx9hxjkpWDaCg6Ckj5qebgBVbT3V3NNXMSiWSDdGV3hrtzla7J+duwPOToIg42ChPQOQjspnSlp1V+Gjdged7+8UN5CRAV7a5EdFNwCjEaBR27b3W890TE7g24NAP/mMDXRWrGoFPQI9ls/MWO2dWFAar/xcOIImbbpA3zgAAAABJRU5ErkJggg==);\n",
       "        }\n",
       "    </style>\n",
       "    <div>\n",
       "        <a href=\"https://bokeh.org\" target=\"_blank\" class=\"bk-notebook-logo\"></a>\n",
       "        <span id=\"fb6f45a1-bb42-407d-a1d8-ce401e0d4b6f\">Loading BokehJS ...</span>\n",
       "    </div>\n"
      ]
     },
     "metadata": {},
     "output_type": "display_data"
    },
    {
     "data": {
      "application/javascript": "'use strict';\n(function(root) {\n  function now() {\n    return new Date();\n  }\n\n  const force = true;\n\n  if (typeof root._bokeh_onload_callbacks === \"undefined\" || force === true) {\n    root._bokeh_onload_callbacks = [];\n    root._bokeh_is_loading = undefined;\n  }\n\nconst JS_MIME_TYPE = 'application/javascript';\n  const HTML_MIME_TYPE = 'text/html';\n  const EXEC_MIME_TYPE = 'application/vnd.bokehjs_exec.v0+json';\n  const CLASS_NAME = 'output_bokeh rendered_html';\n\n  /**\n   * Render data to the DOM node\n   */\n  function render(props, node) {\n    const script = document.createElement(\"script\");\n    node.appendChild(script);\n  }\n\n  /**\n   * Handle when an output is cleared or removed\n   */\n  function handleClearOutput(event, handle) {\n    function drop(id) {\n      const view = Bokeh.index.get_by_id(id)\n      if (view != null) {\n        view.model.document.clear()\n        Bokeh.index.delete(view)\n      }\n    }\n\n    const cell = handle.cell;\n\n    const id = cell.output_area._bokeh_element_id;\n    const server_id = cell.output_area._bokeh_server_id;\n\n    // Clean up Bokeh references\n    if (id != null) {\n      drop(id)\n    }\n\n    if (server_id !== undefined) {\n      // Clean up Bokeh references\n      const cmd_clean = \"from bokeh.io.state import curstate; print(curstate().uuid_to_server['\" + server_id + \"'].get_sessions()[0].document.roots[0]._id)\";\n      cell.notebook.kernel.execute(cmd_clean, {\n        iopub: {\n          output: function(msg) {\n            const id = msg.content.text.trim()\n            drop(id)\n          }\n        }\n      });\n      // Destroy server and session\n      const cmd_destroy = \"import bokeh.io.notebook as ion; ion.destroy_server('\" + server_id + \"')\";\n      cell.notebook.kernel.execute(cmd_destroy);\n    }\n  }\n\n  /**\n   * Handle when a new output is added\n   */\n  function handleAddOutput(event, handle) {\n    const output_area = handle.output_area;\n    const output = handle.output;\n\n    // limit handleAddOutput to display_data with EXEC_MIME_TYPE content only\n    if ((output.output_type != \"display_data\") || (!Object.prototype.hasOwnProperty.call(output.data, EXEC_MIME_TYPE))) {\n      return\n    }\n\n    const toinsert = output_area.element.find(\".\" + CLASS_NAME.split(' ')[0]);\n\n    if (output.metadata[EXEC_MIME_TYPE][\"id\"] !== undefined) {\n      toinsert[toinsert.length - 1].firstChild.textContent = output.data[JS_MIME_TYPE];\n      // store reference to embed id on output_area\n      output_area._bokeh_element_id = output.metadata[EXEC_MIME_TYPE][\"id\"];\n    }\n    if (output.metadata[EXEC_MIME_TYPE][\"server_id\"] !== undefined) {\n      const bk_div = document.createElement(\"div\");\n      bk_div.innerHTML = output.data[HTML_MIME_TYPE];\n      const script_attrs = bk_div.children[0].attributes;\n      for (let i = 0; i < script_attrs.length; i++) {\n        toinsert[toinsert.length - 1].firstChild.setAttribute(script_attrs[i].name, script_attrs[i].value);\n        toinsert[toinsert.length - 1].firstChild.textContent = bk_div.children[0].textContent\n      }\n      // store reference to server id on output_area\n      output_area._bokeh_server_id = output.metadata[EXEC_MIME_TYPE][\"server_id\"];\n    }\n  }\n\n  function register_renderer(events, OutputArea) {\n\n    function append_mime(data, metadata, element) {\n      // create a DOM node to render to\n      const toinsert = this.create_output_subarea(\n        metadata,\n        CLASS_NAME,\n        EXEC_MIME_TYPE\n      );\n      this.keyboard_manager.register_events(toinsert);\n      // Render to node\n      const props = {data: data, metadata: metadata[EXEC_MIME_TYPE]};\n      render(props, toinsert[toinsert.length - 1]);\n      element.append(toinsert);\n      return toinsert\n    }\n\n    /* Handle when an output is cleared or removed */\n    events.on('clear_output.CodeCell', handleClearOutput);\n    events.on('delete.Cell', handleClearOutput);\n\n    /* Handle when a new output is added */\n    events.on('output_added.OutputArea', handleAddOutput);\n\n    /**\n     * Register the mime type and append_mime function with output_area\n     */\n    OutputArea.prototype.register_mime_type(EXEC_MIME_TYPE, append_mime, {\n      /* Is output safe? */\n      safe: true,\n      /* Index of renderer in `output_area.display_order` */\n      index: 0\n    });\n  }\n\n  // register the mime type if in Jupyter Notebook environment and previously unregistered\n  if (root.Jupyter !== undefined) {\n    const events = require('base/js/events');\n    const OutputArea = require('notebook/js/outputarea').OutputArea;\n\n    if (OutputArea.prototype.mime_types().indexOf(EXEC_MIME_TYPE) == -1) {\n      register_renderer(events, OutputArea);\n    }\n  }\n  if (typeof (root._bokeh_timeout) === \"undefined\" || force === true) {\n    root._bokeh_timeout = Date.now() + 5000;\n    root._bokeh_failed_load = false;\n  }\n\n  const NB_LOAD_WARNING = {'data': {'text/html':\n     \"<div style='background-color: #fdd'>\\n\"+\n     \"<p>\\n\"+\n     \"BokehJS does not appear to have successfully loaded. If loading BokehJS from CDN, this \\n\"+\n     \"may be due to a slow or bad network connection. Possible fixes:\\n\"+\n     \"</p>\\n\"+\n     \"<ul>\\n\"+\n     \"<li>re-rerun `output_notebook()` to attempt to load from CDN again, or</li>\\n\"+\n     \"<li>use INLINE resources instead, as so:</li>\\n\"+\n     \"</ul>\\n\"+\n     \"<code>\\n\"+\n     \"from bokeh.resources import INLINE\\n\"+\n     \"output_notebook(resources=INLINE)\\n\"+\n     \"</code>\\n\"+\n     \"</div>\"}};\n\n  function display_loaded(error = null) {\n    const el = document.getElementById(\"fb6f45a1-bb42-407d-a1d8-ce401e0d4b6f\");\n    if (el != null) {\n      const html = (() => {\n        if (typeof root.Bokeh === \"undefined\") {\n          if (error == null) {\n            return \"BokehJS is loading ...\";\n          } else {\n            return \"BokehJS failed to load.\";\n          }\n        } else {\n          const prefix = `BokehJS ${root.Bokeh.version}`;\n          if (error == null) {\n            return `${prefix} successfully loaded.`;\n          } else {\n            return `${prefix} <b>encountered errors</b> while loading and may not function as expected.`;\n          }\n        }\n      })();\n      el.innerHTML = html;\n\n      if (error != null) {\n        const wrapper = document.createElement(\"div\");\n        wrapper.style.overflow = \"auto\";\n        wrapper.style.height = \"5em\";\n        wrapper.style.resize = \"vertical\";\n        const content = document.createElement(\"div\");\n        content.style.fontFamily = \"monospace\";\n        content.style.whiteSpace = \"pre-wrap\";\n        content.style.backgroundColor = \"rgb(255, 221, 221)\";\n        content.textContent = error.stack ?? error.toString();\n        wrapper.append(content);\n        el.append(wrapper);\n      }\n    } else if (Date.now() < root._bokeh_timeout) {\n      setTimeout(() => display_loaded(error), 100);\n    }\n  }\n\n  function run_callbacks() {\n    try {\n      root._bokeh_onload_callbacks.forEach(function(callback) {\n        if (callback != null)\n          callback();\n      });\n    } finally {\n      delete root._bokeh_onload_callbacks\n    }\n    console.debug(\"Bokeh: all callbacks have finished\");\n  }\n\n  function load_libs(css_urls, js_urls, callback) {\n    if (css_urls == null) css_urls = [];\n    if (js_urls == null) js_urls = [];\n\n    root._bokeh_onload_callbacks.push(callback);\n    if (root._bokeh_is_loading > 0) {\n      console.debug(\"Bokeh: BokehJS is being loaded, scheduling callback at\", now());\n      return null;\n    }\n    if (js_urls == null || js_urls.length === 0) {\n      run_callbacks();\n      return null;\n    }\n    console.debug(\"Bokeh: BokehJS not loaded, scheduling load and callback at\", now());\n    root._bokeh_is_loading = css_urls.length + js_urls.length;\n\n    function on_load() {\n      root._bokeh_is_loading--;\n      if (root._bokeh_is_loading === 0) {\n        console.debug(\"Bokeh: all BokehJS libraries/stylesheets loaded\");\n        run_callbacks()\n      }\n    }\n\n    function on_error(url) {\n      console.error(\"failed to load \" + url);\n    }\n\n    for (let i = 0; i < css_urls.length; i++) {\n      const url = css_urls[i];\n      const element = document.createElement(\"link\");\n      element.onload = on_load;\n      element.onerror = on_error.bind(null, url);\n      element.rel = \"stylesheet\";\n      element.type = \"text/css\";\n      element.href = url;\n      console.debug(\"Bokeh: injecting link tag for BokehJS stylesheet: \", url);\n      document.body.appendChild(element);\n    }\n\n    for (let i = 0; i < js_urls.length; i++) {\n      const url = js_urls[i];\n      const element = document.createElement('script');\n      element.onload = on_load;\n      element.onerror = on_error.bind(null, url);\n      element.async = false;\n      element.src = url;\n      console.debug(\"Bokeh: injecting script tag for BokehJS library: \", url);\n      document.head.appendChild(element);\n    }\n  };\n\n  function inject_raw_css(css) {\n    const element = document.createElement(\"style\");\n    element.appendChild(document.createTextNode(css));\n    document.body.appendChild(element);\n  }\n\n  const js_urls = [\"static/extensions/panel/bundled/jquery/jquery.slim.min.js\", \"static/extensions/panel/bundled/plotlyplot/plotly-2.31.1.min.js\", \"https://cdn.bokeh.org/bokeh/release/bokeh-3.4.1.min.js\", \"https://cdn.bokeh.org/bokeh/release/bokeh-gl-3.4.1.min.js\", \"https://cdn.bokeh.org/bokeh/release/bokeh-widgets-3.4.1.min.js\", \"https://cdn.bokeh.org/bokeh/release/bokeh-tables-3.4.1.min.js\", \"https://cdn.bokeh.org/bokeh/release/bokeh-mathjax-3.4.1.min.js\", \"https://unpkg.com/@holoviz/panel@1.4.2/dist/panel.min.js\"];\n  const css_urls = [];\n\n  const inline_js = [    function(Bokeh) {\n      Bokeh.set_log_level(\"info\");\n    },\nfunction(Bokeh) {\n    }\n  ];\n\n  function run_inline_js() {\n    if (root.Bokeh !== undefined || force === true) {\n      try {\n            for (let i = 0; i < inline_js.length; i++) {\n      inline_js[i].call(root, root.Bokeh);\n    }\n\n      } catch (error) {display_loaded(error);throw error;\n      }if (force === true) {\n        display_loaded();\n      }} else if (Date.now() < root._bokeh_timeout) {\n      setTimeout(run_inline_js, 100);\n    } else if (!root._bokeh_failed_load) {\n      console.log(\"Bokeh: BokehJS failed to load within specified timeout.\");\n      root._bokeh_failed_load = true;\n    } else if (force !== true) {\n      const cell = $(document.getElementById(\"fb6f45a1-bb42-407d-a1d8-ce401e0d4b6f\")).parents('.cell').data().cell;\n      cell.output_area.append_execute_result(NB_LOAD_WARNING)\n    }\n  }\n\n  if (root._bokeh_is_loading === 0) {\n    console.debug(\"Bokeh: BokehJS loaded, going straight to plotting\");\n    run_inline_js();\n  } else {\n    load_libs(css_urls, js_urls, function() {\n      console.debug(\"Bokeh: BokehJS plotting callback run at\", now());\n      run_inline_js();\n    });\n  }\n}(window));",
      "application/vnd.bokehjs_load.v0+json": ""
     },
     "metadata": {},
     "output_type": "display_data"
    },
    {
     "name": "stdout",
     "output_type": "stream",
     "text": [
      "here\n"
     ]
    },
    {
     "data": {
      "text/html": [
       "\n",
       "  <div id=\"f4670685-c885-4e6a-931d-410976d01e8b\" data-root-id=\"p8471\" style=\"display: contents;\"></div>\n"
      ]
     },
     "metadata": {},
     "output_type": "display_data"
    },
    {
     "data": {
      "application/javascript": "(function(root) {\n  function embed_document(root) {\n  const docs_json = {\"b22be195-aeab-4624-942c-a95a8df3f9eb\":{\"version\":\"3.4.1\",\"title\":\"Bokeh Application\",\"roots\":[{\"type\":\"object\",\"name\":\"Column\",\"id\":\"p8471\",\"attributes\":{\"children\":[{\"type\":\"object\",\"name\":\"Figure\",\"id\":\"p8311\",\"attributes\":{\"height\":500,\"x_range\":{\"type\":\"object\",\"name\":\"DataRange1d\",\"id\":\"p8312\",\"attributes\":{\"js_property_callbacks\":{\"type\":\"map\",\"entries\":[[\"change:start\",[{\"type\":\"object\",\"name\":\"CustomJS\",\"id\":\"p8469\",\"attributes\":{\"args\":{\"type\":\"map\",\"entries\":[[\"box\",{\"type\":\"object\",\"name\":\"BoxAnnotation\",\"id\":\"p8464\",\"attributes\":{\"left\":0,\"right\":0,\"top\":0,\"bottom\":0,\"line_color\":\"red\",\"fill_color\":\"cornflowerblue\",\"fill_alpha\":0.1}}]]},\"code\":\"\\n        box['left'] = cb_obj.start\\n        box['right'] = cb_obj.end\\n    \"}}]],[\"change:end\",[{\"id\":\"p8469\"}]]]}}},\"y_range\":{\"type\":\"object\",\"name\":\"DataRange1d\",\"id\":\"p8313\",\"attributes\":{\"js_property_callbacks\":{\"type\":\"map\",\"entries\":[[\"change:start\",[{\"type\":\"object\",\"name\":\"CustomJS\",\"id\":\"p8470\",\"attributes\":{\"args\":{\"type\":\"map\",\"entries\":[[\"box\",{\"id\":\"p8464\"}]]},\"code\":\"\\n        box['bottom'] = cb_obj.start\\n        box['top'] = cb_obj.end\\n    \"}}]],[\"change:end\",[{\"id\":\"p8470\"}]]]}}},\"x_scale\":{\"type\":\"object\",\"name\":\"LinearScale\",\"id\":\"p8320\"},\"y_scale\":{\"type\":\"object\",\"name\":\"LinearScale\",\"id\":\"p8321\"},\"title\":{\"type\":\"object\",\"name\":\"Title\",\"id\":\"p8318\"},\"renderers\":[{\"type\":\"object\",\"name\":\"GlyphRenderer\",\"id\":\"p8352\",\"attributes\":{\"data_source\":{\"type\":\"object\",\"name\":\"ColumnDataSource\",\"id\":\"p8346\",\"attributes\":{\"selected\":{\"type\":\"object\",\"name\":\"Selection\",\"id\":\"p8347\",\"attributes\":{\"indices\":[],\"line_indices\":[]}},\"selection_policy\":{\"type\":\"object\",\"name\":\"UnionRenderers\",\"id\":\"p8348\"},\"data\":{\"type\":\"map\",\"entries\":[[\"x\",[333.21807812500003,333.71807812500003,333.71807812500003,333.71807812500003,334.09,334.09,334.09,335.082,335.082,335.082,335.086,335.086,335.086,335.092,335.092,335.092,336.092]],[\"y\",[0,0,0.8310629277992183,0,0,0.006245168595575361,0,0,0.006245168595575361,0,0,0.006055133670000204,0,0,0.14507698506191508,0,0]]]}}},\"view\":{\"type\":\"object\",\"name\":\"CDSView\",\"id\":\"p8353\",\"attributes\":{\"filter\":{\"type\":\"object\",\"name\":\"AllIndices\",\"id\":\"p8354\"}}},\"glyph\":{\"type\":\"object\",\"name\":\"Line\",\"id\":\"p8349\",\"attributes\":{\"x\":{\"type\":\"field\",\"field\":\"x\"},\"y\":{\"type\":\"field\",\"field\":\"y\"},\"line_color\":\"#1f77b4\"}},\"nonselection_glyph\":{\"type\":\"object\",\"name\":\"Line\",\"id\":\"p8350\",\"attributes\":{\"x\":{\"type\":\"field\",\"field\":\"x\"},\"y\":{\"type\":\"field\",\"field\":\"y\"},\"line_color\":\"#1f77b4\",\"line_alpha\":0.1}},\"muted_glyph\":{\"type\":\"object\",\"name\":\"Line\",\"id\":\"p8351\",\"attributes\":{\"x\":{\"type\":\"field\",\"field\":\"x\"},\"y\":{\"type\":\"field\",\"field\":\"y\"},\"line_color\":\"#1f77b4\",\"line_alpha\":0.2}}}}],\"toolbar\":{\"type\":\"object\",\"name\":\"Toolbar\",\"id\":\"p8319\",\"attributes\":{\"tools\":[{\"type\":\"object\",\"name\":\"PanTool\",\"id\":\"p8332\"},{\"type\":\"object\",\"name\":\"WheelZoomTool\",\"id\":\"p8333\",\"attributes\":{\"renderers\":\"auto\"}},{\"type\":\"object\",\"name\":\"BoxZoomTool\",\"id\":\"p8334\",\"attributes\":{\"overlay\":{\"type\":\"object\",\"name\":\"BoxAnnotation\",\"id\":\"p8335\",\"attributes\":{\"syncable\":false,\"level\":\"overlay\",\"visible\":false,\"left\":{\"type\":\"number\",\"value\":\"nan\"},\"right\":{\"type\":\"number\",\"value\":\"nan\"},\"top\":{\"type\":\"number\",\"value\":\"nan\"},\"bottom\":{\"type\":\"number\",\"value\":\"nan\"},\"left_units\":\"canvas\",\"right_units\":\"canvas\",\"top_units\":\"canvas\",\"bottom_units\":\"canvas\",\"line_color\":\"black\",\"line_alpha\":1.0,\"line_width\":2,\"line_dash\":[4,4],\"fill_color\":\"lightgrey\",\"fill_alpha\":0.5}}}},{\"type\":\"object\",\"name\":\"SaveTool\",\"id\":\"p8340\"},{\"type\":\"object\",\"name\":\"ResetTool\",\"id\":\"p8341\"},{\"type\":\"object\",\"name\":\"HelpTool\",\"id\":\"p8342\"},{\"type\":\"object\",\"name\":\"WheelPanTool\",\"id\":\"p8344\",\"attributes\":{\"dimension\":\"height\"}},{\"type\":\"object\",\"name\":\"WheelZoomTool\",\"id\":\"p8345\",\"attributes\":{\"dimensions\":\"height\",\"renderers\":\"auto\"}}]}},\"left\":[{\"type\":\"object\",\"name\":\"LinearAxis\",\"id\":\"p8327\",\"attributes\":{\"ticker\":{\"type\":\"object\",\"name\":\"BasicTicker\",\"id\":\"p8328\",\"attributes\":{\"mantissas\":[1,2,5]}},\"formatter\":{\"type\":\"object\",\"name\":\"BasicTickFormatter\",\"id\":\"p8329\"},\"axis_label\":\"Abundance\",\"major_label_policy\":{\"type\":\"object\",\"name\":\"AllLabels\",\"id\":\"p8330\"}}}],\"below\":[{\"type\":\"object\",\"name\":\"LinearAxis\",\"id\":\"p8322\",\"attributes\":{\"ticker\":{\"type\":\"object\",\"name\":\"FixedTicker\",\"id\":\"p8343\",\"attributes\":{\"ticks\":[333.71807812500003,334.09,335.082,335.086,335.092],\"minor_ticks\":[]}},\"formatter\":{\"type\":\"object\",\"name\":\"BasicTickFormatter\",\"id\":\"p8324\"},\"axis_label\":\"[m/z]\",\"major_label_policy\":{\"type\":\"object\",\"name\":\"AllLabels\",\"id\":\"p8325\"}}}],\"center\":[{\"type\":\"object\",\"name\":\"Grid\",\"id\":\"p8326\",\"attributes\":{\"axis\":{\"id\":\"p8322\"}}},{\"type\":\"object\",\"name\":\"Grid\",\"id\":\"p8331\",\"attributes\":{\"dimension\":1,\"axis\":{\"id\":\"p8327\"}}}]}},{\"type\":\"object\",\"name\":\"Figure\",\"id\":\"p8421\",\"attributes\":{\"height\":300,\"x_range\":{\"type\":\"object\",\"name\":\"DataRange1d\",\"id\":\"p8422\"},\"y_range\":{\"type\":\"object\",\"name\":\"DataRange1d\",\"id\":\"p8423\"},\"x_scale\":{\"type\":\"object\",\"name\":\"LinearScale\",\"id\":\"p8430\"},\"y_scale\":{\"type\":\"object\",\"name\":\"LinearScale\",\"id\":\"p8431\"},\"title\":{\"type\":\"object\",\"name\":\"Title\",\"id\":\"p8428\"},\"renderers\":[{\"type\":\"object\",\"name\":\"GlyphRenderer\",\"id\":\"p8459\",\"attributes\":{\"data_source\":{\"type\":\"object\",\"name\":\"ColumnDataSource\",\"id\":\"p8453\",\"attributes\":{\"selected\":{\"type\":\"object\",\"name\":\"Selection\",\"id\":\"p8454\",\"attributes\":{\"indices\":[],\"line_indices\":[]}},\"selection_policy\":{\"type\":\"object\",\"name\":\"UnionRenderers\",\"id\":\"p8455\"},\"data\":{\"type\":\"map\",\"entries\":[[\"x\",[333.21807812500003,333.71807812500003,333.71807812500003,333.71807812500003,334.09,334.09,334.09,335.082,335.082,335.082,335.086,335.086,335.086,335.092,335.092,335.092,336.092]],[\"y\",[0,0,0.8310629277992183,0,0,0.006245168595575361,0,0,0.006245168595575361,0,0,0.006055133670000204,0,0,0.14507698506191508,0,0]]]}}},\"view\":{\"type\":\"object\",\"name\":\"CDSView\",\"id\":\"p8460\",\"attributes\":{\"filter\":{\"type\":\"object\",\"name\":\"AllIndices\",\"id\":\"p8461\"}}},\"glyph\":{\"type\":\"object\",\"name\":\"Line\",\"id\":\"p8456\",\"attributes\":{\"x\":{\"type\":\"field\",\"field\":\"x\"},\"y\":{\"type\":\"field\",\"field\":\"y\"},\"line_color\":\"#1f77b4\"}},\"nonselection_glyph\":{\"type\":\"object\",\"name\":\"Line\",\"id\":\"p8457\",\"attributes\":{\"x\":{\"type\":\"field\",\"field\":\"x\"},\"y\":{\"type\":\"field\",\"field\":\"y\"},\"line_color\":\"#1f77b4\",\"line_alpha\":0.1}},\"muted_glyph\":{\"type\":\"object\",\"name\":\"Line\",\"id\":\"p8458\",\"attributes\":{\"x\":{\"type\":\"field\",\"field\":\"x\"},\"y\":{\"type\":\"field\",\"field\":\"y\"},\"line_color\":\"#1f77b4\",\"line_alpha\":0.2}}}}],\"toolbar\":{\"type\":\"object\",\"name\":\"Toolbar\",\"id\":\"p8429\",\"attributes\":{\"tools\":[{\"type\":\"object\",\"name\":\"PanTool\",\"id\":\"p8442\"},{\"type\":\"object\",\"name\":\"WheelZoomTool\",\"id\":\"p8443\",\"attributes\":{\"renderers\":\"auto\"}},{\"type\":\"object\",\"name\":\"BoxZoomTool\",\"id\":\"p8444\",\"attributes\":{\"overlay\":{\"type\":\"object\",\"name\":\"BoxAnnotation\",\"id\":\"p8445\",\"attributes\":{\"syncable\":false,\"level\":\"overlay\",\"visible\":false,\"left\":{\"type\":\"number\",\"value\":\"nan\"},\"right\":{\"type\":\"number\",\"value\":\"nan\"},\"top\":{\"type\":\"number\",\"value\":\"nan\"},\"bottom\":{\"type\":\"number\",\"value\":\"nan\"},\"left_units\":\"canvas\",\"right_units\":\"canvas\",\"top_units\":\"canvas\",\"bottom_units\":\"canvas\",\"line_color\":\"black\",\"line_alpha\":1.0,\"line_width\":2,\"line_dash\":[4,4],\"fill_color\":\"lightgrey\",\"fill_alpha\":0.5}}}},{\"type\":\"object\",\"name\":\"SaveTool\",\"id\":\"p8450\"},{\"type\":\"object\",\"name\":\"ResetTool\",\"id\":\"p8451\"},{\"type\":\"object\",\"name\":\"HelpTool\",\"id\":\"p8452\"}]}},\"toolbar_location\":null,\"left\":[{\"type\":\"object\",\"name\":\"LinearAxis\",\"id\":\"p8437\",\"attributes\":{\"ticker\":{\"type\":\"object\",\"name\":\"BasicTicker\",\"id\":\"p8438\",\"attributes\":{\"mantissas\":[1,2,5]}},\"formatter\":{\"type\":\"object\",\"name\":\"BasicTickFormatter\",\"id\":\"p8439\"},\"major_label_policy\":{\"type\":\"object\",\"name\":\"AllLabels\",\"id\":\"p8440\"}}}],\"below\":[{\"type\":\"object\",\"name\":\"LinearAxis\",\"id\":\"p8432\",\"attributes\":{\"ticker\":{\"type\":\"object\",\"name\":\"BasicTicker\",\"id\":\"p8433\",\"attributes\":{\"mantissas\":[1,2,5]}},\"formatter\":{\"type\":\"object\",\"name\":\"BasicTickFormatter\",\"id\":\"p8434\"},\"major_label_policy\":{\"type\":\"object\",\"name\":\"AllLabels\",\"id\":\"p8435\"}}}],\"center\":[{\"type\":\"object\",\"name\":\"Grid\",\"id\":\"p8436\",\"attributes\":{\"axis\":{\"id\":\"p8432\"}}},{\"type\":\"object\",\"name\":\"Grid\",\"id\":\"p8441\",\"attributes\":{\"dimension\":1,\"axis\":{\"id\":\"p8437\"}}},{\"type\":\"object\",\"name\":\"Legend\",\"id\":\"p8462\",\"attributes\":{\"items\":[{\"type\":\"object\",\"name\":\"LegendItem\",\"id\":\"p8463\",\"attributes\":{\"label\":{\"type\":\"value\",\"value\":\"Mass spectrum\"},\"renderers\":[{\"id\":\"p8459\"}]}}]}},{\"id\":\"p8464\"}]}}]}}],\"defs\":[{\"type\":\"model\",\"name\":\"ReactiveHTML1\"},{\"type\":\"model\",\"name\":\"FlexBox1\",\"properties\":[{\"name\":\"align_content\",\"kind\":\"Any\",\"default\":\"flex-start\"},{\"name\":\"align_items\",\"kind\":\"Any\",\"default\":\"flex-start\"},{\"name\":\"flex_direction\",\"kind\":\"Any\",\"default\":\"row\"},{\"name\":\"flex_wrap\",\"kind\":\"Any\",\"default\":\"wrap\"},{\"name\":\"gap\",\"kind\":\"Any\",\"default\":\"\"},{\"name\":\"justify_content\",\"kind\":\"Any\",\"default\":\"flex-start\"}]},{\"type\":\"model\",\"name\":\"FloatPanel1\",\"properties\":[{\"name\":\"config\",\"kind\":\"Any\",\"default\":{\"type\":\"map\"}},{\"name\":\"contained\",\"kind\":\"Any\",\"default\":true},{\"name\":\"position\",\"kind\":\"Any\",\"default\":\"right-top\"},{\"name\":\"offsetx\",\"kind\":\"Any\",\"default\":null},{\"name\":\"offsety\",\"kind\":\"Any\",\"default\":null},{\"name\":\"theme\",\"kind\":\"Any\",\"default\":\"primary\"},{\"name\":\"status\",\"kind\":\"Any\",\"default\":\"normalized\"}]},{\"type\":\"model\",\"name\":\"GridStack1\",\"properties\":[{\"name\":\"mode\",\"kind\":\"Any\",\"default\":\"warn\"},{\"name\":\"ncols\",\"kind\":\"Any\",\"default\":null},{\"name\":\"nrows\",\"kind\":\"Any\",\"default\":null},{\"name\":\"allow_resize\",\"kind\":\"Any\",\"default\":true},{\"name\":\"allow_drag\",\"kind\":\"Any\",\"default\":true},{\"name\":\"state\",\"kind\":\"Any\",\"default\":[]}]},{\"type\":\"model\",\"name\":\"drag1\",\"properties\":[{\"name\":\"slider_width\",\"kind\":\"Any\",\"default\":5},{\"name\":\"slider_color\",\"kind\":\"Any\",\"default\":\"black\"},{\"name\":\"value\",\"kind\":\"Any\",\"default\":50}]},{\"type\":\"model\",\"name\":\"click1\",\"properties\":[{\"name\":\"terminal_output\",\"kind\":\"Any\",\"default\":\"\"},{\"name\":\"debug_name\",\"kind\":\"Any\",\"default\":\"\"},{\"name\":\"clears\",\"kind\":\"Any\",\"default\":0}]},{\"type\":\"model\",\"name\":\"FastWrapper1\",\"properties\":[{\"name\":\"object\",\"kind\":\"Any\",\"default\":null},{\"name\":\"style\",\"kind\":\"Any\",\"default\":null}]},{\"type\":\"model\",\"name\":\"NotificationAreaBase1\",\"properties\":[{\"name\":\"js_events\",\"kind\":\"Any\",\"default\":{\"type\":\"map\"}},{\"name\":\"position\",\"kind\":\"Any\",\"default\":\"bottom-right\"},{\"name\":\"_clear\",\"kind\":\"Any\",\"default\":0}]},{\"type\":\"model\",\"name\":\"NotificationArea1\",\"properties\":[{\"name\":\"js_events\",\"kind\":\"Any\",\"default\":{\"type\":\"map\"}},{\"name\":\"notifications\",\"kind\":\"Any\",\"default\":[]},{\"name\":\"position\",\"kind\":\"Any\",\"default\":\"bottom-right\"},{\"name\":\"_clear\",\"kind\":\"Any\",\"default\":0},{\"name\":\"types\",\"kind\":\"Any\",\"default\":[{\"type\":\"map\",\"entries\":[[\"type\",\"warning\"],[\"background\",\"#ffc107\"],[\"icon\",{\"type\":\"map\",\"entries\":[[\"className\",\"fas fa-exclamation-triangle\"],[\"tagName\",\"i\"],[\"color\",\"white\"]]}]]},{\"type\":\"map\",\"entries\":[[\"type\",\"info\"],[\"background\",\"#007bff\"],[\"icon\",{\"type\":\"map\",\"entries\":[[\"className\",\"fas fa-info-circle\"],[\"tagName\",\"i\"],[\"color\",\"white\"]]}]]}]}]},{\"type\":\"model\",\"name\":\"Notification\",\"properties\":[{\"name\":\"background\",\"kind\":\"Any\",\"default\":null},{\"name\":\"duration\",\"kind\":\"Any\",\"default\":3000},{\"name\":\"icon\",\"kind\":\"Any\",\"default\":null},{\"name\":\"message\",\"kind\":\"Any\",\"default\":\"\"},{\"name\":\"notification_type\",\"kind\":\"Any\",\"default\":null},{\"name\":\"_destroyed\",\"kind\":\"Any\",\"default\":false}]},{\"type\":\"model\",\"name\":\"TemplateActions1\",\"properties\":[{\"name\":\"open_modal\",\"kind\":\"Any\",\"default\":0},{\"name\":\"close_modal\",\"kind\":\"Any\",\"default\":0}]},{\"type\":\"model\",\"name\":\"BootstrapTemplateActions1\",\"properties\":[{\"name\":\"open_modal\",\"kind\":\"Any\",\"default\":0},{\"name\":\"close_modal\",\"kind\":\"Any\",\"default\":0}]},{\"type\":\"model\",\"name\":\"TemplateEditor1\",\"properties\":[{\"name\":\"layout\",\"kind\":\"Any\",\"default\":[]}]},{\"type\":\"model\",\"name\":\"MaterialTemplateActions1\",\"properties\":[{\"name\":\"open_modal\",\"kind\":\"Any\",\"default\":0},{\"name\":\"close_modal\",\"kind\":\"Any\",\"default\":0}]},{\"type\":\"model\",\"name\":\"copy_to_clipboard1\",\"properties\":[{\"name\":\"fill\",\"kind\":\"Any\",\"default\":\"none\"},{\"name\":\"value\",\"kind\":\"Any\",\"default\":null}]}]}};\n  const render_items = [{\"docid\":\"b22be195-aeab-4624-942c-a95a8df3f9eb\",\"roots\":{\"p8471\":\"f4670685-c885-4e6a-931d-410976d01e8b\"},\"root_ids\":[\"p8471\"]}];\n  void root.Bokeh.embed.embed_items_notebook(docs_json, render_items);\n  }\n  if (root.Bokeh !== undefined) {\n    embed_document(root);\n  } else {\n    let attempts = 0;\n    const timer = setInterval(function(root) {\n      if (root.Bokeh !== undefined) {\n        clearInterval(timer);\n        embed_document(root);\n      } else {\n        attempts++;\n        if (attempts > 100) {\n          clearInterval(timer);\n          console.log(\"Bokeh: ERROR: Unable to run BokehJS code because BokehJS library is missing\");\n        }\n      }\n    }, 10, root)\n  }\n})(window);",
      "application/vnd.bokehjs_exec.v0+json": ""
     },
     "metadata": {
      "application/vnd.bokehjs_exec.v0+json": {
       "id": "p8471"
      }
     },
     "output_type": "display_data"
    }
   ],
   "source": [
    "import MASSiveChem.MASSiveChem as MC\n",
    "from bokeh.plotting import output_notebook, show\n",
    "\n",
    "output_notebook() #not necessary if you want to plot the image outside the outbook\n",
    "\n",
    "x_in = [333.21807812500003, 333.71807812500003, 333.71807812500003, 333.71807812500003, 334.09, 334.09, 334.09, 335.082, 335.082, 335.082, 335.086, 335.086, 335.086, 335.092, 335.092, 335.092, 336.092]\n",
    "y_in = [0, 0, 0.8310629277992183, 0, 0, 0.006245168595575361, 0, 0, 0.006245168595575361, 0, 0, 0.006055133670000204, 0, 0, 0.14507698506191508, 0, 0]\n",
    "\n",
    "output = MC.double_plot(x_in,y_in)\n",
    "\n",
    "show(output)"
   ]
  },
  {
   "cell_type": "markdown",
   "metadata": {},
   "source": [
    "On this plot, some graduations are overlapping which is due to the presence of sulphur in the molecule"
   ]
  },
  {
   "cell_type": "markdown",
   "metadata": {},
   "source": [
    "## functional_group_finder(mol_smi)\n",
    "This function takes in the smiles of a given molecule, and outputs a list of all of the contained functional groups (the list contains the names of the functional groups)\n",
    "\n",
    "This function still has some errors despite having a lot of conditions to avoid them. To predict the functional groups accurately, one would have to test every possible combination of functional groups and write condition for every error which is not productive. The best way to solve this problem would have been to use machine learning"
   ]
  },
  {
   "cell_type": "code",
   "execution_count": 73,
   "metadata": {},
   "outputs": [
    {
     "name": "stdout",
     "output_type": "stream",
     "text": [
      "['Carboxylic Acid', 'Amide', 'Amide', 'Amine', 'Sulfide', 'Benzene']\n"
     ]
    }
   ],
   "source": [
    "import MASSiveChem.MASSiveChem as MC\n",
    "\n",
    "mol_smi = 'CC1(C(N2C(S1)C(C2=O)NC(=O)CC3=CC=CC=C3)C(=O)O)C'\n",
    "\n",
    "output = MC.functional_group_finder(mol_smi)\n",
    "\n",
    "print(output)"
   ]
  },
  {
   "cell_type": "markdown",
   "metadata": {},
   "source": [
    "## functional_group_display(contained_functional_groups)\n",
    "\n",
    "This function takes as an input the list of the contained functional groups of the molecule and plots a table of the functional groups in a bokeh interface\n",
    "\n",
    "For this function to run correctly, please only use the list of functional groups obtained by the previous function as the name of the functional groups are encrypted in a precise way and not all existing functional groups are present."
   ]
  },
  {
   "cell_type": "code",
   "execution_count": 74,
   "metadata": {},
   "outputs": [
    {
     "data": {
      "text/html": [
       "    <style>\n",
       "        .bk-notebook-logo {\n",
       "            display: block;\n",
       "            width: 20px;\n",
       "            height: 20px;\n",
       "            background-image: url(data:image/png;base64,iVBORw0KGgoAAAANSUhEUgAAABQAAAAUCAYAAACNiR0NAAAABHNCSVQICAgIfAhkiAAAAAlwSFlzAAALEgAACxIB0t1+/AAAABx0RVh0U29mdHdhcmUAQWRvYmUgRmlyZXdvcmtzIENTNui8sowAAAOkSURBVDiNjZRtaJVlGMd/1/08zzln5zjP1LWcU9N0NkN8m2CYjpgQYQXqSs0I84OLIC0hkEKoPtiH3gmKoiJDU7QpLgoLjLIQCpEsNJ1vqUOdO7ppbuec5+V+rj4ctwzd8IIbbi6u+8f1539dt3A78eXC7QizUF7gyV1fD1Yqg4JWz84yffhm0qkFqBogB9rM8tZdtwVsPUhWhGcFJngGeWrPzHm5oaMmkfEg1usvLFyc8jLRqDOMru7AyC8saQr7GG7f5fvDeH7Ej8CM66nIF+8yngt6HWaKh7k49Soy9nXurCi1o3qUbS3zWfrYeQDTB/Qj6kX6Ybhw4B+bOYoLKCC9H3Nu/leUTZ1JdRWkkn2ldcCamzrcf47KKXdAJllSlxAOkRgyHsGC/zRday5Qld9DyoM4/q/rUoy/CXh3jzOu3bHUVZeU+DEn8FInkPBFlu3+nW3Nw0mk6vCDiWg8CeJaxEwuHS3+z5RgY+YBR6V1Z1nxSOfoaPa4LASWxxdNp+VWTk7+4vzaou8v8PN+xo+KY2xsw6une2frhw05CTYOmQvsEhjhWjn0bmXPjpE1+kplmmkP3suftwTubK9Vq22qKmrBhpY4jvd5afdRA3wGjFAgcnTK2s4hY0/GPNIb0nErGMCRxWOOX64Z8RAC4oCXdklmEvcL8o0BfkNK4lUg9HTl+oPlQxdNo3Mg4Nv175e/1LDGzZen30MEjRUtmXSfiTVu1kK8W4txyV6BMKlbgk3lMwYCiusNy9fVfvvwMxv8Ynl6vxoByANLTWplvuj/nF9m2+PDtt1eiHPBr1oIfhCChQMBw6Aw0UulqTKZdfVvfG7VcfIqLG9bcldL/+pdWTLxLUy8Qq38heUIjh4XlzZxzQm19lLFlr8vdQ97rjZVOLf8nclzckbcD4wxXMidpX30sFd37Fv/GtwwhzhxGVAprjbg0gCAEeIgwCZyTV2Z1REEW8O4py0wsjeloKoMr6iCY6dP92H6Vw/oTyICIthibxjm/DfN9lVz8IqtqKYLUXfoKVMVQVVJOElGjrnnUt9T9wbgp8AyYKaGlqingHZU/uG2NTZSVqwHQTWkx9hxjkpWDaCg6Ckj5qebgBVbT3V3NNXMSiWSDdGV3hrtzla7J+duwPOToIg42ChPQOQjspnSlp1V+Gjdged7+8UN5CRAV7a5EdFNwCjEaBR27b3W890TE7g24NAP/mMDXRWrGoFPQI9ls/MWO2dWFAar/xcOIImbbpA3zgAAAABJRU5ErkJggg==);\n",
       "        }\n",
       "    </style>\n",
       "    <div>\n",
       "        <a href=\"https://bokeh.org\" target=\"_blank\" class=\"bk-notebook-logo\"></a>\n",
       "        <span id=\"d8c9d47a-7ea6-44a5-913e-c3cbb5f75127\">Loading BokehJS ...</span>\n",
       "    </div>\n"
      ]
     },
     "metadata": {},
     "output_type": "display_data"
    },
    {
     "data": {
      "application/javascript": "'use strict';\n(function(root) {\n  function now() {\n    return new Date();\n  }\n\n  const force = true;\n\n  if (typeof root._bokeh_onload_callbacks === \"undefined\" || force === true) {\n    root._bokeh_onload_callbacks = [];\n    root._bokeh_is_loading = undefined;\n  }\n\nconst JS_MIME_TYPE = 'application/javascript';\n  const HTML_MIME_TYPE = 'text/html';\n  const EXEC_MIME_TYPE = 'application/vnd.bokehjs_exec.v0+json';\n  const CLASS_NAME = 'output_bokeh rendered_html';\n\n  /**\n   * Render data to the DOM node\n   */\n  function render(props, node) {\n    const script = document.createElement(\"script\");\n    node.appendChild(script);\n  }\n\n  /**\n   * Handle when an output is cleared or removed\n   */\n  function handleClearOutput(event, handle) {\n    function drop(id) {\n      const view = Bokeh.index.get_by_id(id)\n      if (view != null) {\n        view.model.document.clear()\n        Bokeh.index.delete(view)\n      }\n    }\n\n    const cell = handle.cell;\n\n    const id = cell.output_area._bokeh_element_id;\n    const server_id = cell.output_area._bokeh_server_id;\n\n    // Clean up Bokeh references\n    if (id != null) {\n      drop(id)\n    }\n\n    if (server_id !== undefined) {\n      // Clean up Bokeh references\n      const cmd_clean = \"from bokeh.io.state import curstate; print(curstate().uuid_to_server['\" + server_id + \"'].get_sessions()[0].document.roots[0]._id)\";\n      cell.notebook.kernel.execute(cmd_clean, {\n        iopub: {\n          output: function(msg) {\n            const id = msg.content.text.trim()\n            drop(id)\n          }\n        }\n      });\n      // Destroy server and session\n      const cmd_destroy = \"import bokeh.io.notebook as ion; ion.destroy_server('\" + server_id + \"')\";\n      cell.notebook.kernel.execute(cmd_destroy);\n    }\n  }\n\n  /**\n   * Handle when a new output is added\n   */\n  function handleAddOutput(event, handle) {\n    const output_area = handle.output_area;\n    const output = handle.output;\n\n    // limit handleAddOutput to display_data with EXEC_MIME_TYPE content only\n    if ((output.output_type != \"display_data\") || (!Object.prototype.hasOwnProperty.call(output.data, EXEC_MIME_TYPE))) {\n      return\n    }\n\n    const toinsert = output_area.element.find(\".\" + CLASS_NAME.split(' ')[0]);\n\n    if (output.metadata[EXEC_MIME_TYPE][\"id\"] !== undefined) {\n      toinsert[toinsert.length - 1].firstChild.textContent = output.data[JS_MIME_TYPE];\n      // store reference to embed id on output_area\n      output_area._bokeh_element_id = output.metadata[EXEC_MIME_TYPE][\"id\"];\n    }\n    if (output.metadata[EXEC_MIME_TYPE][\"server_id\"] !== undefined) {\n      const bk_div = document.createElement(\"div\");\n      bk_div.innerHTML = output.data[HTML_MIME_TYPE];\n      const script_attrs = bk_div.children[0].attributes;\n      for (let i = 0; i < script_attrs.length; i++) {\n        toinsert[toinsert.length - 1].firstChild.setAttribute(script_attrs[i].name, script_attrs[i].value);\n        toinsert[toinsert.length - 1].firstChild.textContent = bk_div.children[0].textContent\n      }\n      // store reference to server id on output_area\n      output_area._bokeh_server_id = output.metadata[EXEC_MIME_TYPE][\"server_id\"];\n    }\n  }\n\n  function register_renderer(events, OutputArea) {\n\n    function append_mime(data, metadata, element) {\n      // create a DOM node to render to\n      const toinsert = this.create_output_subarea(\n        metadata,\n        CLASS_NAME,\n        EXEC_MIME_TYPE\n      );\n      this.keyboard_manager.register_events(toinsert);\n      // Render to node\n      const props = {data: data, metadata: metadata[EXEC_MIME_TYPE]};\n      render(props, toinsert[toinsert.length - 1]);\n      element.append(toinsert);\n      return toinsert\n    }\n\n    /* Handle when an output is cleared or removed */\n    events.on('clear_output.CodeCell', handleClearOutput);\n    events.on('delete.Cell', handleClearOutput);\n\n    /* Handle when a new output is added */\n    events.on('output_added.OutputArea', handleAddOutput);\n\n    /**\n     * Register the mime type and append_mime function with output_area\n     */\n    OutputArea.prototype.register_mime_type(EXEC_MIME_TYPE, append_mime, {\n      /* Is output safe? */\n      safe: true,\n      /* Index of renderer in `output_area.display_order` */\n      index: 0\n    });\n  }\n\n  // register the mime type if in Jupyter Notebook environment and previously unregistered\n  if (root.Jupyter !== undefined) {\n    const events = require('base/js/events');\n    const OutputArea = require('notebook/js/outputarea').OutputArea;\n\n    if (OutputArea.prototype.mime_types().indexOf(EXEC_MIME_TYPE) == -1) {\n      register_renderer(events, OutputArea);\n    }\n  }\n  if (typeof (root._bokeh_timeout) === \"undefined\" || force === true) {\n    root._bokeh_timeout = Date.now() + 5000;\n    root._bokeh_failed_load = false;\n  }\n\n  const NB_LOAD_WARNING = {'data': {'text/html':\n     \"<div style='background-color: #fdd'>\\n\"+\n     \"<p>\\n\"+\n     \"BokehJS does not appear to have successfully loaded. If loading BokehJS from CDN, this \\n\"+\n     \"may be due to a slow or bad network connection. Possible fixes:\\n\"+\n     \"</p>\\n\"+\n     \"<ul>\\n\"+\n     \"<li>re-rerun `output_notebook()` to attempt to load from CDN again, or</li>\\n\"+\n     \"<li>use INLINE resources instead, as so:</li>\\n\"+\n     \"</ul>\\n\"+\n     \"<code>\\n\"+\n     \"from bokeh.resources import INLINE\\n\"+\n     \"output_notebook(resources=INLINE)\\n\"+\n     \"</code>\\n\"+\n     \"</div>\"}};\n\n  function display_loaded(error = null) {\n    const el = document.getElementById(\"d8c9d47a-7ea6-44a5-913e-c3cbb5f75127\");\n    if (el != null) {\n      const html = (() => {\n        if (typeof root.Bokeh === \"undefined\") {\n          if (error == null) {\n            return \"BokehJS is loading ...\";\n          } else {\n            return \"BokehJS failed to load.\";\n          }\n        } else {\n          const prefix = `BokehJS ${root.Bokeh.version}`;\n          if (error == null) {\n            return `${prefix} successfully loaded.`;\n          } else {\n            return `${prefix} <b>encountered errors</b> while loading and may not function as expected.`;\n          }\n        }\n      })();\n      el.innerHTML = html;\n\n      if (error != null) {\n        const wrapper = document.createElement(\"div\");\n        wrapper.style.overflow = \"auto\";\n        wrapper.style.height = \"5em\";\n        wrapper.style.resize = \"vertical\";\n        const content = document.createElement(\"div\");\n        content.style.fontFamily = \"monospace\";\n        content.style.whiteSpace = \"pre-wrap\";\n        content.style.backgroundColor = \"rgb(255, 221, 221)\";\n        content.textContent = error.stack ?? error.toString();\n        wrapper.append(content);\n        el.append(wrapper);\n      }\n    } else if (Date.now() < root._bokeh_timeout) {\n      setTimeout(() => display_loaded(error), 100);\n    }\n  }\n\n  function run_callbacks() {\n    try {\n      root._bokeh_onload_callbacks.forEach(function(callback) {\n        if (callback != null)\n          callback();\n      });\n    } finally {\n      delete root._bokeh_onload_callbacks\n    }\n    console.debug(\"Bokeh: all callbacks have finished\");\n  }\n\n  function load_libs(css_urls, js_urls, callback) {\n    if (css_urls == null) css_urls = [];\n    if (js_urls == null) js_urls = [];\n\n    root._bokeh_onload_callbacks.push(callback);\n    if (root._bokeh_is_loading > 0) {\n      console.debug(\"Bokeh: BokehJS is being loaded, scheduling callback at\", now());\n      return null;\n    }\n    if (js_urls == null || js_urls.length === 0) {\n      run_callbacks();\n      return null;\n    }\n    console.debug(\"Bokeh: BokehJS not loaded, scheduling load and callback at\", now());\n    root._bokeh_is_loading = css_urls.length + js_urls.length;\n\n    function on_load() {\n      root._bokeh_is_loading--;\n      if (root._bokeh_is_loading === 0) {\n        console.debug(\"Bokeh: all BokehJS libraries/stylesheets loaded\");\n        run_callbacks()\n      }\n    }\n\n    function on_error(url) {\n      console.error(\"failed to load \" + url);\n    }\n\n    for (let i = 0; i < css_urls.length; i++) {\n      const url = css_urls[i];\n      const element = document.createElement(\"link\");\n      element.onload = on_load;\n      element.onerror = on_error.bind(null, url);\n      element.rel = \"stylesheet\";\n      element.type = \"text/css\";\n      element.href = url;\n      console.debug(\"Bokeh: injecting link tag for BokehJS stylesheet: \", url);\n      document.body.appendChild(element);\n    }\n\n    for (let i = 0; i < js_urls.length; i++) {\n      const url = js_urls[i];\n      const element = document.createElement('script');\n      element.onload = on_load;\n      element.onerror = on_error.bind(null, url);\n      element.async = false;\n      element.src = url;\n      console.debug(\"Bokeh: injecting script tag for BokehJS library: \", url);\n      document.head.appendChild(element);\n    }\n  };\n\n  function inject_raw_css(css) {\n    const element = document.createElement(\"style\");\n    element.appendChild(document.createTextNode(css));\n    document.body.appendChild(element);\n  }\n\n  const js_urls = [\"static/extensions/panel/bundled/jquery/jquery.slim.min.js\", \"static/extensions/panel/bundled/plotlyplot/plotly-2.31.1.min.js\", \"https://cdn.bokeh.org/bokeh/release/bokeh-3.4.1.min.js\", \"https://cdn.bokeh.org/bokeh/release/bokeh-gl-3.4.1.min.js\", \"https://cdn.bokeh.org/bokeh/release/bokeh-widgets-3.4.1.min.js\", \"https://cdn.bokeh.org/bokeh/release/bokeh-tables-3.4.1.min.js\", \"https://cdn.bokeh.org/bokeh/release/bokeh-mathjax-3.4.1.min.js\", \"https://unpkg.com/@holoviz/panel@1.4.2/dist/panel.min.js\"];\n  const css_urls = [];\n\n  const inline_js = [    function(Bokeh) {\n      Bokeh.set_log_level(\"info\");\n    },\nfunction(Bokeh) {\n    }\n  ];\n\n  function run_inline_js() {\n    if (root.Bokeh !== undefined || force === true) {\n      try {\n            for (let i = 0; i < inline_js.length; i++) {\n      inline_js[i].call(root, root.Bokeh);\n    }\n\n      } catch (error) {display_loaded(error);throw error;\n      }if (force === true) {\n        display_loaded();\n      }} else if (Date.now() < root._bokeh_timeout) {\n      setTimeout(run_inline_js, 100);\n    } else if (!root._bokeh_failed_load) {\n      console.log(\"Bokeh: BokehJS failed to load within specified timeout.\");\n      root._bokeh_failed_load = true;\n    } else if (force !== true) {\n      const cell = $(document.getElementById(\"d8c9d47a-7ea6-44a5-913e-c3cbb5f75127\")).parents('.cell').data().cell;\n      cell.output_area.append_execute_result(NB_LOAD_WARNING)\n    }\n  }\n\n  if (root._bokeh_is_loading === 0) {\n    console.debug(\"Bokeh: BokehJS loaded, going straight to plotting\");\n    run_inline_js();\n  } else {\n    load_libs(css_urls, js_urls, function() {\n      console.debug(\"Bokeh: BokehJS plotting callback run at\", now());\n      run_inline_js();\n    });\n  }\n}(window));",
      "application/vnd.bokehjs_load.v0+json": ""
     },
     "metadata": {},
     "output_type": "display_data"
    },
    {
     "data": {
      "text/html": [
       "\n",
       "  <div id=\"ae3b6331-c3bf-441a-aa89-b3283dbf31e2\" data-root-id=\"p8482\" style=\"display: contents;\"></div>\n"
      ]
     },
     "metadata": {},
     "output_type": "display_data"
    },
    {
     "data": {
      "application/javascript": "(function(root) {\n  function embed_document(root) {\n  const docs_json = {\"005fafcb-04fa-4f62-bbe2-0eb3bf298a38\":{\"version\":\"3.4.1\",\"title\":\"Bokeh Application\",\"roots\":[{\"type\":\"object\",\"name\":\"DataTable\",\"id\":\"p8482\",\"attributes\":{\"width\":250,\"height\":560,\"source\":{\"type\":\"object\",\"name\":\"ColumnDataSource\",\"id\":\"p8472\",\"attributes\":{\"selected\":{\"type\":\"object\",\"name\":\"Selection\",\"id\":\"p8473\",\"attributes\":{\"indices\":[],\"line_indices\":[]}},\"selection_policy\":{\"type\":\"object\",\"name\":\"UnionRenderers\",\"id\":\"p8474\"},\"data\":{\"type\":\"map\",\"entries\":[[\"groups\",[\"Carboxylic Acid\",\"Amide\",\"Amide\",\"Amine\",\"Sulfide\",\"Benzene\"]],[\"images\",[\"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\",\"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\",\"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\",\"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\",\"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\",\"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\"]]]}}},\"view\":{\"type\":\"object\",\"name\":\"CDSView\",\"id\":\"p8486\",\"attributes\":{\"filter\":{\"type\":\"object\",\"name\":\"AllIndices\",\"id\":\"p8487\"}}},\"columns\":[{\"type\":\"object\",\"name\":\"TableColumn\",\"id\":\"p8475\",\"attributes\":{\"field\":\"groups\",\"title\":\"Functional Groups\",\"formatter\":{\"type\":\"object\",\"name\":\"StringFormatter\",\"id\":\"p8476\"},\"editor\":{\"type\":\"object\",\"name\":\"StringEditor\",\"id\":\"p8477\"}}},{\"type\":\"object\",\"name\":\"TableColumn\",\"id\":\"p8479\",\"attributes\":{\"field\":\"images\",\"title\":\"Images\",\"width\":200,\"formatter\":{\"type\":\"object\",\"name\":\"HTMLTemplateFormatter\",\"id\":\"p8478\",\"attributes\":{\"template\":\"\\n    <div>\\n        <img src=\\\"data:image/png;base64, <%= value %>\\\" style=\\\"width:50px;height:50px;\\\">\\n    </div>\\n    \"}},\"editor\":{\"type\":\"object\",\"name\":\"StringEditor\",\"id\":\"p8481\"}}}],\"row_height\":60}}],\"defs\":[{\"type\":\"model\",\"name\":\"ReactiveHTML1\"},{\"type\":\"model\",\"name\":\"FlexBox1\",\"properties\":[{\"name\":\"align_content\",\"kind\":\"Any\",\"default\":\"flex-start\"},{\"name\":\"align_items\",\"kind\":\"Any\",\"default\":\"flex-start\"},{\"name\":\"flex_direction\",\"kind\":\"Any\",\"default\":\"row\"},{\"name\":\"flex_wrap\",\"kind\":\"Any\",\"default\":\"wrap\"},{\"name\":\"gap\",\"kind\":\"Any\",\"default\":\"\"},{\"name\":\"justify_content\",\"kind\":\"Any\",\"default\":\"flex-start\"}]},{\"type\":\"model\",\"name\":\"FloatPanel1\",\"properties\":[{\"name\":\"config\",\"kind\":\"Any\",\"default\":{\"type\":\"map\"}},{\"name\":\"contained\",\"kind\":\"Any\",\"default\":true},{\"name\":\"position\",\"kind\":\"Any\",\"default\":\"right-top\"},{\"name\":\"offsetx\",\"kind\":\"Any\",\"default\":null},{\"name\":\"offsety\",\"kind\":\"Any\",\"default\":null},{\"name\":\"theme\",\"kind\":\"Any\",\"default\":\"primary\"},{\"name\":\"status\",\"kind\":\"Any\",\"default\":\"normalized\"}]},{\"type\":\"model\",\"name\":\"GridStack1\",\"properties\":[{\"name\":\"mode\",\"kind\":\"Any\",\"default\":\"warn\"},{\"name\":\"ncols\",\"kind\":\"Any\",\"default\":null},{\"name\":\"nrows\",\"kind\":\"Any\",\"default\":null},{\"name\":\"allow_resize\",\"kind\":\"Any\",\"default\":true},{\"name\":\"allow_drag\",\"kind\":\"Any\",\"default\":true},{\"name\":\"state\",\"kind\":\"Any\",\"default\":[]}]},{\"type\":\"model\",\"name\":\"drag1\",\"properties\":[{\"name\":\"slider_width\",\"kind\":\"Any\",\"default\":5},{\"name\":\"slider_color\",\"kind\":\"Any\",\"default\":\"black\"},{\"name\":\"value\",\"kind\":\"Any\",\"default\":50}]},{\"type\":\"model\",\"name\":\"click1\",\"properties\":[{\"name\":\"terminal_output\",\"kind\":\"Any\",\"default\":\"\"},{\"name\":\"debug_name\",\"kind\":\"Any\",\"default\":\"\"},{\"name\":\"clears\",\"kind\":\"Any\",\"default\":0}]},{\"type\":\"model\",\"name\":\"FastWrapper1\",\"properties\":[{\"name\":\"object\",\"kind\":\"Any\",\"default\":null},{\"name\":\"style\",\"kind\":\"Any\",\"default\":null}]},{\"type\":\"model\",\"name\":\"NotificationAreaBase1\",\"properties\":[{\"name\":\"js_events\",\"kind\":\"Any\",\"default\":{\"type\":\"map\"}},{\"name\":\"position\",\"kind\":\"Any\",\"default\":\"bottom-right\"},{\"name\":\"_clear\",\"kind\":\"Any\",\"default\":0}]},{\"type\":\"model\",\"name\":\"NotificationArea1\",\"properties\":[{\"name\":\"js_events\",\"kind\":\"Any\",\"default\":{\"type\":\"map\"}},{\"name\":\"notifications\",\"kind\":\"Any\",\"default\":[]},{\"name\":\"position\",\"kind\":\"Any\",\"default\":\"bottom-right\"},{\"name\":\"_clear\",\"kind\":\"Any\",\"default\":0},{\"name\":\"types\",\"kind\":\"Any\",\"default\":[{\"type\":\"map\",\"entries\":[[\"type\",\"warning\"],[\"background\",\"#ffc107\"],[\"icon\",{\"type\":\"map\",\"entries\":[[\"className\",\"fas fa-exclamation-triangle\"],[\"tagName\",\"i\"],[\"color\",\"white\"]]}]]},{\"type\":\"map\",\"entries\":[[\"type\",\"info\"],[\"background\",\"#007bff\"],[\"icon\",{\"type\":\"map\",\"entries\":[[\"className\",\"fas fa-info-circle\"],[\"tagName\",\"i\"],[\"color\",\"white\"]]}]]}]}]},{\"type\":\"model\",\"name\":\"Notification\",\"properties\":[{\"name\":\"background\",\"kind\":\"Any\",\"default\":null},{\"name\":\"duration\",\"kind\":\"Any\",\"default\":3000},{\"name\":\"icon\",\"kind\":\"Any\",\"default\":null},{\"name\":\"message\",\"kind\":\"Any\",\"default\":\"\"},{\"name\":\"notification_type\",\"kind\":\"Any\",\"default\":null},{\"name\":\"_destroyed\",\"kind\":\"Any\",\"default\":false}]},{\"type\":\"model\",\"name\":\"TemplateActions1\",\"properties\":[{\"name\":\"open_modal\",\"kind\":\"Any\",\"default\":0},{\"name\":\"close_modal\",\"kind\":\"Any\",\"default\":0}]},{\"type\":\"model\",\"name\":\"BootstrapTemplateActions1\",\"properties\":[{\"name\":\"open_modal\",\"kind\":\"Any\",\"default\":0},{\"name\":\"close_modal\",\"kind\":\"Any\",\"default\":0}]},{\"type\":\"model\",\"name\":\"TemplateEditor1\",\"properties\":[{\"name\":\"layout\",\"kind\":\"Any\",\"default\":[]}]},{\"type\":\"model\",\"name\":\"MaterialTemplateActions1\",\"properties\":[{\"name\":\"open_modal\",\"kind\":\"Any\",\"default\":0},{\"name\":\"close_modal\",\"kind\":\"Any\",\"default\":0}]},{\"type\":\"model\",\"name\":\"copy_to_clipboard1\",\"properties\":[{\"name\":\"fill\",\"kind\":\"Any\",\"default\":\"none\"},{\"name\":\"value\",\"kind\":\"Any\",\"default\":null}]}]}};\n  const render_items = [{\"docid\":\"005fafcb-04fa-4f62-bbe2-0eb3bf298a38\",\"roots\":{\"p8482\":\"ae3b6331-c3bf-441a-aa89-b3283dbf31e2\"},\"root_ids\":[\"p8482\"]}];\n  void root.Bokeh.embed.embed_items_notebook(docs_json, render_items);\n  }\n  if (root.Bokeh !== undefined) {\n    embed_document(root);\n  } else {\n    let attempts = 0;\n    const timer = setInterval(function(root) {\n      if (root.Bokeh !== undefined) {\n        clearInterval(timer);\n        embed_document(root);\n      } else {\n        attempts++;\n        if (attempts > 100) {\n          clearInterval(timer);\n          console.log(\"Bokeh: ERROR: Unable to run BokehJS code because BokehJS library is missing\");\n        }\n      }\n    }, 10, root)\n  }\n})(window);",
      "application/vnd.bokehjs_exec.v0+json": ""
     },
     "metadata": {
      "application/vnd.bokehjs_exec.v0+json": {
       "id": "p8482"
      }
     },
     "output_type": "display_data"
    }
   ],
   "source": [
    "import MASSiveChem.MASSiveChem as MC\n",
    "from bokeh.plotting import output_notebook, show\n",
    "\n",
    "output_notebook() #not necessary if you want to plot the image outside the\n",
    "\n",
    "functional_groups = ['Carboxylic Acid', 'Amide', 'Amide', 'Amine', 'Sulfide', 'Benzene']\n",
    "\n",
    "output = MC.functional_group_display(functional_groups)\n",
    "\n",
    "show(output)"
   ]
  },
  {
   "cell_type": "markdown",
   "metadata": {},
   "source": [
    "## mol_web_show(mol_smi, show_Hs=False, show_3D = False)\n",
    "\n",
    "This function takes as an input the SMILEs of the molecule and plots the image of the molecule in a bokeh interface"
   ]
  },
  {
   "cell_type": "code",
   "execution_count": 75,
   "metadata": {},
   "outputs": [
    {
     "data": {
      "text/html": [
       "    <style>\n",
       "        .bk-notebook-logo {\n",
       "            display: block;\n",
       "            width: 20px;\n",
       "            height: 20px;\n",
       "            background-image: url(data:image/png;base64,iVBORw0KGgoAAAANSUhEUgAAABQAAAAUCAYAAACNiR0NAAAABHNCSVQICAgIfAhkiAAAAAlwSFlzAAALEgAACxIB0t1+/AAAABx0RVh0U29mdHdhcmUAQWRvYmUgRmlyZXdvcmtzIENTNui8sowAAAOkSURBVDiNjZRtaJVlGMd/1/08zzln5zjP1LWcU9N0NkN8m2CYjpgQYQXqSs0I84OLIC0hkEKoPtiH3gmKoiJDU7QpLgoLjLIQCpEsNJ1vqUOdO7ppbuec5+V+rj4ctwzd8IIbbi6u+8f1539dt3A78eXC7QizUF7gyV1fD1Yqg4JWz84yffhm0qkFqBogB9rM8tZdtwVsPUhWhGcFJngGeWrPzHm5oaMmkfEg1usvLFyc8jLRqDOMru7AyC8saQr7GG7f5fvDeH7Ej8CM66nIF+8yngt6HWaKh7k49Soy9nXurCi1o3qUbS3zWfrYeQDTB/Qj6kX6Ybhw4B+bOYoLKCC9H3Nu/leUTZ1JdRWkkn2ldcCamzrcf47KKXdAJllSlxAOkRgyHsGC/zRday5Qld9DyoM4/q/rUoy/CXh3jzOu3bHUVZeU+DEn8FInkPBFlu3+nW3Nw0mk6vCDiWg8CeJaxEwuHS3+z5RgY+YBR6V1Z1nxSOfoaPa4LASWxxdNp+VWTk7+4vzaou8v8PN+xo+KY2xsw6une2frhw05CTYOmQvsEhjhWjn0bmXPjpE1+kplmmkP3suftwTubK9Vq22qKmrBhpY4jvd5afdRA3wGjFAgcnTK2s4hY0/GPNIb0nErGMCRxWOOX64Z8RAC4oCXdklmEvcL8o0BfkNK4lUg9HTl+oPlQxdNo3Mg4Nv175e/1LDGzZen30MEjRUtmXSfiTVu1kK8W4txyV6BMKlbgk3lMwYCiusNy9fVfvvwMxv8Ynl6vxoByANLTWplvuj/nF9m2+PDtt1eiHPBr1oIfhCChQMBw6Aw0UulqTKZdfVvfG7VcfIqLG9bcldL/+pdWTLxLUy8Qq38heUIjh4XlzZxzQm19lLFlr8vdQ97rjZVOLf8nclzckbcD4wxXMidpX30sFd37Fv/GtwwhzhxGVAprjbg0gCAEeIgwCZyTV2Z1REEW8O4py0wsjeloKoMr6iCY6dP92H6Vw/oTyICIthibxjm/DfN9lVz8IqtqKYLUXfoKVMVQVVJOElGjrnnUt9T9wbgp8AyYKaGlqingHZU/uG2NTZSVqwHQTWkx9hxjkpWDaCg6Ckj5qebgBVbT3V3NNXMSiWSDdGV3hrtzla7J+duwPOToIg42ChPQOQjspnSlp1V+Gjdged7+8UN5CRAV7a5EdFNwCjEaBR27b3W890TE7g24NAP/mMDXRWrGoFPQI9ls/MWO2dWFAar/xcOIImbbpA3zgAAAABJRU5ErkJggg==);\n",
       "        }\n",
       "    </style>\n",
       "    <div>\n",
       "        <a href=\"https://bokeh.org\" target=\"_blank\" class=\"bk-notebook-logo\"></a>\n",
       "        <span id=\"fdcfcff5-5dee-466b-984a-b1f81ac259a6\">Loading BokehJS ...</span>\n",
       "    </div>\n"
      ]
     },
     "metadata": {},
     "output_type": "display_data"
    },
    {
     "data": {
      "application/javascript": "'use strict';\n(function(root) {\n  function now() {\n    return new Date();\n  }\n\n  const force = true;\n\n  if (typeof root._bokeh_onload_callbacks === \"undefined\" || force === true) {\n    root._bokeh_onload_callbacks = [];\n    root._bokeh_is_loading = undefined;\n  }\n\nconst JS_MIME_TYPE = 'application/javascript';\n  const HTML_MIME_TYPE = 'text/html';\n  const EXEC_MIME_TYPE = 'application/vnd.bokehjs_exec.v0+json';\n  const CLASS_NAME = 'output_bokeh rendered_html';\n\n  /**\n   * Render data to the DOM node\n   */\n  function render(props, node) {\n    const script = document.createElement(\"script\");\n    node.appendChild(script);\n  }\n\n  /**\n   * Handle when an output is cleared or removed\n   */\n  function handleClearOutput(event, handle) {\n    function drop(id) {\n      const view = Bokeh.index.get_by_id(id)\n      if (view != null) {\n        view.model.document.clear()\n        Bokeh.index.delete(view)\n      }\n    }\n\n    const cell = handle.cell;\n\n    const id = cell.output_area._bokeh_element_id;\n    const server_id = cell.output_area._bokeh_server_id;\n\n    // Clean up Bokeh references\n    if (id != null) {\n      drop(id)\n    }\n\n    if (server_id !== undefined) {\n      // Clean up Bokeh references\n      const cmd_clean = \"from bokeh.io.state import curstate; print(curstate().uuid_to_server['\" + server_id + \"'].get_sessions()[0].document.roots[0]._id)\";\n      cell.notebook.kernel.execute(cmd_clean, {\n        iopub: {\n          output: function(msg) {\n            const id = msg.content.text.trim()\n            drop(id)\n          }\n        }\n      });\n      // Destroy server and session\n      const cmd_destroy = \"import bokeh.io.notebook as ion; ion.destroy_server('\" + server_id + \"')\";\n      cell.notebook.kernel.execute(cmd_destroy);\n    }\n  }\n\n  /**\n   * Handle when a new output is added\n   */\n  function handleAddOutput(event, handle) {\n    const output_area = handle.output_area;\n    const output = handle.output;\n\n    // limit handleAddOutput to display_data with EXEC_MIME_TYPE content only\n    if ((output.output_type != \"display_data\") || (!Object.prototype.hasOwnProperty.call(output.data, EXEC_MIME_TYPE))) {\n      return\n    }\n\n    const toinsert = output_area.element.find(\".\" + CLASS_NAME.split(' ')[0]);\n\n    if (output.metadata[EXEC_MIME_TYPE][\"id\"] !== undefined) {\n      toinsert[toinsert.length - 1].firstChild.textContent = output.data[JS_MIME_TYPE];\n      // store reference to embed id on output_area\n      output_area._bokeh_element_id = output.metadata[EXEC_MIME_TYPE][\"id\"];\n    }\n    if (output.metadata[EXEC_MIME_TYPE][\"server_id\"] !== undefined) {\n      const bk_div = document.createElement(\"div\");\n      bk_div.innerHTML = output.data[HTML_MIME_TYPE];\n      const script_attrs = bk_div.children[0].attributes;\n      for (let i = 0; i < script_attrs.length; i++) {\n        toinsert[toinsert.length - 1].firstChild.setAttribute(script_attrs[i].name, script_attrs[i].value);\n        toinsert[toinsert.length - 1].firstChild.textContent = bk_div.children[0].textContent\n      }\n      // store reference to server id on output_area\n      output_area._bokeh_server_id = output.metadata[EXEC_MIME_TYPE][\"server_id\"];\n    }\n  }\n\n  function register_renderer(events, OutputArea) {\n\n    function append_mime(data, metadata, element) {\n      // create a DOM node to render to\n      const toinsert = this.create_output_subarea(\n        metadata,\n        CLASS_NAME,\n        EXEC_MIME_TYPE\n      );\n      this.keyboard_manager.register_events(toinsert);\n      // Render to node\n      const props = {data: data, metadata: metadata[EXEC_MIME_TYPE]};\n      render(props, toinsert[toinsert.length - 1]);\n      element.append(toinsert);\n      return toinsert\n    }\n\n    /* Handle when an output is cleared or removed */\n    events.on('clear_output.CodeCell', handleClearOutput);\n    events.on('delete.Cell', handleClearOutput);\n\n    /* Handle when a new output is added */\n    events.on('output_added.OutputArea', handleAddOutput);\n\n    /**\n     * Register the mime type and append_mime function with output_area\n     */\n    OutputArea.prototype.register_mime_type(EXEC_MIME_TYPE, append_mime, {\n      /* Is output safe? */\n      safe: true,\n      /* Index of renderer in `output_area.display_order` */\n      index: 0\n    });\n  }\n\n  // register the mime type if in Jupyter Notebook environment and previously unregistered\n  if (root.Jupyter !== undefined) {\n    const events = require('base/js/events');\n    const OutputArea = require('notebook/js/outputarea').OutputArea;\n\n    if (OutputArea.prototype.mime_types().indexOf(EXEC_MIME_TYPE) == -1) {\n      register_renderer(events, OutputArea);\n    }\n  }\n  if (typeof (root._bokeh_timeout) === \"undefined\" || force === true) {\n    root._bokeh_timeout = Date.now() + 5000;\n    root._bokeh_failed_load = false;\n  }\n\n  const NB_LOAD_WARNING = {'data': {'text/html':\n     \"<div style='background-color: #fdd'>\\n\"+\n     \"<p>\\n\"+\n     \"BokehJS does not appear to have successfully loaded. If loading BokehJS from CDN, this \\n\"+\n     \"may be due to a slow or bad network connection. Possible fixes:\\n\"+\n     \"</p>\\n\"+\n     \"<ul>\\n\"+\n     \"<li>re-rerun `output_notebook()` to attempt to load from CDN again, or</li>\\n\"+\n     \"<li>use INLINE resources instead, as so:</li>\\n\"+\n     \"</ul>\\n\"+\n     \"<code>\\n\"+\n     \"from bokeh.resources import INLINE\\n\"+\n     \"output_notebook(resources=INLINE)\\n\"+\n     \"</code>\\n\"+\n     \"</div>\"}};\n\n  function display_loaded(error = null) {\n    const el = document.getElementById(\"fdcfcff5-5dee-466b-984a-b1f81ac259a6\");\n    if (el != null) {\n      const html = (() => {\n        if (typeof root.Bokeh === \"undefined\") {\n          if (error == null) {\n            return \"BokehJS is loading ...\";\n          } else {\n            return \"BokehJS failed to load.\";\n          }\n        } else {\n          const prefix = `BokehJS ${root.Bokeh.version}`;\n          if (error == null) {\n            return `${prefix} successfully loaded.`;\n          } else {\n            return `${prefix} <b>encountered errors</b> while loading and may not function as expected.`;\n          }\n        }\n      })();\n      el.innerHTML = html;\n\n      if (error != null) {\n        const wrapper = document.createElement(\"div\");\n        wrapper.style.overflow = \"auto\";\n        wrapper.style.height = \"5em\";\n        wrapper.style.resize = \"vertical\";\n        const content = document.createElement(\"div\");\n        content.style.fontFamily = \"monospace\";\n        content.style.whiteSpace = \"pre-wrap\";\n        content.style.backgroundColor = \"rgb(255, 221, 221)\";\n        content.textContent = error.stack ?? error.toString();\n        wrapper.append(content);\n        el.append(wrapper);\n      }\n    } else if (Date.now() < root._bokeh_timeout) {\n      setTimeout(() => display_loaded(error), 100);\n    }\n  }\n\n  function run_callbacks() {\n    try {\n      root._bokeh_onload_callbacks.forEach(function(callback) {\n        if (callback != null)\n          callback();\n      });\n    } finally {\n      delete root._bokeh_onload_callbacks\n    }\n    console.debug(\"Bokeh: all callbacks have finished\");\n  }\n\n  function load_libs(css_urls, js_urls, callback) {\n    if (css_urls == null) css_urls = [];\n    if (js_urls == null) js_urls = [];\n\n    root._bokeh_onload_callbacks.push(callback);\n    if (root._bokeh_is_loading > 0) {\n      console.debug(\"Bokeh: BokehJS is being loaded, scheduling callback at\", now());\n      return null;\n    }\n    if (js_urls == null || js_urls.length === 0) {\n      run_callbacks();\n      return null;\n    }\n    console.debug(\"Bokeh: BokehJS not loaded, scheduling load and callback at\", now());\n    root._bokeh_is_loading = css_urls.length + js_urls.length;\n\n    function on_load() {\n      root._bokeh_is_loading--;\n      if (root._bokeh_is_loading === 0) {\n        console.debug(\"Bokeh: all BokehJS libraries/stylesheets loaded\");\n        run_callbacks()\n      }\n    }\n\n    function on_error(url) {\n      console.error(\"failed to load \" + url);\n    }\n\n    for (let i = 0; i < css_urls.length; i++) {\n      const url = css_urls[i];\n      const element = document.createElement(\"link\");\n      element.onload = on_load;\n      element.onerror = on_error.bind(null, url);\n      element.rel = \"stylesheet\";\n      element.type = \"text/css\";\n      element.href = url;\n      console.debug(\"Bokeh: injecting link tag for BokehJS stylesheet: \", url);\n      document.body.appendChild(element);\n    }\n\n    for (let i = 0; i < js_urls.length; i++) {\n      const url = js_urls[i];\n      const element = document.createElement('script');\n      element.onload = on_load;\n      element.onerror = on_error.bind(null, url);\n      element.async = false;\n      element.src = url;\n      console.debug(\"Bokeh: injecting script tag for BokehJS library: \", url);\n      document.head.appendChild(element);\n    }\n  };\n\n  function inject_raw_css(css) {\n    const element = document.createElement(\"style\");\n    element.appendChild(document.createTextNode(css));\n    document.body.appendChild(element);\n  }\n\n  const js_urls = [\"static/extensions/panel/bundled/jquery/jquery.slim.min.js\", \"static/extensions/panel/bundled/plotlyplot/plotly-2.31.1.min.js\", \"https://cdn.bokeh.org/bokeh/release/bokeh-3.4.1.min.js\", \"https://cdn.bokeh.org/bokeh/release/bokeh-gl-3.4.1.min.js\", \"https://cdn.bokeh.org/bokeh/release/bokeh-widgets-3.4.1.min.js\", \"https://cdn.bokeh.org/bokeh/release/bokeh-tables-3.4.1.min.js\", \"https://cdn.bokeh.org/bokeh/release/bokeh-mathjax-3.4.1.min.js\", \"https://unpkg.com/@holoviz/panel@1.4.2/dist/panel.min.js\"];\n  const css_urls = [];\n\n  const inline_js = [    function(Bokeh) {\n      Bokeh.set_log_level(\"info\");\n    },\nfunction(Bokeh) {\n    }\n  ];\n\n  function run_inline_js() {\n    if (root.Bokeh !== undefined || force === true) {\n      try {\n            for (let i = 0; i < inline_js.length; i++) {\n      inline_js[i].call(root, root.Bokeh);\n    }\n\n      } catch (error) {display_loaded(error);throw error;\n      }if (force === true) {\n        display_loaded();\n      }} else if (Date.now() < root._bokeh_timeout) {\n      setTimeout(run_inline_js, 100);\n    } else if (!root._bokeh_failed_load) {\n      console.log(\"Bokeh: BokehJS failed to load within specified timeout.\");\n      root._bokeh_failed_load = true;\n    } else if (force !== true) {\n      const cell = $(document.getElementById(\"fdcfcff5-5dee-466b-984a-b1f81ac259a6\")).parents('.cell').data().cell;\n      cell.output_area.append_execute_result(NB_LOAD_WARNING)\n    }\n  }\n\n  if (root._bokeh_is_loading === 0) {\n    console.debug(\"Bokeh: BokehJS loaded, going straight to plotting\");\n    run_inline_js();\n  } else {\n    load_libs(css_urls, js_urls, function() {\n      console.debug(\"Bokeh: BokehJS plotting callback run at\", now());\n      run_inline_js();\n    });\n  }\n}(window));",
      "application/vnd.bokehjs_load.v0+json": ""
     },
     "metadata": {},
     "output_type": "display_data"
    },
    {
     "data": {
      "text/html": [
       "\n",
       "  <div id=\"bc064796-0231-4fd0-a6bd-5be3724e90f8\" data-root-id=\"p8488\" style=\"display: contents;\"></div>\n"
      ]
     },
     "metadata": {},
     "output_type": "display_data"
    },
    {
     "data": {
      "application/javascript": "(function(root) {\n  function embed_document(root) {\n  const docs_json = {\"d9f4ae2b-c5f8-4560-81fd-c34f5218bc5f\":{\"version\":\"3.4.1\",\"title\":\"Bokeh Application\",\"roots\":[{\"type\":\"object\",\"name\":\"Div\",\"id\":\"p8488\",\"attributes\":{\"text\":\"<img src=\\\"data:image/png;base64,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\\\" style=\\\"width:350px;height:350px;\\\">\"}}],\"defs\":[{\"type\":\"model\",\"name\":\"ReactiveHTML1\"},{\"type\":\"model\",\"name\":\"FlexBox1\",\"properties\":[{\"name\":\"align_content\",\"kind\":\"Any\",\"default\":\"flex-start\"},{\"name\":\"align_items\",\"kind\":\"Any\",\"default\":\"flex-start\"},{\"name\":\"flex_direction\",\"kind\":\"Any\",\"default\":\"row\"},{\"name\":\"flex_wrap\",\"kind\":\"Any\",\"default\":\"wrap\"},{\"name\":\"gap\",\"kind\":\"Any\",\"default\":\"\"},{\"name\":\"justify_content\",\"kind\":\"Any\",\"default\":\"flex-start\"}]},{\"type\":\"model\",\"name\":\"FloatPanel1\",\"properties\":[{\"name\":\"config\",\"kind\":\"Any\",\"default\":{\"type\":\"map\"}},{\"name\":\"contained\",\"kind\":\"Any\",\"default\":true},{\"name\":\"position\",\"kind\":\"Any\",\"default\":\"right-top\"},{\"name\":\"offsetx\",\"kind\":\"Any\",\"default\":null},{\"name\":\"offsety\",\"kind\":\"Any\",\"default\":null},{\"name\":\"theme\",\"kind\":\"Any\",\"default\":\"primary\"},{\"name\":\"status\",\"kind\":\"Any\",\"default\":\"normalized\"}]},{\"type\":\"model\",\"name\":\"GridStack1\",\"properties\":[{\"name\":\"mode\",\"kind\":\"Any\",\"default\":\"warn\"},{\"name\":\"ncols\",\"kind\":\"Any\",\"default\":null},{\"name\":\"nrows\",\"kind\":\"Any\",\"default\":null},{\"name\":\"allow_resize\",\"kind\":\"Any\",\"default\":true},{\"name\":\"allow_drag\",\"kind\":\"Any\",\"default\":true},{\"name\":\"state\",\"kind\":\"Any\",\"default\":[]}]},{\"type\":\"model\",\"name\":\"drag1\",\"properties\":[{\"name\":\"slider_width\",\"kind\":\"Any\",\"default\":5},{\"name\":\"slider_color\",\"kind\":\"Any\",\"default\":\"black\"},{\"name\":\"value\",\"kind\":\"Any\",\"default\":50}]},{\"type\":\"model\",\"name\":\"click1\",\"properties\":[{\"name\":\"terminal_output\",\"kind\":\"Any\",\"default\":\"\"},{\"name\":\"debug_name\",\"kind\":\"Any\",\"default\":\"\"},{\"name\":\"clears\",\"kind\":\"Any\",\"default\":0}]},{\"type\":\"model\",\"name\":\"FastWrapper1\",\"properties\":[{\"name\":\"object\",\"kind\":\"Any\",\"default\":null},{\"name\":\"style\",\"kind\":\"Any\",\"default\":null}]},{\"type\":\"model\",\"name\":\"NotificationAreaBase1\",\"properties\":[{\"name\":\"js_events\",\"kind\":\"Any\",\"default\":{\"type\":\"map\"}},{\"name\":\"position\",\"kind\":\"Any\",\"default\":\"bottom-right\"},{\"name\":\"_clear\",\"kind\":\"Any\",\"default\":0}]},{\"type\":\"model\",\"name\":\"NotificationArea1\",\"properties\":[{\"name\":\"js_events\",\"kind\":\"Any\",\"default\":{\"type\":\"map\"}},{\"name\":\"notifications\",\"kind\":\"Any\",\"default\":[]},{\"name\":\"position\",\"kind\":\"Any\",\"default\":\"bottom-right\"},{\"name\":\"_clear\",\"kind\":\"Any\",\"default\":0},{\"name\":\"types\",\"kind\":\"Any\",\"default\":[{\"type\":\"map\",\"entries\":[[\"type\",\"warning\"],[\"background\",\"#ffc107\"],[\"icon\",{\"type\":\"map\",\"entries\":[[\"className\",\"fas fa-exclamation-triangle\"],[\"tagName\",\"i\"],[\"color\",\"white\"]]}]]},{\"type\":\"map\",\"entries\":[[\"type\",\"info\"],[\"background\",\"#007bff\"],[\"icon\",{\"type\":\"map\",\"entries\":[[\"className\",\"fas fa-info-circle\"],[\"tagName\",\"i\"],[\"color\",\"white\"]]}]]}]}]},{\"type\":\"model\",\"name\":\"Notification\",\"properties\":[{\"name\":\"background\",\"kind\":\"Any\",\"default\":null},{\"name\":\"duration\",\"kind\":\"Any\",\"default\":3000},{\"name\":\"icon\",\"kind\":\"Any\",\"default\":null},{\"name\":\"message\",\"kind\":\"Any\",\"default\":\"\"},{\"name\":\"notification_type\",\"kind\":\"Any\",\"default\":null},{\"name\":\"_destroyed\",\"kind\":\"Any\",\"default\":false}]},{\"type\":\"model\",\"name\":\"TemplateActions1\",\"properties\":[{\"name\":\"open_modal\",\"kind\":\"Any\",\"default\":0},{\"name\":\"close_modal\",\"kind\":\"Any\",\"default\":0}]},{\"type\":\"model\",\"name\":\"BootstrapTemplateActions1\",\"properties\":[{\"name\":\"open_modal\",\"kind\":\"Any\",\"default\":0},{\"name\":\"close_modal\",\"kind\":\"Any\",\"default\":0}]},{\"type\":\"model\",\"name\":\"TemplateEditor1\",\"properties\":[{\"name\":\"layout\",\"kind\":\"Any\",\"default\":[]}]},{\"type\":\"model\",\"name\":\"MaterialTemplateActions1\",\"properties\":[{\"name\":\"open_modal\",\"kind\":\"Any\",\"default\":0},{\"name\":\"close_modal\",\"kind\":\"Any\",\"default\":0}]},{\"type\":\"model\",\"name\":\"copy_to_clipboard1\",\"properties\":[{\"name\":\"fill\",\"kind\":\"Any\",\"default\":\"none\"},{\"name\":\"value\",\"kind\":\"Any\",\"default\":null}]}]}};\n  const render_items = [{\"docid\":\"d9f4ae2b-c5f8-4560-81fd-c34f5218bc5f\",\"roots\":{\"p8488\":\"bc064796-0231-4fd0-a6bd-5be3724e90f8\"},\"root_ids\":[\"p8488\"]}];\n  void root.Bokeh.embed.embed_items_notebook(docs_json, render_items);\n  }\n  if (root.Bokeh !== undefined) {\n    embed_document(root);\n  } else {\n    let attempts = 0;\n    const timer = setInterval(function(root) {\n      if (root.Bokeh !== undefined) {\n        clearInterval(timer);\n        embed_document(root);\n      } else {\n        attempts++;\n        if (attempts > 100) {\n          clearInterval(timer);\n          console.log(\"Bokeh: ERROR: Unable to run BokehJS code because BokehJS library is missing\");\n        }\n      }\n    }, 10, root)\n  }\n})(window);",
      "application/vnd.bokehjs_exec.v0+json": ""
     },
     "metadata": {
      "application/vnd.bokehjs_exec.v0+json": {
       "id": "p8488"
      }
     },
     "output_type": "display_data"
    }
   ],
   "source": [
    "import MASSiveChem.MASSiveChem as MC\n",
    "from bokeh.plotting import output_notebook, show\n",
    "\n",
    "output_notebook() #not necessary if you want to plot the image outside the notebook\n",
    "\n",
    "mol_smi = 'CC1(C(N2C(S1)C(C2=O)NC(=O)CC3=CC=CC=C3)C(=O)O)C'\n",
    "\n",
    "output = MC.mol_web_show(mol_smi)\n",
    "\n",
    "show(output)"
   ]
  },
  {
   "cell_type": "markdown",
   "metadata": {},
   "source": [
    "## all_in_one(p1, p2, p3)\n",
    "\n",
    "This function takes as an input 3 bokeh plots and put them together in one bokeh interface\n",
    "\n",
    "If one wants to change the position of the graphs, they would have to change the order of the bokeh figures when calling the function. The function works for every bokeh plot not only those of this package "
   ]
  },
  {
   "cell_type": "code",
   "execution_count": 76,
   "metadata": {},
   "outputs": [
    {
     "data": {
      "text/html": [
       "    <style>\n",
       "        .bk-notebook-logo {\n",
       "            display: block;\n",
       "            width: 20px;\n",
       "            height: 20px;\n",
       "            background-image: url(data:image/png;base64,iVBORw0KGgoAAAANSUhEUgAAABQAAAAUCAYAAACNiR0NAAAABHNCSVQICAgIfAhkiAAAAAlwSFlzAAALEgAACxIB0t1+/AAAABx0RVh0U29mdHdhcmUAQWRvYmUgRmlyZXdvcmtzIENTNui8sowAAAOkSURBVDiNjZRtaJVlGMd/1/08zzln5zjP1LWcU9N0NkN8m2CYjpgQYQXqSs0I84OLIC0hkEKoPtiH3gmKoiJDU7QpLgoLjLIQCpEsNJ1vqUOdO7ppbuec5+V+rj4ctwzd8IIbbi6u+8f1539dt3A78eXC7QizUF7gyV1fD1Yqg4JWz84yffhm0qkFqBogB9rM8tZdtwVsPUhWhGcFJngGeWrPzHm5oaMmkfEg1usvLFyc8jLRqDOMru7AyC8saQr7GG7f5fvDeH7Ej8CM66nIF+8yngt6HWaKh7k49Soy9nXurCi1o3qUbS3zWfrYeQDTB/Qj6kX6Ybhw4B+bOYoLKCC9H3Nu/leUTZ1JdRWkkn2ldcCamzrcf47KKXdAJllSlxAOkRgyHsGC/zRday5Qld9DyoM4/q/rUoy/CXh3jzOu3bHUVZeU+DEn8FInkPBFlu3+nW3Nw0mk6vCDiWg8CeJaxEwuHS3+z5RgY+YBR6V1Z1nxSOfoaPa4LASWxxdNp+VWTk7+4vzaou8v8PN+xo+KY2xsw6une2frhw05CTYOmQvsEhjhWjn0bmXPjpE1+kplmmkP3suftwTubK9Vq22qKmrBhpY4jvd5afdRA3wGjFAgcnTK2s4hY0/GPNIb0nErGMCRxWOOX64Z8RAC4oCXdklmEvcL8o0BfkNK4lUg9HTl+oPlQxdNo3Mg4Nv175e/1LDGzZen30MEjRUtmXSfiTVu1kK8W4txyV6BMKlbgk3lMwYCiusNy9fVfvvwMxv8Ynl6vxoByANLTWplvuj/nF9m2+PDtt1eiHPBr1oIfhCChQMBw6Aw0UulqTKZdfVvfG7VcfIqLG9bcldL/+pdWTLxLUy8Qq38heUIjh4XlzZxzQm19lLFlr8vdQ97rjZVOLf8nclzckbcD4wxXMidpX30sFd37Fv/GtwwhzhxGVAprjbg0gCAEeIgwCZyTV2Z1REEW8O4py0wsjeloKoMr6iCY6dP92H6Vw/oTyICIthibxjm/DfN9lVz8IqtqKYLUXfoKVMVQVVJOElGjrnnUt9T9wbgp8AyYKaGlqingHZU/uG2NTZSVqwHQTWkx9hxjkpWDaCg6Ckj5qebgBVbT3V3NNXMSiWSDdGV3hrtzla7J+duwPOToIg42ChPQOQjspnSlp1V+Gjdged7+8UN5CRAV7a5EdFNwCjEaBR27b3W890TE7g24NAP/mMDXRWrGoFPQI9ls/MWO2dWFAar/xcOIImbbpA3zgAAAABJRU5ErkJggg==);\n",
       "        }\n",
       "    </style>\n",
       "    <div>\n",
       "        <a href=\"https://bokeh.org\" target=\"_blank\" class=\"bk-notebook-logo\"></a>\n",
       "        <span id=\"d8ea6f74-ba83-4259-adec-7b7024b57521\">Loading BokehJS ...</span>\n",
       "    </div>\n"
      ]
     },
     "metadata": {},
     "output_type": "display_data"
    },
    {
     "data": {
      "application/javascript": "'use strict';\n(function(root) {\n  function now() {\n    return new Date();\n  }\n\n  const force = true;\n\n  if (typeof root._bokeh_onload_callbacks === \"undefined\" || force === true) {\n    root._bokeh_onload_callbacks = [];\n    root._bokeh_is_loading = undefined;\n  }\n\nconst JS_MIME_TYPE = 'application/javascript';\n  const HTML_MIME_TYPE = 'text/html';\n  const EXEC_MIME_TYPE = 'application/vnd.bokehjs_exec.v0+json';\n  const CLASS_NAME = 'output_bokeh rendered_html';\n\n  /**\n   * Render data to the DOM node\n   */\n  function render(props, node) {\n    const script = document.createElement(\"script\");\n    node.appendChild(script);\n  }\n\n  /**\n   * Handle when an output is cleared or removed\n   */\n  function handleClearOutput(event, handle) {\n    function drop(id) {\n      const view = Bokeh.index.get_by_id(id)\n      if (view != null) {\n        view.model.document.clear()\n        Bokeh.index.delete(view)\n      }\n    }\n\n    const cell = handle.cell;\n\n    const id = cell.output_area._bokeh_element_id;\n    const server_id = cell.output_area._bokeh_server_id;\n\n    // Clean up Bokeh references\n    if (id != null) {\n      drop(id)\n    }\n\n    if (server_id !== undefined) {\n      // Clean up Bokeh references\n      const cmd_clean = \"from bokeh.io.state import curstate; print(curstate().uuid_to_server['\" + server_id + \"'].get_sessions()[0].document.roots[0]._id)\";\n      cell.notebook.kernel.execute(cmd_clean, {\n        iopub: {\n          output: function(msg) {\n            const id = msg.content.text.trim()\n            drop(id)\n          }\n        }\n      });\n      // Destroy server and session\n      const cmd_destroy = \"import bokeh.io.notebook as ion; ion.destroy_server('\" + server_id + \"')\";\n      cell.notebook.kernel.execute(cmd_destroy);\n    }\n  }\n\n  /**\n   * Handle when a new output is added\n   */\n  function handleAddOutput(event, handle) {\n    const output_area = handle.output_area;\n    const output = handle.output;\n\n    // limit handleAddOutput to display_data with EXEC_MIME_TYPE content only\n    if ((output.output_type != \"display_data\") || (!Object.prototype.hasOwnProperty.call(output.data, EXEC_MIME_TYPE))) {\n      return\n    }\n\n    const toinsert = output_area.element.find(\".\" + CLASS_NAME.split(' ')[0]);\n\n    if (output.metadata[EXEC_MIME_TYPE][\"id\"] !== undefined) {\n      toinsert[toinsert.length - 1].firstChild.textContent = output.data[JS_MIME_TYPE];\n      // store reference to embed id on output_area\n      output_area._bokeh_element_id = output.metadata[EXEC_MIME_TYPE][\"id\"];\n    }\n    if (output.metadata[EXEC_MIME_TYPE][\"server_id\"] !== undefined) {\n      const bk_div = document.createElement(\"div\");\n      bk_div.innerHTML = output.data[HTML_MIME_TYPE];\n      const script_attrs = bk_div.children[0].attributes;\n      for (let i = 0; i < script_attrs.length; i++) {\n        toinsert[toinsert.length - 1].firstChild.setAttribute(script_attrs[i].name, script_attrs[i].value);\n        toinsert[toinsert.length - 1].firstChild.textContent = bk_div.children[0].textContent\n      }\n      // store reference to server id on output_area\n      output_area._bokeh_server_id = output.metadata[EXEC_MIME_TYPE][\"server_id\"];\n    }\n  }\n\n  function register_renderer(events, OutputArea) {\n\n    function append_mime(data, metadata, element) {\n      // create a DOM node to render to\n      const toinsert = this.create_output_subarea(\n        metadata,\n        CLASS_NAME,\n        EXEC_MIME_TYPE\n      );\n      this.keyboard_manager.register_events(toinsert);\n      // Render to node\n      const props = {data: data, metadata: metadata[EXEC_MIME_TYPE]};\n      render(props, toinsert[toinsert.length - 1]);\n      element.append(toinsert);\n      return toinsert\n    }\n\n    /* Handle when an output is cleared or removed */\n    events.on('clear_output.CodeCell', handleClearOutput);\n    events.on('delete.Cell', handleClearOutput);\n\n    /* Handle when a new output is added */\n    events.on('output_added.OutputArea', handleAddOutput);\n\n    /**\n     * Register the mime type and append_mime function with output_area\n     */\n    OutputArea.prototype.register_mime_type(EXEC_MIME_TYPE, append_mime, {\n      /* Is output safe? */\n      safe: true,\n      /* Index of renderer in `output_area.display_order` */\n      index: 0\n    });\n  }\n\n  // register the mime type if in Jupyter Notebook environment and previously unregistered\n  if (root.Jupyter !== undefined) {\n    const events = require('base/js/events');\n    const OutputArea = require('notebook/js/outputarea').OutputArea;\n\n    if (OutputArea.prototype.mime_types().indexOf(EXEC_MIME_TYPE) == -1) {\n      register_renderer(events, OutputArea);\n    }\n  }\n  if (typeof (root._bokeh_timeout) === \"undefined\" || force === true) {\n    root._bokeh_timeout = Date.now() + 5000;\n    root._bokeh_failed_load = false;\n  }\n\n  const NB_LOAD_WARNING = {'data': {'text/html':\n     \"<div style='background-color: #fdd'>\\n\"+\n     \"<p>\\n\"+\n     \"BokehJS does not appear to have successfully loaded. If loading BokehJS from CDN, this \\n\"+\n     \"may be due to a slow or bad network connection. Possible fixes:\\n\"+\n     \"</p>\\n\"+\n     \"<ul>\\n\"+\n     \"<li>re-rerun `output_notebook()` to attempt to load from CDN again, or</li>\\n\"+\n     \"<li>use INLINE resources instead, as so:</li>\\n\"+\n     \"</ul>\\n\"+\n     \"<code>\\n\"+\n     \"from bokeh.resources import INLINE\\n\"+\n     \"output_notebook(resources=INLINE)\\n\"+\n     \"</code>\\n\"+\n     \"</div>\"}};\n\n  function display_loaded(error = null) {\n    const el = document.getElementById(\"d8ea6f74-ba83-4259-adec-7b7024b57521\");\n    if (el != null) {\n      const html = (() => {\n        if (typeof root.Bokeh === \"undefined\") {\n          if (error == null) {\n            return \"BokehJS is loading ...\";\n          } else {\n            return \"BokehJS failed to load.\";\n          }\n        } else {\n          const prefix = `BokehJS ${root.Bokeh.version}`;\n          if (error == null) {\n            return `${prefix} successfully loaded.`;\n          } else {\n            return `${prefix} <b>encountered errors</b> while loading and may not function as expected.`;\n          }\n        }\n      })();\n      el.innerHTML = html;\n\n      if (error != null) {\n        const wrapper = document.createElement(\"div\");\n        wrapper.style.overflow = \"auto\";\n        wrapper.style.height = \"5em\";\n        wrapper.style.resize = \"vertical\";\n        const content = document.createElement(\"div\");\n        content.style.fontFamily = \"monospace\";\n        content.style.whiteSpace = \"pre-wrap\";\n        content.style.backgroundColor = \"rgb(255, 221, 221)\";\n        content.textContent = error.stack ?? error.toString();\n        wrapper.append(content);\n        el.append(wrapper);\n      }\n    } else if (Date.now() < root._bokeh_timeout) {\n      setTimeout(() => display_loaded(error), 100);\n    }\n  }\n\n  function run_callbacks() {\n    try {\n      root._bokeh_onload_callbacks.forEach(function(callback) {\n        if (callback != null)\n          callback();\n      });\n    } finally {\n      delete root._bokeh_onload_callbacks\n    }\n    console.debug(\"Bokeh: all callbacks have finished\");\n  }\n\n  function load_libs(css_urls, js_urls, callback) {\n    if (css_urls == null) css_urls = [];\n    if (js_urls == null) js_urls = [];\n\n    root._bokeh_onload_callbacks.push(callback);\n    if (root._bokeh_is_loading > 0) {\n      console.debug(\"Bokeh: BokehJS is being loaded, scheduling callback at\", now());\n      return null;\n    }\n    if (js_urls == null || js_urls.length === 0) {\n      run_callbacks();\n      return null;\n    }\n    console.debug(\"Bokeh: BokehJS not loaded, scheduling load and callback at\", now());\n    root._bokeh_is_loading = css_urls.length + js_urls.length;\n\n    function on_load() {\n      root._bokeh_is_loading--;\n      if (root._bokeh_is_loading === 0) {\n        console.debug(\"Bokeh: all BokehJS libraries/stylesheets loaded\");\n        run_callbacks()\n      }\n    }\n\n    function on_error(url) {\n      console.error(\"failed to load \" + url);\n    }\n\n    for (let i = 0; i < css_urls.length; i++) {\n      const url = css_urls[i];\n      const element = document.createElement(\"link\");\n      element.onload = on_load;\n      element.onerror = on_error.bind(null, url);\n      element.rel = \"stylesheet\";\n      element.type = \"text/css\";\n      element.href = url;\n      console.debug(\"Bokeh: injecting link tag for BokehJS stylesheet: \", url);\n      document.body.appendChild(element);\n    }\n\n    for (let i = 0; i < js_urls.length; i++) {\n      const url = js_urls[i];\n      const element = document.createElement('script');\n      element.onload = on_load;\n      element.onerror = on_error.bind(null, url);\n      element.async = false;\n      element.src = url;\n      console.debug(\"Bokeh: injecting script tag for BokehJS library: \", url);\n      document.head.appendChild(element);\n    }\n  };\n\n  function inject_raw_css(css) {\n    const element = document.createElement(\"style\");\n    element.appendChild(document.createTextNode(css));\n    document.body.appendChild(element);\n  }\n\n  const js_urls = [\"static/extensions/panel/bundled/jquery/jquery.slim.min.js\", \"static/extensions/panel/bundled/plotlyplot/plotly-2.31.1.min.js\", \"https://cdn.bokeh.org/bokeh/release/bokeh-3.4.1.min.js\", \"https://cdn.bokeh.org/bokeh/release/bokeh-gl-3.4.1.min.js\", \"https://cdn.bokeh.org/bokeh/release/bokeh-widgets-3.4.1.min.js\", \"https://cdn.bokeh.org/bokeh/release/bokeh-tables-3.4.1.min.js\", \"https://cdn.bokeh.org/bokeh/release/bokeh-mathjax-3.4.1.min.js\", \"https://unpkg.com/@holoviz/panel@1.4.2/dist/panel.min.js\"];\n  const css_urls = [];\n\n  const inline_js = [    function(Bokeh) {\n      Bokeh.set_log_level(\"info\");\n    },\nfunction(Bokeh) {\n    }\n  ];\n\n  function run_inline_js() {\n    if (root.Bokeh !== undefined || force === true) {\n      try {\n            for (let i = 0; i < inline_js.length; i++) {\n      inline_js[i].call(root, root.Bokeh);\n    }\n\n      } catch (error) {display_loaded(error);throw error;\n      }if (force === true) {\n        display_loaded();\n      }} else if (Date.now() < root._bokeh_timeout) {\n      setTimeout(run_inline_js, 100);\n    } else if (!root._bokeh_failed_load) {\n      console.log(\"Bokeh: BokehJS failed to load within specified timeout.\");\n      root._bokeh_failed_load = true;\n    } else if (force !== true) {\n      const cell = $(document.getElementById(\"d8ea6f74-ba83-4259-adec-7b7024b57521\")).parents('.cell').data().cell;\n      cell.output_area.append_execute_result(NB_LOAD_WARNING)\n    }\n  }\n\n  if (root._bokeh_is_loading === 0) {\n    console.debug(\"Bokeh: BokehJS loaded, going straight to plotting\");\n    run_inline_js();\n  } else {\n    load_libs(css_urls, js_urls, function() {\n      console.debug(\"Bokeh: BokehJS plotting callback run at\", now());\n      run_inline_js();\n    });\n  }\n}(window));",
      "application/vnd.bokehjs_load.v0+json": ""
     },
     "metadata": {},
     "output_type": "display_data"
    },
    {
     "name": "stdout",
     "output_type": "stream",
     "text": [
      "here\n"
     ]
    },
    {
     "data": {
      "text/html": [
       "\n",
       "  <div id=\"dddb7048-7930-4ee9-8547-aacdf071d5a2\" data-root-id=\"p8733\" style=\"display: contents;\"></div>\n"
      ]
     },
     "metadata": {},
     "output_type": "display_data"
    },
    {
     "data": {
      "application/javascript": "(function(root) {\n  function embed_document(root) {\n  const docs_json = {\"5a5a16a0-d48a-4aca-841e-349afc719df3\":{\"version\":\"3.4.1\",\"title\":\"Bokeh Application\",\"roots\":[{\"type\":\"object\",\"name\":\"Row\",\"id\":\"p8733\",\"attributes\":{\"children\":[{\"type\":\"object\",\"name\":\"Column\",\"id\":\"p8714\",\"attributes\":{\"children\":[{\"type\":\"object\",\"name\":\"Figure\",\"id\":\"p8554\",\"attributes\":{\"height\":500,\"x_range\":{\"type\":\"object\",\"name\":\"DataRange1d\",\"id\":\"p8555\",\"attributes\":{\"js_property_callbacks\":{\"type\":\"map\",\"entries\":[[\"change:start\",[{\"type\":\"object\",\"name\":\"CustomJS\",\"id\":\"p8712\",\"attributes\":{\"args\":{\"type\":\"map\",\"entries\":[[\"box\",{\"type\":\"object\",\"name\":\"BoxAnnotation\",\"id\":\"p8707\",\"attributes\":{\"left\":0,\"right\":0,\"top\":0,\"bottom\":0,\"line_color\":\"red\",\"fill_color\":\"cornflowerblue\",\"fill_alpha\":0.1}}]]},\"code\":\"\\n        box['left'] = cb_obj.start\\n        box['right'] = cb_obj.end\\n    \"}}]],[\"change:end\",[{\"id\":\"p8712\"}]]]}}},\"y_range\":{\"type\":\"object\",\"name\":\"DataRange1d\",\"id\":\"p8556\",\"attributes\":{\"js_property_callbacks\":{\"type\":\"map\",\"entries\":[[\"change:start\",[{\"type\":\"object\",\"name\":\"CustomJS\",\"id\":\"p8713\",\"attributes\":{\"args\":{\"type\":\"map\",\"entries\":[[\"box\",{\"id\":\"p8707\"}]]},\"code\":\"\\n        box['bottom'] = cb_obj.start\\n        box['top'] = cb_obj.end\\n    \"}}]],[\"change:end\",[{\"id\":\"p8713\"}]]]}}},\"x_scale\":{\"type\":\"object\",\"name\":\"LinearScale\",\"id\":\"p8563\"},\"y_scale\":{\"type\":\"object\",\"name\":\"LinearScale\",\"id\":\"p8564\"},\"title\":{\"type\":\"object\",\"name\":\"Title\",\"id\":\"p8561\"},\"renderers\":[{\"type\":\"object\",\"name\":\"GlyphRenderer\",\"id\":\"p8595\",\"attributes\":{\"data_source\":{\"type\":\"object\",\"name\":\"ColumnDataSource\",\"id\":\"p8589\",\"attributes\":{\"selected\":{\"type\":\"object\",\"name\":\"Selection\",\"id\":\"p8590\",\"attributes\":{\"indices\":[],\"line_indices\":[]}},\"selection_policy\":{\"type\":\"object\",\"name\":\"UnionRenderers\",\"id\":\"p8591\"},\"data\":{\"type\":\"map\",\"entries\":[[\"x\",[333.21807812500003,333.71807812500003,333.71807812500003,333.71807812500003,334.09,334.09,334.09,335.082,335.082,335.082,335.086,335.086,335.086,335.092,335.092,335.092,336.092]],[\"y\",[0,0,0.8310629277992183,0,0,0.006245168595575361,0,0,0.006245168595575361,0,0,0.006055133670000204,0,0,0.14507698506191508,0,0]]]}}},\"view\":{\"type\":\"object\",\"name\":\"CDSView\",\"id\":\"p8596\",\"attributes\":{\"filter\":{\"type\":\"object\",\"name\":\"AllIndices\",\"id\":\"p8597\"}}},\"glyph\":{\"type\":\"object\",\"name\":\"Line\",\"id\":\"p8592\",\"attributes\":{\"x\":{\"type\":\"field\",\"field\":\"x\"},\"y\":{\"type\":\"field\",\"field\":\"y\"},\"line_color\":\"#1f77b4\"}},\"nonselection_glyph\":{\"type\":\"object\",\"name\":\"Line\",\"id\":\"p8593\",\"attributes\":{\"x\":{\"type\":\"field\",\"field\":\"x\"},\"y\":{\"type\":\"field\",\"field\":\"y\"},\"line_color\":\"#1f77b4\",\"line_alpha\":0.1}},\"muted_glyph\":{\"type\":\"object\",\"name\":\"Line\",\"id\":\"p8594\",\"attributes\":{\"x\":{\"type\":\"field\",\"field\":\"x\"},\"y\":{\"type\":\"field\",\"field\":\"y\"},\"line_color\":\"#1f77b4\",\"line_alpha\":0.2}}}}],\"toolbar\":{\"type\":\"object\",\"name\":\"Toolbar\",\"id\":\"p8562\",\"attributes\":{\"tools\":[{\"type\":\"object\",\"name\":\"PanTool\",\"id\":\"p8575\"},{\"type\":\"object\",\"name\":\"WheelZoomTool\",\"id\":\"p8576\",\"attributes\":{\"renderers\":\"auto\"}},{\"type\":\"object\",\"name\":\"BoxZoomTool\",\"id\":\"p8577\",\"attributes\":{\"overlay\":{\"type\":\"object\",\"name\":\"BoxAnnotation\",\"id\":\"p8578\",\"attributes\":{\"syncable\":false,\"level\":\"overlay\",\"visible\":false,\"left\":{\"type\":\"number\",\"value\":\"nan\"},\"right\":{\"type\":\"number\",\"value\":\"nan\"},\"top\":{\"type\":\"number\",\"value\":\"nan\"},\"bottom\":{\"type\":\"number\",\"value\":\"nan\"},\"left_units\":\"canvas\",\"right_units\":\"canvas\",\"top_units\":\"canvas\",\"bottom_units\":\"canvas\",\"line_color\":\"black\",\"line_alpha\":1.0,\"line_width\":2,\"line_dash\":[4,4],\"fill_color\":\"lightgrey\",\"fill_alpha\":0.5}}}},{\"type\":\"object\",\"name\":\"SaveTool\",\"id\":\"p8583\"},{\"type\":\"object\",\"name\":\"ResetTool\",\"id\":\"p8584\"},{\"type\":\"object\",\"name\":\"HelpTool\",\"id\":\"p8585\"},{\"type\":\"object\",\"name\":\"WheelPanTool\",\"id\":\"p8587\",\"attributes\":{\"dimension\":\"height\"}},{\"type\":\"object\",\"name\":\"WheelZoomTool\",\"id\":\"p8588\",\"attributes\":{\"dimensions\":\"height\",\"renderers\":\"auto\"}}]}},\"left\":[{\"type\":\"object\",\"name\":\"LinearAxis\",\"id\":\"p8570\",\"attributes\":{\"ticker\":{\"type\":\"object\",\"name\":\"BasicTicker\",\"id\":\"p8571\",\"attributes\":{\"mantissas\":[1,2,5]}},\"formatter\":{\"type\":\"object\",\"name\":\"BasicTickFormatter\",\"id\":\"p8572\"},\"axis_label\":\"Abundance\",\"major_label_policy\":{\"type\":\"object\",\"name\":\"AllLabels\",\"id\":\"p8573\"}}}],\"below\":[{\"type\":\"object\",\"name\":\"LinearAxis\",\"id\":\"p8565\",\"attributes\":{\"ticker\":{\"type\":\"object\",\"name\":\"FixedTicker\",\"id\":\"p8586\",\"attributes\":{\"ticks\":[333.71807812500003,334.09,335.082,335.086,335.092],\"minor_ticks\":[]}},\"formatter\":{\"type\":\"object\",\"name\":\"BasicTickFormatter\",\"id\":\"p8567\"},\"axis_label\":\"[m/z]\",\"major_label_policy\":{\"type\":\"object\",\"name\":\"AllLabels\",\"id\":\"p8568\"}}}],\"center\":[{\"type\":\"object\",\"name\":\"Grid\",\"id\":\"p8569\",\"attributes\":{\"axis\":{\"id\":\"p8565\"}}},{\"type\":\"object\",\"name\":\"Grid\",\"id\":\"p8574\",\"attributes\":{\"dimension\":1,\"axis\":{\"id\":\"p8570\"}}}]}},{\"type\":\"object\",\"name\":\"Figure\",\"id\":\"p8664\",\"attributes\":{\"height\":300,\"x_range\":{\"type\":\"object\",\"name\":\"DataRange1d\",\"id\":\"p8665\"},\"y_range\":{\"type\":\"object\",\"name\":\"DataRange1d\",\"id\":\"p8666\"},\"x_scale\":{\"type\":\"object\",\"name\":\"LinearScale\",\"id\":\"p8673\"},\"y_scale\":{\"type\":\"object\",\"name\":\"LinearScale\",\"id\":\"p8674\"},\"title\":{\"type\":\"object\",\"name\":\"Title\",\"id\":\"p8671\"},\"renderers\":[{\"type\":\"object\",\"name\":\"GlyphRenderer\",\"id\":\"p8702\",\"attributes\":{\"data_source\":{\"type\":\"object\",\"name\":\"ColumnDataSource\",\"id\":\"p8696\",\"attributes\":{\"selected\":{\"type\":\"object\",\"name\":\"Selection\",\"id\":\"p8697\",\"attributes\":{\"indices\":[],\"line_indices\":[]}},\"selection_policy\":{\"type\":\"object\",\"name\":\"UnionRenderers\",\"id\":\"p8698\"},\"data\":{\"type\":\"map\",\"entries\":[[\"x\",[333.21807812500003,333.71807812500003,333.71807812500003,333.71807812500003,334.09,334.09,334.09,335.082,335.082,335.082,335.086,335.086,335.086,335.092,335.092,335.092,336.092]],[\"y\",[0,0,0.8310629277992183,0,0,0.006245168595575361,0,0,0.006245168595575361,0,0,0.006055133670000204,0,0,0.14507698506191508,0,0]]]}}},\"view\":{\"type\":\"object\",\"name\":\"CDSView\",\"id\":\"p8703\",\"attributes\":{\"filter\":{\"type\":\"object\",\"name\":\"AllIndices\",\"id\":\"p8704\"}}},\"glyph\":{\"type\":\"object\",\"name\":\"Line\",\"id\":\"p8699\",\"attributes\":{\"x\":{\"type\":\"field\",\"field\":\"x\"},\"y\":{\"type\":\"field\",\"field\":\"y\"},\"line_color\":\"#1f77b4\"}},\"nonselection_glyph\":{\"type\":\"object\",\"name\":\"Line\",\"id\":\"p8700\",\"attributes\":{\"x\":{\"type\":\"field\",\"field\":\"x\"},\"y\":{\"type\":\"field\",\"field\":\"y\"},\"line_color\":\"#1f77b4\",\"line_alpha\":0.1}},\"muted_glyph\":{\"type\":\"object\",\"name\":\"Line\",\"id\":\"p8701\",\"attributes\":{\"x\":{\"type\":\"field\",\"field\":\"x\"},\"y\":{\"type\":\"field\",\"field\":\"y\"},\"line_color\":\"#1f77b4\",\"line_alpha\":0.2}}}}],\"toolbar\":{\"type\":\"object\",\"name\":\"Toolbar\",\"id\":\"p8672\",\"attributes\":{\"tools\":[{\"type\":\"object\",\"name\":\"PanTool\",\"id\":\"p8685\"},{\"type\":\"object\",\"name\":\"WheelZoomTool\",\"id\":\"p8686\",\"attributes\":{\"renderers\":\"auto\"}},{\"type\":\"object\",\"name\":\"BoxZoomTool\",\"id\":\"p8687\",\"attributes\":{\"overlay\":{\"type\":\"object\",\"name\":\"BoxAnnotation\",\"id\":\"p8688\",\"attributes\":{\"syncable\":false,\"level\":\"overlay\",\"visible\":false,\"left\":{\"type\":\"number\",\"value\":\"nan\"},\"right\":{\"type\":\"number\",\"value\":\"nan\"},\"top\":{\"type\":\"number\",\"value\":\"nan\"},\"bottom\":{\"type\":\"number\",\"value\":\"nan\"},\"left_units\":\"canvas\",\"right_units\":\"canvas\",\"top_units\":\"canvas\",\"bottom_units\":\"canvas\",\"line_color\":\"black\",\"line_alpha\":1.0,\"line_width\":2,\"line_dash\":[4,4],\"fill_color\":\"lightgrey\",\"fill_alpha\":0.5}}}},{\"type\":\"object\",\"name\":\"SaveTool\",\"id\":\"p8693\"},{\"type\":\"object\",\"name\":\"ResetTool\",\"id\":\"p8694\"},{\"type\":\"object\",\"name\":\"HelpTool\",\"id\":\"p8695\"}]}},\"toolbar_location\":null,\"left\":[{\"type\":\"object\",\"name\":\"LinearAxis\",\"id\":\"p8680\",\"attributes\":{\"ticker\":{\"type\":\"object\",\"name\":\"BasicTicker\",\"id\":\"p8681\",\"attributes\":{\"mantissas\":[1,2,5]}},\"formatter\":{\"type\":\"object\",\"name\":\"BasicTickFormatter\",\"id\":\"p8682\"},\"major_label_policy\":{\"type\":\"object\",\"name\":\"AllLabels\",\"id\":\"p8683\"}}}],\"below\":[{\"type\":\"object\",\"name\":\"LinearAxis\",\"id\":\"p8675\",\"attributes\":{\"ticker\":{\"type\":\"object\",\"name\":\"BasicTicker\",\"id\":\"p8676\",\"attributes\":{\"mantissas\":[1,2,5]}},\"formatter\":{\"type\":\"object\",\"name\":\"BasicTickFormatter\",\"id\":\"p8677\"},\"major_label_policy\":{\"type\":\"object\",\"name\":\"AllLabels\",\"id\":\"p8678\"}}}],\"center\":[{\"type\":\"object\",\"name\":\"Grid\",\"id\":\"p8679\",\"attributes\":{\"axis\":{\"id\":\"p8675\"}}},{\"type\":\"object\",\"name\":\"Grid\",\"id\":\"p8684\",\"attributes\":{\"dimension\":1,\"axis\":{\"id\":\"p8680\"}}},{\"type\":\"object\",\"name\":\"Legend\",\"id\":\"p8705\",\"attributes\":{\"items\":[{\"type\":\"object\",\"name\":\"LegendItem\",\"id\":\"p8706\",\"attributes\":{\"label\":{\"type\":\"value\",\"value\":\"Mass spectrum\"},\"renderers\":[{\"id\":\"p8702\"}]}}]}},{\"id\":\"p8707\"}]}}]}},{\"type\":\"object\",\"name\":\"Column\",\"id\":\"p8732\",\"attributes\":{\"children\":[{\"type\":\"object\",\"name\":\"Div\",\"id\":\"p8715\",\"attributes\":{\"text\":\"<img src=\\\"data:image/png;base64,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\\\" style=\\\"width:350px;height:350px;\\\">\"}},{\"type\":\"object\",\"name\":\"DataTable\",\"id\":\"p8726\",\"attributes\":{\"width\":250,\"height\":560,\"source\":{\"type\":\"object\",\"name\":\"ColumnDataSource\",\"id\":\"p8716\",\"attributes\":{\"selected\":{\"type\":\"object\",\"name\":\"Selection\",\"id\":\"p8717\",\"attributes\":{\"indices\":[],\"line_indices\":[]}},\"selection_policy\":{\"type\":\"object\",\"name\":\"UnionRenderers\",\"id\":\"p8718\"},\"data\":{\"type\":\"map\",\"entries\":[[\"groups\",[\"Carboxylic Acid\",\"Amide\",\"Amide\",\"Amine\",\"Sulfide\",\"Benzene\"]],[\"images\",[\"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\",\"iVBORw0KGgoAAAANSUhEUgAAASwAAAEsCAIAAAD2HxkiAAAS5klEQVR4nO3deXCU9RnA8ScLSbiPiBxyKQoiCIKCGNQBAetB1I6aam2jo44pY2dSpMVULA2epCISbLVSxyNqZzBW6QSqjhjqiQICMmAk4AVC5ZCEGxJInv7xvvAmGGCz++4+e3w/kz/eJPu+v1fMd/fd3d/7boqqCgA7AesdAJIdEQLGiBAwRoSAMSIEjBEhYIwIAWNECBgjQsAYEQLGiBAwRoSAMSIEjBEhYIwIAWNECBgjQsAYEQLGiBAwRoSAMSIEjBEhYIwIAWNECBgjQsAYEQLGiBAwRoSAMSIEjBEhYIwIAWNECBgjQsAYEQLGiBAwRoSAMSIEjBEhYIwIAWNECBgjQsAYEQLGiBAwRoSAMSIEjBEhYIwIAWNECBgjQsAYEQLGiBAwRoSAMSIEjBEhYIwIAWNECBgjQsAYEQLGiBAwRoSAMSIEjBEhYIwIAWNECBgjQsAYEQLGiBAwRoSAMSIEjBEhYIwIAWNECBgjQsAYEQLGiBAwRoSAMSIEjBEhYIwIAWNECBgjQsAYEQLGiBAwRoSAMSIEjBEhYIwIAWNECBgjQsAYEQLGiBAwRoSAMSIEjBEhYIwIAWNECBgjQsAYEQLGiBAwRoSAMSIEjBEhYIwIAWNECBgjQsAYEQLGiBAwRoSAMSIEjEU4wtpaqaqSw4cjOwoQz5r7vL2aGikrk3fekUWLZPNm2bHD/XnHjtKjh4weLT/7mVx+uaSn+zwuELdSVNWfLdXVyeuvy5Qp8tVXJ7lljx4ydarccYc09/suAIhDPkW4d69kZ8vbbzdhldGjZd486dDBh9GBeOZHhJWVcsUV8tln3k+6d5cbbpCxY6VXL2nXTnbtkk2bpKxMXn9dNm3ybjZokCxcKF26hLsDQDzzI8Ibb5TXX3eXU1OloEAmTZKWLRu55YED8vjj8uCD3ks1V14pb74pKSnh7gMQt8KO8MUX5fbb3eX0dCkpkWuvPckqb7whv/yl1NS43z71lNx9d1j7AMSz8CKsrZWzzpLvvnO/fewxmTw5qBWnT5cpU9zlzp1l40ZeL0XSCi/CefPk+uvd5QEDZNWqYF/wPHxYzjtPysvdb19+WX7969B3A3Hr2We9FxPS02XGjKDuje+5R/bvFxHp3l3+/OcGv3r8cfn6a3d55kxp1Sqo3Sgrk3/9y13OyZGRI4NayzcajuuuUxH364knmrbu7NneuuPGhbUbiFs33eT9FYjoAw8EtVaHDu7tBw8+9lcjR3pb27Ej2N14/HFvrWefbcL++yKMGTOqsnix9+3NNzdt9Vtu8V6PWbJEamtD3xMkikcflYoK652IujAi/Oor2b7dXe7ZU7p1a9rqnTpJnz7u8p498sUXoe8JEkV1tUyYIH7NH4kXYURY/y5r8OBQtjBkiLe8dm3oe4IE8t57Mneu9U5EVxgRVlZ6y6G94V5/raqq0PcECaF3b3dh0iTZudNyT6IsjAjr/zu1bRvKFtq395aJMOk99JC7sGWL3H+/6a5EVxgRVld7y6G9y9eihbd84EDoe4KEcNNNMmyYu/zMM/LJJ6Z7E0VhRNiunbe8d28oW9izx1vu2LHx2xw8KNu2hbJxxJuUFJkxw12uq5O7706WE1HDiLD+CRD1cwrerl3e8vEinDlT+vSRadMaPPAiQY0eLdnZ7vLnn8tf/2q6N9ESRoSdOnnLR2euNUn9tepvrb7Vq2XfPnngARk8WBYsCGUUxJWZM6V1a3f5T38K8S8rvoQR4dCh3rvtq1aF8ubOypUNttaouXPl3Xfl3HNl3Tq55hoZN07WrGn6viJu9Owpf/iDu7x/v/z+96Z7ExVhnNuekSF9+8q6dSIiu3fLmjUyaFATVq+okB9/dJd795bTTjvuLceOlZUr5fnn5f77paxMhg6VO+6QRx457oMn4ty998qLL8qGDSIib7wh8+fLNdeEsp2pUxu89ncCy5eHsn3fhDXp7a67vCl3997btHWnTPHWve22oFbZsUPz8rR5cxXRjAwtKtJDh5q+04gh9eeO1tR4P583z/t5r166Z0+DtYKcOxraV1zNHRWRu+7ylouLG7zQcmK7d8vzz3vf/uY3Qa2VkSGzZ8vq1XLllVJZKRMnyqBBTbumBuLEz38uWVnu8saN3luICSm8Sy0NHy4XXihLl4qIbN0q990nTz8d1IpTpsiWLe7yBRdIZmYTBu3fX956S+bPl4kTZe1aueoqycqS2bO9mahICE8+KWVl7vvHs2bJrbfKwIFN28L110taWlC3rKho8AJFtIX7UPrRR9qsmfdY/tBDJ1/lqac0JcW9fSCg770X4tDV1VpUpO3aqYimpWlenu7aFeKmYOR4h6OOBx/0fjtmjPdzTmVq6OKLvRezRGTqVLntNvnhh8ZvvG2b3Hmn/Pa33kupkybJqFEhDp2WJr/7naxdK7m5cviwPPmk9O8v//iH1NWFuEHEmPx8Oftsd3nRIiktNd2byPEh5OpqvfnmBs9tW7XS667Tv/1NS0v1ww91/nx9+mm9/npt3brBzbKztbrahx1Q1c8+04svdjd7wQX60Uf+bBYRduJHQlV95x3vBmeeqQcPqibcI6EfEapqba3ec493kHnSr5QUzcvT2lp/RnfU1WlJifbu7W4/O1u/+87P7SMCThqhqmZne7d57DHVhIvQp8+iCATkiSdk6VIZM+bkN87MlA8+kNmzJeDrJ2GkpEh2tpSXS0GBpKfLa6/JgAEybRpTw+Pd7NnePOVHH/U+WiFh+JrBsGFSViZffimzZklWlgwaJN26SYsW0rWrDBok48fLzJlSXi6LF8sll/g5bn2tWsm0abJ+veTkyIED8sAD0q+fvPRS0p2tnUC6dZOpU93lnTvl4YdN9yYSov3QG03//a+ed557kDFqlK5cab1DyW77dp0wQV95xftJMIejqnrokJ57rnuztDRNS+NwNBL++c8GV8j3xejRsmKFFBdL587y/vtywQVy662ydavPoyAIhw7J7NnSr58884zcf3+TL+vVvLn8/e/uVOWaGu/C0YkhNiL88ku5/XY5+2z54x9DPDXxeAIBufVWqaiQ/HxJTZWXX5b+/eUvf+HEqGgqK5Pzz5eJE6WqSsaOlQULpFmzJm/kkkskJycCOxe0DRvkvvtkyBDJyJDmzaVHD7npJvnwQz82He2H3kZt3Oi9BNa7t776akRGqajQrCx3lL59df78iIyCetat8/7H9u2rJSXH3iDIw1HH1q3asWODV9mjdjg6a5ampjb+Mv+0acGOcjyxEaHj0091xAj3P27ECP3kk4iMsnChDhzojjJunK5ZE5FRkt6ePVpQoOnpKqKtW2tBgfsW3zGaFKGqPvWUQYQvvOD+6txz9cUXdc0aXbNGX3hBe/Rwfz5vXrADNSqWIlTV2lotLtYuXVREAwHNydEtW/wfpaZGi4rcN5tSUzU3V7dv93+UZNWk/4dNjbC21rujjk6EdXV61lkqopddpvv2NfjV6tXulM0RI4IdqFExFqGj/r1omzbHvRcNk3NilPOv6JwYdfiw/6MkmU8/1Ysucv+aL7zw5EczDz+s48a5X0Gel7ZsmbdKbu6xv5040fvt7t3B7vZrr3lrvfnmsb/dtUtnzNDvv29kRef5TSCge/cGO9ZPxWSEjpM+n/DFypU6apQ7yjnn6NtvR2SUJPD995qT406a6t5di4u1rs56nyJv8mT3b+ebb0LfSAxH6Hj3Xe8dorFjdfXqiIxSWqpnnOGOkpUV1r9o8tm3TwsLtU0bFdFWrTQ//9hzcBNYXp77V7NtW+gbifkIVfXQIZ0zRzt1UhFt3jxST+GcE6PatnXfD87La8LRTBIrLXWn6zp3X99+a71D0TVmjIroqaeGNQ86HiJ0/PQpXCSubfH99/qrXzkHVS+NH//KK6/UJcNBVUiWL9dLLnHzO/98/eAD6x2KunXrNBBQEb3zzrC2Ez8ROsrL9cor3f/z/fvrW29FZJTFi7fdcEMgJUVEMjMzly5dGpFR4tb27d79YadOyfuSlvPSbrNmWl4e1nbiLUJHaan26eMdA339te8j1NXVlZSU9OrVS0RSUlKys7M3bNjg+yhxx3lzx7mYQWpqUl/MYM4c9w/wvvvC3VR8RqhRurbF3r17CwoKWrRoISKtW7cuKCg4cOCA76PEi9JSPfNMb5pDmHf/ca201J1EPnq0D+elx22Ejv/9T3Nz3QPzbt10zhyfTxRWVdWNGzfmHJm22LNnz+LiYt+HiHFr1+pVV7n5nX22/uc/1jtk6t//dgscMkSrqnzYYJxH6Fi2LArXtli0aNHgI5+Fetlll61atSoSo8SaykrvUq8dO2phoW8XJIlTs2a5T4aHD9fKSn+2mRAR6pFrW/Tq5U6qjcy1LWpra4uLizt37iwigUAgJydn69atvo8SI5w3hk491XtjKJy3whLAwYN6553uXf0ttxw7hS0ciRKhY98+LSjQFi3ct40LCnT/ft8HqayszM/PT0tLE5GOHTsWFhZWJ9yjQ1mZDhrk/sGNGaPJ8ah/It99507Ha9ZMCwt93nhiReioP4GqR48ITaBau3bt1Vdf7Ryd9uvXb8GCBb4PYWL9em+y4FlnRWqyYHx59VX3FUCnwM8+a+Trhx9C334iRuiIyrUtFi5cOGDAACfFcePGffHFF5EYJTr27vUOI5yTj5L4lWDPpk2NnEb4069HHgl9iMSNUI+cVNO5c0RPjKqpqSkqKmrfvr2IpKam5uXl7dy50/dRIqquTouLtWtX9wl1Tk5Y9+sJZvNm7dPn5F9PPx36EAkdoaOqSvPz3ROjOnTQwsJInBj1448/5uXlNWvWTEROOeWUoqKiw3Eyi2TpUs3MdO/Ohw/XxYutdyj5JEGEjvrXtujXL0LXtlixYsWll17qHJ0OHTr0/fffj8Qoftm0KRlPPopBSROhIyrXtigtLT399NOdFLOysr6NvTML9u/XwkL3jJGWLTU/nzNGLCVZhKpaU6MzZ2r79u70x0mTdvsy66Gh/fv3FxYWtmnTRkRatmyZn5+/Ozb+zOvq6ubOnXvttVOdO6Jf/ILPCrCXfBE6jpwY9cOIERkZGRF6Crdp06acnJyUlBQR6d69e3Fxse2JUcuXL3eOlgOBwLXXrk7Ck49iU7JG6FixYvKNNzrHjUOGDHkv5E9KPKElS5ZkHvkU1OHDhy+2eOkjfl83SgbJHaGqqpaWlp5xxhlHn8J9E4FrW9TV1RUXF3ft2tU5MSonJ+eHaL0JkADvoCQ8IlRVra6uLioqatu2rYikpaXl5eVF4incrl27Jk+e7Mx3a9eu3dy5c30f4hjHzCVYw0VWYxIRejZv3pybmxsIBETktNNOmzNnTm0EToxav359dnZ2IBCI6An7FRUV48ePT7xZdQmJCI+1dOnSkSNHOn++w4YN+/jjjyMxSuQmuNWfX96hQ4eEnF+eYIiwEXF6bYukOtMqkRDhccXXtS2OOef4888/t94jBIsITyL2r20R+3uIEyPCoMTmtS3qP1a3atUqxh+rcTxEGKyYesYVp89a0SgibJpYuLbFsmXLovD6LaKGCENhdW2L6LyTiSgjwtBF89oW0ZnTAxNEGJbozMw8Znbr1xG47D8MEaEPIneOQnl5+RVXXOHkd84557zNZ5gmIiL0zdGz9Xy5tsWOHTuOhh25Mx4RC4jQZ+Ff28I5xO3QoYNziJubm7s9Eh+KiphBhP4L59oWCxcuHDhwICcfJRUijJSmXtuioqIiKyvLya9v374lXPs6aRBhZC1ZsuSiiy468bUtqqqq8vPz09PTj558dDACV0ZFzCLCiDvBtS2cqXBdunQ5OhVuSwSuEY4YR4RR4ky2dh7uUlNTL7/88sLCwtatWzsPkqNGjVoZmU/LQOxLUVVBtKxfv37ChAmLFi06+pN27do999xzNx656BuSEBEamD59+vTp02trazMzM0tKSjIyMqz3CJaIEDAWsN4BINkRIWCMCAFjRAgYI0LAGBECxogQMEaEgDEiBIwRIWCMCAFjRAgYI0LAGBECxogQMEaEgDEiBIwRIWCMCAFjRAgYI0LAGBECxogQMEaEgDEiBIwRIWCMCAFjRAgYI0LAGBECxogQMEaEgDEiBIwRIWCMCAFjRAgYI0LAGBECxogQMEaEgDEiBIwRIWCMCAFjRAgYI0LAGBECxogQMEaEgDEiBIwRIWCMCAFjRAgYI0LAGBECxogQMEaEgDEiBIwRIWCMCAFjRAgYI0LAGBECxogQMEaEgDEiBIwRIWCMCAFjRAgYI0LAGBECxogQMEaEgDEiBIwRIWCMCAFjRAgYI0LAGBECxogQMEaEgDEiBIwRIWCMCAFjRAgYI0LAGBECxogQMEaEgDEiBIwRIWCMCAFjRAgYI0LAGBECxogQMEaEgDEiBIwRIWCMCAFjRAgYI0LAGBECxogQMEaEgDEiBIwRIWCMCAFjRAgYI0LA2P8BjusYLABJsl0AAAAASUVORK5CYII=\",\"iVBORw0KGgoAAAANSUhEUgAAASwAAAEsCAIAAAD2HxkiAAAS5klEQVR4nO3deXCU9RnA8ScLSbiPiBxyKQoiCIKCGNQBAetB1I6aam2jo44pY2dSpMVULA2epCISbLVSxyNqZzBW6QSqjhjqiQICMmAk4AVC5ZCEGxJInv7xvvAmGGCz++4+e3w/kz/eJPu+v1fMd/fd3d/7boqqCgA7AesdAJIdEQLGiBAwRoSAMSIEjBEhYIwIAWNECBgjQsAYEQLGiBAwRoSAMSIEjBEhYIwIAWNECBgjQsAYEQLGiBAwRoSAMSIEjBEhYIwIAWNECBgjQsAYEQLGiBAwRoSAMSIEjBEhYIwIAWNECBgjQsAYEQLGiBAwRoSAMSIEjBEhYIwIAWNECBgjQsAYEQLGiBAwRoSAMSIEjBEhYIwIAWNECBgjQsAYEQLGiBAwRoSAMSIEjBEhYIwIAWNECBgjQsAYEQLGiBAwRoSAMSIEjBEhYIwIAWNECBgjQsAYEQLGiBAwRoSAMSIEjBEhYIwIAWNECBgjQsAYEQLGiBAwRoSAMSIEjBEhYIwIAWNECBgjQsAYEQLGiBAwRoSAMSIEjBEhYIwIAWNECBgjQsAYEQLGiBAwRoSAMSIEjBEhYIwIAWNECBgjQsAYEQLGiBAwRoSAMSIEjBEhYIwIAWNECBgjQsAYEQLGiBAwRoSAMSIEjEU4wtpaqaqSw4cjOwoQz5r7vL2aGikrk3fekUWLZPNm2bHD/XnHjtKjh4weLT/7mVx+uaSn+zwuELdSVNWfLdXVyeuvy5Qp8tVXJ7lljx4ydarccYc09/suAIhDPkW4d69kZ8vbbzdhldGjZd486dDBh9GBeOZHhJWVcsUV8tln3k+6d5cbbpCxY6VXL2nXTnbtkk2bpKxMXn9dNm3ybjZokCxcKF26hLsDQDzzI8Ibb5TXX3eXU1OloEAmTZKWLRu55YED8vjj8uCD3ks1V14pb74pKSnh7gMQt8KO8MUX5fbb3eX0dCkpkWuvPckqb7whv/yl1NS43z71lNx9d1j7AMSz8CKsrZWzzpLvvnO/fewxmTw5qBWnT5cpU9zlzp1l40ZeL0XSCi/CefPk+uvd5QEDZNWqYF/wPHxYzjtPysvdb19+WX7969B3A3Hr2We9FxPS02XGjKDuje+5R/bvFxHp3l3+/OcGv3r8cfn6a3d55kxp1Sqo3Sgrk3/9y13OyZGRI4NayzcajuuuUxH364knmrbu7NneuuPGhbUbiFs33eT9FYjoAw8EtVaHDu7tBw8+9lcjR3pb27Ej2N14/HFvrWefbcL++yKMGTOqsnix9+3NNzdt9Vtu8V6PWbJEamtD3xMkikcflYoK652IujAi/Oor2b7dXe7ZU7p1a9rqnTpJnz7u8p498sUXoe8JEkV1tUyYIH7NH4kXYURY/y5r8OBQtjBkiLe8dm3oe4IE8t57Mneu9U5EVxgRVlZ6y6G94V5/raqq0PcECaF3b3dh0iTZudNyT6IsjAjr/zu1bRvKFtq395aJMOk99JC7sGWL3H+/6a5EVxgRVld7y6G9y9eihbd84EDoe4KEcNNNMmyYu/zMM/LJJ6Z7E0VhRNiunbe8d28oW9izx1vu2LHx2xw8KNu2hbJxxJuUFJkxw12uq5O7706WE1HDiLD+CRD1cwrerl3e8vEinDlT+vSRadMaPPAiQY0eLdnZ7vLnn8tf/2q6N9ESRoSdOnnLR2euNUn9tepvrb7Vq2XfPnngARk8WBYsCGUUxJWZM6V1a3f5T38K8S8rvoQR4dCh3rvtq1aF8ubOypUNttaouXPl3Xfl3HNl3Tq55hoZN07WrGn6viJu9Owpf/iDu7x/v/z+96Z7ExVhnNuekSF9+8q6dSIiu3fLmjUyaFATVq+okB9/dJd795bTTjvuLceOlZUr5fnn5f77paxMhg6VO+6QRx457oMn4ty998qLL8qGDSIib7wh8+fLNdeEsp2pUxu89ncCy5eHsn3fhDXp7a67vCl3997btHWnTPHWve22oFbZsUPz8rR5cxXRjAwtKtJDh5q+04gh9eeO1tR4P583z/t5r166Z0+DtYKcOxraV1zNHRWRu+7ylouLG7zQcmK7d8vzz3vf/uY3Qa2VkSGzZ8vq1XLllVJZKRMnyqBBTbumBuLEz38uWVnu8saN3luICSm8Sy0NHy4XXihLl4qIbN0q990nTz8d1IpTpsiWLe7yBRdIZmYTBu3fX956S+bPl4kTZe1aueoqycqS2bO9mahICE8+KWVl7vvHs2bJrbfKwIFN28L110taWlC3rKho8AJFtIX7UPrRR9qsmfdY/tBDJ1/lqac0JcW9fSCg770X4tDV1VpUpO3aqYimpWlenu7aFeKmYOR4h6OOBx/0fjtmjPdzTmVq6OKLvRezRGTqVLntNvnhh8ZvvG2b3Hmn/Pa33kupkybJqFEhDp2WJr/7naxdK7m5cviwPPmk9O8v//iH1NWFuEHEmPx8Oftsd3nRIiktNd2byPEh5OpqvfnmBs9tW7XS667Tv/1NS0v1ww91/nx9+mm9/npt3brBzbKztbrahx1Q1c8+04svdjd7wQX60Uf+bBYRduJHQlV95x3vBmeeqQcPqibcI6EfEapqba3ec493kHnSr5QUzcvT2lp/RnfU1WlJifbu7W4/O1u/+87P7SMCThqhqmZne7d57DHVhIvQp8+iCATkiSdk6VIZM+bkN87MlA8+kNmzJeDrJ2GkpEh2tpSXS0GBpKfLa6/JgAEybRpTw+Pd7NnePOVHH/U+WiFh+JrBsGFSViZffimzZklWlgwaJN26SYsW0rWrDBok48fLzJlSXi6LF8sll/g5bn2tWsm0abJ+veTkyIED8sAD0q+fvPRS0p2tnUC6dZOpU93lnTvl4YdN9yYSov3QG03//a+ed557kDFqlK5cab1DyW77dp0wQV95xftJMIejqnrokJ57rnuztDRNS+NwNBL++c8GV8j3xejRsmKFFBdL587y/vtywQVy662ydavPoyAIhw7J7NnSr58884zcf3+TL+vVvLn8/e/uVOWaGu/C0YkhNiL88ku5/XY5+2z54x9DPDXxeAIBufVWqaiQ/HxJTZWXX5b+/eUvf+HEqGgqK5Pzz5eJE6WqSsaOlQULpFmzJm/kkkskJycCOxe0DRvkvvtkyBDJyJDmzaVHD7npJvnwQz82He2H3kZt3Oi9BNa7t776akRGqajQrCx3lL59df78iIyCetat8/7H9u2rJSXH3iDIw1HH1q3asWODV9mjdjg6a5ampjb+Mv+0acGOcjyxEaHj0091xAj3P27ECP3kk4iMsnChDhzojjJunK5ZE5FRkt6ePVpQoOnpKqKtW2tBgfsW3zGaFKGqPvWUQYQvvOD+6txz9cUXdc0aXbNGX3hBe/Rwfz5vXrADNSqWIlTV2lotLtYuXVREAwHNydEtW/wfpaZGi4rcN5tSUzU3V7dv93+UZNWk/4dNjbC21rujjk6EdXV61lkqopddpvv2NfjV6tXulM0RI4IdqFExFqGj/r1omzbHvRcNk3NilPOv6JwYdfiw/6MkmU8/1Ysucv+aL7zw5EczDz+s48a5X0Gel7ZsmbdKbu6xv5040fvt7t3B7vZrr3lrvfnmsb/dtUtnzNDvv29kRef5TSCge/cGO9ZPxWSEjpM+n/DFypU6apQ7yjnn6NtvR2SUJPD995qT406a6t5di4u1rs56nyJv8mT3b+ebb0LfSAxH6Hj3Xe8dorFjdfXqiIxSWqpnnOGOkpUV1r9o8tm3TwsLtU0bFdFWrTQ//9hzcBNYXp77V7NtW+gbifkIVfXQIZ0zRzt1UhFt3jxST+GcE6PatnXfD87La8LRTBIrLXWn6zp3X99+a71D0TVmjIroqaeGNQ86HiJ0/PQpXCSubfH99/qrXzkHVS+NH//KK6/UJcNBVUiWL9dLLnHzO/98/eAD6x2KunXrNBBQEb3zzrC2Ez8ROsrL9cor3f/z/fvrW29FZJTFi7fdcEMgJUVEMjMzly5dGpFR4tb27d79YadOyfuSlvPSbrNmWl4e1nbiLUJHaan26eMdA339te8j1NXVlZSU9OrVS0RSUlKys7M3bNjg+yhxx3lzx7mYQWpqUl/MYM4c9w/wvvvC3VR8RqhRurbF3r17CwoKWrRoISKtW7cuKCg4cOCA76PEi9JSPfNMb5pDmHf/ca201J1EPnq0D+elx22Ejv/9T3Nz3QPzbt10zhyfTxRWVdWNGzfmHJm22LNnz+LiYt+HiHFr1+pVV7n5nX22/uc/1jtk6t//dgscMkSrqnzYYJxH6Fi2LArXtli0aNHgI5+Fetlll61atSoSo8SaykrvUq8dO2phoW8XJIlTs2a5T4aHD9fKSn+2mRAR6pFrW/Tq5U6qjcy1LWpra4uLizt37iwigUAgJydn69atvo8SI5w3hk491XtjKJy3whLAwYN6553uXf0ttxw7hS0ciRKhY98+LSjQFi3ct40LCnT/ft8HqayszM/PT0tLE5GOHTsWFhZWJ9yjQ1mZDhrk/sGNGaPJ8ah/It99507Ha9ZMCwt93nhiReioP4GqR48ITaBau3bt1Vdf7Ryd9uvXb8GCBb4PYWL9em+y4FlnRWqyYHx59VX3FUCnwM8+a+Trhx9C334iRuiIyrUtFi5cOGDAACfFcePGffHFF5EYJTr27vUOI5yTj5L4lWDPpk2NnEb4069HHgl9iMSNUI+cVNO5c0RPjKqpqSkqKmrfvr2IpKam5uXl7dy50/dRIqquTouLtWtX9wl1Tk5Y9+sJZvNm7dPn5F9PPx36EAkdoaOqSvPz3ROjOnTQwsJInBj1448/5uXlNWvWTEROOeWUoqKiw3Eyi2TpUs3MdO/Ohw/XxYutdyj5JEGEjvrXtujXL0LXtlixYsWll17qHJ0OHTr0/fffj8Qoftm0KRlPPopBSROhIyrXtigtLT399NOdFLOysr6NvTML9u/XwkL3jJGWLTU/nzNGLCVZhKpaU6MzZ2r79u70x0mTdvsy66Gh/fv3FxYWtmnTRkRatmyZn5+/Ozb+zOvq6ubOnXvttVOdO6Jf/ILPCrCXfBE6jpwY9cOIERkZGRF6Crdp06acnJyUlBQR6d69e3Fxse2JUcuXL3eOlgOBwLXXrk7Ck49iU7JG6FixYvKNNzrHjUOGDHkv5E9KPKElS5ZkHvkU1OHDhy+2eOkjfl83SgbJHaGqqpaWlp5xxhlHn8J9E4FrW9TV1RUXF3ft2tU5MSonJ+eHaL0JkADvoCQ8IlRVra6uLioqatu2rYikpaXl5eVF4incrl27Jk+e7Mx3a9eu3dy5c30f4hjHzCVYw0VWYxIRejZv3pybmxsIBETktNNOmzNnTm0EToxav359dnZ2IBCI6An7FRUV48ePT7xZdQmJCI+1dOnSkSNHOn++w4YN+/jjjyMxSuQmuNWfX96hQ4eEnF+eYIiwEXF6bYukOtMqkRDhccXXtS2OOef4888/t94jBIsITyL2r20R+3uIEyPCoMTmtS3qP1a3atUqxh+rcTxEGKyYesYVp89a0SgibJpYuLbFsmXLovD6LaKGCENhdW2L6LyTiSgjwtBF89oW0ZnTAxNEGJbozMw8Znbr1xG47D8MEaEPIneOQnl5+RVXXOHkd84557zNZ5gmIiL0zdGz9Xy5tsWOHTuOhh25Mx4RC4jQZ+Ff28I5xO3QoYNziJubm7s9Eh+KiphBhP4L59oWCxcuHDhwICcfJRUijJSmXtuioqIiKyvLya9v374lXPs6aRBhZC1ZsuSiiy468bUtqqqq8vPz09PTj558dDACV0ZFzCLCiDvBtS2cqXBdunQ5OhVuSwSuEY4YR4RR4ky2dh7uUlNTL7/88sLCwtatWzsPkqNGjVoZmU/LQOxLUVVBtKxfv37ChAmLFi06+pN27do999xzNx656BuSEBEamD59+vTp02trazMzM0tKSjIyMqz3CJaIEDAWsN4BINkRIWCMCAFjRAgYI0LAGBECxogQMEaEgDEiBIwRIWCMCAFjRAgYI0LAGBECxogQMEaEgDEiBIwRIWCMCAFjRAgYI0LAGBECxogQMEaEgDEiBIwRIWCMCAFjRAgYI0LAGBECxogQMEaEgDEiBIwRIWCMCAFjRAgYI0LAGBECxogQMEaEgDEiBIwRIWCMCAFjRAgYI0LAGBECxogQMEaEgDEiBIwRIWCMCAFjRAgYI0LAGBECxogQMEaEgDEiBIwRIWCMCAFjRAgYI0LAGBECxogQMEaEgDEiBIwRIWCMCAFjRAgYI0LAGBECxogQMEaEgDEiBIwRIWCMCAFjRAgYI0LAGBECxogQMEaEgDEiBIwRIWCMCAFjRAgYI0LAGBECxogQMEaEgDEiBIwRIWCMCAFjRAgYI0LAGBECxogQMEaEgDEiBIwRIWCMCAFjRAgYI0LAGBECxogQMEaEgDEiBIwRIWCMCAFjRAgYI0LA2P8BjusYLABJsl0AAAAASUVORK5CYII=\",\"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\",\"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\",\"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\"]]]}}},\"view\":{\"type\":\"object\",\"name\":\"CDSView\",\"id\":\"p8730\",\"attributes\":{\"filter\":{\"type\":\"object\",\"name\":\"AllIndices\",\"id\":\"p8731\"}}},\"columns\":[{\"type\":\"object\",\"name\":\"TableColumn\",\"id\":\"p8719\",\"attributes\":{\"field\":\"groups\",\"title\":\"Functional Groups\",\"formatter\":{\"type\":\"object\",\"name\":\"StringFormatter\",\"id\":\"p8720\"},\"editor\":{\"type\":\"object\",\"name\":\"StringEditor\",\"id\":\"p8721\"}}},{\"type\":\"object\",\"name\":\"TableColumn\",\"id\":\"p8723\",\"attributes\":{\"field\":\"images\",\"title\":\"Images\",\"width\":200,\"formatter\":{\"type\":\"object\",\"name\":\"HTMLTemplateFormatter\",\"id\":\"p8722\",\"attributes\":{\"template\":\"\\n    <div>\\n        <img src=\\\"data:image/png;base64, <%= value %>\\\" style=\\\"width:50px;height:50px;\\\">\\n    </div>\\n    \"}},\"editor\":{\"type\":\"object\",\"name\":\"StringEditor\",\"id\":\"p8725\"}}}],\"row_height\":60}}]}}]}}],\"defs\":[{\"type\":\"model\",\"name\":\"ReactiveHTML1\"},{\"type\":\"model\",\"name\":\"FlexBox1\",\"properties\":[{\"name\":\"align_content\",\"kind\":\"Any\",\"default\":\"flex-start\"},{\"name\":\"align_items\",\"kind\":\"Any\",\"default\":\"flex-start\"},{\"name\":\"flex_direction\",\"kind\":\"Any\",\"default\":\"row\"},{\"name\":\"flex_wrap\",\"kind\":\"Any\",\"default\":\"wrap\"},{\"name\":\"gap\",\"kind\":\"Any\",\"default\":\"\"},{\"name\":\"justify_content\",\"kind\":\"Any\",\"default\":\"flex-start\"}]},{\"type\":\"model\",\"name\":\"FloatPanel1\",\"properties\":[{\"name\":\"config\",\"kind\":\"Any\",\"default\":{\"type\":\"map\"}},{\"name\":\"contained\",\"kind\":\"Any\",\"default\":true},{\"name\":\"position\",\"kind\":\"Any\",\"default\":\"right-top\"},{\"name\":\"offsetx\",\"kind\":\"Any\",\"default\":null},{\"name\":\"offsety\",\"kind\":\"Any\",\"default\":null},{\"name\":\"theme\",\"kind\":\"Any\",\"default\":\"primary\"},{\"name\":\"status\",\"kind\":\"Any\",\"default\":\"normalized\"}]},{\"type\":\"model\",\"name\":\"GridStack1\",\"properties\":[{\"name\":\"mode\",\"kind\":\"Any\",\"default\":\"warn\"},{\"name\":\"ncols\",\"kind\":\"Any\",\"default\":null},{\"name\":\"nrows\",\"kind\":\"Any\",\"default\":null},{\"name\":\"allow_resize\",\"kind\":\"Any\",\"default\":true},{\"name\":\"allow_drag\",\"kind\":\"Any\",\"default\":true},{\"name\":\"state\",\"kind\":\"Any\",\"default\":[]}]},{\"type\":\"model\",\"name\":\"drag1\",\"properties\":[{\"name\":\"slider_width\",\"kind\":\"Any\",\"default\":5},{\"name\":\"slider_color\",\"kind\":\"Any\",\"default\":\"black\"},{\"name\":\"value\",\"kind\":\"Any\",\"default\":50}]},{\"type\":\"model\",\"name\":\"click1\",\"properties\":[{\"name\":\"terminal_output\",\"kind\":\"Any\",\"default\":\"\"},{\"name\":\"debug_name\",\"kind\":\"Any\",\"default\":\"\"},{\"name\":\"clears\",\"kind\":\"Any\",\"default\":0}]},{\"type\":\"model\",\"name\":\"FastWrapper1\",\"properties\":[{\"name\":\"object\",\"kind\":\"Any\",\"default\":null},{\"name\":\"style\",\"kind\":\"Any\",\"default\":null}]},{\"type\":\"model\",\"name\":\"NotificationAreaBase1\",\"properties\":[{\"name\":\"js_events\",\"kind\":\"Any\",\"default\":{\"type\":\"map\"}},{\"name\":\"position\",\"kind\":\"Any\",\"default\":\"bottom-right\"},{\"name\":\"_clear\",\"kind\":\"Any\",\"default\":0}]},{\"type\":\"model\",\"name\":\"NotificationArea1\",\"properties\":[{\"name\":\"js_events\",\"kind\":\"Any\",\"default\":{\"type\":\"map\"}},{\"name\":\"notifications\",\"kind\":\"Any\",\"default\":[]},{\"name\":\"position\",\"kind\":\"Any\",\"default\":\"bottom-right\"},{\"name\":\"_clear\",\"kind\":\"Any\",\"default\":0},{\"name\":\"types\",\"kind\":\"Any\",\"default\":[{\"type\":\"map\",\"entries\":[[\"type\",\"warning\"],[\"background\",\"#ffc107\"],[\"icon\",{\"type\":\"map\",\"entries\":[[\"className\",\"fas fa-exclamation-triangle\"],[\"tagName\",\"i\"],[\"color\",\"white\"]]}]]},{\"type\":\"map\",\"entries\":[[\"type\",\"info\"],[\"background\",\"#007bff\"],[\"icon\",{\"type\":\"map\",\"entries\":[[\"className\",\"fas fa-info-circle\"],[\"tagName\",\"i\"],[\"color\",\"white\"]]}]]}]}]},{\"type\":\"model\",\"name\":\"Notification\",\"properties\":[{\"name\":\"background\",\"kind\":\"Any\",\"default\":null},{\"name\":\"duration\",\"kind\":\"Any\",\"default\":3000},{\"name\":\"icon\",\"kind\":\"Any\",\"default\":null},{\"name\":\"message\",\"kind\":\"Any\",\"default\":\"\"},{\"name\":\"notification_type\",\"kind\":\"Any\",\"default\":null},{\"name\":\"_destroyed\",\"kind\":\"Any\",\"default\":false}]},{\"type\":\"model\",\"name\":\"TemplateActions1\",\"properties\":[{\"name\":\"open_modal\",\"kind\":\"Any\",\"default\":0},{\"name\":\"close_modal\",\"kind\":\"Any\",\"default\":0}]},{\"type\":\"model\",\"name\":\"BootstrapTemplateActions1\",\"properties\":[{\"name\":\"open_modal\",\"kind\":\"Any\",\"default\":0},{\"name\":\"close_modal\",\"kind\":\"Any\",\"default\":0}]},{\"type\":\"model\",\"name\":\"TemplateEditor1\",\"properties\":[{\"name\":\"layout\",\"kind\":\"Any\",\"default\":[]}]},{\"type\":\"model\",\"name\":\"MaterialTemplateActions1\",\"properties\":[{\"name\":\"open_modal\",\"kind\":\"Any\",\"default\":0},{\"name\":\"close_modal\",\"kind\":\"Any\",\"default\":0}]},{\"type\":\"model\",\"name\":\"copy_to_clipboard1\",\"properties\":[{\"name\":\"fill\",\"kind\":\"Any\",\"default\":\"none\"},{\"name\":\"value\",\"kind\":\"Any\",\"default\":null}]}]}};\n  const render_items = [{\"docid\":\"5a5a16a0-d48a-4aca-841e-349afc719df3\",\"roots\":{\"p8733\":\"dddb7048-7930-4ee9-8547-aacdf071d5a2\"},\"root_ids\":[\"p8733\"]}];\n  void root.Bokeh.embed.embed_items_notebook(docs_json, render_items);\n  }\n  if (root.Bokeh !== undefined) {\n    embed_document(root);\n  } else {\n    let attempts = 0;\n    const timer = setInterval(function(root) {\n      if (root.Bokeh !== undefined) {\n        clearInterval(timer);\n        embed_document(root);\n      } else {\n        attempts++;\n        if (attempts > 100) {\n          clearInterval(timer);\n          console.log(\"Bokeh: ERROR: Unable to run BokehJS code because BokehJS library is missing\");\n        }\n      }\n    }, 10, root)\n  }\n})(window);",
      "application/vnd.bokehjs_exec.v0+json": ""
     },
     "metadata": {
      "application/vnd.bokehjs_exec.v0+json": {
       "id": "p8733"
      }
     },
     "output_type": "display_data"
    }
   ],
   "source": [
    "import MASSiveChem.MASSiveChem as MC\n",
    "from bokeh.plotting import output_notebook, show\n",
    "\n",
    "output_notebook() #not necessary if you want to plot the image outside the outbook\n",
    "\n",
    "mol_smi = 'CC1(C(N2C(S1)C(C2=O)NC(=O)CC3=CC=CC=C3)C(=O)O)C'\n",
    "functional_groups = ['Carboxylic Acid', 'Amide', 'Amide', 'Amine', 'Sulfide', 'Benzene']\n",
    "\n",
    "x_in = [333.21807812500003, 333.71807812500003, 333.71807812500003, 333.71807812500003, 334.09, 334.09, 334.09, 335.082, 335.082, 335.082, 335.086, 335.086, 335.086, 335.092, 335.092, 335.092, 336.092]\n",
    "y_in = [0, 0, 0.8310629277992183, 0, 0, 0.006245168595575361, 0, 0, 0.006245168595575361, 0, 0, 0.006055133670000204, 0, 0, 0.14507698506191508, 0, 0]\n",
    "\n",
    "p1 = MC.double_plot(x_in,y_in)\n",
    "p2 = MC.mol_web_show(mol_smi)\n",
    "p3 = MC.functional_group_display(functional_groups)\n",
    "\n",
    "output = MC.all_in_one(p1,p2,p3)\n",
    "\n",
    "show(output)"
   ]
  },
  {
   "cell_type": "markdown",
   "metadata": {},
   "source": [
    "## smiles_to_3D_plot(mol_smi)\n",
    "\n",
    "This function takes as an input the SMILEs of a molecule and plots it in 3D in an interactive graph"
   ]
  },
  {
   "cell_type": "code",
   "execution_count": 77,
   "metadata": {},
   "outputs": [
    {
     "data": {
      "application/vnd.plotly.v1+json": {
       "config": {
        "plotlyServerURL": "https://plot.ly"
       },
       "data": [
        {
         "marker": {
          "color": [
           "black",
           "black",
           "black",
           "blue",
           "black",
           "yellow",
           "black",
           "black",
           "red",
           "blue",
           "black",
           "red",
           "black",
           "black",
           "black",
           "black",
           "black",
           "black",
           "black",
           "black",
           "red",
           "red",
           "black",
           "white",
           "white",
           "white",
           "white",
           "white",
           "white",
           "white",
           "white",
           "white",
           "white",
           "white",
           "white",
           "white",
           "white",
           "white",
           "white",
           "white",
           "white"
          ],
          "line": {
           "color": "lightgray",
           "width": 2
          },
          "opacity": 0.8,
          "size": 7,
          "symbol": "circle"
         },
         "mode": "markers",
         "text": [
          "C",
          "C",
          "C",
          "N",
          "C",
          "S",
          "C",
          "C",
          "O",
          "N",
          "C",
          "O",
          "C",
          "C",
          "C",
          "C",
          "C",
          "C",
          "C",
          "C",
          "O",
          "O",
          "C",
          "H",
          "H",
          "H",
          "H",
          "H",
          "H",
          "H",
          "H",
          "H",
          "H",
          "H",
          "H",
          "H",
          "H",
          "H",
          "H",
          "H",
          "H"
         ],
         "type": "scatter3d",
         "x": [
          -5.155663634589718,
          -3.746337994412031,
          -3.34340373036523,
          -1.8994874534550503,
          -1.3472687988451093,
          -2.542987583571174,
          -0.14070392820926364,
          -1.0172392440248408,
          -1.0198465565927994,
          1.136006398273366,
          1.7822395348013493,
          1.2949548666935995,
          3.1005223592758573,
          4.077726893607195,
          4.58233212873384,
          5.480929881966149,
          5.886858006837913,
          5.3955684377769675,
          4.495864686783732,
          -3.9216557773926164,
          -5.019142104289946,
          -3.1658543292018897,
          -3.635744458347955,
          -5.409256478618684,
          -5.260181536588799,
          -5.912870183081713,
          -3.7520883973287162,
          -1.1521214557147779,
          0.048281669313962564,
          1.6328492590581025,
          2.8754366659941035,
          3.564003872808756,
          4.2791325311208634,
          5.867768352399289,
          6.58984297545508,
          5.719022118434491,
          4.13087743893479,
          -3.6446875661281894,
          -3.890873182556631,
          -2.632994269016806,
          -4.3298094159319795
         ],
         "y": [
          -1.1292789234437335,
          -0.5523382481520351,
          0.3631188803154761,
          0.26001429161059414,
          -1.0991539350560708,
          -1.975158787931914,
          -0.46305130558603347,
          0.8137731133002517,
          1.877637203207415,
          -0.3462673966027059,
          -1.4522793489845323,
          -2.579147601730927,
          -1.1694115928411708,
          -0.3826645678479479,
          -0.9249402265910202,
          -0.19937411523820917,
          1.071628709138178,
          1.6183539463805763,
          0.8943142632540547,
          1.7780737224988037,
          2.0969894819908834,
          2.692047333110802,
          0.07405673664161158,
          -1.8510348896233828,
          -1.6375069102013995,
          -0.3380666511250697,
          -0.061176439343055423,
          -1.5960916684753736,
          -0.834549734884348,
          0.5405449646221883,
          -0.6448425326313088,
          -2.1249359799328067,
          -1.918249606412569,
          -0.628428897811977,
          1.635066798428426,
          2.6080315682848387,
          1.3356877103010476,
          3.538320989860779,
          -0.6512878056777738,
          0.4485375164107488,
          0.9130399367697053
         ],
         "z": [
          -0.5084850062413875,
          -0.7029714163828924,
          0.4696350016816217,
          0.6639548025900841,
          0.48767556780019117,
          -0.6163656842460804,
          -0.25020739034795014,
          -0.22772499817554465,
          -0.8028940966744075,
          0.5095286714411832,
          1.0147673737344975,
          0.960658277126842,
          1.713361538616639,
          0.8730656770898954,
          -0.3176549433108178,
          -1.1014536089720166,
          -0.700302890281211,
          0.4848736260030909,
          1.2694905776408296,
          0.44696166642082713,
          0.014185008361770775,
          1.089542897961024,
          -2.098352497992226,
          -1.2943198649199013,
          0.45791851075523365,
          -0.5437559091171505,
          1.3993170888716628,
          1.4417350563759224,
          -1.26339650521076,
          0.5078851358796184,
          2.649923599598679,
          1.988618927351242,
          -0.6445240804826176,
          -2.0227604258586216,
          -1.309990015246693,
          0.7980804480001243,
          2.1944750136890083,
          0.9782534347781326,
          -2.8809070670968073,
          -2.321298042709645,
          -2.213676500759653
         ]
        },
        {
         "hoverinfo": "none",
         "marker": {
          "color": "grey",
          "opacity": 1,
          "size": 7
         },
         "mode": "lines",
         "type": "scatter3d",
         "x": [
          -5.155663634589718,
          -5.260181536588799,
          null,
          -5.155663634589718,
          -3.746337994412031,
          null,
          -5.155663634589718,
          -5.912870183081713,
          null,
          -5.155663634589718,
          -5.409256478618684,
          null,
          -3.746337994412031,
          -5.155663634589718,
          null,
          -3.746337994412031,
          -3.34340373036523,
          null,
          -3.746337994412031,
          -2.542987583571174,
          null,
          -3.746337994412031,
          -3.635744458347955,
          null,
          -5.409256478618684,
          -5.155663634589718,
          null,
          -5.260181536588799,
          -5.155663634589718,
          null,
          -5.912870183081713,
          -5.155663634589718,
          null,
          -3.34340373036523,
          -3.9216557773926164,
          null,
          -3.34340373036523,
          -3.746337994412031,
          null,
          -3.34340373036523,
          -3.7520883973287162,
          null,
          -3.34340373036523,
          -1.8994874534550503,
          null,
          -2.542987583571174,
          -3.746337994412031,
          null,
          -2.542987583571174,
          -1.3472687988451093,
          null,
          -3.635744458347955,
          -4.3298094159319795,
          null,
          -3.635744458347955,
          -3.746337994412031,
          null,
          -3.635744458347955,
          -3.890873182556631,
          null,
          -3.635744458347955,
          -2.632994269016806,
          null,
          -1.8994874534550503,
          -3.34340373036523,
          null,
          -1.8994874534550503,
          -1.3472687988451093,
          null,
          -1.8994874534550503,
          -1.0172392440248408,
          null,
          -3.9216557773926164,
          -3.34340373036523,
          null,
          -3.9216557773926164,
          -5.019142104289946,
          null,
          -3.9216557773926164,
          -3.1658543292018897,
          null,
          -3.7520883973287162,
          -3.34340373036523,
          null,
          -1.3472687988451093,
          -1.1521214557147779,
          null,
          -1.3472687988451093,
          -1.8994874534550503,
          null,
          -1.3472687988451093,
          -2.542987583571174,
          null,
          -1.3472687988451093,
          -0.14070392820926364,
          null,
          -1.0172392440248408,
          -1.0198465565927994,
          null,
          -1.0172392440248408,
          -1.8994874534550503,
          null,
          -1.0172392440248408,
          -0.14070392820926364,
          null,
          -0.14070392820926364,
          1.136006398273366,
          null,
          -0.14070392820926364,
          -1.3472687988451093,
          null,
          -0.14070392820926364,
          0.048281669313962564,
          null,
          -0.14070392820926364,
          -1.0172392440248408,
          null,
          -1.1521214557147779,
          -1.3472687988451093,
          null,
          1.136006398273366,
          1.7822395348013493,
          null,
          1.136006398273366,
          1.6328492590581025,
          null,
          1.136006398273366,
          -0.14070392820926364,
          null,
          0.048281669313962564,
          -0.14070392820926364,
          null,
          -1.0198465565927994,
          -1.0172392440248408,
          null,
          1.7822395348013493,
          1.136006398273366,
          null,
          1.7822395348013493,
          1.2949548666935995,
          null,
          1.7822395348013493,
          3.1005223592758573,
          null,
          1.6328492590581025,
          1.136006398273366,
          null,
          1.2949548666935995,
          1.7822395348013493,
          null,
          3.1005223592758573,
          1.7822395348013493,
          null,
          3.1005223592758573,
          4.077726893607195,
          null,
          3.1005223592758573,
          2.8754366659941035,
          null,
          3.1005223592758573,
          3.564003872808756,
          null,
          4.077726893607195,
          4.495864686783732,
          null,
          4.077726893607195,
          3.1005223592758573,
          null,
          4.077726893607195,
          4.58233212873384,
          null,
          2.8754366659941035,
          3.1005223592758573,
          null,
          3.564003872808756,
          3.1005223592758573,
          null,
          4.58233212873384,
          4.2791325311208634,
          null,
          4.58233212873384,
          4.077726893607195,
          null,
          4.58233212873384,
          5.480929881966149,
          null,
          4.495864686783732,
          5.3955684377769675,
          null,
          4.495864686783732,
          4.13087743893479,
          null,
          4.495864686783732,
          4.077726893607195,
          null,
          5.480929881966149,
          5.886858006837913,
          null,
          5.480929881966149,
          5.867768352399289,
          null,
          5.480929881966149,
          4.58233212873384,
          null,
          4.2791325311208634,
          4.58233212873384,
          null,
          5.886858006837913,
          5.3955684377769675,
          null,
          5.886858006837913,
          6.58984297545508,
          null,
          5.886858006837913,
          5.480929881966149,
          null,
          5.867768352399289,
          5.480929881966149,
          null,
          5.3955684377769675,
          5.886858006837913,
          null,
          5.3955684377769675,
          4.495864686783732,
          null,
          5.3955684377769675,
          5.719022118434491,
          null,
          6.58984297545508,
          5.886858006837913,
          null,
          5.719022118434491,
          5.3955684377769675,
          null,
          4.13087743893479,
          4.495864686783732,
          null,
          -5.019142104289946,
          -3.9216557773926164,
          null,
          -3.1658543292018897,
          -3.9216557773926164,
          null,
          -3.1658543292018897,
          -3.6446875661281894,
          null,
          -3.6446875661281894,
          -3.1658543292018897,
          null,
          -3.890873182556631,
          -3.635744458347955,
          null,
          -2.632994269016806,
          -3.635744458347955,
          null,
          -4.3298094159319795,
          -3.635744458347955,
          null
         ],
         "y": [
          -1.1292789234437335,
          -1.6375069102013995,
          null,
          -1.1292789234437335,
          -0.5523382481520351,
          null,
          -1.1292789234437335,
          -0.3380666511250697,
          null,
          -1.1292789234437335,
          -1.8510348896233828,
          null,
          -0.5523382481520351,
          -1.1292789234437335,
          null,
          -0.5523382481520351,
          0.3631188803154761,
          null,
          -0.5523382481520351,
          -1.975158787931914,
          null,
          -0.5523382481520351,
          0.07405673664161158,
          null,
          -1.8510348896233828,
          -1.1292789234437335,
          null,
          -1.6375069102013995,
          -1.1292789234437335,
          null,
          -0.3380666511250697,
          -1.1292789234437335,
          null,
          0.3631188803154761,
          1.7780737224988037,
          null,
          0.3631188803154761,
          -0.5523382481520351,
          null,
          0.3631188803154761,
          -0.061176439343055423,
          null,
          0.3631188803154761,
          0.26001429161059414,
          null,
          -1.975158787931914,
          -0.5523382481520351,
          null,
          -1.975158787931914,
          -1.0991539350560708,
          null,
          0.07405673664161158,
          0.9130399367697053,
          null,
          0.07405673664161158,
          -0.5523382481520351,
          null,
          0.07405673664161158,
          -0.6512878056777738,
          null,
          0.07405673664161158,
          0.4485375164107488,
          null,
          0.26001429161059414,
          0.3631188803154761,
          null,
          0.26001429161059414,
          -1.0991539350560708,
          null,
          0.26001429161059414,
          0.8137731133002517,
          null,
          1.7780737224988037,
          0.3631188803154761,
          null,
          1.7780737224988037,
          2.0969894819908834,
          null,
          1.7780737224988037,
          2.692047333110802,
          null,
          -0.061176439343055423,
          0.3631188803154761,
          null,
          -1.0991539350560708,
          -1.5960916684753736,
          null,
          -1.0991539350560708,
          0.26001429161059414,
          null,
          -1.0991539350560708,
          -1.975158787931914,
          null,
          -1.0991539350560708,
          -0.46305130558603347,
          null,
          0.8137731133002517,
          1.877637203207415,
          null,
          0.8137731133002517,
          0.26001429161059414,
          null,
          0.8137731133002517,
          -0.46305130558603347,
          null,
          -0.46305130558603347,
          -0.3462673966027059,
          null,
          -0.46305130558603347,
          -1.0991539350560708,
          null,
          -0.46305130558603347,
          -0.834549734884348,
          null,
          -0.46305130558603347,
          0.8137731133002517,
          null,
          -1.5960916684753736,
          -1.0991539350560708,
          null,
          -0.3462673966027059,
          -1.4522793489845323,
          null,
          -0.3462673966027059,
          0.5405449646221883,
          null,
          -0.3462673966027059,
          -0.46305130558603347,
          null,
          -0.834549734884348,
          -0.46305130558603347,
          null,
          1.877637203207415,
          0.8137731133002517,
          null,
          -1.4522793489845323,
          -0.3462673966027059,
          null,
          -1.4522793489845323,
          -2.579147601730927,
          null,
          -1.4522793489845323,
          -1.1694115928411708,
          null,
          0.5405449646221883,
          -0.3462673966027059,
          null,
          -2.579147601730927,
          -1.4522793489845323,
          null,
          -1.1694115928411708,
          -1.4522793489845323,
          null,
          -1.1694115928411708,
          -0.3826645678479479,
          null,
          -1.1694115928411708,
          -0.6448425326313088,
          null,
          -1.1694115928411708,
          -2.1249359799328067,
          null,
          -0.3826645678479479,
          0.8943142632540547,
          null,
          -0.3826645678479479,
          -1.1694115928411708,
          null,
          -0.3826645678479479,
          -0.9249402265910202,
          null,
          -0.6448425326313088,
          -1.1694115928411708,
          null,
          -2.1249359799328067,
          -1.1694115928411708,
          null,
          -0.9249402265910202,
          -1.918249606412569,
          null,
          -0.9249402265910202,
          -0.3826645678479479,
          null,
          -0.9249402265910202,
          -0.19937411523820917,
          null,
          0.8943142632540547,
          1.6183539463805763,
          null,
          0.8943142632540547,
          1.3356877103010476,
          null,
          0.8943142632540547,
          -0.3826645678479479,
          null,
          -0.19937411523820917,
          1.071628709138178,
          null,
          -0.19937411523820917,
          -0.628428897811977,
          null,
          -0.19937411523820917,
          -0.9249402265910202,
          null,
          -1.918249606412569,
          -0.9249402265910202,
          null,
          1.071628709138178,
          1.6183539463805763,
          null,
          1.071628709138178,
          1.635066798428426,
          null,
          1.071628709138178,
          -0.19937411523820917,
          null,
          -0.628428897811977,
          -0.19937411523820917,
          null,
          1.6183539463805763,
          1.071628709138178,
          null,
          1.6183539463805763,
          0.8943142632540547,
          null,
          1.6183539463805763,
          2.6080315682848387,
          null,
          1.635066798428426,
          1.071628709138178,
          null,
          2.6080315682848387,
          1.6183539463805763,
          null,
          1.3356877103010476,
          0.8943142632540547,
          null,
          2.0969894819908834,
          1.7780737224988037,
          null,
          2.692047333110802,
          1.7780737224988037,
          null,
          2.692047333110802,
          3.538320989860779,
          null,
          3.538320989860779,
          2.692047333110802,
          null,
          -0.6512878056777738,
          0.07405673664161158,
          null,
          0.4485375164107488,
          0.07405673664161158,
          null,
          0.9130399367697053,
          0.07405673664161158,
          null
         ],
         "z": [
          -0.5084850062413875,
          0.45791851075523365,
          null,
          -0.5084850062413875,
          -0.7029714163828924,
          null,
          -0.5084850062413875,
          -0.5437559091171505,
          null,
          -0.5084850062413875,
          -1.2943198649199013,
          null,
          -0.7029714163828924,
          -0.5084850062413875,
          null,
          -0.7029714163828924,
          0.4696350016816217,
          null,
          -0.7029714163828924,
          -0.6163656842460804,
          null,
          -0.7029714163828924,
          -2.098352497992226,
          null,
          -1.2943198649199013,
          -0.5084850062413875,
          null,
          0.45791851075523365,
          -0.5084850062413875,
          null,
          -0.5437559091171505,
          -0.5084850062413875,
          null,
          0.4696350016816217,
          0.44696166642082713,
          null,
          0.4696350016816217,
          -0.7029714163828924,
          null,
          0.4696350016816217,
          1.3993170888716628,
          null,
          0.4696350016816217,
          0.6639548025900841,
          null,
          -0.6163656842460804,
          -0.7029714163828924,
          null,
          -0.6163656842460804,
          0.48767556780019117,
          null,
          -2.098352497992226,
          -2.213676500759653,
          null,
          -2.098352497992226,
          -0.7029714163828924,
          null,
          -2.098352497992226,
          -2.8809070670968073,
          null,
          -2.098352497992226,
          -2.321298042709645,
          null,
          0.6639548025900841,
          0.4696350016816217,
          null,
          0.6639548025900841,
          0.48767556780019117,
          null,
          0.6639548025900841,
          -0.22772499817554465,
          null,
          0.44696166642082713,
          0.4696350016816217,
          null,
          0.44696166642082713,
          0.014185008361770775,
          null,
          0.44696166642082713,
          1.089542897961024,
          null,
          1.3993170888716628,
          0.4696350016816217,
          null,
          0.48767556780019117,
          1.4417350563759224,
          null,
          0.48767556780019117,
          0.6639548025900841,
          null,
          0.48767556780019117,
          -0.6163656842460804,
          null,
          0.48767556780019117,
          -0.25020739034795014,
          null,
          -0.22772499817554465,
          -0.8028940966744075,
          null,
          -0.22772499817554465,
          0.6639548025900841,
          null,
          -0.22772499817554465,
          -0.25020739034795014,
          null,
          -0.25020739034795014,
          0.5095286714411832,
          null,
          -0.25020739034795014,
          0.48767556780019117,
          null,
          -0.25020739034795014,
          -1.26339650521076,
          null,
          -0.25020739034795014,
          -0.22772499817554465,
          null,
          1.4417350563759224,
          0.48767556780019117,
          null,
          0.5095286714411832,
          1.0147673737344975,
          null,
          0.5095286714411832,
          0.5078851358796184,
          null,
          0.5095286714411832,
          -0.25020739034795014,
          null,
          -1.26339650521076,
          -0.25020739034795014,
          null,
          -0.8028940966744075,
          -0.22772499817554465,
          null,
          1.0147673737344975,
          0.5095286714411832,
          null,
          1.0147673737344975,
          0.960658277126842,
          null,
          1.0147673737344975,
          1.713361538616639,
          null,
          0.5078851358796184,
          0.5095286714411832,
          null,
          0.960658277126842,
          1.0147673737344975,
          null,
          1.713361538616639,
          1.0147673737344975,
          null,
          1.713361538616639,
          0.8730656770898954,
          null,
          1.713361538616639,
          2.649923599598679,
          null,
          1.713361538616639,
          1.988618927351242,
          null,
          0.8730656770898954,
          1.2694905776408296,
          null,
          0.8730656770898954,
          1.713361538616639,
          null,
          0.8730656770898954,
          -0.3176549433108178,
          null,
          2.649923599598679,
          1.713361538616639,
          null,
          1.988618927351242,
          1.713361538616639,
          null,
          -0.3176549433108178,
          -0.6445240804826176,
          null,
          -0.3176549433108178,
          0.8730656770898954,
          null,
          -0.3176549433108178,
          -1.1014536089720166,
          null,
          1.2694905776408296,
          0.4848736260030909,
          null,
          1.2694905776408296,
          2.1944750136890083,
          null,
          1.2694905776408296,
          0.8730656770898954,
          null,
          -1.1014536089720166,
          -0.700302890281211,
          null,
          -1.1014536089720166,
          -2.0227604258586216,
          null,
          -1.1014536089720166,
          -0.3176549433108178,
          null,
          -0.6445240804826176,
          -0.3176549433108178,
          null,
          -0.700302890281211,
          0.4848736260030909,
          null,
          -0.700302890281211,
          -1.309990015246693,
          null,
          -0.700302890281211,
          -1.1014536089720166,
          null,
          -2.0227604258586216,
          -1.1014536089720166,
          null,
          0.4848736260030909,
          -0.700302890281211,
          null,
          0.4848736260030909,
          1.2694905776408296,
          null,
          0.4848736260030909,
          0.7980804480001243,
          null,
          -1.309990015246693,
          -0.700302890281211,
          null,
          0.7980804480001243,
          0.4848736260030909,
          null,
          2.1944750136890083,
          1.2694905776408296,
          null,
          0.014185008361770775,
          0.44696166642082713,
          null,
          1.089542897961024,
          0.44696166642082713,
          null,
          1.089542897961024,
          0.9782534347781326,
          null,
          0.9782534347781326,
          1.089542897961024,
          null,
          -2.8809070670968073,
          -2.098352497992226,
          null,
          -2.321298042709645,
          -2.098352497992226,
          null,
          -2.213676500759653,
          -2.098352497992226,
          null
         ]
        }
       ],
       "layout": {
        "margin": {
         "b": 0,
         "l": 0,
         "r": 0,
         "t": 0
        },
        "scene": {
         "annotations": [
          {
           "showarrow": false,
           "text": "C",
           "x": -5.155663634589718,
           "y": -1.1292789234437335,
           "yshift": 15,
           "z": -0.5084850062413875
          },
          {
           "showarrow": false,
           "text": "C",
           "x": -3.746337994412031,
           "y": -0.5523382481520351,
           "yshift": 15,
           "z": -0.7029714163828924
          },
          {
           "showarrow": false,
           "text": "C",
           "x": -3.34340373036523,
           "y": 0.3631188803154761,
           "yshift": 15,
           "z": 0.4696350016816217
          },
          {
           "showarrow": false,
           "text": "N",
           "x": -1.8994874534550503,
           "y": 0.26001429161059414,
           "yshift": 15,
           "z": 0.6639548025900841
          },
          {
           "showarrow": false,
           "text": "C",
           "x": -1.3472687988451093,
           "y": -1.0991539350560708,
           "yshift": 15,
           "z": 0.48767556780019117
          },
          {
           "showarrow": false,
           "text": "S",
           "x": -2.542987583571174,
           "y": -1.975158787931914,
           "yshift": 15,
           "z": -0.6163656842460804
          },
          {
           "showarrow": false,
           "text": "C",
           "x": -0.14070392820926364,
           "y": -0.46305130558603347,
           "yshift": 15,
           "z": -0.25020739034795014
          },
          {
           "showarrow": false,
           "text": "C",
           "x": -1.0172392440248408,
           "y": 0.8137731133002517,
           "yshift": 15,
           "z": -0.22772499817554465
          },
          {
           "showarrow": false,
           "text": "O",
           "x": -1.0198465565927994,
           "y": 1.877637203207415,
           "yshift": 15,
           "z": -0.8028940966744075
          },
          {
           "showarrow": false,
           "text": "N",
           "x": 1.136006398273366,
           "y": -0.3462673966027059,
           "yshift": 15,
           "z": 0.5095286714411832
          },
          {
           "showarrow": false,
           "text": "C",
           "x": 1.7822395348013493,
           "y": -1.4522793489845323,
           "yshift": 15,
           "z": 1.0147673737344975
          },
          {
           "showarrow": false,
           "text": "O",
           "x": 1.2949548666935995,
           "y": -2.579147601730927,
           "yshift": 15,
           "z": 0.960658277126842
          },
          {
           "showarrow": false,
           "text": "C",
           "x": 3.1005223592758573,
           "y": -1.1694115928411708,
           "yshift": 15,
           "z": 1.713361538616639
          },
          {
           "showarrow": false,
           "text": "C",
           "x": 4.077726893607195,
           "y": -0.3826645678479479,
           "yshift": 15,
           "z": 0.8730656770898954
          },
          {
           "showarrow": false,
           "text": "C",
           "x": 4.58233212873384,
           "y": -0.9249402265910202,
           "yshift": 15,
           "z": -0.3176549433108178
          },
          {
           "showarrow": false,
           "text": "C",
           "x": 5.480929881966149,
           "y": -0.19937411523820917,
           "yshift": 15,
           "z": -1.1014536089720166
          },
          {
           "showarrow": false,
           "text": "C",
           "x": 5.886858006837913,
           "y": 1.071628709138178,
           "yshift": 15,
           "z": -0.700302890281211
          },
          {
           "showarrow": false,
           "text": "C",
           "x": 5.3955684377769675,
           "y": 1.6183539463805763,
           "yshift": 15,
           "z": 0.4848736260030909
          },
          {
           "showarrow": false,
           "text": "C",
           "x": 4.495864686783732,
           "y": 0.8943142632540547,
           "yshift": 15,
           "z": 1.2694905776408296
          },
          {
           "showarrow": false,
           "text": "C",
           "x": -3.9216557773926164,
           "y": 1.7780737224988037,
           "yshift": 15,
           "z": 0.44696166642082713
          },
          {
           "showarrow": false,
           "text": "O",
           "x": -5.019142104289946,
           "y": 2.0969894819908834,
           "yshift": 15,
           "z": 0.014185008361770775
          },
          {
           "showarrow": false,
           "text": "O",
           "x": -3.1658543292018897,
           "y": 2.692047333110802,
           "yshift": 15,
           "z": 1.089542897961024
          },
          {
           "showarrow": false,
           "text": "C",
           "x": -3.635744458347955,
           "y": 0.07405673664161158,
           "yshift": 15,
           "z": -2.098352497992226
          },
          {
           "showarrow": false,
           "text": "H",
           "x": -5.409256478618684,
           "y": -1.8510348896233828,
           "yshift": 15,
           "z": -1.2943198649199013
          },
          {
           "showarrow": false,
           "text": "H",
           "x": -5.260181536588799,
           "y": -1.6375069102013995,
           "yshift": 15,
           "z": 0.45791851075523365
          },
          {
           "showarrow": false,
           "text": "H",
           "x": -5.912870183081713,
           "y": -0.3380666511250697,
           "yshift": 15,
           "z": -0.5437559091171505
          },
          {
           "showarrow": false,
           "text": "H",
           "x": -3.7520883973287162,
           "y": -0.061176439343055423,
           "yshift": 15,
           "z": 1.3993170888716628
          },
          {
           "showarrow": false,
           "text": "H",
           "x": -1.1521214557147779,
           "y": -1.5960916684753736,
           "yshift": 15,
           "z": 1.4417350563759224
          },
          {
           "showarrow": false,
           "text": "H",
           "x": 0.048281669313962564,
           "y": -0.834549734884348,
           "yshift": 15,
           "z": -1.26339650521076
          },
          {
           "showarrow": false,
           "text": "H",
           "x": 1.6328492590581025,
           "y": 0.5405449646221883,
           "yshift": 15,
           "z": 0.5078851358796184
          },
          {
           "showarrow": false,
           "text": "H",
           "x": 2.8754366659941035,
           "y": -0.6448425326313088,
           "yshift": 15,
           "z": 2.649923599598679
          },
          {
           "showarrow": false,
           "text": "H",
           "x": 3.564003872808756,
           "y": -2.1249359799328067,
           "yshift": 15,
           "z": 1.988618927351242
          },
          {
           "showarrow": false,
           "text": "H",
           "x": 4.2791325311208634,
           "y": -1.918249606412569,
           "yshift": 15,
           "z": -0.6445240804826176
          },
          {
           "showarrow": false,
           "text": "H",
           "x": 5.867768352399289,
           "y": -0.628428897811977,
           "yshift": 15,
           "z": -2.0227604258586216
          },
          {
           "showarrow": false,
           "text": "H",
           "x": 6.58984297545508,
           "y": 1.635066798428426,
           "yshift": 15,
           "z": -1.309990015246693
          },
          {
           "showarrow": false,
           "text": "H",
           "x": 5.719022118434491,
           "y": 2.6080315682848387,
           "yshift": 15,
           "z": 0.7980804480001243
          },
          {
           "showarrow": false,
           "text": "H",
           "x": 4.13087743893479,
           "y": 1.3356877103010476,
           "yshift": 15,
           "z": 2.1944750136890083
          },
          {
           "showarrow": false,
           "text": "H",
           "x": -3.6446875661281894,
           "y": 3.538320989860779,
           "yshift": 15,
           "z": 0.9782534347781326
          },
          {
           "showarrow": false,
           "text": "H",
           "x": -3.890873182556631,
           "y": -0.6512878056777738,
           "yshift": 15,
           "z": -2.8809070670968073
          },
          {
           "showarrow": false,
           "text": "H",
           "x": -2.632994269016806,
           "y": 0.4485375164107488,
           "yshift": 15,
           "z": -2.321298042709645
          },
          {
           "showarrow": false,
           "text": "H",
           "x": -4.3298094159319795,
           "y": 0.9130399367697053,
           "yshift": 15,
           "z": -2.213676500759653
          }
         ],
         "xaxis": {
          "showbackground": false,
          "showgrid": false,
          "showticklabels": false,
          "title": {
           "font": {
            "color": "white"
           }
          },
          "zeroline": false
         },
         "yaxis": {
          "showbackground": false,
          "showgrid": false,
          "showticklabels": false,
          "title": {
           "font": {
            "color": "white"
           }
          },
          "zeroline": false
         },
         "zaxis": {
          "showbackground": false,
          "showgrid": false,
          "showticklabels": false,
          "title": {
           "font": {
            "color": "white"
           }
          },
          "zeroline": false
         }
        },
        "showlegend": false,
        "template": {
         "data": {
          "bar": [
           {
            "error_x": {
             "color": "#2a3f5f"
            },
            "error_y": {
             "color": "#2a3f5f"
            },
            "marker": {
             "line": {
              "color": "#E5ECF6",
              "width": 0.5
             },
             "pattern": {
              "fillmode": "overlay",
              "size": 10,
              "solidity": 0.2
             }
            },
            "type": "bar"
           }
          ],
          "barpolar": [
           {
            "marker": {
             "line": {
              "color": "#E5ECF6",
              "width": 0.5
             },
             "pattern": {
              "fillmode": "overlay",
              "size": 10,
              "solidity": 0.2
             }
            },
            "type": "barpolar"
           }
          ],
          "carpet": [
           {
            "aaxis": {
             "endlinecolor": "#2a3f5f",
             "gridcolor": "white",
             "linecolor": "white",
             "minorgridcolor": "white",
             "startlinecolor": "#2a3f5f"
            },
            "baxis": {
             "endlinecolor": "#2a3f5f",
             "gridcolor": "white",
             "linecolor": "white",
             "minorgridcolor": "white",
             "startlinecolor": "#2a3f5f"
            },
            "type": "carpet"
           }
          ],
          "choropleth": [
           {
            "colorbar": {
             "outlinewidth": 0,
             "ticks": ""
            },
            "type": "choropleth"
           }
          ],
          "contour": [
           {
            "colorbar": {
             "outlinewidth": 0,
             "ticks": ""
            },
            "colorscale": [
             [
              0,
              "#0d0887"
             ],
             [
              0.1111111111111111,
              "#46039f"
             ],
             [
              0.2222222222222222,
              "#7201a8"
             ],
             [
              0.3333333333333333,
              "#9c179e"
             ],
             [
              0.4444444444444444,
              "#bd3786"
             ],
             [
              0.5555555555555556,
              "#d8576b"
             ],
             [
              0.6666666666666666,
              "#ed7953"
             ],
             [
              0.7777777777777778,
              "#fb9f3a"
             ],
             [
              0.8888888888888888,
              "#fdca26"
             ],
             [
              1,
              "#f0f921"
             ]
            ],
            "type": "contour"
           }
          ],
          "contourcarpet": [
           {
            "colorbar": {
             "outlinewidth": 0,
             "ticks": ""
            },
            "type": "contourcarpet"
           }
          ],
          "heatmap": [
           {
            "colorbar": {
             "outlinewidth": 0,
             "ticks": ""
            },
            "colorscale": [
             [
              0,
              "#0d0887"
             ],
             [
              0.1111111111111111,
              "#46039f"
             ],
             [
              0.2222222222222222,
              "#7201a8"
             ],
             [
              0.3333333333333333,
              "#9c179e"
             ],
             [
              0.4444444444444444,
              "#bd3786"
             ],
             [
              0.5555555555555556,
              "#d8576b"
             ],
             [
              0.6666666666666666,
              "#ed7953"
             ],
             [
              0.7777777777777778,
              "#fb9f3a"
             ],
             [
              0.8888888888888888,
              "#fdca26"
             ],
             [
              1,
              "#f0f921"
             ]
            ],
            "type": "heatmap"
           }
          ],
          "heatmapgl": [
           {
            "colorbar": {
             "outlinewidth": 0,
             "ticks": ""
            },
            "colorscale": [
             [
              0,
              "#0d0887"
             ],
             [
              0.1111111111111111,
              "#46039f"
             ],
             [
              0.2222222222222222,
              "#7201a8"
             ],
             [
              0.3333333333333333,
              "#9c179e"
             ],
             [
              0.4444444444444444,
              "#bd3786"
             ],
             [
              0.5555555555555556,
              "#d8576b"
             ],
             [
              0.6666666666666666,
              "#ed7953"
             ],
             [
              0.7777777777777778,
              "#fb9f3a"
             ],
             [
              0.8888888888888888,
              "#fdca26"
             ],
             [
              1,
              "#f0f921"
             ]
            ],
            "type": "heatmapgl"
           }
          ],
          "histogram": [
           {
            "marker": {
             "pattern": {
              "fillmode": "overlay",
              "size": 10,
              "solidity": 0.2
             }
            },
            "type": "histogram"
           }
          ],
          "histogram2d": [
           {
            "colorbar": {
             "outlinewidth": 0,
             "ticks": ""
            },
            "colorscale": [
             [
              0,
              "#0d0887"
             ],
             [
              0.1111111111111111,
              "#46039f"
             ],
             [
              0.2222222222222222,
              "#7201a8"
             ],
             [
              0.3333333333333333,
              "#9c179e"
             ],
             [
              0.4444444444444444,
              "#bd3786"
             ],
             [
              0.5555555555555556,
              "#d8576b"
             ],
             [
              0.6666666666666666,
              "#ed7953"
             ],
             [
              0.7777777777777778,
              "#fb9f3a"
             ],
             [
              0.8888888888888888,
              "#fdca26"
             ],
             [
              1,
              "#f0f921"
             ]
            ],
            "type": "histogram2d"
           }
          ],
          "histogram2dcontour": [
           {
            "colorbar": {
             "outlinewidth": 0,
             "ticks": ""
            },
            "colorscale": [
             [
              0,
              "#0d0887"
             ],
             [
              0.1111111111111111,
              "#46039f"
             ],
             [
              0.2222222222222222,
              "#7201a8"
             ],
             [
              0.3333333333333333,
              "#9c179e"
             ],
             [
              0.4444444444444444,
              "#bd3786"
             ],
             [
              0.5555555555555556,
              "#d8576b"
             ],
             [
              0.6666666666666666,
              "#ed7953"
             ],
             [
              0.7777777777777778,
              "#fb9f3a"
             ],
             [
              0.8888888888888888,
              "#fdca26"
             ],
             [
              1,
              "#f0f921"
             ]
            ],
            "type": "histogram2dcontour"
           }
          ],
          "mesh3d": [
           {
            "colorbar": {
             "outlinewidth": 0,
             "ticks": ""
            },
            "type": "mesh3d"
           }
          ],
          "parcoords": [
           {
            "line": {
             "colorbar": {
              "outlinewidth": 0,
              "ticks": ""
             }
            },
            "type": "parcoords"
           }
          ],
          "pie": [
           {
            "automargin": true,
            "type": "pie"
           }
          ],
          "scatter": [
           {
            "fillpattern": {
             "fillmode": "overlay",
             "size": 10,
             "solidity": 0.2
            },
            "type": "scatter"
           }
          ],
          "scatter3d": [
           {
            "line": {
             "colorbar": {
              "outlinewidth": 0,
              "ticks": ""
             }
            },
            "marker": {
             "colorbar": {
              "outlinewidth": 0,
              "ticks": ""
             }
            },
            "type": "scatter3d"
           }
          ],
          "scattercarpet": [
           {
            "marker": {
             "colorbar": {
              "outlinewidth": 0,
              "ticks": ""
             }
            },
            "type": "scattercarpet"
           }
          ],
          "scattergeo": [
           {
            "marker": {
             "colorbar": {
              "outlinewidth": 0,
              "ticks": ""
             }
            },
            "type": "scattergeo"
           }
          ],
          "scattergl": [
           {
            "marker": {
             "colorbar": {
              "outlinewidth": 0,
              "ticks": ""
             }
            },
            "type": "scattergl"
           }
          ],
          "scattermapbox": [
           {
            "marker": {
             "colorbar": {
              "outlinewidth": 0,
              "ticks": ""
             }
            },
            "type": "scattermapbox"
           }
          ],
          "scatterpolar": [
           {
            "marker": {
             "colorbar": {
              "outlinewidth": 0,
              "ticks": ""
             }
            },
            "type": "scatterpolar"
           }
          ],
          "scatterpolargl": [
           {
            "marker": {
             "colorbar": {
              "outlinewidth": 0,
              "ticks": ""
             }
            },
            "type": "scatterpolargl"
           }
          ],
          "scatterternary": [
           {
            "marker": {
             "colorbar": {
              "outlinewidth": 0,
              "ticks": ""
             }
            },
            "type": "scatterternary"
           }
          ],
          "surface": [
           {
            "colorbar": {
             "outlinewidth": 0,
             "ticks": ""
            },
            "colorscale": [
             [
              0,
              "#0d0887"
             ],
             [
              0.1111111111111111,
              "#46039f"
             ],
             [
              0.2222222222222222,
              "#7201a8"
             ],
             [
              0.3333333333333333,
              "#9c179e"
             ],
             [
              0.4444444444444444,
              "#bd3786"
             ],
             [
              0.5555555555555556,
              "#d8576b"
             ],
             [
              0.6666666666666666,
              "#ed7953"
             ],
             [
              0.7777777777777778,
              "#fb9f3a"
             ],
             [
              0.8888888888888888,
              "#fdca26"
             ],
             [
              1,
              "#f0f921"
             ]
            ],
            "type": "surface"
           }
          ],
          "table": [
           {
            "cells": {
             "fill": {
              "color": "#EBF0F8"
             },
             "line": {
              "color": "white"
             }
            },
            "header": {
             "fill": {
              "color": "#C8D4E3"
             },
             "line": {
              "color": "white"
             }
            },
            "type": "table"
           }
          ]
         },
         "layout": {
          "annotationdefaults": {
           "arrowcolor": "#2a3f5f",
           "arrowhead": 0,
           "arrowwidth": 1
          },
          "autotypenumbers": "strict",
          "coloraxis": {
           "colorbar": {
            "outlinewidth": 0,
            "ticks": ""
           }
          },
          "colorscale": {
           "diverging": [
            [
             0,
             "#8e0152"
            ],
            [
             0.1,
             "#c51b7d"
            ],
            [
             0.2,
             "#de77ae"
            ],
            [
             0.3,
             "#f1b6da"
            ],
            [
             0.4,
             "#fde0ef"
            ],
            [
             0.5,
             "#f7f7f7"
            ],
            [
             0.6,
             "#e6f5d0"
            ],
            [
             0.7,
             "#b8e186"
            ],
            [
             0.8,
             "#7fbc41"
            ],
            [
             0.9,
             "#4d9221"
            ],
            [
             1,
             "#276419"
            ]
           ],
           "sequential": [
            [
             0,
             "#0d0887"
            ],
            [
             0.1111111111111111,
             "#46039f"
            ],
            [
             0.2222222222222222,
             "#7201a8"
            ],
            [
             0.3333333333333333,
             "#9c179e"
            ],
            [
             0.4444444444444444,
             "#bd3786"
            ],
            [
             0.5555555555555556,
             "#d8576b"
            ],
            [
             0.6666666666666666,
             "#ed7953"
            ],
            [
             0.7777777777777778,
             "#fb9f3a"
            ],
            [
             0.8888888888888888,
             "#fdca26"
            ],
            [
             1,
             "#f0f921"
            ]
           ],
           "sequentialminus": [
            [
             0,
             "#0d0887"
            ],
            [
             0.1111111111111111,
             "#46039f"
            ],
            [
             0.2222222222222222,
             "#7201a8"
            ],
            [
             0.3333333333333333,
             "#9c179e"
            ],
            [
             0.4444444444444444,
             "#bd3786"
            ],
            [
             0.5555555555555556,
             "#d8576b"
            ],
            [
             0.6666666666666666,
             "#ed7953"
            ],
            [
             0.7777777777777778,
             "#fb9f3a"
            ],
            [
             0.8888888888888888,
             "#fdca26"
            ],
            [
             1,
             "#f0f921"
            ]
           ]
          },
          "colorway": [
           "#636efa",
           "#EF553B",
           "#00cc96",
           "#ab63fa",
           "#FFA15A",
           "#19d3f3",
           "#FF6692",
           "#B6E880",
           "#FF97FF",
           "#FECB52"
          ],
          "font": {
           "color": "#2a3f5f"
          },
          "geo": {
           "bgcolor": "white",
           "lakecolor": "white",
           "landcolor": "#E5ECF6",
           "showlakes": true,
           "showland": true,
           "subunitcolor": "white"
          },
          "hoverlabel": {
           "align": "left"
          },
          "hovermode": "closest",
          "mapbox": {
           "style": "light"
          },
          "paper_bgcolor": "white",
          "plot_bgcolor": "#E5ECF6",
          "polar": {
           "angularaxis": {
            "gridcolor": "white",
            "linecolor": "white",
            "ticks": ""
           },
           "bgcolor": "#E5ECF6",
           "radialaxis": {
            "gridcolor": "white",
            "linecolor": "white",
            "ticks": ""
           }
          },
          "scene": {
           "xaxis": {
            "backgroundcolor": "#E5ECF6",
            "gridcolor": "white",
            "gridwidth": 2,
            "linecolor": "white",
            "showbackground": true,
            "ticks": "",
            "zerolinecolor": "white"
           },
           "yaxis": {
            "backgroundcolor": "#E5ECF6",
            "gridcolor": "white",
            "gridwidth": 2,
            "linecolor": "white",
            "showbackground": true,
            "ticks": "",
            "zerolinecolor": "white"
           },
           "zaxis": {
            "backgroundcolor": "#E5ECF6",
            "gridcolor": "white",
            "gridwidth": 2,
            "linecolor": "white",
            "showbackground": true,
            "ticks": "",
            "zerolinecolor": "white"
           }
          },
          "shapedefaults": {
           "line": {
            "color": "#2a3f5f"
           }
          },
          "ternary": {
           "aaxis": {
            "gridcolor": "white",
            "linecolor": "white",
            "ticks": ""
           },
           "baxis": {
            "gridcolor": "white",
            "linecolor": "white",
            "ticks": ""
           },
           "bgcolor": "#E5ECF6",
           "caxis": {
            "gridcolor": "white",
            "linecolor": "white",
            "ticks": ""
           }
          },
          "title": {
           "x": 0.05
          },
          "xaxis": {
           "automargin": true,
           "gridcolor": "white",
           "linecolor": "white",
           "ticks": "",
           "title": {
            "standoff": 15
           },
           "zerolinecolor": "white",
           "zerolinewidth": 2
          },
          "yaxis": {
           "automargin": true,
           "gridcolor": "white",
           "linecolor": "white",
           "ticks": "",
           "title": {
            "standoff": 15
           },
           "zerolinecolor": "white",
           "zerolinewidth": 2
          }
         }
        },
        "updatemenus": [
         {
          "buttons": [
           {
            "args": [
             {
              "scene.annotations": [
               {
                "showarrow": false,
                "text": "C",
                "x": -5.155663634589718,
                "y": -1.1292789234437335,
                "yshift": 15,
                "z": -0.5084850062413875
               },
               {
                "showarrow": false,
                "text": "C",
                "x": -3.746337994412031,
                "y": -0.5523382481520351,
                "yshift": 15,
                "z": -0.7029714163828924
               },
               {
                "showarrow": false,
                "text": "C",
                "x": -3.34340373036523,
                "y": 0.3631188803154761,
                "yshift": 15,
                "z": 0.4696350016816217
               },
               {
                "showarrow": false,
                "text": "N",
                "x": -1.8994874534550503,
                "y": 0.26001429161059414,
                "yshift": 15,
                "z": 0.6639548025900841
               },
               {
                "showarrow": false,
                "text": "C",
                "x": -1.3472687988451093,
                "y": -1.0991539350560708,
                "yshift": 15,
                "z": 0.48767556780019117
               },
               {
                "showarrow": false,
                "text": "S",
                "x": -2.542987583571174,
                "y": -1.975158787931914,
                "yshift": 15,
                "z": -0.6163656842460804
               },
               {
                "showarrow": false,
                "text": "C",
                "x": -0.14070392820926364,
                "y": -0.46305130558603347,
                "yshift": 15,
                "z": -0.25020739034795014
               },
               {
                "showarrow": false,
                "text": "C",
                "x": -1.0172392440248408,
                "y": 0.8137731133002517,
                "yshift": 15,
                "z": -0.22772499817554465
               },
               {
                "showarrow": false,
                "text": "O",
                "x": -1.0198465565927994,
                "y": 1.877637203207415,
                "yshift": 15,
                "z": -0.8028940966744075
               },
               {
                "showarrow": false,
                "text": "N",
                "x": 1.136006398273366,
                "y": -0.3462673966027059,
                "yshift": 15,
                "z": 0.5095286714411832
               },
               {
                "showarrow": false,
                "text": "C",
                "x": 1.7822395348013493,
                "y": -1.4522793489845323,
                "yshift": 15,
                "z": 1.0147673737344975
               },
               {
                "showarrow": false,
                "text": "O",
                "x": 1.2949548666935995,
                "y": -2.579147601730927,
                "yshift": 15,
                "z": 0.960658277126842
               },
               {
                "showarrow": false,
                "text": "C",
                "x": 3.1005223592758573,
                "y": -1.1694115928411708,
                "yshift": 15,
                "z": 1.713361538616639
               },
               {
                "showarrow": false,
                "text": "C",
                "x": 4.077726893607195,
                "y": -0.3826645678479479,
                "yshift": 15,
                "z": 0.8730656770898954
               },
               {
                "showarrow": false,
                "text": "C",
                "x": 4.58233212873384,
                "y": -0.9249402265910202,
                "yshift": 15,
                "z": -0.3176549433108178
               },
               {
                "showarrow": false,
                "text": "C",
                "x": 5.480929881966149,
                "y": -0.19937411523820917,
                "yshift": 15,
                "z": -1.1014536089720166
               },
               {
                "showarrow": false,
                "text": "C",
                "x": 5.886858006837913,
                "y": 1.071628709138178,
                "yshift": 15,
                "z": -0.700302890281211
               },
               {
                "showarrow": false,
                "text": "C",
                "x": 5.3955684377769675,
                "y": 1.6183539463805763,
                "yshift": 15,
                "z": 0.4848736260030909
               },
               {
                "showarrow": false,
                "text": "C",
                "x": 4.495864686783732,
                "y": 0.8943142632540547,
                "yshift": 15,
                "z": 1.2694905776408296
               },
               {
                "showarrow": false,
                "text": "C",
                "x": -3.9216557773926164,
                "y": 1.7780737224988037,
                "yshift": 15,
                "z": 0.44696166642082713
               },
               {
                "showarrow": false,
                "text": "O",
                "x": -5.019142104289946,
                "y": 2.0969894819908834,
                "yshift": 15,
                "z": 0.014185008361770775
               },
               {
                "showarrow": false,
                "text": "O",
                "x": -3.1658543292018897,
                "y": 2.692047333110802,
                "yshift": 15,
                "z": 1.089542897961024
               },
               {
                "showarrow": false,
                "text": "C",
                "x": -3.635744458347955,
                "y": 0.07405673664161158,
                "yshift": 15,
                "z": -2.098352497992226
               },
               {
                "showarrow": false,
                "text": "H",
                "x": -5.409256478618684,
                "y": -1.8510348896233828,
                "yshift": 15,
                "z": -1.2943198649199013
               },
               {
                "showarrow": false,
                "text": "H",
                "x": -5.260181536588799,
                "y": -1.6375069102013995,
                "yshift": 15,
                "z": 0.45791851075523365
               },
               {
                "showarrow": false,
                "text": "H",
                "x": -5.912870183081713,
                "y": -0.3380666511250697,
                "yshift": 15,
                "z": -0.5437559091171505
               },
               {
                "showarrow": false,
                "text": "H",
                "x": -3.7520883973287162,
                "y": -0.061176439343055423,
                "yshift": 15,
                "z": 1.3993170888716628
               },
               {
                "showarrow": false,
                "text": "H",
                "x": -1.1521214557147779,
                "y": -1.5960916684753736,
                "yshift": 15,
                "z": 1.4417350563759224
               },
               {
                "showarrow": false,
                "text": "H",
                "x": 0.048281669313962564,
                "y": -0.834549734884348,
                "yshift": 15,
                "z": -1.26339650521076
               },
               {
                "showarrow": false,
                "text": "H",
                "x": 1.6328492590581025,
                "y": 0.5405449646221883,
                "yshift": 15,
                "z": 0.5078851358796184
               },
               {
                "showarrow": false,
                "text": "H",
                "x": 2.8754366659941035,
                "y": -0.6448425326313088,
                "yshift": 15,
                "z": 2.649923599598679
               },
               {
                "showarrow": false,
                "text": "H",
                "x": 3.564003872808756,
                "y": -2.1249359799328067,
                "yshift": 15,
                "z": 1.988618927351242
               },
               {
                "showarrow": false,
                "text": "H",
                "x": 4.2791325311208634,
                "y": -1.918249606412569,
                "yshift": 15,
                "z": -0.6445240804826176
               },
               {
                "showarrow": false,
                "text": "H",
                "x": 5.867768352399289,
                "y": -0.628428897811977,
                "yshift": 15,
                "z": -2.0227604258586216
               },
               {
                "showarrow": false,
                "text": "H",
                "x": 6.58984297545508,
                "y": 1.635066798428426,
                "yshift": 15,
                "z": -1.309990015246693
               },
               {
                "showarrow": false,
                "text": "H",
                "x": 5.719022118434491,
                "y": 2.6080315682848387,
                "yshift": 15,
                "z": 0.7980804480001243
               },
               {
                "showarrow": false,
                "text": "H",
                "x": 4.13087743893479,
                "y": 1.3356877103010476,
                "yshift": 15,
                "z": 2.1944750136890083
               },
               {
                "showarrow": false,
                "text": "H",
                "x": -3.6446875661281894,
                "y": 3.538320989860779,
                "yshift": 15,
                "z": 0.9782534347781326
               },
               {
                "showarrow": false,
                "text": "H",
                "x": -3.890873182556631,
                "y": -0.6512878056777738,
                "yshift": 15,
                "z": -2.8809070670968073
               },
               {
                "showarrow": false,
                "text": "H",
                "x": -2.632994269016806,
                "y": 0.4485375164107488,
                "yshift": 15,
                "z": -2.321298042709645
               },
               {
                "showarrow": false,
                "text": "H",
                "x": -4.3298094159319795,
                "y": 0.9130399367697053,
                "yshift": 15,
                "z": -2.213676500759653
               }
              ]
             }
            ],
            "label": " Elements",
            "method": "relayout"
           },
           {
            "args": [
             {
              "scene.annotations": [
               {
                "showarrow": false,
                "text": "C",
                "x": -5.155663634589718,
                "y": -1.1292789234437335,
                "yshift": 15,
                "z": -0.5084850062413875
               },
               {
                "showarrow": false,
                "text": "C",
                "x": -3.746337994412031,
                "y": -0.5523382481520351,
                "yshift": 15,
                "z": -0.7029714163828924
               },
               {
                "showarrow": false,
                "text": "C",
                "x": -3.34340373036523,
                "y": 0.3631188803154761,
                "yshift": 15,
                "z": 0.4696350016816217
               },
               {
                "showarrow": false,
                "text": "N",
                "x": -1.8994874534550503,
                "y": 0.26001429161059414,
                "yshift": 15,
                "z": 0.6639548025900841
               },
               {
                "showarrow": false,
                "text": "C",
                "x": -1.3472687988451093,
                "y": -1.0991539350560708,
                "yshift": 15,
                "z": 0.48767556780019117
               },
               {
                "showarrow": false,
                "text": "S",
                "x": -2.542987583571174,
                "y": -1.975158787931914,
                "yshift": 15,
                "z": -0.6163656842460804
               },
               {
                "showarrow": false,
                "text": "C",
                "x": -0.14070392820926364,
                "y": -0.46305130558603347,
                "yshift": 15,
                "z": -0.25020739034795014
               },
               {
                "showarrow": false,
                "text": "C",
                "x": -1.0172392440248408,
                "y": 0.8137731133002517,
                "yshift": 15,
                "z": -0.22772499817554465
               },
               {
                "showarrow": false,
                "text": "O",
                "x": -1.0198465565927994,
                "y": 1.877637203207415,
                "yshift": 15,
                "z": -0.8028940966744075
               },
               {
                "showarrow": false,
                "text": "N",
                "x": 1.136006398273366,
                "y": -0.3462673966027059,
                "yshift": 15,
                "z": 0.5095286714411832
               },
               {
                "showarrow": false,
                "text": "C",
                "x": 1.7822395348013493,
                "y": -1.4522793489845323,
                "yshift": 15,
                "z": 1.0147673737344975
               },
               {
                "showarrow": false,
                "text": "O",
                "x": 1.2949548666935995,
                "y": -2.579147601730927,
                "yshift": 15,
                "z": 0.960658277126842
               },
               {
                "showarrow": false,
                "text": "C",
                "x": 3.1005223592758573,
                "y": -1.1694115928411708,
                "yshift": 15,
                "z": 1.713361538616639
               },
               {
                "showarrow": false,
                "text": "C",
                "x": 4.077726893607195,
                "y": -0.3826645678479479,
                "yshift": 15,
                "z": 0.8730656770898954
               },
               {
                "showarrow": false,
                "text": "C",
                "x": 4.58233212873384,
                "y": -0.9249402265910202,
                "yshift": 15,
                "z": -0.3176549433108178
               },
               {
                "showarrow": false,
                "text": "C",
                "x": 5.480929881966149,
                "y": -0.19937411523820917,
                "yshift": 15,
                "z": -1.1014536089720166
               },
               {
                "showarrow": false,
                "text": "C",
                "x": 5.886858006837913,
                "y": 1.071628709138178,
                "yshift": 15,
                "z": -0.700302890281211
               },
               {
                "showarrow": false,
                "text": "C",
                "x": 5.3955684377769675,
                "y": 1.6183539463805763,
                "yshift": 15,
                "z": 0.4848736260030909
               },
               {
                "showarrow": false,
                "text": "C",
                "x": 4.495864686783732,
                "y": 0.8943142632540547,
                "yshift": 15,
                "z": 1.2694905776408296
               },
               {
                "showarrow": false,
                "text": "C",
                "x": -3.9216557773926164,
                "y": 1.7780737224988037,
                "yshift": 15,
                "z": 0.44696166642082713
               },
               {
                "showarrow": false,
                "text": "O",
                "x": -5.019142104289946,
                "y": 2.0969894819908834,
                "yshift": 15,
                "z": 0.014185008361770775
               },
               {
                "showarrow": false,
                "text": "O",
                "x": -3.1658543292018897,
                "y": 2.692047333110802,
                "yshift": 15,
                "z": 1.089542897961024
               },
               {
                "showarrow": false,
                "text": "C",
                "x": -3.635744458347955,
                "y": 0.07405673664161158,
                "yshift": 15,
                "z": -2.098352497992226
               },
               {
                "showarrow": false,
                "text": "H",
                "x": -5.409256478618684,
                "y": -1.8510348896233828,
                "yshift": 15,
                "z": -1.2943198649199013
               },
               {
                "showarrow": false,
                "text": "H",
                "x": -5.260181536588799,
                "y": -1.6375069102013995,
                "yshift": 15,
                "z": 0.45791851075523365
               },
               {
                "showarrow": false,
                "text": "H",
                "x": -5.912870183081713,
                "y": -0.3380666511250697,
                "yshift": 15,
                "z": -0.5437559091171505
               },
               {
                "showarrow": false,
                "text": "H",
                "x": -3.7520883973287162,
                "y": -0.061176439343055423,
                "yshift": 15,
                "z": 1.3993170888716628
               },
               {
                "showarrow": false,
                "text": "H",
                "x": -1.1521214557147779,
                "y": -1.5960916684753736,
                "yshift": 15,
                "z": 1.4417350563759224
               },
               {
                "showarrow": false,
                "text": "H",
                "x": 0.048281669313962564,
                "y": -0.834549734884348,
                "yshift": 15,
                "z": -1.26339650521076
               },
               {
                "showarrow": false,
                "text": "H",
                "x": 1.6328492590581025,
                "y": 0.5405449646221883,
                "yshift": 15,
                "z": 0.5078851358796184
               },
               {
                "showarrow": false,
                "text": "H",
                "x": 2.8754366659941035,
                "y": -0.6448425326313088,
                "yshift": 15,
                "z": 2.649923599598679
               },
               {
                "showarrow": false,
                "text": "H",
                "x": 3.564003872808756,
                "y": -2.1249359799328067,
                "yshift": 15,
                "z": 1.988618927351242
               },
               {
                "showarrow": false,
                "text": "H",
                "x": 4.2791325311208634,
                "y": -1.918249606412569,
                "yshift": 15,
                "z": -0.6445240804826176
               },
               {
                "showarrow": false,
                "text": "H",
                "x": 5.867768352399289,
                "y": -0.628428897811977,
                "yshift": 15,
                "z": -2.0227604258586216
               },
               {
                "showarrow": false,
                "text": "H",
                "x": 6.58984297545508,
                "y": 1.635066798428426,
                "yshift": 15,
                "z": -1.309990015246693
               },
               {
                "showarrow": false,
                "text": "H",
                "x": 5.719022118434491,
                "y": 2.6080315682848387,
                "yshift": 15,
                "z": 0.7980804480001243
               },
               {
                "showarrow": false,
                "text": "H",
                "x": 4.13087743893479,
                "y": 1.3356877103010476,
                "yshift": 15,
                "z": 2.1944750136890083
               },
               {
                "showarrow": false,
                "text": "H",
                "x": -3.6446875661281894,
                "y": 3.538320989860779,
                "yshift": 15,
                "z": 0.9782534347781326
               },
               {
                "showarrow": false,
                "text": "H",
                "x": -3.890873182556631,
                "y": -0.6512878056777738,
                "yshift": 15,
                "z": -2.8809070670968073
               },
               {
                "showarrow": false,
                "text": "H",
                "x": -2.632994269016806,
                "y": 0.4485375164107488,
                "yshift": 15,
                "z": -2.321298042709645
               },
               {
                "showarrow": false,
                "text": "H",
                "x": -4.3298094159319795,
                "y": 0.9130399367697053,
                "yshift": 15,
                "z": -2.213676500759653
               },
               {
                "font": {
                 "color": "steelblue"
                },
                "showarrow": false,
                "text": 1.77,
                "x": -4.451000814500874,
                "y": -0.8408085857978843,
                "yshift": 15,
                "z": -0.6057282113121399
               },
               {
                "font": {
                 "color": "steelblue"
                },
                "showarrow": false,
                "text": 1.18,
                "x": -5.282460056604201,
                "y": -1.4901569065335583,
                "yshift": 15,
                "z": -0.9014024355806444
               },
               {
                "font": {
                 "color": "steelblue"
                },
                "showarrow": false,
                "text": 1.18,
                "x": -5.207922585589259,
                "y": -1.3833929168225665,
                "yshift": 15,
                "z": -0.025283247743076914
               },
               {
                "font": {
                 "color": "steelblue"
                },
                "showarrow": false,
                "text": 1.18,
                "x": -5.534266908835716,
                "y": -0.7336727872844016,
                "yshift": 15,
                "z": -0.5261204576792691
               },
               {
                "font": {
                 "color": "steelblue"
                },
                "showarrow": false,
                "text": 1.77,
                "x": -3.5448708623886303,
                "y": -0.09460968391827951,
                "yshift": 15,
                "z": -0.11666820735063535
               },
               {
                "font": {
                 "color": "steelblue"
                },
                "showarrow": false,
                "text": 2.21,
                "x": -3.1446627889916026,
                "y": -1.2637485180419745,
                "yshift": 15,
                "z": -0.6596685503144863
               },
               {
                "font": {
                 "color": "steelblue"
                },
                "showarrow": false,
                "text": 1.77,
                "x": -3.691041226379993,
                "y": -0.23914075575521176,
                "yshift": 15,
                "z": -1.4006619571875591
               },
               {
                "font": {
                 "color": "steelblue"
                },
                "showarrow": false,
                "text": 1.77,
                "x": -2.62144559191014,
                "y": 0.3115665859630351,
                "yshift": 15,
                "z": 0.5667949021358529
               },
               {
                "font": {
                 "color": "steelblue"
                },
                "showarrow": false,
                "text": 1.77,
                "x": -3.632529753878923,
                "y": 1.0705963014071398,
                "yshift": 15,
                "z": 0.45829833405122444
               },
               {
                "font": {
                 "color": "steelblue"
                },
                "showarrow": false,
                "text": 1.18,
                "x": -3.547746063846973,
                "y": 0.15097122048621034,
                "yshift": 15,
                "z": 0.9344760452766423
               },
               {
                "font": {
                 "color": "steelblue"
                },
                "showarrow": false,
                "text": 1.77,
                "x": -1.62337812615008,
                "y": -0.4195698217227384,
                "yshift": 15,
                "z": 0.5758151851951376
               },
               {
                "font": {
                 "color": "steelblue"
                },
                "showarrow": false,
                "text": 1.77,
                "x": -1.4583633487399457,
                "y": 0.5368937024554229,
                "yshift": 15,
                "z": 0.21811490220726973
               },
               {
                "font": {
                 "color": "steelblue"
                },
                "showarrow": false,
                "text": 2.21,
                "x": -1.9451281912081417,
                "y": -1.5371563614939925,
                "yshift": 15,
                "z": -0.06434505822294462
               },
               {
                "font": {
                 "color": "steelblue"
                },
                "showarrow": false,
                "text": 1.77,
                "x": -0.7439863635271865,
                "y": -0.7811026203210522,
                "yshift": 15,
                "z": 0.11873408872612051
               },
               {
                "font": {
                 "color": "steelblue"
                },
                "showarrow": false,
                "text": 1.18,
                "x": -1.2496951272799435,
                "y": -1.3476228017657221,
                "yshift": 15,
                "z": 0.9647053120880568
               },
               {
                "font": {
                 "color": "steelblue"
                },
                "showarrow": false,
                "text": 1.77,
                "x": -0.5789715861170522,
                "y": 0.17536090385710912,
                "yshift": 15,
                "z": -0.2389661942617474
               },
               {
                "font": {
                 "color": "steelblue"
                },
                "showarrow": false,
                "text": 1.77,
                "x": 0.4976512350320511,
                "y": -0.4046593510943697,
                "yshift": 15,
                "z": 0.12966064054661652
               },
               {
                "font": {
                 "color": "steelblue"
                },
                "showarrow": false,
                "text": 1.18,
                "x": -0.04621112944765054,
                "y": -0.6488005202351907,
                "yshift": 15,
                "z": -0.756801947779355
               },
               {
                "font": {
                 "color": "steelblue"
                },
                "showarrow": false,
                "text": 1.77,
                "x": -1.01854290030882,
                "y": 1.3457051582538333,
                "yshift": 15,
                "z": -0.515309547424976
               },
               {
                "font": {
                 "color": "steelblue"
                },
                "showarrow": false,
                "text": 1.77,
                "x": 1.4591229665373575,
                "y": -0.8992733727936191,
                "yshift": 15,
                "z": 0.7621480225878403
               },
               {
                "font": {
                 "color": "steelblue"
                },
                "showarrow": false,
                "text": 1.18,
                "x": 1.3844278286657343,
                "y": 0.09713878400974119,
                "yshift": 15,
                "z": 0.5087069036604008
               },
               {
                "font": {
                 "color": "steelblue"
                },
                "showarrow": false,
                "text": 1.77,
                "x": 1.5385972007474744,
                "y": -2.01571347535773,
                "yshift": 15,
                "z": 0.9877128254306697
               },
               {
                "font": {
                 "color": "steelblue"
                },
                "showarrow": false,
                "text": 1.77,
                "x": 2.441380947038603,
                "y": -1.3108454709128514,
                "yshift": 15,
                "z": 1.3640644561755684
               },
               {
                "font": {
                 "color": "steelblue"
                },
                "showarrow": false,
                "text": 1.77,
                "x": 3.589124626441526,
                "y": -0.7760380803445593,
                "yshift": 15,
                "z": 1.2932136078532672
               },
               {
                "font": {
                 "color": "steelblue"
                },
                "showarrow": false,
                "text": 1.18,
                "x": 2.9879795126349804,
                "y": -0.9071270627362398,
                "yshift": 15,
                "z": 2.181642569107659
               },
               {
                "font": {
                 "color": "steelblue"
                },
                "showarrow": false,
                "text": 1.18,
                "x": 3.3322631160423066,
                "y": -1.6471737863869889,
                "yshift": 15,
                "z": 1.8509902329839405
               },
               {
                "font": {
                 "color": "steelblue"
                },
                "showarrow": false,
                "text": 1.77,
                "x": 4.330029511170517,
                "y": -0.653802397219484,
                "yshift": 15,
                "z": 0.2777053668895388
               },
               {
                "font": {
                 "color": "steelblue"
                },
                "showarrow": false,
                "text": 1.77,
                "x": 4.286795790195463,
                "y": 0.2558248477030534,
                "yshift": 15,
                "z": 1.0712781273653624
               },
               {
                "font": {
                 "color": "steelblue"
                },
                "showarrow": false,
                "text": 1.77,
                "x": 5.031631005349994,
                "y": -0.5621571709146147,
                "yshift": 15,
                "z": -0.7095542761414172
               },
               {
                "font": {
                 "color": "steelblue"
                },
                "showarrow": false,
                "text": 1.18,
                "x": 4.430732329927352,
                "y": -1.4215949165017945,
                "yshift": 15,
                "z": -0.48108951189671767
               },
               {
                "font": {
                 "color": "steelblue"
                },
                "showarrow": false,
                "text": 1.77,
                "x": 5.683893944402031,
                "y": 0.4361272969499844,
                "yshift": 15,
                "z": -0.9008782496266138
               },
               {
                "font": {
                 "color": "steelblue"
                },
                "showarrow": false,
                "text": 1.18,
                "x": 5.674349117182719,
                "y": -0.41390150652509305,
                "yshift": 15,
                "z": -1.562107017415319
               },
               {
                "font": {
                 "color": "steelblue"
                },
                "showarrow": false,
                "text": 1.77,
                "x": 5.6412132223074405,
                "y": 1.3449913277593772,
                "yshift": 15,
                "z": -0.10771463213906002
               },
               {
                "font": {
                 "color": "steelblue"
                },
                "showarrow": false,
                "text": 1.18,
                "x": 6.238350491146496,
                "y": 1.3533477537833019,
                "yshift": 15,
                "z": -1.005146452763952
               },
               {
                "font": {
                 "color": "steelblue"
                },
                "showarrow": false,
                "text": 1.77,
                "x": 4.945716562280349,
                "y": 1.2563341048173156,
                "yshift": 15,
                "z": 0.8771821018219603
               },
               {
                "font": {
                 "color": "steelblue"
                },
                "showarrow": false,
                "text": 1.18,
                "x": 5.557295278105729,
                "y": 2.1131927573327074,
                "yshift": 15,
                "z": 0.6414770370016076
               },
               {
                "font": {
                 "color": "steelblue"
                },
                "showarrow": false,
                "text": 1.18,
                "x": 4.313371062859261,
                "y": 1.1150009867775512,
                "yshift": 15,
                "z": 1.731982795664919
               },
               {
                "font": {
                 "color": "steelblue"
                },
                "showarrow": false,
                "text": 1.77,
                "x": -4.470398940841282,
                "y": 1.9375316022448437,
                "yshift": 15,
                "z": 0.23057333739129895
               },
               {
                "font": {
                 "color": "steelblue"
                },
                "showarrow": false,
                "text": 1.77,
                "x": -3.543755053297253,
                "y": 2.235060527804803,
                "yshift": 15,
                "z": 0.7682522821909256
               },
               {
                "font": {
                 "color": "steelblue"
                },
                "showarrow": false,
                "text": 1.18,
                "x": -3.4052709476650396,
                "y": 3.1151841614857902,
                "yshift": 15,
                "z": 1.0338981663695783
               },
               {
                "font": {
                 "color": "steelblue"
                },
                "showarrow": false,
                "text": 1.18,
                "x": -3.763308820452293,
                "y": -0.2886155345180811,
                "yshift": 15,
                "z": -2.4896297825445166
               },
               {
                "font": {
                 "color": "steelblue"
                },
                "showarrow": false,
                "text": 1.18,
                "x": -3.1343693636823806,
                "y": 0.2612971265261802,
                "yshift": 15,
                "z": -2.2098252703509353
               },
               {
                "font": {
                 "color": "steelblue"
                },
                "showarrow": false,
                "text": 1.18,
                "x": -3.9827769371399673,
                "y": 0.49354833670565845,
                "yshift": 15,
                "z": -2.1560144993759396
               }
              ]
             }
            ],
            "label": " Elements & Bond Lengths",
            "method": "relayout"
           },
           {
            "args": [
             {
              "scene.annotations": [
               {
                "showarrow": false,
                "text": 0,
                "x": -5.155663634589718,
                "y": -1.1292789234437335,
                "yshift": 15,
                "z": -0.5084850062413875
               },
               {
                "showarrow": false,
                "text": 1,
                "x": -3.746337994412031,
                "y": -0.5523382481520351,
                "yshift": 15,
                "z": -0.7029714163828924
               },
               {
                "showarrow": false,
                "text": 2,
                "x": -3.34340373036523,
                "y": 0.3631188803154761,
                "yshift": 15,
                "z": 0.4696350016816217
               },
               {
                "showarrow": false,
                "text": 3,
                "x": -1.8994874534550503,
                "y": 0.26001429161059414,
                "yshift": 15,
                "z": 0.6639548025900841
               },
               {
                "showarrow": false,
                "text": 4,
                "x": -1.3472687988451093,
                "y": -1.0991539350560708,
                "yshift": 15,
                "z": 0.48767556780019117
               },
               {
                "showarrow": false,
                "text": 5,
                "x": -2.542987583571174,
                "y": -1.975158787931914,
                "yshift": 15,
                "z": -0.6163656842460804
               },
               {
                "showarrow": false,
                "text": 6,
                "x": -0.14070392820926364,
                "y": -0.46305130558603347,
                "yshift": 15,
                "z": -0.25020739034795014
               },
               {
                "showarrow": false,
                "text": 7,
                "x": -1.0172392440248408,
                "y": 0.8137731133002517,
                "yshift": 15,
                "z": -0.22772499817554465
               },
               {
                "showarrow": false,
                "text": 8,
                "x": -1.0198465565927994,
                "y": 1.877637203207415,
                "yshift": 15,
                "z": -0.8028940966744075
               },
               {
                "showarrow": false,
                "text": 9,
                "x": 1.136006398273366,
                "y": -0.3462673966027059,
                "yshift": 15,
                "z": 0.5095286714411832
               },
               {
                "showarrow": false,
                "text": 10,
                "x": 1.7822395348013493,
                "y": -1.4522793489845323,
                "yshift": 15,
                "z": 1.0147673737344975
               },
               {
                "showarrow": false,
                "text": 11,
                "x": 1.2949548666935995,
                "y": -2.579147601730927,
                "yshift": 15,
                "z": 0.960658277126842
               },
               {
                "showarrow": false,
                "text": 12,
                "x": 3.1005223592758573,
                "y": -1.1694115928411708,
                "yshift": 15,
                "z": 1.713361538616639
               },
               {
                "showarrow": false,
                "text": 13,
                "x": 4.077726893607195,
                "y": -0.3826645678479479,
                "yshift": 15,
                "z": 0.8730656770898954
               },
               {
                "showarrow": false,
                "text": 14,
                "x": 4.58233212873384,
                "y": -0.9249402265910202,
                "yshift": 15,
                "z": -0.3176549433108178
               },
               {
                "showarrow": false,
                "text": 15,
                "x": 5.480929881966149,
                "y": -0.19937411523820917,
                "yshift": 15,
                "z": -1.1014536089720166
               },
               {
                "showarrow": false,
                "text": 16,
                "x": 5.886858006837913,
                "y": 1.071628709138178,
                "yshift": 15,
                "z": -0.700302890281211
               },
               {
                "showarrow": false,
                "text": 17,
                "x": 5.3955684377769675,
                "y": 1.6183539463805763,
                "yshift": 15,
                "z": 0.4848736260030909
               },
               {
                "showarrow": false,
                "text": 18,
                "x": 4.495864686783732,
                "y": 0.8943142632540547,
                "yshift": 15,
                "z": 1.2694905776408296
               },
               {
                "showarrow": false,
                "text": 19,
                "x": -3.9216557773926164,
                "y": 1.7780737224988037,
                "yshift": 15,
                "z": 0.44696166642082713
               },
               {
                "showarrow": false,
                "text": 20,
                "x": -5.019142104289946,
                "y": 2.0969894819908834,
                "yshift": 15,
                "z": 0.014185008361770775
               },
               {
                "showarrow": false,
                "text": 21,
                "x": -3.1658543292018897,
                "y": 2.692047333110802,
                "yshift": 15,
                "z": 1.089542897961024
               },
               {
                "showarrow": false,
                "text": 22,
                "x": -3.635744458347955,
                "y": 0.07405673664161158,
                "yshift": 15,
                "z": -2.098352497992226
               },
               {
                "showarrow": false,
                "text": 23,
                "x": -5.409256478618684,
                "y": -1.8510348896233828,
                "yshift": 15,
                "z": -1.2943198649199013
               },
               {
                "showarrow": false,
                "text": 24,
                "x": -5.260181536588799,
                "y": -1.6375069102013995,
                "yshift": 15,
                "z": 0.45791851075523365
               },
               {
                "showarrow": false,
                "text": 25,
                "x": -5.912870183081713,
                "y": -0.3380666511250697,
                "yshift": 15,
                "z": -0.5437559091171505
               },
               {
                "showarrow": false,
                "text": 26,
                "x": -3.7520883973287162,
                "y": -0.061176439343055423,
                "yshift": 15,
                "z": 1.3993170888716628
               },
               {
                "showarrow": false,
                "text": 27,
                "x": -1.1521214557147779,
                "y": -1.5960916684753736,
                "yshift": 15,
                "z": 1.4417350563759224
               },
               {
                "showarrow": false,
                "text": 28,
                "x": 0.048281669313962564,
                "y": -0.834549734884348,
                "yshift": 15,
                "z": -1.26339650521076
               },
               {
                "showarrow": false,
                "text": 29,
                "x": 1.6328492590581025,
                "y": 0.5405449646221883,
                "yshift": 15,
                "z": 0.5078851358796184
               },
               {
                "showarrow": false,
                "text": 30,
                "x": 2.8754366659941035,
                "y": -0.6448425326313088,
                "yshift": 15,
                "z": 2.649923599598679
               },
               {
                "showarrow": false,
                "text": 31,
                "x": 3.564003872808756,
                "y": -2.1249359799328067,
                "yshift": 15,
                "z": 1.988618927351242
               },
               {
                "showarrow": false,
                "text": 32,
                "x": 4.2791325311208634,
                "y": -1.918249606412569,
                "yshift": 15,
                "z": -0.6445240804826176
               },
               {
                "showarrow": false,
                "text": 33,
                "x": 5.867768352399289,
                "y": -0.628428897811977,
                "yshift": 15,
                "z": -2.0227604258586216
               },
               {
                "showarrow": false,
                "text": 34,
                "x": 6.58984297545508,
                "y": 1.635066798428426,
                "yshift": 15,
                "z": -1.309990015246693
               },
               {
                "showarrow": false,
                "text": 35,
                "x": 5.719022118434491,
                "y": 2.6080315682848387,
                "yshift": 15,
                "z": 0.7980804480001243
               },
               {
                "showarrow": false,
                "text": 36,
                "x": 4.13087743893479,
                "y": 1.3356877103010476,
                "yshift": 15,
                "z": 2.1944750136890083
               },
               {
                "showarrow": false,
                "text": 37,
                "x": -3.6446875661281894,
                "y": 3.538320989860779,
                "yshift": 15,
                "z": 0.9782534347781326
               },
               {
                "showarrow": false,
                "text": 38,
                "x": -3.890873182556631,
                "y": -0.6512878056777738,
                "yshift": 15,
                "z": -2.8809070670968073
               },
               {
                "showarrow": false,
                "text": 39,
                "x": -2.632994269016806,
                "y": 0.4485375164107488,
                "yshift": 15,
                "z": -2.321298042709645
               },
               {
                "showarrow": false,
                "text": 40,
                "x": -4.3298094159319795,
                "y": 0.9130399367697053,
                "yshift": 15,
                "z": -2.213676500759653
               }
              ]
             }
            ],
            "label": "Indices",
            "method": "relayout"
           },
           {
            "args": [
             {
              "scene.annotations": [
               {
                "showarrow": false,
                "text": 0,
                "x": -5.155663634589718,
                "y": -1.1292789234437335,
                "yshift": 15,
                "z": -0.5084850062413875
               },
               {
                "showarrow": false,
                "text": 1,
                "x": -3.746337994412031,
                "y": -0.5523382481520351,
                "yshift": 15,
                "z": -0.7029714163828924
               },
               {
                "showarrow": false,
                "text": 2,
                "x": -3.34340373036523,
                "y": 0.3631188803154761,
                "yshift": 15,
                "z": 0.4696350016816217
               },
               {
                "showarrow": false,
                "text": 3,
                "x": -1.8994874534550503,
                "y": 0.26001429161059414,
                "yshift": 15,
                "z": 0.6639548025900841
               },
               {
                "showarrow": false,
                "text": 4,
                "x": -1.3472687988451093,
                "y": -1.0991539350560708,
                "yshift": 15,
                "z": 0.48767556780019117
               },
               {
                "showarrow": false,
                "text": 5,
                "x": -2.542987583571174,
                "y": -1.975158787931914,
                "yshift": 15,
                "z": -0.6163656842460804
               },
               {
                "showarrow": false,
                "text": 6,
                "x": -0.14070392820926364,
                "y": -0.46305130558603347,
                "yshift": 15,
                "z": -0.25020739034795014
               },
               {
                "showarrow": false,
                "text": 7,
                "x": -1.0172392440248408,
                "y": 0.8137731133002517,
                "yshift": 15,
                "z": -0.22772499817554465
               },
               {
                "showarrow": false,
                "text": 8,
                "x": -1.0198465565927994,
                "y": 1.877637203207415,
                "yshift": 15,
                "z": -0.8028940966744075
               },
               {
                "showarrow": false,
                "text": 9,
                "x": 1.136006398273366,
                "y": -0.3462673966027059,
                "yshift": 15,
                "z": 0.5095286714411832
               },
               {
                "showarrow": false,
                "text": 10,
                "x": 1.7822395348013493,
                "y": -1.4522793489845323,
                "yshift": 15,
                "z": 1.0147673737344975
               },
               {
                "showarrow": false,
                "text": 11,
                "x": 1.2949548666935995,
                "y": -2.579147601730927,
                "yshift": 15,
                "z": 0.960658277126842
               },
               {
                "showarrow": false,
                "text": 12,
                "x": 3.1005223592758573,
                "y": -1.1694115928411708,
                "yshift": 15,
                "z": 1.713361538616639
               },
               {
                "showarrow": false,
                "text": 13,
                "x": 4.077726893607195,
                "y": -0.3826645678479479,
                "yshift": 15,
                "z": 0.8730656770898954
               },
               {
                "showarrow": false,
                "text": 14,
                "x": 4.58233212873384,
                "y": -0.9249402265910202,
                "yshift": 15,
                "z": -0.3176549433108178
               },
               {
                "showarrow": false,
                "text": 15,
                "x": 5.480929881966149,
                "y": -0.19937411523820917,
                "yshift": 15,
                "z": -1.1014536089720166
               },
               {
                "showarrow": false,
                "text": 16,
                "x": 5.886858006837913,
                "y": 1.071628709138178,
                "yshift": 15,
                "z": -0.700302890281211
               },
               {
                "showarrow": false,
                "text": 17,
                "x": 5.3955684377769675,
                "y": 1.6183539463805763,
                "yshift": 15,
                "z": 0.4848736260030909
               },
               {
                "showarrow": false,
                "text": 18,
                "x": 4.495864686783732,
                "y": 0.8943142632540547,
                "yshift": 15,
                "z": 1.2694905776408296
               },
               {
                "showarrow": false,
                "text": 19,
                "x": -3.9216557773926164,
                "y": 1.7780737224988037,
                "yshift": 15,
                "z": 0.44696166642082713
               },
               {
                "showarrow": false,
                "text": 20,
                "x": -5.019142104289946,
                "y": 2.0969894819908834,
                "yshift": 15,
                "z": 0.014185008361770775
               },
               {
                "showarrow": false,
                "text": 21,
                "x": -3.1658543292018897,
                "y": 2.692047333110802,
                "yshift": 15,
                "z": 1.089542897961024
               },
               {
                "showarrow": false,
                "text": 22,
                "x": -3.635744458347955,
                "y": 0.07405673664161158,
                "yshift": 15,
                "z": -2.098352497992226
               },
               {
                "showarrow": false,
                "text": 23,
                "x": -5.409256478618684,
                "y": -1.8510348896233828,
                "yshift": 15,
                "z": -1.2943198649199013
               },
               {
                "showarrow": false,
                "text": 24,
                "x": -5.260181536588799,
                "y": -1.6375069102013995,
                "yshift": 15,
                "z": 0.45791851075523365
               },
               {
                "showarrow": false,
                "text": 25,
                "x": -5.912870183081713,
                "y": -0.3380666511250697,
                "yshift": 15,
                "z": -0.5437559091171505
               },
               {
                "showarrow": false,
                "text": 26,
                "x": -3.7520883973287162,
                "y": -0.061176439343055423,
                "yshift": 15,
                "z": 1.3993170888716628
               },
               {
                "showarrow": false,
                "text": 27,
                "x": -1.1521214557147779,
                "y": -1.5960916684753736,
                "yshift": 15,
                "z": 1.4417350563759224
               },
               {
                "showarrow": false,
                "text": 28,
                "x": 0.048281669313962564,
                "y": -0.834549734884348,
                "yshift": 15,
                "z": -1.26339650521076
               },
               {
                "showarrow": false,
                "text": 29,
                "x": 1.6328492590581025,
                "y": 0.5405449646221883,
                "yshift": 15,
                "z": 0.5078851358796184
               },
               {
                "showarrow": false,
                "text": 30,
                "x": 2.8754366659941035,
                "y": -0.6448425326313088,
                "yshift": 15,
                "z": 2.649923599598679
               },
               {
                "showarrow": false,
                "text": 31,
                "x": 3.564003872808756,
                "y": -2.1249359799328067,
                "yshift": 15,
                "z": 1.988618927351242
               },
               {
                "showarrow": false,
                "text": 32,
                "x": 4.2791325311208634,
                "y": -1.918249606412569,
                "yshift": 15,
                "z": -0.6445240804826176
               },
               {
                "showarrow": false,
                "text": 33,
                "x": 5.867768352399289,
                "y": -0.628428897811977,
                "yshift": 15,
                "z": -2.0227604258586216
               },
               {
                "showarrow": false,
                "text": 34,
                "x": 6.58984297545508,
                "y": 1.635066798428426,
                "yshift": 15,
                "z": -1.309990015246693
               },
               {
                "showarrow": false,
                "text": 35,
                "x": 5.719022118434491,
                "y": 2.6080315682848387,
                "yshift": 15,
                "z": 0.7980804480001243
               },
               {
                "showarrow": false,
                "text": 36,
                "x": 4.13087743893479,
                "y": 1.3356877103010476,
                "yshift": 15,
                "z": 2.1944750136890083
               },
               {
                "showarrow": false,
                "text": 37,
                "x": -3.6446875661281894,
                "y": 3.538320989860779,
                "yshift": 15,
                "z": 0.9782534347781326
               },
               {
                "showarrow": false,
                "text": 38,
                "x": -3.890873182556631,
                "y": -0.6512878056777738,
                "yshift": 15,
                "z": -2.8809070670968073
               },
               {
                "showarrow": false,
                "text": 39,
                "x": -2.632994269016806,
                "y": 0.4485375164107488,
                "yshift": 15,
                "z": -2.321298042709645
               },
               {
                "showarrow": false,
                "text": 40,
                "x": -4.3298094159319795,
                "y": 0.9130399367697053,
                "yshift": 15,
                "z": -2.213676500759653
               },
               {
                "font": {
                 "color": "steelblue"
                },
                "showarrow": false,
                "text": 1.77,
                "x": -4.451000814500874,
                "y": -0.8408085857978843,
                "yshift": 15,
                "z": -0.6057282113121399
               },
               {
                "font": {
                 "color": "steelblue"
                },
                "showarrow": false,
                "text": 1.18,
                "x": -5.282460056604201,
                "y": -1.4901569065335583,
                "yshift": 15,
                "z": -0.9014024355806444
               },
               {
                "font": {
                 "color": "steelblue"
                },
                "showarrow": false,
                "text": 1.18,
                "x": -5.207922585589259,
                "y": -1.3833929168225665,
                "yshift": 15,
                "z": -0.025283247743076914
               },
               {
                "font": {
                 "color": "steelblue"
                },
                "showarrow": false,
                "text": 1.18,
                "x": -5.534266908835716,
                "y": -0.7336727872844016,
                "yshift": 15,
                "z": -0.5261204576792691
               },
               {
                "font": {
                 "color": "steelblue"
                },
                "showarrow": false,
                "text": 1.77,
                "x": -3.5448708623886303,
                "y": -0.09460968391827951,
                "yshift": 15,
                "z": -0.11666820735063535
               },
               {
                "font": {
                 "color": "steelblue"
                },
                "showarrow": false,
                "text": 2.21,
                "x": -3.1446627889916026,
                "y": -1.2637485180419745,
                "yshift": 15,
                "z": -0.6596685503144863
               },
               {
                "font": {
                 "color": "steelblue"
                },
                "showarrow": false,
                "text": 1.77,
                "x": -3.691041226379993,
                "y": -0.23914075575521176,
                "yshift": 15,
                "z": -1.4006619571875591
               },
               {
                "font": {
                 "color": "steelblue"
                },
                "showarrow": false,
                "text": 1.77,
                "x": -2.62144559191014,
                "y": 0.3115665859630351,
                "yshift": 15,
                "z": 0.5667949021358529
               },
               {
                "font": {
                 "color": "steelblue"
                },
                "showarrow": false,
                "text": 1.77,
                "x": -3.632529753878923,
                "y": 1.0705963014071398,
                "yshift": 15,
                "z": 0.45829833405122444
               },
               {
                "font": {
                 "color": "steelblue"
                },
                "showarrow": false,
                "text": 1.18,
                "x": -3.547746063846973,
                "y": 0.15097122048621034,
                "yshift": 15,
                "z": 0.9344760452766423
               },
               {
                "font": {
                 "color": "steelblue"
                },
                "showarrow": false,
                "text": 1.77,
                "x": -1.62337812615008,
                "y": -0.4195698217227384,
                "yshift": 15,
                "z": 0.5758151851951376
               },
               {
                "font": {
                 "color": "steelblue"
                },
                "showarrow": false,
                "text": 1.77,
                "x": -1.4583633487399457,
                "y": 0.5368937024554229,
                "yshift": 15,
                "z": 0.21811490220726973
               },
               {
                "font": {
                 "color": "steelblue"
                },
                "showarrow": false,
                "text": 2.21,
                "x": -1.9451281912081417,
                "y": -1.5371563614939925,
                "yshift": 15,
                "z": -0.06434505822294462
               },
               {
                "font": {
                 "color": "steelblue"
                },
                "showarrow": false,
                "text": 1.77,
                "x": -0.7439863635271865,
                "y": -0.7811026203210522,
                "yshift": 15,
                "z": 0.11873408872612051
               },
               {
                "font": {
                 "color": "steelblue"
                },
                "showarrow": false,
                "text": 1.18,
                "x": -1.2496951272799435,
                "y": -1.3476228017657221,
                "yshift": 15,
                "z": 0.9647053120880568
               },
               {
                "font": {
                 "color": "steelblue"
                },
                "showarrow": false,
                "text": 1.77,
                "x": -0.5789715861170522,
                "y": 0.17536090385710912,
                "yshift": 15,
                "z": -0.2389661942617474
               },
               {
                "font": {
                 "color": "steelblue"
                },
                "showarrow": false,
                "text": 1.77,
                "x": 0.4976512350320511,
                "y": -0.4046593510943697,
                "yshift": 15,
                "z": 0.12966064054661652
               },
               {
                "font": {
                 "color": "steelblue"
                },
                "showarrow": false,
                "text": 1.18,
                "x": -0.04621112944765054,
                "y": -0.6488005202351907,
                "yshift": 15,
                "z": -0.756801947779355
               },
               {
                "font": {
                 "color": "steelblue"
                },
                "showarrow": false,
                "text": 1.77,
                "x": -1.01854290030882,
                "y": 1.3457051582538333,
                "yshift": 15,
                "z": -0.515309547424976
               },
               {
                "font": {
                 "color": "steelblue"
                },
                "showarrow": false,
                "text": 1.77,
                "x": 1.4591229665373575,
                "y": -0.8992733727936191,
                "yshift": 15,
                "z": 0.7621480225878403
               },
               {
                "font": {
                 "color": "steelblue"
                },
                "showarrow": false,
                "text": 1.18,
                "x": 1.3844278286657343,
                "y": 0.09713878400974119,
                "yshift": 15,
                "z": 0.5087069036604008
               },
               {
                "font": {
                 "color": "steelblue"
                },
                "showarrow": false,
                "text": 1.77,
                "x": 1.5385972007474744,
                "y": -2.01571347535773,
                "yshift": 15,
                "z": 0.9877128254306697
               },
               {
                "font": {
                 "color": "steelblue"
                },
                "showarrow": false,
                "text": 1.77,
                "x": 2.441380947038603,
                "y": -1.3108454709128514,
                "yshift": 15,
                "z": 1.3640644561755684
               },
               {
                "font": {
                 "color": "steelblue"
                },
                "showarrow": false,
                "text": 1.77,
                "x": 3.589124626441526,
                "y": -0.7760380803445593,
                "yshift": 15,
                "z": 1.2932136078532672
               },
               {
                "font": {
                 "color": "steelblue"
                },
                "showarrow": false,
                "text": 1.18,
                "x": 2.9879795126349804,
                "y": -0.9071270627362398,
                "yshift": 15,
                "z": 2.181642569107659
               },
               {
                "font": {
                 "color": "steelblue"
                },
                "showarrow": false,
                "text": 1.18,
                "x": 3.3322631160423066,
                "y": -1.6471737863869889,
                "yshift": 15,
                "z": 1.8509902329839405
               },
               {
                "font": {
                 "color": "steelblue"
                },
                "showarrow": false,
                "text": 1.77,
                "x": 4.330029511170517,
                "y": -0.653802397219484,
                "yshift": 15,
                "z": 0.2777053668895388
               },
               {
                "font": {
                 "color": "steelblue"
                },
                "showarrow": false,
                "text": 1.77,
                "x": 4.286795790195463,
                "y": 0.2558248477030534,
                "yshift": 15,
                "z": 1.0712781273653624
               },
               {
                "font": {
                 "color": "steelblue"
                },
                "showarrow": false,
                "text": 1.77,
                "x": 5.031631005349994,
                "y": -0.5621571709146147,
                "yshift": 15,
                "z": -0.7095542761414172
               },
               {
                "font": {
                 "color": "steelblue"
                },
                "showarrow": false,
                "text": 1.18,
                "x": 4.430732329927352,
                "y": -1.4215949165017945,
                "yshift": 15,
                "z": -0.48108951189671767
               },
               {
                "font": {
                 "color": "steelblue"
                },
                "showarrow": false,
                "text": 1.77,
                "x": 5.683893944402031,
                "y": 0.4361272969499844,
                "yshift": 15,
                "z": -0.9008782496266138
               },
               {
                "font": {
                 "color": "steelblue"
                },
                "showarrow": false,
                "text": 1.18,
                "x": 5.674349117182719,
                "y": -0.41390150652509305,
                "yshift": 15,
                "z": -1.562107017415319
               },
               {
                "font": {
                 "color": "steelblue"
                },
                "showarrow": false,
                "text": 1.77,
                "x": 5.6412132223074405,
                "y": 1.3449913277593772,
                "yshift": 15,
                "z": -0.10771463213906002
               },
               {
                "font": {
                 "color": "steelblue"
                },
                "showarrow": false,
                "text": 1.18,
                "x": 6.238350491146496,
                "y": 1.3533477537833019,
                "yshift": 15,
                "z": -1.005146452763952
               },
               {
                "font": {
                 "color": "steelblue"
                },
                "showarrow": false,
                "text": 1.77,
                "x": 4.945716562280349,
                "y": 1.2563341048173156,
                "yshift": 15,
                "z": 0.8771821018219603
               },
               {
                "font": {
                 "color": "steelblue"
                },
                "showarrow": false,
                "text": 1.18,
                "x": 5.557295278105729,
                "y": 2.1131927573327074,
                "yshift": 15,
                "z": 0.6414770370016076
               },
               {
                "font": {
                 "color": "steelblue"
                },
                "showarrow": false,
                "text": 1.18,
                "x": 4.313371062859261,
                "y": 1.1150009867775512,
                "yshift": 15,
                "z": 1.731982795664919
               },
               {
                "font": {
                 "color": "steelblue"
                },
                "showarrow": false,
                "text": 1.77,
                "x": -4.470398940841282,
                "y": 1.9375316022448437,
                "yshift": 15,
                "z": 0.23057333739129895
               },
               {
                "font": {
                 "color": "steelblue"
                },
                "showarrow": false,
                "text": 1.77,
                "x": -3.543755053297253,
                "y": 2.235060527804803,
                "yshift": 15,
                "z": 0.7682522821909256
               },
               {
                "font": {
                 "color": "steelblue"
                },
                "showarrow": false,
                "text": 1.18,
                "x": -3.4052709476650396,
                "y": 3.1151841614857902,
                "yshift": 15,
                "z": 1.0338981663695783
               },
               {
                "font": {
                 "color": "steelblue"
                },
                "showarrow": false,
                "text": 1.18,
                "x": -3.763308820452293,
                "y": -0.2886155345180811,
                "yshift": 15,
                "z": -2.4896297825445166
               },
               {
                "font": {
                 "color": "steelblue"
                },
                "showarrow": false,
                "text": 1.18,
                "x": -3.1343693636823806,
                "y": 0.2612971265261802,
                "yshift": 15,
                "z": -2.2098252703509353
               },
               {
                "font": {
                 "color": "steelblue"
                },
                "showarrow": false,
                "text": 1.18,
                "x": -3.9827769371399673,
                "y": 0.49354833670565845,
                "yshift": 15,
                "z": -2.1560144993759396
               }
              ]
             }
            ],
            "label": "Indices & Bond Lengths",
            "method": "relayout"
           },
           {
            "args": [
             {
              "scene.annotations": [
               {
                "font": {
                 "color": "steelblue"
                },
                "showarrow": false,
                "text": 1.77,
                "x": -4.451000814500874,
                "y": -0.8408085857978843,
                "yshift": 15,
                "z": -0.6057282113121399
               },
               {
                "font": {
                 "color": "steelblue"
                },
                "showarrow": false,
                "text": 1.18,
                "x": -5.282460056604201,
                "y": -1.4901569065335583,
                "yshift": 15,
                "z": -0.9014024355806444
               },
               {
                "font": {
                 "color": "steelblue"
                },
                "showarrow": false,
                "text": 1.18,
                "x": -5.207922585589259,
                "y": -1.3833929168225665,
                "yshift": 15,
                "z": -0.025283247743076914
               },
               {
                "font": {
                 "color": "steelblue"
                },
                "showarrow": false,
                "text": 1.18,
                "x": -5.534266908835716,
                "y": -0.7336727872844016,
                "yshift": 15,
                "z": -0.5261204576792691
               },
               {
                "font": {
                 "color": "steelblue"
                },
                "showarrow": false,
                "text": 1.77,
                "x": -3.5448708623886303,
                "y": -0.09460968391827951,
                "yshift": 15,
                "z": -0.11666820735063535
               },
               {
                "font": {
                 "color": "steelblue"
                },
                "showarrow": false,
                "text": 2.21,
                "x": -3.1446627889916026,
                "y": -1.2637485180419745,
                "yshift": 15,
                "z": -0.6596685503144863
               },
               {
                "font": {
                 "color": "steelblue"
                },
                "showarrow": false,
                "text": 1.77,
                "x": -3.691041226379993,
                "y": -0.23914075575521176,
                "yshift": 15,
                "z": -1.4006619571875591
               },
               {
                "font": {
                 "color": "steelblue"
                },
                "showarrow": false,
                "text": 1.77,
                "x": -2.62144559191014,
                "y": 0.3115665859630351,
                "yshift": 15,
                "z": 0.5667949021358529
               },
               {
                "font": {
                 "color": "steelblue"
                },
                "showarrow": false,
                "text": 1.77,
                "x": -3.632529753878923,
                "y": 1.0705963014071398,
                "yshift": 15,
                "z": 0.45829833405122444
               },
               {
                "font": {
                 "color": "steelblue"
                },
                "showarrow": false,
                "text": 1.18,
                "x": -3.547746063846973,
                "y": 0.15097122048621034,
                "yshift": 15,
                "z": 0.9344760452766423
               },
               {
                "font": {
                 "color": "steelblue"
                },
                "showarrow": false,
                "text": 1.77,
                "x": -1.62337812615008,
                "y": -0.4195698217227384,
                "yshift": 15,
                "z": 0.5758151851951376
               },
               {
                "font": {
                 "color": "steelblue"
                },
                "showarrow": false,
                "text": 1.77,
                "x": -1.4583633487399457,
                "y": 0.5368937024554229,
                "yshift": 15,
                "z": 0.21811490220726973
               },
               {
                "font": {
                 "color": "steelblue"
                },
                "showarrow": false,
                "text": 2.21,
                "x": -1.9451281912081417,
                "y": -1.5371563614939925,
                "yshift": 15,
                "z": -0.06434505822294462
               },
               {
                "font": {
                 "color": "steelblue"
                },
                "showarrow": false,
                "text": 1.77,
                "x": -0.7439863635271865,
                "y": -0.7811026203210522,
                "yshift": 15,
                "z": 0.11873408872612051
               },
               {
                "font": {
                 "color": "steelblue"
                },
                "showarrow": false,
                "text": 1.18,
                "x": -1.2496951272799435,
                "y": -1.3476228017657221,
                "yshift": 15,
                "z": 0.9647053120880568
               },
               {
                "font": {
                 "color": "steelblue"
                },
                "showarrow": false,
                "text": 1.77,
                "x": -0.5789715861170522,
                "y": 0.17536090385710912,
                "yshift": 15,
                "z": -0.2389661942617474
               },
               {
                "font": {
                 "color": "steelblue"
                },
                "showarrow": false,
                "text": 1.77,
                "x": 0.4976512350320511,
                "y": -0.4046593510943697,
                "yshift": 15,
                "z": 0.12966064054661652
               },
               {
                "font": {
                 "color": "steelblue"
                },
                "showarrow": false,
                "text": 1.18,
                "x": -0.04621112944765054,
                "y": -0.6488005202351907,
                "yshift": 15,
                "z": -0.756801947779355
               },
               {
                "font": {
                 "color": "steelblue"
                },
                "showarrow": false,
                "text": 1.77,
                "x": -1.01854290030882,
                "y": 1.3457051582538333,
                "yshift": 15,
                "z": -0.515309547424976
               },
               {
                "font": {
                 "color": "steelblue"
                },
                "showarrow": false,
                "text": 1.77,
                "x": 1.4591229665373575,
                "y": -0.8992733727936191,
                "yshift": 15,
                "z": 0.7621480225878403
               },
               {
                "font": {
                 "color": "steelblue"
                },
                "showarrow": false,
                "text": 1.18,
                "x": 1.3844278286657343,
                "y": 0.09713878400974119,
                "yshift": 15,
                "z": 0.5087069036604008
               },
               {
                "font": {
                 "color": "steelblue"
                },
                "showarrow": false,
                "text": 1.77,
                "x": 1.5385972007474744,
                "y": -2.01571347535773,
                "yshift": 15,
                "z": 0.9877128254306697
               },
               {
                "font": {
                 "color": "steelblue"
                },
                "showarrow": false,
                "text": 1.77,
                "x": 2.441380947038603,
                "y": -1.3108454709128514,
                "yshift": 15,
                "z": 1.3640644561755684
               },
               {
                "font": {
                 "color": "steelblue"
                },
                "showarrow": false,
                "text": 1.77,
                "x": 3.589124626441526,
                "y": -0.7760380803445593,
                "yshift": 15,
                "z": 1.2932136078532672
               },
               {
                "font": {
                 "color": "steelblue"
                },
                "showarrow": false,
                "text": 1.18,
                "x": 2.9879795126349804,
                "y": -0.9071270627362398,
                "yshift": 15,
                "z": 2.181642569107659
               },
               {
                "font": {
                 "color": "steelblue"
                },
                "showarrow": false,
                "text": 1.18,
                "x": 3.3322631160423066,
                "y": -1.6471737863869889,
                "yshift": 15,
                "z": 1.8509902329839405
               },
               {
                "font": {
                 "color": "steelblue"
                },
                "showarrow": false,
                "text": 1.77,
                "x": 4.330029511170517,
                "y": -0.653802397219484,
                "yshift": 15,
                "z": 0.2777053668895388
               },
               {
                "font": {
                 "color": "steelblue"
                },
                "showarrow": false,
                "text": 1.77,
                "x": 4.286795790195463,
                "y": 0.2558248477030534,
                "yshift": 15,
                "z": 1.0712781273653624
               },
               {
                "font": {
                 "color": "steelblue"
                },
                "showarrow": false,
                "text": 1.77,
                "x": 5.031631005349994,
                "y": -0.5621571709146147,
                "yshift": 15,
                "z": -0.7095542761414172
               },
               {
                "font": {
                 "color": "steelblue"
                },
                "showarrow": false,
                "text": 1.18,
                "x": 4.430732329927352,
                "y": -1.4215949165017945,
                "yshift": 15,
                "z": -0.48108951189671767
               },
               {
                "font": {
                 "color": "steelblue"
                },
                "showarrow": false,
                "text": 1.77,
                "x": 5.683893944402031,
                "y": 0.4361272969499844,
                "yshift": 15,
                "z": -0.9008782496266138
               },
               {
                "font": {
                 "color": "steelblue"
                },
                "showarrow": false,
                "text": 1.18,
                "x": 5.674349117182719,
                "y": -0.41390150652509305,
                "yshift": 15,
                "z": -1.562107017415319
               },
               {
                "font": {
                 "color": "steelblue"
                },
                "showarrow": false,
                "text": 1.77,
                "x": 5.6412132223074405,
                "y": 1.3449913277593772,
                "yshift": 15,
                "z": -0.10771463213906002
               },
               {
                "font": {
                 "color": "steelblue"
                },
                "showarrow": false,
                "text": 1.18,
                "x": 6.238350491146496,
                "y": 1.3533477537833019,
                "yshift": 15,
                "z": -1.005146452763952
               },
               {
                "font": {
                 "color": "steelblue"
                },
                "showarrow": false,
                "text": 1.77,
                "x": 4.945716562280349,
                "y": 1.2563341048173156,
                "yshift": 15,
                "z": 0.8771821018219603
               },
               {
                "font": {
                 "color": "steelblue"
                },
                "showarrow": false,
                "text": 1.18,
                "x": 5.557295278105729,
                "y": 2.1131927573327074,
                "yshift": 15,
                "z": 0.6414770370016076
               },
               {
                "font": {
                 "color": "steelblue"
                },
                "showarrow": false,
                "text": 1.18,
                "x": 4.313371062859261,
                "y": 1.1150009867775512,
                "yshift": 15,
                "z": 1.731982795664919
               },
               {
                "font": {
                 "color": "steelblue"
                },
                "showarrow": false,
                "text": 1.77,
                "x": -4.470398940841282,
                "y": 1.9375316022448437,
                "yshift": 15,
                "z": 0.23057333739129895
               },
               {
                "font": {
                 "color": "steelblue"
                },
                "showarrow": false,
                "text": 1.77,
                "x": -3.543755053297253,
                "y": 2.235060527804803,
                "yshift": 15,
                "z": 0.7682522821909256
               },
               {
                "font": {
                 "color": "steelblue"
                },
                "showarrow": false,
                "text": 1.18,
                "x": -3.4052709476650396,
                "y": 3.1151841614857902,
                "yshift": 15,
                "z": 1.0338981663695783
               },
               {
                "font": {
                 "color": "steelblue"
                },
                "showarrow": false,
                "text": 1.18,
                "x": -3.763308820452293,
                "y": -0.2886155345180811,
                "yshift": 15,
                "z": -2.4896297825445166
               },
               {
                "font": {
                 "color": "steelblue"
                },
                "showarrow": false,
                "text": 1.18,
                "x": -3.1343693636823806,
                "y": 0.2612971265261802,
                "yshift": 15,
                "z": -2.2098252703509353
               },
               {
                "font": {
                 "color": "steelblue"
                },
                "showarrow": false,
                "text": 1.18,
                "x": -3.9827769371399673,
                "y": 0.49354833670565845,
                "yshift": 15,
                "z": -2.1560144993759396
               }
              ]
             }
            ],
            "label": "Bond Lengths",
            "method": "relayout"
           },
           {
            "args": [
             {
              "scene.annotations": []
             }
            ],
            "label": "Hide All",
            "method": "relayout"
           }
          ],
          "direction": "down",
          "xanchor": "left",
          "yanchor": "top"
         }
        ]
       }
      }
     },
     "metadata": {},
     "output_type": "display_data"
    }
   ],
   "source": [
    "import MASSiveChem.MASSiveChem as MC\n",
    "\n",
    "mol_smi = 'CC1(C(N2C(S1)C(C2=O)NC(=O)CC3=CC=CC=C3)C(=O)O)C'\n",
    "\n",
    "output =MC.smiles_to_3D_plot(mol_smi)\n",
    "\n",
    "output"
   ]
  },
  {
   "cell_type": "markdown",
   "metadata": {},
   "source": [
    "## Full function\n",
    "\n",
    "Now that these small constituant functions have been layed out, we can see how the main function, MC.spectrum, is formed. The functions above, when combined in the correct order, create the function called MC.spectrum. This looks something like this:"
   ]
  },
  {
   "cell_type": "code",
   "execution_count": 78,
   "metadata": {},
   "outputs": [
    {
     "data": {
      "text/html": [
       "    <style>\n",
       "        .bk-notebook-logo {\n",
       "            display: block;\n",
       "            width: 20px;\n",
       "            height: 20px;\n",
       "            background-image: url(data:image/png;base64,iVBORw0KGgoAAAANSUhEUgAAABQAAAAUCAYAAACNiR0NAAAABHNCSVQICAgIfAhkiAAAAAlwSFlzAAALEgAACxIB0t1+/AAAABx0RVh0U29mdHdhcmUAQWRvYmUgRmlyZXdvcmtzIENTNui8sowAAAOkSURBVDiNjZRtaJVlGMd/1/08zzln5zjP1LWcU9N0NkN8m2CYjpgQYQXqSs0I84OLIC0hkEKoPtiH3gmKoiJDU7QpLgoLjLIQCpEsNJ1vqUOdO7ppbuec5+V+rj4ctwzd8IIbbi6u+8f1539dt3A78eXC7QizUF7gyV1fD1Yqg4JWz84yffhm0qkFqBogB9rM8tZdtwVsPUhWhGcFJngGeWrPzHm5oaMmkfEg1usvLFyc8jLRqDOMru7AyC8saQr7GG7f5fvDeH7Ej8CM66nIF+8yngt6HWaKh7k49Soy9nXurCi1o3qUbS3zWfrYeQDTB/Qj6kX6Ybhw4B+bOYoLKCC9H3Nu/leUTZ1JdRWkkn2ldcCamzrcf47KKXdAJllSlxAOkRgyHsGC/zRday5Qld9DyoM4/q/rUoy/CXh3jzOu3bHUVZeU+DEn8FInkPBFlu3+nW3Nw0mk6vCDiWg8CeJaxEwuHS3+z5RgY+YBR6V1Z1nxSOfoaPa4LASWxxdNp+VWTk7+4vzaou8v8PN+xo+KY2xsw6une2frhw05CTYOmQvsEhjhWjn0bmXPjpE1+kplmmkP3suftwTubK9Vq22qKmrBhpY4jvd5afdRA3wGjFAgcnTK2s4hY0/GPNIb0nErGMCRxWOOX64Z8RAC4oCXdklmEvcL8o0BfkNK4lUg9HTl+oPlQxdNo3Mg4Nv175e/1LDGzZen30MEjRUtmXSfiTVu1kK8W4txyV6BMKlbgk3lMwYCiusNy9fVfvvwMxv8Ynl6vxoByANLTWplvuj/nF9m2+PDtt1eiHPBr1oIfhCChQMBw6Aw0UulqTKZdfVvfG7VcfIqLG9bcldL/+pdWTLxLUy8Qq38heUIjh4XlzZxzQm19lLFlr8vdQ97rjZVOLf8nclzckbcD4wxXMidpX30sFd37Fv/GtwwhzhxGVAprjbg0gCAEeIgwCZyTV2Z1REEW8O4py0wsjeloKoMr6iCY6dP92H6Vw/oTyICIthibxjm/DfN9lVz8IqtqKYLUXfoKVMVQVVJOElGjrnnUt9T9wbgp8AyYKaGlqingHZU/uG2NTZSVqwHQTWkx9hxjkpWDaCg6Ckj5qebgBVbT3V3NNXMSiWSDdGV3hrtzla7J+duwPOToIg42ChPQOQjspnSlp1V+Gjdged7+8UN5CRAV7a5EdFNwCjEaBR27b3W890TE7g24NAP/mMDXRWrGoFPQI9ls/MWO2dWFAar/xcOIImbbpA3zgAAAABJRU5ErkJggg==);\n",
       "        }\n",
       "    </style>\n",
       "    <div>\n",
       "        <a href=\"https://bokeh.org\" target=\"_blank\" class=\"bk-notebook-logo\"></a>\n",
       "        <span id=\"b9100e0e-7b1c-42e5-b0a0-6580164e882a\">Loading BokehJS ...</span>\n",
       "    </div>\n"
      ]
     },
     "metadata": {},
     "output_type": "display_data"
    },
    {
     "data": {
      "application/javascript": "'use strict';\n(function(root) {\n  function now() {\n    return new Date();\n  }\n\n  const force = true;\n\n  if (typeof root._bokeh_onload_callbacks === \"undefined\" || force === true) {\n    root._bokeh_onload_callbacks = [];\n    root._bokeh_is_loading = undefined;\n  }\n\nconst JS_MIME_TYPE = 'application/javascript';\n  const HTML_MIME_TYPE = 'text/html';\n  const EXEC_MIME_TYPE = 'application/vnd.bokehjs_exec.v0+json';\n  const CLASS_NAME = 'output_bokeh rendered_html';\n\n  /**\n   * Render data to the DOM node\n   */\n  function render(props, node) {\n    const script = document.createElement(\"script\");\n    node.appendChild(script);\n  }\n\n  /**\n   * Handle when an output is cleared or removed\n   */\n  function handleClearOutput(event, handle) {\n    function drop(id) {\n      const view = Bokeh.index.get_by_id(id)\n      if (view != null) {\n        view.model.document.clear()\n        Bokeh.index.delete(view)\n      }\n    }\n\n    const cell = handle.cell;\n\n    const id = cell.output_area._bokeh_element_id;\n    const server_id = cell.output_area._bokeh_server_id;\n\n    // Clean up Bokeh references\n    if (id != null) {\n      drop(id)\n    }\n\n    if (server_id !== undefined) {\n      // Clean up Bokeh references\n      const cmd_clean = \"from bokeh.io.state import curstate; print(curstate().uuid_to_server['\" + server_id + \"'].get_sessions()[0].document.roots[0]._id)\";\n      cell.notebook.kernel.execute(cmd_clean, {\n        iopub: {\n          output: function(msg) {\n            const id = msg.content.text.trim()\n            drop(id)\n          }\n        }\n      });\n      // Destroy server and session\n      const cmd_destroy = \"import bokeh.io.notebook as ion; ion.destroy_server('\" + server_id + \"')\";\n      cell.notebook.kernel.execute(cmd_destroy);\n    }\n  }\n\n  /**\n   * Handle when a new output is added\n   */\n  function handleAddOutput(event, handle) {\n    const output_area = handle.output_area;\n    const output = handle.output;\n\n    // limit handleAddOutput to display_data with EXEC_MIME_TYPE content only\n    if ((output.output_type != \"display_data\") || (!Object.prototype.hasOwnProperty.call(output.data, EXEC_MIME_TYPE))) {\n      return\n    }\n\n    const toinsert = output_area.element.find(\".\" + CLASS_NAME.split(' ')[0]);\n\n    if (output.metadata[EXEC_MIME_TYPE][\"id\"] !== undefined) {\n      toinsert[toinsert.length - 1].firstChild.textContent = output.data[JS_MIME_TYPE];\n      // store reference to embed id on output_area\n      output_area._bokeh_element_id = output.metadata[EXEC_MIME_TYPE][\"id\"];\n    }\n    if (output.metadata[EXEC_MIME_TYPE][\"server_id\"] !== undefined) {\n      const bk_div = document.createElement(\"div\");\n      bk_div.innerHTML = output.data[HTML_MIME_TYPE];\n      const script_attrs = bk_div.children[0].attributes;\n      for (let i = 0; i < script_attrs.length; i++) {\n        toinsert[toinsert.length - 1].firstChild.setAttribute(script_attrs[i].name, script_attrs[i].value);\n        toinsert[toinsert.length - 1].firstChild.textContent = bk_div.children[0].textContent\n      }\n      // store reference to server id on output_area\n      output_area._bokeh_server_id = output.metadata[EXEC_MIME_TYPE][\"server_id\"];\n    }\n  }\n\n  function register_renderer(events, OutputArea) {\n\n    function append_mime(data, metadata, element) {\n      // create a DOM node to render to\n      const toinsert = this.create_output_subarea(\n        metadata,\n        CLASS_NAME,\n        EXEC_MIME_TYPE\n      );\n      this.keyboard_manager.register_events(toinsert);\n      // Render to node\n      const props = {data: data, metadata: metadata[EXEC_MIME_TYPE]};\n      render(props, toinsert[toinsert.length - 1]);\n      element.append(toinsert);\n      return toinsert\n    }\n\n    /* Handle when an output is cleared or removed */\n    events.on('clear_output.CodeCell', handleClearOutput);\n    events.on('delete.Cell', handleClearOutput);\n\n    /* Handle when a new output is added */\n    events.on('output_added.OutputArea', handleAddOutput);\n\n    /**\n     * Register the mime type and append_mime function with output_area\n     */\n    OutputArea.prototype.register_mime_type(EXEC_MIME_TYPE, append_mime, {\n      /* Is output safe? */\n      safe: true,\n      /* Index of renderer in `output_area.display_order` */\n      index: 0\n    });\n  }\n\n  // register the mime type if in Jupyter Notebook environment and previously unregistered\n  if (root.Jupyter !== undefined) {\n    const events = require('base/js/events');\n    const OutputArea = require('notebook/js/outputarea').OutputArea;\n\n    if (OutputArea.prototype.mime_types().indexOf(EXEC_MIME_TYPE) == -1) {\n      register_renderer(events, OutputArea);\n    }\n  }\n  if (typeof (root._bokeh_timeout) === \"undefined\" || force === true) {\n    root._bokeh_timeout = Date.now() + 5000;\n    root._bokeh_failed_load = false;\n  }\n\n  const NB_LOAD_WARNING = {'data': {'text/html':\n     \"<div style='background-color: #fdd'>\\n\"+\n     \"<p>\\n\"+\n     \"BokehJS does not appear to have successfully loaded. If loading BokehJS from CDN, this \\n\"+\n     \"may be due to a slow or bad network connection. Possible fixes:\\n\"+\n     \"</p>\\n\"+\n     \"<ul>\\n\"+\n     \"<li>re-rerun `output_notebook()` to attempt to load from CDN again, or</li>\\n\"+\n     \"<li>use INLINE resources instead, as so:</li>\\n\"+\n     \"</ul>\\n\"+\n     \"<code>\\n\"+\n     \"from bokeh.resources import INLINE\\n\"+\n     \"output_notebook(resources=INLINE)\\n\"+\n     \"</code>\\n\"+\n     \"</div>\"}};\n\n  function display_loaded(error = null) {\n    const el = document.getElementById(\"b9100e0e-7b1c-42e5-b0a0-6580164e882a\");\n    if (el != null) {\n      const html = (() => {\n        if (typeof root.Bokeh === \"undefined\") {\n          if (error == null) {\n            return \"BokehJS is loading ...\";\n          } else {\n            return \"BokehJS failed to load.\";\n          }\n        } else {\n          const prefix = `BokehJS ${root.Bokeh.version}`;\n          if (error == null) {\n            return `${prefix} successfully loaded.`;\n          } else {\n            return `${prefix} <b>encountered errors</b> while loading and may not function as expected.`;\n          }\n        }\n      })();\n      el.innerHTML = html;\n\n      if (error != null) {\n        const wrapper = document.createElement(\"div\");\n        wrapper.style.overflow = \"auto\";\n        wrapper.style.height = \"5em\";\n        wrapper.style.resize = \"vertical\";\n        const content = document.createElement(\"div\");\n        content.style.fontFamily = \"monospace\";\n        content.style.whiteSpace = \"pre-wrap\";\n        content.style.backgroundColor = \"rgb(255, 221, 221)\";\n        content.textContent = error.stack ?? error.toString();\n        wrapper.append(content);\n        el.append(wrapper);\n      }\n    } else if (Date.now() < root._bokeh_timeout) {\n      setTimeout(() => display_loaded(error), 100);\n    }\n  }\n\n  function run_callbacks() {\n    try {\n      root._bokeh_onload_callbacks.forEach(function(callback) {\n        if (callback != null)\n          callback();\n      });\n    } finally {\n      delete root._bokeh_onload_callbacks\n    }\n    console.debug(\"Bokeh: all callbacks have finished\");\n  }\n\n  function load_libs(css_urls, js_urls, callback) {\n    if (css_urls == null) css_urls = [];\n    if (js_urls == null) js_urls = [];\n\n    root._bokeh_onload_callbacks.push(callback);\n    if (root._bokeh_is_loading > 0) {\n      console.debug(\"Bokeh: BokehJS is being loaded, scheduling callback at\", now());\n      return null;\n    }\n    if (js_urls == null || js_urls.length === 0) {\n      run_callbacks();\n      return null;\n    }\n    console.debug(\"Bokeh: BokehJS not loaded, scheduling load and callback at\", now());\n    root._bokeh_is_loading = css_urls.length + js_urls.length;\n\n    function on_load() {\n      root._bokeh_is_loading--;\n      if (root._bokeh_is_loading === 0) {\n        console.debug(\"Bokeh: all BokehJS libraries/stylesheets loaded\");\n        run_callbacks()\n      }\n    }\n\n    function on_error(url) {\n      console.error(\"failed to load \" + url);\n    }\n\n    for (let i = 0; i < css_urls.length; i++) {\n      const url = css_urls[i];\n      const element = document.createElement(\"link\");\n      element.onload = on_load;\n      element.onerror = on_error.bind(null, url);\n      element.rel = \"stylesheet\";\n      element.type = \"text/css\";\n      element.href = url;\n      console.debug(\"Bokeh: injecting link tag for BokehJS stylesheet: \", url);\n      document.body.appendChild(element);\n    }\n\n    for (let i = 0; i < js_urls.length; i++) {\n      const url = js_urls[i];\n      const element = document.createElement('script');\n      element.onload = on_load;\n      element.onerror = on_error.bind(null, url);\n      element.async = false;\n      element.src = url;\n      console.debug(\"Bokeh: injecting script tag for BokehJS library: \", url);\n      document.head.appendChild(element);\n    }\n  };\n\n  function inject_raw_css(css) {\n    const element = document.createElement(\"style\");\n    element.appendChild(document.createTextNode(css));\n    document.body.appendChild(element);\n  }\n\n  const js_urls = [\"static/extensions/panel/bundled/jquery/jquery.slim.min.js\", \"static/extensions/panel/bundled/plotlyplot/plotly-2.31.1.min.js\", \"https://cdn.bokeh.org/bokeh/release/bokeh-3.4.1.min.js\", \"https://cdn.bokeh.org/bokeh/release/bokeh-gl-3.4.1.min.js\", \"https://cdn.bokeh.org/bokeh/release/bokeh-widgets-3.4.1.min.js\", \"https://cdn.bokeh.org/bokeh/release/bokeh-tables-3.4.1.min.js\", \"https://cdn.bokeh.org/bokeh/release/bokeh-mathjax-3.4.1.min.js\", \"https://unpkg.com/@holoviz/panel@1.4.2/dist/panel.min.js\"];\n  const css_urls = [];\n\n  const inline_js = [    function(Bokeh) {\n      Bokeh.set_log_level(\"info\");\n    },\nfunction(Bokeh) {\n    }\n  ];\n\n  function run_inline_js() {\n    if (root.Bokeh !== undefined || force === true) {\n      try {\n            for (let i = 0; i < inline_js.length; i++) {\n      inline_js[i].call(root, root.Bokeh);\n    }\n\n      } catch (error) {display_loaded(error);throw error;\n      }if (force === true) {\n        display_loaded();\n      }} else if (Date.now() < root._bokeh_timeout) {\n      setTimeout(run_inline_js, 100);\n    } else if (!root._bokeh_failed_load) {\n      console.log(\"Bokeh: BokehJS failed to load within specified timeout.\");\n      root._bokeh_failed_load = true;\n    } else if (force !== true) {\n      const cell = $(document.getElementById(\"b9100e0e-7b1c-42e5-b0a0-6580164e882a\")).parents('.cell').data().cell;\n      cell.output_area.append_execute_result(NB_LOAD_WARNING)\n    }\n  }\n\n  if (root._bokeh_is_loading === 0) {\n    console.debug(\"Bokeh: BokehJS loaded, going straight to plotting\");\n    run_inline_js();\n  } else {\n    load_libs(css_urls, js_urls, function() {\n      console.debug(\"Bokeh: BokehJS plotting callback run at\", now());\n      run_inline_js();\n    });\n  }\n}(window));",
      "application/vnd.bokehjs_load.v0+json": ""
     },
     "metadata": {},
     "output_type": "display_data"
    },
    {
     "name": "stdout",
     "output_type": "stream",
     "text": [
      "here\n"
     ]
    },
    {
     "data": {
      "text/html": [
       "\n",
       "  <div id=\"b64a12c0-5ab6-4843-874d-40f41823c13f\" data-root-id=\"p8978\" style=\"display: contents;\"></div>\n"
      ]
     },
     "metadata": {},
     "output_type": "display_data"
    },
    {
     "data": {
      "application/javascript": "(function(root) {\n  function embed_document(root) {\n  const docs_json = {\"d30086c1-17de-40d5-9feb-e555f19d4e1a\":{\"version\":\"3.4.1\",\"title\":\"Bokeh Application\",\"roots\":[{\"type\":\"object\",\"name\":\"Row\",\"id\":\"p8978\",\"attributes\":{\"children\":[{\"type\":\"object\",\"name\":\"Column\",\"id\":\"p8959\",\"attributes\":{\"children\":[{\"type\":\"object\",\"name\":\"Figure\",\"id\":\"p8799\",\"attributes\":{\"height\":500,\"x_range\":{\"type\":\"object\",\"name\":\"DataRange1d\",\"id\":\"p8800\",\"attributes\":{\"js_property_callbacks\":{\"type\":\"map\",\"entries\":[[\"change:start\",[{\"type\":\"object\",\"name\":\"CustomJS\",\"id\":\"p8957\",\"attributes\":{\"args\":{\"type\":\"map\",\"entries\":[[\"box\",{\"type\":\"object\",\"name\":\"BoxAnnotation\",\"id\":\"p8952\",\"attributes\":{\"left\":0,\"right\":0,\"top\":0,\"bottom\":0,\"line_color\":\"red\",\"fill_color\":\"cornflowerblue\",\"fill_alpha\":0.1}}]]},\"code\":\"\\n        box['left'] = cb_obj.start\\n        box['right'] = cb_obj.end\\n    \"}}]],[\"change:end\",[{\"id\":\"p8957\"}]]]}}},\"y_range\":{\"type\":\"object\",\"name\":\"DataRange1d\",\"id\":\"p8801\",\"attributes\":{\"js_property_callbacks\":{\"type\":\"map\",\"entries\":[[\"change:start\",[{\"type\":\"object\",\"name\":\"CustomJS\",\"id\":\"p8958\",\"attributes\":{\"args\":{\"type\":\"map\",\"entries\":[[\"box\",{\"id\":\"p8952\"}]]},\"code\":\"\\n        box['bottom'] = cb_obj.start\\n        box['top'] = cb_obj.end\\n    \"}}]],[\"change:end\",[{\"id\":\"p8958\"}]]]}}},\"x_scale\":{\"type\":\"object\",\"name\":\"LinearScale\",\"id\":\"p8808\"},\"y_scale\":{\"type\":\"object\",\"name\":\"LinearScale\",\"id\":\"p8809\"},\"title\":{\"type\":\"object\",\"name\":\"Title\",\"id\":\"p8806\"},\"renderers\":[{\"type\":\"object\",\"name\":\"GlyphRenderer\",\"id\":\"p8840\",\"attributes\":{\"data_source\":{\"type\":\"object\",\"name\":\"ColumnDataSource\",\"id\":\"p8834\",\"attributes\":{\"selected\":{\"type\":\"object\",\"name\":\"Selection\",\"id\":\"p8835\",\"attributes\":{\"indices\":[],\"line_indices\":[]}},\"selection_policy\":{\"type\":\"object\",\"name\":\"UnionRenderers\",\"id\":\"p8836\"},\"data\":{\"type\":\"map\",\"entries\":[[\"x\",[333.22607421875,333.72607421875,333.72607421875,333.72607421875,334.09,334.09,334.09,334.711625,334.711625,334.711625,335.09450000000004,335.09450000000004,335.09450000000004,335.0965,335.0965,335.0965,335.58799999999997,335.58799999999997,335.58799999999997,335.592,335.592,335.592,336.592]],[\"y\",[0,0,0.7968575149041046,0,0,0.006245168595575361,0,0,0.04069933161480112,0,0,0.012620365861430607,0,0,0.14003589795857166,0,0,0.006374860119232837,0,0,0.007251656211902638,0,0]]]}}},\"view\":{\"type\":\"object\",\"name\":\"CDSView\",\"id\":\"p8841\",\"attributes\":{\"filter\":{\"type\":\"object\",\"name\":\"AllIndices\",\"id\":\"p8842\"}}},\"glyph\":{\"type\":\"object\",\"name\":\"Line\",\"id\":\"p8837\",\"attributes\":{\"x\":{\"type\":\"field\",\"field\":\"x\"},\"y\":{\"type\":\"field\",\"field\":\"y\"},\"line_color\":\"#1f77b4\"}},\"nonselection_glyph\":{\"type\":\"object\",\"name\":\"Line\",\"id\":\"p8838\",\"attributes\":{\"x\":{\"type\":\"field\",\"field\":\"x\"},\"y\":{\"type\":\"field\",\"field\":\"y\"},\"line_color\":\"#1f77b4\",\"line_alpha\":0.1}},\"muted_glyph\":{\"type\":\"object\",\"name\":\"Line\",\"id\":\"p8839\",\"attributes\":{\"x\":{\"type\":\"field\",\"field\":\"x\"},\"y\":{\"type\":\"field\",\"field\":\"y\"},\"line_color\":\"#1f77b4\",\"line_alpha\":0.2}}}}],\"toolbar\":{\"type\":\"object\",\"name\":\"Toolbar\",\"id\":\"p8807\",\"attributes\":{\"tools\":[{\"type\":\"object\",\"name\":\"PanTool\",\"id\":\"p8820\"},{\"type\":\"object\",\"name\":\"WheelZoomTool\",\"id\":\"p8821\",\"attributes\":{\"renderers\":\"auto\"}},{\"type\":\"object\",\"name\":\"BoxZoomTool\",\"id\":\"p8822\",\"attributes\":{\"overlay\":{\"type\":\"object\",\"name\":\"BoxAnnotation\",\"id\":\"p8823\",\"attributes\":{\"syncable\":false,\"level\":\"overlay\",\"visible\":false,\"left\":{\"type\":\"number\",\"value\":\"nan\"},\"right\":{\"type\":\"number\",\"value\":\"nan\"},\"top\":{\"type\":\"number\",\"value\":\"nan\"},\"bottom\":{\"type\":\"number\",\"value\":\"nan\"},\"left_units\":\"canvas\",\"right_units\":\"canvas\",\"top_units\":\"canvas\",\"bottom_units\":\"canvas\",\"line_color\":\"black\",\"line_alpha\":1.0,\"line_width\":2,\"line_dash\":[4,4],\"fill_color\":\"lightgrey\",\"fill_alpha\":0.5}}}},{\"type\":\"object\",\"name\":\"SaveTool\",\"id\":\"p8828\"},{\"type\":\"object\",\"name\":\"ResetTool\",\"id\":\"p8829\"},{\"type\":\"object\",\"name\":\"HelpTool\",\"id\":\"p8830\"},{\"type\":\"object\",\"name\":\"WheelPanTool\",\"id\":\"p8832\",\"attributes\":{\"dimension\":\"height\"}},{\"type\":\"object\",\"name\":\"WheelZoomTool\",\"id\":\"p8833\",\"attributes\":{\"dimensions\":\"height\",\"renderers\":\"auto\"}}]}},\"left\":[{\"type\":\"object\",\"name\":\"LinearAxis\",\"id\":\"p8815\",\"attributes\":{\"ticker\":{\"type\":\"object\",\"name\":\"BasicTicker\",\"id\":\"p8816\",\"attributes\":{\"mantissas\":[1,2,5]}},\"formatter\":{\"type\":\"object\",\"name\":\"BasicTickFormatter\",\"id\":\"p8817\"},\"axis_label\":\"Abundance\",\"major_label_policy\":{\"type\":\"object\",\"name\":\"AllLabels\",\"id\":\"p8818\"}}}],\"below\":[{\"type\":\"object\",\"name\":\"LinearAxis\",\"id\":\"p8810\",\"attributes\":{\"ticker\":{\"type\":\"object\",\"name\":\"FixedTicker\",\"id\":\"p8831\",\"attributes\":{\"ticks\":[333.72607421875,334.09,334.711625,335.09450000000004,335.0965,335.58799999999997,335.592],\"minor_ticks\":[]}},\"formatter\":{\"type\":\"object\",\"name\":\"BasicTickFormatter\",\"id\":\"p8812\"},\"axis_label\":\"[m/z]\",\"major_label_policy\":{\"type\":\"object\",\"name\":\"AllLabels\",\"id\":\"p8813\"}}}],\"center\":[{\"type\":\"object\",\"name\":\"Grid\",\"id\":\"p8814\",\"attributes\":{\"axis\":{\"id\":\"p8810\"}}},{\"type\":\"object\",\"name\":\"Grid\",\"id\":\"p8819\",\"attributes\":{\"dimension\":1,\"axis\":{\"id\":\"p8815\"}}}]}},{\"type\":\"object\",\"name\":\"Figure\",\"id\":\"p8909\",\"attributes\":{\"height\":300,\"x_range\":{\"type\":\"object\",\"name\":\"DataRange1d\",\"id\":\"p8910\"},\"y_range\":{\"type\":\"object\",\"name\":\"DataRange1d\",\"id\":\"p8911\"},\"x_scale\":{\"type\":\"object\",\"name\":\"LinearScale\",\"id\":\"p8918\"},\"y_scale\":{\"type\":\"object\",\"name\":\"LinearScale\",\"id\":\"p8919\"},\"title\":{\"type\":\"object\",\"name\":\"Title\",\"id\":\"p8916\"},\"renderers\":[{\"type\":\"object\",\"name\":\"GlyphRenderer\",\"id\":\"p8947\",\"attributes\":{\"data_source\":{\"type\":\"object\",\"name\":\"ColumnDataSource\",\"id\":\"p8941\",\"attributes\":{\"selected\":{\"type\":\"object\",\"name\":\"Selection\",\"id\":\"p8942\",\"attributes\":{\"indices\":[],\"line_indices\":[]}},\"selection_policy\":{\"type\":\"object\",\"name\":\"UnionRenderers\",\"id\":\"p8943\"},\"data\":{\"type\":\"map\",\"entries\":[[\"x\",[333.22607421875,333.72607421875,333.72607421875,333.72607421875,334.09,334.09,334.09,334.711625,334.711625,334.711625,335.09450000000004,335.09450000000004,335.09450000000004,335.0965,335.0965,335.0965,335.58799999999997,335.58799999999997,335.58799999999997,335.592,335.592,335.592,336.592]],[\"y\",[0,0,0.7968575149041046,0,0,0.006245168595575361,0,0,0.04069933161480112,0,0,0.012620365861430607,0,0,0.14003589795857166,0,0,0.006374860119232837,0,0,0.007251656211902638,0,0]]]}}},\"view\":{\"type\":\"object\",\"name\":\"CDSView\",\"id\":\"p8948\",\"attributes\":{\"filter\":{\"type\":\"object\",\"name\":\"AllIndices\",\"id\":\"p8949\"}}},\"glyph\":{\"type\":\"object\",\"name\":\"Line\",\"id\":\"p8944\",\"attributes\":{\"x\":{\"type\":\"field\",\"field\":\"x\"},\"y\":{\"type\":\"field\",\"field\":\"y\"},\"line_color\":\"#1f77b4\"}},\"nonselection_glyph\":{\"type\":\"object\",\"name\":\"Line\",\"id\":\"p8945\",\"attributes\":{\"x\":{\"type\":\"field\",\"field\":\"x\"},\"y\":{\"type\":\"field\",\"field\":\"y\"},\"line_color\":\"#1f77b4\",\"line_alpha\":0.1}},\"muted_glyph\":{\"type\":\"object\",\"name\":\"Line\",\"id\":\"p8946\",\"attributes\":{\"x\":{\"type\":\"field\",\"field\":\"x\"},\"y\":{\"type\":\"field\",\"field\":\"y\"},\"line_color\":\"#1f77b4\",\"line_alpha\":0.2}}}}],\"toolbar\":{\"type\":\"object\",\"name\":\"Toolbar\",\"id\":\"p8917\",\"attributes\":{\"tools\":[{\"type\":\"object\",\"name\":\"PanTool\",\"id\":\"p8930\"},{\"type\":\"object\",\"name\":\"WheelZoomTool\",\"id\":\"p8931\",\"attributes\":{\"renderers\":\"auto\"}},{\"type\":\"object\",\"name\":\"BoxZoomTool\",\"id\":\"p8932\",\"attributes\":{\"overlay\":{\"type\":\"object\",\"name\":\"BoxAnnotation\",\"id\":\"p8933\",\"attributes\":{\"syncable\":false,\"level\":\"overlay\",\"visible\":false,\"left\":{\"type\":\"number\",\"value\":\"nan\"},\"right\":{\"type\":\"number\",\"value\":\"nan\"},\"top\":{\"type\":\"number\",\"value\":\"nan\"},\"bottom\":{\"type\":\"number\",\"value\":\"nan\"},\"left_units\":\"canvas\",\"right_units\":\"canvas\",\"top_units\":\"canvas\",\"bottom_units\":\"canvas\",\"line_color\":\"black\",\"line_alpha\":1.0,\"line_width\":2,\"line_dash\":[4,4],\"fill_color\":\"lightgrey\",\"fill_alpha\":0.5}}}},{\"type\":\"object\",\"name\":\"SaveTool\",\"id\":\"p8938\"},{\"type\":\"object\",\"name\":\"ResetTool\",\"id\":\"p8939\"},{\"type\":\"object\",\"name\":\"HelpTool\",\"id\":\"p8940\"}]}},\"toolbar_location\":null,\"left\":[{\"type\":\"object\",\"name\":\"LinearAxis\",\"id\":\"p8925\",\"attributes\":{\"ticker\":{\"type\":\"object\",\"name\":\"BasicTicker\",\"id\":\"p8926\",\"attributes\":{\"mantissas\":[1,2,5]}},\"formatter\":{\"type\":\"object\",\"name\":\"BasicTickFormatter\",\"id\":\"p8927\"},\"major_label_policy\":{\"type\":\"object\",\"name\":\"AllLabels\",\"id\":\"p8928\"}}}],\"below\":[{\"type\":\"object\",\"name\":\"LinearAxis\",\"id\":\"p8920\",\"attributes\":{\"ticker\":{\"type\":\"object\",\"name\":\"BasicTicker\",\"id\":\"p8921\",\"attributes\":{\"mantissas\":[1,2,5]}},\"formatter\":{\"type\":\"object\",\"name\":\"BasicTickFormatter\",\"id\":\"p8922\"},\"major_label_policy\":{\"type\":\"object\",\"name\":\"AllLabels\",\"id\":\"p8923\"}}}],\"center\":[{\"type\":\"object\",\"name\":\"Grid\",\"id\":\"p8924\",\"attributes\":{\"axis\":{\"id\":\"p8920\"}}},{\"type\":\"object\",\"name\":\"Grid\",\"id\":\"p8929\",\"attributes\":{\"dimension\":1,\"axis\":{\"id\":\"p8925\"}}},{\"type\":\"object\",\"name\":\"Legend\",\"id\":\"p8950\",\"attributes\":{\"items\":[{\"type\":\"object\",\"name\":\"LegendItem\",\"id\":\"p8951\",\"attributes\":{\"label\":{\"type\":\"value\",\"value\":\"Mass spectrum\"},\"renderers\":[{\"id\":\"p8947\"}]}}]}},{\"id\":\"p8952\"}]}}]}},{\"type\":\"object\",\"name\":\"Column\",\"id\":\"p8977\",\"attributes\":{\"children\":[{\"type\":\"object\",\"name\":\"Div\",\"id\":\"p8976\",\"attributes\":{\"text\":\"<img src=\\\"data:image/png;base64,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\\\" style=\\\"width:350px;height:350px;\\\">\"}},{\"type\":\"object\",\"name\":\"DataTable\",\"id\":\"p8970\",\"attributes\":{\"width\":250,\"height\":560,\"source\":{\"type\":\"object\",\"name\":\"ColumnDataSource\",\"id\":\"p8960\",\"attributes\":{\"selected\":{\"type\":\"object\",\"name\":\"Selection\",\"id\":\"p8961\",\"attributes\":{\"indices\":[],\"line_indices\":[]}},\"selection_policy\":{\"type\":\"object\",\"name\":\"UnionRenderers\",\"id\":\"p8962\"},\"data\":{\"type\":\"map\",\"entries\":[[\"groups\",[\"Carboxylic Acid\",\"Amide\",\"Amide\",\"Amine\",\"Sulfide\",\"Benzene\"]],[\"images\",[\"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\",\"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\",\"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\",\"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\",\"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\",\"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\"]]]}}},\"view\":{\"type\":\"object\",\"name\":\"CDSView\",\"id\":\"p8974\",\"attributes\":{\"filter\":{\"type\":\"object\",\"name\":\"AllIndices\",\"id\":\"p8975\"}}},\"columns\":[{\"type\":\"object\",\"name\":\"TableColumn\",\"id\":\"p8963\",\"attributes\":{\"field\":\"groups\",\"title\":\"Functional Groups\",\"formatter\":{\"type\":\"object\",\"name\":\"StringFormatter\",\"id\":\"p8964\"},\"editor\":{\"type\":\"object\",\"name\":\"StringEditor\",\"id\":\"p8965\"}}},{\"type\":\"object\",\"name\":\"TableColumn\",\"id\":\"p8967\",\"attributes\":{\"field\":\"images\",\"title\":\"Images\",\"width\":200,\"formatter\":{\"type\":\"object\",\"name\":\"HTMLTemplateFormatter\",\"id\":\"p8966\",\"attributes\":{\"template\":\"\\n    <div>\\n        <img src=\\\"data:image/png;base64, <%= value %>\\\" style=\\\"width:50px;height:50px;\\\">\\n    </div>\\n    \"}},\"editor\":{\"type\":\"object\",\"name\":\"StringEditor\",\"id\":\"p8969\"}}}],\"row_height\":60}}]}}]}}],\"defs\":[{\"type\":\"model\",\"name\":\"ReactiveHTML1\"},{\"type\":\"model\",\"name\":\"FlexBox1\",\"properties\":[{\"name\":\"align_content\",\"kind\":\"Any\",\"default\":\"flex-start\"},{\"name\":\"align_items\",\"kind\":\"Any\",\"default\":\"flex-start\"},{\"name\":\"flex_direction\",\"kind\":\"Any\",\"default\":\"row\"},{\"name\":\"flex_wrap\",\"kind\":\"Any\",\"default\":\"wrap\"},{\"name\":\"gap\",\"kind\":\"Any\",\"default\":\"\"},{\"name\":\"justify_content\",\"kind\":\"Any\",\"default\":\"flex-start\"}]},{\"type\":\"model\",\"name\":\"FloatPanel1\",\"properties\":[{\"name\":\"config\",\"kind\":\"Any\",\"default\":{\"type\":\"map\"}},{\"name\":\"contained\",\"kind\":\"Any\",\"default\":true},{\"name\":\"position\",\"kind\":\"Any\",\"default\":\"right-top\"},{\"name\":\"offsetx\",\"kind\":\"Any\",\"default\":null},{\"name\":\"offsety\",\"kind\":\"Any\",\"default\":null},{\"name\":\"theme\",\"kind\":\"Any\",\"default\":\"primary\"},{\"name\":\"status\",\"kind\":\"Any\",\"default\":\"normalized\"}]},{\"type\":\"model\",\"name\":\"GridStack1\",\"properties\":[{\"name\":\"mode\",\"kind\":\"Any\",\"default\":\"warn\"},{\"name\":\"ncols\",\"kind\":\"Any\",\"default\":null},{\"name\":\"nrows\",\"kind\":\"Any\",\"default\":null},{\"name\":\"allow_resize\",\"kind\":\"Any\",\"default\":true},{\"name\":\"allow_drag\",\"kind\":\"Any\",\"default\":true},{\"name\":\"state\",\"kind\":\"Any\",\"default\":[]}]},{\"type\":\"model\",\"name\":\"drag1\",\"properties\":[{\"name\":\"slider_width\",\"kind\":\"Any\",\"default\":5},{\"name\":\"slider_color\",\"kind\":\"Any\",\"default\":\"black\"},{\"name\":\"value\",\"kind\":\"Any\",\"default\":50}]},{\"type\":\"model\",\"name\":\"click1\",\"properties\":[{\"name\":\"terminal_output\",\"kind\":\"Any\",\"default\":\"\"},{\"name\":\"debug_name\",\"kind\":\"Any\",\"default\":\"\"},{\"name\":\"clears\",\"kind\":\"Any\",\"default\":0}]},{\"type\":\"model\",\"name\":\"FastWrapper1\",\"properties\":[{\"name\":\"object\",\"kind\":\"Any\",\"default\":null},{\"name\":\"style\",\"kind\":\"Any\",\"default\":null}]},{\"type\":\"model\",\"name\":\"NotificationAreaBase1\",\"properties\":[{\"name\":\"js_events\",\"kind\":\"Any\",\"default\":{\"type\":\"map\"}},{\"name\":\"position\",\"kind\":\"Any\",\"default\":\"bottom-right\"},{\"name\":\"_clear\",\"kind\":\"Any\",\"default\":0}]},{\"type\":\"model\",\"name\":\"NotificationArea1\",\"properties\":[{\"name\":\"js_events\",\"kind\":\"Any\",\"default\":{\"type\":\"map\"}},{\"name\":\"notifications\",\"kind\":\"Any\",\"default\":[]},{\"name\":\"position\",\"kind\":\"Any\",\"default\":\"bottom-right\"},{\"name\":\"_clear\",\"kind\":\"Any\",\"default\":0},{\"name\":\"types\",\"kind\":\"Any\",\"default\":[{\"type\":\"map\",\"entries\":[[\"type\",\"warning\"],[\"background\",\"#ffc107\"],[\"icon\",{\"type\":\"map\",\"entries\":[[\"className\",\"fas fa-exclamation-triangle\"],[\"tagName\",\"i\"],[\"color\",\"white\"]]}]]},{\"type\":\"map\",\"entries\":[[\"type\",\"info\"],[\"background\",\"#007bff\"],[\"icon\",{\"type\":\"map\",\"entries\":[[\"className\",\"fas fa-info-circle\"],[\"tagName\",\"i\"],[\"color\",\"white\"]]}]]}]}]},{\"type\":\"model\",\"name\":\"Notification\",\"properties\":[{\"name\":\"background\",\"kind\":\"Any\",\"default\":null},{\"name\":\"duration\",\"kind\":\"Any\",\"default\":3000},{\"name\":\"icon\",\"kind\":\"Any\",\"default\":null},{\"name\":\"message\",\"kind\":\"Any\",\"default\":\"\"},{\"name\":\"notification_type\",\"kind\":\"Any\",\"default\":null},{\"name\":\"_destroyed\",\"kind\":\"Any\",\"default\":false}]},{\"type\":\"model\",\"name\":\"TemplateActions1\",\"properties\":[{\"name\":\"open_modal\",\"kind\":\"Any\",\"default\":0},{\"name\":\"close_modal\",\"kind\":\"Any\",\"default\":0}]},{\"type\":\"model\",\"name\":\"BootstrapTemplateActions1\",\"properties\":[{\"name\":\"open_modal\",\"kind\":\"Any\",\"default\":0},{\"name\":\"close_modal\",\"kind\":\"Any\",\"default\":0}]},{\"type\":\"model\",\"name\":\"TemplateEditor1\",\"properties\":[{\"name\":\"layout\",\"kind\":\"Any\",\"default\":[]}]},{\"type\":\"model\",\"name\":\"MaterialTemplateActions1\",\"properties\":[{\"name\":\"open_modal\",\"kind\":\"Any\",\"default\":0},{\"name\":\"close_modal\",\"kind\":\"Any\",\"default\":0}]},{\"type\":\"model\",\"name\":\"copy_to_clipboard1\",\"properties\":[{\"name\":\"fill\",\"kind\":\"Any\",\"default\":\"none\"},{\"name\":\"value\",\"kind\":\"Any\",\"default\":null}]}]}};\n  const render_items = [{\"docid\":\"d30086c1-17de-40d5-9feb-e555f19d4e1a\",\"roots\":{\"p8978\":\"b64a12c0-5ab6-4843-874d-40f41823c13f\"},\"root_ids\":[\"p8978\"]}];\n  void root.Bokeh.embed.embed_items_notebook(docs_json, render_items);\n  }\n  if (root.Bokeh !== undefined) {\n    embed_document(root);\n  } else {\n    let attempts = 0;\n    const timer = setInterval(function(root) {\n      if (root.Bokeh !== undefined) {\n        clearInterval(timer);\n        embed_document(root);\n      } else {\n        attempts++;\n        if (attempts > 100) {\n          clearInterval(timer);\n          console.log(\"Bokeh: ERROR: Unable to run BokehJS code because BokehJS library is missing\");\n        }\n      }\n    }, 10, root)\n  }\n})(window);",
      "application/vnd.bokehjs_exec.v0+json": ""
     },
     "metadata": {
      "application/vnd.bokehjs_exec.v0+json": {
       "id": "p8978"
      }
     },
     "output_type": "display_data"
    }
   ],
   "source": [
    "import MASSiveChem.MASSiveChem as MC\n",
    "from bokeh.plotting import output_notebook, show\n",
    "\n",
    "output_notebook() #not necessary if you want to plot the image outside the outbook\n",
    "\n",
    "mol_smi = 'CC1(C(N2C(S1)C(C2=O)NC(=O)CC3=CC=CC=C3)C(=O)O)C'\n",
    "imprecision = True\n",
    "apparatus_resolution = 0.01\n",
    "\n",
    "mol = MC.SMILEs_interpreter(mol_smi)\n",
    "\n",
    "list_atoms = MC.molecule_list_generator(mol)\n",
    "\n",
    "list_atoms_postionisation = MC.ionisation_method(list_atoms)\n",
    "\n",
    "has_N, has_S, count_N, count_S = MC.sulphur_nitrogen_finder(list_atoms_postionisation)\n",
    "\n",
    "list_masses, list_abundances = MC.main_function(list_atoms_postionisation, imprecision)\n",
    "\n",
    "list_masses, list_abundances = MC.peak_merger(list_masses, list_abundances, apparatus_resolution)\n",
    "\n",
    "list_masses, list_abundances = MC.sulphur_nitrogen_adder(list_masses, list_abundances, has_N, has_S, count_N, count_S)\n",
    "\n",
    "list_masses_sorted, list_abundances_sorted = MC.peak_sorter(list_masses, list_abundances)\n",
    "\n",
    "list_masses_plot, list_abundances_plot = MC.delta_function_plotter(list_masses_sorted, list_abundances_sorted)\n",
    "\n",
    "spectrum = MC.double_plot(list_masses_plot,list_abundances_plot)\n",
    "\n",
    "functional_groups_contained = MC.functional_group_finder(mol_smi)\n",
    "\n",
    "functional_groups_plot = MC.functional_group_display(functional_groups_contained)\n",
    "\n",
    "molecule_plot = MC.mol_web_show(mol_smi)\n",
    "\n",
    "final_plot = MC.all_in_one(spectrum, molecule_plot, functional_groups_plot)\n",
    "\n",
    "show(final_plot)"
   ]
  },
  {
   "cell_type": "markdown",
   "metadata": {},
   "source": [
    "\n",
    "## spectrum(mol_smi, imprecision_True_False, apparatus_resolution)\n",
    "Running all these functions can be done using 1 single function called spectrum which can be run as the following:"
   ]
  },
  {
   "cell_type": "code",
   "execution_count": 79,
   "metadata": {},
   "outputs": [
    {
     "data": {
      "text/html": [
       "\n",
       "  <div id=\"b65750e3-78a3-4690-b880-598a043f5c57\" data-root-id=\"p9224\" style=\"display: contents;\"></div>\n"
      ]
     },
     "metadata": {},
     "output_type": "display_data"
    },
    {
     "data": {
      "application/javascript": "(function(root) {\n  function embed_document(root) {\n  const docs_json = {\"5918b2d3-3b73-44a1-8a63-0ee820a2003a\":{\"version\":\"3.4.1\",\"title\":\"Bokeh Application\",\"roots\":[{\"type\":\"object\",\"name\":\"Row\",\"id\":\"p9224\",\"attributes\":{\"children\":[{\"type\":\"object\",\"name\":\"Column\",\"id\":\"p9205\",\"attributes\":{\"children\":[{\"type\":\"object\",\"name\":\"Figure\",\"id\":\"p9044\",\"attributes\":{\"height\":500,\"x_range\":{\"type\":\"object\",\"name\":\"DataRange1d\",\"id\":\"p9045\",\"attributes\":{\"js_property_callbacks\":{\"type\":\"map\",\"entries\":[[\"change:start\",[{\"type\":\"object\",\"name\":\"CustomJS\",\"id\":\"p9203\",\"attributes\":{\"args\":{\"type\":\"map\",\"entries\":[[\"box\",{\"type\":\"object\",\"name\":\"BoxAnnotation\",\"id\":\"p9198\",\"attributes\":{\"left\":0,\"right\":0,\"top\":0,\"bottom\":0,\"line_color\":\"red\",\"fill_color\":\"cornflowerblue\",\"fill_alpha\":0.1}}]]},\"code\":\"\\n        box['left'] = cb_obj.start\\n        box['right'] = cb_obj.end\\n    \"}}]],[\"change:end\",[{\"id\":\"p9203\"}]]]}}},\"y_range\":{\"type\":\"object\",\"name\":\"DataRange1d\",\"id\":\"p9046\",\"attributes\":{\"js_property_callbacks\":{\"type\":\"map\",\"entries\":[[\"change:start\",[{\"type\":\"object\",\"name\":\"CustomJS\",\"id\":\"p9204\",\"attributes\":{\"args\":{\"type\":\"map\",\"entries\":[[\"box\",{\"id\":\"p9198\"}]]},\"code\":\"\\n        box['bottom'] = cb_obj.start\\n        box['top'] = cb_obj.end\\n    \"}}]],[\"change:end\",[{\"id\":\"p9204\"}]]]}}},\"x_scale\":{\"type\":\"object\",\"name\":\"LinearScale\",\"id\":\"p9053\"},\"y_scale\":{\"type\":\"object\",\"name\":\"LinearScale\",\"id\":\"p9054\"},\"title\":{\"type\":\"object\",\"name\":\"Title\",\"id\":\"p9076\",\"attributes\":{\"text\":\"Mass spectrum of molecule\"}},\"renderers\":[{\"type\":\"object\",\"name\":\"GlyphRenderer\",\"id\":\"p9086\",\"attributes\":{\"data_source\":{\"type\":\"object\",\"name\":\"ColumnDataSource\",\"id\":\"p9080\",\"attributes\":{\"selected\":{\"type\":\"object\",\"name\":\"Selection\",\"id\":\"p9081\",\"attributes\":{\"indices\":[],\"line_indices\":[]}},\"selection_policy\":{\"type\":\"object\",\"name\":\"UnionRenderers\",\"id\":\"p9082\"},\"data\":{\"type\":\"map\",\"entries\":[[\"x\",[332.891,333.091,333.091,333.091,334.091125,334.091125,334.091125,334.095125,334.095125,334.095125,335.0955625,335.0955625,335.0955625,336.0955,336.0955,336.0955,337.0885,337.0885,337.0885,337.2885]],[\"y\",[0,0,0.7806460744469201,0,0,0.006245168595575361,0,0,0.1541247667333435,0,0,0.05462127746170614,0,0,0.007630968954231516,0,0,0.00044167895460932424,0,0]]]}}},\"view\":{\"type\":\"object\",\"name\":\"CDSView\",\"id\":\"p9087\",\"attributes\":{\"filter\":{\"type\":\"object\",\"name\":\"AllIndices\",\"id\":\"p9088\"}}},\"glyph\":{\"type\":\"object\",\"name\":\"Line\",\"id\":\"p9083\",\"attributes\":{\"x\":{\"type\":\"field\",\"field\":\"x\"},\"y\":{\"type\":\"field\",\"field\":\"y\"},\"line_color\":\"#1f77b4\"}},\"nonselection_glyph\":{\"type\":\"object\",\"name\":\"Line\",\"id\":\"p9084\",\"attributes\":{\"x\":{\"type\":\"field\",\"field\":\"x\"},\"y\":{\"type\":\"field\",\"field\":\"y\"},\"line_color\":\"#1f77b4\",\"line_alpha\":0.1}},\"muted_glyph\":{\"type\":\"object\",\"name\":\"Line\",\"id\":\"p9085\",\"attributes\":{\"x\":{\"type\":\"field\",\"field\":\"x\"},\"y\":{\"type\":\"field\",\"field\":\"y\"},\"line_color\":\"#1f77b4\",\"line_alpha\":0.2}}}}],\"toolbar\":{\"type\":\"object\",\"name\":\"Toolbar\",\"id\":\"p9052\",\"attributes\":{\"tools\":[{\"type\":\"object\",\"name\":\"PanTool\",\"id\":\"p9065\"},{\"type\":\"object\",\"name\":\"WheelZoomTool\",\"id\":\"p9066\",\"attributes\":{\"renderers\":\"auto\"}},{\"type\":\"object\",\"name\":\"BoxZoomTool\",\"id\":\"p9067\",\"attributes\":{\"overlay\":{\"type\":\"object\",\"name\":\"BoxAnnotation\",\"id\":\"p9068\",\"attributes\":{\"syncable\":false,\"level\":\"overlay\",\"visible\":false,\"left\":{\"type\":\"number\",\"value\":\"nan\"},\"right\":{\"type\":\"number\",\"value\":\"nan\"},\"top\":{\"type\":\"number\",\"value\":\"nan\"},\"bottom\":{\"type\":\"number\",\"value\":\"nan\"},\"left_units\":\"canvas\",\"right_units\":\"canvas\",\"top_units\":\"canvas\",\"bottom_units\":\"canvas\",\"line_color\":\"black\",\"line_alpha\":1.0,\"line_width\":2,\"line_dash\":[4,4],\"fill_color\":\"lightgrey\",\"fill_alpha\":0.5}}}},{\"type\":\"object\",\"name\":\"SaveTool\",\"id\":\"p9073\"},{\"type\":\"object\",\"name\":\"ResetTool\",\"id\":\"p9074\"},{\"type\":\"object\",\"name\":\"HelpTool\",\"id\":\"p9075\"},{\"type\":\"object\",\"name\":\"WheelPanTool\",\"id\":\"p9078\",\"attributes\":{\"dimension\":\"height\"}},{\"type\":\"object\",\"name\":\"WheelZoomTool\",\"id\":\"p9079\",\"attributes\":{\"dimensions\":\"height\",\"renderers\":\"auto\"}}]}},\"left\":[{\"type\":\"object\",\"name\":\"LinearAxis\",\"id\":\"p9060\",\"attributes\":{\"ticker\":{\"type\":\"object\",\"name\":\"BasicTicker\",\"id\":\"p9061\",\"attributes\":{\"mantissas\":[1,2,5]}},\"formatter\":{\"type\":\"object\",\"name\":\"BasicTickFormatter\",\"id\":\"p9062\"},\"axis_label\":\"Abundance\",\"major_label_policy\":{\"type\":\"object\",\"name\":\"AllLabels\",\"id\":\"p9063\"}}}],\"below\":[{\"type\":\"object\",\"name\":\"LinearAxis\",\"id\":\"p9055\",\"attributes\":{\"ticker\":{\"type\":\"object\",\"name\":\"FixedTicker\",\"id\":\"p9077\",\"attributes\":{\"ticks\":[333.091,334.091125,334.095125,335.0955625,336.0955],\"minor_ticks\":[]}},\"formatter\":{\"type\":\"object\",\"name\":\"BasicTickFormatter\",\"id\":\"p9057\"},\"axis_label\":\"[m/z]\",\"major_label_policy\":{\"type\":\"object\",\"name\":\"AllLabels\",\"id\":\"p9058\"}}}],\"center\":[{\"type\":\"object\",\"name\":\"Grid\",\"id\":\"p9059\",\"attributes\":{\"axis\":{\"id\":\"p9055\"}}},{\"type\":\"object\",\"name\":\"Grid\",\"id\":\"p9064\",\"attributes\":{\"dimension\":1,\"axis\":{\"id\":\"p9060\"}}}]}},{\"type\":\"object\",\"name\":\"Figure\",\"id\":\"p9155\",\"attributes\":{\"height\":250,\"x_range\":{\"type\":\"object\",\"name\":\"DataRange1d\",\"id\":\"p9156\"},\"y_range\":{\"type\":\"object\",\"name\":\"DataRange1d\",\"id\":\"p9157\"},\"x_scale\":{\"type\":\"object\",\"name\":\"LinearScale\",\"id\":\"p9164\"},\"y_scale\":{\"type\":\"object\",\"name\":\"LinearScale\",\"id\":\"p9165\"},\"title\":{\"type\":\"object\",\"name\":\"Title\",\"id\":\"p9162\"},\"renderers\":[{\"type\":\"object\",\"name\":\"GlyphRenderer\",\"id\":\"p9193\",\"attributes\":{\"data_source\":{\"type\":\"object\",\"name\":\"ColumnDataSource\",\"id\":\"p9187\",\"attributes\":{\"selected\":{\"type\":\"object\",\"name\":\"Selection\",\"id\":\"p9188\",\"attributes\":{\"indices\":[],\"line_indices\":[]}},\"selection_policy\":{\"type\":\"object\",\"name\":\"UnionRenderers\",\"id\":\"p9189\"},\"data\":{\"type\":\"map\",\"entries\":[[\"x\",[332.891,333.091,333.091,333.091,334.091125,334.091125,334.091125,334.095125,334.095125,334.095125,335.0955625,335.0955625,335.0955625,336.0955,336.0955,336.0955,337.0885,337.0885,337.0885,337.2885]],[\"y\",[0,0,0.7806460744469201,0,0,0.006245168595575361,0,0,0.1541247667333435,0,0,0.05462127746170614,0,0,0.007630968954231516,0,0,0.00044167895460932424,0,0]]]}}},\"view\":{\"type\":\"object\",\"name\":\"CDSView\",\"id\":\"p9194\",\"attributes\":{\"filter\":{\"type\":\"object\",\"name\":\"AllIndices\",\"id\":\"p9195\"}}},\"glyph\":{\"type\":\"object\",\"name\":\"Line\",\"id\":\"p9190\",\"attributes\":{\"x\":{\"type\":\"field\",\"field\":\"x\"},\"y\":{\"type\":\"field\",\"field\":\"y\"},\"line_color\":\"#1f77b4\"}},\"nonselection_glyph\":{\"type\":\"object\",\"name\":\"Line\",\"id\":\"p9191\",\"attributes\":{\"x\":{\"type\":\"field\",\"field\":\"x\"},\"y\":{\"type\":\"field\",\"field\":\"y\"},\"line_color\":\"#1f77b4\",\"line_alpha\":0.1}},\"muted_glyph\":{\"type\":\"object\",\"name\":\"Line\",\"id\":\"p9192\",\"attributes\":{\"x\":{\"type\":\"field\",\"field\":\"x\"},\"y\":{\"type\":\"field\",\"field\":\"y\"},\"line_color\":\"#1f77b4\",\"line_alpha\":0.2}}}}],\"toolbar\":{\"type\":\"object\",\"name\":\"Toolbar\",\"id\":\"p9163\",\"attributes\":{\"tools\":[{\"type\":\"object\",\"name\":\"PanTool\",\"id\":\"p9176\"},{\"type\":\"object\",\"name\":\"WheelZoomTool\",\"id\":\"p9177\",\"attributes\":{\"renderers\":\"auto\"}},{\"type\":\"object\",\"name\":\"BoxZoomTool\",\"id\":\"p9178\",\"attributes\":{\"overlay\":{\"type\":\"object\",\"name\":\"BoxAnnotation\",\"id\":\"p9179\",\"attributes\":{\"syncable\":false,\"level\":\"overlay\",\"visible\":false,\"left\":{\"type\":\"number\",\"value\":\"nan\"},\"right\":{\"type\":\"number\",\"value\":\"nan\"},\"top\":{\"type\":\"number\",\"value\":\"nan\"},\"bottom\":{\"type\":\"number\",\"value\":\"nan\"},\"left_units\":\"canvas\",\"right_units\":\"canvas\",\"top_units\":\"canvas\",\"bottom_units\":\"canvas\",\"line_color\":\"black\",\"line_alpha\":1.0,\"line_width\":2,\"line_dash\":[4,4],\"fill_color\":\"lightgrey\",\"fill_alpha\":0.5}}}},{\"type\":\"object\",\"name\":\"SaveTool\",\"id\":\"p9184\"},{\"type\":\"object\",\"name\":\"ResetTool\",\"id\":\"p9185\"},{\"type\":\"object\",\"name\":\"HelpTool\",\"id\":\"p9186\"}]}},\"toolbar_location\":null,\"left\":[{\"type\":\"object\",\"name\":\"LinearAxis\",\"id\":\"p9171\",\"attributes\":{\"ticker\":{\"type\":\"object\",\"name\":\"BasicTicker\",\"id\":\"p9172\",\"attributes\":{\"mantissas\":[1,2,5]}},\"formatter\":{\"type\":\"object\",\"name\":\"BasicTickFormatter\",\"id\":\"p9173\"},\"major_label_policy\":{\"type\":\"object\",\"name\":\"AllLabels\",\"id\":\"p9174\"}}}],\"below\":[{\"type\":\"object\",\"name\":\"LinearAxis\",\"id\":\"p9166\",\"attributes\":{\"ticker\":{\"type\":\"object\",\"name\":\"BasicTicker\",\"id\":\"p9167\",\"attributes\":{\"mantissas\":[1,2,5]}},\"formatter\":{\"type\":\"object\",\"name\":\"BasicTickFormatter\",\"id\":\"p9168\"},\"major_label_policy\":{\"type\":\"object\",\"name\":\"AllLabels\",\"id\":\"p9169\"}}}],\"center\":[{\"type\":\"object\",\"name\":\"Grid\",\"id\":\"p9170\",\"attributes\":{\"axis\":{\"id\":\"p9166\"}}},{\"type\":\"object\",\"name\":\"Grid\",\"id\":\"p9175\",\"attributes\":{\"dimension\":1,\"axis\":{\"id\":\"p9171\"}}},{\"type\":\"object\",\"name\":\"Legend\",\"id\":\"p9196\",\"attributes\":{\"items\":[{\"type\":\"object\",\"name\":\"LegendItem\",\"id\":\"p9197\",\"attributes\":{\"label\":{\"type\":\"value\",\"value\":\"Mass spectrum\"},\"renderers\":[{\"id\":\"p9193\"}]}}]}},{\"id\":\"p9198\"}]}}]}},{\"type\":\"object\",\"name\":\"Column\",\"id\":\"p9223\",\"attributes\":{\"children\":[{\"type\":\"object\",\"name\":\"Div\",\"id\":\"p9206\",\"attributes\":{\"text\":\"<img src=\\\"data:image/png;base64,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\\\" style=\\\"width:350px;height:350px;\\\">\"}},{\"type\":\"object\",\"name\":\"DataTable\",\"id\":\"p9217\",\"attributes\":{\"width\":250,\"height\":560,\"source\":{\"type\":\"object\",\"name\":\"ColumnDataSource\",\"id\":\"p9207\",\"attributes\":{\"selected\":{\"type\":\"object\",\"name\":\"Selection\",\"id\":\"p9208\",\"attributes\":{\"indices\":[],\"line_indices\":[]}},\"selection_policy\":{\"type\":\"object\",\"name\":\"UnionRenderers\",\"id\":\"p9209\"},\"data\":{\"type\":\"map\",\"entries\":[[\"groups\",[\"Carboxylic Acid\",\"Amide\",\"Amide\",\"Amine\",\"Sulfide\",\"Benzene\"]],[\"images\",[\"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\",\"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\",\"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\",\"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\",\"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\",\"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\"]]]}}},\"view\":{\"type\":\"object\",\"name\":\"CDSView\",\"id\":\"p9221\",\"attributes\":{\"filter\":{\"type\":\"object\",\"name\":\"AllIndices\",\"id\":\"p9222\"}}},\"columns\":[{\"type\":\"object\",\"name\":\"TableColumn\",\"id\":\"p9210\",\"attributes\":{\"field\":\"groups\",\"title\":\"Functional Groups\",\"formatter\":{\"type\":\"object\",\"name\":\"StringFormatter\",\"id\":\"p9211\"},\"editor\":{\"type\":\"object\",\"name\":\"StringEditor\",\"id\":\"p9212\"}}},{\"type\":\"object\",\"name\":\"TableColumn\",\"id\":\"p9214\",\"attributes\":{\"field\":\"images\",\"title\":\"Images\",\"width\":200,\"formatter\":{\"type\":\"object\",\"name\":\"HTMLTemplateFormatter\",\"id\":\"p9213\",\"attributes\":{\"template\":\"\\n    <div>\\n        <img src=\\\"data:image/png;base64, <%= value %>\\\" style=\\\"width:50px;height:50px;\\\">\\n    </div>\\n    \"}},\"editor\":{\"type\":\"object\",\"name\":\"StringEditor\",\"id\":\"p9216\"}}}],\"row_height\":60}}]}}]}}],\"defs\":[{\"type\":\"model\",\"name\":\"ReactiveHTML1\"},{\"type\":\"model\",\"name\":\"FlexBox1\",\"properties\":[{\"name\":\"align_content\",\"kind\":\"Any\",\"default\":\"flex-start\"},{\"name\":\"align_items\",\"kind\":\"Any\",\"default\":\"flex-start\"},{\"name\":\"flex_direction\",\"kind\":\"Any\",\"default\":\"row\"},{\"name\":\"flex_wrap\",\"kind\":\"Any\",\"default\":\"wrap\"},{\"name\":\"gap\",\"kind\":\"Any\",\"default\":\"\"},{\"name\":\"justify_content\",\"kind\":\"Any\",\"default\":\"flex-start\"}]},{\"type\":\"model\",\"name\":\"FloatPanel1\",\"properties\":[{\"name\":\"config\",\"kind\":\"Any\",\"default\":{\"type\":\"map\"}},{\"name\":\"contained\",\"kind\":\"Any\",\"default\":true},{\"name\":\"position\",\"kind\":\"Any\",\"default\":\"right-top\"},{\"name\":\"offsetx\",\"kind\":\"Any\",\"default\":null},{\"name\":\"offsety\",\"kind\":\"Any\",\"default\":null},{\"name\":\"theme\",\"kind\":\"Any\",\"default\":\"primary\"},{\"name\":\"status\",\"kind\":\"Any\",\"default\":\"normalized\"}]},{\"type\":\"model\",\"name\":\"GridStack1\",\"properties\":[{\"name\":\"mode\",\"kind\":\"Any\",\"default\":\"warn\"},{\"name\":\"ncols\",\"kind\":\"Any\",\"default\":null},{\"name\":\"nrows\",\"kind\":\"Any\",\"default\":null},{\"name\":\"allow_resize\",\"kind\":\"Any\",\"default\":true},{\"name\":\"allow_drag\",\"kind\":\"Any\",\"default\":true},{\"name\":\"state\",\"kind\":\"Any\",\"default\":[]}]},{\"type\":\"model\",\"name\":\"drag1\",\"properties\":[{\"name\":\"slider_width\",\"kind\":\"Any\",\"default\":5},{\"name\":\"slider_color\",\"kind\":\"Any\",\"default\":\"black\"},{\"name\":\"value\",\"kind\":\"Any\",\"default\":50}]},{\"type\":\"model\",\"name\":\"click1\",\"properties\":[{\"name\":\"terminal_output\",\"kind\":\"Any\",\"default\":\"\"},{\"name\":\"debug_name\",\"kind\":\"Any\",\"default\":\"\"},{\"name\":\"clears\",\"kind\":\"Any\",\"default\":0}]},{\"type\":\"model\",\"name\":\"FastWrapper1\",\"properties\":[{\"name\":\"object\",\"kind\":\"Any\",\"default\":null},{\"name\":\"style\",\"kind\":\"Any\",\"default\":null}]},{\"type\":\"model\",\"name\":\"NotificationAreaBase1\",\"properties\":[{\"name\":\"js_events\",\"kind\":\"Any\",\"default\":{\"type\":\"map\"}},{\"name\":\"position\",\"kind\":\"Any\",\"default\":\"bottom-right\"},{\"name\":\"_clear\",\"kind\":\"Any\",\"default\":0}]},{\"type\":\"model\",\"name\":\"NotificationArea1\",\"properties\":[{\"name\":\"js_events\",\"kind\":\"Any\",\"default\":{\"type\":\"map\"}},{\"name\":\"notifications\",\"kind\":\"Any\",\"default\":[]},{\"name\":\"position\",\"kind\":\"Any\",\"default\":\"bottom-right\"},{\"name\":\"_clear\",\"kind\":\"Any\",\"default\":0},{\"name\":\"types\",\"kind\":\"Any\",\"default\":[{\"type\":\"map\",\"entries\":[[\"type\",\"warning\"],[\"background\",\"#ffc107\"],[\"icon\",{\"type\":\"map\",\"entries\":[[\"className\",\"fas fa-exclamation-triangle\"],[\"tagName\",\"i\"],[\"color\",\"white\"]]}]]},{\"type\":\"map\",\"entries\":[[\"type\",\"info\"],[\"background\",\"#007bff\"],[\"icon\",{\"type\":\"map\",\"entries\":[[\"className\",\"fas fa-info-circle\"],[\"tagName\",\"i\"],[\"color\",\"white\"]]}]]}]}]},{\"type\":\"model\",\"name\":\"Notification\",\"properties\":[{\"name\":\"background\",\"kind\":\"Any\",\"default\":null},{\"name\":\"duration\",\"kind\":\"Any\",\"default\":3000},{\"name\":\"icon\",\"kind\":\"Any\",\"default\":null},{\"name\":\"message\",\"kind\":\"Any\",\"default\":\"\"},{\"name\":\"notification_type\",\"kind\":\"Any\",\"default\":null},{\"name\":\"_destroyed\",\"kind\":\"Any\",\"default\":false}]},{\"type\":\"model\",\"name\":\"TemplateActions1\",\"properties\":[{\"name\":\"open_modal\",\"kind\":\"Any\",\"default\":0},{\"name\":\"close_modal\",\"kind\":\"Any\",\"default\":0}]},{\"type\":\"model\",\"name\":\"BootstrapTemplateActions1\",\"properties\":[{\"name\":\"open_modal\",\"kind\":\"Any\",\"default\":0},{\"name\":\"close_modal\",\"kind\":\"Any\",\"default\":0}]},{\"type\":\"model\",\"name\":\"TemplateEditor1\",\"properties\":[{\"name\":\"layout\",\"kind\":\"Any\",\"default\":[]}]},{\"type\":\"model\",\"name\":\"MaterialTemplateActions1\",\"properties\":[{\"name\":\"open_modal\",\"kind\":\"Any\",\"default\":0},{\"name\":\"close_modal\",\"kind\":\"Any\",\"default\":0}]},{\"type\":\"model\",\"name\":\"copy_to_clipboard1\",\"properties\":[{\"name\":\"fill\",\"kind\":\"Any\",\"default\":\"none\"},{\"name\":\"value\",\"kind\":\"Any\",\"default\":null}]}]}};\n  const render_items = [{\"docid\":\"5918b2d3-3b73-44a1-8a63-0ee820a2003a\",\"roots\":{\"p9224\":\"b65750e3-78a3-4690-b880-598a043f5c57\"},\"root_ids\":[\"p9224\"]}];\n  void root.Bokeh.embed.embed_items_notebook(docs_json, render_items);\n  }\n  if (root.Bokeh !== undefined) {\n    embed_document(root);\n  } else {\n    let attempts = 0;\n    const timer = setInterval(function(root) {\n      if (root.Bokeh !== undefined) {\n        clearInterval(timer);\n        embed_document(root);\n      } else {\n        attempts++;\n        if (attempts > 100) {\n          clearInterval(timer);\n          console.log(\"Bokeh: ERROR: Unable to run BokehJS code because BokehJS library is missing\");\n        }\n      }\n    }, 10, root)\n  }\n})(window);",
      "application/vnd.bokehjs_exec.v0+json": ""
     },
     "metadata": {
      "application/vnd.bokehjs_exec.v0+json": {
       "id": "p9224"
      }
     },
     "output_type": "display_data"
    }
   ],
   "source": [
    "import MASSiveChem.MASSiveChem as MC\n",
    "from bokeh.plotting import show\n",
    "\n",
    "mol_smi = 'CC1(C(N2C(S1)C(C2=O)NC(=O)CC3=CC=CC=C3)C(=O)O)C'\n",
    "imprecision = True\n",
    "apparatus_resolution = 0.01\n",
    "\n",
    "spectrum = MC.spectrum(mol_smi, imprecision, apparatus_resolution)\n",
    "\n",
    "show(spectrum)"
   ]
  },
  {
   "cell_type": "markdown",
   "metadata": {},
   "source": [
    "Finally, if you want to add the interactive 3D plot of the molecule you can use the following function\n",
    "\n",
    "## spectrum_3D(mol_smi, imprecision_True_False, apparatus_resolution)\n",
    "\n",
    "The function takes the same inputs as spectrum but adds the 3D interactive plot to the spectrum\n",
    "\n",
    "This function uses panel to combine bokeh and plotly graphs. Hence, if one wants to use the function several times, make sure to run it in a different terminal each time or the function will run indefinitely"
   ]
  },
  {
   "cell_type": "code",
   "execution_count": null,
   "metadata": {},
   "outputs": [],
   "source": [
    "import MASSiveChem.MASSiveChem as MC\n",
    "\n",
    "mol_smi = 'CC1(C(N2C(S1)C(C2=O)NC(=O)CC3=CC=CC=C3)C(=O)O)C'\n",
    "imprecision = True\n",
    "apparatus_resolution = 0.01\n",
    "\n",
    "spectrum = MC.spectrum_3D(mol_smi, imprecision, apparatus_resolution)\n",
    "\n",
    "spectrum.show()"
   ]
  },
  {
   "cell_type": "markdown",
   "metadata": {},
   "source": [
    "### Thanks for reading the notebook ! Hope you find it useful and interesting."
   ]
  }
 ],
 "metadata": {
  "kernelspec": {
   "display_name": "ppchem",
   "language": "python",
   "name": "python3"
  },
  "language_info": {
   "codemirror_mode": {
    "name": "ipython",
    "version": 3
   },
   "file_extension": ".py",
   "mimetype": "text/x-python",
   "name": "python",
   "nbconvert_exporter": "python",
   "pygments_lexer": "ipython3",
   "version": "3.10.12"
  }
 },
 "nbformat": 4,
 "nbformat_minor": 2
}
